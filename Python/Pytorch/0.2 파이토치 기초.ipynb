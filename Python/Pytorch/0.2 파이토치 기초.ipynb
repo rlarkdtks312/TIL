{
 "cells": [
  {
   "cell_type": "markdown",
   "id": "deb053cb",
   "metadata": {},
   "source": [
    "#### Pytorch wiki 참고\n",
    "https://wikidocs.net/62306"
   ]
  },
  {
   "cell_type": "markdown",
   "id": "19724075",
   "metadata": {},
   "source": [
    "## 02-01 파이토치 패키지의 기본"
   ]
  },
  {
   "cell_type": "markdown",
   "id": "926c5dbd",
   "metadata": {},
   "source": [
    "1. torch\n",
    "메인 네임스페이스입니다. 텐서 등의 다양한 수학 함수가 포함되어져 있으며 Numpy와 유사한 구조를 가집니다.\n",
    "\n",
    "2. torch.autograd\n",
    "자동 미분을 위한 함수들이 포함되어져 있습니다. 자동 미분의 on/off를 제어하는 콘텍스트 매니저(enable_grad/no_grad)나 자체 미분 가능 함수를 정의할 때 사용하는 기반 클래스인 'Function' 등이 포함되어져 있습니다.\n",
    "\n",
    "3. torch.nn\n",
    "신경망을 구축하기 위한 다양한 데이터 구조나 레이어 등이 정의되어져 있습니다. 예를 들어 RNN, LSTM과 같은 레이어, ReLU와 같은 활성화 함수, MSELoss와 같은 손실 함수들이 있습니다.\n",
    "\n",
    "4. torch.optim\n",
    "확률적 경사 하강법(Stochastic Gradient Descent, SGD)를 중심으로 한 파라미터 최적화 알고리즘이 구현되어져 있습니다.\n",
    "\n",
    "5. torch.utils.data\n",
    "SGD의 반복 연산을 실행할 때 사용하는 미니 배치용 유틸리티 함수가 포함되어져 있습니다.\n",
    "\n",
    "6. torch.onnx\n",
    "ONNX(Open Neural Network Exchange)의 포맷으로 모델을 익스포트(export)할 때 사용합니다. ONNX는 서로 다른 딥 러닝 프레임워크 간에 모델을 공유할 때 사용하는 포맷입니다."
   ]
  },
  {
   "cell_type": "markdown",
   "id": "ce305b41",
   "metadata": {},
   "source": [
    "## 02-02 텐서 조작하기"
   ]
  },
  {
   "cell_type": "markdown",
   "id": "a3b8e0d1",
   "metadata": {},
   "source": [
    "### 1. 벡터, 행렬 그리고 텐서(Vector, Matrix and Tensor)\n",
    "- 벡터 : 1차원 텐서\n",
    "- 행렬 : 2차원 텐서\n",
    "- 텐서 : 3차원 이상의 텐서"
   ]
  },
  {
   "cell_type": "markdown",
   "id": "6acb393a",
   "metadata": {},
   "source": [
    "### 2. 넘파이로 텐서 만들기"
   ]
  },
  {
   "cell_type": "code",
   "execution_count": 1,
   "id": "e429206d",
   "metadata": {},
   "outputs": [],
   "source": [
    "import numpy as np"
   ]
  },
  {
   "cell_type": "code",
   "execution_count": 2,
   "id": "ab07402a",
   "metadata": {},
   "outputs": [
    {
     "name": "stdout",
     "output_type": "stream",
     "text": [
      "[0. 1. 2. 3. 4. 5. 6.]\n"
     ]
    }
   ],
   "source": [
    "t = np.array([0., 1., 2., 3., 4., 5., 6.])\n",
    "# 파이썬으로 설명하면 List를 생성해 np.array로 1차원 array로 1차원 array호 변환함.\n",
    "print(t)"
   ]
  },
  {
   "cell_type": "code",
   "execution_count": 3,
   "id": "4b892556",
   "metadata": {},
   "outputs": [
    {
     "name": "stdout",
     "output_type": "stream",
     "text": [
      "Rank of t:  1\n",
      "Shape of t:  (7,)\n"
     ]
    }
   ],
   "source": [
    "print('Rank of t: ', t.ndim)\n",
    "print('Shape of t: ', t.shape)"
   ]
  },
  {
   "cell_type": "markdown",
   "id": "1b950fa3",
   "metadata": {},
   "source": [
    "- .ndim은 몇 차원인지를 출력합니다. 현재 백터이므로 1차원이 출력 됩니다.\n",
    "- .shape는 크기를 췰력합니다. (7,)는 (1,7)을 의미합니다."
   ]
  },
  {
   "cell_type": "markdown",
   "id": "3989305a",
   "metadata": {},
   "source": [
    "### 3. 파이토치 텐서 선언하기"
   ]
  },
  {
   "cell_type": "markdown",
   "id": "d9593573",
   "metadata": {},
   "source": [
    "#### 1D with PyTorch"
   ]
  },
  {
   "cell_type": "code",
   "execution_count": 4,
   "id": "3eb17df8",
   "metadata": {},
   "outputs": [],
   "source": [
    "import torch"
   ]
  },
  {
   "cell_type": "code",
   "execution_count": 5,
   "id": "05367fcf",
   "metadata": {},
   "outputs": [
    {
     "name": "stdout",
     "output_type": "stream",
     "text": [
      "tensor([0., 1., 2., 3., 4., 5., 6.])\n"
     ]
    }
   ],
   "source": [
    "t = torch.FloatTensor([0., 1., 2., 3., 4., 5., 6.])\n",
    "print(t)"
   ]
  },
  {
   "cell_type": "code",
   "execution_count": 6,
   "id": "a60258d2",
   "metadata": {},
   "outputs": [
    {
     "name": "stdout",
     "output_type": "stream",
     "text": [
      "1\n",
      "torch.Size([7])\n",
      "torch.Size([7])\n"
     ]
    }
   ],
   "source": [
    "print(t.dim())   # rank\n",
    "print(t.shape) # shape\n",
    "print(t.size())  # shape"
   ]
  },
  {
   "cell_type": "markdown",
   "id": "f220e056",
   "metadata": {},
   "source": [
    "- 현재 1차원 텐서이며, 원소는 7개입니다."
   ]
  },
  {
   "cell_type": "markdown",
   "id": "8e6b2dd2",
   "metadata": {},
   "source": [
    "#### 2D with PyTorch"
   ]
  },
  {
   "cell_type": "code",
   "execution_count": 7,
   "id": "2cc63aec",
   "metadata": {},
   "outputs": [
    {
     "name": "stdout",
     "output_type": "stream",
     "text": [
      "tensor([[ 1.,  2.,  3.],\n",
      "        [ 4.,  5.,  6.],\n",
      "        [ 7.,  8.,  9.],\n",
      "        [10., 11., 12.]])\n"
     ]
    }
   ],
   "source": [
    "t = torch.FloatTensor([[1, 2, 3],\n",
    "                      [4, 5, 6],\n",
    "                      [7, 8, 9],\n",
    "                      [10, 11, 12]])\n",
    "print(t)"
   ]
  },
  {
   "cell_type": "code",
   "execution_count": 8,
   "id": "6a2cc5a4",
   "metadata": {},
   "outputs": [
    {
     "name": "stdout",
     "output_type": "stream",
     "text": [
      "2\n",
      "torch.Size([4, 3])\n",
      "torch.Size([4, 3])\n"
     ]
    }
   ],
   "source": [
    "print(t.dim())\n",
    "print(t.shape)\n",
    "print(t.size())"
   ]
  },
  {
   "cell_type": "markdown",
   "id": "1e0e86a3",
   "metadata": {},
   "source": [
    "#### 브로드캐스팅(Broadcasting)"
   ]
  },
  {
   "cell_type": "code",
   "execution_count": 9,
   "id": "88c9163d",
   "metadata": {},
   "outputs": [
    {
     "name": "stdout",
     "output_type": "stream",
     "text": [
      "tensor([[5., 5.]])\n"
     ]
    }
   ],
   "source": [
    "m1 = torch.FloatTensor([[3, 3]])\n",
    "m2 = torch.FloatTensor([[2, 2]])\n",
    "print(m1 + m2)"
   ]
  },
  {
   "cell_type": "markdown",
   "id": "98f05761",
   "metadata": {},
   "source": [
    "- m1, m2의 크기가 같아 문제 없이 덧셈 연산이 가능"
   ]
  },
  {
   "cell_type": "code",
   "execution_count": 10,
   "id": "8ca053b5",
   "metadata": {},
   "outputs": [
    {
     "name": "stdout",
     "output_type": "stream",
     "text": [
      "tensor([[4., 5.]])\n"
     ]
    }
   ],
   "source": [
    "# Vector + scalar\n",
    "m1 = torch.FloatTensor([[1, 2]])\n",
    "m2 = torch.FloatTensor([3]) # [3] -> [3, 3]\n",
    "print(m1 + m2)"
   ]
  },
  {
   "cell_type": "markdown",
   "id": "b6271f8c",
   "metadata": {},
   "source": [
    "- 크기가 다른 텐서들 간의 연산 브로드캐스팅을 통해 이를 연산"
   ]
  },
  {
   "cell_type": "code",
   "execution_count": 11,
   "id": "a0892a17",
   "metadata": {},
   "outputs": [
    {
     "name": "stdout",
     "output_type": "stream",
     "text": [
      "tensor([[4., 5.],\n",
      "        [5., 6.]])\n"
     ]
    }
   ],
   "source": [
    "# 2 x 1 Vector + 1 x 2 Vector\n",
    "m1 = torch.FloatTensor([[1, 2]])\n",
    "m2 = torch.FloatTensor([[3], [4]])\n",
    "print(m1 + m2)"
   ]
  },
  {
   "cell_type": "markdown",
   "id": "02f6a323",
   "metadata": {},
   "source": [
    "- (1,2) (2,1) 텐서들 간의 연산 불가능하나 2x2 텐서로 만들어 연산 사용에 주의"
   ]
  },
  {
   "cell_type": "markdown",
   "id": "3b0eb795",
   "metadata": {},
   "source": [
    "#### 자주 사용되는 기능들"
   ]
  },
  {
   "cell_type": "code",
   "execution_count": 12,
   "id": "be42aaae",
   "metadata": {},
   "outputs": [
    {
     "name": "stdout",
     "output_type": "stream",
     "text": [
      "Shape of Matrix 1:  torch.Size([2, 2])\n",
      "Shape of Matrix 2:  torch.Size([2, 1])\n",
      "tensor([[ 5.],\n",
      "        [11.]])\n"
     ]
    }
   ],
   "source": [
    "m1 = torch.FloatTensor([[1, 2], [3, 4]])\n",
    "m2 = torch.FloatTensor([[1], [2]])\n",
    "print('Shape of Matrix 1: ', m1.shape) # 2 x 2\n",
    "print('Shape of Matrix 2: ', m2.shape) # 2 x 1\n",
    "print(m1.matmul(m2)) # 2 x 1"
   ]
  },
  {
   "cell_type": "markdown",
   "id": "81027fd5",
   "metadata": {},
   "source": [
    "- matmul() 통해 행렬 곱셈 수행"
   ]
  },
  {
   "cell_type": "code",
   "execution_count": 13,
   "id": "76ae00eb",
   "metadata": {},
   "outputs": [
    {
     "name": "stdout",
     "output_type": "stream",
     "text": [
      "Shape of Matrix 1:  torch.Size([2, 2])\n",
      "Shape of Matrix 2:  torch.Size([2, 1])\n",
      "tensor([[1., 2.],\n",
      "        [6., 8.]])\n",
      "tensor([[1., 2.],\n",
      "        [6., 8.]])\n"
     ]
    }
   ],
   "source": [
    "m1 = torch.FloatTensor([[1, 2], [3, 4]])\n",
    "m2 = torch.FloatTensor([[1], [2]])\n",
    "print('Shape of Matrix 1: ', m1.shape) # 2 x 2\n",
    "print('Shape of Matrix 2: ', m2.shape) # 2 x 1\n",
    "print(m1 * m2) # 2 x 2\n",
    "print(m1.mul(m2))"
   ]
  },
  {
   "cell_type": "markdown",
   "id": "c25dd628",
   "metadata": {},
   "source": [
    "- \\* 또는 mul() 통해 element-wise, 동일 위치 원소 곱셈 수행"
   ]
  },
  {
   "cell_type": "code",
   "execution_count": 14,
   "id": "80aa656d",
   "metadata": {},
   "outputs": [
    {
     "name": "stdout",
     "output_type": "stream",
     "text": [
      "tensor([[1., 2.],\n",
      "        [3., 4.]])\n"
     ]
    }
   ],
   "source": [
    "t = torch.FloatTensor([[1, 2], [3, 4]])\n",
    "print(t)"
   ]
  },
  {
   "cell_type": "code",
   "execution_count": 15,
   "id": "45f26241",
   "metadata": {},
   "outputs": [
    {
     "name": "stdout",
     "output_type": "stream",
     "text": [
      "tensor(2.5000)\n"
     ]
    }
   ],
   "source": [
    "print(t.mean())"
   ]
  },
  {
   "cell_type": "code",
   "execution_count": 16,
   "id": "6bb359e1",
   "metadata": {},
   "outputs": [
    {
     "name": "stdout",
     "output_type": "stream",
     "text": [
      "tensor([2., 3.])\n"
     ]
    }
   ],
   "source": [
    "print(t.mean(dim=0))"
   ]
  },
  {
   "cell_type": "markdown",
   "id": "86333960",
   "metadata": {},
   "source": [
    "- mean 함수 내 dim 인자에 0을 주면 행 차원을 제거한다는 의미이다. 따라서 열 데이터 간의 평균 값이 나온다"
   ]
  },
  {
   "cell_type": "code",
   "execution_count": 17,
   "id": "aaab83df",
   "metadata": {},
   "outputs": [
    {
     "name": "stdout",
     "output_type": "stream",
     "text": [
      "tensor([1.5000, 3.5000])\n"
     ]
    }
   ],
   "source": [
    "print(t.mean(dim=1))"
   ]
  },
  {
   "cell_type": "markdown",
   "id": "71637b56",
   "metadata": {},
   "source": [
    "- mean 함수 내 dim 인자에 1을 주면 열 차원을 제거한다는 의미이다. 따라서 행 데이터 간의 평균 값이 나온다"
   ]
  },
  {
   "cell_type": "code",
   "execution_count": 18,
   "id": "ef5673ac",
   "metadata": {},
   "outputs": [
    {
     "name": "stdout",
     "output_type": "stream",
     "text": [
      "tensor([[1., 2.],\n",
      "        [3., 4.]])\n"
     ]
    }
   ],
   "source": [
    "t = torch.FloatTensor([[1, 2], [3, 4]])\n",
    "print(t)"
   ]
  },
  {
   "cell_type": "code",
   "execution_count": 19,
   "id": "af64e0d1",
   "metadata": {},
   "outputs": [
    {
     "name": "stdout",
     "output_type": "stream",
     "text": [
      "tensor(4.)\n"
     ]
    }
   ],
   "source": [
    "print(t.max()) # Returns one value: max"
   ]
  },
  {
   "cell_type": "code",
   "execution_count": 20,
   "id": "3a16514e",
   "metadata": {},
   "outputs": [
    {
     "name": "stdout",
     "output_type": "stream",
     "text": [
      "torch.return_types.max(\n",
      "values=tensor([3., 4.]),\n",
      "indices=tensor([1, 1]))\n"
     ]
    }
   ],
   "source": [
    "print(t.max(dim=0)) # Returns two values: max and argmax"
   ]
  },
  {
   "cell_type": "markdown",
   "id": "291e09b7",
   "metadata": {},
   "source": [
    "- dim 인자로 0을 주면 행 차원을 제거한 최대값 출력\n",
    "- dim 인자를 주면 argmax도 함께 리턴하는 특징이 있음"
   ]
  },
  {
   "cell_type": "markdown",
   "id": "387bcaa1",
   "metadata": {},
   "source": [
    "## 02-03 텐서 조작하기2"
   ]
  },
  {
   "cell_type": "markdown",
   "id": "7d7c42a7",
   "metadata": {},
   "source": [
    "### 4) 뷰(View) - 원소의 수를 유지하면서 텐서의 크기 변경. 매우 중요!"
   ]
  },
  {
   "cell_type": "code",
   "execution_count": 21,
   "id": "0e991e3a",
   "metadata": {},
   "outputs": [],
   "source": [
    "t = np.array([[[0, 1, 2],\n",
    "               [3, 4, 5]],\n",
    "              [[6, 7, 8],\n",
    "               [9, 10, 11]]])\n",
    "ft = torch.FloatTensor(t)"
   ]
  },
  {
   "cell_type": "code",
   "execution_count": 22,
   "id": "a90788ce",
   "metadata": {},
   "outputs": [
    {
     "name": "stdout",
     "output_type": "stream",
     "text": [
      "torch.Size([2, 2, 3])\n"
     ]
    }
   ],
   "source": [
    "print(ft.shape)"
   ]
  },
  {
   "cell_type": "markdown",
   "id": "159fc418",
   "metadata": {},
   "source": [
    "### 4-1) 3차원 텐서에서 2차원 텐서로 변경"
   ]
  },
  {
   "cell_type": "code",
   "execution_count": 23,
   "id": "fae5baed",
   "metadata": {},
   "outputs": [
    {
     "name": "stdout",
     "output_type": "stream",
     "text": [
      "tensor([[ 0.,  1.,  2.],\n",
      "        [ 3.,  4.,  5.],\n",
      "        [ 6.,  7.,  8.],\n",
      "        [ 9., 10., 11.]])\n",
      "torch.Size([4, 3])\n"
     ]
    }
   ],
   "source": [
    "print(ft.view([-1, 3])) # ft라는 텐서를 (?, 3)의 크기로 변경\n",
    "print(ft.view([-1, 3]).shape)"
   ]
  },
  {
   "cell_type": "markdown",
   "id": "cf962682",
   "metadata": {},
   "source": [
    "- view는 기본적으로 변경 정과 변경 후의 텐서 안의 원소의 개수가 유지되어야 함\n",
    "- view 사이즈가 -1로 설정되면 다른 차원으로부터 해당 값을 유추함"
   ]
  },
  {
   "cell_type": "markdown",
   "id": "97a47d5c",
   "metadata": {},
   "source": [
    "### 4-2) 3차원 텐서의 크기 변경"
   ]
  },
  {
   "cell_type": "code",
   "execution_count": 24,
   "id": "4e57682c",
   "metadata": {},
   "outputs": [
    {
     "name": "stdout",
     "output_type": "stream",
     "text": [
      "tensor([[[ 0.,  1.,  2.]],\n",
      "\n",
      "        [[ 3.,  4.,  5.]],\n",
      "\n",
      "        [[ 6.,  7.,  8.]],\n",
      "\n",
      "        [[ 9., 10., 11.]]])\n",
      "torch.Size([4, 1, 3])\n"
     ]
    }
   ],
   "source": [
    "print(ft.view([-1, 1, 3]))\n",
    "print(ft.view([-1, 1, 3]).shape)"
   ]
  },
  {
   "cell_type": "markdown",
   "id": "802688b0",
   "metadata": {},
   "source": [
    "### 5) 스퀴즈(Squeeze) - 1인 차원을 제거한다."
   ]
  },
  {
   "cell_type": "code",
   "execution_count": 25,
   "id": "aafa445a",
   "metadata": {},
   "outputs": [
    {
     "name": "stdout",
     "output_type": "stream",
     "text": [
      "tensor([[0.],\n",
      "        [1.],\n",
      "        [2.]])\n",
      "torch.Size([3, 1])\n"
     ]
    }
   ],
   "source": [
    "ft = torch.FloatTensor([[0], [1], [2]])\n",
    "print(ft)\n",
    "print(ft.shape)"
   ]
  },
  {
   "cell_type": "code",
   "execution_count": 26,
   "id": "41d343b3",
   "metadata": {},
   "outputs": [
    {
     "name": "stdout",
     "output_type": "stream",
     "text": [
      "tensor([0., 1., 2.])\n",
      "torch.Size([3])\n"
     ]
    }
   ],
   "source": [
    "print(ft.squeeze())\n",
    "print(ft.squeeze().shape)"
   ]
  },
  {
   "cell_type": "markdown",
   "id": "3a2b12ab",
   "metadata": {},
   "source": [
    "- 1이었던 두번째 차원이 제거됨"
   ]
  },
  {
   "cell_type": "markdown",
   "id": "724c9e1d",
   "metadata": {},
   "source": [
    "### 6) 언스퀴즈(Unsqueeze) - 특정 위치에 1인 차원을 추가한다."
   ]
  },
  {
   "cell_type": "code",
   "execution_count": 27,
   "id": "11f5ac91",
   "metadata": {},
   "outputs": [
    {
     "name": "stdout",
     "output_type": "stream",
     "text": [
      "torch.Size([3])\n"
     ]
    }
   ],
   "source": [
    "ft = torch.Tensor([0, 1, 2])\n",
    "print(ft.shape)"
   ]
  },
  {
   "cell_type": "code",
   "execution_count": 28,
   "id": "d28664d8",
   "metadata": {},
   "outputs": [
    {
     "name": "stdout",
     "output_type": "stream",
     "text": [
      "tensor([[0., 1., 2.]])\n",
      "torch.Size([1, 3])\n"
     ]
    }
   ],
   "source": [
    "print(ft.unsqueeze(0)) # 인덱스가 0부터 시작하므로 0은 첫번째 차원을 의미한다.\n",
    "print(ft.unsqueeze(0).shape)"
   ]
  },
  {
   "cell_type": "markdown",
   "id": "1f568333",
   "metadata": {},
   "source": [
    "- 0번째 인덱스에 1인 차원을 추가함"
   ]
  },
  {
   "cell_type": "markdown",
   "id": "1def5336",
   "metadata": {},
   "source": [
    "- 요약: view(), squeeze(), unsqueeze()는 덴서의 원소 수를 그대로 유지하면서 모양과 차원을 조절한다."
   ]
  },
  {
   "cell_type": "code",
   "execution_count": null,
   "id": "899a76d6",
   "metadata": {},
   "outputs": [],
   "source": []
  }
 ],
 "metadata": {
  "kernelspec": {
   "display_name": "Python 3 (ipykernel)",
   "language": "python",
   "name": "python3"
  },
  "language_info": {
   "codemirror_mode": {
    "name": "ipython",
    "version": 3
   },
   "file_extension": ".py",
   "mimetype": "text/x-python",
   "name": "python",
   "nbconvert_exporter": "python",
   "pygments_lexer": "ipython3",
   "version": "3.9.13"
  }
 },
 "nbformat": 4,
 "nbformat_minor": 5
}
