{
 "cells": [
  {
   "cell_type": "markdown",
   "id": "4d4567a1",
   "metadata": {},
   "source": [
    "참고 주소: https://dacon.io/codeshare/4551"
   ]
  },
  {
   "cell_type": "markdown",
   "id": "d689bf2c",
   "metadata": {},
   "source": [
    "### 오토인코더로 이미지 특징 추출하기"
   ]
  },
  {
   "cell_type": "code",
   "execution_count": 4,
   "id": "54828f90",
   "metadata": {},
   "outputs": [],
   "source": [
    "import torch\n",
    "import torchvision\n",
    "import torch.nn.functional as F\n",
    "from torch import nn, optim\n",
    "from torchvision import transforms, datasets\n",
    "\n",
    "import matplotlib.pyplot as plt\n",
    "from mpl_toolkits.mplot3d import Axes3D # 3차원 플롯을 그리는 용도\n",
    "from matplotlib import cm # 데이터포인트에 색상을 입히는 용도\n",
    "import numpy as np"
   ]
  },
  {
   "cell_type": "code",
   "execution_count": 5,
   "id": "766724eb",
   "metadata": {},
   "outputs": [
    {
     "name": "stdout",
     "output_type": "stream",
     "text": [
      "Using device : cpu\n"
     ]
    }
   ],
   "source": [
    "# 하이퍼파라미터 준비\n",
    "Epochs = 10\n",
    "Batch_Size = 64\n",
    "use_cuda = torch.cuda.is_available()\n",
    "device = torch.device(\"cuda\" if use_cuda else \"cpu\")\n",
    "print(f'Using device : {device}')"
   ]
  },
  {
   "cell_type": "code",
   "execution_count": 7,
   "id": "f8a9e121",
   "metadata": {},
   "outputs": [],
   "source": [
    "# FashionMNIST 데이터셋 불러오기, 오토인코더이므로 학습데이터만 사용\n",
    "trainset = datasets.FashionMNIST(\n",
    "    root = './FashionMNIST_data/',\n",
    "    train = True,\n",
    "    download = True,\n",
    "    transform = transforms.ToTensor())\n",
    "\n",
    "train_loader = torch.utils.data.DataLoader(\n",
    "    dataset = trainset,\n",
    "    batch_size = Batch_Size,\n",
    "    shuffle = True,\n",
    "    num_workers = 2)"
   ]
  },
  {
   "cell_type": "code",
   "execution_count": 10,
   "id": "905d49b6",
   "metadata": {},
   "outputs": [],
   "source": [
    "class Autoencoder(nn.Module):\n",
    "    def __init__(self):\n",
    "        super(Autoencoder, self).__init__()\n",
    "        \n",
    "        self.encoder = nn.Sequential(\n",
    "            nn.Linear(28*28, 128),\n",
    "            nn.ReLU(),\n",
    "            nn.Linear(128, 64),\n",
    "            nn.ReLU(),\n",
    "            nn.Linear(64, 12),\n",
    "            nn.ReLU(),\n",
    "            nn.Linear(12, 3)\n",
    "        )\n",
    "        self.decoder = nn.Sequential(\n",
    "            nn.Linear(3, 12),\n",
    "            nn.ReLU(),\n",
    "            nn.Linear(12, 64),\n",
    "            nn.ReLU(),\n",
    "            nn.Linear(64, 128),\n",
    "            nn.ReLU(),\n",
    "            nn.Linear(128, 28*28),\n",
    "            nn.Sigmoid()\n",
    "        )\n",
    "        \n",
    "        def forword(self, x):\n",
    "            encoded = self.encoder(x)\n",
    "            decoded = self.decoder(encoded)\n",
    "            return encoded, decoded"
   ]
  },
  {
   "cell_type": "code",
   "execution_count": 11,
   "id": "3d6c8fd7",
   "metadata": {},
   "outputs": [],
   "source": [
    "autoencoder = Autoencoder().to(device)\n",
    "optimizer = torch.optim.Adam(autoencoder.parameters(), lr = 0.005)\n",
    "criterion = nn.MSELoss()"
   ]
  },
  {
   "cell_type": "code",
   "execution_count": 12,
   "id": "2cec3149",
   "metadata": {},
   "outputs": [],
   "source": [
    "view_data = trainset.data[:5].view(-1, 28*28)\n",
    "view_data = view_data.type(torch.FloatTensor)/255"
   ]
  },
  {
   "cell_type": "code",
   "execution_count": null,
   "id": "a71d8f7b",
   "metadata": {},
   "outputs": [],
   "source": [
    "# 학습하기 위한 함수"
   ]
  }
 ],
 "metadata": {
  "kernelspec": {
   "display_name": "Python 3 (ipykernel)",
   "language": "python",
   "name": "python3"
  },
  "language_info": {
   "codemirror_mode": {
    "name": "ipython",
    "version": 3
   },
   "file_extension": ".py",
   "mimetype": "text/x-python",
   "name": "python",
   "nbconvert_exporter": "python",
   "pygments_lexer": "ipython3",
   "version": "3.9.13"
  }
 },
 "nbformat": 4,
 "nbformat_minor": 5
}
