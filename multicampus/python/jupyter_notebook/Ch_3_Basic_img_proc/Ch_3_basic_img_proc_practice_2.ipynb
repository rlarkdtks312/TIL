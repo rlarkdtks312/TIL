{
 "cells": [
  {
   "cell_type": "code",
   "execution_count": 4,
   "id": "fec51b49",
   "metadata": {},
   "outputs": [],
   "source": [
    "import numpy as np\n",
    "import cv2\n",
    "import sys"
   ]
  },
  {
   "cell_type": "code",
   "execution_count": 3,
   "id": "22d60a2c",
   "metadata": {},
   "outputs": [],
   "source": [
    "img = cv2.imread('./fig/lenna.bmp')\n",
    "\n",
    "h, w = img.shape[:2]    \n",
    "img_half = cv2.resize(img, (int(w*2), int(h*2)), interpolation = cv2.INTER_LINEAR)\n",
    "img_nearest = cv2.resize(img, (int(w*2), int(h*2)), interpolation = cv2.INTER_NEAREST)\n",
    "img_linear = cv2.resize(img, (int(w*2), int(h*2)), interpolation = cv2.INTER_LINEAR)\n",
    "if img is None:\n",
    "    print(\"file read failed\")\n",
    "    sys.exit()\n",
    "    \n",
    "\n",
    "\n",
    "    \n",
    "cv2.imshow('image', img)\n",
    "cv2.imshow('image_half', img_half)\n",
    "cv2.imshow('img_nearest', img_nearest)\n",
    "cv2.imshow('img_linear', img_linear)\n",
    "\n",
    "\n",
    "while True:\n",
    "    key = cv2.waitKey()\n",
    "    if key == 27:\n",
    "        break\n",
    "    elif key == ord('q'):\n",
    "        break\n",
    "    elif key == ord('e'):\n",
    "        edge = cv2.Canny(img, 50,150)\n",
    "cv2.destroyAllWindows()"
   ]
  },
  {
   "cell_type": "code",
   "execution_count": 9,
   "id": "bd409966",
   "metadata": {},
   "outputs": [],
   "source": [
    "imgBGR = cv2.imread('./fig/lenna.bmp')\n",
    "\n",
    "imgHSV = cv2.cvtColor(imgBGR, cv2.COLOR_BGR2HSV)\n",
    "h, s, v = cv2.split(imgHSV)\n",
    "\n",
    "cv2.imshow('imBGR', imgBGR)\n",
    "cv2.imshow('imHSV', imgHSV)\n",
    "\n",
    "\n",
    "while True:\n",
    "    key = cv2.waitKey()\n",
    "    if key == 27:\n",
    "        break\n",
    "    elif key == ord('q'):\n",
    "        break\n",
    "    elif key == ord('e'):\n",
    "        edge = cv2.Canny(img, 50,150)\n",
    "cv2.destroyAllWindows()"
   ]
  },
  {
   "cell_type": "code",
   "execution_count": 10,
   "id": "dac37021",
   "metadata": {},
   "outputs": [],
   "source": [
    "import glob\n",
    "\n",
    "img_list = glob.glob('../Ch_1_Opencv_Intro/fig/images/*.jpg')\n",
    "\n",
    "cv2.namedWindow('image', cv2.WINDOW_NORMAL)\n",
    "cv2.setWindowProperty('image', cv2.WND_PROP_FULLSCREEN,\n",
    "                     cv2.WINDOW_FULLSCREEN)\n",
    "\n",
    "idx = 0\n",
    "while True:\n",
    "    img = cv2.imread(img_list[idx])\n",
    "    \n",
    "    cv2.imshow('image', img)\n",
    "    \n",
    "    key = cv2.waitKey(3000)\n",
    "    if key == ord('q') or key == 27:\n",
    "        break\n",
    "        \n",
    "    idx += 1\n",
    "    \n",
    "    if idx >= len(img_list):\n",
    "        idx = 0\n",
    "\n",
    "cv2.destroyAllWindows() "
   ]
  },
  {
   "cell_type": "code",
   "execution_count": 11,
   "id": "7dee6172",
   "metadata": {},
   "outputs": [],
   "source": [
    "img1 = np.zeros((400,600,3),np.uint8)\n",
    "img1 = np.ones((400,600,3),np.uint8)*255\n",
    "img1 = np.full((400,600,3), (255,0,0),np.uint8)"
   ]
  },
  {
   "cell_type": "code",
   "execution_count": 5,
   "id": "942cfad4",
   "metadata": {},
   "outputs": [],
   "source": [
    "import numpy as np\n",
    "import cv2\n",
    "import sys\n",
    "cap = cv2.VideoCapture(0)\n",
    "\n",
    "w = int(cap.get(cv2.CAP_PROP_FRAME_WIDTH))\n",
    "h = int(cap.get(cv2.CAP_PROP_FRAME_HEIGHT)*0.7)\n",
    "fps = int(cap.get(cv2.CAP_PROP_FPS))\n",
    "fourcc = cv2.VideoWriter_fourcc(*'DIVX')\n",
    "\n",
    "\n",
    "out = cv2.VideoWriter('review.avi', fourcc, fps, (w, h))\n",
    "\n",
    "if not cap.isOpened():\n",
    "    print('video open failed')\n",
    "    sys.exit('1234')\n",
    "    \n",
    "while True:\n",
    "    ret, frame = cap.read()\n",
    "    \n",
    "    if not ret:\n",
    "        print('video read failed')\n",
    "        break\n",
    "    cv2.imshow('image', frame)\n",
    "    \n",
    "    if cv2.waitKey(20) == 27:\n",
    "        break\n",
    "        \n",
    "cap.release()\n",
    "cv2.destroyAllWindows()"
   ]
  },
  {
   "cell_type": "code",
   "execution_count": null,
   "id": "e4202266",
   "metadata": {},
   "outputs": [],
   "source": [
    "import matplotlib.pyplot\n",
    "import numpy as np\n",
    "import cv2\n",
    "import sys\n",
    "\n",
    "src = cv2.imread('./fig/lenna.bmp', 0)\n",
    "\n",
    "dst = cv2.add(src. 100)\n",
    "dst_np = np.clip(src + 100.0,0,255).astypr(np.uint8)\n",
    "\n",
    "cv2.imshow('src', src)\n",
    "cv2.imshow('dst', dst)\n",
    "\n",
    "cv2.waitKey()\n",
    "cv2.destroyAllWindows()\n"
   ]
  }
 ],
 "metadata": {
  "kernelspec": {
   "display_name": "Python 3 (ipykernel)",
   "language": "python",
   "name": "python3"
  },
  "language_info": {
   "codemirror_mode": {
    "name": "ipython",
    "version": 3
   },
   "file_extension": ".py",
   "mimetype": "text/x-python",
   "name": "python",
   "nbconvert_exporter": "python",
   "pygments_lexer": "ipython3",
   "version": "3.8.12"
  }
 },
 "nbformat": 4,
 "nbformat_minor": 5
}
