{
 "cells": [
  {
   "cell_type": "code",
   "execution_count": 4,
   "id": "0ccfea08",
   "metadata": {},
   "outputs": [],
   "source": [
    "import sys\n",
    "import numpy as np\n",
    "import cv2\n",
    "\n",
    "src = cv2.imread('fig/Hawkes.jpg', 0)\n",
    "\n",
    "# cv2.normalize(src, dst=None, alpha=None, beta=None, norm_type=None, dtype=None, mask=None) -> dst\n",
    "# src: 입력영상\n",
    "# dst: 결과영상\n",
    "# alpha: 정규화 최소값 (예, 0)\n",
    "# beta: 정규화 최댓값 (예, 155)\n",
    "# norm_type: cv2.NORM_MINMAX\n",
    "# dtype =  -1, src와 같은 type\n",
    "\n",
    "dst_norm = cv2.normalize(src, None, 0, 255, cv2.NORM_MINMAX, -1)\n",
    "dst_equal = cv2.equalizeHist(src)\n",
    "\n",
    "\n",
    "cv2.imshow('src', src)\n",
    "cv2.imshow('dst_norm', dst_norm)\n",
    "cv2.imshow('dst_equal', dst_equal)\n",
    "\n",
    "cv2.waitKey()\n",
    "cv2.destroyAllWindows()"
   ]
  },
  {
   "cell_type": "code",
   "execution_count": 6,
   "id": "65adb14a",
   "metadata": {},
   "outputs": [],
   "source": [
    "src = cv2.imread('./fig/field.bmp')\n",
    "\n",
    "src_hsv = cv2.cvtColor(src, cv2.COLOR_BGR2HSV)\n",
    "\n",
    "h, s, v = cv2.split(src_hsv)\n",
    "\n",
    "v_eq = cv2.equalizeHist(v)\n",
    "\n",
    "src_hsv_eq = cv2.merge((h,s, v_eq))\n",
    "\n",
    "src_hsv_eq_bgr = cv2.cvtColor(src_hsv_eq, cv2.COLOR_HSV2BGR)\n",
    "\n",
    "cv2.imshow('src', src)\n",
    "cv2.imshow('src_hsv_eq_bgr', src_hsv_eq_bgr)\n",
    "\n",
    "cv2.waitKey()\n",
    "cv2.destroyAllWindows()"
   ]
  },
  {
   "cell_type": "code",
   "execution_count": 65,
   "id": "f71a4ca1",
   "metadata": {},
   "outputs": [
    {
     "name": "stdout",
     "output_type": "stream",
     "text": [
      "(640, 480)\n",
      "(640, 480)\n",
      "(1280, 960, 3)\n"
     ]
    }
   ],
   "source": [
    "# 내 얼굴 사진을 합성하기\n",
    "\n",
    "import sys\n",
    "import numpy as np\n",
    "import cv2\n",
    "\n",
    "src = cv2.imread('../Ch_2_Opencv_basic/fig/imgbin_hat.png')\n",
    "dst = cv2.imread('./fig/kim.jpg')\n",
    "\n",
    "src_gray = cv2.cvtColor(src, cv2.COLOR_BGR2GRAY)\n",
    "\n",
    "h, w = dst.shape[:2]\n",
    "src = cv2.resize(src, (w//2, h//2), interpolation = cv2.INTER_AREA)\n",
    "src_gray = cv2.resize(src_gray, (w//2, h//2), interpolation = cv2.INTER_AREA)\n",
    "\n",
    "ret, mask = cv2.threshold(src_gray, 1, 255, cv2.THRESH_BINARY)\n",
    "x=110\n",
    "y = 280\n",
    "dst1 = dst[x:x+640, y:y+480]\n",
    "\n",
    "cv2.copyTo(src, mask, dst1)\n",
    "cv2.imshow('mask', mask)\n",
    "cv2.imshow('dst1', dst1)\n",
    "cv2.imshow('dst', dst)\n",
    "\n",
    "print(src_gray.shape)\n",
    "print(mask.shape)\n",
    "print(dst.shape)\n",
    "\n",
    "cv2.waitKey()\n",
    "cv2.destroyAllWindows()"
   ]
  },
  {
   "cell_type": "code",
   "execution_count": null,
   "id": "c590692a",
   "metadata": {},
   "outputs": [],
   "source": []
  }
 ],
 "metadata": {
  "kernelspec": {
   "display_name": "Python 3 (ipykernel)",
   "language": "python",
   "name": "python3"
  },
  "language_info": {
   "codemirror_mode": {
    "name": "ipython",
    "version": 3
   },
   "file_extension": ".py",
   "mimetype": "text/x-python",
   "name": "python",
   "nbconvert_exporter": "python",
   "pygments_lexer": "ipython3",
   "version": "3.8.12"
  }
 },
 "nbformat": 4,
 "nbformat_minor": 5
}
