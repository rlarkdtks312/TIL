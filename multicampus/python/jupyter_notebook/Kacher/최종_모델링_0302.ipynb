{
 "cells": [
  {
   "cell_type": "code",
   "execution_count": 16,
   "id": "08571f56",
   "metadata": {},
   "outputs": [],
   "source": [
    "import plotly.express as px\n",
    "\n",
    "import warnings\n",
    "warnings.filterwarnings('ignore')\n",
    "import pandas as pd\n",
    "import numpy as np\n",
    "import matplotlib.pyplot as plt\n",
    "import pickle\n",
    "from sklearn.metrics import roc_auc_score\n",
    "from sklearn.model_selection import train_test_split, StratifiedKFold, RandomizedSearchCV, GridSearchCV\n",
    "from xgboost import plot_importance\n",
    "from xgboost import XGBRegressor\n",
    "from sklearn.decomposition import PCA\n",
    "\n",
    "import lightgbm as lgb\n",
    "from sklearn.model_selection import GridSearchCV\n",
    "from sklearn.metrics import mean_squared_error, r2_score\n",
    "import seaborn as sns\n",
    "\n",
    "import os\n",
    "from os.path import join"
   ]
  },
  {
   "cell_type": "markdown",
   "id": "6c978088",
   "metadata": {},
   "source": [
    "# 1. LGBM - GridSearchCV"
   ]
  },
  {
   "cell_type": "markdown",
   "id": "8e2d9523",
   "metadata": {},
   "source": [
    "1. Light GBM의 GBM은 Gradient Boosting Model로, tree를 기반으로 하는 학습 알고리즘으로 여러 모델을 만들어 예측력이 약한 모델에 가중치를 부여해 보다 강한 모델을 만드는 앙상블 모델이다. targe과 예측값의 차이인 error를 반복적으로 학습하는 방식으로 학습이 진행된다.\n",
    "2. 다른 level wise 방식과 다른 leaf wise tree 분할 방식으로 깊고 비대칭적인 tree를 가지고 있음.\n",
    "3. 학습이 빠르며 메모리 사용량이 적고 categorical feature를 자동 변환하고 최적 분할을 함.\n",
    "4. 작은 데이터셋의 경우 과적합 가능성이 큼.(10,000개 이하의 경우)"
   ]
  },
  {
   "cell_type": "markdown",
   "id": "1d2898cd",
   "metadata": {},
   "source": [
    "## 데이터 준비"
   ]
  },
  {
   "cell_type": "code",
   "execution_count": 4,
   "id": "e92585ac",
   "metadata": {},
   "outputs": [],
   "source": [
    "# 데이터 불러오기\n",
    "dpath = '../data'\n",
    "ftrain = 'new2_train.pickle'\n",
    "ftest = 'new2_test.pickle'\n",
    "\n",
    "matrix = pd.read_pickle(join(dpath, ftrain))\n",
    "test = pd.read_pickle(join(dpath, ftest))\n",
    "submission = pd.read_csv(join(dpath, 'raw/sample_submission.csv'))\n",
    "df_test = pd.read_csv(join(dpath,'raw/test.csv'))"
   ]
  },
  {
   "cell_type": "code",
   "execution_count": 5,
   "id": "00acb9ef",
   "metadata": {},
   "outputs": [
    {
     "name": "stdout",
     "output_type": "stream",
     "text": [
      "train_x shape: (545673, 26)\n",
      "train_y shape: (545673, 1)\n",
      "validation_x shape: (28680, 26)\n",
      "validation_y shape: (28680, 1)\n",
      "test_x shape: (214200, 26)\n"
     ]
    }
   ],
   "source": [
    "# 데이터 분할\n",
    "train = matrix[matrix.date_block_num < 33]\n",
    "validation = matrix[matrix.date_block_num == 33]\n",
    "\n",
    "x_train = train.drop(columns='item_cnt_month')\n",
    "y_train = train[['item_cnt_month']]\n",
    "x_valid = validation.drop(columns='item_cnt_month')\n",
    "y_valid = validation[['item_cnt_month']]\n",
    "x_test = test.drop(columns='item_cnt_month')\n",
    "\n",
    "print('train_x shape:', x_train.shape)\n",
    "print('train_y shape:', y_train.shape)\n",
    "print('validation_x shape:', x_valid.shape)\n",
    "print('validation_y shape:', y_valid.shape)\n",
    "print('test_x shape:', x_test.shape)"
   ]
  },
  {
   "cell_type": "markdown",
   "id": "de9974d2",
   "metadata": {},
   "source": [
    "## 모델링"
   ]
  },
  {
   "cell_type": "markdown",
   "id": "97043d61",
   "metadata": {},
   "source": [
    "- LGBM에 최적의 하이퍼파라미터를 탐색하는 도구인 GridSearchCV를 사용하여 학습을 진행함."
   ]
  },
  {
   "cell_type": "code",
   "execution_count": 8,
   "id": "87c178db",
   "metadata": {
    "scrolled": true
   },
   "outputs": [
    {
     "name": "stdout",
     "output_type": "stream",
     "text": [
      "[50]\tvalid_0's rmse: 0.358775\tvalid_0's l2: 0.128719\tvalid_1's rmse: 0.367159\tvalid_1's l2: 0.134806\n",
      "[100]\tvalid_0's rmse: 0.340184\tvalid_0's l2: 0.115725\tvalid_1's rmse: 0.358405\tvalid_1's l2: 0.128454\n",
      "[50]\tvalid_0's rmse: 0.360622\tvalid_0's l2: 0.130048\tvalid_1's rmse: 0.36861\tvalid_1's l2: 0.135873\n",
      "[100]\tvalid_0's rmse: 0.344471\tvalid_0's l2: 0.118661\tvalid_1's rmse: 0.365954\tvalid_1's l2: 0.133923\n",
      "[50]\tvalid_0's rmse: 0.360323\tvalid_0's l2: 0.129832\tvalid_1's rmse: 0.365617\tvalid_1's l2: 0.133676\n",
      "[100]\tvalid_0's rmse: 0.344464\tvalid_0's l2: 0.118656\tvalid_1's rmse: 0.360787\tvalid_1's l2: 0.130167\n",
      "[50]\tvalid_0's rmse: 0.359988\tvalid_0's l2: 0.129591\tvalid_1's rmse: 0.367006\tvalid_1's l2: 0.134694\n",
      "[100]\tvalid_0's rmse: 0.341075\tvalid_0's l2: 0.116332\tvalid_1's rmse: 0.359607\tvalid_1's l2: 0.129317\n",
      "[50]\tvalid_0's rmse: 0.358469\tvalid_0's l2: 0.1285\tvalid_1's rmse: 0.366605\tvalid_1's l2: 0.1344\n",
      "[100]\tvalid_0's rmse: 0.340793\tvalid_0's l2: 0.11614\tvalid_1's rmse: 0.359215\tvalid_1's l2: 0.129036\n",
      "[50]\tvalid_0's rmse: 0.333095\tvalid_0's l2: 0.110952\tvalid_1's rmse: 0.36438\tvalid_1's l2: 0.132773\n",
      "[100]\tvalid_0's rmse: 0.31252\tvalid_0's l2: 0.0976686\tvalid_1's rmse: 0.36052\tvalid_1's l2: 0.129975\n",
      "[50]\tvalid_0's rmse: 0.337019\tvalid_0's l2: 0.113582\tvalid_1's rmse: 0.365795\tvalid_1's l2: 0.133806\n",
      "[100]\tvalid_0's rmse: 0.318235\tvalid_0's l2: 0.101274\tvalid_1's rmse: 0.362962\tvalid_1's l2: 0.131741\n",
      "[50]\tvalid_0's rmse: 0.337151\tvalid_0's l2: 0.113671\tvalid_1's rmse: 0.370164\tvalid_1's l2: 0.137021\n",
      "[100]\tvalid_0's rmse: 0.319186\tvalid_0's l2: 0.10188\tvalid_1's rmse: 0.367215\tvalid_1's l2: 0.134847\n",
      "[50]\tvalid_0's rmse: 0.333816\tvalid_0's l2: 0.111433\tvalid_1's rmse: 0.363656\tvalid_1's l2: 0.132246\n",
      "[100]\tvalid_0's rmse: 0.313663\tvalid_0's l2: 0.0983843\tvalid_1's rmse: 0.359229\tvalid_1's l2: 0.129045\n",
      "[50]\tvalid_0's rmse: 0.334257\tvalid_0's l2: 0.111728\tvalid_1's rmse: 0.362366\tvalid_1's l2: 0.131309\n",
      "[100]\tvalid_0's rmse: 0.314365\tvalid_0's l2: 0.0988256\tvalid_1's rmse: 0.357317\tvalid_1's l2: 0.127675\n",
      "[50]\tvalid_0's rmse: 0.315687\tvalid_0's l2: 0.0996584\tvalid_1's rmse: 0.362824\tvalid_1's l2: 0.131642\n",
      "[100]\tvalid_0's rmse: 0.292528\tvalid_0's l2: 0.0855725\tvalid_1's rmse: 0.3602\tvalid_1's l2: 0.129744\n",
      "[50]\tvalid_0's rmse: 0.320494\tvalid_0's l2: 0.102716\tvalid_1's rmse: 0.367618\tvalid_1's l2: 0.135143\n",
      "[100]\tvalid_0's rmse: 0.299494\tvalid_0's l2: 0.0896967\tvalid_1's rmse: 0.365325\tvalid_1's l2: 0.133462\n",
      "[50]\tvalid_0's rmse: 0.320613\tvalid_0's l2: 0.102793\tvalid_1's rmse: 0.368152\tvalid_1's l2: 0.135536\n",
      "[100]\tvalid_0's rmse: 0.301572\tvalid_0's l2: 0.0909458\tvalid_1's rmse: 0.366566\tvalid_1's l2: 0.134371\n",
      "[50]\tvalid_0's rmse: 0.317675\tvalid_0's l2: 0.100918\tvalid_1's rmse: 0.364097\tvalid_1's l2: 0.132566\n",
      "[100]\tvalid_0's rmse: 0.294503\tvalid_0's l2: 0.0867321\tvalid_1's rmse: 0.361904\tvalid_1's l2: 0.130974\n",
      "[50]\tvalid_0's rmse: 0.317764\tvalid_0's l2: 0.100974\tvalid_1's rmse: 0.362966\tvalid_1's l2: 0.131744\n",
      "[100]\tvalid_0's rmse: 0.295885\tvalid_0's l2: 0.0875478\tvalid_1's rmse: 0.357826\tvalid_1's l2: 0.128039\n",
      "[50]\tvalid_0's rmse: 0.301594\tvalid_0's l2: 0.0909589\tvalid_1's rmse: 0.364141\tvalid_1's l2: 0.132599\n",
      "[100]\tvalid_0's rmse: 0.275328\tvalid_0's l2: 0.0758055\tvalid_1's rmse: 0.361922\tvalid_1's l2: 0.130988\n",
      "[50]\tvalid_0's rmse: 0.307537\tvalid_0's l2: 0.0945788\tvalid_1's rmse: 0.366379\tvalid_1's l2: 0.134234\n",
      "[100]\tvalid_0's rmse: 0.283714\tvalid_0's l2: 0.0804938\tvalid_1's rmse: 0.364863\tvalid_1's l2: 0.133125\n",
      "[50]\tvalid_0's rmse: 0.308188\tvalid_0's l2: 0.0949801\tvalid_1's rmse: 0.370495\tvalid_1's l2: 0.137266\n",
      "[100]\tvalid_0's rmse: 0.286427\tvalid_0's l2: 0.0820404\tvalid_1's rmse: 0.368808\tvalid_1's l2: 0.136019\n",
      "[50]\tvalid_0's rmse: 0.302745\tvalid_0's l2: 0.0916542\tvalid_1's rmse: 0.371214\tvalid_1's l2: 0.1378\n",
      "[100]\tvalid_0's rmse: 0.277375\tvalid_0's l2: 0.0769372\tvalid_1's rmse: 0.369837\tvalid_1's l2: 0.13678\n",
      "[50]\tvalid_0's rmse: 0.304287\tvalid_0's l2: 0.0925906\tvalid_1's rmse: 0.367408\tvalid_1's l2: 0.134989\n",
      "[100]\tvalid_0's rmse: 0.279481\tvalid_0's l2: 0.0781096\tvalid_1's rmse: 0.365362\tvalid_1's l2: 0.133489\n",
      "[50]\tvalid_0's rmse: 0.358452\tvalid_0's l2: 0.128488\tvalid_1's rmse: 0.366135\tvalid_1's l2: 0.134055\n",
      "[100]\tvalid_0's rmse: 0.340596\tvalid_0's l2: 0.116006\tvalid_1's rmse: 0.357148\tvalid_1's l2: 0.127555\n",
      "[50]\tvalid_0's rmse: 0.36173\tvalid_0's l2: 0.130849\tvalid_1's rmse: 0.369579\tvalid_1's l2: 0.136588\n",
      "[100]\tvalid_0's rmse: 0.34431\tvalid_0's l2: 0.11855\tvalid_1's rmse: 0.364921\tvalid_1's l2: 0.133168\n",
      "[50]\tvalid_0's rmse: 0.360464\tvalid_0's l2: 0.129934\tvalid_1's rmse: 0.365571\tvalid_1's l2: 0.133642\n",
      "[100]\tvalid_0's rmse: 0.345125\tvalid_0's l2: 0.119112\tvalid_1's rmse: 0.362313\tvalid_1's l2: 0.131271\n",
      "[50]\tvalid_0's rmse: 0.359713\tvalid_0's l2: 0.129394\tvalid_1's rmse: 0.367936\tvalid_1's l2: 0.135377\n",
      "[100]\tvalid_0's rmse: 0.341006\tvalid_0's l2: 0.116285\tvalid_1's rmse: 0.359627\tvalid_1's l2: 0.129332\n",
      "[50]\tvalid_0's rmse: 0.35771\tvalid_0's l2: 0.127956\tvalid_1's rmse: 0.367078\tvalid_1's l2: 0.134746\n",
      "[100]\tvalid_0's rmse: 0.340394\tvalid_0's l2: 0.115868\tvalid_1's rmse: 0.361488\tvalid_1's l2: 0.130674\n",
      "[50]\tvalid_0's rmse: 0.334328\tvalid_0's l2: 0.111776\tvalid_1's rmse: 0.362938\tvalid_1's l2: 0.131724\n",
      "[100]\tvalid_0's rmse: 0.313305\tvalid_0's l2: 0.0981597\tvalid_1's rmse: 0.356723\tvalid_1's l2: 0.127251\n",
      "[50]\tvalid_0's rmse: 0.336875\tvalid_0's l2: 0.113485\tvalid_1's rmse: 0.363916\tvalid_1's l2: 0.132435\n",
      "[100]\tvalid_0's rmse: 0.318635\tvalid_0's l2: 0.101528\tvalid_1's rmse: 0.361151\tvalid_1's l2: 0.13043\n",
      "[50]\tvalid_0's rmse: 0.337152\tvalid_0's l2: 0.113672\tvalid_1's rmse: 0.367216\tvalid_1's l2: 0.134847\n",
      "[100]\tvalid_0's rmse: 0.319795\tvalid_0's l2: 0.102269\tvalid_1's rmse: 0.364599\tvalid_1's l2: 0.132932\n",
      "[50]\tvalid_0's rmse: 0.334923\tvalid_0's l2: 0.112173\tvalid_1's rmse: 0.368905\tvalid_1's l2: 0.136091\n",
      "[100]\tvalid_0's rmse: 0.314287\tvalid_0's l2: 0.0987763\tvalid_1's rmse: 0.364018\tvalid_1's l2: 0.132509\n",
      "[50]\tvalid_0's rmse: 0.333505\tvalid_0's l2: 0.111226\tvalid_1's rmse: 0.364621\tvalid_1's l2: 0.132948\n",
      "[100]\tvalid_0's rmse: 0.314531\tvalid_0's l2: 0.0989298\tvalid_1's rmse: 0.36037\tvalid_1's l2: 0.129866\n",
      "[50]\tvalid_0's rmse: 0.317386\tvalid_0's l2: 0.100734\tvalid_1's rmse: 0.362974\tvalid_1's l2: 0.13175\n",
      "[100]\tvalid_0's rmse: 0.294279\tvalid_0's l2: 0.0866002\tvalid_1's rmse: 0.357947\tvalid_1's l2: 0.128126\n",
      "[50]\tvalid_0's rmse: 0.32132\tvalid_0's l2: 0.103247\tvalid_1's rmse: 0.365239\tvalid_1's l2: 0.1334\n",
      "[100]\tvalid_0's rmse: 0.300662\tvalid_0's l2: 0.0903974\tvalid_1's rmse: 0.363335\tvalid_1's l2: 0.132012\n",
      "[50]\tvalid_0's rmse: 0.322068\tvalid_0's l2: 0.103728\tvalid_1's rmse: 0.370302\tvalid_1's l2: 0.137124\n",
      "[100]\tvalid_0's rmse: 0.302193\tvalid_0's l2: 0.0913204\tvalid_1's rmse: 0.366082\tvalid_1's l2: 0.134016\n",
      "[50]\tvalid_0's rmse: 0.317777\tvalid_0's l2: 0.100982\tvalid_1's rmse: 0.363692\tvalid_1's l2: 0.132272\n",
      "[100]\tvalid_0's rmse: 0.295503\tvalid_0's l2: 0.0873218\tvalid_1's rmse: 0.360919\tvalid_1's l2: 0.130263\n",
      "[50]\tvalid_0's rmse: 0.31844\tvalid_0's l2: 0.101404\tvalid_1's rmse: 0.362302\tvalid_1's l2: 0.131263\n",
      "[100]\tvalid_0's rmse: 0.296881\tvalid_0's l2: 0.0881383\tvalid_1's rmse: 0.359169\tvalid_1's l2: 0.129002\n",
      "[50]\tvalid_0's rmse: 0.302681\tvalid_0's l2: 0.0916158\tvalid_1's rmse: 0.364156\tvalid_1's l2: 0.13261\n",
      "[100]\tvalid_0's rmse: 0.276769\tvalid_0's l2: 0.0766009\tvalid_1's rmse: 0.361464\tvalid_1's l2: 0.130656\n",
      "[50]\tvalid_0's rmse: 0.309075\tvalid_0's l2: 0.0955275\tvalid_1's rmse: 0.367202\tvalid_1's l2: 0.134837\n",
      "[100]\tvalid_0's rmse: 0.286192\tvalid_0's l2: 0.0819061\tvalid_1's rmse: 0.366256\tvalid_1's l2: 0.134143\n",
      "[50]\tvalid_0's rmse: 0.309404\tvalid_0's l2: 0.0957307\tvalid_1's rmse: 0.371784\tvalid_1's l2: 0.138224\n",
      "[100]\tvalid_0's rmse: 0.288139\tvalid_0's l2: 0.0830241\tvalid_1's rmse: 0.370978\tvalid_1's l2: 0.137624\n",
      "[50]\tvalid_0's rmse: 0.304925\tvalid_0's l2: 0.092979\tvalid_1's rmse: 0.369787\tvalid_1's l2: 0.136742\n",
      "[100]\tvalid_0's rmse: 0.278864\tvalid_0's l2: 0.0777649\tvalid_1's rmse: 0.367685\tvalid_1's l2: 0.135193\n",
      "[50]\tvalid_0's rmse: 0.305243\tvalid_0's l2: 0.0931731\tvalid_1's rmse: 0.36513\tvalid_1's l2: 0.13332\n",
      "[100]\tvalid_0's rmse: 0.280988\tvalid_0's l2: 0.078954\tvalid_1's rmse: 0.363523\tvalid_1's l2: 0.132149\n",
      "[50]\tvalid_0's rmse: 0.358677\tvalid_0's l2: 0.128649\tvalid_1's rmse: 0.365407\tvalid_1's l2: 0.133522\n"
     ]
    },
    {
     "name": "stdout",
     "output_type": "stream",
     "text": [
      "[100]\tvalid_0's rmse: 0.340329\tvalid_0's l2: 0.115824\tvalid_1's rmse: 0.355852\tvalid_1's l2: 0.126631\n",
      "[50]\tvalid_0's rmse: 0.360671\tvalid_0's l2: 0.130084\tvalid_1's rmse: 0.370852\tvalid_1's l2: 0.137531\n",
      "[100]\tvalid_0's rmse: 0.344701\tvalid_0's l2: 0.118819\tvalid_1's rmse: 0.365773\tvalid_1's l2: 0.13379\n",
      "[50]\tvalid_0's rmse: 0.360542\tvalid_0's l2: 0.129991\tvalid_1's rmse: 0.367028\tvalid_1's l2: 0.13471\n",
      "[100]\tvalid_0's rmse: 0.34466\tvalid_0's l2: 0.118791\tvalid_1's rmse: 0.362154\tvalid_1's l2: 0.131155\n",
      "[50]\tvalid_0's rmse: 0.359002\tvalid_0's l2: 0.128883\tvalid_1's rmse: 0.367897\tvalid_1's l2: 0.135349\n",
      "[100]\tvalid_0's rmse: 0.340875\tvalid_0's l2: 0.116195\tvalid_1's rmse: 0.360768\tvalid_1's l2: 0.130153\n",
      "[50]\tvalid_0's rmse: 0.358767\tvalid_0's l2: 0.128714\tvalid_1's rmse: 0.366016\tvalid_1's l2: 0.133968\n",
      "[100]\tvalid_0's rmse: 0.341137\tvalid_0's l2: 0.116374\tvalid_1's rmse: 0.359439\tvalid_1's l2: 0.129196\n",
      "[50]\tvalid_0's rmse: 0.333951\tvalid_0's l2: 0.111523\tvalid_1's rmse: 0.358883\tvalid_1's l2: 0.128797\n",
      "[100]\tvalid_0's rmse: 0.312759\tvalid_0's l2: 0.0978183\tvalid_1's rmse: 0.35326\tvalid_1's l2: 0.124793\n",
      "[50]\tvalid_0's rmse: 0.338592\tvalid_0's l2: 0.114644\tvalid_1's rmse: 0.36785\tvalid_1's l2: 0.135314\n",
      "[100]\tvalid_0's rmse: 0.319429\tvalid_0's l2: 0.102035\tvalid_1's rmse: 0.362885\tvalid_1's l2: 0.131685\n",
      "[50]\tvalid_0's rmse: 0.33729\tvalid_0's l2: 0.113764\tvalid_1's rmse: 0.366589\tvalid_1's l2: 0.134387\n",
      "[100]\tvalid_0's rmse: 0.320329\tvalid_0's l2: 0.102611\tvalid_1's rmse: 0.36326\tvalid_1's l2: 0.131958\n",
      "[50]\tvalid_0's rmse: 0.33452\tvalid_0's l2: 0.111904\tvalid_1's rmse: 0.36415\tvalid_1's l2: 0.132605\n",
      "[100]\tvalid_0's rmse: 0.314879\tvalid_0's l2: 0.099149\tvalid_1's rmse: 0.360268\tvalid_1's l2: 0.129793\n",
      "[50]\tvalid_0's rmse: 0.335214\tvalid_0's l2: 0.112369\tvalid_1's rmse: 0.366875\tvalid_1's l2: 0.134598\n",
      "[100]\tvalid_0's rmse: 0.315967\tvalid_0's l2: 0.0998354\tvalid_1's rmse: 0.361644\tvalid_1's l2: 0.130787\n",
      "[50]\tvalid_0's rmse: 0.317898\tvalid_0's l2: 0.101059\tvalid_1's rmse: 0.361135\tvalid_1's l2: 0.130418\n",
      "[100]\tvalid_0's rmse: 0.294748\tvalid_0's l2: 0.0868763\tvalid_1's rmse: 0.357127\tvalid_1's l2: 0.127539\n",
      "[50]\tvalid_0's rmse: 0.322449\tvalid_0's l2: 0.103973\tvalid_1's rmse: 0.366094\tvalid_1's l2: 0.134025\n",
      "[100]\tvalid_0's rmse: 0.301833\tvalid_0's l2: 0.0911034\tvalid_1's rmse: 0.363676\tvalid_1's l2: 0.13226\n",
      "[50]\tvalid_0's rmse: 0.322079\tvalid_0's l2: 0.103735\tvalid_1's rmse: 0.368503\tvalid_1's l2: 0.135794\n",
      "[100]\tvalid_0's rmse: 0.303166\tvalid_0's l2: 0.0919098\tvalid_1's rmse: 0.366504\tvalid_1's l2: 0.134325\n",
      "[50]\tvalid_0's rmse: 0.318172\tvalid_0's l2: 0.101234\tvalid_1's rmse: 0.369985\tvalid_1's l2: 0.136889\n",
      "[100]\tvalid_0's rmse: 0.296177\tvalid_0's l2: 0.0877207\tvalid_1's rmse: 0.368125\tvalid_1's l2: 0.135516\n",
      "[50]\tvalid_0's rmse: 0.319223\tvalid_0's l2: 0.101903\tvalid_1's rmse: 0.362051\tvalid_1's l2: 0.131081\n",
      "[100]\tvalid_0's rmse: 0.298214\tvalid_0's l2: 0.0889317\tvalid_1's rmse: 0.360174\tvalid_1's l2: 0.129725\n",
      "[50]\tvalid_0's rmse: 0.304454\tvalid_0's l2: 0.092692\tvalid_1's rmse: 0.363846\tvalid_1's l2: 0.132384\n",
      "[100]\tvalid_0's rmse: 0.278386\tvalid_0's l2: 0.0774985\tvalid_1's rmse: 0.362397\tvalid_1's l2: 0.131332\n",
      "[50]\tvalid_0's rmse: 0.310087\tvalid_0's l2: 0.0961542\tvalid_1's rmse: 0.364288\tvalid_1's l2: 0.132706\n",
      "[100]\tvalid_0's rmse: 0.286798\tvalid_0's l2: 0.0822531\tvalid_1's rmse: 0.362497\tvalid_1's l2: 0.131404\n",
      "[50]\tvalid_0's rmse: 0.311569\tvalid_0's l2: 0.0970751\tvalid_1's rmse: 0.368105\tvalid_1's l2: 0.135502\n",
      "[100]\tvalid_0's rmse: 0.289321\tvalid_0's l2: 0.0837064\tvalid_1's rmse: 0.366509\tvalid_1's l2: 0.134329\n",
      "[50]\tvalid_0's rmse: 0.305287\tvalid_0's l2: 0.0932004\tvalid_1's rmse: 0.369345\tvalid_1's l2: 0.136415\n",
      "[100]\tvalid_0's rmse: 0.28013\tvalid_0's l2: 0.078473\tvalid_1's rmse: 0.366728\tvalid_1's l2: 0.13449\n",
      "[50]\tvalid_0's rmse: 0.306851\tvalid_0's l2: 0.0941575\tvalid_1's rmse: 0.365809\tvalid_1's l2: 0.133816\n",
      "[100]\tvalid_0's rmse: 0.282562\tvalid_0's l2: 0.0798415\tvalid_1's rmse: 0.363466\tvalid_1's l2: 0.132107\n",
      "[50]\tvalid_0's rmse: 0.358775\tvalid_0's l2: 0.128719\tvalid_1's rmse: 0.367159\tvalid_1's l2: 0.134806\n",
      "[100]\tvalid_0's rmse: 0.340184\tvalid_0's l2: 0.115725\tvalid_1's rmse: 0.358405\tvalid_1's l2: 0.128454\n",
      "[50]\tvalid_0's rmse: 0.360622\tvalid_0's l2: 0.130048\tvalid_1's rmse: 0.36861\tvalid_1's l2: 0.135873\n",
      "[100]\tvalid_0's rmse: 0.344471\tvalid_0's l2: 0.118661\tvalid_1's rmse: 0.365954\tvalid_1's l2: 0.133923\n",
      "[50]\tvalid_0's rmse: 0.360323\tvalid_0's l2: 0.129832\tvalid_1's rmse: 0.365617\tvalid_1's l2: 0.133676\n",
      "[100]\tvalid_0's rmse: 0.344464\tvalid_0's l2: 0.118656\tvalid_1's rmse: 0.360787\tvalid_1's l2: 0.130167\n",
      "[50]\tvalid_0's rmse: 0.359988\tvalid_0's l2: 0.129591\tvalid_1's rmse: 0.367006\tvalid_1's l2: 0.134694\n",
      "[100]\tvalid_0's rmse: 0.341075\tvalid_0's l2: 0.116332\tvalid_1's rmse: 0.359607\tvalid_1's l2: 0.129317\n",
      "[50]\tvalid_0's rmse: 0.358469\tvalid_0's l2: 0.1285\tvalid_1's rmse: 0.366605\tvalid_1's l2: 0.1344\n",
      "[100]\tvalid_0's rmse: 0.340793\tvalid_0's l2: 0.11614\tvalid_1's rmse: 0.359215\tvalid_1's l2: 0.129036\n",
      "[50]\tvalid_0's rmse: 0.333095\tvalid_0's l2: 0.110952\tvalid_1's rmse: 0.36438\tvalid_1's l2: 0.132773\n",
      "[100]\tvalid_0's rmse: 0.31252\tvalid_0's l2: 0.0976686\tvalid_1's rmse: 0.36052\tvalid_1's l2: 0.129975\n",
      "[50]\tvalid_0's rmse: 0.337019\tvalid_0's l2: 0.113582\tvalid_1's rmse: 0.365795\tvalid_1's l2: 0.133806\n",
      "[100]\tvalid_0's rmse: 0.318235\tvalid_0's l2: 0.101274\tvalid_1's rmse: 0.362962\tvalid_1's l2: 0.131741\n",
      "[50]\tvalid_0's rmse: 0.337151\tvalid_0's l2: 0.113671\tvalid_1's rmse: 0.370164\tvalid_1's l2: 0.137021\n",
      "[100]\tvalid_0's rmse: 0.319186\tvalid_0's l2: 0.10188\tvalid_1's rmse: 0.367215\tvalid_1's l2: 0.134847\n",
      "[50]\tvalid_0's rmse: 0.333781\tvalid_0's l2: 0.111409\tvalid_1's rmse: 0.363843\tvalid_1's l2: 0.132382\n",
      "[100]\tvalid_0's rmse: 0.314212\tvalid_0's l2: 0.0987293\tvalid_1's rmse: 0.360556\tvalid_1's l2: 0.130001\n",
      "[50]\tvalid_0's rmse: 0.334257\tvalid_0's l2: 0.111728\tvalid_1's rmse: 0.362366\tvalid_1's l2: 0.131309\n",
      "[100]\tvalid_0's rmse: 0.314365\tvalid_0's l2: 0.0988256\tvalid_1's rmse: 0.357317\tvalid_1's l2: 0.127675\n",
      "[50]\tvalid_0's rmse: 0.315687\tvalid_0's l2: 0.0996584\tvalid_1's rmse: 0.362824\tvalid_1's l2: 0.131642\n",
      "[100]\tvalid_0's rmse: 0.292699\tvalid_0's l2: 0.0856728\tvalid_1's rmse: 0.360445\tvalid_1's l2: 0.12992\n",
      "[50]\tvalid_0's rmse: 0.320642\tvalid_0's l2: 0.102811\tvalid_1's rmse: 0.367542\tvalid_1's l2: 0.135087\n",
      "[100]\tvalid_0's rmse: 0.299928\tvalid_0's l2: 0.0899568\tvalid_1's rmse: 0.365574\tvalid_1's l2: 0.133644\n",
      "[50]\tvalid_0's rmse: 0.320617\tvalid_0's l2: 0.102795\tvalid_1's rmse: 0.368152\tvalid_1's l2: 0.135536\n",
      "[100]\tvalid_0's rmse: 0.300791\tvalid_0's l2: 0.090475\tvalid_1's rmse: 0.366405\tvalid_1's l2: 0.134253\n",
      "[50]\tvalid_0's rmse: 0.317736\tvalid_0's l2: 0.100956\tvalid_1's rmse: 0.364581\tvalid_1's l2: 0.13292\n",
      "[100]\tvalid_0's rmse: 0.294234\tvalid_0's l2: 0.0865738\tvalid_1's rmse: 0.361803\tvalid_1's l2: 0.130901\n",
      "[50]\tvalid_0's rmse: 0.317764\tvalid_0's l2: 0.100974\tvalid_1's rmse: 0.362966\tvalid_1's l2: 0.131744\n",
      "[100]\tvalid_0's rmse: 0.295768\tvalid_0's l2: 0.0874785\tvalid_1's rmse: 0.36001\tvalid_1's l2: 0.129607\n",
      "[50]\tvalid_0's rmse: 0.301594\tvalid_0's l2: 0.0909589\tvalid_1's rmse: 0.364141\tvalid_1's l2: 0.132599\n",
      "[100]\tvalid_0's rmse: 0.275246\tvalid_0's l2: 0.0757606\tvalid_1's rmse: 0.362342\tvalid_1's l2: 0.131291\n",
      "[50]\tvalid_0's rmse: 0.307607\tvalid_0's l2: 0.0946221\tvalid_1's rmse: 0.367752\tvalid_1's l2: 0.135242\n",
      "[100]\tvalid_0's rmse: 0.283735\tvalid_0's l2: 0.0805054\tvalid_1's rmse: 0.36497\tvalid_1's l2: 0.133203\n",
      "[50]\tvalid_0's rmse: 0.308852\tvalid_0's l2: 0.0953893\tvalid_1's rmse: 0.36993\tvalid_1's l2: 0.136848\n",
      "[100]\tvalid_0's rmse: 0.286346\tvalid_0's l2: 0.0819943\tvalid_1's rmse: 0.368389\tvalid_1's l2: 0.13571\n",
      "[50]\tvalid_0's rmse: 0.302745\tvalid_0's l2: 0.0916542\tvalid_1's rmse: 0.371214\tvalid_1's l2: 0.1378\n",
      "[100]\tvalid_0's rmse: 0.277394\tvalid_0's l2: 0.0769476\tvalid_1's rmse: 0.370272\tvalid_1's l2: 0.137101\n",
      "[50]\tvalid_0's rmse: 0.304287\tvalid_0's l2: 0.0925906\tvalid_1's rmse: 0.367408\tvalid_1's l2: 0.134989\n",
      "[100]\tvalid_0's rmse: 0.279603\tvalid_0's l2: 0.0781777\tvalid_1's rmse: 0.365472\tvalid_1's l2: 0.13357\n",
      "[50]\tvalid_0's rmse: 0.358452\tvalid_0's l2: 0.128488\tvalid_1's rmse: 0.366135\tvalid_1's l2: 0.134055\n",
      "[100]\tvalid_0's rmse: 0.340596\tvalid_0's l2: 0.116006\tvalid_1's rmse: 0.357148\tvalid_1's l2: 0.127555\n"
     ]
    },
    {
     "name": "stdout",
     "output_type": "stream",
     "text": [
      "[50]\tvalid_0's rmse: 0.36173\tvalid_0's l2: 0.130849\tvalid_1's rmse: 0.369579\tvalid_1's l2: 0.136588\n",
      "[100]\tvalid_0's rmse: 0.34431\tvalid_0's l2: 0.11855\tvalid_1's rmse: 0.364921\tvalid_1's l2: 0.133168\n",
      "[50]\tvalid_0's rmse: 0.360464\tvalid_0's l2: 0.129934\tvalid_1's rmse: 0.365571\tvalid_1's l2: 0.133642\n",
      "[100]\tvalid_0's rmse: 0.345125\tvalid_0's l2: 0.119112\tvalid_1's rmse: 0.362313\tvalid_1's l2: 0.131271\n",
      "[50]\tvalid_0's rmse: 0.359713\tvalid_0's l2: 0.129394\tvalid_1's rmse: 0.367936\tvalid_1's l2: 0.135377\n",
      "[100]\tvalid_0's rmse: 0.341006\tvalid_0's l2: 0.116285\tvalid_1's rmse: 0.359627\tvalid_1's l2: 0.129332\n",
      "[50]\tvalid_0's rmse: 0.35771\tvalid_0's l2: 0.127956\tvalid_1's rmse: 0.367078\tvalid_1's l2: 0.134746\n",
      "[100]\tvalid_0's rmse: 0.340394\tvalid_0's l2: 0.115868\tvalid_1's rmse: 0.361488\tvalid_1's l2: 0.130674\n",
      "[50]\tvalid_0's rmse: 0.334328\tvalid_0's l2: 0.111776\tvalid_1's rmse: 0.362938\tvalid_1's l2: 0.131724\n",
      "[100]\tvalid_0's rmse: 0.313642\tvalid_0's l2: 0.0983715\tvalid_1's rmse: 0.357429\tvalid_1's l2: 0.127755\n",
      "[50]\tvalid_0's rmse: 0.336675\tvalid_0's l2: 0.11335\tvalid_1's rmse: 0.363795\tvalid_1's l2: 0.132347\n",
      "[100]\tvalid_0's rmse: 0.318617\tvalid_0's l2: 0.101517\tvalid_1's rmse: 0.361318\tvalid_1's l2: 0.13055\n",
      "[50]\tvalid_0's rmse: 0.337152\tvalid_0's l2: 0.113672\tvalid_1's rmse: 0.367216\tvalid_1's l2: 0.134847\n",
      "[100]\tvalid_0's rmse: 0.319795\tvalid_0's l2: 0.102269\tvalid_1's rmse: 0.364599\tvalid_1's l2: 0.132932\n",
      "[50]\tvalid_0's rmse: 0.334923\tvalid_0's l2: 0.112173\tvalid_1's rmse: 0.368905\tvalid_1's l2: 0.136091\n",
      "[100]\tvalid_0's rmse: 0.314324\tvalid_0's l2: 0.0987997\tvalid_1's rmse: 0.36352\tvalid_1's l2: 0.132147\n",
      "[50]\tvalid_0's rmse: 0.333505\tvalid_0's l2: 0.111226\tvalid_1's rmse: 0.364621\tvalid_1's l2: 0.132948\n",
      "[100]\tvalid_0's rmse: 0.314388\tvalid_0's l2: 0.0988399\tvalid_1's rmse: 0.358827\tvalid_1's l2: 0.128757\n",
      "[50]\tvalid_0's rmse: 0.317386\tvalid_0's l2: 0.100734\tvalid_1's rmse: 0.362974\tvalid_1's l2: 0.13175\n",
      "[100]\tvalid_0's rmse: 0.293773\tvalid_0's l2: 0.0863025\tvalid_1's rmse: 0.358215\tvalid_1's l2: 0.128318\n",
      "[50]\tvalid_0's rmse: 0.321324\tvalid_0's l2: 0.103249\tvalid_1's rmse: 0.365239\tvalid_1's l2: 0.1334\n",
      "[100]\tvalid_0's rmse: 0.300696\tvalid_0's l2: 0.090418\tvalid_1's rmse: 0.362613\tvalid_1's l2: 0.131488\n",
      "[50]\tvalid_0's rmse: 0.322099\tvalid_0's l2: 0.103748\tvalid_1's rmse: 0.370495\tvalid_1's l2: 0.137266\n",
      "[100]\tvalid_0's rmse: 0.302726\tvalid_0's l2: 0.0916433\tvalid_1's rmse: 0.369218\tvalid_1's l2: 0.136322\n",
      "[50]\tvalid_0's rmse: 0.317777\tvalid_0's l2: 0.100982\tvalid_1's rmse: 0.363692\tvalid_1's l2: 0.132272\n",
      "[100]\tvalid_0's rmse: 0.295403\tvalid_0's l2: 0.087263\tvalid_1's rmse: 0.360703\tvalid_1's l2: 0.130107\n",
      "[50]\tvalid_0's rmse: 0.31844\tvalid_0's l2: 0.101404\tvalid_1's rmse: 0.362302\tvalid_1's l2: 0.131263\n",
      "[100]\tvalid_0's rmse: 0.296712\tvalid_0's l2: 0.0880381\tvalid_1's rmse: 0.359404\tvalid_1's l2: 0.129171\n",
      "[50]\tvalid_0's rmse: 0.30277\tvalid_0's l2: 0.0916697\tvalid_1's rmse: 0.36483\tvalid_1's l2: 0.133101\n",
      "[100]\tvalid_0's rmse: 0.2771\tvalid_0's l2: 0.0767842\tvalid_1's rmse: 0.362844\tvalid_1's l2: 0.131656\n",
      "[50]\tvalid_0's rmse: 0.308844\tvalid_0's l2: 0.0953844\tvalid_1's rmse: 0.366177\tvalid_1's l2: 0.134086\n",
      "[100]\tvalid_0's rmse: 0.285787\tvalid_0's l2: 0.0816741\tvalid_1's rmse: 0.36659\tvalid_1's l2: 0.134388\n",
      "[50]\tvalid_0's rmse: 0.309404\tvalid_0's l2: 0.0957307\tvalid_1's rmse: 0.371784\tvalid_1's l2: 0.138224\n",
      "[100]\tvalid_0's rmse: 0.288224\tvalid_0's l2: 0.0830731\tvalid_1's rmse: 0.371745\tvalid_1's l2: 0.138194\n",
      "[50]\tvalid_0's rmse: 0.304925\tvalid_0's l2: 0.092979\tvalid_1's rmse: 0.369787\tvalid_1's l2: 0.136742\n",
      "[100]\tvalid_0's rmse: 0.278936\tvalid_0's l2: 0.0778053\tvalid_1's rmse: 0.366929\tvalid_1's l2: 0.134637\n",
      "[50]\tvalid_0's rmse: 0.305243\tvalid_0's l2: 0.0931731\tvalid_1's rmse: 0.36513\tvalid_1's l2: 0.13332\n",
      "[100]\tvalid_0's rmse: 0.281079\tvalid_0's l2: 0.0790056\tvalid_1's rmse: 0.36344\tvalid_1's l2: 0.132089\n",
      "[50]\tvalid_0's rmse: 0.358677\tvalid_0's l2: 0.128649\tvalid_1's rmse: 0.365407\tvalid_1's l2: 0.133522\n",
      "[100]\tvalid_0's rmse: 0.340329\tvalid_0's l2: 0.115824\tvalid_1's rmse: 0.355852\tvalid_1's l2: 0.126631\n",
      "[50]\tvalid_0's rmse: 0.360671\tvalid_0's l2: 0.130084\tvalid_1's rmse: 0.370852\tvalid_1's l2: 0.137531\n",
      "[100]\tvalid_0's rmse: 0.344701\tvalid_0's l2: 0.118819\tvalid_1's rmse: 0.365773\tvalid_1's l2: 0.13379\n",
      "[50]\tvalid_0's rmse: 0.360542\tvalid_0's l2: 0.129991\tvalid_1's rmse: 0.367028\tvalid_1's l2: 0.13471\n",
      "[100]\tvalid_0's rmse: 0.34466\tvalid_0's l2: 0.118791\tvalid_1's rmse: 0.362154\tvalid_1's l2: 0.131155\n",
      "[50]\tvalid_0's rmse: 0.359002\tvalid_0's l2: 0.128883\tvalid_1's rmse: 0.367897\tvalid_1's l2: 0.135349\n",
      "[100]\tvalid_0's rmse: 0.340875\tvalid_0's l2: 0.116195\tvalid_1's rmse: 0.360768\tvalid_1's l2: 0.130153\n",
      "[50]\tvalid_0's rmse: 0.358767\tvalid_0's l2: 0.128714\tvalid_1's rmse: 0.366016\tvalid_1's l2: 0.133968\n",
      "[100]\tvalid_0's rmse: 0.341137\tvalid_0's l2: 0.116374\tvalid_1's rmse: 0.359439\tvalid_1's l2: 0.129196\n",
      "[50]\tvalid_0's rmse: 0.333951\tvalid_0's l2: 0.111523\tvalid_1's rmse: 0.358883\tvalid_1's l2: 0.128797\n",
      "[100]\tvalid_0's rmse: 0.312759\tvalid_0's l2: 0.0978183\tvalid_1's rmse: 0.35326\tvalid_1's l2: 0.124793\n",
      "[50]\tvalid_0's rmse: 0.338595\tvalid_0's l2: 0.114647\tvalid_1's rmse: 0.367755\tvalid_1's l2: 0.135244\n",
      "[100]\tvalid_0's rmse: 0.319228\tvalid_0's l2: 0.101907\tvalid_1's rmse: 0.36287\tvalid_1's l2: 0.131675\n",
      "[50]\tvalid_0's rmse: 0.337427\tvalid_0's l2: 0.113857\tvalid_1's rmse: 0.36698\tvalid_1's l2: 0.134675\n",
      "[100]\tvalid_0's rmse: 0.320769\tvalid_0's l2: 0.102893\tvalid_1's rmse: 0.363456\tvalid_1's l2: 0.1321\n",
      "[50]\tvalid_0's rmse: 0.33452\tvalid_0's l2: 0.111904\tvalid_1's rmse: 0.36415\tvalid_1's l2: 0.132605\n",
      "[100]\tvalid_0's rmse: 0.314879\tvalid_0's l2: 0.099149\tvalid_1's rmse: 0.360268\tvalid_1's l2: 0.129793\n",
      "[50]\tvalid_0's rmse: 0.335214\tvalid_0's l2: 0.112369\tvalid_1's rmse: 0.366875\tvalid_1's l2: 0.134598\n",
      "[100]\tvalid_0's rmse: 0.315967\tvalid_0's l2: 0.0998354\tvalid_1's rmse: 0.361644\tvalid_1's l2: 0.130787\n",
      "[50]\tvalid_0's rmse: 0.317898\tvalid_0's l2: 0.101059\tvalid_1's rmse: 0.361135\tvalid_1's l2: 0.130418\n",
      "[100]\tvalid_0's rmse: 0.295254\tvalid_0's l2: 0.0871748\tvalid_1's rmse: 0.3572\tvalid_1's l2: 0.127592\n",
      "[50]\tvalid_0's rmse: 0.322454\tvalid_0's l2: 0.103976\tvalid_1's rmse: 0.366094\tvalid_1's l2: 0.134025\n",
      "[100]\tvalid_0's rmse: 0.301814\tvalid_0's l2: 0.0910919\tvalid_1's rmse: 0.363914\tvalid_1's l2: 0.132433\n",
      "[50]\tvalid_0's rmse: 0.322266\tvalid_0's l2: 0.103855\tvalid_1's rmse: 0.369108\tvalid_1's l2: 0.13624\n",
      "[100]\tvalid_0's rmse: 0.303514\tvalid_0's l2: 0.0921209\tvalid_1's rmse: 0.36663\tvalid_1's l2: 0.134417\n",
      "[50]\tvalid_0's rmse: 0.318323\tvalid_0's l2: 0.101329\tvalid_1's rmse: 0.37063\tvalid_1's l2: 0.137367\n",
      "[100]\tvalid_0's rmse: 0.296348\tvalid_0's l2: 0.0878222\tvalid_1's rmse: 0.367664\tvalid_1's l2: 0.135177\n",
      "[50]\tvalid_0's rmse: 0.319245\tvalid_0's l2: 0.101917\tvalid_1's rmse: 0.361973\tvalid_1's l2: 0.131024\n",
      "[100]\tvalid_0's rmse: 0.297947\tvalid_0's l2: 0.0887723\tvalid_1's rmse: 0.357986\tvalid_1's l2: 0.128154\n",
      "[50]\tvalid_0's rmse: 0.304454\tvalid_0's l2: 0.092692\tvalid_1's rmse: 0.363846\tvalid_1's l2: 0.132384\n",
      "[100]\tvalid_0's rmse: 0.278845\tvalid_0's l2: 0.0777546\tvalid_1's rmse: 0.362142\tvalid_1's l2: 0.131147\n",
      "[50]\tvalid_0's rmse: 0.31014\tvalid_0's l2: 0.096187\tvalid_1's rmse: 0.364163\tvalid_1's l2: 0.132615\n",
      "[100]\tvalid_0's rmse: 0.287\tvalid_0's l2: 0.0823687\tvalid_1's rmse: 0.363221\tvalid_1's l2: 0.13193\n",
      "[50]\tvalid_0's rmse: 0.311569\tvalid_0's l2: 0.0970753\tvalid_1's rmse: 0.36813\tvalid_1's l2: 0.13552\n",
      "[100]\tvalid_0's rmse: 0.288721\tvalid_0's l2: 0.0833596\tvalid_1's rmse: 0.366001\tvalid_1's l2: 0.133957\n",
      "[50]\tvalid_0's rmse: 0.305306\tvalid_0's l2: 0.093212\tvalid_1's rmse: 0.369333\tvalid_1's l2: 0.136407\n",
      "[100]\tvalid_0's rmse: 0.280616\tvalid_0's l2: 0.0787452\tvalid_1's rmse: 0.36884\tvalid_1's l2: 0.136043\n",
      "[50]\tvalid_0's rmse: 0.307046\tvalid_0's l2: 0.0942775\tvalid_1's rmse: 0.365584\tvalid_1's l2: 0.133652\n",
      "[100]\tvalid_0's rmse: 0.283026\tvalid_0's l2: 0.0801036\tvalid_1's rmse: 0.364058\tvalid_1's l2: 0.132538\n",
      "[50]\tvalid_0's rmse: 0.358775\tvalid_0's l2: 0.128719\tvalid_1's rmse: 0.367159\tvalid_1's l2: 0.134806\n",
      "[100]\tvalid_0's rmse: 0.340184\tvalid_0's l2: 0.115725\tvalid_1's rmse: 0.358405\tvalid_1's l2: 0.128454\n",
      "[50]\tvalid_0's rmse: 0.360622\tvalid_0's l2: 0.130048\tvalid_1's rmse: 0.36861\tvalid_1's l2: 0.135873\n"
     ]
    },
    {
     "name": "stdout",
     "output_type": "stream",
     "text": [
      "[100]\tvalid_0's rmse: 0.344471\tvalid_0's l2: 0.118661\tvalid_1's rmse: 0.365954\tvalid_1's l2: 0.133923\n",
      "[50]\tvalid_0's rmse: 0.360323\tvalid_0's l2: 0.129832\tvalid_1's rmse: 0.365617\tvalid_1's l2: 0.133676\n",
      "[100]\tvalid_0's rmse: 0.344464\tvalid_0's l2: 0.118656\tvalid_1's rmse: 0.360787\tvalid_1's l2: 0.130167\n",
      "[50]\tvalid_0's rmse: 0.359988\tvalid_0's l2: 0.129591\tvalid_1's rmse: 0.367006\tvalid_1's l2: 0.134694\n",
      "[100]\tvalid_0's rmse: 0.341075\tvalid_0's l2: 0.116332\tvalid_1's rmse: 0.359607\tvalid_1's l2: 0.129317\n",
      "[50]\tvalid_0's rmse: 0.358469\tvalid_0's l2: 0.1285\tvalid_1's rmse: 0.366605\tvalid_1's l2: 0.1344\n",
      "[100]\tvalid_0's rmse: 0.340793\tvalid_0's l2: 0.11614\tvalid_1's rmse: 0.359215\tvalid_1's l2: 0.129036\n",
      "[50]\tvalid_0's rmse: 0.333095\tvalid_0's l2: 0.110952\tvalid_1's rmse: 0.36438\tvalid_1's l2: 0.132773\n",
      "[100]\tvalid_0's rmse: 0.31252\tvalid_0's l2: 0.0976686\tvalid_1's rmse: 0.36052\tvalid_1's l2: 0.129975\n",
      "[50]\tvalid_0's rmse: 0.337019\tvalid_0's l2: 0.113582\tvalid_1's rmse: 0.365795\tvalid_1's l2: 0.133806\n",
      "[100]\tvalid_0's rmse: 0.318235\tvalid_0's l2: 0.101274\tvalid_1's rmse: 0.362962\tvalid_1's l2: 0.131741\n",
      "[50]\tvalid_0's rmse: 0.337151\tvalid_0's l2: 0.113671\tvalid_1's rmse: 0.370164\tvalid_1's l2: 0.137021\n",
      "[100]\tvalid_0's rmse: 0.319186\tvalid_0's l2: 0.10188\tvalid_1's rmse: 0.367215\tvalid_1's l2: 0.134847\n",
      "[50]\tvalid_0's rmse: 0.333816\tvalid_0's l2: 0.111433\tvalid_1's rmse: 0.363656\tvalid_1's l2: 0.132246\n",
      "[100]\tvalid_0's rmse: 0.313663\tvalid_0's l2: 0.0983843\tvalid_1's rmse: 0.359229\tvalid_1's l2: 0.129045\n",
      "[50]\tvalid_0's rmse: 0.334257\tvalid_0's l2: 0.111728\tvalid_1's rmse: 0.362366\tvalid_1's l2: 0.131309\n",
      "[100]\tvalid_0's rmse: 0.314365\tvalid_0's l2: 0.0988256\tvalid_1's rmse: 0.357317\tvalid_1's l2: 0.127675\n",
      "[50]\tvalid_0's rmse: 0.315687\tvalid_0's l2: 0.0996584\tvalid_1's rmse: 0.362824\tvalid_1's l2: 0.131642\n",
      "[100]\tvalid_0's rmse: 0.292528\tvalid_0's l2: 0.0855725\tvalid_1's rmse: 0.3602\tvalid_1's l2: 0.129744\n",
      "[50]\tvalid_0's rmse: 0.320494\tvalid_0's l2: 0.102716\tvalid_1's rmse: 0.367618\tvalid_1's l2: 0.135143\n",
      "[100]\tvalid_0's rmse: 0.299494\tvalid_0's l2: 0.0896967\tvalid_1's rmse: 0.365325\tvalid_1's l2: 0.133462\n",
      "[50]\tvalid_0's rmse: 0.320613\tvalid_0's l2: 0.102793\tvalid_1's rmse: 0.368152\tvalid_1's l2: 0.135536\n",
      "[100]\tvalid_0's rmse: 0.301572\tvalid_0's l2: 0.0909458\tvalid_1's rmse: 0.366566\tvalid_1's l2: 0.134371\n",
      "[50]\tvalid_0's rmse: 0.317675\tvalid_0's l2: 0.100918\tvalid_1's rmse: 0.364097\tvalid_1's l2: 0.132566\n",
      "[100]\tvalid_0's rmse: 0.294503\tvalid_0's l2: 0.0867321\tvalid_1's rmse: 0.361904\tvalid_1's l2: 0.130974\n",
      "[50]\tvalid_0's rmse: 0.317764\tvalid_0's l2: 0.100974\tvalid_1's rmse: 0.362966\tvalid_1's l2: 0.131744\n",
      "[100]\tvalid_0's rmse: 0.295885\tvalid_0's l2: 0.0875478\tvalid_1's rmse: 0.357826\tvalid_1's l2: 0.128039\n",
      "[50]\tvalid_0's rmse: 0.301594\tvalid_0's l2: 0.0909589\tvalid_1's rmse: 0.364141\tvalid_1's l2: 0.132599\n",
      "[100]\tvalid_0's rmse: 0.275328\tvalid_0's l2: 0.0758056\tvalid_1's rmse: 0.361922\tvalid_1's l2: 0.130988\n",
      "[50]\tvalid_0's rmse: 0.307537\tvalid_0's l2: 0.0945788\tvalid_1's rmse: 0.366379\tvalid_1's l2: 0.134234\n",
      "[100]\tvalid_0's rmse: 0.283714\tvalid_0's l2: 0.0804938\tvalid_1's rmse: 0.364863\tvalid_1's l2: 0.133125\n",
      "[50]\tvalid_0's rmse: 0.308188\tvalid_0's l2: 0.0949801\tvalid_1's rmse: 0.370495\tvalid_1's l2: 0.137266\n",
      "[100]\tvalid_0's rmse: 0.286427\tvalid_0's l2: 0.0820404\tvalid_1's rmse: 0.368808\tvalid_1's l2: 0.136019\n",
      "[50]\tvalid_0's rmse: 0.302745\tvalid_0's l2: 0.0916542\tvalid_1's rmse: 0.371214\tvalid_1's l2: 0.1378\n",
      "[100]\tvalid_0's rmse: 0.277375\tvalid_0's l2: 0.0769372\tvalid_1's rmse: 0.369837\tvalid_1's l2: 0.13678\n",
      "[50]\tvalid_0's rmse: 0.304287\tvalid_0's l2: 0.0925906\tvalid_1's rmse: 0.367408\tvalid_1's l2: 0.134989\n",
      "[100]\tvalid_0's rmse: 0.279481\tvalid_0's l2: 0.0781096\tvalid_1's rmse: 0.365362\tvalid_1's l2: 0.133489\n",
      "[50]\tvalid_0's rmse: 0.358452\tvalid_0's l2: 0.128488\tvalid_1's rmse: 0.366135\tvalid_1's l2: 0.134055\n",
      "[100]\tvalid_0's rmse: 0.340596\tvalid_0's l2: 0.116006\tvalid_1's rmse: 0.357148\tvalid_1's l2: 0.127555\n",
      "[50]\tvalid_0's rmse: 0.36173\tvalid_0's l2: 0.130849\tvalid_1's rmse: 0.369579\tvalid_1's l2: 0.136588\n",
      "[100]\tvalid_0's rmse: 0.34431\tvalid_0's l2: 0.11855\tvalid_1's rmse: 0.364921\tvalid_1's l2: 0.133168\n",
      "[50]\tvalid_0's rmse: 0.360464\tvalid_0's l2: 0.129934\tvalid_1's rmse: 0.365571\tvalid_1's l2: 0.133642\n",
      "[100]\tvalid_0's rmse: 0.345125\tvalid_0's l2: 0.119112\tvalid_1's rmse: 0.362313\tvalid_1's l2: 0.131271\n",
      "[50]\tvalid_0's rmse: 0.359713\tvalid_0's l2: 0.129394\tvalid_1's rmse: 0.367936\tvalid_1's l2: 0.135377\n",
      "[100]\tvalid_0's rmse: 0.341006\tvalid_0's l2: 0.116285\tvalid_1's rmse: 0.359627\tvalid_1's l2: 0.129332\n",
      "[50]\tvalid_0's rmse: 0.35771\tvalid_0's l2: 0.127956\tvalid_1's rmse: 0.367078\tvalid_1's l2: 0.134746\n",
      "[100]\tvalid_0's rmse: 0.340394\tvalid_0's l2: 0.115868\tvalid_1's rmse: 0.361488\tvalid_1's l2: 0.130674\n",
      "[50]\tvalid_0's rmse: 0.334328\tvalid_0's l2: 0.111776\tvalid_1's rmse: 0.362938\tvalid_1's l2: 0.131724\n",
      "[100]\tvalid_0's rmse: 0.313305\tvalid_0's l2: 0.0981597\tvalid_1's rmse: 0.356723\tvalid_1's l2: 0.127251\n",
      "[50]\tvalid_0's rmse: 0.336875\tvalid_0's l2: 0.113485\tvalid_1's rmse: 0.363916\tvalid_1's l2: 0.132435\n",
      "[100]\tvalid_0's rmse: 0.318635\tvalid_0's l2: 0.101528\tvalid_1's rmse: 0.361151\tvalid_1's l2: 0.13043\n",
      "[50]\tvalid_0's rmse: 0.337152\tvalid_0's l2: 0.113672\tvalid_1's rmse: 0.367216\tvalid_1's l2: 0.134847\n",
      "[100]\tvalid_0's rmse: 0.319795\tvalid_0's l2: 0.102269\tvalid_1's rmse: 0.364599\tvalid_1's l2: 0.132932\n",
      "[50]\tvalid_0's rmse: 0.334923\tvalid_0's l2: 0.112173\tvalid_1's rmse: 0.368905\tvalid_1's l2: 0.136091\n",
      "[100]\tvalid_0's rmse: 0.314287\tvalid_0's l2: 0.0987763\tvalid_1's rmse: 0.364018\tvalid_1's l2: 0.132509\n",
      "[50]\tvalid_0's rmse: 0.333505\tvalid_0's l2: 0.111226\tvalid_1's rmse: 0.364621\tvalid_1's l2: 0.132948\n",
      "[100]\tvalid_0's rmse: 0.314531\tvalid_0's l2: 0.0989298\tvalid_1's rmse: 0.36037\tvalid_1's l2: 0.129866\n",
      "[50]\tvalid_0's rmse: 0.317386\tvalid_0's l2: 0.100734\tvalid_1's rmse: 0.362974\tvalid_1's l2: 0.13175\n",
      "[100]\tvalid_0's rmse: 0.294279\tvalid_0's l2: 0.0866002\tvalid_1's rmse: 0.357947\tvalid_1's l2: 0.128126\n",
      "[50]\tvalid_0's rmse: 0.32132\tvalid_0's l2: 0.103247\tvalid_1's rmse: 0.365239\tvalid_1's l2: 0.1334\n",
      "[100]\tvalid_0's rmse: 0.300662\tvalid_0's l2: 0.0903974\tvalid_1's rmse: 0.363335\tvalid_1's l2: 0.132012\n",
      "[50]\tvalid_0's rmse: 0.322068\tvalid_0's l2: 0.103728\tvalid_1's rmse: 0.370302\tvalid_1's l2: 0.137124\n",
      "[100]\tvalid_0's rmse: 0.302193\tvalid_0's l2: 0.0913204\tvalid_1's rmse: 0.366082\tvalid_1's l2: 0.134016\n",
      "[50]\tvalid_0's rmse: 0.317777\tvalid_0's l2: 0.100982\tvalid_1's rmse: 0.363692\tvalid_1's l2: 0.132272\n",
      "[100]\tvalid_0's rmse: 0.295503\tvalid_0's l2: 0.0873218\tvalid_1's rmse: 0.360919\tvalid_1's l2: 0.130263\n",
      "[50]\tvalid_0's rmse: 0.31844\tvalid_0's l2: 0.101404\tvalid_1's rmse: 0.362302\tvalid_1's l2: 0.131263\n",
      "[100]\tvalid_0's rmse: 0.296881\tvalid_0's l2: 0.0881383\tvalid_1's rmse: 0.359169\tvalid_1's l2: 0.129002\n",
      "[50]\tvalid_0's rmse: 0.302681\tvalid_0's l2: 0.0916158\tvalid_1's rmse: 0.364156\tvalid_1's l2: 0.13261\n",
      "[100]\tvalid_0's rmse: 0.276769\tvalid_0's l2: 0.0766009\tvalid_1's rmse: 0.361464\tvalid_1's l2: 0.130656\n",
      "[50]\tvalid_0's rmse: 0.309075\tvalid_0's l2: 0.0955275\tvalid_1's rmse: 0.367202\tvalid_1's l2: 0.134837\n",
      "[100]\tvalid_0's rmse: 0.286192\tvalid_0's l2: 0.0819061\tvalid_1's rmse: 0.366256\tvalid_1's l2: 0.134143\n",
      "[50]\tvalid_0's rmse: 0.309404\tvalid_0's l2: 0.0957307\tvalid_1's rmse: 0.371784\tvalid_1's l2: 0.138224\n",
      "[100]\tvalid_0's rmse: 0.288139\tvalid_0's l2: 0.0830241\tvalid_1's rmse: 0.370978\tvalid_1's l2: 0.137624\n",
      "[50]\tvalid_0's rmse: 0.304925\tvalid_0's l2: 0.092979\tvalid_1's rmse: 0.369787\tvalid_1's l2: 0.136742\n",
      "[100]\tvalid_0's rmse: 0.278864\tvalid_0's l2: 0.0777649\tvalid_1's rmse: 0.367685\tvalid_1's l2: 0.135193\n",
      "[50]\tvalid_0's rmse: 0.305243\tvalid_0's l2: 0.0931731\tvalid_1's rmse: 0.36513\tvalid_1's l2: 0.13332\n",
      "[100]\tvalid_0's rmse: 0.280988\tvalid_0's l2: 0.078954\tvalid_1's rmse: 0.363523\tvalid_1's l2: 0.132149\n",
      "[50]\tvalid_0's rmse: 0.358677\tvalid_0's l2: 0.128649\tvalid_1's rmse: 0.365407\tvalid_1's l2: 0.133522\n",
      "[100]\tvalid_0's rmse: 0.340329\tvalid_0's l2: 0.115824\tvalid_1's rmse: 0.355852\tvalid_1's l2: 0.126631\n",
      "[50]\tvalid_0's rmse: 0.360671\tvalid_0's l2: 0.130084\tvalid_1's rmse: 0.370852\tvalid_1's l2: 0.137531\n",
      "[100]\tvalid_0's rmse: 0.344701\tvalid_0's l2: 0.118819\tvalid_1's rmse: 0.365773\tvalid_1's l2: 0.13379\n"
     ]
    },
    {
     "name": "stdout",
     "output_type": "stream",
     "text": [
      "[50]\tvalid_0's rmse: 0.360542\tvalid_0's l2: 0.129991\tvalid_1's rmse: 0.367028\tvalid_1's l2: 0.13471\n",
      "[100]\tvalid_0's rmse: 0.34466\tvalid_0's l2: 0.118791\tvalid_1's rmse: 0.362154\tvalid_1's l2: 0.131155\n",
      "[50]\tvalid_0's rmse: 0.359002\tvalid_0's l2: 0.128883\tvalid_1's rmse: 0.367897\tvalid_1's l2: 0.135349\n",
      "[100]\tvalid_0's rmse: 0.340875\tvalid_0's l2: 0.116195\tvalid_1's rmse: 0.360768\tvalid_1's l2: 0.130153\n",
      "[50]\tvalid_0's rmse: 0.358767\tvalid_0's l2: 0.128714\tvalid_1's rmse: 0.366016\tvalid_1's l2: 0.133968\n",
      "[100]\tvalid_0's rmse: 0.341137\tvalid_0's l2: 0.116374\tvalid_1's rmse: 0.359439\tvalid_1's l2: 0.129196\n",
      "[50]\tvalid_0's rmse: 0.333951\tvalid_0's l2: 0.111523\tvalid_1's rmse: 0.358883\tvalid_1's l2: 0.128797\n",
      "[100]\tvalid_0's rmse: 0.312759\tvalid_0's l2: 0.0978183\tvalid_1's rmse: 0.35326\tvalid_1's l2: 0.124793\n",
      "[50]\tvalid_0's rmse: 0.338592\tvalid_0's l2: 0.114644\tvalid_1's rmse: 0.36785\tvalid_1's l2: 0.135314\n",
      "[100]\tvalid_0's rmse: 0.319429\tvalid_0's l2: 0.102035\tvalid_1's rmse: 0.362885\tvalid_1's l2: 0.131685\n",
      "[50]\tvalid_0's rmse: 0.33729\tvalid_0's l2: 0.113764\tvalid_1's rmse: 0.366589\tvalid_1's l2: 0.134387\n",
      "[100]\tvalid_0's rmse: 0.320329\tvalid_0's l2: 0.102611\tvalid_1's rmse: 0.36326\tvalid_1's l2: 0.131958\n",
      "[50]\tvalid_0's rmse: 0.33452\tvalid_0's l2: 0.111904\tvalid_1's rmse: 0.36415\tvalid_1's l2: 0.132605\n",
      "[100]\tvalid_0's rmse: 0.314879\tvalid_0's l2: 0.099149\tvalid_1's rmse: 0.360268\tvalid_1's l2: 0.129793\n",
      "[50]\tvalid_0's rmse: 0.335214\tvalid_0's l2: 0.112369\tvalid_1's rmse: 0.366875\tvalid_1's l2: 0.134598\n",
      "[100]\tvalid_0's rmse: 0.315967\tvalid_0's l2: 0.0998354\tvalid_1's rmse: 0.361644\tvalid_1's l2: 0.130787\n",
      "[50]\tvalid_0's rmse: 0.317898\tvalid_0's l2: 0.101059\tvalid_1's rmse: 0.361135\tvalid_1's l2: 0.130418\n",
      "[100]\tvalid_0's rmse: 0.294748\tvalid_0's l2: 0.0868763\tvalid_1's rmse: 0.357127\tvalid_1's l2: 0.127539\n",
      "[50]\tvalid_0's rmse: 0.322449\tvalid_0's l2: 0.103973\tvalid_1's rmse: 0.366094\tvalid_1's l2: 0.134025\n",
      "[100]\tvalid_0's rmse: 0.301833\tvalid_0's l2: 0.0911034\tvalid_1's rmse: 0.363676\tvalid_1's l2: 0.13226\n",
      "[50]\tvalid_0's rmse: 0.322079\tvalid_0's l2: 0.103735\tvalid_1's rmse: 0.368503\tvalid_1's l2: 0.135794\n",
      "[100]\tvalid_0's rmse: 0.303166\tvalid_0's l2: 0.0919098\tvalid_1's rmse: 0.366504\tvalid_1's l2: 0.134325\n",
      "[50]\tvalid_0's rmse: 0.318172\tvalid_0's l2: 0.101234\tvalid_1's rmse: 0.369985\tvalid_1's l2: 0.136889\n",
      "[100]\tvalid_0's rmse: 0.296177\tvalid_0's l2: 0.0877207\tvalid_1's rmse: 0.368125\tvalid_1's l2: 0.135516\n",
      "[50]\tvalid_0's rmse: 0.319223\tvalid_0's l2: 0.101903\tvalid_1's rmse: 0.362051\tvalid_1's l2: 0.131081\n",
      "[100]\tvalid_0's rmse: 0.298214\tvalid_0's l2: 0.0889317\tvalid_1's rmse: 0.360174\tvalid_1's l2: 0.129725\n",
      "[50]\tvalid_0's rmse: 0.304454\tvalid_0's l2: 0.092692\tvalid_1's rmse: 0.363846\tvalid_1's l2: 0.132384\n",
      "[100]\tvalid_0's rmse: 0.278386\tvalid_0's l2: 0.0774985\tvalid_1's rmse: 0.362397\tvalid_1's l2: 0.131332\n",
      "[50]\tvalid_0's rmse: 0.310087\tvalid_0's l2: 0.0961542\tvalid_1's rmse: 0.364288\tvalid_1's l2: 0.132706\n",
      "[100]\tvalid_0's rmse: 0.286798\tvalid_0's l2: 0.0822531\tvalid_1's rmse: 0.362497\tvalid_1's l2: 0.131404\n",
      "[50]\tvalid_0's rmse: 0.311569\tvalid_0's l2: 0.0970751\tvalid_1's rmse: 0.368105\tvalid_1's l2: 0.135502\n",
      "[100]\tvalid_0's rmse: 0.289321\tvalid_0's l2: 0.0837064\tvalid_1's rmse: 0.366509\tvalid_1's l2: 0.134329\n",
      "[50]\tvalid_0's rmse: 0.305287\tvalid_0's l2: 0.0932004\tvalid_1's rmse: 0.369345\tvalid_1's l2: 0.136415\n",
      "[100]\tvalid_0's rmse: 0.28013\tvalid_0's l2: 0.078473\tvalid_1's rmse: 0.366728\tvalid_1's l2: 0.13449\n",
      "[50]\tvalid_0's rmse: 0.306851\tvalid_0's l2: 0.0941575\tvalid_1's rmse: 0.365809\tvalid_1's l2: 0.133816\n",
      "[100]\tvalid_0's rmse: 0.282562\tvalid_0's l2: 0.0798415\tvalid_1's rmse: 0.363466\tvalid_1's l2: 0.132107\n",
      "[50]\ttraining's rmse: 0.313633\ttraining's l2: 0.0983657\tvalid_1's rmse: 0.363324\tvalid_1's l2: 0.132005\n",
      "[100]\ttraining's rmse: 0.288822\ttraining's l2: 0.0834181\tvalid_1's rmse: 0.359752\tvalid_1's l2: 0.129421\n"
     ]
    },
    {
     "data": {
      "text/plain": [
       "GridSearchCV(estimator=LGBMRegressor(),\n",
       "             param_grid={'max_depth': [-1, 50, 100],\n",
       "                         'min_child_samples': [5, 10, 15],\n",
       "                         'num_leaves': [100, 300, 600, 1000]})"
      ]
     },
     "execution_count": 8,
     "metadata": {},
     "output_type": "execute_result"
    }
   ],
   "source": [
    "from sklearn.model_selection import GridSearchCV\n",
    "\n",
    "# 그리드 탐색범위 설정\n",
    "grid_params = {\n",
    "    'num_leaves': [100,300,600,1000],\n",
    "    'max_depth':[-1,50,100],\n",
    "    'min_child_samples':[5,10,15],\n",
    "}\n",
    "\n",
    "# 입력데이터셋설정\n",
    "train_ds = lgb.Dataset(x_train, label = y_train) \n",
    "valid_ds = lgb.Dataset(x_valid, label = y_valid) \n",
    "\n",
    "# LGBM wrapper + GridSearchCV\n",
    "lgb_reg = lgb.LGBMRegressor()\n",
    "clf = GridSearchCV(lgb_reg, grid_params)\n",
    "clf.fit(x_train, y_train, early_stopping_rounds=100, eval_metric='rmse', eval_set=[(x_train,y_train), (x_valid,y_valid)],\n",
    "       verbose=50)"
   ]
  },
  {
   "cell_type": "code",
   "execution_count": 9,
   "id": "575c5ef5",
   "metadata": {},
   "outputs": [
    {
     "name": "stdout",
     "output_type": "stream",
     "text": [
      "best params : {'max_depth': 50, 'min_child_samples': 5, 'num_leaves': 600}\n"
     ]
    }
   ],
   "source": [
    "# 최적파라미터 출력\n",
    "print('best params :',clf.best_params_)"
   ]
  },
  {
   "cell_type": "code",
   "execution_count": 21,
   "id": "182e815b",
   "metadata": {
    "scrolled": true
   },
   "outputs": [
    {
     "data": {
      "text/html": [
       "<div>\n",
       "<style scoped>\n",
       "    .dataframe tbody tr th:only-of-type {\n",
       "        vertical-align: middle;\n",
       "    }\n",
       "\n",
       "    .dataframe tbody tr th {\n",
       "        vertical-align: top;\n",
       "    }\n",
       "\n",
       "    .dataframe thead th {\n",
       "        text-align: right;\n",
       "    }\n",
       "</style>\n",
       "<table border=\"1\" class=\"dataframe\">\n",
       "  <thead>\n",
       "    <tr style=\"text-align: right;\">\n",
       "      <th></th>\n",
       "      <th>name</th>\n",
       "      <th>value</th>\n",
       "    </tr>\n",
       "  </thead>\n",
       "  <tbody>\n",
       "    <tr>\n",
       "      <th>2</th>\n",
       "      <td>item_id</td>\n",
       "      <td>7775</td>\n",
       "    </tr>\n",
       "    <tr>\n",
       "      <th>5</th>\n",
       "      <td>date_item_avg_item_price</td>\n",
       "      <td>5481</td>\n",
       "    </tr>\n",
       "    <tr>\n",
       "      <th>3</th>\n",
       "      <td>item_price</td>\n",
       "      <td>5435</td>\n",
       "    </tr>\n",
       "    <tr>\n",
       "      <th>4</th>\n",
       "      <td>item_avg_item_price</td>\n",
       "      <td>4986</td>\n",
       "    </tr>\n",
       "    <tr>\n",
       "      <th>0</th>\n",
       "      <td>date_block_num</td>\n",
       "      <td>4560</td>\n",
       "    </tr>\n",
       "    <tr>\n",
       "      <th>1</th>\n",
       "      <td>shop_id</td>\n",
       "      <td>3640</td>\n",
       "    </tr>\n",
       "    <tr>\n",
       "      <th>9</th>\n",
       "      <td>delta_price_lag_1</td>\n",
       "      <td>3617</td>\n",
       "    </tr>\n",
       "    <tr>\n",
       "      <th>12</th>\n",
       "      <td>month</td>\n",
       "      <td>3139</td>\n",
       "    </tr>\n",
       "    <tr>\n",
       "      <th>13</th>\n",
       "      <td>item_cnt_month_lag_1</td>\n",
       "      <td>2693</td>\n",
       "    </tr>\n",
       "    <tr>\n",
       "      <th>10</th>\n",
       "      <td>delta_price_lag_2</td>\n",
       "      <td>2519</td>\n",
       "    </tr>\n",
       "    <tr>\n",
       "      <th>14</th>\n",
       "      <td>item_cnt_month_lag_2</td>\n",
       "      <td>2365</td>\n",
       "    </tr>\n",
       "    <tr>\n",
       "      <th>6</th>\n",
       "      <td>date_item_avg_item_price_lag_1</td>\n",
       "      <td>2205</td>\n",
       "    </tr>\n",
       "    <tr>\n",
       "      <th>11</th>\n",
       "      <td>delta_price_lag_3</td>\n",
       "      <td>2113</td>\n",
       "    </tr>\n",
       "    <tr>\n",
       "      <th>15</th>\n",
       "      <td>item_cnt_month_lag_3</td>\n",
       "      <td>1915</td>\n",
       "    </tr>\n",
       "    <tr>\n",
       "      <th>7</th>\n",
       "      <td>date_item_avg_item_price_lag_2</td>\n",
       "      <td>1815</td>\n",
       "    </tr>\n",
       "    <tr>\n",
       "      <th>8</th>\n",
       "      <td>date_item_avg_item_price_lag_3</td>\n",
       "      <td>1526</td>\n",
       "    </tr>\n",
       "    <tr>\n",
       "      <th>16</th>\n",
       "      <td>item_price_lag_1</td>\n",
       "      <td>1141</td>\n",
       "    </tr>\n",
       "    <tr>\n",
       "      <th>17</th>\n",
       "      <td>item_price_lag_2</td>\n",
       "      <td>863</td>\n",
       "    </tr>\n",
       "    <tr>\n",
       "      <th>18</th>\n",
       "      <td>item_price_lag_3</td>\n",
       "      <td>752</td>\n",
       "    </tr>\n",
       "    <tr>\n",
       "      <th>19</th>\n",
       "      <td>capital</td>\n",
       "      <td>495</td>\n",
       "    </tr>\n",
       "    <tr>\n",
       "      <th>20</th>\n",
       "      <td>non_capital</td>\n",
       "      <td>410</td>\n",
       "    </tr>\n",
       "    <tr>\n",
       "      <th>22</th>\n",
       "      <td>shopping_mall</td>\n",
       "      <td>162</td>\n",
       "    </tr>\n",
       "    <tr>\n",
       "      <th>21</th>\n",
       "      <td>city_etc</td>\n",
       "      <td>150</td>\n",
       "    </tr>\n",
       "    <tr>\n",
       "      <th>24</th>\n",
       "      <td>computer_mall</td>\n",
       "      <td>85</td>\n",
       "    </tr>\n",
       "    <tr>\n",
       "      <th>25</th>\n",
       "      <td>type_etc</td>\n",
       "      <td>58</td>\n",
       "    </tr>\n",
       "    <tr>\n",
       "      <th>23</th>\n",
       "      <td>online_mall</td>\n",
       "      <td>0</td>\n",
       "    </tr>\n",
       "  </tbody>\n",
       "</table>\n",
       "</div>"
      ],
      "text/plain": [
       "                              name  value\n",
       "2                          item_id   7775\n",
       "5         date_item_avg_item_price   5481\n",
       "3                       item_price   5435\n",
       "4              item_avg_item_price   4986\n",
       "0                   date_block_num   4560\n",
       "1                          shop_id   3640\n",
       "9                delta_price_lag_1   3617\n",
       "12                           month   3139\n",
       "13            item_cnt_month_lag_1   2693\n",
       "10               delta_price_lag_2   2519\n",
       "14            item_cnt_month_lag_2   2365\n",
       "6   date_item_avg_item_price_lag_1   2205\n",
       "11               delta_price_lag_3   2113\n",
       "15            item_cnt_month_lag_3   1915\n",
       "7   date_item_avg_item_price_lag_2   1815\n",
       "8   date_item_avg_item_price_lag_3   1526\n",
       "16                item_price_lag_1   1141\n",
       "17                item_price_lag_2    863\n",
       "18                item_price_lag_3    752\n",
       "19                         capital    495\n",
       "20                     non_capital    410\n",
       "22                   shopping_mall    162\n",
       "21                        city_etc    150\n",
       "24                   computer_mall     85\n",
       "25                        type_etc     58\n",
       "23                     online_mall      0"
      ]
     },
     "execution_count": 21,
     "metadata": {},
     "output_type": "execute_result"
    }
   ],
   "source": [
    "# feature importance 출력\n",
    "importance = clf.best_estimator_.feature_importances_\n",
    "importance_name = clf.best_estimator_.feature_name_\n",
    "df_importance = pd.DataFrame(dict(name=importance_name, value=importance)).sort_values('value', ascending=False)\n",
    "df_importance"
   ]
  },
  {
   "cell_type": "code",
   "execution_count": 22,
   "id": "b9fd5b0b",
   "metadata": {},
   "outputs": [
    {
     "data": {
      "application/vnd.plotly.v1+json": {
       "config": {
        "plotlyServerURL": "https://plot.ly"
       },
       "data": [
        {
         "hovertemplate": "name=%{theta}<br>value=%{r}<extra></extra>",
         "legendgroup": "item_id",
         "marker": {
          "color": "#f0f921",
          "pattern": {
           "shape": ""
          }
         },
         "name": "item_id",
         "r": [
          7775
         ],
         "showlegend": true,
         "subplot": "polar",
         "theta": [
          "item_id"
         ],
         "type": "barpolar"
        },
        {
         "hovertemplate": "name=%{theta}<br>value=%{r}<extra></extra>",
         "legendgroup": "date_item_avg_item_price",
         "marker": {
          "color": "#fdca26",
          "pattern": {
           "shape": ""
          }
         },
         "name": "date_item_avg_item_price",
         "r": [
          5481
         ],
         "showlegend": true,
         "subplot": "polar",
         "theta": [
          "date_item_avg_item_price"
         ],
         "type": "barpolar"
        },
        {
         "hovertemplate": "name=%{theta}<br>value=%{r}<extra></extra>",
         "legendgroup": "item_price",
         "marker": {
          "color": "#fb9f3a",
          "pattern": {
           "shape": ""
          }
         },
         "name": "item_price",
         "r": [
          5435
         ],
         "showlegend": true,
         "subplot": "polar",
         "theta": [
          "item_price"
         ],
         "type": "barpolar"
        },
        {
         "hovertemplate": "name=%{theta}<br>value=%{r}<extra></extra>",
         "legendgroup": "item_avg_item_price",
         "marker": {
          "color": "#ed7953",
          "pattern": {
           "shape": ""
          }
         },
         "name": "item_avg_item_price",
         "r": [
          4986
         ],
         "showlegend": true,
         "subplot": "polar",
         "theta": [
          "item_avg_item_price"
         ],
         "type": "barpolar"
        },
        {
         "hovertemplate": "name=%{theta}<br>value=%{r}<extra></extra>",
         "legendgroup": "date_block_num",
         "marker": {
          "color": "#d8576b",
          "pattern": {
           "shape": ""
          }
         },
         "name": "date_block_num",
         "r": [
          4560
         ],
         "showlegend": true,
         "subplot": "polar",
         "theta": [
          "date_block_num"
         ],
         "type": "barpolar"
        },
        {
         "hovertemplate": "name=%{theta}<br>value=%{r}<extra></extra>",
         "legendgroup": "shop_id",
         "marker": {
          "color": "#bd3786",
          "pattern": {
           "shape": ""
          }
         },
         "name": "shop_id",
         "r": [
          3640
         ],
         "showlegend": true,
         "subplot": "polar",
         "theta": [
          "shop_id"
         ],
         "type": "barpolar"
        },
        {
         "hovertemplate": "name=%{theta}<br>value=%{r}<extra></extra>",
         "legendgroup": "delta_price_lag_1",
         "marker": {
          "color": "#9c179e",
          "pattern": {
           "shape": ""
          }
         },
         "name": "delta_price_lag_1",
         "r": [
          3617
         ],
         "showlegend": true,
         "subplot": "polar",
         "theta": [
          "delta_price_lag_1"
         ],
         "type": "barpolar"
        },
        {
         "hovertemplate": "name=%{theta}<br>value=%{r}<extra></extra>",
         "legendgroup": "month",
         "marker": {
          "color": "#7201a8",
          "pattern": {
           "shape": ""
          }
         },
         "name": "month",
         "r": [
          3139
         ],
         "showlegend": true,
         "subplot": "polar",
         "theta": [
          "month"
         ],
         "type": "barpolar"
        },
        {
         "hovertemplate": "name=%{theta}<br>value=%{r}<extra></extra>",
         "legendgroup": "item_cnt_month_lag_1",
         "marker": {
          "color": "#46039f",
          "pattern": {
           "shape": ""
          }
         },
         "name": "item_cnt_month_lag_1",
         "r": [
          2693
         ],
         "showlegend": true,
         "subplot": "polar",
         "theta": [
          "item_cnt_month_lag_1"
         ],
         "type": "barpolar"
        },
        {
         "hovertemplate": "name=%{theta}<br>value=%{r}<extra></extra>",
         "legendgroup": "delta_price_lag_2",
         "marker": {
          "color": "#0d0887",
          "pattern": {
           "shape": ""
          }
         },
         "name": "delta_price_lag_2",
         "r": [
          2519
         ],
         "showlegend": true,
         "subplot": "polar",
         "theta": [
          "delta_price_lag_2"
         ],
         "type": "barpolar"
        },
        {
         "hovertemplate": "name=%{theta}<br>value=%{r}<extra></extra>",
         "legendgroup": "item_cnt_month_lag_2",
         "marker": {
          "color": "#f0f921",
          "pattern": {
           "shape": ""
          }
         },
         "name": "item_cnt_month_lag_2",
         "r": [
          2365
         ],
         "showlegend": true,
         "subplot": "polar",
         "theta": [
          "item_cnt_month_lag_2"
         ],
         "type": "barpolar"
        },
        {
         "hovertemplate": "name=%{theta}<br>value=%{r}<extra></extra>",
         "legendgroup": "date_item_avg_item_price_lag_1",
         "marker": {
          "color": "#fdca26",
          "pattern": {
           "shape": ""
          }
         },
         "name": "date_item_avg_item_price_lag_1",
         "r": [
          2205
         ],
         "showlegend": true,
         "subplot": "polar",
         "theta": [
          "date_item_avg_item_price_lag_1"
         ],
         "type": "barpolar"
        },
        {
         "hovertemplate": "name=%{theta}<br>value=%{r}<extra></extra>",
         "legendgroup": "delta_price_lag_3",
         "marker": {
          "color": "#fb9f3a",
          "pattern": {
           "shape": ""
          }
         },
         "name": "delta_price_lag_3",
         "r": [
          2113
         ],
         "showlegend": true,
         "subplot": "polar",
         "theta": [
          "delta_price_lag_3"
         ],
         "type": "barpolar"
        },
        {
         "hovertemplate": "name=%{theta}<br>value=%{r}<extra></extra>",
         "legendgroup": "item_cnt_month_lag_3",
         "marker": {
          "color": "#ed7953",
          "pattern": {
           "shape": ""
          }
         },
         "name": "item_cnt_month_lag_3",
         "r": [
          1915
         ],
         "showlegend": true,
         "subplot": "polar",
         "theta": [
          "item_cnt_month_lag_3"
         ],
         "type": "barpolar"
        },
        {
         "hovertemplate": "name=%{theta}<br>value=%{r}<extra></extra>",
         "legendgroup": "date_item_avg_item_price_lag_2",
         "marker": {
          "color": "#d8576b",
          "pattern": {
           "shape": ""
          }
         },
         "name": "date_item_avg_item_price_lag_2",
         "r": [
          1815
         ],
         "showlegend": true,
         "subplot": "polar",
         "theta": [
          "date_item_avg_item_price_lag_2"
         ],
         "type": "barpolar"
        },
        {
         "hovertemplate": "name=%{theta}<br>value=%{r}<extra></extra>",
         "legendgroup": "date_item_avg_item_price_lag_3",
         "marker": {
          "color": "#bd3786",
          "pattern": {
           "shape": ""
          }
         },
         "name": "date_item_avg_item_price_lag_3",
         "r": [
          1526
         ],
         "showlegend": true,
         "subplot": "polar",
         "theta": [
          "date_item_avg_item_price_lag_3"
         ],
         "type": "barpolar"
        },
        {
         "hovertemplate": "name=%{theta}<br>value=%{r}<extra></extra>",
         "legendgroup": "item_price_lag_1",
         "marker": {
          "color": "#9c179e",
          "pattern": {
           "shape": ""
          }
         },
         "name": "item_price_lag_1",
         "r": [
          1141
         ],
         "showlegend": true,
         "subplot": "polar",
         "theta": [
          "item_price_lag_1"
         ],
         "type": "barpolar"
        },
        {
         "hovertemplate": "name=%{theta}<br>value=%{r}<extra></extra>",
         "legendgroup": "item_price_lag_2",
         "marker": {
          "color": "#7201a8",
          "pattern": {
           "shape": ""
          }
         },
         "name": "item_price_lag_2",
         "r": [
          863
         ],
         "showlegend": true,
         "subplot": "polar",
         "theta": [
          "item_price_lag_2"
         ],
         "type": "barpolar"
        },
        {
         "hovertemplate": "name=%{theta}<br>value=%{r}<extra></extra>",
         "legendgroup": "item_price_lag_3",
         "marker": {
          "color": "#46039f",
          "pattern": {
           "shape": ""
          }
         },
         "name": "item_price_lag_3",
         "r": [
          752
         ],
         "showlegend": true,
         "subplot": "polar",
         "theta": [
          "item_price_lag_3"
         ],
         "type": "barpolar"
        },
        {
         "hovertemplate": "name=%{theta}<br>value=%{r}<extra></extra>",
         "legendgroup": "capital",
         "marker": {
          "color": "#0d0887",
          "pattern": {
           "shape": ""
          }
         },
         "name": "capital",
         "r": [
          495
         ],
         "showlegend": true,
         "subplot": "polar",
         "theta": [
          "capital"
         ],
         "type": "barpolar"
        },
        {
         "hovertemplate": "name=%{theta}<br>value=%{r}<extra></extra>",
         "legendgroup": "non_capital",
         "marker": {
          "color": "#f0f921",
          "pattern": {
           "shape": ""
          }
         },
         "name": "non_capital",
         "r": [
          410
         ],
         "showlegend": true,
         "subplot": "polar",
         "theta": [
          "non_capital"
         ],
         "type": "barpolar"
        },
        {
         "hovertemplate": "name=%{theta}<br>value=%{r}<extra></extra>",
         "legendgroup": "shopping_mall",
         "marker": {
          "color": "#fdca26",
          "pattern": {
           "shape": ""
          }
         },
         "name": "shopping_mall",
         "r": [
          162
         ],
         "showlegend": true,
         "subplot": "polar",
         "theta": [
          "shopping_mall"
         ],
         "type": "barpolar"
        },
        {
         "hovertemplate": "name=%{theta}<br>value=%{r}<extra></extra>",
         "legendgroup": "city_etc",
         "marker": {
          "color": "#fb9f3a",
          "pattern": {
           "shape": ""
          }
         },
         "name": "city_etc",
         "r": [
          150
         ],
         "showlegend": true,
         "subplot": "polar",
         "theta": [
          "city_etc"
         ],
         "type": "barpolar"
        },
        {
         "hovertemplate": "name=%{theta}<br>value=%{r}<extra></extra>",
         "legendgroup": "computer_mall",
         "marker": {
          "color": "#ed7953",
          "pattern": {
           "shape": ""
          }
         },
         "name": "computer_mall",
         "r": [
          85
         ],
         "showlegend": true,
         "subplot": "polar",
         "theta": [
          "computer_mall"
         ],
         "type": "barpolar"
        },
        {
         "hovertemplate": "name=%{theta}<br>value=%{r}<extra></extra>",
         "legendgroup": "type_etc",
         "marker": {
          "color": "#d8576b",
          "pattern": {
           "shape": ""
          }
         },
         "name": "type_etc",
         "r": [
          58
         ],
         "showlegend": true,
         "subplot": "polar",
         "theta": [
          "type_etc"
         ],
         "type": "barpolar"
        },
        {
         "hovertemplate": "name=%{theta}<br>value=%{r}<extra></extra>",
         "legendgroup": "online_mall",
         "marker": {
          "color": "#bd3786",
          "pattern": {
           "shape": ""
          }
         },
         "name": "online_mall",
         "r": [
          0
         ],
         "showlegend": true,
         "subplot": "polar",
         "theta": [
          "online_mall"
         ],
         "type": "barpolar"
        }
       ],
       "layout": {
        "barmode": "relative",
        "legend": {
         "title": {
          "text": "name"
         },
         "tracegroupgap": 0
        },
        "margin": {
         "t": 60
        },
        "polar": {
         "angularaxis": {
          "categoryarray": [
           "item_id",
           "date_item_avg_item_price",
           "item_price",
           "item_avg_item_price",
           "date_block_num",
           "shop_id",
           "delta_price_lag_1",
           "month",
           "item_cnt_month_lag_1",
           "delta_price_lag_2",
           "item_cnt_month_lag_2",
           "date_item_avg_item_price_lag_1",
           "delta_price_lag_3",
           "item_cnt_month_lag_3",
           "date_item_avg_item_price_lag_2",
           "date_item_avg_item_price_lag_3",
           "item_price_lag_1",
           "item_price_lag_2",
           "item_price_lag_3",
           "capital",
           "non_capital",
           "shopping_mall",
           "city_etc",
           "computer_mall",
           "type_etc",
           "online_mall"
          ],
          "categoryorder": "array",
          "direction": "clockwise",
          "rotation": 90
         },
         "domain": {
          "x": [
           0,
           1
          ],
          "y": [
           0,
           1
          ]
         }
        },
        "template": {
         "data": {
          "bar": [
           {
            "error_x": {
             "color": "#f2f5fa"
            },
            "error_y": {
             "color": "#f2f5fa"
            },
            "marker": {
             "line": {
              "color": "rgb(17,17,17)",
              "width": 0.5
             },
             "pattern": {
              "fillmode": "overlay",
              "size": 10,
              "solidity": 0.2
             }
            },
            "type": "bar"
           }
          ],
          "barpolar": [
           {
            "marker": {
             "line": {
              "color": "rgb(17,17,17)",
              "width": 0.5
             },
             "pattern": {
              "fillmode": "overlay",
              "size": 10,
              "solidity": 0.2
             }
            },
            "type": "barpolar"
           }
          ],
          "carpet": [
           {
            "aaxis": {
             "endlinecolor": "#A2B1C6",
             "gridcolor": "#506784",
             "linecolor": "#506784",
             "minorgridcolor": "#506784",
             "startlinecolor": "#A2B1C6"
            },
            "baxis": {
             "endlinecolor": "#A2B1C6",
             "gridcolor": "#506784",
             "linecolor": "#506784",
             "minorgridcolor": "#506784",
             "startlinecolor": "#A2B1C6"
            },
            "type": "carpet"
           }
          ],
          "choropleth": [
           {
            "colorbar": {
             "outlinewidth": 0,
             "ticks": ""
            },
            "type": "choropleth"
           }
          ],
          "contour": [
           {
            "colorbar": {
             "outlinewidth": 0,
             "ticks": ""
            },
            "colorscale": [
             [
              0,
              "#0d0887"
             ],
             [
              0.1111111111111111,
              "#46039f"
             ],
             [
              0.2222222222222222,
              "#7201a8"
             ],
             [
              0.3333333333333333,
              "#9c179e"
             ],
             [
              0.4444444444444444,
              "#bd3786"
             ],
             [
              0.5555555555555556,
              "#d8576b"
             ],
             [
              0.6666666666666666,
              "#ed7953"
             ],
             [
              0.7777777777777778,
              "#fb9f3a"
             ],
             [
              0.8888888888888888,
              "#fdca26"
             ],
             [
              1,
              "#f0f921"
             ]
            ],
            "type": "contour"
           }
          ],
          "contourcarpet": [
           {
            "colorbar": {
             "outlinewidth": 0,
             "ticks": ""
            },
            "type": "contourcarpet"
           }
          ],
          "heatmap": [
           {
            "colorbar": {
             "outlinewidth": 0,
             "ticks": ""
            },
            "colorscale": [
             [
              0,
              "#0d0887"
             ],
             [
              0.1111111111111111,
              "#46039f"
             ],
             [
              0.2222222222222222,
              "#7201a8"
             ],
             [
              0.3333333333333333,
              "#9c179e"
             ],
             [
              0.4444444444444444,
              "#bd3786"
             ],
             [
              0.5555555555555556,
              "#d8576b"
             ],
             [
              0.6666666666666666,
              "#ed7953"
             ],
             [
              0.7777777777777778,
              "#fb9f3a"
             ],
             [
              0.8888888888888888,
              "#fdca26"
             ],
             [
              1,
              "#f0f921"
             ]
            ],
            "type": "heatmap"
           }
          ],
          "heatmapgl": [
           {
            "colorbar": {
             "outlinewidth": 0,
             "ticks": ""
            },
            "colorscale": [
             [
              0,
              "#0d0887"
             ],
             [
              0.1111111111111111,
              "#46039f"
             ],
             [
              0.2222222222222222,
              "#7201a8"
             ],
             [
              0.3333333333333333,
              "#9c179e"
             ],
             [
              0.4444444444444444,
              "#bd3786"
             ],
             [
              0.5555555555555556,
              "#d8576b"
             ],
             [
              0.6666666666666666,
              "#ed7953"
             ],
             [
              0.7777777777777778,
              "#fb9f3a"
             ],
             [
              0.8888888888888888,
              "#fdca26"
             ],
             [
              1,
              "#f0f921"
             ]
            ],
            "type": "heatmapgl"
           }
          ],
          "histogram": [
           {
            "marker": {
             "pattern": {
              "fillmode": "overlay",
              "size": 10,
              "solidity": 0.2
             }
            },
            "type": "histogram"
           }
          ],
          "histogram2d": [
           {
            "colorbar": {
             "outlinewidth": 0,
             "ticks": ""
            },
            "colorscale": [
             [
              0,
              "#0d0887"
             ],
             [
              0.1111111111111111,
              "#46039f"
             ],
             [
              0.2222222222222222,
              "#7201a8"
             ],
             [
              0.3333333333333333,
              "#9c179e"
             ],
             [
              0.4444444444444444,
              "#bd3786"
             ],
             [
              0.5555555555555556,
              "#d8576b"
             ],
             [
              0.6666666666666666,
              "#ed7953"
             ],
             [
              0.7777777777777778,
              "#fb9f3a"
             ],
             [
              0.8888888888888888,
              "#fdca26"
             ],
             [
              1,
              "#f0f921"
             ]
            ],
            "type": "histogram2d"
           }
          ],
          "histogram2dcontour": [
           {
            "colorbar": {
             "outlinewidth": 0,
             "ticks": ""
            },
            "colorscale": [
             [
              0,
              "#0d0887"
             ],
             [
              0.1111111111111111,
              "#46039f"
             ],
             [
              0.2222222222222222,
              "#7201a8"
             ],
             [
              0.3333333333333333,
              "#9c179e"
             ],
             [
              0.4444444444444444,
              "#bd3786"
             ],
             [
              0.5555555555555556,
              "#d8576b"
             ],
             [
              0.6666666666666666,
              "#ed7953"
             ],
             [
              0.7777777777777778,
              "#fb9f3a"
             ],
             [
              0.8888888888888888,
              "#fdca26"
             ],
             [
              1,
              "#f0f921"
             ]
            ],
            "type": "histogram2dcontour"
           }
          ],
          "mesh3d": [
           {
            "colorbar": {
             "outlinewidth": 0,
             "ticks": ""
            },
            "type": "mesh3d"
           }
          ],
          "parcoords": [
           {
            "line": {
             "colorbar": {
              "outlinewidth": 0,
              "ticks": ""
             }
            },
            "type": "parcoords"
           }
          ],
          "pie": [
           {
            "automargin": true,
            "type": "pie"
           }
          ],
          "scatter": [
           {
            "marker": {
             "line": {
              "color": "#283442"
             }
            },
            "type": "scatter"
           }
          ],
          "scatter3d": [
           {
            "line": {
             "colorbar": {
              "outlinewidth": 0,
              "ticks": ""
             }
            },
            "marker": {
             "colorbar": {
              "outlinewidth": 0,
              "ticks": ""
             }
            },
            "type": "scatter3d"
           }
          ],
          "scattercarpet": [
           {
            "marker": {
             "colorbar": {
              "outlinewidth": 0,
              "ticks": ""
             }
            },
            "type": "scattercarpet"
           }
          ],
          "scattergeo": [
           {
            "marker": {
             "colorbar": {
              "outlinewidth": 0,
              "ticks": ""
             }
            },
            "type": "scattergeo"
           }
          ],
          "scattergl": [
           {
            "marker": {
             "line": {
              "color": "#283442"
             }
            },
            "type": "scattergl"
           }
          ],
          "scattermapbox": [
           {
            "marker": {
             "colorbar": {
              "outlinewidth": 0,
              "ticks": ""
             }
            },
            "type": "scattermapbox"
           }
          ],
          "scatterpolar": [
           {
            "marker": {
             "colorbar": {
              "outlinewidth": 0,
              "ticks": ""
             }
            },
            "type": "scatterpolar"
           }
          ],
          "scatterpolargl": [
           {
            "marker": {
             "colorbar": {
              "outlinewidth": 0,
              "ticks": ""
             }
            },
            "type": "scatterpolargl"
           }
          ],
          "scatterternary": [
           {
            "marker": {
             "colorbar": {
              "outlinewidth": 0,
              "ticks": ""
             }
            },
            "type": "scatterternary"
           }
          ],
          "surface": [
           {
            "colorbar": {
             "outlinewidth": 0,
             "ticks": ""
            },
            "colorscale": [
             [
              0,
              "#0d0887"
             ],
             [
              0.1111111111111111,
              "#46039f"
             ],
             [
              0.2222222222222222,
              "#7201a8"
             ],
             [
              0.3333333333333333,
              "#9c179e"
             ],
             [
              0.4444444444444444,
              "#bd3786"
             ],
             [
              0.5555555555555556,
              "#d8576b"
             ],
             [
              0.6666666666666666,
              "#ed7953"
             ],
             [
              0.7777777777777778,
              "#fb9f3a"
             ],
             [
              0.8888888888888888,
              "#fdca26"
             ],
             [
              1,
              "#f0f921"
             ]
            ],
            "type": "surface"
           }
          ],
          "table": [
           {
            "cells": {
             "fill": {
              "color": "#506784"
             },
             "line": {
              "color": "rgb(17,17,17)"
             }
            },
            "header": {
             "fill": {
              "color": "#2a3f5f"
             },
             "line": {
              "color": "rgb(17,17,17)"
             }
            },
            "type": "table"
           }
          ]
         },
         "layout": {
          "annotationdefaults": {
           "arrowcolor": "#f2f5fa",
           "arrowhead": 0,
           "arrowwidth": 1
          },
          "autotypenumbers": "strict",
          "coloraxis": {
           "colorbar": {
            "outlinewidth": 0,
            "ticks": ""
           }
          },
          "colorscale": {
           "diverging": [
            [
             0,
             "#8e0152"
            ],
            [
             0.1,
             "#c51b7d"
            ],
            [
             0.2,
             "#de77ae"
            ],
            [
             0.3,
             "#f1b6da"
            ],
            [
             0.4,
             "#fde0ef"
            ],
            [
             0.5,
             "#f7f7f7"
            ],
            [
             0.6,
             "#e6f5d0"
            ],
            [
             0.7,
             "#b8e186"
            ],
            [
             0.8,
             "#7fbc41"
            ],
            [
             0.9,
             "#4d9221"
            ],
            [
             1,
             "#276419"
            ]
           ],
           "sequential": [
            [
             0,
             "#0d0887"
            ],
            [
             0.1111111111111111,
             "#46039f"
            ],
            [
             0.2222222222222222,
             "#7201a8"
            ],
            [
             0.3333333333333333,
             "#9c179e"
            ],
            [
             0.4444444444444444,
             "#bd3786"
            ],
            [
             0.5555555555555556,
             "#d8576b"
            ],
            [
             0.6666666666666666,
             "#ed7953"
            ],
            [
             0.7777777777777778,
             "#fb9f3a"
            ],
            [
             0.8888888888888888,
             "#fdca26"
            ],
            [
             1,
             "#f0f921"
            ]
           ],
           "sequentialminus": [
            [
             0,
             "#0d0887"
            ],
            [
             0.1111111111111111,
             "#46039f"
            ],
            [
             0.2222222222222222,
             "#7201a8"
            ],
            [
             0.3333333333333333,
             "#9c179e"
            ],
            [
             0.4444444444444444,
             "#bd3786"
            ],
            [
             0.5555555555555556,
             "#d8576b"
            ],
            [
             0.6666666666666666,
             "#ed7953"
            ],
            [
             0.7777777777777778,
             "#fb9f3a"
            ],
            [
             0.8888888888888888,
             "#fdca26"
            ],
            [
             1,
             "#f0f921"
            ]
           ]
          },
          "colorway": [
           "#636efa",
           "#EF553B",
           "#00cc96",
           "#ab63fa",
           "#FFA15A",
           "#19d3f3",
           "#FF6692",
           "#B6E880",
           "#FF97FF",
           "#FECB52"
          ],
          "font": {
           "color": "#f2f5fa"
          },
          "geo": {
           "bgcolor": "rgb(17,17,17)",
           "lakecolor": "rgb(17,17,17)",
           "landcolor": "rgb(17,17,17)",
           "showlakes": true,
           "showland": true,
           "subunitcolor": "#506784"
          },
          "hoverlabel": {
           "align": "left"
          },
          "hovermode": "closest",
          "mapbox": {
           "style": "dark"
          },
          "paper_bgcolor": "rgb(17,17,17)",
          "plot_bgcolor": "rgb(17,17,17)",
          "polar": {
           "angularaxis": {
            "gridcolor": "#506784",
            "linecolor": "#506784",
            "ticks": ""
           },
           "bgcolor": "rgb(17,17,17)",
           "radialaxis": {
            "gridcolor": "#506784",
            "linecolor": "#506784",
            "ticks": ""
           }
          },
          "scene": {
           "xaxis": {
            "backgroundcolor": "rgb(17,17,17)",
            "gridcolor": "#506784",
            "gridwidth": 2,
            "linecolor": "#506784",
            "showbackground": true,
            "ticks": "",
            "zerolinecolor": "#C8D4E3"
           },
           "yaxis": {
            "backgroundcolor": "rgb(17,17,17)",
            "gridcolor": "#506784",
            "gridwidth": 2,
            "linecolor": "#506784",
            "showbackground": true,
            "ticks": "",
            "zerolinecolor": "#C8D4E3"
           },
           "zaxis": {
            "backgroundcolor": "rgb(17,17,17)",
            "gridcolor": "#506784",
            "gridwidth": 2,
            "linecolor": "#506784",
            "showbackground": true,
            "ticks": "",
            "zerolinecolor": "#C8D4E3"
           }
          },
          "shapedefaults": {
           "line": {
            "color": "#f2f5fa"
           }
          },
          "sliderdefaults": {
           "bgcolor": "#C8D4E3",
           "bordercolor": "rgb(17,17,17)",
           "borderwidth": 1,
           "tickwidth": 0
          },
          "ternary": {
           "aaxis": {
            "gridcolor": "#506784",
            "linecolor": "#506784",
            "ticks": ""
           },
           "baxis": {
            "gridcolor": "#506784",
            "linecolor": "#506784",
            "ticks": ""
           },
           "bgcolor": "rgb(17,17,17)",
           "caxis": {
            "gridcolor": "#506784",
            "linecolor": "#506784",
            "ticks": ""
           }
          },
          "title": {
           "x": 0.05
          },
          "updatemenudefaults": {
           "bgcolor": "#506784",
           "borderwidth": 0
          },
          "xaxis": {
           "automargin": true,
           "gridcolor": "#283442",
           "linecolor": "#506784",
           "ticks": "",
           "title": {
            "standoff": 15
           },
           "zerolinecolor": "#283442",
           "zerolinewidth": 2
          },
          "yaxis": {
           "automargin": true,
           "gridcolor": "#283442",
           "linecolor": "#506784",
           "ticks": "",
           "title": {
            "standoff": 15
           },
           "zerolinecolor": "#283442",
           "zerolinewidth": 2
          }
         }
        }
       }
      },
      "text/html": [
       "<div>                            <div id=\"1e0f138b-74a7-492d-b508-b27614fcf532\" class=\"plotly-graph-div\" style=\"height:525px; width:100%;\"></div>            <script type=\"text/javascript\">                require([\"plotly\"], function(Plotly) {                    window.PLOTLYENV=window.PLOTLYENV || {};                                    if (document.getElementById(\"1e0f138b-74a7-492d-b508-b27614fcf532\")) {                    Plotly.newPlot(                        \"1e0f138b-74a7-492d-b508-b27614fcf532\",                        [{\"hovertemplate\":\"name=%{theta}<br>value=%{r}<extra></extra>\",\"legendgroup\":\"item_id\",\"marker\":{\"color\":\"#f0f921\",\"pattern\":{\"shape\":\"\"}},\"name\":\"item_id\",\"r\":[7775],\"showlegend\":true,\"subplot\":\"polar\",\"theta\":[\"item_id\"],\"type\":\"barpolar\"},{\"hovertemplate\":\"name=%{theta}<br>value=%{r}<extra></extra>\",\"legendgroup\":\"date_item_avg_item_price\",\"marker\":{\"color\":\"#fdca26\",\"pattern\":{\"shape\":\"\"}},\"name\":\"date_item_avg_item_price\",\"r\":[5481],\"showlegend\":true,\"subplot\":\"polar\",\"theta\":[\"date_item_avg_item_price\"],\"type\":\"barpolar\"},{\"hovertemplate\":\"name=%{theta}<br>value=%{r}<extra></extra>\",\"legendgroup\":\"item_price\",\"marker\":{\"color\":\"#fb9f3a\",\"pattern\":{\"shape\":\"\"}},\"name\":\"item_price\",\"r\":[5435],\"showlegend\":true,\"subplot\":\"polar\",\"theta\":[\"item_price\"],\"type\":\"barpolar\"},{\"hovertemplate\":\"name=%{theta}<br>value=%{r}<extra></extra>\",\"legendgroup\":\"item_avg_item_price\",\"marker\":{\"color\":\"#ed7953\",\"pattern\":{\"shape\":\"\"}},\"name\":\"item_avg_item_price\",\"r\":[4986],\"showlegend\":true,\"subplot\":\"polar\",\"theta\":[\"item_avg_item_price\"],\"type\":\"barpolar\"},{\"hovertemplate\":\"name=%{theta}<br>value=%{r}<extra></extra>\",\"legendgroup\":\"date_block_num\",\"marker\":{\"color\":\"#d8576b\",\"pattern\":{\"shape\":\"\"}},\"name\":\"date_block_num\",\"r\":[4560],\"showlegend\":true,\"subplot\":\"polar\",\"theta\":[\"date_block_num\"],\"type\":\"barpolar\"},{\"hovertemplate\":\"name=%{theta}<br>value=%{r}<extra></extra>\",\"legendgroup\":\"shop_id\",\"marker\":{\"color\":\"#bd3786\",\"pattern\":{\"shape\":\"\"}},\"name\":\"shop_id\",\"r\":[3640],\"showlegend\":true,\"subplot\":\"polar\",\"theta\":[\"shop_id\"],\"type\":\"barpolar\"},{\"hovertemplate\":\"name=%{theta}<br>value=%{r}<extra></extra>\",\"legendgroup\":\"delta_price_lag_1\",\"marker\":{\"color\":\"#9c179e\",\"pattern\":{\"shape\":\"\"}},\"name\":\"delta_price_lag_1\",\"r\":[3617],\"showlegend\":true,\"subplot\":\"polar\",\"theta\":[\"delta_price_lag_1\"],\"type\":\"barpolar\"},{\"hovertemplate\":\"name=%{theta}<br>value=%{r}<extra></extra>\",\"legendgroup\":\"month\",\"marker\":{\"color\":\"#7201a8\",\"pattern\":{\"shape\":\"\"}},\"name\":\"month\",\"r\":[3139],\"showlegend\":true,\"subplot\":\"polar\",\"theta\":[\"month\"],\"type\":\"barpolar\"},{\"hovertemplate\":\"name=%{theta}<br>value=%{r}<extra></extra>\",\"legendgroup\":\"item_cnt_month_lag_1\",\"marker\":{\"color\":\"#46039f\",\"pattern\":{\"shape\":\"\"}},\"name\":\"item_cnt_month_lag_1\",\"r\":[2693],\"showlegend\":true,\"subplot\":\"polar\",\"theta\":[\"item_cnt_month_lag_1\"],\"type\":\"barpolar\"},{\"hovertemplate\":\"name=%{theta}<br>value=%{r}<extra></extra>\",\"legendgroup\":\"delta_price_lag_2\",\"marker\":{\"color\":\"#0d0887\",\"pattern\":{\"shape\":\"\"}},\"name\":\"delta_price_lag_2\",\"r\":[2519],\"showlegend\":true,\"subplot\":\"polar\",\"theta\":[\"delta_price_lag_2\"],\"type\":\"barpolar\"},{\"hovertemplate\":\"name=%{theta}<br>value=%{r}<extra></extra>\",\"legendgroup\":\"item_cnt_month_lag_2\",\"marker\":{\"color\":\"#f0f921\",\"pattern\":{\"shape\":\"\"}},\"name\":\"item_cnt_month_lag_2\",\"r\":[2365],\"showlegend\":true,\"subplot\":\"polar\",\"theta\":[\"item_cnt_month_lag_2\"],\"type\":\"barpolar\"},{\"hovertemplate\":\"name=%{theta}<br>value=%{r}<extra></extra>\",\"legendgroup\":\"date_item_avg_item_price_lag_1\",\"marker\":{\"color\":\"#fdca26\",\"pattern\":{\"shape\":\"\"}},\"name\":\"date_item_avg_item_price_lag_1\",\"r\":[2205],\"showlegend\":true,\"subplot\":\"polar\",\"theta\":[\"date_item_avg_item_price_lag_1\"],\"type\":\"barpolar\"},{\"hovertemplate\":\"name=%{theta}<br>value=%{r}<extra></extra>\",\"legendgroup\":\"delta_price_lag_3\",\"marker\":{\"color\":\"#fb9f3a\",\"pattern\":{\"shape\":\"\"}},\"name\":\"delta_price_lag_3\",\"r\":[2113],\"showlegend\":true,\"subplot\":\"polar\",\"theta\":[\"delta_price_lag_3\"],\"type\":\"barpolar\"},{\"hovertemplate\":\"name=%{theta}<br>value=%{r}<extra></extra>\",\"legendgroup\":\"item_cnt_month_lag_3\",\"marker\":{\"color\":\"#ed7953\",\"pattern\":{\"shape\":\"\"}},\"name\":\"item_cnt_month_lag_3\",\"r\":[1915],\"showlegend\":true,\"subplot\":\"polar\",\"theta\":[\"item_cnt_month_lag_3\"],\"type\":\"barpolar\"},{\"hovertemplate\":\"name=%{theta}<br>value=%{r}<extra></extra>\",\"legendgroup\":\"date_item_avg_item_price_lag_2\",\"marker\":{\"color\":\"#d8576b\",\"pattern\":{\"shape\":\"\"}},\"name\":\"date_item_avg_item_price_lag_2\",\"r\":[1815],\"showlegend\":true,\"subplot\":\"polar\",\"theta\":[\"date_item_avg_item_price_lag_2\"],\"type\":\"barpolar\"},{\"hovertemplate\":\"name=%{theta}<br>value=%{r}<extra></extra>\",\"legendgroup\":\"date_item_avg_item_price_lag_3\",\"marker\":{\"color\":\"#bd3786\",\"pattern\":{\"shape\":\"\"}},\"name\":\"date_item_avg_item_price_lag_3\",\"r\":[1526],\"showlegend\":true,\"subplot\":\"polar\",\"theta\":[\"date_item_avg_item_price_lag_3\"],\"type\":\"barpolar\"},{\"hovertemplate\":\"name=%{theta}<br>value=%{r}<extra></extra>\",\"legendgroup\":\"item_price_lag_1\",\"marker\":{\"color\":\"#9c179e\",\"pattern\":{\"shape\":\"\"}},\"name\":\"item_price_lag_1\",\"r\":[1141],\"showlegend\":true,\"subplot\":\"polar\",\"theta\":[\"item_price_lag_1\"],\"type\":\"barpolar\"},{\"hovertemplate\":\"name=%{theta}<br>value=%{r}<extra></extra>\",\"legendgroup\":\"item_price_lag_2\",\"marker\":{\"color\":\"#7201a8\",\"pattern\":{\"shape\":\"\"}},\"name\":\"item_price_lag_2\",\"r\":[863],\"showlegend\":true,\"subplot\":\"polar\",\"theta\":[\"item_price_lag_2\"],\"type\":\"barpolar\"},{\"hovertemplate\":\"name=%{theta}<br>value=%{r}<extra></extra>\",\"legendgroup\":\"item_price_lag_3\",\"marker\":{\"color\":\"#46039f\",\"pattern\":{\"shape\":\"\"}},\"name\":\"item_price_lag_3\",\"r\":[752],\"showlegend\":true,\"subplot\":\"polar\",\"theta\":[\"item_price_lag_3\"],\"type\":\"barpolar\"},{\"hovertemplate\":\"name=%{theta}<br>value=%{r}<extra></extra>\",\"legendgroup\":\"capital\",\"marker\":{\"color\":\"#0d0887\",\"pattern\":{\"shape\":\"\"}},\"name\":\"capital\",\"r\":[495],\"showlegend\":true,\"subplot\":\"polar\",\"theta\":[\"capital\"],\"type\":\"barpolar\"},{\"hovertemplate\":\"name=%{theta}<br>value=%{r}<extra></extra>\",\"legendgroup\":\"non_capital\",\"marker\":{\"color\":\"#f0f921\",\"pattern\":{\"shape\":\"\"}},\"name\":\"non_capital\",\"r\":[410],\"showlegend\":true,\"subplot\":\"polar\",\"theta\":[\"non_capital\"],\"type\":\"barpolar\"},{\"hovertemplate\":\"name=%{theta}<br>value=%{r}<extra></extra>\",\"legendgroup\":\"shopping_mall\",\"marker\":{\"color\":\"#fdca26\",\"pattern\":{\"shape\":\"\"}},\"name\":\"shopping_mall\",\"r\":[162],\"showlegend\":true,\"subplot\":\"polar\",\"theta\":[\"shopping_mall\"],\"type\":\"barpolar\"},{\"hovertemplate\":\"name=%{theta}<br>value=%{r}<extra></extra>\",\"legendgroup\":\"city_etc\",\"marker\":{\"color\":\"#fb9f3a\",\"pattern\":{\"shape\":\"\"}},\"name\":\"city_etc\",\"r\":[150],\"showlegend\":true,\"subplot\":\"polar\",\"theta\":[\"city_etc\"],\"type\":\"barpolar\"},{\"hovertemplate\":\"name=%{theta}<br>value=%{r}<extra></extra>\",\"legendgroup\":\"computer_mall\",\"marker\":{\"color\":\"#ed7953\",\"pattern\":{\"shape\":\"\"}},\"name\":\"computer_mall\",\"r\":[85],\"showlegend\":true,\"subplot\":\"polar\",\"theta\":[\"computer_mall\"],\"type\":\"barpolar\"},{\"hovertemplate\":\"name=%{theta}<br>value=%{r}<extra></extra>\",\"legendgroup\":\"type_etc\",\"marker\":{\"color\":\"#d8576b\",\"pattern\":{\"shape\":\"\"}},\"name\":\"type_etc\",\"r\":[58],\"showlegend\":true,\"subplot\":\"polar\",\"theta\":[\"type_etc\"],\"type\":\"barpolar\"},{\"hovertemplate\":\"name=%{theta}<br>value=%{r}<extra></extra>\",\"legendgroup\":\"online_mall\",\"marker\":{\"color\":\"#bd3786\",\"pattern\":{\"shape\":\"\"}},\"name\":\"online_mall\",\"r\":[0],\"showlegend\":true,\"subplot\":\"polar\",\"theta\":[\"online_mall\"],\"type\":\"barpolar\"}],                        {\"template\":{\"data\":{\"barpolar\":[{\"marker\":{\"line\":{\"color\":\"rgb(17,17,17)\",\"width\":0.5},\"pattern\":{\"fillmode\":\"overlay\",\"size\":10,\"solidity\":0.2}},\"type\":\"barpolar\"}],\"bar\":[{\"error_x\":{\"color\":\"#f2f5fa\"},\"error_y\":{\"color\":\"#f2f5fa\"},\"marker\":{\"line\":{\"color\":\"rgb(17,17,17)\",\"width\":0.5},\"pattern\":{\"fillmode\":\"overlay\",\"size\":10,\"solidity\":0.2}},\"type\":\"bar\"}],\"carpet\":[{\"aaxis\":{\"endlinecolor\":\"#A2B1C6\",\"gridcolor\":\"#506784\",\"linecolor\":\"#506784\",\"minorgridcolor\":\"#506784\",\"startlinecolor\":\"#A2B1C6\"},\"baxis\":{\"endlinecolor\":\"#A2B1C6\",\"gridcolor\":\"#506784\",\"linecolor\":\"#506784\",\"minorgridcolor\":\"#506784\",\"startlinecolor\":\"#A2B1C6\"},\"type\":\"carpet\"}],\"choropleth\":[{\"colorbar\":{\"outlinewidth\":0,\"ticks\":\"\"},\"type\":\"choropleth\"}],\"contourcarpet\":[{\"colorbar\":{\"outlinewidth\":0,\"ticks\":\"\"},\"type\":\"contourcarpet\"}],\"contour\":[{\"colorbar\":{\"outlinewidth\":0,\"ticks\":\"\"},\"colorscale\":[[0.0,\"#0d0887\"],[0.1111111111111111,\"#46039f\"],[0.2222222222222222,\"#7201a8\"],[0.3333333333333333,\"#9c179e\"],[0.4444444444444444,\"#bd3786\"],[0.5555555555555556,\"#d8576b\"],[0.6666666666666666,\"#ed7953\"],[0.7777777777777778,\"#fb9f3a\"],[0.8888888888888888,\"#fdca26\"],[1.0,\"#f0f921\"]],\"type\":\"contour\"}],\"heatmapgl\":[{\"colorbar\":{\"outlinewidth\":0,\"ticks\":\"\"},\"colorscale\":[[0.0,\"#0d0887\"],[0.1111111111111111,\"#46039f\"],[0.2222222222222222,\"#7201a8\"],[0.3333333333333333,\"#9c179e\"],[0.4444444444444444,\"#bd3786\"],[0.5555555555555556,\"#d8576b\"],[0.6666666666666666,\"#ed7953\"],[0.7777777777777778,\"#fb9f3a\"],[0.8888888888888888,\"#fdca26\"],[1.0,\"#f0f921\"]],\"type\":\"heatmapgl\"}],\"heatmap\":[{\"colorbar\":{\"outlinewidth\":0,\"ticks\":\"\"},\"colorscale\":[[0.0,\"#0d0887\"],[0.1111111111111111,\"#46039f\"],[0.2222222222222222,\"#7201a8\"],[0.3333333333333333,\"#9c179e\"],[0.4444444444444444,\"#bd3786\"],[0.5555555555555556,\"#d8576b\"],[0.6666666666666666,\"#ed7953\"],[0.7777777777777778,\"#fb9f3a\"],[0.8888888888888888,\"#fdca26\"],[1.0,\"#f0f921\"]],\"type\":\"heatmap\"}],\"histogram2dcontour\":[{\"colorbar\":{\"outlinewidth\":0,\"ticks\":\"\"},\"colorscale\":[[0.0,\"#0d0887\"],[0.1111111111111111,\"#46039f\"],[0.2222222222222222,\"#7201a8\"],[0.3333333333333333,\"#9c179e\"],[0.4444444444444444,\"#bd3786\"],[0.5555555555555556,\"#d8576b\"],[0.6666666666666666,\"#ed7953\"],[0.7777777777777778,\"#fb9f3a\"],[0.8888888888888888,\"#fdca26\"],[1.0,\"#f0f921\"]],\"type\":\"histogram2dcontour\"}],\"histogram2d\":[{\"colorbar\":{\"outlinewidth\":0,\"ticks\":\"\"},\"colorscale\":[[0.0,\"#0d0887\"],[0.1111111111111111,\"#46039f\"],[0.2222222222222222,\"#7201a8\"],[0.3333333333333333,\"#9c179e\"],[0.4444444444444444,\"#bd3786\"],[0.5555555555555556,\"#d8576b\"],[0.6666666666666666,\"#ed7953\"],[0.7777777777777778,\"#fb9f3a\"],[0.8888888888888888,\"#fdca26\"],[1.0,\"#f0f921\"]],\"type\":\"histogram2d\"}],\"histogram\":[{\"marker\":{\"pattern\":{\"fillmode\":\"overlay\",\"size\":10,\"solidity\":0.2}},\"type\":\"histogram\"}],\"mesh3d\":[{\"colorbar\":{\"outlinewidth\":0,\"ticks\":\"\"},\"type\":\"mesh3d\"}],\"parcoords\":[{\"line\":{\"colorbar\":{\"outlinewidth\":0,\"ticks\":\"\"}},\"type\":\"parcoords\"}],\"pie\":[{\"automargin\":true,\"type\":\"pie\"}],\"scatter3d\":[{\"line\":{\"colorbar\":{\"outlinewidth\":0,\"ticks\":\"\"}},\"marker\":{\"colorbar\":{\"outlinewidth\":0,\"ticks\":\"\"}},\"type\":\"scatter3d\"}],\"scattercarpet\":[{\"marker\":{\"colorbar\":{\"outlinewidth\":0,\"ticks\":\"\"}},\"type\":\"scattercarpet\"}],\"scattergeo\":[{\"marker\":{\"colorbar\":{\"outlinewidth\":0,\"ticks\":\"\"}},\"type\":\"scattergeo\"}],\"scattergl\":[{\"marker\":{\"line\":{\"color\":\"#283442\"}},\"type\":\"scattergl\"}],\"scattermapbox\":[{\"marker\":{\"colorbar\":{\"outlinewidth\":0,\"ticks\":\"\"}},\"type\":\"scattermapbox\"}],\"scatterpolargl\":[{\"marker\":{\"colorbar\":{\"outlinewidth\":0,\"ticks\":\"\"}},\"type\":\"scatterpolargl\"}],\"scatterpolar\":[{\"marker\":{\"colorbar\":{\"outlinewidth\":0,\"ticks\":\"\"}},\"type\":\"scatterpolar\"}],\"scatter\":[{\"marker\":{\"line\":{\"color\":\"#283442\"}},\"type\":\"scatter\"}],\"scatterternary\":[{\"marker\":{\"colorbar\":{\"outlinewidth\":0,\"ticks\":\"\"}},\"type\":\"scatterternary\"}],\"surface\":[{\"colorbar\":{\"outlinewidth\":0,\"ticks\":\"\"},\"colorscale\":[[0.0,\"#0d0887\"],[0.1111111111111111,\"#46039f\"],[0.2222222222222222,\"#7201a8\"],[0.3333333333333333,\"#9c179e\"],[0.4444444444444444,\"#bd3786\"],[0.5555555555555556,\"#d8576b\"],[0.6666666666666666,\"#ed7953\"],[0.7777777777777778,\"#fb9f3a\"],[0.8888888888888888,\"#fdca26\"],[1.0,\"#f0f921\"]],\"type\":\"surface\"}],\"table\":[{\"cells\":{\"fill\":{\"color\":\"#506784\"},\"line\":{\"color\":\"rgb(17,17,17)\"}},\"header\":{\"fill\":{\"color\":\"#2a3f5f\"},\"line\":{\"color\":\"rgb(17,17,17)\"}},\"type\":\"table\"}]},\"layout\":{\"annotationdefaults\":{\"arrowcolor\":\"#f2f5fa\",\"arrowhead\":0,\"arrowwidth\":1},\"autotypenumbers\":\"strict\",\"coloraxis\":{\"colorbar\":{\"outlinewidth\":0,\"ticks\":\"\"}},\"colorscale\":{\"diverging\":[[0,\"#8e0152\"],[0.1,\"#c51b7d\"],[0.2,\"#de77ae\"],[0.3,\"#f1b6da\"],[0.4,\"#fde0ef\"],[0.5,\"#f7f7f7\"],[0.6,\"#e6f5d0\"],[0.7,\"#b8e186\"],[0.8,\"#7fbc41\"],[0.9,\"#4d9221\"],[1,\"#276419\"]],\"sequential\":[[0.0,\"#0d0887\"],[0.1111111111111111,\"#46039f\"],[0.2222222222222222,\"#7201a8\"],[0.3333333333333333,\"#9c179e\"],[0.4444444444444444,\"#bd3786\"],[0.5555555555555556,\"#d8576b\"],[0.6666666666666666,\"#ed7953\"],[0.7777777777777778,\"#fb9f3a\"],[0.8888888888888888,\"#fdca26\"],[1.0,\"#f0f921\"]],\"sequentialminus\":[[0.0,\"#0d0887\"],[0.1111111111111111,\"#46039f\"],[0.2222222222222222,\"#7201a8\"],[0.3333333333333333,\"#9c179e\"],[0.4444444444444444,\"#bd3786\"],[0.5555555555555556,\"#d8576b\"],[0.6666666666666666,\"#ed7953\"],[0.7777777777777778,\"#fb9f3a\"],[0.8888888888888888,\"#fdca26\"],[1.0,\"#f0f921\"]]},\"colorway\":[\"#636efa\",\"#EF553B\",\"#00cc96\",\"#ab63fa\",\"#FFA15A\",\"#19d3f3\",\"#FF6692\",\"#B6E880\",\"#FF97FF\",\"#FECB52\"],\"font\":{\"color\":\"#f2f5fa\"},\"geo\":{\"bgcolor\":\"rgb(17,17,17)\",\"lakecolor\":\"rgb(17,17,17)\",\"landcolor\":\"rgb(17,17,17)\",\"showlakes\":true,\"showland\":true,\"subunitcolor\":\"#506784\"},\"hoverlabel\":{\"align\":\"left\"},\"hovermode\":\"closest\",\"mapbox\":{\"style\":\"dark\"},\"paper_bgcolor\":\"rgb(17,17,17)\",\"plot_bgcolor\":\"rgb(17,17,17)\",\"polar\":{\"angularaxis\":{\"gridcolor\":\"#506784\",\"linecolor\":\"#506784\",\"ticks\":\"\"},\"bgcolor\":\"rgb(17,17,17)\",\"radialaxis\":{\"gridcolor\":\"#506784\",\"linecolor\":\"#506784\",\"ticks\":\"\"}},\"scene\":{\"xaxis\":{\"backgroundcolor\":\"rgb(17,17,17)\",\"gridcolor\":\"#506784\",\"gridwidth\":2,\"linecolor\":\"#506784\",\"showbackground\":true,\"ticks\":\"\",\"zerolinecolor\":\"#C8D4E3\"},\"yaxis\":{\"backgroundcolor\":\"rgb(17,17,17)\",\"gridcolor\":\"#506784\",\"gridwidth\":2,\"linecolor\":\"#506784\",\"showbackground\":true,\"ticks\":\"\",\"zerolinecolor\":\"#C8D4E3\"},\"zaxis\":{\"backgroundcolor\":\"rgb(17,17,17)\",\"gridcolor\":\"#506784\",\"gridwidth\":2,\"linecolor\":\"#506784\",\"showbackground\":true,\"ticks\":\"\",\"zerolinecolor\":\"#C8D4E3\"}},\"shapedefaults\":{\"line\":{\"color\":\"#f2f5fa\"}},\"sliderdefaults\":{\"bgcolor\":\"#C8D4E3\",\"bordercolor\":\"rgb(17,17,17)\",\"borderwidth\":1,\"tickwidth\":0},\"ternary\":{\"aaxis\":{\"gridcolor\":\"#506784\",\"linecolor\":\"#506784\",\"ticks\":\"\"},\"baxis\":{\"gridcolor\":\"#506784\",\"linecolor\":\"#506784\",\"ticks\":\"\"},\"bgcolor\":\"rgb(17,17,17)\",\"caxis\":{\"gridcolor\":\"#506784\",\"linecolor\":\"#506784\",\"ticks\":\"\"}},\"title\":{\"x\":0.05},\"updatemenudefaults\":{\"bgcolor\":\"#506784\",\"borderwidth\":0},\"xaxis\":{\"automargin\":true,\"gridcolor\":\"#283442\",\"linecolor\":\"#506784\",\"ticks\":\"\",\"title\":{\"standoff\":15},\"zerolinecolor\":\"#283442\",\"zerolinewidth\":2},\"yaxis\":{\"automargin\":true,\"gridcolor\":\"#283442\",\"linecolor\":\"#506784\",\"ticks\":\"\",\"title\":{\"standoff\":15},\"zerolinecolor\":\"#283442\",\"zerolinewidth\":2}}},\"polar\":{\"domain\":{\"x\":[0.0,1.0],\"y\":[0.0,1.0]},\"angularaxis\":{\"direction\":\"clockwise\",\"rotation\":90,\"categoryorder\":\"array\",\"categoryarray\":[\"item_id\",\"date_item_avg_item_price\",\"item_price\",\"item_avg_item_price\",\"date_block_num\",\"shop_id\",\"delta_price_lag_1\",\"month\",\"item_cnt_month_lag_1\",\"delta_price_lag_2\",\"item_cnt_month_lag_2\",\"date_item_avg_item_price_lag_1\",\"delta_price_lag_3\",\"item_cnt_month_lag_3\",\"date_item_avg_item_price_lag_2\",\"date_item_avg_item_price_lag_3\",\"item_price_lag_1\",\"item_price_lag_2\",\"item_price_lag_3\",\"capital\",\"non_capital\",\"shopping_mall\",\"city_etc\",\"computer_mall\",\"type_etc\",\"online_mall\"]}},\"legend\":{\"title\":{\"text\":\"name\"},\"tracegroupgap\":0},\"margin\":{\"t\":60},\"barmode\":\"relative\"},                        {\"responsive\": true}                    ).then(function(){\n",
       "                            \n",
       "var gd = document.getElementById('1e0f138b-74a7-492d-b508-b27614fcf532');\n",
       "var x = new MutationObserver(function (mutations, observer) {{\n",
       "        var display = window.getComputedStyle(gd).display;\n",
       "        if (!display || display === 'none') {{\n",
       "            console.log([gd, 'removed!']);\n",
       "            Plotly.purge(gd);\n",
       "            observer.disconnect();\n",
       "        }}\n",
       "}});\n",
       "\n",
       "// Listen for the removal of the full notebook cells\n",
       "var notebookContainer = gd.closest('#notebook-container');\n",
       "if (notebookContainer) {{\n",
       "    x.observe(notebookContainer, {childList: true});\n",
       "}}\n",
       "\n",
       "// Listen for the clearing of the current output cell\n",
       "var outputEl = gd.closest('.output');\n",
       "if (outputEl) {{\n",
       "    x.observe(outputEl, {childList: true});\n",
       "}}\n",
       "\n",
       "                        })                };                });            </script>        </div>"
      ]
     },
     "metadata": {},
     "output_type": "display_data"
    }
   ],
   "source": [
    "fig = px.bar_polar(df_importance, r=\"value\", theta=\"name\",\n",
    "                   color=\"name\", template=\"plotly_dark\",\n",
    "                   color_discrete_sequence= px.colors.sequential.Plasma_r)\n",
    "fig.show()"
   ]
  },
  {
   "cell_type": "code",
   "execution_count": 23,
   "id": "b584153b",
   "metadata": {},
   "outputs": [],
   "source": [
    "# 예측값 저장\n",
    "pred_test = np.expm1(clf.predict(x_test)).clip(0,20)\n",
    "x_test['item_cnt_month'] = pred_test\n",
    "\n",
    "result = pd.merge(df_test, x_test[['shop_id', 'item_id', 'item_cnt_month']], on=['shop_id', 'item_id'], how='left')\n",
    "submission['item_cnt_month'] = result['item_cnt_month']\n",
    "submission.to_csv('./submission_gridsearchcv.csv', index=False)"
   ]
  },
  {
   "cell_type": "markdown",
   "id": "907fbfc5",
   "metadata": {},
   "source": [
    "# 2. XGBoost"
   ]
  },
  {
   "cell_type": "markdown",
   "id": "05e021ee",
   "metadata": {},
   "source": [
    "## 데이터 로드"
   ]
  },
  {
   "cell_type": "markdown",
   "id": "37d950d1",
   "metadata": {},
   "source": [
    "- 기존 데이터 전처리에 추가로 robust scaling을 적용한 데이터를 사용함."
   ]
  },
  {
   "cell_type": "code",
   "execution_count": 54,
   "id": "95f20ec5",
   "metadata": {},
   "outputs": [],
   "source": [
    "with open(\"../data/robust_train.pickle\",\"rb\") as fr:\n",
    "    data = pickle.load(fr)\n",
    "\n",
    "with open(\"../data/robust_test.pickle\",\"rb\") as fr:\n",
    "    test = pickle.load(fr)\n",
    "test = test.drop('item_cnt_month', axis=1)\n",
    "\n",
    "## 데이터 분리\n",
    "X = data.drop(['item_cnt_month'], axis=1)\n",
    "y = data['item_cnt_month']"
   ]
  },
  {
   "cell_type": "markdown",
   "id": "728ab97d",
   "metadata": {},
   "source": [
    "## 데이터 준비 : PCA"
   ]
  },
  {
   "cell_type": "markdown",
   "id": "375fbada",
   "metadata": {},
   "source": [
    "- 이에 추가로 5개의 주성분으로 데이터를 압축하여 학습 데이터로 사용함."
   ]
  },
  {
   "cell_type": "code",
   "execution_count": 55,
   "id": "9f5ba9b8",
   "metadata": {},
   "outputs": [],
   "source": [
    "## PCA 주성분 분석\n",
    "pca = PCA(n_components=5)\n",
    "printcipalComponents = pca.fit_transform(X)\n",
    "principalDf = pd.DataFrame(data=printcipalComponents, columns = ['1', '2', '3',\n",
    "                                                                 '4', '5'])\n",
    "\n",
    "# explained_variance_ratio_는 고유값이며 설명가능한 분산량을 의미한다.\n",
    "# 5개의 주성분으로 95% 이상 설명력을 가지는 것을 확인\n",
    "pca.explained_variance_ratio_\n",
    "pca.explained_variance_ratio_[0]\n",
    "\n",
    "X = principalDf\n",
    "# 테스트 데이터도 동일한 5개 차원으로 축소\n",
    "printcipalComponents = pca.fit_transform(test)\n",
    "principalDf = pd.DataFrame(data=printcipalComponents, columns = ['1', '2', '3',\n",
    "                                                                 '4', '5'])\n"
   ]
  },
  {
   "cell_type": "code",
   "execution_count": 56,
   "id": "c065c29c",
   "metadata": {},
   "outputs": [
    {
     "data": {
      "text/plain": [
       "array([3.90955645e+07, 3.08433053e+02, 1.41824510e+01, 4.81717989e+00,\n",
       "       4.45234147e+00])"
      ]
     },
     "execution_count": 56,
     "metadata": {},
     "output_type": "execute_result"
    }
   ],
   "source": [
    "pca.explained_variance_"
   ]
  },
  {
   "cell_type": "code",
   "execution_count": 57,
   "id": "c06d6c6f",
   "metadata": {},
   "outputs": [
    {
     "name": "stdout",
     "output_type": "stream",
     "text": [
      "[3.90955645e+07 3.08433053e+02 1.41824510e+01 4.81717989e+00\n",
      " 4.45234147e+00]\n",
      "데이터 설명력 : 0.9999998684414434\n"
     ]
    }
   ],
   "source": [
    "print(pca.explained_variance_)\n",
    "print('데이터 설명력 :', sum(pca.explained_variance_ratio_))"
   ]
  },
  {
   "cell_type": "code",
   "execution_count": 59,
   "id": "25a7c85f",
   "metadata": {},
   "outputs": [
    {
     "data": {
      "text/html": [
       "<div>\n",
       "<style scoped>\n",
       "    .dataframe tbody tr th:only-of-type {\n",
       "        vertical-align: middle;\n",
       "    }\n",
       "\n",
       "    .dataframe tbody tr th {\n",
       "        vertical-align: top;\n",
       "    }\n",
       "\n",
       "    .dataframe thead th {\n",
       "        text-align: right;\n",
       "    }\n",
       "</style>\n",
       "<table border=\"1\" class=\"dataframe\">\n",
       "  <thead>\n",
       "    <tr style=\"text-align: right;\">\n",
       "      <th></th>\n",
       "      <th>1</th>\n",
       "      <th>2</th>\n",
       "      <th>3</th>\n",
       "      <th>4</th>\n",
       "      <th>5</th>\n",
       "    </tr>\n",
       "  </thead>\n",
       "  <tbody>\n",
       "    <tr>\n",
       "      <th>0</th>\n",
       "      <td>-5982.398791</td>\n",
       "      <td>29.639678</td>\n",
       "      <td>2.883212</td>\n",
       "      <td>2.560316</td>\n",
       "      <td>0.156043</td>\n",
       "    </tr>\n",
       "    <tr>\n",
       "      <th>1</th>\n",
       "      <td>-5699.398547</td>\n",
       "      <td>29.641790</td>\n",
       "      <td>-1.491292</td>\n",
       "      <td>0.234233</td>\n",
       "      <td>-0.412732</td>\n",
       "    </tr>\n",
       "    <tr>\n",
       "      <th>2</th>\n",
       "      <td>-5786.398794</td>\n",
       "      <td>29.639228</td>\n",
       "      <td>3.327696</td>\n",
       "      <td>0.574977</td>\n",
       "      <td>0.323342</td>\n",
       "    </tr>\n",
       "    <tr>\n",
       "      <th>3</th>\n",
       "      <td>-5787.398781</td>\n",
       "      <td>29.639646</td>\n",
       "      <td>3.151957</td>\n",
       "      <td>0.385571</td>\n",
       "      <td>0.191010</td>\n",
       "    </tr>\n",
       "    <tr>\n",
       "      <th>4</th>\n",
       "      <td>-5751.398569</td>\n",
       "      <td>29.641375</td>\n",
       "      <td>-1.379968</td>\n",
       "      <td>0.171409</td>\n",
       "      <td>-0.332244</td>\n",
       "    </tr>\n",
       "    <tr>\n",
       "      <th>...</th>\n",
       "      <td>...</td>\n",
       "      <td>...</td>\n",
       "      <td>...</td>\n",
       "      <td>...</td>\n",
       "      <td>...</td>\n",
       "    </tr>\n",
       "    <tr>\n",
       "      <th>214195</th>\n",
       "      <td>7434.601429</td>\n",
       "      <td>-4.357685</td>\n",
       "      <td>-0.763538</td>\n",
       "      <td>0.116467</td>\n",
       "      <td>-0.238025</td>\n",
       "    </tr>\n",
       "    <tr>\n",
       "      <th>214196</th>\n",
       "      <td>5168.601377</td>\n",
       "      <td>-4.357951</td>\n",
       "      <td>-0.248212</td>\n",
       "      <td>-0.360647</td>\n",
       "      <td>0.135197</td>\n",
       "    </tr>\n",
       "    <tr>\n",
       "      <th>214197</th>\n",
       "      <td>4737.601432</td>\n",
       "      <td>-4.357663</td>\n",
       "      <td>-0.887990</td>\n",
       "      <td>0.118251</td>\n",
       "      <td>-0.260485</td>\n",
       "    </tr>\n",
       "    <tr>\n",
       "      <th>214198</th>\n",
       "      <td>8628.601432</td>\n",
       "      <td>-4.357670</td>\n",
       "      <td>-0.759226</td>\n",
       "      <td>0.154814</td>\n",
       "      <td>-0.260231</td>\n",
       "    </tr>\n",
       "    <tr>\n",
       "      <th>214199</th>\n",
       "      <td>-10050.398562</td>\n",
       "      <td>-4.357573</td>\n",
       "      <td>-1.433192</td>\n",
       "      <td>0.019884</td>\n",
       "      <td>-0.297663</td>\n",
       "    </tr>\n",
       "  </tbody>\n",
       "</table>\n",
       "<p>214200 rows × 5 columns</p>\n",
       "</div>"
      ],
      "text/plain": [
       "                   1          2         3         4         5\n",
       "0       -5982.398791  29.639678  2.883212  2.560316  0.156043\n",
       "1       -5699.398547  29.641790 -1.491292  0.234233 -0.412732\n",
       "2       -5786.398794  29.639228  3.327696  0.574977  0.323342\n",
       "3       -5787.398781  29.639646  3.151957  0.385571  0.191010\n",
       "4       -5751.398569  29.641375 -1.379968  0.171409 -0.332244\n",
       "...              ...        ...       ...       ...       ...\n",
       "214195   7434.601429  -4.357685 -0.763538  0.116467 -0.238025\n",
       "214196   5168.601377  -4.357951 -0.248212 -0.360647  0.135197\n",
       "214197   4737.601432  -4.357663 -0.887990  0.118251 -0.260485\n",
       "214198   8628.601432  -4.357670 -0.759226  0.154814 -0.260231\n",
       "214199 -10050.398562  -4.357573 -1.433192  0.019884 -0.297663\n",
       "\n",
       "[214200 rows x 5 columns]"
      ]
     },
     "execution_count": 59,
     "metadata": {},
     "output_type": "execute_result"
    }
   ],
   "source": [
    "test = principalDf\n",
    "test"
   ]
  },
  {
   "cell_type": "markdown",
   "id": "95e23fa1",
   "metadata": {},
   "source": [
    "## 모델링"
   ]
  },
  {
   "cell_type": "markdown",
   "id": "0bfd5ae7",
   "metadata": {},
   "source": [
    "- XGB 모델을 생성 후 학습."
   ]
  },
  {
   "cell_type": "code",
   "execution_count": 60,
   "id": "cf3f3d47",
   "metadata": {},
   "outputs": [
    {
     "data": {
      "text/plain": [
       "XGBRegressor(base_score=0.5, booster='gbtree', colsample_bylevel=1,\n",
       "             colsample_bynode=1, colsample_bytree=0.7, enable_categorical=False,\n",
       "             gamma=0, gpu_id=-1, importance_type=None,\n",
       "             interaction_constraints='', learning_rate=0.05, max_delta_step=0,\n",
       "             max_depth=12, min_child_weight=1, missing=nan,\n",
       "             monotone_constraints='()', n_estimators=200, n_jobs=6,\n",
       "             num_parallel_tree=1, predictor='auto', random_state=42,\n",
       "             reg_alpha=0, reg_lambda=1, scale_pos_weight=1, subsample=0.7,\n",
       "             tree_method='exact', validate_parameters=1, verbosity=None)"
      ]
     },
     "execution_count": 60,
     "metadata": {},
     "output_type": "execute_result"
    }
   ],
   "source": [
    "## 모델 생성 및 학습\n",
    "xgb = XGBRegressor(n_estimators=200, max_depth=12, learning_rate=0.05, subsample=0.7,\n",
    "                   colsample_bytree = 0.7, random_state = 42)\n",
    "xgb.fit(X, y)"
   ]
  },
  {
   "cell_type": "markdown",
   "id": "7acda099",
   "metadata": {},
   "source": [
    "- 예측값 생성"
   ]
  },
  {
   "cell_type": "code",
   "execution_count": 61,
   "id": "23c966cc",
   "metadata": {},
   "outputs": [
    {
     "data": {
      "text/html": [
       "<div>\n",
       "<style scoped>\n",
       "    .dataframe tbody tr th:only-of-type {\n",
       "        vertical-align: middle;\n",
       "    }\n",
       "\n",
       "    .dataframe tbody tr th {\n",
       "        vertical-align: top;\n",
       "    }\n",
       "\n",
       "    .dataframe thead th {\n",
       "        text-align: right;\n",
       "    }\n",
       "</style>\n",
       "<table border=\"1\" class=\"dataframe\">\n",
       "  <thead>\n",
       "    <tr style=\"text-align: right;\">\n",
       "      <th></th>\n",
       "      <th>ID</th>\n",
       "      <th>item_cnt_month</th>\n",
       "    </tr>\n",
       "  </thead>\n",
       "  <tbody>\n",
       "    <tr>\n",
       "      <th>0</th>\n",
       "      <td>0</td>\n",
       "      <td>1.006377</td>\n",
       "    </tr>\n",
       "    <tr>\n",
       "      <th>1</th>\n",
       "      <td>1</td>\n",
       "      <td>0.923591</td>\n",
       "    </tr>\n",
       "    <tr>\n",
       "      <th>2</th>\n",
       "      <td>2</td>\n",
       "      <td>0.873031</td>\n",
       "    </tr>\n",
       "    <tr>\n",
       "      <th>3</th>\n",
       "      <td>3</td>\n",
       "      <td>1.013940</td>\n",
       "    </tr>\n",
       "    <tr>\n",
       "      <th>4</th>\n",
       "      <td>4</td>\n",
       "      <td>0.966906</td>\n",
       "    </tr>\n",
       "    <tr>\n",
       "      <th>...</th>\n",
       "      <td>...</td>\n",
       "      <td>...</td>\n",
       "    </tr>\n",
       "    <tr>\n",
       "      <th>214195</th>\n",
       "      <td>214195</td>\n",
       "      <td>0.762519</td>\n",
       "    </tr>\n",
       "    <tr>\n",
       "      <th>214196</th>\n",
       "      <td>214196</td>\n",
       "      <td>0.720578</td>\n",
       "    </tr>\n",
       "    <tr>\n",
       "      <th>214197</th>\n",
       "      <td>214197</td>\n",
       "      <td>0.810646</td>\n",
       "    </tr>\n",
       "    <tr>\n",
       "      <th>214198</th>\n",
       "      <td>214198</td>\n",
       "      <td>0.761775</td>\n",
       "    </tr>\n",
       "    <tr>\n",
       "      <th>214199</th>\n",
       "      <td>214199</td>\n",
       "      <td>0.847019</td>\n",
       "    </tr>\n",
       "  </tbody>\n",
       "</table>\n",
       "<p>214200 rows × 2 columns</p>\n",
       "</div>"
      ],
      "text/plain": [
       "            ID  item_cnt_month\n",
       "0            0        1.006377\n",
       "1            1        0.923591\n",
       "2            2        0.873031\n",
       "3            3        1.013940\n",
       "4            4        0.966906\n",
       "...        ...             ...\n",
       "214195  214195        0.762519\n",
       "214196  214196        0.720578\n",
       "214197  214197        0.810646\n",
       "214198  214198        0.761775\n",
       "214199  214199        0.847019\n",
       "\n",
       "[214200 rows x 2 columns]"
      ]
     },
     "execution_count": 61,
     "metadata": {},
     "output_type": "execute_result"
    }
   ],
   "source": [
    "pred = xgb.predict(test)\n",
    "pred = pd.DataFrame(pred)\n",
    "pred.columns = ['item_cnt_month']\n",
    "temp = [i for i in range(0,214200,1)]\n",
    "pred['ID'] = temp\n",
    "pred = pred[['ID', 'item_cnt_month']]\n",
    "pred.to_csv('./robust_submission.csv', index=False)\n",
    "\n",
    "pred"
   ]
  },
  {
   "cell_type": "markdown",
   "id": "fa67744a",
   "metadata": {},
   "source": [
    "- feature importance 확인"
   ]
  },
  {
   "cell_type": "code",
   "execution_count": 63,
   "id": "595599f8",
   "metadata": {},
   "outputs": [
    {
     "data": {
      "text/html": [
       "<div>\n",
       "<style scoped>\n",
       "    .dataframe tbody tr th:only-of-type {\n",
       "        vertical-align: middle;\n",
       "    }\n",
       "\n",
       "    .dataframe tbody tr th {\n",
       "        vertical-align: top;\n",
       "    }\n",
       "\n",
       "    .dataframe thead th {\n",
       "        text-align: right;\n",
       "    }\n",
       "</style>\n",
       "<table border=\"1\" class=\"dataframe\">\n",
       "  <thead>\n",
       "    <tr style=\"text-align: right;\">\n",
       "      <th></th>\n",
       "      <th>name</th>\n",
       "      <th>value</th>\n",
       "    </tr>\n",
       "  </thead>\n",
       "  <tbody>\n",
       "    <tr>\n",
       "      <th>0</th>\n",
       "      <td>PCA1</td>\n",
       "      <td>0.388992</td>\n",
       "    </tr>\n",
       "    <tr>\n",
       "      <th>4</th>\n",
       "      <td>PCA5</td>\n",
       "      <td>0.197942</td>\n",
       "    </tr>\n",
       "    <tr>\n",
       "      <th>2</th>\n",
       "      <td>PCA3</td>\n",
       "      <td>0.150909</td>\n",
       "    </tr>\n",
       "    <tr>\n",
       "      <th>3</th>\n",
       "      <td>PCA4</td>\n",
       "      <td>0.145270</td>\n",
       "    </tr>\n",
       "    <tr>\n",
       "      <th>1</th>\n",
       "      <td>PCA2</td>\n",
       "      <td>0.116888</td>\n",
       "    </tr>\n",
       "  </tbody>\n",
       "</table>\n",
       "</div>"
      ],
      "text/plain": [
       "   name     value\n",
       "0  PCA1  0.388992\n",
       "4  PCA5  0.197942\n",
       "2  PCA3  0.150909\n",
       "3  PCA4  0.145270\n",
       "1  PCA2  0.116888"
      ]
     },
     "execution_count": 63,
     "metadata": {},
     "output_type": "execute_result"
    }
   ],
   "source": [
    "## 피처 importance 확인\n",
    "importance = xgb.feature_importances_\n",
    "importance_name = ['PCA%d'%i for i in range(1,6)]\n",
    "df_importance = pd.DataFrame(dict(name=importance_name, value=importance)).sort_values('value', ascending=False)\n",
    "df_importance"
   ]
  },
  {
   "cell_type": "code",
   "execution_count": 64,
   "id": "dd5e7378",
   "metadata": {},
   "outputs": [
    {
     "data": {
      "application/vnd.plotly.v1+json": {
       "config": {
        "plotlyServerURL": "https://plot.ly"
       },
       "data": [
        {
         "hovertemplate": "name=%{theta}<br>value=%{r}<extra></extra>",
         "legendgroup": "PCA1",
         "marker": {
          "color": "#f0f921",
          "pattern": {
           "shape": ""
          }
         },
         "name": "PCA1",
         "r": [
          0.3889918625354767
         ],
         "showlegend": true,
         "subplot": "polar",
         "theta": [
          "PCA1"
         ],
         "type": "barpolar"
        },
        {
         "hovertemplate": "name=%{theta}<br>value=%{r}<extra></extra>",
         "legendgroup": "PCA5",
         "marker": {
          "color": "#fdca26",
          "pattern": {
           "shape": ""
          }
         },
         "name": "PCA5",
         "r": [
          0.19794155657291412
         ],
         "showlegend": true,
         "subplot": "polar",
         "theta": [
          "PCA5"
         ],
         "type": "barpolar"
        },
        {
         "hovertemplate": "name=%{theta}<br>value=%{r}<extra></extra>",
         "legendgroup": "PCA3",
         "marker": {
          "color": "#fb9f3a",
          "pattern": {
           "shape": ""
          }
         },
         "name": "PCA3",
         "r": [
          0.15090908110141754
         ],
         "showlegend": true,
         "subplot": "polar",
         "theta": [
          "PCA3"
         ],
         "type": "barpolar"
        },
        {
         "hovertemplate": "name=%{theta}<br>value=%{r}<extra></extra>",
         "legendgroup": "PCA4",
         "marker": {
          "color": "#ed7953",
          "pattern": {
           "shape": ""
          }
         },
         "name": "PCA4",
         "r": [
          0.14527001976966858
         ],
         "showlegend": true,
         "subplot": "polar",
         "theta": [
          "PCA4"
         ],
         "type": "barpolar"
        },
        {
         "hovertemplate": "name=%{theta}<br>value=%{r}<extra></extra>",
         "legendgroup": "PCA2",
         "marker": {
          "color": "#d8576b",
          "pattern": {
           "shape": ""
          }
         },
         "name": "PCA2",
         "r": [
          0.11688751727342606
         ],
         "showlegend": true,
         "subplot": "polar",
         "theta": [
          "PCA2"
         ],
         "type": "barpolar"
        }
       ],
       "layout": {
        "barmode": "relative",
        "legend": {
         "title": {
          "text": "name"
         },
         "tracegroupgap": 0
        },
        "margin": {
         "t": 60
        },
        "polar": {
         "angularaxis": {
          "categoryarray": [
           "PCA1",
           "PCA5",
           "PCA3",
           "PCA4",
           "PCA2"
          ],
          "categoryorder": "array",
          "direction": "clockwise",
          "rotation": 90
         },
         "domain": {
          "x": [
           0,
           1
          ],
          "y": [
           0,
           1
          ]
         }
        },
        "template": {
         "data": {
          "bar": [
           {
            "error_x": {
             "color": "#f2f5fa"
            },
            "error_y": {
             "color": "#f2f5fa"
            },
            "marker": {
             "line": {
              "color": "rgb(17,17,17)",
              "width": 0.5
             },
             "pattern": {
              "fillmode": "overlay",
              "size": 10,
              "solidity": 0.2
             }
            },
            "type": "bar"
           }
          ],
          "barpolar": [
           {
            "marker": {
             "line": {
              "color": "rgb(17,17,17)",
              "width": 0.5
             },
             "pattern": {
              "fillmode": "overlay",
              "size": 10,
              "solidity": 0.2
             }
            },
            "type": "barpolar"
           }
          ],
          "carpet": [
           {
            "aaxis": {
             "endlinecolor": "#A2B1C6",
             "gridcolor": "#506784",
             "linecolor": "#506784",
             "minorgridcolor": "#506784",
             "startlinecolor": "#A2B1C6"
            },
            "baxis": {
             "endlinecolor": "#A2B1C6",
             "gridcolor": "#506784",
             "linecolor": "#506784",
             "minorgridcolor": "#506784",
             "startlinecolor": "#A2B1C6"
            },
            "type": "carpet"
           }
          ],
          "choropleth": [
           {
            "colorbar": {
             "outlinewidth": 0,
             "ticks": ""
            },
            "type": "choropleth"
           }
          ],
          "contour": [
           {
            "colorbar": {
             "outlinewidth": 0,
             "ticks": ""
            },
            "colorscale": [
             [
              0,
              "#0d0887"
             ],
             [
              0.1111111111111111,
              "#46039f"
             ],
             [
              0.2222222222222222,
              "#7201a8"
             ],
             [
              0.3333333333333333,
              "#9c179e"
             ],
             [
              0.4444444444444444,
              "#bd3786"
             ],
             [
              0.5555555555555556,
              "#d8576b"
             ],
             [
              0.6666666666666666,
              "#ed7953"
             ],
             [
              0.7777777777777778,
              "#fb9f3a"
             ],
             [
              0.8888888888888888,
              "#fdca26"
             ],
             [
              1,
              "#f0f921"
             ]
            ],
            "type": "contour"
           }
          ],
          "contourcarpet": [
           {
            "colorbar": {
             "outlinewidth": 0,
             "ticks": ""
            },
            "type": "contourcarpet"
           }
          ],
          "heatmap": [
           {
            "colorbar": {
             "outlinewidth": 0,
             "ticks": ""
            },
            "colorscale": [
             [
              0,
              "#0d0887"
             ],
             [
              0.1111111111111111,
              "#46039f"
             ],
             [
              0.2222222222222222,
              "#7201a8"
             ],
             [
              0.3333333333333333,
              "#9c179e"
             ],
             [
              0.4444444444444444,
              "#bd3786"
             ],
             [
              0.5555555555555556,
              "#d8576b"
             ],
             [
              0.6666666666666666,
              "#ed7953"
             ],
             [
              0.7777777777777778,
              "#fb9f3a"
             ],
             [
              0.8888888888888888,
              "#fdca26"
             ],
             [
              1,
              "#f0f921"
             ]
            ],
            "type": "heatmap"
           }
          ],
          "heatmapgl": [
           {
            "colorbar": {
             "outlinewidth": 0,
             "ticks": ""
            },
            "colorscale": [
             [
              0,
              "#0d0887"
             ],
             [
              0.1111111111111111,
              "#46039f"
             ],
             [
              0.2222222222222222,
              "#7201a8"
             ],
             [
              0.3333333333333333,
              "#9c179e"
             ],
             [
              0.4444444444444444,
              "#bd3786"
             ],
             [
              0.5555555555555556,
              "#d8576b"
             ],
             [
              0.6666666666666666,
              "#ed7953"
             ],
             [
              0.7777777777777778,
              "#fb9f3a"
             ],
             [
              0.8888888888888888,
              "#fdca26"
             ],
             [
              1,
              "#f0f921"
             ]
            ],
            "type": "heatmapgl"
           }
          ],
          "histogram": [
           {
            "marker": {
             "pattern": {
              "fillmode": "overlay",
              "size": 10,
              "solidity": 0.2
             }
            },
            "type": "histogram"
           }
          ],
          "histogram2d": [
           {
            "colorbar": {
             "outlinewidth": 0,
             "ticks": ""
            },
            "colorscale": [
             [
              0,
              "#0d0887"
             ],
             [
              0.1111111111111111,
              "#46039f"
             ],
             [
              0.2222222222222222,
              "#7201a8"
             ],
             [
              0.3333333333333333,
              "#9c179e"
             ],
             [
              0.4444444444444444,
              "#bd3786"
             ],
             [
              0.5555555555555556,
              "#d8576b"
             ],
             [
              0.6666666666666666,
              "#ed7953"
             ],
             [
              0.7777777777777778,
              "#fb9f3a"
             ],
             [
              0.8888888888888888,
              "#fdca26"
             ],
             [
              1,
              "#f0f921"
             ]
            ],
            "type": "histogram2d"
           }
          ],
          "histogram2dcontour": [
           {
            "colorbar": {
             "outlinewidth": 0,
             "ticks": ""
            },
            "colorscale": [
             [
              0,
              "#0d0887"
             ],
             [
              0.1111111111111111,
              "#46039f"
             ],
             [
              0.2222222222222222,
              "#7201a8"
             ],
             [
              0.3333333333333333,
              "#9c179e"
             ],
             [
              0.4444444444444444,
              "#bd3786"
             ],
             [
              0.5555555555555556,
              "#d8576b"
             ],
             [
              0.6666666666666666,
              "#ed7953"
             ],
             [
              0.7777777777777778,
              "#fb9f3a"
             ],
             [
              0.8888888888888888,
              "#fdca26"
             ],
             [
              1,
              "#f0f921"
             ]
            ],
            "type": "histogram2dcontour"
           }
          ],
          "mesh3d": [
           {
            "colorbar": {
             "outlinewidth": 0,
             "ticks": ""
            },
            "type": "mesh3d"
           }
          ],
          "parcoords": [
           {
            "line": {
             "colorbar": {
              "outlinewidth": 0,
              "ticks": ""
             }
            },
            "type": "parcoords"
           }
          ],
          "pie": [
           {
            "automargin": true,
            "type": "pie"
           }
          ],
          "scatter": [
           {
            "marker": {
             "line": {
              "color": "#283442"
             }
            },
            "type": "scatter"
           }
          ],
          "scatter3d": [
           {
            "line": {
             "colorbar": {
              "outlinewidth": 0,
              "ticks": ""
             }
            },
            "marker": {
             "colorbar": {
              "outlinewidth": 0,
              "ticks": ""
             }
            },
            "type": "scatter3d"
           }
          ],
          "scattercarpet": [
           {
            "marker": {
             "colorbar": {
              "outlinewidth": 0,
              "ticks": ""
             }
            },
            "type": "scattercarpet"
           }
          ],
          "scattergeo": [
           {
            "marker": {
             "colorbar": {
              "outlinewidth": 0,
              "ticks": ""
             }
            },
            "type": "scattergeo"
           }
          ],
          "scattergl": [
           {
            "marker": {
             "line": {
              "color": "#283442"
             }
            },
            "type": "scattergl"
           }
          ],
          "scattermapbox": [
           {
            "marker": {
             "colorbar": {
              "outlinewidth": 0,
              "ticks": ""
             }
            },
            "type": "scattermapbox"
           }
          ],
          "scatterpolar": [
           {
            "marker": {
             "colorbar": {
              "outlinewidth": 0,
              "ticks": ""
             }
            },
            "type": "scatterpolar"
           }
          ],
          "scatterpolargl": [
           {
            "marker": {
             "colorbar": {
              "outlinewidth": 0,
              "ticks": ""
             }
            },
            "type": "scatterpolargl"
           }
          ],
          "scatterternary": [
           {
            "marker": {
             "colorbar": {
              "outlinewidth": 0,
              "ticks": ""
             }
            },
            "type": "scatterternary"
           }
          ],
          "surface": [
           {
            "colorbar": {
             "outlinewidth": 0,
             "ticks": ""
            },
            "colorscale": [
             [
              0,
              "#0d0887"
             ],
             [
              0.1111111111111111,
              "#46039f"
             ],
             [
              0.2222222222222222,
              "#7201a8"
             ],
             [
              0.3333333333333333,
              "#9c179e"
             ],
             [
              0.4444444444444444,
              "#bd3786"
             ],
             [
              0.5555555555555556,
              "#d8576b"
             ],
             [
              0.6666666666666666,
              "#ed7953"
             ],
             [
              0.7777777777777778,
              "#fb9f3a"
             ],
             [
              0.8888888888888888,
              "#fdca26"
             ],
             [
              1,
              "#f0f921"
             ]
            ],
            "type": "surface"
           }
          ],
          "table": [
           {
            "cells": {
             "fill": {
              "color": "#506784"
             },
             "line": {
              "color": "rgb(17,17,17)"
             }
            },
            "header": {
             "fill": {
              "color": "#2a3f5f"
             },
             "line": {
              "color": "rgb(17,17,17)"
             }
            },
            "type": "table"
           }
          ]
         },
         "layout": {
          "annotationdefaults": {
           "arrowcolor": "#f2f5fa",
           "arrowhead": 0,
           "arrowwidth": 1
          },
          "autotypenumbers": "strict",
          "coloraxis": {
           "colorbar": {
            "outlinewidth": 0,
            "ticks": ""
           }
          },
          "colorscale": {
           "diverging": [
            [
             0,
             "#8e0152"
            ],
            [
             0.1,
             "#c51b7d"
            ],
            [
             0.2,
             "#de77ae"
            ],
            [
             0.3,
             "#f1b6da"
            ],
            [
             0.4,
             "#fde0ef"
            ],
            [
             0.5,
             "#f7f7f7"
            ],
            [
             0.6,
             "#e6f5d0"
            ],
            [
             0.7,
             "#b8e186"
            ],
            [
             0.8,
             "#7fbc41"
            ],
            [
             0.9,
             "#4d9221"
            ],
            [
             1,
             "#276419"
            ]
           ],
           "sequential": [
            [
             0,
             "#0d0887"
            ],
            [
             0.1111111111111111,
             "#46039f"
            ],
            [
             0.2222222222222222,
             "#7201a8"
            ],
            [
             0.3333333333333333,
             "#9c179e"
            ],
            [
             0.4444444444444444,
             "#bd3786"
            ],
            [
             0.5555555555555556,
             "#d8576b"
            ],
            [
             0.6666666666666666,
             "#ed7953"
            ],
            [
             0.7777777777777778,
             "#fb9f3a"
            ],
            [
             0.8888888888888888,
             "#fdca26"
            ],
            [
             1,
             "#f0f921"
            ]
           ],
           "sequentialminus": [
            [
             0,
             "#0d0887"
            ],
            [
             0.1111111111111111,
             "#46039f"
            ],
            [
             0.2222222222222222,
             "#7201a8"
            ],
            [
             0.3333333333333333,
             "#9c179e"
            ],
            [
             0.4444444444444444,
             "#bd3786"
            ],
            [
             0.5555555555555556,
             "#d8576b"
            ],
            [
             0.6666666666666666,
             "#ed7953"
            ],
            [
             0.7777777777777778,
             "#fb9f3a"
            ],
            [
             0.8888888888888888,
             "#fdca26"
            ],
            [
             1,
             "#f0f921"
            ]
           ]
          },
          "colorway": [
           "#636efa",
           "#EF553B",
           "#00cc96",
           "#ab63fa",
           "#FFA15A",
           "#19d3f3",
           "#FF6692",
           "#B6E880",
           "#FF97FF",
           "#FECB52"
          ],
          "font": {
           "color": "#f2f5fa"
          },
          "geo": {
           "bgcolor": "rgb(17,17,17)",
           "lakecolor": "rgb(17,17,17)",
           "landcolor": "rgb(17,17,17)",
           "showlakes": true,
           "showland": true,
           "subunitcolor": "#506784"
          },
          "hoverlabel": {
           "align": "left"
          },
          "hovermode": "closest",
          "mapbox": {
           "style": "dark"
          },
          "paper_bgcolor": "rgb(17,17,17)",
          "plot_bgcolor": "rgb(17,17,17)",
          "polar": {
           "angularaxis": {
            "gridcolor": "#506784",
            "linecolor": "#506784",
            "ticks": ""
           },
           "bgcolor": "rgb(17,17,17)",
           "radialaxis": {
            "gridcolor": "#506784",
            "linecolor": "#506784",
            "ticks": ""
           }
          },
          "scene": {
           "xaxis": {
            "backgroundcolor": "rgb(17,17,17)",
            "gridcolor": "#506784",
            "gridwidth": 2,
            "linecolor": "#506784",
            "showbackground": true,
            "ticks": "",
            "zerolinecolor": "#C8D4E3"
           },
           "yaxis": {
            "backgroundcolor": "rgb(17,17,17)",
            "gridcolor": "#506784",
            "gridwidth": 2,
            "linecolor": "#506784",
            "showbackground": true,
            "ticks": "",
            "zerolinecolor": "#C8D4E3"
           },
           "zaxis": {
            "backgroundcolor": "rgb(17,17,17)",
            "gridcolor": "#506784",
            "gridwidth": 2,
            "linecolor": "#506784",
            "showbackground": true,
            "ticks": "",
            "zerolinecolor": "#C8D4E3"
           }
          },
          "shapedefaults": {
           "line": {
            "color": "#f2f5fa"
           }
          },
          "sliderdefaults": {
           "bgcolor": "#C8D4E3",
           "bordercolor": "rgb(17,17,17)",
           "borderwidth": 1,
           "tickwidth": 0
          },
          "ternary": {
           "aaxis": {
            "gridcolor": "#506784",
            "linecolor": "#506784",
            "ticks": ""
           },
           "baxis": {
            "gridcolor": "#506784",
            "linecolor": "#506784",
            "ticks": ""
           },
           "bgcolor": "rgb(17,17,17)",
           "caxis": {
            "gridcolor": "#506784",
            "linecolor": "#506784",
            "ticks": ""
           }
          },
          "title": {
           "x": 0.05
          },
          "updatemenudefaults": {
           "bgcolor": "#506784",
           "borderwidth": 0
          },
          "xaxis": {
           "automargin": true,
           "gridcolor": "#283442",
           "linecolor": "#506784",
           "ticks": "",
           "title": {
            "standoff": 15
           },
           "zerolinecolor": "#283442",
           "zerolinewidth": 2
          },
          "yaxis": {
           "automargin": true,
           "gridcolor": "#283442",
           "linecolor": "#506784",
           "ticks": "",
           "title": {
            "standoff": 15
           },
           "zerolinecolor": "#283442",
           "zerolinewidth": 2
          }
         }
        }
       }
      },
      "text/html": [
       "<div>                            <div id=\"340c596c-13df-4370-8ff5-7186e236e3eb\" class=\"plotly-graph-div\" style=\"height:525px; width:100%;\"></div>            <script type=\"text/javascript\">                require([\"plotly\"], function(Plotly) {                    window.PLOTLYENV=window.PLOTLYENV || {};                                    if (document.getElementById(\"340c596c-13df-4370-8ff5-7186e236e3eb\")) {                    Plotly.newPlot(                        \"340c596c-13df-4370-8ff5-7186e236e3eb\",                        [{\"hovertemplate\":\"name=%{theta}<br>value=%{r}<extra></extra>\",\"legendgroup\":\"PCA1\",\"marker\":{\"color\":\"#f0f921\",\"pattern\":{\"shape\":\"\"}},\"name\":\"PCA1\",\"r\":[0.3889918625354767],\"showlegend\":true,\"subplot\":\"polar\",\"theta\":[\"PCA1\"],\"type\":\"barpolar\"},{\"hovertemplate\":\"name=%{theta}<br>value=%{r}<extra></extra>\",\"legendgroup\":\"PCA5\",\"marker\":{\"color\":\"#fdca26\",\"pattern\":{\"shape\":\"\"}},\"name\":\"PCA5\",\"r\":[0.19794155657291412],\"showlegend\":true,\"subplot\":\"polar\",\"theta\":[\"PCA5\"],\"type\":\"barpolar\"},{\"hovertemplate\":\"name=%{theta}<br>value=%{r}<extra></extra>\",\"legendgroup\":\"PCA3\",\"marker\":{\"color\":\"#fb9f3a\",\"pattern\":{\"shape\":\"\"}},\"name\":\"PCA3\",\"r\":[0.15090908110141754],\"showlegend\":true,\"subplot\":\"polar\",\"theta\":[\"PCA3\"],\"type\":\"barpolar\"},{\"hovertemplate\":\"name=%{theta}<br>value=%{r}<extra></extra>\",\"legendgroup\":\"PCA4\",\"marker\":{\"color\":\"#ed7953\",\"pattern\":{\"shape\":\"\"}},\"name\":\"PCA4\",\"r\":[0.14527001976966858],\"showlegend\":true,\"subplot\":\"polar\",\"theta\":[\"PCA4\"],\"type\":\"barpolar\"},{\"hovertemplate\":\"name=%{theta}<br>value=%{r}<extra></extra>\",\"legendgroup\":\"PCA2\",\"marker\":{\"color\":\"#d8576b\",\"pattern\":{\"shape\":\"\"}},\"name\":\"PCA2\",\"r\":[0.11688751727342606],\"showlegend\":true,\"subplot\":\"polar\",\"theta\":[\"PCA2\"],\"type\":\"barpolar\"}],                        {\"template\":{\"data\":{\"barpolar\":[{\"marker\":{\"line\":{\"color\":\"rgb(17,17,17)\",\"width\":0.5},\"pattern\":{\"fillmode\":\"overlay\",\"size\":10,\"solidity\":0.2}},\"type\":\"barpolar\"}],\"bar\":[{\"error_x\":{\"color\":\"#f2f5fa\"},\"error_y\":{\"color\":\"#f2f5fa\"},\"marker\":{\"line\":{\"color\":\"rgb(17,17,17)\",\"width\":0.5},\"pattern\":{\"fillmode\":\"overlay\",\"size\":10,\"solidity\":0.2}},\"type\":\"bar\"}],\"carpet\":[{\"aaxis\":{\"endlinecolor\":\"#A2B1C6\",\"gridcolor\":\"#506784\",\"linecolor\":\"#506784\",\"minorgridcolor\":\"#506784\",\"startlinecolor\":\"#A2B1C6\"},\"baxis\":{\"endlinecolor\":\"#A2B1C6\",\"gridcolor\":\"#506784\",\"linecolor\":\"#506784\",\"minorgridcolor\":\"#506784\",\"startlinecolor\":\"#A2B1C6\"},\"type\":\"carpet\"}],\"choropleth\":[{\"colorbar\":{\"outlinewidth\":0,\"ticks\":\"\"},\"type\":\"choropleth\"}],\"contourcarpet\":[{\"colorbar\":{\"outlinewidth\":0,\"ticks\":\"\"},\"type\":\"contourcarpet\"}],\"contour\":[{\"colorbar\":{\"outlinewidth\":0,\"ticks\":\"\"},\"colorscale\":[[0.0,\"#0d0887\"],[0.1111111111111111,\"#46039f\"],[0.2222222222222222,\"#7201a8\"],[0.3333333333333333,\"#9c179e\"],[0.4444444444444444,\"#bd3786\"],[0.5555555555555556,\"#d8576b\"],[0.6666666666666666,\"#ed7953\"],[0.7777777777777778,\"#fb9f3a\"],[0.8888888888888888,\"#fdca26\"],[1.0,\"#f0f921\"]],\"type\":\"contour\"}],\"heatmapgl\":[{\"colorbar\":{\"outlinewidth\":0,\"ticks\":\"\"},\"colorscale\":[[0.0,\"#0d0887\"],[0.1111111111111111,\"#46039f\"],[0.2222222222222222,\"#7201a8\"],[0.3333333333333333,\"#9c179e\"],[0.4444444444444444,\"#bd3786\"],[0.5555555555555556,\"#d8576b\"],[0.6666666666666666,\"#ed7953\"],[0.7777777777777778,\"#fb9f3a\"],[0.8888888888888888,\"#fdca26\"],[1.0,\"#f0f921\"]],\"type\":\"heatmapgl\"}],\"heatmap\":[{\"colorbar\":{\"outlinewidth\":0,\"ticks\":\"\"},\"colorscale\":[[0.0,\"#0d0887\"],[0.1111111111111111,\"#46039f\"],[0.2222222222222222,\"#7201a8\"],[0.3333333333333333,\"#9c179e\"],[0.4444444444444444,\"#bd3786\"],[0.5555555555555556,\"#d8576b\"],[0.6666666666666666,\"#ed7953\"],[0.7777777777777778,\"#fb9f3a\"],[0.8888888888888888,\"#fdca26\"],[1.0,\"#f0f921\"]],\"type\":\"heatmap\"}],\"histogram2dcontour\":[{\"colorbar\":{\"outlinewidth\":0,\"ticks\":\"\"},\"colorscale\":[[0.0,\"#0d0887\"],[0.1111111111111111,\"#46039f\"],[0.2222222222222222,\"#7201a8\"],[0.3333333333333333,\"#9c179e\"],[0.4444444444444444,\"#bd3786\"],[0.5555555555555556,\"#d8576b\"],[0.6666666666666666,\"#ed7953\"],[0.7777777777777778,\"#fb9f3a\"],[0.8888888888888888,\"#fdca26\"],[1.0,\"#f0f921\"]],\"type\":\"histogram2dcontour\"}],\"histogram2d\":[{\"colorbar\":{\"outlinewidth\":0,\"ticks\":\"\"},\"colorscale\":[[0.0,\"#0d0887\"],[0.1111111111111111,\"#46039f\"],[0.2222222222222222,\"#7201a8\"],[0.3333333333333333,\"#9c179e\"],[0.4444444444444444,\"#bd3786\"],[0.5555555555555556,\"#d8576b\"],[0.6666666666666666,\"#ed7953\"],[0.7777777777777778,\"#fb9f3a\"],[0.8888888888888888,\"#fdca26\"],[1.0,\"#f0f921\"]],\"type\":\"histogram2d\"}],\"histogram\":[{\"marker\":{\"pattern\":{\"fillmode\":\"overlay\",\"size\":10,\"solidity\":0.2}},\"type\":\"histogram\"}],\"mesh3d\":[{\"colorbar\":{\"outlinewidth\":0,\"ticks\":\"\"},\"type\":\"mesh3d\"}],\"parcoords\":[{\"line\":{\"colorbar\":{\"outlinewidth\":0,\"ticks\":\"\"}},\"type\":\"parcoords\"}],\"pie\":[{\"automargin\":true,\"type\":\"pie\"}],\"scatter3d\":[{\"line\":{\"colorbar\":{\"outlinewidth\":0,\"ticks\":\"\"}},\"marker\":{\"colorbar\":{\"outlinewidth\":0,\"ticks\":\"\"}},\"type\":\"scatter3d\"}],\"scattercarpet\":[{\"marker\":{\"colorbar\":{\"outlinewidth\":0,\"ticks\":\"\"}},\"type\":\"scattercarpet\"}],\"scattergeo\":[{\"marker\":{\"colorbar\":{\"outlinewidth\":0,\"ticks\":\"\"}},\"type\":\"scattergeo\"}],\"scattergl\":[{\"marker\":{\"line\":{\"color\":\"#283442\"}},\"type\":\"scattergl\"}],\"scattermapbox\":[{\"marker\":{\"colorbar\":{\"outlinewidth\":0,\"ticks\":\"\"}},\"type\":\"scattermapbox\"}],\"scatterpolargl\":[{\"marker\":{\"colorbar\":{\"outlinewidth\":0,\"ticks\":\"\"}},\"type\":\"scatterpolargl\"}],\"scatterpolar\":[{\"marker\":{\"colorbar\":{\"outlinewidth\":0,\"ticks\":\"\"}},\"type\":\"scatterpolar\"}],\"scatter\":[{\"marker\":{\"line\":{\"color\":\"#283442\"}},\"type\":\"scatter\"}],\"scatterternary\":[{\"marker\":{\"colorbar\":{\"outlinewidth\":0,\"ticks\":\"\"}},\"type\":\"scatterternary\"}],\"surface\":[{\"colorbar\":{\"outlinewidth\":0,\"ticks\":\"\"},\"colorscale\":[[0.0,\"#0d0887\"],[0.1111111111111111,\"#46039f\"],[0.2222222222222222,\"#7201a8\"],[0.3333333333333333,\"#9c179e\"],[0.4444444444444444,\"#bd3786\"],[0.5555555555555556,\"#d8576b\"],[0.6666666666666666,\"#ed7953\"],[0.7777777777777778,\"#fb9f3a\"],[0.8888888888888888,\"#fdca26\"],[1.0,\"#f0f921\"]],\"type\":\"surface\"}],\"table\":[{\"cells\":{\"fill\":{\"color\":\"#506784\"},\"line\":{\"color\":\"rgb(17,17,17)\"}},\"header\":{\"fill\":{\"color\":\"#2a3f5f\"},\"line\":{\"color\":\"rgb(17,17,17)\"}},\"type\":\"table\"}]},\"layout\":{\"annotationdefaults\":{\"arrowcolor\":\"#f2f5fa\",\"arrowhead\":0,\"arrowwidth\":1},\"autotypenumbers\":\"strict\",\"coloraxis\":{\"colorbar\":{\"outlinewidth\":0,\"ticks\":\"\"}},\"colorscale\":{\"diverging\":[[0,\"#8e0152\"],[0.1,\"#c51b7d\"],[0.2,\"#de77ae\"],[0.3,\"#f1b6da\"],[0.4,\"#fde0ef\"],[0.5,\"#f7f7f7\"],[0.6,\"#e6f5d0\"],[0.7,\"#b8e186\"],[0.8,\"#7fbc41\"],[0.9,\"#4d9221\"],[1,\"#276419\"]],\"sequential\":[[0.0,\"#0d0887\"],[0.1111111111111111,\"#46039f\"],[0.2222222222222222,\"#7201a8\"],[0.3333333333333333,\"#9c179e\"],[0.4444444444444444,\"#bd3786\"],[0.5555555555555556,\"#d8576b\"],[0.6666666666666666,\"#ed7953\"],[0.7777777777777778,\"#fb9f3a\"],[0.8888888888888888,\"#fdca26\"],[1.0,\"#f0f921\"]],\"sequentialminus\":[[0.0,\"#0d0887\"],[0.1111111111111111,\"#46039f\"],[0.2222222222222222,\"#7201a8\"],[0.3333333333333333,\"#9c179e\"],[0.4444444444444444,\"#bd3786\"],[0.5555555555555556,\"#d8576b\"],[0.6666666666666666,\"#ed7953\"],[0.7777777777777778,\"#fb9f3a\"],[0.8888888888888888,\"#fdca26\"],[1.0,\"#f0f921\"]]},\"colorway\":[\"#636efa\",\"#EF553B\",\"#00cc96\",\"#ab63fa\",\"#FFA15A\",\"#19d3f3\",\"#FF6692\",\"#B6E880\",\"#FF97FF\",\"#FECB52\"],\"font\":{\"color\":\"#f2f5fa\"},\"geo\":{\"bgcolor\":\"rgb(17,17,17)\",\"lakecolor\":\"rgb(17,17,17)\",\"landcolor\":\"rgb(17,17,17)\",\"showlakes\":true,\"showland\":true,\"subunitcolor\":\"#506784\"},\"hoverlabel\":{\"align\":\"left\"},\"hovermode\":\"closest\",\"mapbox\":{\"style\":\"dark\"},\"paper_bgcolor\":\"rgb(17,17,17)\",\"plot_bgcolor\":\"rgb(17,17,17)\",\"polar\":{\"angularaxis\":{\"gridcolor\":\"#506784\",\"linecolor\":\"#506784\",\"ticks\":\"\"},\"bgcolor\":\"rgb(17,17,17)\",\"radialaxis\":{\"gridcolor\":\"#506784\",\"linecolor\":\"#506784\",\"ticks\":\"\"}},\"scene\":{\"xaxis\":{\"backgroundcolor\":\"rgb(17,17,17)\",\"gridcolor\":\"#506784\",\"gridwidth\":2,\"linecolor\":\"#506784\",\"showbackground\":true,\"ticks\":\"\",\"zerolinecolor\":\"#C8D4E3\"},\"yaxis\":{\"backgroundcolor\":\"rgb(17,17,17)\",\"gridcolor\":\"#506784\",\"gridwidth\":2,\"linecolor\":\"#506784\",\"showbackground\":true,\"ticks\":\"\",\"zerolinecolor\":\"#C8D4E3\"},\"zaxis\":{\"backgroundcolor\":\"rgb(17,17,17)\",\"gridcolor\":\"#506784\",\"gridwidth\":2,\"linecolor\":\"#506784\",\"showbackground\":true,\"ticks\":\"\",\"zerolinecolor\":\"#C8D4E3\"}},\"shapedefaults\":{\"line\":{\"color\":\"#f2f5fa\"}},\"sliderdefaults\":{\"bgcolor\":\"#C8D4E3\",\"bordercolor\":\"rgb(17,17,17)\",\"borderwidth\":1,\"tickwidth\":0},\"ternary\":{\"aaxis\":{\"gridcolor\":\"#506784\",\"linecolor\":\"#506784\",\"ticks\":\"\"},\"baxis\":{\"gridcolor\":\"#506784\",\"linecolor\":\"#506784\",\"ticks\":\"\"},\"bgcolor\":\"rgb(17,17,17)\",\"caxis\":{\"gridcolor\":\"#506784\",\"linecolor\":\"#506784\",\"ticks\":\"\"}},\"title\":{\"x\":0.05},\"updatemenudefaults\":{\"bgcolor\":\"#506784\",\"borderwidth\":0},\"xaxis\":{\"automargin\":true,\"gridcolor\":\"#283442\",\"linecolor\":\"#506784\",\"ticks\":\"\",\"title\":{\"standoff\":15},\"zerolinecolor\":\"#283442\",\"zerolinewidth\":2},\"yaxis\":{\"automargin\":true,\"gridcolor\":\"#283442\",\"linecolor\":\"#506784\",\"ticks\":\"\",\"title\":{\"standoff\":15},\"zerolinecolor\":\"#283442\",\"zerolinewidth\":2}}},\"polar\":{\"domain\":{\"x\":[0.0,1.0],\"y\":[0.0,1.0]},\"angularaxis\":{\"direction\":\"clockwise\",\"rotation\":90,\"categoryorder\":\"array\",\"categoryarray\":[\"PCA1\",\"PCA5\",\"PCA3\",\"PCA4\",\"PCA2\"]}},\"legend\":{\"title\":{\"text\":\"name\"},\"tracegroupgap\":0},\"margin\":{\"t\":60},\"barmode\":\"relative\"},                        {\"responsive\": true}                    ).then(function(){\n",
       "                            \n",
       "var gd = document.getElementById('340c596c-13df-4370-8ff5-7186e236e3eb');\n",
       "var x = new MutationObserver(function (mutations, observer) {{\n",
       "        var display = window.getComputedStyle(gd).display;\n",
       "        if (!display || display === 'none') {{\n",
       "            console.log([gd, 'removed!']);\n",
       "            Plotly.purge(gd);\n",
       "            observer.disconnect();\n",
       "        }}\n",
       "}});\n",
       "\n",
       "// Listen for the removal of the full notebook cells\n",
       "var notebookContainer = gd.closest('#notebook-container');\n",
       "if (notebookContainer) {{\n",
       "    x.observe(notebookContainer, {childList: true});\n",
       "}}\n",
       "\n",
       "// Listen for the clearing of the current output cell\n",
       "var outputEl = gd.closest('.output');\n",
       "if (outputEl) {{\n",
       "    x.observe(outputEl, {childList: true});\n",
       "}}\n",
       "\n",
       "                        })                };                });            </script>        </div>"
      ]
     },
     "metadata": {},
     "output_type": "display_data"
    }
   ],
   "source": [
    "fig = px.bar_polar(df_importance, r=\"value\", theta=\"name\",\n",
    "                   color=\"name\", template=\"plotly_dark\",\n",
    "                   color_discrete_sequence= px.colors.sequential.Plasma_r)\n",
    "fig.show()"
   ]
  },
  {
   "cell_type": "code",
   "execution_count": null,
   "id": "95dac425",
   "metadata": {},
   "outputs": [],
   "source": []
  }
 ],
 "metadata": {
  "kernelspec": {
   "display_name": "Python 3 (ipykernel)",
   "language": "python",
   "name": "python3"
  },
  "language_info": {
   "codemirror_mode": {
    "name": "ipython",
    "version": 3
   },
   "file_extension": ".py",
   "mimetype": "text/x-python",
   "name": "python",
   "nbconvert_exporter": "python",
   "pygments_lexer": "ipython3",
   "version": "3.9.7"
  }
 },
 "nbformat": 4,
 "nbformat_minor": 5
}
