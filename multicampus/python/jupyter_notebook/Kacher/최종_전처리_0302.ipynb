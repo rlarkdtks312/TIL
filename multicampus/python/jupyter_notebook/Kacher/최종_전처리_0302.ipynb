{
 "cells": [
  {
   "cell_type": "markdown",
   "metadata": {},
   "source": [
    "# Kaggle 데이터 분석 프로젝트\n",
    "## 3조 Kacher"
   ]
  },
  {
   "cell_type": "markdown",
   "metadata": {},
   "source": [
    "---"
   ]
  },
  {
   "cell_type": "markdown",
   "metadata": {},
   "source": [
    "## **데이터 살펴보기**"
   ]
  },
  {
   "cell_type": "markdown",
   "metadata": {},
   "source": [
    "#### 데이터 불러오기"
   ]
  },
  {
   "cell_type": "code",
   "execution_count": 561,
   "metadata": {},
   "outputs": [],
   "source": [
    "import pandas as pd\n",
    "import numpy as np\n",
    "import matplotlib.pyplot as plt\n",
    "import pickle\n",
    "import seaborn as sns\n",
    "from sklearn.preprocessing import LabelEncoder\n",
    "import time\n",
    "import itertools\n",
    "\n",
    "from sklearn.preprocessing import RobustScaler, StandardScaler, MinMaxScaler, MaxAbsScaler\n",
    "from sklearn.experimental import enable_iterative_imputer\n",
    "from sklearn.impute import IterativeImputer\n",
    "\n",
    "# 한글 폰트 사용을 위해서 세팅\n",
    "from matplotlib import font_manager, rc\n",
    "font_path = \"C:/Windows/Fonts/NGULIM.TTF\"\n",
    "font = font_manager.FontProperties(fname=font_path).get_name()\n",
    "rc('font', family=font)"
   ]
  },
  {
   "cell_type": "code",
   "execution_count": 562,
   "metadata": {},
   "outputs": [],
   "source": [
    "df_train = pd.read_csv('sales_train.csv')\n",
    "df_items = pd.read_csv('items.csv',encoding='cp949')\n",
    "df_shops = pd.read_csv('shops.csv')\n",
    "df_item_categories = pd.read_csv('item_categories.csv')\n",
    "df_test = pd.read_csv('test.csv')\n",
    "df_submission = pd.read_csv('sample_submission.csv')"
   ]
  },
  {
   "cell_type": "markdown",
   "metadata": {},
   "source": [
    "#### 데이터 살펴보기"
   ]
  },
  {
   "cell_type": "code",
   "execution_count": 563,
   "metadata": {},
   "outputs": [
    {
     "name": "stdout",
     "output_type": "stream",
     "text": [
      "(2935849, 6)\n",
      "-----------\n",
      "(22170, 3)\n",
      "-----------\n",
      "(60, 2)\n",
      "-----------\n",
      "(84, 2)\n",
      "-----------\n",
      "(214200, 3)\n"
     ]
    }
   ],
   "source": [
    "print(df_train.shape, df_items.shape, df_shops.shape, df_item_categories.shape, df_test.shape, sep='\\n-----------\\n')"
   ]
  },
  {
   "cell_type": "code",
   "execution_count": 564,
   "metadata": {},
   "outputs": [
    {
     "name": "stdout",
     "output_type": "stream",
     "text": [
      "<class 'pandas.core.frame.DataFrame'>\n",
      "RangeIndex: 2935849 entries, 0 to 2935848\n",
      "Data columns (total 6 columns):\n",
      " #   Column          Dtype  \n",
      "---  ------          -----  \n",
      " 0   date            object \n",
      " 1   date_block_num  int64  \n",
      " 2   shop_id         int64  \n",
      " 3   item_id         int64  \n",
      " 4   item_price      float64\n",
      " 5   item_cnt_day    float64\n",
      "dtypes: float64(2), int64(3), object(1)\n",
      "memory usage: 134.4+ MB\n"
     ]
    }
   ],
   "source": [
    "df_train.info()"
   ]
  },
  {
   "cell_type": "code",
   "execution_count": 565,
   "metadata": {},
   "outputs": [
    {
     "name": "stdout",
     "output_type": "stream",
     "text": [
      "<class 'pandas.core.frame.DataFrame'>\n",
      "RangeIndex: 22170 entries, 0 to 22169\n",
      "Data columns (total 3 columns):\n",
      " #   Column            Non-Null Count  Dtype \n",
      "---  ------            --------------  ----- \n",
      " 0   item_name         22170 non-null  object\n",
      " 1   item_id           22170 non-null  int64 \n",
      " 2   item_category_id  22170 non-null  int64 \n",
      "dtypes: int64(2), object(1)\n",
      "memory usage: 519.7+ KB\n"
     ]
    }
   ],
   "source": [
    "df_items.info()"
   ]
  },
  {
   "cell_type": "code",
   "execution_count": 566,
   "metadata": {},
   "outputs": [
    {
     "name": "stdout",
     "output_type": "stream",
     "text": [
      "<class 'pandas.core.frame.DataFrame'>\n",
      "RangeIndex: 60 entries, 0 to 59\n",
      "Data columns (total 2 columns):\n",
      " #   Column     Non-Null Count  Dtype \n",
      "---  ------     --------------  ----- \n",
      " 0   shop_name  60 non-null     object\n",
      " 1   shop_id    60 non-null     int64 \n",
      "dtypes: int64(1), object(1)\n",
      "memory usage: 1.1+ KB\n"
     ]
    }
   ],
   "source": [
    "df_shops.info()"
   ]
  },
  {
   "cell_type": "code",
   "execution_count": 567,
   "metadata": {},
   "outputs": [
    {
     "name": "stdout",
     "output_type": "stream",
     "text": [
      "<class 'pandas.core.frame.DataFrame'>\n",
      "RangeIndex: 84 entries, 0 to 83\n",
      "Data columns (total 2 columns):\n",
      " #   Column              Non-Null Count  Dtype \n",
      "---  ------              --------------  ----- \n",
      " 0   item_category_name  84 non-null     object\n",
      " 1   item_category_id    84 non-null     int64 \n",
      "dtypes: int64(1), object(1)\n",
      "memory usage: 1.4+ KB\n"
     ]
    }
   ],
   "source": [
    "df_item_categories.info()"
   ]
  },
  {
   "cell_type": "code",
   "execution_count": 568,
   "metadata": {},
   "outputs": [
    {
     "data": {
      "text/html": [
       "<div>\n",
       "<style scoped>\n",
       "    .dataframe tbody tr th:only-of-type {\n",
       "        vertical-align: middle;\n",
       "    }\n",
       "\n",
       "    .dataframe tbody tr th {\n",
       "        vertical-align: top;\n",
       "    }\n",
       "\n",
       "    .dataframe thead th {\n",
       "        text-align: right;\n",
       "    }\n",
       "</style>\n",
       "<table border=\"1\" class=\"dataframe\">\n",
       "  <thead>\n",
       "    <tr style=\"text-align: right;\">\n",
       "      <th></th>\n",
       "      <th>item_category_name</th>\n",
       "      <th>item_category_id</th>\n",
       "    </tr>\n",
       "  </thead>\n",
       "  <tbody>\n",
       "    <tr>\n",
       "      <th>0</th>\n",
       "      <td>PC - Гарнитуры/Наушники</td>\n",
       "      <td>0</td>\n",
       "    </tr>\n",
       "    <tr>\n",
       "      <th>1</th>\n",
       "      <td>Аксессуары - PS2</td>\n",
       "      <td>1</td>\n",
       "    </tr>\n",
       "    <tr>\n",
       "      <th>2</th>\n",
       "      <td>Аксессуары - PS3</td>\n",
       "      <td>2</td>\n",
       "    </tr>\n",
       "    <tr>\n",
       "      <th>3</th>\n",
       "      <td>Аксессуары - PS4</td>\n",
       "      <td>3</td>\n",
       "    </tr>\n",
       "    <tr>\n",
       "      <th>4</th>\n",
       "      <td>Аксессуары - PSP</td>\n",
       "      <td>4</td>\n",
       "    </tr>\n",
       "  </tbody>\n",
       "</table>\n",
       "</div>"
      ],
      "text/plain": [
       "        item_category_name  item_category_id\n",
       "0  PC - Гарнитуры/Наушники                 0\n",
       "1         Аксессуары - PS2                 1\n",
       "2         Аксессуары - PS3                 2\n",
       "3         Аксессуары - PS4                 3\n",
       "4         Аксессуары - PSP                 4"
      ]
     },
     "execution_count": 568,
     "metadata": {},
     "output_type": "execute_result"
    }
   ],
   "source": [
    "df_item_categories.head()"
   ]
  },
  {
   "cell_type": "markdown",
   "metadata": {},
   "source": [
    "러시아어로는 데이터를 이해하는 것에 어려움이 있어 item_category_name을 한글로 번역하여 item_category_kor.csv로 저장하였다."
   ]
  },
  {
   "cell_type": "code",
   "execution_count": 569,
   "metadata": {},
   "outputs": [],
   "source": [
    "from googletrans import Translator\n",
    "\n",
    "trans = Translator()\n",
    "def translate(column):\n",
    "    en_list=[]\n",
    "    for word in column:\n",
    "        en = trans.translate(word, dest='ko')\n",
    "        en_list.append(en.text)\n",
    "    return en_list"
   ]
  },
  {
   "cell_type": "code",
   "execution_count": 570,
   "metadata": {},
   "outputs": [],
   "source": [
    "df_item_categories['item_category_name'] = translate(df_item_categories.item_category_name)"
   ]
  },
  {
   "cell_type": "code",
   "execution_count": 571,
   "metadata": {},
   "outputs": [],
   "source": [
    "df_item_categories.to_csv('item_categories_kor.csv')\n",
    "df_item_categories = pd.read_csv('item_categories_kor.csv')"
   ]
  },
  {
   "cell_type": "code",
   "execution_count": 572,
   "metadata": {},
   "outputs": [
    {
     "data": {
      "text/html": [
       "<div>\n",
       "<style scoped>\n",
       "    .dataframe tbody tr th:only-of-type {\n",
       "        vertical-align: middle;\n",
       "    }\n",
       "\n",
       "    .dataframe tbody tr th {\n",
       "        vertical-align: top;\n",
       "    }\n",
       "\n",
       "    .dataframe thead th {\n",
       "        text-align: right;\n",
       "    }\n",
       "</style>\n",
       "<table border=\"1\" class=\"dataframe\">\n",
       "  <thead>\n",
       "    <tr style=\"text-align: right;\">\n",
       "      <th></th>\n",
       "      <th>Unnamed: 0</th>\n",
       "      <th>item_category_name</th>\n",
       "      <th>item_category_id</th>\n",
       "    </tr>\n",
       "  </thead>\n",
       "  <tbody>\n",
       "    <tr>\n",
       "      <th>0</th>\n",
       "      <td>0</td>\n",
       "      <td>PC - 헤드셋 / 헤드폰</td>\n",
       "      <td>0</td>\n",
       "    </tr>\n",
       "    <tr>\n",
       "      <th>1</th>\n",
       "      <td>1</td>\n",
       "      <td>액세서리 - PS2.</td>\n",
       "      <td>1</td>\n",
       "    </tr>\n",
       "    <tr>\n",
       "      <th>2</th>\n",
       "      <td>2</td>\n",
       "      <td>액세서리 - PS3.</td>\n",
       "      <td>2</td>\n",
       "    </tr>\n",
       "    <tr>\n",
       "      <th>3</th>\n",
       "      <td>3</td>\n",
       "      <td>액세서리 - PS4.</td>\n",
       "      <td>3</td>\n",
       "    </tr>\n",
       "    <tr>\n",
       "      <th>4</th>\n",
       "      <td>4</td>\n",
       "      <td>액세서리 - PSP.</td>\n",
       "      <td>4</td>\n",
       "    </tr>\n",
       "  </tbody>\n",
       "</table>\n",
       "</div>"
      ],
      "text/plain": [
       "   Unnamed: 0 item_category_name  item_category_id\n",
       "0           0     PC - 헤드셋 / 헤드폰                 0\n",
       "1           1        액세서리 - PS2.                 1\n",
       "2           2        액세서리 - PS3.                 2\n",
       "3           3        액세서리 - PS4.                 3\n",
       "4           4        액세서리 - PSP.                 4"
      ]
     },
     "execution_count": 572,
     "metadata": {},
     "output_type": "execute_result"
    }
   ],
   "source": [
    "df_item_categories.head()"
   ]
  },
  {
   "cell_type": "code",
   "execution_count": 573,
   "metadata": {},
   "outputs": [
    {
     "name": "stdout",
     "output_type": "stream",
     "text": [
      "<class 'pandas.core.frame.DataFrame'>\n",
      "RangeIndex: 214200 entries, 0 to 214199\n",
      "Data columns (total 3 columns):\n",
      " #   Column   Non-Null Count   Dtype\n",
      "---  ------   --------------   -----\n",
      " 0   ID       214200 non-null  int64\n",
      " 1   shop_id  214200 non-null  int64\n",
      " 2   item_id  214200 non-null  int64\n",
      "dtypes: int64(3)\n",
      "memory usage: 4.9 MB\n"
     ]
    }
   ],
   "source": [
    "df_test.info()"
   ]
  },
  {
   "cell_type": "markdown",
   "metadata": {},
   "source": [
    "---"
   ]
  },
  {
   "cell_type": "markdown",
   "metadata": {},
   "source": [
    "## **데이터 전처리**"
   ]
  },
  {
   "cell_type": "markdown",
   "metadata": {},
   "source": [
    "### 이상치 제거"
   ]
  },
  {
   "cell_type": "markdown",
   "metadata": {},
   "source": [
    "##### ㆍ중복체크"
   ]
  },
  {
   "cell_type": "code",
   "execution_count": 449,
   "metadata": {},
   "outputs": [
    {
     "data": {
      "text/plain": [
       "6"
      ]
     },
     "execution_count": 449,
     "metadata": {},
     "output_type": "execute_result"
    }
   ],
   "source": [
    "# train 데이터 중복체크\n",
    "df_train.duplicated().sum()"
   ]
  },
  {
   "cell_type": "code",
   "execution_count": 450,
   "metadata": {},
   "outputs": [
    {
     "data": {
      "text/plain": [
       "0"
      ]
     },
     "execution_count": 450,
     "metadata": {},
     "output_type": "execute_result"
    }
   ],
   "source": [
    "df_train.drop_duplicates(inplace=True)\n",
    "df_train.duplicated().sum()"
   ]
  },
  {
   "cell_type": "code",
   "execution_count": 451,
   "metadata": {},
   "outputs": [
    {
     "name": "stdout",
     "output_type": "stream",
     "text": [
      "0\n",
      "0\n",
      "0\n",
      "0\n"
     ]
    }
   ],
   "source": [
    "print(df_item_categories.duplicated().sum())\n",
    "print(df_items.duplicated().sum())\n",
    "print(df_shops.duplicated().sum())\n",
    "print(df_test.duplicated().sum())"
   ]
  },
  {
   "cell_type": "markdown",
   "metadata": {},
   "source": [
    "df_train 데이터를 제외한 데이터 셋에선 중복값이 발견되지 않았음"
   ]
  },
  {
   "cell_type": "markdown",
   "metadata": {},
   "source": [
    "##### ㆍ결측치 확인\n"
   ]
  },
  {
   "cell_type": "code",
   "execution_count": 452,
   "metadata": {},
   "outputs": [
    {
     "name": "stdout",
     "output_type": "stream",
     "text": [
      "date              0\n",
      "date_block_num    0\n",
      "shop_id           0\n",
      "item_id           0\n",
      "item_price        0\n",
      "item_cnt_day      0\n",
      "dtype: int64\n",
      "Unnamed: 0            0\n",
      "item_category_name    0\n",
      "item_category_id      0\n",
      "dtype: int64\n",
      "item_name           0\n",
      "item_id             0\n",
      "item_category_id    0\n",
      "dtype: int64\n",
      "shop_name    0\n",
      "shop_id      0\n",
      "dtype: int64\n",
      "ID         0\n",
      "shop_id    0\n",
      "item_id    0\n",
      "dtype: int64\n"
     ]
    }
   ],
   "source": [
    "print(df_train.isnull().sum())\n",
    "print(df_item_categories.isnull().sum())\n",
    "print(df_items.isnull().sum())\n",
    "print(df_shops.isnull().sum())\n",
    "print(df_test.isnull().sum())"
   ]
  },
  {
   "cell_type": "code",
   "execution_count": 453,
   "metadata": {},
   "outputs": [
    {
     "data": {
      "text/plain": [
       "<AxesSubplot:title={'center':'shops'}>"
      ]
     },
     "execution_count": 453,
     "metadata": {},
     "output_type": "execute_result"
    },
    {
     "data": {
      "image/png": "[encoded data removed]",
      "text/plain": [
       "<Figure size 2880x720 with 5 Axes>"
      ]
     },
     "metadata": {
      "needs_background": "light"
     },
     "output_type": "display_data"
    }
   ],
   "source": [
    "figure, ((ax1,ax2,ax3,ax4,ax5)) = plt.subplots(nrows=1, ncols=5)\n",
    "figure.set_size_inches(40,10)\n",
    "\n",
    "df_train.isnull().sum().plot(title='df_train', ax=ax1)\n",
    "df_test.isnull().sum().plot(title='test',ax=ax2)\n",
    "df_items.isnull().sum().plot(title='items',ax=ax3)\n",
    "df_item_categories.isnull().sum().plot(title='item_categories',ax=ax4)\n",
    "df_shops.isnull().sum().plot(title='shops',ax=ax5)"
   ]
  },
  {
   "cell_type": "markdown",
   "metadata": {},
   "source": [
    "그래프로 확인했을 때도 결측값이 발견되지 않는다."
   ]
  },
  {
   "cell_type": "markdown",
   "metadata": {},
   "source": [
    "##### ㆍ특이값 제거\n"
   ]
  },
  {
   "cell_type": "markdown",
   "metadata": {},
   "source": [
    "train data set에서 기준 데이터 범위에 많이 벗어나거나 미달하는 특이값이 발견되었다. 때문에 train data set에서 이를 처리해준다."
   ]
  },
  {
   "cell_type": "code",
   "execution_count": 454,
   "metadata": {},
   "outputs": [
    {
     "data": {
      "text/plain": [
       "<AxesSubplot:xlabel='item_price'>"
      ]
     },
     "execution_count": 454,
     "metadata": {},
     "output_type": "execute_result"
    },
    {
     "data": {
      "image/png": "[encoded data removed]",
      "text/plain": [
       "<Figure size 720x216 with 1 Axes>"
      ]
     },
     "metadata": {
      "needs_background": "light"
     },
     "output_type": "display_data"
    },
    {
     "data": {
      "image/png": "[encoded data removed]",
      "text/plain": [
       "<Figure size 720x216 with 1 Axes>"
      ]
     },
     "metadata": {
      "needs_background": "light"
     },
     "output_type": "display_data"
    }
   ],
   "source": [
    "plt.figure(figsize=(10,3))\n",
    "sns.boxplot(x='item_cnt_day', data=df_train)\n",
    "\n",
    "plt.figure(figsize=(10,3))\n",
    "sns.boxplot(x='item_price', data=df_train)"
   ]
  },
  {
   "cell_type": "code",
   "execution_count": 455,
   "metadata": {},
   "outputs": [
    {
     "data": {
      "text/html": [
       "<div>\n",
       "<style scoped>\n",
       "    .dataframe tbody tr th:only-of-type {\n",
       "        vertical-align: middle;\n",
       "    }\n",
       "\n",
       "    .dataframe tbody tr th {\n",
       "        vertical-align: top;\n",
       "    }\n",
       "\n",
       "    .dataframe thead th {\n",
       "        text-align: right;\n",
       "    }\n",
       "</style>\n",
       "<table border=\"1\" class=\"dataframe\">\n",
       "  <thead>\n",
       "    <tr style=\"text-align: right;\">\n",
       "      <th></th>\n",
       "      <th>date</th>\n",
       "      <th>date_block_num</th>\n",
       "      <th>shop_id</th>\n",
       "      <th>item_id</th>\n",
       "      <th>item_price</th>\n",
       "      <th>item_cnt_day</th>\n",
       "    </tr>\n",
       "  </thead>\n",
       "  <tbody>\n",
       "    <tr>\n",
       "      <th>0</th>\n",
       "      <td>02.01.2013</td>\n",
       "      <td>0</td>\n",
       "      <td>59</td>\n",
       "      <td>22154</td>\n",
       "      <td>999.00</td>\n",
       "      <td>1.0</td>\n",
       "    </tr>\n",
       "    <tr>\n",
       "      <th>1</th>\n",
       "      <td>03.01.2013</td>\n",
       "      <td>0</td>\n",
       "      <td>25</td>\n",
       "      <td>2552</td>\n",
       "      <td>899.00</td>\n",
       "      <td>1.0</td>\n",
       "    </tr>\n",
       "    <tr>\n",
       "      <th>2</th>\n",
       "      <td>05.01.2013</td>\n",
       "      <td>0</td>\n",
       "      <td>25</td>\n",
       "      <td>2552</td>\n",
       "      <td>899.00</td>\n",
       "      <td>-1.0</td>\n",
       "    </tr>\n",
       "    <tr>\n",
       "      <th>3</th>\n",
       "      <td>06.01.2013</td>\n",
       "      <td>0</td>\n",
       "      <td>25</td>\n",
       "      <td>2554</td>\n",
       "      <td>1709.05</td>\n",
       "      <td>1.0</td>\n",
       "    </tr>\n",
       "    <tr>\n",
       "      <th>4</th>\n",
       "      <td>15.01.2013</td>\n",
       "      <td>0</td>\n",
       "      <td>25</td>\n",
       "      <td>2555</td>\n",
       "      <td>1099.00</td>\n",
       "      <td>1.0</td>\n",
       "    </tr>\n",
       "  </tbody>\n",
       "</table>\n",
       "</div>"
      ],
      "text/plain": [
       "         date  date_block_num  shop_id  item_id  item_price  item_cnt_day\n",
       "0  02.01.2013               0       59    22154      999.00           1.0\n",
       "1  03.01.2013               0       25     2552      899.00           1.0\n",
       "2  05.01.2013               0       25     2552      899.00          -1.0\n",
       "3  06.01.2013               0       25     2554     1709.05           1.0\n",
       "4  15.01.2013               0       25     2555     1099.00           1.0"
      ]
     },
     "execution_count": 455,
     "metadata": {},
     "output_type": "execute_result"
    }
   ],
   "source": [
    "df_train.head()"
   ]
  },
  {
   "cell_type": "code",
   "execution_count": 456,
   "metadata": {},
   "outputs": [],
   "source": [
    "df_train = df_train[df_train.item_cnt_day < 1000]\n",
    "df_train = df_train.query('item_price < 50000 & item_price > 0')"
   ]
  },
  {
   "cell_type": "markdown",
   "metadata": {},
   "source": [
    "- 'item_cnt_day' 값이 2000 이상인 값은 이상치로 판단함.\n",
    "- 'item_cnt_day' 컬럼에서 0 미만인 값은 '환불'이라고 생각하여 이상치로 판단하지 않음.\n",
    "- 'item_price' 값은 0 미만인 값, 50000 초과하는 값을 이상치로 설정함."
   ]
  },
  {
   "cell_type": "code",
   "execution_count": 457,
   "metadata": {},
   "outputs": [
    {
     "data": {
      "text/plain": [
       "<AxesSubplot:xlabel='item_price'>"
      ]
     },
     "execution_count": 457,
     "metadata": {},
     "output_type": "execute_result"
    },
    {
     "data": {
      "image/png": "[encoded data removed]",
      "text/plain": [
       "<Figure size 720x216 with 1 Axes>"
      ]
     },
     "metadata": {
      "needs_background": "light"
     },
     "output_type": "display_data"
    },
    {
     "data": {
      "image/png": "[encoded data removed]",
      "text/plain": [
       "<Figure size 720x216 with 1 Axes>"
      ]
     },
     "metadata": {
      "needs_background": "light"
     },
     "output_type": "display_data"
    }
   ],
   "source": [
    "plt.figure(figsize=(10,3))\n",
    "sns.boxplot(x='item_cnt_day', data=df_train)\n",
    "\n",
    "plt.figure(figsize=(10,3))\n",
    "sns.boxplot(x='item_price', data=df_train)"
   ]
  },
  {
   "cell_type": "markdown",
   "metadata": {},
   "source": [
    "##### ㆍData leakage 처리"
   ]
  },
  {
   "cell_type": "markdown",
   "metadata": {},
   "source": [
    "Data leakage가 존재하여 test set에 존재하는 shop_id , item_id 만 사용하기로 한다."
   ]
  },
  {
   "cell_type": "code",
   "execution_count": 458,
   "metadata": {},
   "outputs": [
    {
     "data": {
      "text/html": [
       "<div>\n",
       "<style scoped>\n",
       "    .dataframe tbody tr th:only-of-type {\n",
       "        vertical-align: middle;\n",
       "    }\n",
       "\n",
       "    .dataframe tbody tr th {\n",
       "        vertical-align: top;\n",
       "    }\n",
       "\n",
       "    .dataframe thead th {\n",
       "        text-align: right;\n",
       "    }\n",
       "</style>\n",
       "<table border=\"1\" class=\"dataframe\">\n",
       "  <thead>\n",
       "    <tr style=\"text-align: right;\">\n",
       "      <th></th>\n",
       "      <th>ID</th>\n",
       "      <th>shop_id</th>\n",
       "      <th>item_id</th>\n",
       "    </tr>\n",
       "  </thead>\n",
       "  <tbody>\n",
       "    <tr>\n",
       "      <th>0</th>\n",
       "      <td>0</td>\n",
       "      <td>5</td>\n",
       "      <td>5037</td>\n",
       "    </tr>\n",
       "    <tr>\n",
       "      <th>1</th>\n",
       "      <td>1</td>\n",
       "      <td>5</td>\n",
       "      <td>5320</td>\n",
       "    </tr>\n",
       "    <tr>\n",
       "      <th>2</th>\n",
       "      <td>2</td>\n",
       "      <td>5</td>\n",
       "      <td>5233</td>\n",
       "    </tr>\n",
       "    <tr>\n",
       "      <th>3</th>\n",
       "      <td>3</td>\n",
       "      <td>5</td>\n",
       "      <td>5232</td>\n",
       "    </tr>\n",
       "    <tr>\n",
       "      <th>4</th>\n",
       "      <td>4</td>\n",
       "      <td>5</td>\n",
       "      <td>5268</td>\n",
       "    </tr>\n",
       "  </tbody>\n",
       "</table>\n",
       "</div>"
      ],
      "text/plain": [
       "   ID  shop_id  item_id\n",
       "0   0        5     5037\n",
       "1   1        5     5320\n",
       "2   2        5     5233\n",
       "3   3        5     5232\n",
       "4   4        5     5268"
      ]
     },
     "execution_count": 458,
     "metadata": {},
     "output_type": "execute_result"
    }
   ],
   "source": [
    "df_test.head()"
   ]
  },
  {
   "cell_type": "code",
   "execution_count": 417,
   "metadata": {},
   "outputs": [],
   "source": [
    "# test set에 있는 shop, item만 사용\n",
    "test_shop_ids = df_test['shop_id'].unique()\n",
    "test_item_ids = df_test['item_id'].unique()"
   ]
  },
  {
   "cell_type": "code",
   "execution_count": 418,
   "metadata": {},
   "outputs": [
    {
     "name": "stdout",
     "output_type": "stream",
     "text": [
      "[ 5  4  6  3  2  7 10 12 28 31 26 25 22 24 21 15 16 18 14 19 42 50 49 53\n",
      " 52 47 48 57 58 59 55 56 36 37 35 38 34 46 41 44 39 45] [ 5037  5320  5233 ... 15757 19648   969]\n"
     ]
    }
   ],
   "source": [
    "print(test_shop_ids, test_item_ids)"
   ]
  },
  {
   "cell_type": "code",
   "execution_count": 419,
   "metadata": {},
   "outputs": [],
   "source": [
    "# test set의 shop_id와 일치하는 데이터만 사용\n",
    "lk_train = df_train[df_train['shop_id'].isin(test_shop_ids)]\n",
    "# test set의 item_id와 일치하는 데이터만 사용\n",
    "lk_train = lk_train[lk_train['item_id'].isin(test_item_ids)]"
   ]
  },
  {
   "cell_type": "code",
   "execution_count": 420,
   "metadata": {},
   "outputs": [
    {
     "name": "stdout",
     "output_type": "stream",
     "text": [
      "Data leaking 전의 Data set size:  2935837\n",
      "Data leaking 후의 Data set size:  1224431\n"
     ]
    }
   ],
   "source": [
    "print('Data leaking 전의 Data set size: ', df_train.shape[0])\n",
    "print('Data leaking 후의 Data set size: ', lk_train.shape[0])"
   ]
  },
  {
   "cell_type": "code",
   "execution_count": 433,
   "metadata": {},
   "outputs": [],
   "source": [
    "df_train = lk_train"
   ]
  },
  {
   "cell_type": "markdown",
   "metadata": {},
   "source": [
    "### 데이터 그룹화"
   ]
  },
  {
   "cell_type": "markdown",
   "metadata": {},
   "source": [
    "월별(date_block_num), 가게별(shop_id), 물품별(item_id)을 기준으로 판매량(item_cnt_day)을 더한 데이터 프레임 group1을 생성한다."
   ]
  },
  {
   "cell_type": "code",
   "execution_count": 574,
   "metadata": {},
   "outputs": [
    {
     "name": "stdout",
     "output_type": "stream",
     "text": [
      "<class 'pandas.core.frame.DataFrame'>\n",
      "RangeIndex: 2935849 entries, 0 to 2935848\n",
      "Data columns (total 6 columns):\n",
      " #   Column          Dtype  \n",
      "---  ------          -----  \n",
      " 0   date            object \n",
      " 1   date_block_num  int64  \n",
      " 2   shop_id         int64  \n",
      " 3   item_id         int64  \n",
      " 4   item_price      float64\n",
      " 5   item_cnt_day    float64\n",
      "dtypes: float64(2), int64(3), object(1)\n",
      "memory usage: 134.4+ MB\n"
     ]
    }
   ],
   "source": [
    "df_train.info()"
   ]
  },
  {
   "cell_type": "code",
   "execution_count": 575,
   "metadata": {},
   "outputs": [
    {
     "data": {
      "text/html": [
       "<div>\n",
       "<style scoped>\n",
       "    .dataframe tbody tr th:only-of-type {\n",
       "        vertical-align: middle;\n",
       "    }\n",
       "\n",
       "    .dataframe tbody tr th {\n",
       "        vertical-align: top;\n",
       "    }\n",
       "\n",
       "    .dataframe thead tr th {\n",
       "        text-align: left;\n",
       "    }\n",
       "\n",
       "    .dataframe thead tr:last-of-type th {\n",
       "        text-align: right;\n",
       "    }\n",
       "</style>\n",
       "<table border=\"1\" class=\"dataframe\">\n",
       "  <thead>\n",
       "    <tr>\n",
       "      <th></th>\n",
       "      <th></th>\n",
       "      <th></th>\n",
       "      <th>item_cnt_day</th>\n",
       "    </tr>\n",
       "    <tr>\n",
       "      <th></th>\n",
       "      <th></th>\n",
       "      <th></th>\n",
       "      <th>sum</th>\n",
       "    </tr>\n",
       "    <tr>\n",
       "      <th>date_block_num</th>\n",
       "      <th>shop_id</th>\n",
       "      <th>item_id</th>\n",
       "      <th></th>\n",
       "    </tr>\n",
       "  </thead>\n",
       "  <tbody>\n",
       "    <tr>\n",
       "      <th rowspan=\"5\" valign=\"top\">0</th>\n",
       "      <th rowspan=\"5\" valign=\"top\">0</th>\n",
       "      <th>32</th>\n",
       "      <td>6.0</td>\n",
       "    </tr>\n",
       "    <tr>\n",
       "      <th>33</th>\n",
       "      <td>3.0</td>\n",
       "    </tr>\n",
       "    <tr>\n",
       "      <th>35</th>\n",
       "      <td>1.0</td>\n",
       "    </tr>\n",
       "    <tr>\n",
       "      <th>43</th>\n",
       "      <td>1.0</td>\n",
       "    </tr>\n",
       "    <tr>\n",
       "      <th>51</th>\n",
       "      <td>2.0</td>\n",
       "    </tr>\n",
       "  </tbody>\n",
       "</table>\n",
       "</div>"
      ],
      "text/plain": [
       "                               item_cnt_day\n",
       "                                        sum\n",
       "date_block_num shop_id item_id             \n",
       "0              0       32               6.0\n",
       "                       33               3.0\n",
       "                       35               1.0\n",
       "                       43               1.0\n",
       "                       51               2.0"
      ]
     },
     "execution_count": 575,
     "metadata": {},
     "output_type": "execute_result"
    }
   ],
   "source": [
    "group1 = df_train.groupby(['date_block_num', 'shop_id', 'item_id']).agg({'item_cnt_day': ['sum']})\n",
    "group1.head()"
   ]
  },
  {
   "cell_type": "code",
   "execution_count": 576,
   "metadata": {},
   "outputs": [],
   "source": [
    "group1.columns = ['item_cnt_month']\n",
    "group1 = group1.reset_index()"
   ]
  },
  {
   "cell_type": "code",
   "execution_count": 577,
   "metadata": {},
   "outputs": [
    {
     "data": {
      "text/html": [
       "<div>\n",
       "<style scoped>\n",
       "    .dataframe tbody tr th:only-of-type {\n",
       "        vertical-align: middle;\n",
       "    }\n",
       "\n",
       "    .dataframe tbody tr th {\n",
       "        vertical-align: top;\n",
       "    }\n",
       "\n",
       "    .dataframe thead th {\n",
       "        text-align: right;\n",
       "    }\n",
       "</style>\n",
       "<table border=\"1\" class=\"dataframe\">\n",
       "  <thead>\n",
       "    <tr style=\"text-align: right;\">\n",
       "      <th></th>\n",
       "      <th>date_block_num</th>\n",
       "      <th>shop_id</th>\n",
       "      <th>item_id</th>\n",
       "      <th>item_cnt_month</th>\n",
       "    </tr>\n",
       "  </thead>\n",
       "  <tbody>\n",
       "    <tr>\n",
       "      <th>0</th>\n",
       "      <td>0</td>\n",
       "      <td>0</td>\n",
       "      <td>32</td>\n",
       "      <td>6.0</td>\n",
       "    </tr>\n",
       "    <tr>\n",
       "      <th>1</th>\n",
       "      <td>0</td>\n",
       "      <td>0</td>\n",
       "      <td>33</td>\n",
       "      <td>3.0</td>\n",
       "    </tr>\n",
       "    <tr>\n",
       "      <th>2</th>\n",
       "      <td>0</td>\n",
       "      <td>0</td>\n",
       "      <td>35</td>\n",
       "      <td>1.0</td>\n",
       "    </tr>\n",
       "    <tr>\n",
       "      <th>3</th>\n",
       "      <td>0</td>\n",
       "      <td>0</td>\n",
       "      <td>43</td>\n",
       "      <td>1.0</td>\n",
       "    </tr>\n",
       "    <tr>\n",
       "      <th>4</th>\n",
       "      <td>0</td>\n",
       "      <td>0</td>\n",
       "      <td>51</td>\n",
       "      <td>2.0</td>\n",
       "    </tr>\n",
       "  </tbody>\n",
       "</table>\n",
       "</div>"
      ],
      "text/plain": [
       "   date_block_num  shop_id  item_id  item_cnt_month\n",
       "0               0        0       32             6.0\n",
       "1               0        0       33             3.0\n",
       "2               0        0       35             1.0\n",
       "3               0        0       43             1.0\n",
       "4               0        0       51             2.0"
      ]
     },
     "execution_count": 577,
     "metadata": {},
     "output_type": "execute_result"
    }
   ],
   "source": [
    "group1.head()"
   ]
  },
  {
   "cell_type": "code",
   "execution_count": 578,
   "metadata": {},
   "outputs": [
    {
     "name": "stdout",
     "output_type": "stream",
     "text": [
      "<class 'pandas.core.frame.DataFrame'>\n",
      "RangeIndex: 1609124 entries, 0 to 1609123\n",
      "Data columns (total 4 columns):\n",
      " #   Column          Non-Null Count    Dtype  \n",
      "---  ------          --------------    -----  \n",
      " 0   date_block_num  1609124 non-null  int64  \n",
      " 1   shop_id         1609124 non-null  int64  \n",
      " 2   item_id         1609124 non-null  int64  \n",
      " 3   item_cnt_month  1609124 non-null  float64\n",
      "dtypes: float64(1), int64(3)\n",
      "memory usage: 49.1 MB\n"
     ]
    }
   ],
   "source": [
    "group1.info()"
   ]
  },
  {
   "cell_type": "markdown",
   "metadata": {},
   "source": [
    "월별(date_block_num), 가게별(shop_id), 물품별(item_id)을 기준으로 물품 가격(item_price)의 평균을 구하는 데이터 프레임 group2을 생성한다."
   ]
  },
  {
   "cell_type": "code",
   "execution_count": 579,
   "metadata": {},
   "outputs": [
    {
     "data": {
      "text/html": [
       "<div>\n",
       "<style scoped>\n",
       "    .dataframe tbody tr th:only-of-type {\n",
       "        vertical-align: middle;\n",
       "    }\n",
       "\n",
       "    .dataframe tbody tr th {\n",
       "        vertical-align: top;\n",
       "    }\n",
       "\n",
       "    .dataframe thead tr th {\n",
       "        text-align: left;\n",
       "    }\n",
       "\n",
       "    .dataframe thead tr:last-of-type th {\n",
       "        text-align: right;\n",
       "    }\n",
       "</style>\n",
       "<table border=\"1\" class=\"dataframe\">\n",
       "  <thead>\n",
       "    <tr>\n",
       "      <th></th>\n",
       "      <th></th>\n",
       "      <th></th>\n",
       "      <th>item_price</th>\n",
       "    </tr>\n",
       "    <tr>\n",
       "      <th></th>\n",
       "      <th></th>\n",
       "      <th></th>\n",
       "      <th>mean</th>\n",
       "    </tr>\n",
       "    <tr>\n",
       "      <th>date_block_num</th>\n",
       "      <th>shop_id</th>\n",
       "      <th>item_id</th>\n",
       "      <th></th>\n",
       "    </tr>\n",
       "  </thead>\n",
       "  <tbody>\n",
       "    <tr>\n",
       "      <th rowspan=\"5\" valign=\"top\">0</th>\n",
       "      <th rowspan=\"5\" valign=\"top\">0</th>\n",
       "      <th>32</th>\n",
       "      <td>221.0</td>\n",
       "    </tr>\n",
       "    <tr>\n",
       "      <th>33</th>\n",
       "      <td>347.0</td>\n",
       "    </tr>\n",
       "    <tr>\n",
       "      <th>35</th>\n",
       "      <td>247.0</td>\n",
       "    </tr>\n",
       "    <tr>\n",
       "      <th>43</th>\n",
       "      <td>221.0</td>\n",
       "    </tr>\n",
       "    <tr>\n",
       "      <th>51</th>\n",
       "      <td>128.5</td>\n",
       "    </tr>\n",
       "  </tbody>\n",
       "</table>\n",
       "</div>"
      ],
      "text/plain": [
       "                               item_price\n",
       "                                     mean\n",
       "date_block_num shop_id item_id           \n",
       "0              0       32           221.0\n",
       "                       33           347.0\n",
       "                       35           247.0\n",
       "                       43           221.0\n",
       "                       51           128.5"
      ]
     },
     "execution_count": 579,
     "metadata": {},
     "output_type": "execute_result"
    }
   ],
   "source": [
    "group2 = df_train.groupby(['date_block_num', 'shop_id', 'item_id']).agg({'item_price': ['mean']})\n",
    "group2.head()"
   ]
  },
  {
   "cell_type": "code",
   "execution_count": 580,
   "metadata": {},
   "outputs": [],
   "source": [
    "group2.columns = ['item_price']\n",
    "group2 = group2.reset_index()"
   ]
  },
  {
   "cell_type": "code",
   "execution_count": 581,
   "metadata": {},
   "outputs": [
    {
     "data": {
      "text/html": [
       "<div>\n",
       "<style scoped>\n",
       "    .dataframe tbody tr th:only-of-type {\n",
       "        vertical-align: middle;\n",
       "    }\n",
       "\n",
       "    .dataframe tbody tr th {\n",
       "        vertical-align: top;\n",
       "    }\n",
       "\n",
       "    .dataframe thead th {\n",
       "        text-align: right;\n",
       "    }\n",
       "</style>\n",
       "<table border=\"1\" class=\"dataframe\">\n",
       "  <thead>\n",
       "    <tr style=\"text-align: right;\">\n",
       "      <th></th>\n",
       "      <th>date_block_num</th>\n",
       "      <th>shop_id</th>\n",
       "      <th>item_id</th>\n",
       "      <th>item_price</th>\n",
       "    </tr>\n",
       "  </thead>\n",
       "  <tbody>\n",
       "    <tr>\n",
       "      <th>0</th>\n",
       "      <td>0</td>\n",
       "      <td>0</td>\n",
       "      <td>32</td>\n",
       "      <td>221.0</td>\n",
       "    </tr>\n",
       "    <tr>\n",
       "      <th>1</th>\n",
       "      <td>0</td>\n",
       "      <td>0</td>\n",
       "      <td>33</td>\n",
       "      <td>347.0</td>\n",
       "    </tr>\n",
       "    <tr>\n",
       "      <th>2</th>\n",
       "      <td>0</td>\n",
       "      <td>0</td>\n",
       "      <td>35</td>\n",
       "      <td>247.0</td>\n",
       "    </tr>\n",
       "    <tr>\n",
       "      <th>3</th>\n",
       "      <td>0</td>\n",
       "      <td>0</td>\n",
       "      <td>43</td>\n",
       "      <td>221.0</td>\n",
       "    </tr>\n",
       "    <tr>\n",
       "      <th>4</th>\n",
       "      <td>0</td>\n",
       "      <td>0</td>\n",
       "      <td>51</td>\n",
       "      <td>128.5</td>\n",
       "    </tr>\n",
       "  </tbody>\n",
       "</table>\n",
       "</div>"
      ],
      "text/plain": [
       "   date_block_num  shop_id  item_id  item_price\n",
       "0               0        0       32       221.0\n",
       "1               0        0       33       347.0\n",
       "2               0        0       35       247.0\n",
       "3               0        0       43       221.0\n",
       "4               0        0       51       128.5"
      ]
     },
     "execution_count": 581,
     "metadata": {},
     "output_type": "execute_result"
    }
   ],
   "source": [
    "group2.head()"
   ]
  },
  {
   "cell_type": "code",
   "execution_count": 582,
   "metadata": {},
   "outputs": [
    {
     "name": "stdout",
     "output_type": "stream",
     "text": [
      "<class 'pandas.core.frame.DataFrame'>\n",
      "RangeIndex: 1609124 entries, 0 to 1609123\n",
      "Data columns (total 4 columns):\n",
      " #   Column          Non-Null Count    Dtype  \n",
      "---  ------          --------------    -----  \n",
      " 0   date_block_num  1609124 non-null  int64  \n",
      " 1   shop_id         1609124 non-null  int64  \n",
      " 2   item_id         1609124 non-null  int64  \n",
      " 3   item_price      1609124 non-null  float64\n",
      "dtypes: float64(1), int64(3)\n",
      "memory usage: 49.1 MB\n"
     ]
    }
   ],
   "source": [
    "group2.info()"
   ]
  },
  {
   "cell_type": "markdown",
   "metadata": {},
   "source": [
    "생성해 준 [group1, gropu2]를 'date_block_num','shop_id','item_id' 기준으로 merge한다."
   ]
  },
  {
   "cell_type": "code",
   "execution_count": 583,
   "metadata": {},
   "outputs": [],
   "source": [
    "matrix = pd.merge(group1, group2 ,how='left', on=['date_block_num','shop_id','item_id']).reset_index()"
   ]
  },
  {
   "cell_type": "code",
   "execution_count": 584,
   "metadata": {},
   "outputs": [
    {
     "data": {
      "text/html": [
       "<div>\n",
       "<style scoped>\n",
       "    .dataframe tbody tr th:only-of-type {\n",
       "        vertical-align: middle;\n",
       "    }\n",
       "\n",
       "    .dataframe tbody tr th {\n",
       "        vertical-align: top;\n",
       "    }\n",
       "\n",
       "    .dataframe thead th {\n",
       "        text-align: right;\n",
       "    }\n",
       "</style>\n",
       "<table border=\"1\" class=\"dataframe\">\n",
       "  <thead>\n",
       "    <tr style=\"text-align: right;\">\n",
       "      <th></th>\n",
       "      <th>index</th>\n",
       "      <th>date_block_num</th>\n",
       "      <th>shop_id</th>\n",
       "      <th>item_id</th>\n",
       "      <th>item_cnt_month</th>\n",
       "      <th>item_price</th>\n",
       "    </tr>\n",
       "  </thead>\n",
       "  <tbody>\n",
       "    <tr>\n",
       "      <th>0</th>\n",
       "      <td>0</td>\n",
       "      <td>0</td>\n",
       "      <td>0</td>\n",
       "      <td>32</td>\n",
       "      <td>6.0</td>\n",
       "      <td>221.0</td>\n",
       "    </tr>\n",
       "    <tr>\n",
       "      <th>1</th>\n",
       "      <td>1</td>\n",
       "      <td>0</td>\n",
       "      <td>0</td>\n",
       "      <td>33</td>\n",
       "      <td>3.0</td>\n",
       "      <td>347.0</td>\n",
       "    </tr>\n",
       "    <tr>\n",
       "      <th>2</th>\n",
       "      <td>2</td>\n",
       "      <td>0</td>\n",
       "      <td>0</td>\n",
       "      <td>35</td>\n",
       "      <td>1.0</td>\n",
       "      <td>247.0</td>\n",
       "    </tr>\n",
       "    <tr>\n",
       "      <th>3</th>\n",
       "      <td>3</td>\n",
       "      <td>0</td>\n",
       "      <td>0</td>\n",
       "      <td>43</td>\n",
       "      <td>1.0</td>\n",
       "      <td>221.0</td>\n",
       "    </tr>\n",
       "    <tr>\n",
       "      <th>4</th>\n",
       "      <td>4</td>\n",
       "      <td>0</td>\n",
       "      <td>0</td>\n",
       "      <td>51</td>\n",
       "      <td>2.0</td>\n",
       "      <td>128.5</td>\n",
       "    </tr>\n",
       "    <tr>\n",
       "      <th>...</th>\n",
       "      <td>...</td>\n",
       "      <td>...</td>\n",
       "      <td>...</td>\n",
       "      <td>...</td>\n",
       "      <td>...</td>\n",
       "      <td>...</td>\n",
       "    </tr>\n",
       "    <tr>\n",
       "      <th>1609119</th>\n",
       "      <td>1609119</td>\n",
       "      <td>33</td>\n",
       "      <td>59</td>\n",
       "      <td>22087</td>\n",
       "      <td>6.0</td>\n",
       "      <td>119.0</td>\n",
       "    </tr>\n",
       "    <tr>\n",
       "      <th>1609120</th>\n",
       "      <td>1609120</td>\n",
       "      <td>33</td>\n",
       "      <td>59</td>\n",
       "      <td>22088</td>\n",
       "      <td>2.0</td>\n",
       "      <td>119.0</td>\n",
       "    </tr>\n",
       "    <tr>\n",
       "      <th>1609121</th>\n",
       "      <td>1609121</td>\n",
       "      <td>33</td>\n",
       "      <td>59</td>\n",
       "      <td>22091</td>\n",
       "      <td>1.0</td>\n",
       "      <td>179.0</td>\n",
       "    </tr>\n",
       "    <tr>\n",
       "      <th>1609122</th>\n",
       "      <td>1609122</td>\n",
       "      <td>33</td>\n",
       "      <td>59</td>\n",
       "      <td>22100</td>\n",
       "      <td>1.0</td>\n",
       "      <td>629.0</td>\n",
       "    </tr>\n",
       "    <tr>\n",
       "      <th>1609123</th>\n",
       "      <td>1609123</td>\n",
       "      <td>33</td>\n",
       "      <td>59</td>\n",
       "      <td>22102</td>\n",
       "      <td>1.0</td>\n",
       "      <td>1250.0</td>\n",
       "    </tr>\n",
       "  </tbody>\n",
       "</table>\n",
       "<p>1609124 rows × 6 columns</p>\n",
       "</div>"
      ],
      "text/plain": [
       "           index  date_block_num  shop_id  item_id  item_cnt_month  item_price\n",
       "0              0               0        0       32             6.0       221.0\n",
       "1              1               0        0       33             3.0       347.0\n",
       "2              2               0        0       35             1.0       247.0\n",
       "3              3               0        0       43             1.0       221.0\n",
       "4              4               0        0       51             2.0       128.5\n",
       "...          ...             ...      ...      ...             ...         ...\n",
       "1609119  1609119              33       59    22087             6.0       119.0\n",
       "1609120  1609120              33       59    22088             2.0       119.0\n",
       "1609121  1609121              33       59    22091             1.0       179.0\n",
       "1609122  1609122              33       59    22100             1.0       629.0\n",
       "1609123  1609123              33       59    22102             1.0      1250.0\n",
       "\n",
       "[1609124 rows x 6 columns]"
      ]
     },
     "execution_count": 584,
     "metadata": {},
     "output_type": "execute_result"
    }
   ],
   "source": [
    "matrix"
   ]
  },
  {
   "cell_type": "code",
   "execution_count": 585,
   "metadata": {},
   "outputs": [],
   "source": [
    "matrix.drop(['index'],axis=1,inplace=True)"
   ]
  },
  {
   "cell_type": "code",
   "execution_count": 586,
   "metadata": {},
   "outputs": [
    {
     "data": {
      "text/html": [
       "<div>\n",
       "<style scoped>\n",
       "    .dataframe tbody tr th:only-of-type {\n",
       "        vertical-align: middle;\n",
       "    }\n",
       "\n",
       "    .dataframe tbody tr th {\n",
       "        vertical-align: top;\n",
       "    }\n",
       "\n",
       "    .dataframe thead th {\n",
       "        text-align: right;\n",
       "    }\n",
       "</style>\n",
       "<table border=\"1\" class=\"dataframe\">\n",
       "  <thead>\n",
       "    <tr style=\"text-align: right;\">\n",
       "      <th></th>\n",
       "      <th>date_block_num</th>\n",
       "      <th>shop_id</th>\n",
       "      <th>item_id</th>\n",
       "      <th>item_cnt_month</th>\n",
       "      <th>item_price</th>\n",
       "    </tr>\n",
       "  </thead>\n",
       "  <tbody>\n",
       "    <tr>\n",
       "      <th>0</th>\n",
       "      <td>0</td>\n",
       "      <td>0</td>\n",
       "      <td>32</td>\n",
       "      <td>6.0</td>\n",
       "      <td>221.0</td>\n",
       "    </tr>\n",
       "    <tr>\n",
       "      <th>1</th>\n",
       "      <td>0</td>\n",
       "      <td>0</td>\n",
       "      <td>33</td>\n",
       "      <td>3.0</td>\n",
       "      <td>347.0</td>\n",
       "    </tr>\n",
       "    <tr>\n",
       "      <th>2</th>\n",
       "      <td>0</td>\n",
       "      <td>0</td>\n",
       "      <td>35</td>\n",
       "      <td>1.0</td>\n",
       "      <td>247.0</td>\n",
       "    </tr>\n",
       "    <tr>\n",
       "      <th>3</th>\n",
       "      <td>0</td>\n",
       "      <td>0</td>\n",
       "      <td>43</td>\n",
       "      <td>1.0</td>\n",
       "      <td>221.0</td>\n",
       "    </tr>\n",
       "    <tr>\n",
       "      <th>4</th>\n",
       "      <td>0</td>\n",
       "      <td>0</td>\n",
       "      <td>51</td>\n",
       "      <td>2.0</td>\n",
       "      <td>128.5</td>\n",
       "    </tr>\n",
       "  </tbody>\n",
       "</table>\n",
       "</div>"
      ],
      "text/plain": [
       "   date_block_num  shop_id  item_id  item_cnt_month  item_price\n",
       "0               0        0       32             6.0       221.0\n",
       "1               0        0       33             3.0       347.0\n",
       "2               0        0       35             1.0       247.0\n",
       "3               0        0       43             1.0       221.0\n",
       "4               0        0       51             2.0       128.5"
      ]
     },
     "execution_count": 586,
     "metadata": {},
     "output_type": "execute_result"
    }
   ],
   "source": [
    "matrix.head()"
   ]
  },
  {
   "cell_type": "code",
   "execution_count": 587,
   "metadata": {},
   "outputs": [
    {
     "name": "stdout",
     "output_type": "stream",
     "text": [
      "<class 'pandas.core.frame.DataFrame'>\n",
      "RangeIndex: 1609124 entries, 0 to 1609123\n",
      "Data columns (total 5 columns):\n",
      " #   Column          Non-Null Count    Dtype  \n",
      "---  ------          --------------    -----  \n",
      " 0   date_block_num  1609124 non-null  int64  \n",
      " 1   shop_id         1609124 non-null  int64  \n",
      " 2   item_id         1609124 non-null  int64  \n",
      " 3   item_cnt_month  1609124 non-null  float64\n",
      " 4   item_price      1609124 non-null  float64\n",
      "dtypes: float64(2), int64(3)\n",
      "memory usage: 61.4 MB\n"
     ]
    }
   ],
   "source": [
    "matrix.info()"
   ]
  },
  {
   "cell_type": "code",
   "execution_count": 318,
   "metadata": {},
   "outputs": [
    {
     "data": {
      "text/plain": [
       "date_block_num    0\n",
       "shop_id           0\n",
       "item_id           0\n",
       "item_cnt_month    0\n",
       "item_price        0\n",
       "dtype: int64"
      ]
     },
     "execution_count": 318,
     "metadata": {},
     "output_type": "execute_result"
    }
   ],
   "source": [
    "# matrix 데이터 null값 확인\n",
    "matrix.isnull().sum()"
   ]
  },
  {
   "cell_type": "markdown",
   "metadata": {},
   "source": [
    "### 필요한 column 추가"
   ]
  },
  {
   "cell_type": "markdown",
   "metadata": {},
   "source": [
    "#### 1. 도시 분류 추가, 매장 형태별 분류 추가"
   ]
  },
  {
   "cell_type": "markdown",
   "metadata": {},
   "source": [
    "df_shop data set의 데이터를 [수도, 비수도, 기타]로 원핫 인코딩을 사용하여 병합한다."
   ]
  },
  {
   "cell_type": "code",
   "execution_count": 589,
   "metadata": {},
   "outputs": [
    {
     "data": {
      "text/plain": [
       "['비수도',\n",
       " '비수도',\n",
       " '비수도',\n",
       " '비수도',\n",
       " '비수도',\n",
       " '비수도',\n",
       " '비수도',\n",
       " '비수도',\n",
       " '비수도',\n",
       " '비수도',\n",
       " '비수도',\n",
       " '비수도',\n",
       " '온라인',\n",
       " '비수도',\n",
       " '비수도',\n",
       " '비수도',\n",
       " '비수도',\n",
       " '비수도',\n",
       " '비수도',\n",
       " '비수도',\n",
       " '모스크바',\n",
       " '모스크바',\n",
       " '모스크바',\n",
       " '모스크바',\n",
       " '모스크바',\n",
       " '모스크바',\n",
       " '모스크바',\n",
       " '모스크바',\n",
       " '모스크바',\n",
       " '모스크바',\n",
       " '모스크바',\n",
       " '모스크바',\n",
       " '모스크바',\n",
       " '비수도',\n",
       " '비수도',\n",
       " '비수도',\n",
       " '비수도',\n",
       " '비수도',\n",
       " '비수도',\n",
       " '비수도',\n",
       " '비수도',\n",
       " '비수도',\n",
       " '비수도',\n",
       " '비수도',\n",
       " '비수도',\n",
       " '비수도',\n",
       " '비수도',\n",
       " '비수도',\n",
       " '비수도',\n",
       " '비수도',\n",
       " '비수도',\n",
       " '비수도',\n",
       " '비수도',\n",
       " '비수도',\n",
       " '비수도',\n",
       " '모스크바',\n",
       " '모스크바',\n",
       " '비수도',\n",
       " '비수도',\n",
       " '비수도']"
      ]
     },
     "execution_count": 589,
     "metadata": {},
     "output_type": "execute_result"
    }
   ],
   "source": [
    "shp_city = ['야쿠츠크', '야쿠츠크', '아디게야', '발라시하', '볼츠스키',\n",
    "           '볼로그다', '보로네슈', '보로네슈','보로네슈', '브로네슈',\n",
    "           '쥬코브스키', '쥬코브스키', '온라인', '카잔', '카잔',\n",
    "           '칼루가', '콜롬나', '크라스노야르스크', '크라스노야르스크', '쿠르스크',\n",
    "           '모스크바', '모스크바', '모스크바', '모스크바', '모스크바',\n",
    "           '모스크바', '모스크바', '모스크바', '모스크바', '모스크바',\n",
    "           '모스크바', '모스크바', '모스크바', '미티시치', '니즈니노브고로드',\n",
    "           '니즈니노브고로드', '노보시비르스크','노보시비르스크', '옴스크', '로스토프온돈',\n",
    "           '로스토프온돈', '로스토프온돈', '상트페테르부르크', '상트페테르부르크', '사마라',\n",
    "           '사마라', '세르기예프 포사트', '수르구트', '톰스크', '투먼',\n",
    "           '투먼', '투먼', '우파', '우파', '힘키',\n",
    "           '모스크바','모스크바', '아쿠츠크', '아쿠츠크', '야로슬라블']\n",
    "\n",
    "for i in range(len(shp_city)):\n",
    "    if shp_city[i] == '모스크바':\n",
    "        pass\n",
    "    elif shp_city[i] == '온라인':\n",
    "        pass\n",
    "    else:\n",
    "        shp_city[i] = '비수도'\n",
    "shp_city"
   ]
  },
  {
   "cell_type": "code",
   "execution_count": 590,
   "metadata": {},
   "outputs": [],
   "source": [
    "df_shops = pd.concat([df_shops, pd.get_dummies(shp_city)], axis=1)\n",
    "df_shops.columns = ['shop_name', 'shop_id', 'capital', 'non_capital', 'city_etc']"
   ]
  },
  {
   "cell_type": "code",
   "execution_count": 591,
   "metadata": {},
   "outputs": [
    {
     "data": {
      "text/html": [
       "<div>\n",
       "<style scoped>\n",
       "    .dataframe tbody tr th:only-of-type {\n",
       "        vertical-align: middle;\n",
       "    }\n",
       "\n",
       "    .dataframe tbody tr th {\n",
       "        vertical-align: top;\n",
       "    }\n",
       "\n",
       "    .dataframe thead th {\n",
       "        text-align: right;\n",
       "    }\n",
       "</style>\n",
       "<table border=\"1\" class=\"dataframe\">\n",
       "  <thead>\n",
       "    <tr style=\"text-align: right;\">\n",
       "      <th></th>\n",
       "      <th>shop_name</th>\n",
       "      <th>shop_id</th>\n",
       "      <th>capital</th>\n",
       "      <th>non_capital</th>\n",
       "      <th>city_etc</th>\n",
       "    </tr>\n",
       "  </thead>\n",
       "  <tbody>\n",
       "    <tr>\n",
       "      <th>0</th>\n",
       "      <td>!Якутск Орджоникидзе, 56 фран</td>\n",
       "      <td>0</td>\n",
       "      <td>0</td>\n",
       "      <td>1</td>\n",
       "      <td>0</td>\n",
       "    </tr>\n",
       "    <tr>\n",
       "      <th>1</th>\n",
       "      <td>!Якутск ТЦ \"Центральный\" фран</td>\n",
       "      <td>1</td>\n",
       "      <td>0</td>\n",
       "      <td>1</td>\n",
       "      <td>0</td>\n",
       "    </tr>\n",
       "    <tr>\n",
       "      <th>2</th>\n",
       "      <td>Адыгея ТЦ \"Мега\"</td>\n",
       "      <td>2</td>\n",
       "      <td>0</td>\n",
       "      <td>1</td>\n",
       "      <td>0</td>\n",
       "    </tr>\n",
       "    <tr>\n",
       "      <th>3</th>\n",
       "      <td>Балашиха ТРК \"Октябрь-Киномир\"</td>\n",
       "      <td>3</td>\n",
       "      <td>0</td>\n",
       "      <td>1</td>\n",
       "      <td>0</td>\n",
       "    </tr>\n",
       "    <tr>\n",
       "      <th>4</th>\n",
       "      <td>Волжский ТЦ \"Волга Молл\"</td>\n",
       "      <td>4</td>\n",
       "      <td>0</td>\n",
       "      <td>1</td>\n",
       "      <td>0</td>\n",
       "    </tr>\n",
       "  </tbody>\n",
       "</table>\n",
       "</div>"
      ],
      "text/plain": [
       "                        shop_name  shop_id  capital  non_capital  city_etc\n",
       "0   !Якутск Орджоникидзе, 56 фран        0        0            1         0\n",
       "1   !Якутск ТЦ \"Центральный\" фран        1        0            1         0\n",
       "2                Адыгея ТЦ \"Мега\"        2        0            1         0\n",
       "3  Балашиха ТРК \"Октябрь-Киномир\"        3        0            1         0\n",
       "4        Волжский ТЦ \"Волга Молл\"        4        0            1         0"
      ]
     },
     "execution_count": 591,
     "metadata": {},
     "output_type": "execute_result"
    }
   ],
   "source": [
    "df_shops.head()"
   ]
  },
  {
   "cell_type": "markdown",
   "metadata": {},
   "source": [
    "df_shops data set에 매장별 타입(shp_type)을 추가한다. "
   ]
  },
  {
   "cell_type": "code",
   "execution_count": 592,
   "metadata": {},
   "outputs": [],
   "source": [
    "# 쇼핑몰, 컴퓨터 용품점, 기타, 온라인몰\n",
    "shp_type = ['기타', '쇼핑몰', '쇼핑몰', '쇼핑몰', '쇼핑몰',\n",
    "           '쇼핑몰', '기타', '쇼핑몰', '쇼핑몰', '기타',\n",
    "           '기타', '기타', '온라인몰', '쇼핑몰', '쇼핑몰',\n",
    "           '쇼핑몰', '쇼핑몰', '쇼핑몰', '쇼핑몰', '쇼핑몰',\n",
    "           '기타', '쇼핑몰', '쇼핑몰', '컴퓨터용품점', '컴퓨터용품점',\n",
    "           '쇼핑몰', '쇼핑몰', '쇼핑몰', '쇼핑몰', '쇼핑몰',\n",
    "           '쇼핑몰', '쇼핑몰', '쇼핑몰', '쇼핑몰', '쇼핑몰',\n",
    "           '쇼핑몰', '쇼핑몰', '쇼핑몰', '쇼핑몰', '쇼핑몰',\n",
    "           '쇼핑몰', '쇼핑몰', '쇼핑몰', '쇼핑몰', '쇼핑몰',\n",
    "           '쇼핑몰', '쇼핑몰', '쇼핑몰', '쇼핑몰', '쇼핑몰',\n",
    "           '쇼핑몰', '쇼핑몰', '쇼핑몰', '쇼핑몰', '쇼핑몰',\n",
    "           '컴퓨터용품점', '쇼핑몰', '쇼핑몰', '쇼핑몰', '쇼핑몰']"
   ]
  },
  {
   "cell_type": "code",
   "execution_count": 593,
   "metadata": {},
   "outputs": [],
   "source": [
    "df_shops = pd.concat([df_shops, pd.get_dummies(shp_type)], axis=1)\n",
    "df_shops = df_shops[['shop_name', 'shop_id', 'capital', 'non_capital', 'city_etc', '쇼핑몰', '온라인몰', '컴퓨터용품점', '기타']]\n",
    "df_shops.columns = ['shop_name', 'shop_id', 'capital', 'non_capital', 'city_etc', 'shopping_mall', 'online_mall', 'computer_mall', 'type_etc']"
   ]
  },
  {
   "cell_type": "code",
   "execution_count": 594,
   "metadata": {},
   "outputs": [
    {
     "data": {
      "text/html": [
       "<div>\n",
       "<style scoped>\n",
       "    .dataframe tbody tr th:only-of-type {\n",
       "        vertical-align: middle;\n",
       "    }\n",
       "\n",
       "    .dataframe tbody tr th {\n",
       "        vertical-align: top;\n",
       "    }\n",
       "\n",
       "    .dataframe thead th {\n",
       "        text-align: right;\n",
       "    }\n",
       "</style>\n",
       "<table border=\"1\" class=\"dataframe\">\n",
       "  <thead>\n",
       "    <tr style=\"text-align: right;\">\n",
       "      <th></th>\n",
       "      <th>shop_name</th>\n",
       "      <th>shop_id</th>\n",
       "      <th>capital</th>\n",
       "      <th>non_capital</th>\n",
       "      <th>city_etc</th>\n",
       "      <th>shopping_mall</th>\n",
       "      <th>online_mall</th>\n",
       "      <th>computer_mall</th>\n",
       "      <th>type_etc</th>\n",
       "    </tr>\n",
       "  </thead>\n",
       "  <tbody>\n",
       "    <tr>\n",
       "      <th>0</th>\n",
       "      <td>!Якутск Орджоникидзе, 56 фран</td>\n",
       "      <td>0</td>\n",
       "      <td>0</td>\n",
       "      <td>1</td>\n",
       "      <td>0</td>\n",
       "      <td>0</td>\n",
       "      <td>0</td>\n",
       "      <td>0</td>\n",
       "      <td>1</td>\n",
       "    </tr>\n",
       "    <tr>\n",
       "      <th>1</th>\n",
       "      <td>!Якутск ТЦ \"Центральный\" фран</td>\n",
       "      <td>1</td>\n",
       "      <td>0</td>\n",
       "      <td>1</td>\n",
       "      <td>0</td>\n",
       "      <td>1</td>\n",
       "      <td>0</td>\n",
       "      <td>0</td>\n",
       "      <td>0</td>\n",
       "    </tr>\n",
       "    <tr>\n",
       "      <th>2</th>\n",
       "      <td>Адыгея ТЦ \"Мега\"</td>\n",
       "      <td>2</td>\n",
       "      <td>0</td>\n",
       "      <td>1</td>\n",
       "      <td>0</td>\n",
       "      <td>1</td>\n",
       "      <td>0</td>\n",
       "      <td>0</td>\n",
       "      <td>0</td>\n",
       "    </tr>\n",
       "    <tr>\n",
       "      <th>3</th>\n",
       "      <td>Балашиха ТРК \"Октябрь-Киномир\"</td>\n",
       "      <td>3</td>\n",
       "      <td>0</td>\n",
       "      <td>1</td>\n",
       "      <td>0</td>\n",
       "      <td>1</td>\n",
       "      <td>0</td>\n",
       "      <td>0</td>\n",
       "      <td>0</td>\n",
       "    </tr>\n",
       "    <tr>\n",
       "      <th>4</th>\n",
       "      <td>Волжский ТЦ \"Волга Молл\"</td>\n",
       "      <td>4</td>\n",
       "      <td>0</td>\n",
       "      <td>1</td>\n",
       "      <td>0</td>\n",
       "      <td>1</td>\n",
       "      <td>0</td>\n",
       "      <td>0</td>\n",
       "      <td>0</td>\n",
       "    </tr>\n",
       "  </tbody>\n",
       "</table>\n",
       "</div>"
      ],
      "text/plain": [
       "                        shop_name  shop_id  capital  non_capital  city_etc  \\\n",
       "0   !Якутск Орджоникидзе, 56 фран        0        0            1         0   \n",
       "1   !Якутск ТЦ \"Центральный\" фран        1        0            1         0   \n",
       "2                Адыгея ТЦ \"Мега\"        2        0            1         0   \n",
       "3  Балашиха ТРК \"Октябрь-Киномир\"        3        0            1         0   \n",
       "4        Волжский ТЦ \"Волга Молл\"        4        0            1         0   \n",
       "\n",
       "   shopping_mall  online_mall  computer_mall  type_etc  \n",
       "0              0            0              0         1  \n",
       "1              1            0              0         0  \n",
       "2              1            0              0         0  \n",
       "3              1            0              0         0  \n",
       "4              1            0              0         0  "
      ]
     },
     "execution_count": 594,
     "metadata": {},
     "output_type": "execute_result"
    }
   ],
   "source": [
    "df_shops.head()"
   ]
  },
  {
   "cell_type": "markdown",
   "metadata": {},
   "source": [
    "#### 2. 물품 카테고리 추가"
   ]
  },
  {
   "cell_type": "code",
   "execution_count": 595,
   "metadata": {},
   "outputs": [
    {
     "data": {
      "text/html": [
       "<div>\n",
       "<style scoped>\n",
       "    .dataframe tbody tr th:only-of-type {\n",
       "        vertical-align: middle;\n",
       "    }\n",
       "\n",
       "    .dataframe tbody tr th {\n",
       "        vertical-align: top;\n",
       "    }\n",
       "\n",
       "    .dataframe thead th {\n",
       "        text-align: right;\n",
       "    }\n",
       "</style>\n",
       "<table border=\"1\" class=\"dataframe\">\n",
       "  <thead>\n",
       "    <tr style=\"text-align: right;\">\n",
       "      <th></th>\n",
       "      <th>Unnamed: 0</th>\n",
       "      <th>item_category_name</th>\n",
       "      <th>item_category_id</th>\n",
       "    </tr>\n",
       "  </thead>\n",
       "  <tbody>\n",
       "    <tr>\n",
       "      <th>0</th>\n",
       "      <td>0</td>\n",
       "      <td>PC - 헤드셋 / 헤드폰</td>\n",
       "      <td>0</td>\n",
       "    </tr>\n",
       "    <tr>\n",
       "      <th>1</th>\n",
       "      <td>1</td>\n",
       "      <td>액세서리 - PS2.</td>\n",
       "      <td>1</td>\n",
       "    </tr>\n",
       "    <tr>\n",
       "      <th>2</th>\n",
       "      <td>2</td>\n",
       "      <td>액세서리 - PS3.</td>\n",
       "      <td>2</td>\n",
       "    </tr>\n",
       "    <tr>\n",
       "      <th>3</th>\n",
       "      <td>3</td>\n",
       "      <td>액세서리 - PS4.</td>\n",
       "      <td>3</td>\n",
       "    </tr>\n",
       "    <tr>\n",
       "      <th>4</th>\n",
       "      <td>4</td>\n",
       "      <td>액세서리 - PSP.</td>\n",
       "      <td>4</td>\n",
       "    </tr>\n",
       "  </tbody>\n",
       "</table>\n",
       "</div>"
      ],
      "text/plain": [
       "   Unnamed: 0 item_category_name  item_category_id\n",
       "0           0     PC - 헤드셋 / 헤드폰                 0\n",
       "1           1        액세서리 - PS2.                 1\n",
       "2           2        액세서리 - PS3.                 2\n",
       "3           3        액세서리 - PS4.                 3\n",
       "4           4        액세서리 - PSP.                 4"
      ]
     },
     "execution_count": 595,
     "metadata": {},
     "output_type": "execute_result"
    }
   ],
   "source": [
    "df_item_categories.head()"
   ]
  },
  {
   "cell_type": "code",
   "execution_count": 596,
   "metadata": {},
   "outputs": [],
   "source": [
    "cat1, cat2 = [], []\n",
    "for item in df_item_categories.item_category_name:\n",
    "    \n",
    "    _ = item.split('-')\n",
    "    cat1.append(_[0].strip())\n",
    "    try: \n",
    "        cat2.append(_[1].strip())\n",
    "    except:\n",
    "        cat2.append(np.nan)"
   ]
  },
  {
   "cell_type": "code",
   "execution_count": 598,
   "metadata": {},
   "outputs": [],
   "source": [
    "le = LabelEncoder()\n",
    "df_item_categories['type_code'] = le.fit_transform(cat1)\n",
    "df_item_categories['subtype_code'] = le.fit_transform(cat2)"
   ]
  },
  {
   "cell_type": "code",
   "execution_count": 599,
   "metadata": {},
   "outputs": [
    {
     "data": {
      "text/html": [
       "<div>\n",
       "<style scoped>\n",
       "    .dataframe tbody tr th:only-of-type {\n",
       "        vertical-align: middle;\n",
       "    }\n",
       "\n",
       "    .dataframe tbody tr th {\n",
       "        vertical-align: top;\n",
       "    }\n",
       "\n",
       "    .dataframe thead th {\n",
       "        text-align: right;\n",
       "    }\n",
       "</style>\n",
       "<table border=\"1\" class=\"dataframe\">\n",
       "  <thead>\n",
       "    <tr style=\"text-align: right;\">\n",
       "      <th></th>\n",
       "      <th>Unnamed: 0</th>\n",
       "      <th>item_category_name</th>\n",
       "      <th>item_category_id</th>\n",
       "      <th>type_code</th>\n",
       "      <th>subtype_code</th>\n",
       "    </tr>\n",
       "  </thead>\n",
       "  <tbody>\n",
       "    <tr>\n",
       "      <th>0</th>\n",
       "      <td>0</td>\n",
       "      <td>PC - 헤드셋 / 헤드폰</td>\n",
       "      <td>0</td>\n",
       "      <td>0</td>\n",
       "      <td>61</td>\n",
       "    </tr>\n",
       "    <tr>\n",
       "      <th>1</th>\n",
       "      <td>1</td>\n",
       "      <td>액세서리 - PS2.</td>\n",
       "      <td>1</td>\n",
       "      <td>11</td>\n",
       "      <td>6</td>\n",
       "    </tr>\n",
       "    <tr>\n",
       "      <th>2</th>\n",
       "      <td>2</td>\n",
       "      <td>액세서리 - PS3.</td>\n",
       "      <td>2</td>\n",
       "      <td>11</td>\n",
       "      <td>7</td>\n",
       "    </tr>\n",
       "    <tr>\n",
       "      <th>3</th>\n",
       "      <td>3</td>\n",
       "      <td>액세서리 - PS4.</td>\n",
       "      <td>3</td>\n",
       "      <td>11</td>\n",
       "      <td>8</td>\n",
       "    </tr>\n",
       "    <tr>\n",
       "      <th>4</th>\n",
       "      <td>4</td>\n",
       "      <td>액세서리 - PSP.</td>\n",
       "      <td>4</td>\n",
       "      <td>11</td>\n",
       "      <td>10</td>\n",
       "    </tr>\n",
       "  </tbody>\n",
       "</table>\n",
       "</div>"
      ],
      "text/plain": [
       "   Unnamed: 0 item_category_name  item_category_id  type_code  subtype_code\n",
       "0           0     PC - 헤드셋 / 헤드폰                 0          0            61\n",
       "1           1        액세서리 - PS2.                 1         11             6\n",
       "2           2        액세서리 - PS3.                 2         11             7\n",
       "3           3        액세서리 - PS4.                 3         11             8\n",
       "4           4        액세서리 - PSP.                 4         11            10"
      ]
     },
     "execution_count": 599,
     "metadata": {},
     "output_type": "execute_result"
    }
   ],
   "source": [
    "df_item_categories.head()"
   ]
  },
  {
   "cell_type": "markdown",
   "metadata": {},
   "source": [
    "물품 type과 subtype을 라벨 인코딩하여 item_categories data set에 추가시켰다."
   ]
  },
  {
   "cell_type": "code",
   "execution_count": 600,
   "metadata": {},
   "outputs": [],
   "source": [
    "df_item_categories.drop(columns='item_category_name', inplace=True)"
   ]
  },
  {
   "cell_type": "markdown",
   "metadata": {},
   "source": [
    "필요없는 데이터인 'item_category_name' 컬럼을 삭제했다."
   ]
  },
  {
   "cell_type": "code",
   "execution_count": 601,
   "metadata": {},
   "outputs": [
    {
     "data": {
      "text/html": [
       "<div>\n",
       "<style scoped>\n",
       "    .dataframe tbody tr th:only-of-type {\n",
       "        vertical-align: middle;\n",
       "    }\n",
       "\n",
       "    .dataframe tbody tr th {\n",
       "        vertical-align: top;\n",
       "    }\n",
       "\n",
       "    .dataframe thead th {\n",
       "        text-align: right;\n",
       "    }\n",
       "</style>\n",
       "<table border=\"1\" class=\"dataframe\">\n",
       "  <thead>\n",
       "    <tr style=\"text-align: right;\">\n",
       "      <th></th>\n",
       "      <th>Unnamed: 0</th>\n",
       "      <th>item_category_id</th>\n",
       "      <th>type_code</th>\n",
       "      <th>subtype_code</th>\n",
       "    </tr>\n",
       "  </thead>\n",
       "  <tbody>\n",
       "    <tr>\n",
       "      <th>0</th>\n",
       "      <td>0</td>\n",
       "      <td>0</td>\n",
       "      <td>0</td>\n",
       "      <td>61</td>\n",
       "    </tr>\n",
       "    <tr>\n",
       "      <th>1</th>\n",
       "      <td>1</td>\n",
       "      <td>1</td>\n",
       "      <td>11</td>\n",
       "      <td>6</td>\n",
       "    </tr>\n",
       "    <tr>\n",
       "      <th>2</th>\n",
       "      <td>2</td>\n",
       "      <td>2</td>\n",
       "      <td>11</td>\n",
       "      <td>7</td>\n",
       "    </tr>\n",
       "    <tr>\n",
       "      <th>3</th>\n",
       "      <td>3</td>\n",
       "      <td>3</td>\n",
       "      <td>11</td>\n",
       "      <td>8</td>\n",
       "    </tr>\n",
       "    <tr>\n",
       "      <th>4</th>\n",
       "      <td>4</td>\n",
       "      <td>4</td>\n",
       "      <td>11</td>\n",
       "      <td>10</td>\n",
       "    </tr>\n",
       "  </tbody>\n",
       "</table>\n",
       "</div>"
      ],
      "text/plain": [
       "   Unnamed: 0  item_category_id  type_code  subtype_code\n",
       "0           0                 0          0            61\n",
       "1           1                 1         11             6\n",
       "2           2                 2         11             7\n",
       "3           3                 3         11             8\n",
       "4           4                 4         11            10"
      ]
     },
     "execution_count": 601,
     "metadata": {},
     "output_type": "execute_result"
    }
   ],
   "source": [
    "df_item_categories.head()"
   ]
  },
  {
   "cell_type": "code",
   "execution_count": 602,
   "metadata": {},
   "outputs": [
    {
     "data": {
      "text/plain": [
       "array([ 0, 11, 19,  6,  4,  3,  2, 10,  5,  1, 15, 14, 21,  9, 16, 12,  8,\n",
       "       20,  7, 18, 17, 13], dtype=int64)"
      ]
     },
     "execution_count": 602,
     "metadata": {},
     "output_type": "execute_result"
    }
   ],
   "source": [
    "# type code 원소 확인\n",
    "df_item_categories.type_code.unique()"
   ]
  },
  {
   "cell_type": "markdown",
   "metadata": {},
   "source": [
    "## **Feature engineering**"
   ]
  },
  {
   "cell_type": "markdown",
   "metadata": {},
   "source": [
    "### 1. Matrix에 Test data 병합"
   ]
  },
  {
   "cell_type": "markdown",
   "metadata": {},
   "source": [
    "예측값을 생성하기 위해서는 학습값의 컬럼과 동일한 컬럼을 테스트데이터 셋에서도 있어야 하기 때문에 df_test를 matrix에 합해 feature를 동시에 생성 후 분리시킨다.\n",
    "테스트 데이터는 학습 데이터 이후의 달이기 때문에 date_block_num을 34로 생성한다."
   ]
  },
  {
   "cell_type": "code",
   "execution_count": 603,
   "metadata": {},
   "outputs": [],
   "source": [
    "matrix_test = df_test.copy()\n",
    "matrix_test['date_block_num'] = 34"
   ]
  },
  {
   "cell_type": "code",
   "execution_count": 604,
   "metadata": {},
   "outputs": [
    {
     "data": {
      "text/html": [
       "<div>\n",
       "<style scoped>\n",
       "    .dataframe tbody tr th:only-of-type {\n",
       "        vertical-align: middle;\n",
       "    }\n",
       "\n",
       "    .dataframe tbody tr th {\n",
       "        vertical-align: top;\n",
       "    }\n",
       "\n",
       "    .dataframe thead th {\n",
       "        text-align: right;\n",
       "    }\n",
       "</style>\n",
       "<table border=\"1\" class=\"dataframe\">\n",
       "  <thead>\n",
       "    <tr style=\"text-align: right;\">\n",
       "      <th></th>\n",
       "      <th>ID</th>\n",
       "      <th>shop_id</th>\n",
       "      <th>item_id</th>\n",
       "      <th>date_block_num</th>\n",
       "    </tr>\n",
       "  </thead>\n",
       "  <tbody>\n",
       "    <tr>\n",
       "      <th>214195</th>\n",
       "      <td>214195</td>\n",
       "      <td>45</td>\n",
       "      <td>18454</td>\n",
       "      <td>34</td>\n",
       "    </tr>\n",
       "    <tr>\n",
       "      <th>214196</th>\n",
       "      <td>214196</td>\n",
       "      <td>45</td>\n",
       "      <td>16188</td>\n",
       "      <td>34</td>\n",
       "    </tr>\n",
       "    <tr>\n",
       "      <th>214197</th>\n",
       "      <td>214197</td>\n",
       "      <td>45</td>\n",
       "      <td>15757</td>\n",
       "      <td>34</td>\n",
       "    </tr>\n",
       "    <tr>\n",
       "      <th>214198</th>\n",
       "      <td>214198</td>\n",
       "      <td>45</td>\n",
       "      <td>19648</td>\n",
       "      <td>34</td>\n",
       "    </tr>\n",
       "    <tr>\n",
       "      <th>214199</th>\n",
       "      <td>214199</td>\n",
       "      <td>45</td>\n",
       "      <td>969</td>\n",
       "      <td>34</td>\n",
       "    </tr>\n",
       "  </tbody>\n",
       "</table>\n",
       "</div>"
      ],
      "text/plain": [
       "            ID  shop_id  item_id  date_block_num\n",
       "214195  214195       45    18454              34\n",
       "214196  214196       45    16188              34\n",
       "214197  214197       45    15757              34\n",
       "214198  214198       45    19648              34\n",
       "214199  214199       45      969              34"
      ]
     },
     "execution_count": 604,
     "metadata": {},
     "output_type": "execute_result"
    }
   ],
   "source": [
    "matrix_test.tail()"
   ]
  },
  {
   "cell_type": "markdown",
   "metadata": {},
   "source": [
    "item_category_id 컬럼을 추가하기 위해 df_item_categories와 df_item을 merge하여 사용한다. ID 컬럼은 sub_id로 분리한다."
   ]
  },
  {
   "cell_type": "code",
   "execution_count": 605,
   "metadata": {},
   "outputs": [
    {
     "data": {
      "text/html": [
       "<div>\n",
       "<style scoped>\n",
       "    .dataframe tbody tr th:only-of-type {\n",
       "        vertical-align: middle;\n",
       "    }\n",
       "\n",
       "    .dataframe tbody tr th {\n",
       "        vertical-align: top;\n",
       "    }\n",
       "\n",
       "    .dataframe thead th {\n",
       "        text-align: right;\n",
       "    }\n",
       "</style>\n",
       "<table border=\"1\" class=\"dataframe\">\n",
       "  <thead>\n",
       "    <tr style=\"text-align: right;\">\n",
       "      <th></th>\n",
       "      <th>shop_id</th>\n",
       "      <th>item_id</th>\n",
       "      <th>date_block_num</th>\n",
       "      <th>item_category_id</th>\n",
       "    </tr>\n",
       "  </thead>\n",
       "  <tbody>\n",
       "    <tr>\n",
       "      <th>214195</th>\n",
       "      <td>45</td>\n",
       "      <td>18454</td>\n",
       "      <td>34</td>\n",
       "      <td>55</td>\n",
       "    </tr>\n",
       "    <tr>\n",
       "      <th>214196</th>\n",
       "      <td>45</td>\n",
       "      <td>16188</td>\n",
       "      <td>34</td>\n",
       "      <td>64</td>\n",
       "    </tr>\n",
       "    <tr>\n",
       "      <th>214197</th>\n",
       "      <td>45</td>\n",
       "      <td>15757</td>\n",
       "      <td>34</td>\n",
       "      <td>55</td>\n",
       "    </tr>\n",
       "    <tr>\n",
       "      <th>214198</th>\n",
       "      <td>45</td>\n",
       "      <td>19648</td>\n",
       "      <td>34</td>\n",
       "      <td>40</td>\n",
       "    </tr>\n",
       "    <tr>\n",
       "      <th>214199</th>\n",
       "      <td>45</td>\n",
       "      <td>969</td>\n",
       "      <td>34</td>\n",
       "      <td>37</td>\n",
       "    </tr>\n",
       "  </tbody>\n",
       "</table>\n",
       "</div>"
      ],
      "text/plain": [
       "        shop_id  item_id  date_block_num  item_category_id\n",
       "214195       45    18454              34                55\n",
       "214196       45    16188              34                64\n",
       "214197       45    15757              34                55\n",
       "214198       45    19648              34                40\n",
       "214199       45      969              34                37"
      ]
     },
     "execution_count": 605,
     "metadata": {},
     "output_type": "execute_result"
    }
   ],
   "source": [
    "temp_items = pd.merge(df_item_categories, df_items, on = 'item_category_id')[['item_category_id', 'item_id']]\n",
    "matrix_test = pd.merge(matrix_test, temp_items, on='item_id', how='left')\n",
    "sub_id = matrix_test[\"ID\"]\n",
    "matrix_test.drop(columns='ID', inplace=True)\n",
    "matrix_test.tail()"
   ]
  },
  {
   "cell_type": "markdown",
   "metadata": {},
   "source": [
    "item_price의 정보는 다음과 같은 방법을 사용해 입력한다.\n",
    "1. 전체 기간 중 아이템, 매장별 평균가로 입력한다. 이 때 102796개의 nan이 발생한다."
   ]
  },
  {
   "cell_type": "code",
   "execution_count": 606,
   "metadata": {},
   "outputs": [
    {
     "data": {
      "text/plain": [
       "shop_id                  0\n",
       "item_id                  0\n",
       "date_block_num           0\n",
       "item_category_id         0\n",
       "item_price          102796\n",
       "dtype: int64"
      ]
     },
     "execution_count": 606,
     "metadata": {},
     "output_type": "execute_result"
    }
   ],
   "source": [
    "# # 1. price : 전체 기간 중 아이템, 샵별 평균을 구해 적용. 102796개의 nan 발생.\n",
    "price_candidate_1 = matrix.groupby(['item_id', 'shop_id']).mean().reset_index()\n",
    "price_candidate_1 = price_candidate_1[['item_id', 'shop_id', 'item_price']]\n",
    "price_candidate_1\n",
    "\n",
    "matrix_test = pd.merge(matrix_test, price_candidate_1, on=['item_id','shop_id'], how='left')\n",
    "matrix_test\n",
    "matrix_test.isna().sum()"
   ]
  },
  {
   "cell_type": "markdown",
   "metadata": {},
   "source": [
    "2. nan이 발생한 아이템에 대해서는 매장별로 아이템이 속한 카테고리의 평균가로 nan을 입력한다. 이 때 24964개의 nan이 발생한다."
   ]
  },
  {
   "cell_type": "code",
   "execution_count": 607,
   "metadata": {},
   "outputs": [],
   "source": [
    "# # 2. shop_id별로 item_id의 상위 레벨에 해당하는 item_category_id로 nan 값을 대치. 24964개의 nan 발생\n",
    "temp = pd.merge(df_items, df_item_categories, on='item_category_id', how='left')\n",
    "temp = temp[['item_id', 'item_category_id']]\n",
    "temp = pd.merge(matrix, temp, on='item_id', how='left')\n",
    "\n",
    "price_candidate_2 = temp.groupby(['item_category_id', 'shop_id']).mean().reset_index()\n",
    "price_candidate_2 = price_candidate_2[['item_category_id', 'shop_id', 'item_price']]"
   ]
  },
  {
   "cell_type": "code",
   "execution_count": 608,
   "metadata": {},
   "outputs": [
    {
     "data": {
      "text/plain": [
       "shop_id                 0\n",
       "item_id                 0\n",
       "date_block_num          0\n",
       "item_category_id        0\n",
       "item_price          24137\n",
       "dtype: int64"
      ]
     },
     "execution_count": 608,
     "metadata": {},
     "output_type": "execute_result"
    }
   ],
   "source": [
    "# 결측값 업데이트\n",
    "def update_price_2(x):\n",
    "    if pd.isna(x['item_price']):\n",
    "        search_res = price_candidate_2.loc[(price_candidate_2['item_category_id'] == x['item_category_id']) & \n",
    "                                (price_candidate_2['shop_id'] == x['shop_id'])].values\n",
    "        if len(search_res) > 0: return search_res[0][2]\n",
    "    return x['item_price']\n",
    "\n",
    "matrix_test['item_price'] = matrix_test.apply(update_price_2, axis=1)\n",
    "matrix_test.isna().sum()"
   ]
  },
  {
   "cell_type": "markdown",
   "metadata": {},
   "source": [
    "3. 매장별 아이템 카테고리의 평균가에서도 nan이 발생한 항목에 대해서는 전 매장에서의 아이템 카테고리의 평균가로 입력한다. 이 때 84 개의 nan이 발생한다."
   ]
  },
  {
   "cell_type": "code",
   "execution_count": 524,
   "metadata": {},
   "outputs": [
    {
     "data": {
      "text/plain": [
       "shop_id             0\n",
       "item_id             0\n",
       "date_block_num      0\n",
       "item_category_id    0\n",
       "item_price          0\n",
       "dtype: int64"
      ]
     },
     "execution_count": 524,
     "metadata": {},
     "output_type": "execute_result"
    }
   ],
   "source": [
    "# 3. 모든 매장에 통틀어 item_category_id의 평균가로 nan값을 대치.\n",
    "\n",
    "price_candidate_3 = temp.groupby(['item_category_id']).mean().reset_index()\n",
    "price_candidate_3 = price_candidate_3[['item_category_id', 'item_price']]\n",
    "price_candidate_3\n",
    "\n",
    "def update_price_3(x):\n",
    "    if pd.isna(x['item_price']):\n",
    "        search_res = price_candidate_3.loc[(price_candidate_3['item_category_id'] == x['item_category_id'])].values\n",
    "        if len(search_res) > 0: return search_res[0][1]\n",
    "    return x['item_price']\n",
    "\n",
    "matrix_test['item_price'] = matrix_test.apply(update_price_3, axis=1)\n",
    "matrix_test.isna().sum()\n",
    "# matrix_test[matrix_test.item_price.isna()]"
   ]
  },
  {
   "cell_type": "markdown",
   "metadata": {},
   "source": [
    "4. 그럼에도 nan이 발생하는 항목은 카테고리 아이디 0번과 27번에 해당한다.\n",
    "    해당 카테고리들은 기존 학습 자료 생성시에 걸러진 항목이기 때문에 원래의 자료에서 값을 구해 입력해주었다."
   ]
  },
  {
   "cell_type": "code",
   "execution_count": 609,
   "metadata": {},
   "outputs": [
    {
     "data": {
      "text/plain": [
       "shop_id               0\n",
       "item_id               0\n",
       "date_block_num        0\n",
       "item_price        24056\n",
       "dtype: int64"
      ]
     },
     "execution_count": 609,
     "metadata": {},
     "output_type": "execute_result"
    }
   ],
   "source": [
    "# 4. matrix에서는 test data의 shop, item 기준으로 필터링했기 때문에 category id 27, 0 (item id 6439, 5441)에 해당하는 평균값이 없어 이를 업데이트 함.\n",
    "\n",
    "df_train = pd.read_csv('sales_train.csv')\n",
    "df_train_month = df_train.groupby(['date_block_num', 'shop_id', 'item_id']).agg({'item_price':'mean'})\n",
    "df_train_month.reset_index(inplace=True)\n",
    "\n",
    "df_train_month.loc[df_train_month.shop_id==0, 'shop_id'] = 57\n",
    "df_train_month.loc[df_train_month.shop_id==1, 'shop_id'] = 58\n",
    "df_train_month = pd.merge(df_train_month, df_items, on='item_id', how='left')\n",
    "\n",
    "price_candidate_4 = df_train_month.groupby(['item_category_id']).mean().reset_index()\n",
    "price_candidate_4 = price_candidate_4[['item_category_id', 'item_price']]\n",
    "price_candidate_4\n",
    "\n",
    "matrix_test.loc[matrix_test.item_category_id==0, 'item_price'] = price_candidate_4.loc[price_candidate_4.item_category_id==0, 'item_price'].values[0]\n",
    "matrix_test.loc[matrix_test.item_category_id==27, 'item_price'] = price_candidate_4.loc[price_candidate_4.item_category_id==27, 'item_price'].values[0]\n",
    "matrix_test.drop(columns='item_category_id', inplace=True)\n",
    "\n",
    "matrix_test.isna().sum()"
   ]
  },
  {
   "cell_type": "markdown",
   "metadata": {},
   "source": [
    "### 2. Lag 데이터 생성"
   ]
  },
  {
   "cell_type": "markdown",
   "metadata": {},
   "source": [
    "n월전의 이전 판매량을 뜻하는 Lag 데이터를 생성한다.\n",
    "\n",
    "이전의 판매량 데이터 등을 종합적으로 고려해 현재 상태를 파악하고자 한다."
   ]
  },
  {
   "cell_type": "code",
   "execution_count": 610,
   "metadata": {},
   "outputs": [],
   "source": [
    "def lag_feature(df, lag, col):\n",
    "    temp = df[['date_block_num', 'shop_id', 'item_id', col]]\n",
    "    \n",
    "    for i in lag:\n",
    "        shift = temp.copy()\n",
    "        shift.date_block_num += i\n",
    "        shift.columns = ['date_block_num', 'shop_id', 'item_id', col+'_lag_'+str(i)]\n",
    "        df = pd.merge(df, shift, how='left', on=['date_block_num','shop_id','item_id'])\n",
    "    return df"
   ]
  },
  {
   "cell_type": "markdown",
   "metadata": {},
   "source": [
    "해당 데이터프레임에 lag 데이터를 추가하는 함수를 작성했다.\n",
    "\n",
    "다음으로 ['item_cnt_month'], ['item_price'] 컬럼에 대한 lag 데이터를 생성한다."
   ]
  },
  {
   "cell_type": "code",
   "execution_count": 611,
   "metadata": {},
   "outputs": [
    {
     "name": "stdout",
     "output_type": "stream",
     "text": [
      "<class 'pandas.core.frame.DataFrame'>\n",
      "Int64Index: 1609124 entries, 0 to 1609123\n",
      "Data columns (total 8 columns):\n",
      " #   Column                Non-Null Count    Dtype  \n",
      "---  ------                --------------    -----  \n",
      " 0   date_block_num        1609124 non-null  int64  \n",
      " 1   shop_id               1609124 non-null  int64  \n",
      " 2   item_id               1609124 non-null  int64  \n",
      " 3   item_cnt_month        1609124 non-null  float64\n",
      " 4   item_price            1609124 non-null  float64\n",
      " 5   item_cnt_month_lag_1  676738 non-null   float64\n",
      " 6   item_cnt_month_lag_2  589826 non-null   float64\n",
      " 7   item_cnt_month_lag_3  517837 non-null   float64\n",
      "dtypes: float64(5), int64(3)\n",
      "memory usage: 110.5 MB\n"
     ]
    }
   ],
   "source": [
    "# item_cnt_month lag 데이터 생성\n",
    "# 결측치 이해: 새로 생기거나 없어진 물품 및 상점으로 인해 생김, 또는 과거 데이터의 부재\n",
    "matrix_item_lag = lag_feature(matrix, [1, 2, 3], 'item_cnt_month')\n",
    "matrix_item_lag.info()"
   ]
  },
  {
   "cell_type": "code",
   "execution_count": 612,
   "metadata": {},
   "outputs": [
    {
     "data": {
      "text/html": [
       "<div>\n",
       "<style scoped>\n",
       "    .dataframe tbody tr th:only-of-type {\n",
       "        vertical-align: middle;\n",
       "    }\n",
       "\n",
       "    .dataframe tbody tr th {\n",
       "        vertical-align: top;\n",
       "    }\n",
       "\n",
       "    .dataframe thead th {\n",
       "        text-align: right;\n",
       "    }\n",
       "</style>\n",
       "<table border=\"1\" class=\"dataframe\">\n",
       "  <thead>\n",
       "    <tr style=\"text-align: right;\">\n",
       "      <th></th>\n",
       "      <th>date_block_num</th>\n",
       "      <th>shop_id</th>\n",
       "      <th>item_id</th>\n",
       "      <th>item_cnt_month</th>\n",
       "      <th>item_price</th>\n",
       "      <th>item_cnt_month_lag_1</th>\n",
       "      <th>item_cnt_month_lag_2</th>\n",
       "      <th>item_cnt_month_lag_3</th>\n",
       "    </tr>\n",
       "  </thead>\n",
       "  <tbody>\n",
       "    <tr>\n",
       "      <th>0</th>\n",
       "      <td>0</td>\n",
       "      <td>0</td>\n",
       "      <td>32</td>\n",
       "      <td>6.0</td>\n",
       "      <td>221.0</td>\n",
       "      <td>0.0</td>\n",
       "      <td>0.0</td>\n",
       "      <td>0.0</td>\n",
       "    </tr>\n",
       "    <tr>\n",
       "      <th>1</th>\n",
       "      <td>0</td>\n",
       "      <td>0</td>\n",
       "      <td>33</td>\n",
       "      <td>3.0</td>\n",
       "      <td>347.0</td>\n",
       "      <td>0.0</td>\n",
       "      <td>0.0</td>\n",
       "      <td>0.0</td>\n",
       "    </tr>\n",
       "    <tr>\n",
       "      <th>2</th>\n",
       "      <td>0</td>\n",
       "      <td>0</td>\n",
       "      <td>35</td>\n",
       "      <td>1.0</td>\n",
       "      <td>247.0</td>\n",
       "      <td>0.0</td>\n",
       "      <td>0.0</td>\n",
       "      <td>0.0</td>\n",
       "    </tr>\n",
       "    <tr>\n",
       "      <th>3</th>\n",
       "      <td>0</td>\n",
       "      <td>0</td>\n",
       "      <td>43</td>\n",
       "      <td>1.0</td>\n",
       "      <td>221.0</td>\n",
       "      <td>0.0</td>\n",
       "      <td>0.0</td>\n",
       "      <td>0.0</td>\n",
       "    </tr>\n",
       "    <tr>\n",
       "      <th>4</th>\n",
       "      <td>0</td>\n",
       "      <td>0</td>\n",
       "      <td>51</td>\n",
       "      <td>2.0</td>\n",
       "      <td>128.5</td>\n",
       "      <td>0.0</td>\n",
       "      <td>0.0</td>\n",
       "      <td>0.0</td>\n",
       "    </tr>\n",
       "  </tbody>\n",
       "</table>\n",
       "</div>"
      ],
      "text/plain": [
       "   date_block_num  shop_id  item_id  item_cnt_month  item_price  \\\n",
       "0               0        0       32             6.0       221.0   \n",
       "1               0        0       33             3.0       347.0   \n",
       "2               0        0       35             1.0       247.0   \n",
       "3               0        0       43             1.0       221.0   \n",
       "4               0        0       51             2.0       128.5   \n",
       "\n",
       "   item_cnt_month_lag_1  item_cnt_month_lag_2  item_cnt_month_lag_3  \n",
       "0                   0.0                   0.0                   0.0  \n",
       "1                   0.0                   0.0                   0.0  \n",
       "2                   0.0                   0.0                   0.0  \n",
       "3                   0.0                   0.0                   0.0  \n",
       "4                   0.0                   0.0                   0.0  "
      ]
     },
     "execution_count": 612,
     "metadata": {},
     "output_type": "execute_result"
    }
   ],
   "source": [
    "matrix_item_lag.head()"
   ]
  },
  {
   "cell_type": "code",
   "execution_count": 613,
   "metadata": {},
   "outputs": [
    {
     "data": {
      "text/plain": [
       "(1609124, 6)"
      ]
     },
     "execution_count": 613,
     "metadata": {},
     "output_type": "execute_result"
    }
   ],
   "source": [
    "matrix_item_lag = matrix_item_lag.drop(['item_cnt_month', 'item_price'], axis=1)\n",
    "matrix_item_lag.shape"
   ]
  },
  {
   "cell_type": "code",
   "execution_count": 614,
   "metadata": {},
   "outputs": [
    {
     "name": "stdout",
     "output_type": "stream",
     "text": [
      "<class 'pandas.core.frame.DataFrame'>\n",
      "Int64Index: 1609124 entries, 0 to 1609123\n",
      "Data columns (total 8 columns):\n",
      " #   Column            Non-Null Count    Dtype  \n",
      "---  ------            --------------    -----  \n",
      " 0   date_block_num    1609124 non-null  int64  \n",
      " 1   shop_id           1609124 non-null  int64  \n",
      " 2   item_id           1609124 non-null  int64  \n",
      " 3   item_cnt_month    1609124 non-null  float64\n",
      " 4   item_price        1609124 non-null  float64\n",
      " 5   item_price_lag_1  676738 non-null   float64\n",
      " 6   item_price_lag_2  589826 non-null   float64\n",
      " 7   item_price_lag_3  517837 non-null   float64\n",
      "dtypes: float64(5), int64(3)\n",
      "memory usage: 110.5 MB\n"
     ]
    }
   ],
   "source": [
    "# item_price lag 데이터 생성\n",
    "matrix_price_lag = lag_feature(matrix, [1, 2, 3], 'item_price')\n",
    "matrix_price_lag.info()\n",
    "matrix_price_lag = matrix_price_lag.drop(['item_cnt_month', 'item_price'], axis=1)"
   ]
  },
  {
   "cell_type": "code",
   "execution_count": 615,
   "metadata": {},
   "outputs": [
    {
     "data": {
      "text/html": [
       "<div>\n",
       "<style scoped>\n",
       "    .dataframe tbody tr th:only-of-type {\n",
       "        vertical-align: middle;\n",
       "    }\n",
       "\n",
       "    .dataframe tbody tr th {\n",
       "        vertical-align: top;\n",
       "    }\n",
       "\n",
       "    .dataframe thead th {\n",
       "        text-align: right;\n",
       "    }\n",
       "</style>\n",
       "<table border=\"1\" class=\"dataframe\">\n",
       "  <thead>\n",
       "    <tr style=\"text-align: right;\">\n",
       "      <th></th>\n",
       "      <th>date_block_num</th>\n",
       "      <th>shop_id</th>\n",
       "      <th>item_id</th>\n",
       "      <th>item_price_lag_1</th>\n",
       "      <th>item_price_lag_2</th>\n",
       "      <th>item_price_lag_3</th>\n",
       "    </tr>\n",
       "  </thead>\n",
       "  <tbody>\n",
       "    <tr>\n",
       "      <th>0</th>\n",
       "      <td>0</td>\n",
       "      <td>0</td>\n",
       "      <td>32</td>\n",
       "      <td>0.0</td>\n",
       "      <td>0.0</td>\n",
       "      <td>0.0</td>\n",
       "    </tr>\n",
       "    <tr>\n",
       "      <th>1</th>\n",
       "      <td>0</td>\n",
       "      <td>0</td>\n",
       "      <td>33</td>\n",
       "      <td>0.0</td>\n",
       "      <td>0.0</td>\n",
       "      <td>0.0</td>\n",
       "    </tr>\n",
       "    <tr>\n",
       "      <th>2</th>\n",
       "      <td>0</td>\n",
       "      <td>0</td>\n",
       "      <td>35</td>\n",
       "      <td>0.0</td>\n",
       "      <td>0.0</td>\n",
       "      <td>0.0</td>\n",
       "    </tr>\n",
       "    <tr>\n",
       "      <th>3</th>\n",
       "      <td>0</td>\n",
       "      <td>0</td>\n",
       "      <td>43</td>\n",
       "      <td>0.0</td>\n",
       "      <td>0.0</td>\n",
       "      <td>0.0</td>\n",
       "    </tr>\n",
       "    <tr>\n",
       "      <th>4</th>\n",
       "      <td>0</td>\n",
       "      <td>0</td>\n",
       "      <td>51</td>\n",
       "      <td>0.0</td>\n",
       "      <td>0.0</td>\n",
       "      <td>0.0</td>\n",
       "    </tr>\n",
       "  </tbody>\n",
       "</table>\n",
       "</div>"
      ],
      "text/plain": [
       "   date_block_num  shop_id  item_id  item_price_lag_1  item_price_lag_2  \\\n",
       "0               0        0       32               0.0               0.0   \n",
       "1               0        0       33               0.0               0.0   \n",
       "2               0        0       35               0.0               0.0   \n",
       "3               0        0       43               0.0               0.0   \n",
       "4               0        0       51               0.0               0.0   \n",
       "\n",
       "   item_price_lag_3  \n",
       "0               0.0  \n",
       "1               0.0  \n",
       "2               0.0  \n",
       "3               0.0  \n",
       "4               0.0  "
      ]
     },
     "execution_count": 615,
     "metadata": {},
     "output_type": "execute_result"
    }
   ],
   "source": [
    "matrix_price_lag.head()"
   ]
  },
  {
   "cell_type": "code",
   "execution_count": 616,
   "metadata": {},
   "outputs": [
    {
     "data": {
      "text/plain": [
       "(1609124, 6)"
      ]
     },
     "execution_count": 616,
     "metadata": {},
     "output_type": "execute_result"
    }
   ],
   "source": [
    "matrix_price_lag.shape"
   ]
  },
  {
   "cell_type": "markdown",
   "metadata": {},
   "source": [
    "### 3. Trend Features 생성"
   ]
  },
  {
   "cell_type": "markdown",
   "metadata": {},
   "source": [
    "기준 시점으로부터 지난 3개월 간의 가격 변동폭을 확인한다."
   ]
  },
  {
   "cell_type": "code",
   "execution_count": 622,
   "metadata": {},
   "outputs": [
    {
     "data": {
      "text/html": [
       "<div>\n",
       "<style scoped>\n",
       "    .dataframe tbody tr th:only-of-type {\n",
       "        vertical-align: middle;\n",
       "    }\n",
       "\n",
       "    .dataframe tbody tr th {\n",
       "        vertical-align: top;\n",
       "    }\n",
       "\n",
       "    .dataframe thead th {\n",
       "        text-align: right;\n",
       "    }\n",
       "</style>\n",
       "<table border=\"1\" class=\"dataframe\">\n",
       "  <thead>\n",
       "    <tr style=\"text-align: right;\">\n",
       "      <th></th>\n",
       "      <th>item_id</th>\n",
       "      <th>item_avg_item_price</th>\n",
       "    </tr>\n",
       "  </thead>\n",
       "  <tbody>\n",
       "    <tr>\n",
       "      <th>0</th>\n",
       "      <td>0</td>\n",
       "      <td>58.0</td>\n",
       "    </tr>\n",
       "    <tr>\n",
       "      <th>1</th>\n",
       "      <td>1</td>\n",
       "      <td>4490.0</td>\n",
       "    </tr>\n",
       "    <tr>\n",
       "      <th>2</th>\n",
       "      <td>2</td>\n",
       "      <td>58.0</td>\n",
       "    </tr>\n",
       "    <tr>\n",
       "      <th>3</th>\n",
       "      <td>3</td>\n",
       "      <td>79.0</td>\n",
       "    </tr>\n",
       "    <tr>\n",
       "      <th>4</th>\n",
       "      <td>4</td>\n",
       "      <td>58.0</td>\n",
       "    </tr>\n",
       "  </tbody>\n",
       "</table>\n",
       "</div>"
      ],
      "text/plain": [
       "   item_id  item_avg_item_price\n",
       "0        0                 58.0\n",
       "1        1               4490.0\n",
       "2        2                 58.0\n",
       "3        3                 79.0\n",
       "4        4                 58.0"
      ]
     },
     "execution_count": 622,
     "metadata": {},
     "output_type": "execute_result"
    }
   ],
   "source": [
    "# 전월의 물품별 가격의 평균을 계산한다.\n",
    "group = df_train.groupby(['item_id']).agg({'item_price': ['mean']})\n",
    "group.columns = ['item_avg_item_price']\n",
    "group = group.reset_index()\n",
    "group.head()"
   ]
  },
  {
   "cell_type": "code",
   "execution_count": 623,
   "metadata": {},
   "outputs": [
    {
     "ename": "KeyError",
     "evalue": "'item_avg_item_price'",
     "output_type": "error",
     "traceback": [
      "\u001b[1;31m---------------------------------------------------------------------------\u001b[0m",
      "\u001b[1;31mKeyError\u001b[0m                                  Traceback (most recent call last)",
      "\u001b[1;32mC:\\ProgramData\\Anaconda3\\lib\\site-packages\\pandas\\core\\indexes\\base.py\u001b[0m in \u001b[0;36mget_loc\u001b[1;34m(self, key, method, tolerance)\u001b[0m\n\u001b[0;32m   3360\u001b[0m             \u001b[1;32mtry\u001b[0m\u001b[1;33m:\u001b[0m\u001b[1;33m\u001b[0m\u001b[1;33m\u001b[0m\u001b[0m\n\u001b[1;32m-> 3361\u001b[1;33m                 \u001b[1;32mreturn\u001b[0m \u001b[0mself\u001b[0m\u001b[1;33m.\u001b[0m\u001b[0m_engine\u001b[0m\u001b[1;33m.\u001b[0m\u001b[0mget_loc\u001b[0m\u001b[1;33m(\u001b[0m\u001b[0mcasted_key\u001b[0m\u001b[1;33m)\u001b[0m\u001b[1;33m\u001b[0m\u001b[1;33m\u001b[0m\u001b[0m\n\u001b[0m\u001b[0;32m   3362\u001b[0m             \u001b[1;32mexcept\u001b[0m \u001b[0mKeyError\u001b[0m \u001b[1;32mas\u001b[0m \u001b[0merr\u001b[0m\u001b[1;33m:\u001b[0m\u001b[1;33m\u001b[0m\u001b[1;33m\u001b[0m\u001b[0m\n",
      "\u001b[1;32mC:\\ProgramData\\Anaconda3\\lib\\site-packages\\pandas\\_libs\\index.pyx\u001b[0m in \u001b[0;36mpandas._libs.index.IndexEngine.get_loc\u001b[1;34m()\u001b[0m\n",
      "\u001b[1;32mC:\\ProgramData\\Anaconda3\\lib\\site-packages\\pandas\\_libs\\index.pyx\u001b[0m in \u001b[0;36mpandas._libs.index.IndexEngine.get_loc\u001b[1;34m()\u001b[0m\n",
      "\u001b[1;32mpandas\\_libs\\hashtable_class_helper.pxi\u001b[0m in \u001b[0;36mpandas._libs.hashtable.PyObjectHashTable.get_item\u001b[1;34m()\u001b[0m\n",
      "\u001b[1;32mpandas\\_libs\\hashtable_class_helper.pxi\u001b[0m in \u001b[0;36mpandas._libs.hashtable.PyObjectHashTable.get_item\u001b[1;34m()\u001b[0m\n",
      "\u001b[1;31mKeyError\u001b[0m: 'item_avg_item_price'",
      "\nThe above exception was the direct cause of the following exception:\n",
      "\u001b[1;31mKeyError\u001b[0m                                  Traceback (most recent call last)",
      "\u001b[1;32m~\\AppData\\Local\\Temp/ipykernel_5580/2368865370.py\u001b[0m in \u001b[0;36m<module>\u001b[1;34m\u001b[0m\n\u001b[0;32m      1\u001b[0m \u001b[0mmatrix\u001b[0m \u001b[1;33m=\u001b[0m \u001b[0mpd\u001b[0m\u001b[1;33m.\u001b[0m\u001b[0mmerge\u001b[0m\u001b[1;33m(\u001b[0m\u001b[0mmatrix\u001b[0m\u001b[1;33m,\u001b[0m \u001b[0mgroup\u001b[0m\u001b[1;33m,\u001b[0m \u001b[0mon\u001b[0m\u001b[1;33m=\u001b[0m\u001b[1;33m[\u001b[0m\u001b[1;34m'item_id'\u001b[0m\u001b[1;33m]\u001b[0m\u001b[1;33m,\u001b[0m \u001b[0mhow\u001b[0m\u001b[1;33m=\u001b[0m\u001b[1;34m'left'\u001b[0m\u001b[1;33m)\u001b[0m\u001b[1;33m\u001b[0m\u001b[1;33m\u001b[0m\u001b[0m\n\u001b[1;32m----> 2\u001b[1;33m \u001b[0mmatrix\u001b[0m\u001b[1;33m[\u001b[0m\u001b[1;34m'item_avg_item_price'\u001b[0m\u001b[1;33m]\u001b[0m \u001b[1;33m=\u001b[0m \u001b[0mmatrix\u001b[0m\u001b[1;33m[\u001b[0m\u001b[1;34m'item_avg_item_price'\u001b[0m\u001b[1;33m]\u001b[0m\u001b[1;33m.\u001b[0m\u001b[0mastype\u001b[0m\u001b[1;33m(\u001b[0m\u001b[0mnp\u001b[0m\u001b[1;33m.\u001b[0m\u001b[0mfloat16\u001b[0m\u001b[1;33m)\u001b[0m\u001b[1;33m\u001b[0m\u001b[1;33m\u001b[0m\u001b[0m\n\u001b[0m\u001b[0;32m      3\u001b[0m \u001b[0mmatrix\u001b[0m\u001b[1;33m.\u001b[0m\u001b[0mhead\u001b[0m\u001b[1;33m(\u001b[0m\u001b[1;33m)\u001b[0m\u001b[1;33m\u001b[0m\u001b[1;33m\u001b[0m\u001b[0m\n",
      "\u001b[1;32mC:\\ProgramData\\Anaconda3\\lib\\site-packages\\pandas\\core\\frame.py\u001b[0m in \u001b[0;36m__getitem__\u001b[1;34m(self, key)\u001b[0m\n\u001b[0;32m   3456\u001b[0m             \u001b[1;32mif\u001b[0m \u001b[0mself\u001b[0m\u001b[1;33m.\u001b[0m\u001b[0mcolumns\u001b[0m\u001b[1;33m.\u001b[0m\u001b[0mnlevels\u001b[0m \u001b[1;33m>\u001b[0m \u001b[1;36m1\u001b[0m\u001b[1;33m:\u001b[0m\u001b[1;33m\u001b[0m\u001b[1;33m\u001b[0m\u001b[0m\n\u001b[0;32m   3457\u001b[0m                 \u001b[1;32mreturn\u001b[0m \u001b[0mself\u001b[0m\u001b[1;33m.\u001b[0m\u001b[0m_getitem_multilevel\u001b[0m\u001b[1;33m(\u001b[0m\u001b[0mkey\u001b[0m\u001b[1;33m)\u001b[0m\u001b[1;33m\u001b[0m\u001b[1;33m\u001b[0m\u001b[0m\n\u001b[1;32m-> 3458\u001b[1;33m             \u001b[0mindexer\u001b[0m \u001b[1;33m=\u001b[0m \u001b[0mself\u001b[0m\u001b[1;33m.\u001b[0m\u001b[0mcolumns\u001b[0m\u001b[1;33m.\u001b[0m\u001b[0mget_loc\u001b[0m\u001b[1;33m(\u001b[0m\u001b[0mkey\u001b[0m\u001b[1;33m)\u001b[0m\u001b[1;33m\u001b[0m\u001b[1;33m\u001b[0m\u001b[0m\n\u001b[0m\u001b[0;32m   3459\u001b[0m             \u001b[1;32mif\u001b[0m \u001b[0mis_integer\u001b[0m\u001b[1;33m(\u001b[0m\u001b[0mindexer\u001b[0m\u001b[1;33m)\u001b[0m\u001b[1;33m:\u001b[0m\u001b[1;33m\u001b[0m\u001b[1;33m\u001b[0m\u001b[0m\n\u001b[0;32m   3460\u001b[0m                 \u001b[0mindexer\u001b[0m \u001b[1;33m=\u001b[0m \u001b[1;33m[\u001b[0m\u001b[0mindexer\u001b[0m\u001b[1;33m]\u001b[0m\u001b[1;33m\u001b[0m\u001b[1;33m\u001b[0m\u001b[0m\n",
      "\u001b[1;32mC:\\ProgramData\\Anaconda3\\lib\\site-packages\\pandas\\core\\indexes\\base.py\u001b[0m in \u001b[0;36mget_loc\u001b[1;34m(self, key, method, tolerance)\u001b[0m\n\u001b[0;32m   3361\u001b[0m                 \u001b[1;32mreturn\u001b[0m \u001b[0mself\u001b[0m\u001b[1;33m.\u001b[0m\u001b[0m_engine\u001b[0m\u001b[1;33m.\u001b[0m\u001b[0mget_loc\u001b[0m\u001b[1;33m(\u001b[0m\u001b[0mcasted_key\u001b[0m\u001b[1;33m)\u001b[0m\u001b[1;33m\u001b[0m\u001b[1;33m\u001b[0m\u001b[0m\n\u001b[0;32m   3362\u001b[0m             \u001b[1;32mexcept\u001b[0m \u001b[0mKeyError\u001b[0m \u001b[1;32mas\u001b[0m \u001b[0merr\u001b[0m\u001b[1;33m:\u001b[0m\u001b[1;33m\u001b[0m\u001b[1;33m\u001b[0m\u001b[0m\n\u001b[1;32m-> 3363\u001b[1;33m                 \u001b[1;32mraise\u001b[0m \u001b[0mKeyError\u001b[0m\u001b[1;33m(\u001b[0m\u001b[0mkey\u001b[0m\u001b[1;33m)\u001b[0m \u001b[1;32mfrom\u001b[0m \u001b[0merr\u001b[0m\u001b[1;33m\u001b[0m\u001b[1;33m\u001b[0m\u001b[0m\n\u001b[0m\u001b[0;32m   3364\u001b[0m \u001b[1;33m\u001b[0m\u001b[0m\n\u001b[0;32m   3365\u001b[0m         \u001b[1;32mif\u001b[0m \u001b[0mis_scalar\u001b[0m\u001b[1;33m(\u001b[0m\u001b[0mkey\u001b[0m\u001b[1;33m)\u001b[0m \u001b[1;32mand\u001b[0m \u001b[0misna\u001b[0m\u001b[1;33m(\u001b[0m\u001b[0mkey\u001b[0m\u001b[1;33m)\u001b[0m \u001b[1;32mand\u001b[0m \u001b[1;32mnot\u001b[0m \u001b[0mself\u001b[0m\u001b[1;33m.\u001b[0m\u001b[0mhasnans\u001b[0m\u001b[1;33m:\u001b[0m\u001b[1;33m\u001b[0m\u001b[1;33m\u001b[0m\u001b[0m\n",
      "\u001b[1;31mKeyError\u001b[0m: 'item_avg_item_price'"
     ]
    }
   ],
   "source": [
    "matrix = pd.merge(matrix, group, on=['item_id'], how='left')\n",
    "matrix['item_avg_item_price'] = matrix['item_avg_item_price'].astype(np.float16)\n",
    "matrix.head()"
   ]
  },
  {
   "cell_type": "markdown",
   "metadata": {},
   "source": [
    "물품별 전월 가격 평균 값을 matrix에 추가했다.\n",
    "\n",
    "다음으로 월별 물품별 가격의 평균을 계산한다."
   ]
  },
  {
   "cell_type": "code",
   "execution_count": null,
   "metadata": {},
   "outputs": [
    {
     "data": {
      "text/html": [
       "<div>\n",
       "<style scoped>\n",
       "    .dataframe tbody tr th:only-of-type {\n",
       "        vertical-align: middle;\n",
       "    }\n",
       "\n",
       "    .dataframe tbody tr th {\n",
       "        vertical-align: top;\n",
       "    }\n",
       "\n",
       "    .dataframe thead th {\n",
       "        text-align: right;\n",
       "    }\n",
       "</style>\n",
       "<table border=\"1\" class=\"dataframe\">\n",
       "  <thead>\n",
       "    <tr style=\"text-align: right;\">\n",
       "      <th></th>\n",
       "      <th>date_block_num</th>\n",
       "      <th>item_id</th>\n",
       "      <th>date_item_avg_item_price</th>\n",
       "    </tr>\n",
       "  </thead>\n",
       "  <tbody>\n",
       "    <tr>\n",
       "      <th>0</th>\n",
       "      <td>0</td>\n",
       "      <td>19</td>\n",
       "      <td>28.000000</td>\n",
       "    </tr>\n",
       "    <tr>\n",
       "      <th>1</th>\n",
       "      <td>0</td>\n",
       "      <td>27</td>\n",
       "      <td>2325.000000</td>\n",
       "    </tr>\n",
       "    <tr>\n",
       "      <th>2</th>\n",
       "      <td>0</td>\n",
       "      <td>28</td>\n",
       "      <td>549.000000</td>\n",
       "    </tr>\n",
       "    <tr>\n",
       "      <th>3</th>\n",
       "      <td>0</td>\n",
       "      <td>29</td>\n",
       "      <td>2397.500000</td>\n",
       "    </tr>\n",
       "    <tr>\n",
       "      <th>4</th>\n",
       "      <td>0</td>\n",
       "      <td>32</td>\n",
       "      <td>338.110349</td>\n",
       "    </tr>\n",
       "  </tbody>\n",
       "</table>\n",
       "</div>"
      ],
      "text/plain": [
       "   date_block_num  item_id  date_item_avg_item_price\n",
       "0               0       19                 28.000000\n",
       "1               0       27               2325.000000\n",
       "2               0       28                549.000000\n",
       "3               0       29               2397.500000\n",
       "4               0       32                338.110349"
      ]
     },
     "execution_count": 619,
     "metadata": {},
     "output_type": "execute_result"
    }
   ],
   "source": [
    "# 월별로 물품별 가격의 평균을 계산한다.\n",
    "group = df_train.groupby(['date_block_num', 'item_id']).agg({'item_price': ['mean']})\n",
    "group.columns = ['date_item_avg_item_price']\n",
    "group.reset_index(inplace=True)\n",
    "group.head()"
   ]
  },
  {
   "cell_type": "code",
   "execution_count": 624,
   "metadata": {},
   "outputs": [
    {
     "ename": "KeyError",
     "evalue": "'date_block_num'",
     "output_type": "error",
     "traceback": [
      "\u001b[1;31m---------------------------------------------------------------------------\u001b[0m",
      "\u001b[1;31mKeyError\u001b[0m                                  Traceback (most recent call last)",
      "\u001b[1;32m~\\AppData\\Local\\Temp/ipykernel_5580/2636069813.py\u001b[0m in \u001b[0;36m<module>\u001b[1;34m\u001b[0m\n\u001b[1;32m----> 1\u001b[1;33m \u001b[0mmatrix\u001b[0m \u001b[1;33m=\u001b[0m \u001b[0mpd\u001b[0m\u001b[1;33m.\u001b[0m\u001b[0mmerge\u001b[0m\u001b[1;33m(\u001b[0m\u001b[0mmatrix\u001b[0m\u001b[1;33m,\u001b[0m \u001b[0mgroup\u001b[0m\u001b[1;33m,\u001b[0m \u001b[0mon\u001b[0m\u001b[1;33m=\u001b[0m\u001b[1;33m[\u001b[0m\u001b[1;34m'date_block_num'\u001b[0m\u001b[1;33m,\u001b[0m \u001b[1;34m'item_id'\u001b[0m\u001b[1;33m]\u001b[0m\u001b[1;33m,\u001b[0m \u001b[0mhow\u001b[0m\u001b[1;33m=\u001b[0m\u001b[1;34m'left'\u001b[0m\u001b[1;33m)\u001b[0m\u001b[1;33m\u001b[0m\u001b[1;33m\u001b[0m\u001b[0m\n\u001b[0m\u001b[0;32m      2\u001b[0m \u001b[0mmatrix\u001b[0m\u001b[1;33m[\u001b[0m\u001b[1;34m'date_item_avg_item_price'\u001b[0m\u001b[1;33m]\u001b[0m \u001b[1;33m=\u001b[0m \u001b[0mmatrix\u001b[0m\u001b[1;33m[\u001b[0m\u001b[1;34m'date_item_avg_item_price'\u001b[0m\u001b[1;33m]\u001b[0m\u001b[1;33m.\u001b[0m\u001b[0mastype\u001b[0m\u001b[1;33m(\u001b[0m\u001b[0mnp\u001b[0m\u001b[1;33m.\u001b[0m\u001b[0mfloat16\u001b[0m\u001b[1;33m)\u001b[0m\u001b[1;33m\u001b[0m\u001b[1;33m\u001b[0m\u001b[0m\n\u001b[0;32m      3\u001b[0m \u001b[0mmatrix\u001b[0m\u001b[1;33m.\u001b[0m\u001b[0mhead\u001b[0m\u001b[1;33m(\u001b[0m\u001b[1;33m)\u001b[0m\u001b[1;33m\u001b[0m\u001b[1;33m\u001b[0m\u001b[0m\n",
      "\u001b[1;32mC:\\ProgramData\\Anaconda3\\lib\\site-packages\\pandas\\core\\reshape\\merge.py\u001b[0m in \u001b[0;36mmerge\u001b[1;34m(left, right, how, on, left_on, right_on, left_index, right_index, sort, suffixes, copy, indicator, validate)\u001b[0m\n\u001b[0;32m    104\u001b[0m     \u001b[0mvalidate\u001b[0m\u001b[1;33m:\u001b[0m \u001b[0mstr\u001b[0m \u001b[1;33m|\u001b[0m \u001b[1;32mNone\u001b[0m \u001b[1;33m=\u001b[0m \u001b[1;32mNone\u001b[0m\u001b[1;33m,\u001b[0m\u001b[1;33m\u001b[0m\u001b[1;33m\u001b[0m\u001b[0m\n\u001b[0;32m    105\u001b[0m ) -> DataFrame:\n\u001b[1;32m--> 106\u001b[1;33m     op = _MergeOperation(\n\u001b[0m\u001b[0;32m    107\u001b[0m         \u001b[0mleft\u001b[0m\u001b[1;33m,\u001b[0m\u001b[1;33m\u001b[0m\u001b[1;33m\u001b[0m\u001b[0m\n\u001b[0;32m    108\u001b[0m         \u001b[0mright\u001b[0m\u001b[1;33m,\u001b[0m\u001b[1;33m\u001b[0m\u001b[1;33m\u001b[0m\u001b[0m\n",
      "\u001b[1;32mC:\\ProgramData\\Anaconda3\\lib\\site-packages\\pandas\\core\\reshape\\merge.py\u001b[0m in \u001b[0;36m__init__\u001b[1;34m(self, left, right, how, on, left_on, right_on, axis, left_index, right_index, sort, suffixes, copy, indicator, validate)\u001b[0m\n\u001b[0;32m    697\u001b[0m             \u001b[0mself\u001b[0m\u001b[1;33m.\u001b[0m\u001b[0mright_join_keys\u001b[0m\u001b[1;33m,\u001b[0m\u001b[1;33m\u001b[0m\u001b[1;33m\u001b[0m\u001b[0m\n\u001b[0;32m    698\u001b[0m             \u001b[0mself\u001b[0m\u001b[1;33m.\u001b[0m\u001b[0mjoin_names\u001b[0m\u001b[1;33m,\u001b[0m\u001b[1;33m\u001b[0m\u001b[1;33m\u001b[0m\u001b[0m\n\u001b[1;32m--> 699\u001b[1;33m         ) = self._get_merge_keys()\n\u001b[0m\u001b[0;32m    700\u001b[0m \u001b[1;33m\u001b[0m\u001b[0m\n\u001b[0;32m    701\u001b[0m         \u001b[1;31m# validate the merge keys dtypes. We may need to coerce\u001b[0m\u001b[1;33m\u001b[0m\u001b[1;33m\u001b[0m\u001b[0m\n",
      "\u001b[1;32mC:\\ProgramData\\Anaconda3\\lib\\site-packages\\pandas\\core\\reshape\\merge.py\u001b[0m in \u001b[0;36m_get_merge_keys\u001b[1;34m(self)\u001b[0m\n\u001b[0;32m   1094\u001b[0m                     \u001b[1;32mif\u001b[0m \u001b[1;32mnot\u001b[0m \u001b[0mis_rkey\u001b[0m\u001b[1;33m(\u001b[0m\u001b[0mrk\u001b[0m\u001b[1;33m)\u001b[0m\u001b[1;33m:\u001b[0m\u001b[1;33m\u001b[0m\u001b[1;33m\u001b[0m\u001b[0m\n\u001b[0;32m   1095\u001b[0m                         \u001b[1;32mif\u001b[0m \u001b[0mrk\u001b[0m \u001b[1;32mis\u001b[0m \u001b[1;32mnot\u001b[0m \u001b[1;32mNone\u001b[0m\u001b[1;33m:\u001b[0m\u001b[1;33m\u001b[0m\u001b[1;33m\u001b[0m\u001b[0m\n\u001b[1;32m-> 1096\u001b[1;33m                             \u001b[0mright_keys\u001b[0m\u001b[1;33m.\u001b[0m\u001b[0mappend\u001b[0m\u001b[1;33m(\u001b[0m\u001b[0mright\u001b[0m\u001b[1;33m.\u001b[0m\u001b[0m_get_label_or_level_values\u001b[0m\u001b[1;33m(\u001b[0m\u001b[0mrk\u001b[0m\u001b[1;33m)\u001b[0m\u001b[1;33m)\u001b[0m\u001b[1;33m\u001b[0m\u001b[1;33m\u001b[0m\u001b[0m\n\u001b[0m\u001b[0;32m   1097\u001b[0m                         \u001b[1;32melse\u001b[0m\u001b[1;33m:\u001b[0m\u001b[1;33m\u001b[0m\u001b[1;33m\u001b[0m\u001b[0m\n\u001b[0;32m   1098\u001b[0m                             \u001b[1;31m# work-around for merge_asof(right_index=True)\u001b[0m\u001b[1;33m\u001b[0m\u001b[1;33m\u001b[0m\u001b[0m\n",
      "\u001b[1;32mC:\\ProgramData\\Anaconda3\\lib\\site-packages\\pandas\\core\\generic.py\u001b[0m in \u001b[0;36m_get_label_or_level_values\u001b[1;34m(self, key, axis)\u001b[0m\n\u001b[0;32m   1777\u001b[0m             \u001b[0mvalues\u001b[0m \u001b[1;33m=\u001b[0m \u001b[0mself\u001b[0m\u001b[1;33m.\u001b[0m\u001b[0maxes\u001b[0m\u001b[1;33m[\u001b[0m\u001b[0maxis\u001b[0m\u001b[1;33m]\u001b[0m\u001b[1;33m.\u001b[0m\u001b[0mget_level_values\u001b[0m\u001b[1;33m(\u001b[0m\u001b[0mkey\u001b[0m\u001b[1;33m)\u001b[0m\u001b[1;33m.\u001b[0m\u001b[0m_values\u001b[0m\u001b[1;33m\u001b[0m\u001b[1;33m\u001b[0m\u001b[0m\n\u001b[0;32m   1778\u001b[0m         \u001b[1;32melse\u001b[0m\u001b[1;33m:\u001b[0m\u001b[1;33m\u001b[0m\u001b[1;33m\u001b[0m\u001b[0m\n\u001b[1;32m-> 1779\u001b[1;33m             \u001b[1;32mraise\u001b[0m \u001b[0mKeyError\u001b[0m\u001b[1;33m(\u001b[0m\u001b[0mkey\u001b[0m\u001b[1;33m)\u001b[0m\u001b[1;33m\u001b[0m\u001b[1;33m\u001b[0m\u001b[0m\n\u001b[0m\u001b[0;32m   1780\u001b[0m \u001b[1;33m\u001b[0m\u001b[0m\n\u001b[0;32m   1781\u001b[0m         \u001b[1;31m# Check for duplicates\u001b[0m\u001b[1;33m\u001b[0m\u001b[1;33m\u001b[0m\u001b[0m\n",
      "\u001b[1;31mKeyError\u001b[0m: 'date_block_num'"
     ]
    }
   ],
   "source": [
    "matrix = pd.merge(matrix, group, on=['date_block_num', 'item_id'], how='left')\n",
    "matrix['date_item_avg_item_price'] = matrix['date_item_avg_item_price'].astype(np.float16)\n",
    "matrix.head()"
   ]
  },
  {
   "cell_type": "markdown",
   "metadata": {},
   "source": [
    "물품별 전월 가격 평균 값을 matrix에 추가했다.\n",
    "\n",
    "다음으로 **전월 평균 대비 월별 평균 백분율**(<u>평균대비 변동량</u>)을 계산해서 넣어주고자 한다. 3개월 간의 가격 변동량을 확인한다.\n",
    "\n",
    " 해당 코드는 바로 위 두 코드블럭을 사용하고 matrix에 적용하였기 때문에 따로 merge를 해주지 않아도 된다."
   ]
  },
  {
   "cell_type": "code",
   "execution_count": null,
   "metadata": {},
   "outputs": [
    {
     "name": "stdout",
     "output_type": "stream",
     "text": [
      "<class 'pandas.core.frame.DataFrame'>\n",
      "Int64Index: 1609124 entries, 0 to 1609123\n",
      "Data columns (total 13 columns):\n",
      " #   Column                          Non-Null Count    Dtype  \n",
      "---  ------                          --------------    -----  \n",
      " 0   date_block_num                  1609124 non-null  int64  \n",
      " 1   shop_id                         1609124 non-null  int64  \n",
      " 2   item_id                         1609124 non-null  int64  \n",
      " 3   item_cnt_month                  1609124 non-null  float64\n",
      " 4   item_price                      1609124 non-null  float64\n",
      " 5   item_avg_item_price             1609124 non-null  float16\n",
      " 6   date_item_avg_item_price        1609124 non-null  float16\n",
      " 7   date_item_avg_item_price_lag_1  1609124 non-null  float16\n",
      " 8   date_item_avg_item_price_lag_2  1609124 non-null  float16\n",
      " 9   date_item_avg_item_price_lag_3  1609124 non-null  float16\n",
      " 10  delta_price_lag_1               1609124 non-null  float16\n",
      " 11  delta_price_lag_2               1609124 non-null  float16\n",
      " 12  delta_price_lag_3               1609124 non-null  float16\n",
      "dtypes: float16(8), float64(2), int64(3)\n",
      "memory usage: 98.2 MB\n"
     ]
    }
   ],
   "source": [
    "lags = [1, 2, 3]\n",
    "matrix = lag_feature(matrix, lags, 'date_item_avg_item_price')\n",
    "for lag in lags:\n",
    "    matrix['delta_price_lag_'+str(lag)] = \\\n",
    "    (matrix['date_item_avg_item_price_lag_'+str(lag)] - matrix['item_avg_item_price']) / matrix['item_avg_item_price']\n",
    "matrix.info()"
   ]
  },
  {
   "cell_type": "markdown",
   "metadata": {},
   "source": [
    "### 4. 기타 feature 추가"
   ]
  },
  {
   "cell_type": "markdown",
   "metadata": {},
   "source": [
    "#### A. 월(month)"
   ]
  },
  {
   "cell_type": "code",
   "execution_count": 625,
   "metadata": {},
   "outputs": [
    {
     "data": {
      "text/html": [
       "<div>\n",
       "<style scoped>\n",
       "    .dataframe tbody tr th:only-of-type {\n",
       "        vertical-align: middle;\n",
       "    }\n",
       "\n",
       "    .dataframe tbody tr th {\n",
       "        vertical-align: top;\n",
       "    }\n",
       "\n",
       "    .dataframe thead th {\n",
       "        text-align: right;\n",
       "    }\n",
       "</style>\n",
       "<table border=\"1\" class=\"dataframe\">\n",
       "  <thead>\n",
       "    <tr style=\"text-align: right;\">\n",
       "      <th></th>\n",
       "      <th>date_block_num</th>\n",
       "      <th>shop_id</th>\n",
       "      <th>item_id</th>\n",
       "      <th>item_cnt_month</th>\n",
       "      <th>item_price</th>\n",
       "      <th>item_avg_item_price_x</th>\n",
       "      <th>date_item_avg_item_price</th>\n",
       "      <th>date_item_avg_item_price_lag_1</th>\n",
       "      <th>date_item_avg_item_price_lag_2</th>\n",
       "      <th>date_item_avg_item_price_lag_3</th>\n",
       "      <th>delta_price_lag_1</th>\n",
       "      <th>delta_price_lag_2</th>\n",
       "      <th>delta_price_lag_3</th>\n",
       "      <th>item_avg_item_price_y</th>\n",
       "      <th>month</th>\n",
       "    </tr>\n",
       "  </thead>\n",
       "  <tbody>\n",
       "    <tr>\n",
       "      <th>0</th>\n",
       "      <td>0</td>\n",
       "      <td>0</td>\n",
       "      <td>32</td>\n",
       "      <td>6.0</td>\n",
       "      <td>221.0</td>\n",
       "      <td>249.625</td>\n",
       "      <td>338.00</td>\n",
       "      <td>0.0</td>\n",
       "      <td>0.0</td>\n",
       "      <td>0.0</td>\n",
       "      <td>0.0</td>\n",
       "      <td>0.0</td>\n",
       "      <td>0.0</td>\n",
       "      <td>249.629240</td>\n",
       "      <td>0</td>\n",
       "    </tr>\n",
       "    <tr>\n",
       "      <th>1</th>\n",
       "      <td>0</td>\n",
       "      <td>0</td>\n",
       "      <td>33</td>\n",
       "      <td>3.0</td>\n",
       "      <td>347.0</td>\n",
       "      <td>252.875</td>\n",
       "      <td>488.50</td>\n",
       "      <td>0.0</td>\n",
       "      <td>0.0</td>\n",
       "      <td>0.0</td>\n",
       "      <td>0.0</td>\n",
       "      <td>0.0</td>\n",
       "      <td>0.0</td>\n",
       "      <td>252.831928</td>\n",
       "      <td>0</td>\n",
       "    </tr>\n",
       "    <tr>\n",
       "      <th>2</th>\n",
       "      <td>0</td>\n",
       "      <td>0</td>\n",
       "      <td>35</td>\n",
       "      <td>1.0</td>\n",
       "      <td>247.0</td>\n",
       "      <td>375.750</td>\n",
       "      <td>390.75</td>\n",
       "      <td>0.0</td>\n",
       "      <td>0.0</td>\n",
       "      <td>0.0</td>\n",
       "      <td>0.0</td>\n",
       "      <td>0.0</td>\n",
       "      <td>0.0</td>\n",
       "      <td>375.828056</td>\n",
       "      <td>0</td>\n",
       "    </tr>\n",
       "    <tr>\n",
       "      <th>3</th>\n",
       "      <td>0</td>\n",
       "      <td>0</td>\n",
       "      <td>43</td>\n",
       "      <td>1.0</td>\n",
       "      <td>221.0</td>\n",
       "      <td>167.250</td>\n",
       "      <td>234.50</td>\n",
       "      <td>0.0</td>\n",
       "      <td>0.0</td>\n",
       "      <td>0.0</td>\n",
       "      <td>0.0</td>\n",
       "      <td>0.0</td>\n",
       "      <td>0.0</td>\n",
       "      <td>167.222222</td>\n",
       "      <td>0</td>\n",
       "    </tr>\n",
       "    <tr>\n",
       "      <th>4</th>\n",
       "      <td>0</td>\n",
       "      <td>0</td>\n",
       "      <td>51</td>\n",
       "      <td>2.0</td>\n",
       "      <td>128.5</td>\n",
       "      <td>265.750</td>\n",
       "      <td>230.50</td>\n",
       "      <td>0.0</td>\n",
       "      <td>0.0</td>\n",
       "      <td>0.0</td>\n",
       "      <td>0.0</td>\n",
       "      <td>0.0</td>\n",
       "      <td>0.0</td>\n",
       "      <td>265.708333</td>\n",
       "      <td>0</td>\n",
       "    </tr>\n",
       "  </tbody>\n",
       "</table>\n",
       "</div>"
      ],
      "text/plain": [
       "   date_block_num  shop_id  item_id  item_cnt_month  item_price  \\\n",
       "0               0        0       32             6.0       221.0   \n",
       "1               0        0       33             3.0       347.0   \n",
       "2               0        0       35             1.0       247.0   \n",
       "3               0        0       43             1.0       221.0   \n",
       "4               0        0       51             2.0       128.5   \n",
       "\n",
       "   item_avg_item_price_x  date_item_avg_item_price  \\\n",
       "0                249.625                    338.00   \n",
       "1                252.875                    488.50   \n",
       "2                375.750                    390.75   \n",
       "3                167.250                    234.50   \n",
       "4                265.750                    230.50   \n",
       "\n",
       "   date_item_avg_item_price_lag_1  date_item_avg_item_price_lag_2  \\\n",
       "0                             0.0                             0.0   \n",
       "1                             0.0                             0.0   \n",
       "2                             0.0                             0.0   \n",
       "3                             0.0                             0.0   \n",
       "4                             0.0                             0.0   \n",
       "\n",
       "   date_item_avg_item_price_lag_3  delta_price_lag_1  delta_price_lag_2  \\\n",
       "0                             0.0                0.0                0.0   \n",
       "1                             0.0                0.0                0.0   \n",
       "2                             0.0                0.0                0.0   \n",
       "3                             0.0                0.0                0.0   \n",
       "4                             0.0                0.0                0.0   \n",
       "\n",
       "   delta_price_lag_3  item_avg_item_price_y  month  \n",
       "0                0.0             249.629240      0  \n",
       "1                0.0             252.831928      0  \n",
       "2                0.0             375.828056      0  \n",
       "3                0.0             167.222222      0  \n",
       "4                0.0             265.708333      0  "
      ]
     },
     "execution_count": 625,
     "metadata": {},
     "output_type": "execute_result"
    }
   ],
   "source": [
    "matrix['month'] = matrix['date_block_num'] % 12\n",
    "matrix.head()"
   ]
  },
  {
   "cell_type": "markdown",
   "metadata": {},
   "source": [
    "### 데이터 정제"
   ]
  },
  {
   "cell_type": "markdown",
   "metadata": {},
   "source": [
    "#### 전체 데이터 merge"
   ]
  },
  {
   "cell_type": "markdown",
   "metadata": {},
   "source": [
    "기존 병합 데이터 테이블과 새로 생성한 Features 전체를 merge 한다."
   ]
  },
  {
   "cell_type": "code",
   "execution_count": 539,
   "metadata": {},
   "outputs": [
    {
     "name": "stdout",
     "output_type": "stream",
     "text": [
      "<class 'pandas.core.frame.DataFrame'>\n",
      "Int64Index: 1609124 entries, 0 to 1609123\n",
      "Data columns (total 17 columns):\n",
      " #   Column                          Non-Null Count    Dtype  \n",
      "---  ------                          --------------    -----  \n",
      " 0   date_block_num                  1609124 non-null  int64  \n",
      " 1   shop_id                         1609124 non-null  int64  \n",
      " 2   item_id                         1609124 non-null  int64  \n",
      " 3   item_cnt_month                  1609124 non-null  float64\n",
      " 4   item_price                      1609124 non-null  float64\n",
      " 5   item_avg_item_price             1609124 non-null  float16\n",
      " 6   date_item_avg_item_price        1609124 non-null  float16\n",
      " 7   date_item_avg_item_price_lag_1  1609124 non-null  float16\n",
      " 8   date_item_avg_item_price_lag_2  1609124 non-null  float16\n",
      " 9   date_item_avg_item_price_lag_3  1609124 non-null  float16\n",
      " 10  delta_price_lag_1               1609124 non-null  float16\n",
      " 11  delta_price_lag_2               1609124 non-null  float16\n",
      " 12  delta_price_lag_3               1609124 non-null  float16\n",
      " 13  month                           1609124 non-null  int64  \n",
      " 14  item_cnt_month_lag_1            1609124 non-null  float64\n",
      " 15  item_cnt_month_lag_2            1609124 non-null  float64\n",
      " 16  item_cnt_month_lag_3            1609124 non-null  float64\n",
      "dtypes: float16(8), float64(5), int64(4)\n",
      "memory usage: 147.3 MB\n"
     ]
    }
   ],
   "source": [
    "## lag 데이터\n",
    "tmatrix = pd.merge(matrix, matrix_item_lag, how='inner', \n",
    "                   left_on=['date_block_num','shop_id','item_id'],\n",
    "                   right_on=['date_block_num','shop_id','item_id'])\n",
    "tmatrix.info()"
   ]
  },
  {
   "cell_type": "code",
   "execution_count": 540,
   "metadata": {},
   "outputs": [
    {
     "name": "stdout",
     "output_type": "stream",
     "text": [
      "<class 'pandas.core.frame.DataFrame'>\n",
      "Int64Index: 1609124 entries, 0 to 1609123\n",
      "Data columns (total 20 columns):\n",
      " #   Column                          Non-Null Count    Dtype  \n",
      "---  ------                          --------------    -----  \n",
      " 0   date_block_num                  1609124 non-null  int64  \n",
      " 1   shop_id                         1609124 non-null  int64  \n",
      " 2   item_id                         1609124 non-null  int64  \n",
      " 3   item_cnt_month                  1609124 non-null  float64\n",
      " 4   item_price                      1609124 non-null  float64\n",
      " 5   item_avg_item_price             1609124 non-null  float16\n",
      " 6   date_item_avg_item_price        1609124 non-null  float16\n",
      " 7   date_item_avg_item_price_lag_1  1609124 non-null  float16\n",
      " 8   date_item_avg_item_price_lag_2  1609124 non-null  float16\n",
      " 9   date_item_avg_item_price_lag_3  1609124 non-null  float16\n",
      " 10  delta_price_lag_1               1609124 non-null  float16\n",
      " 11  delta_price_lag_2               1609124 non-null  float16\n",
      " 12  delta_price_lag_3               1609124 non-null  float16\n",
      " 13  month                           1609124 non-null  int64  \n",
      " 14  item_cnt_month_lag_1            1609124 non-null  float64\n",
      " 15  item_cnt_month_lag_2            1609124 non-null  float64\n",
      " 16  item_cnt_month_lag_3            1609124 non-null  float64\n",
      " 17  item_price_lag_1                1609124 non-null  float64\n",
      " 18  item_price_lag_2                1609124 non-null  float64\n",
      " 19  item_price_lag_3                1609124 non-null  float64\n",
      "dtypes: float16(8), float64(8), int64(4)\n",
      "memory usage: 184.1 MB\n"
     ]
    }
   ],
   "source": [
    "tmatrix = pd.merge(tmatrix, matrix_price_lag, how='inner', \n",
    "                   left_on=['date_block_num','shop_id','item_id'],\n",
    "                   right_on=['date_block_num','shop_id','item_id'])\n",
    "tmatrix.info()"
   ]
  },
  {
   "cell_type": "code",
   "execution_count": 541,
   "metadata": {},
   "outputs": [
    {
     "name": "stdout",
     "output_type": "stream",
     "text": [
      "<class 'pandas.core.frame.DataFrame'>\n",
      "Int64Index: 1609124 entries, 0 to 1609123\n",
      "Data columns (total 27 columns):\n",
      " #   Column                          Non-Null Count    Dtype  \n",
      "---  ------                          --------------    -----  \n",
      " 0   date_block_num                  1609124 non-null  int64  \n",
      " 1   shop_id                         1609124 non-null  int64  \n",
      " 2   item_id                         1609124 non-null  int64  \n",
      " 3   item_cnt_month                  1609124 non-null  float64\n",
      " 4   item_price                      1609124 non-null  float64\n",
      " 5   item_avg_item_price             1609124 non-null  float16\n",
      " 6   date_item_avg_item_price        1609124 non-null  float16\n",
      " 7   date_item_avg_item_price_lag_1  1609124 non-null  float16\n",
      " 8   date_item_avg_item_price_lag_2  1609124 non-null  float16\n",
      " 9   date_item_avg_item_price_lag_3  1609124 non-null  float16\n",
      " 10  delta_price_lag_1               1609124 non-null  float16\n",
      " 11  delta_price_lag_2               1609124 non-null  float16\n",
      " 12  delta_price_lag_3               1609124 non-null  float16\n",
      " 13  month                           1609124 non-null  int64  \n",
      " 14  item_cnt_month_lag_1            1609124 non-null  float64\n",
      " 15  item_cnt_month_lag_2            1609124 non-null  float64\n",
      " 16  item_cnt_month_lag_3            1609124 non-null  float64\n",
      " 17  item_price_lag_1                1609124 non-null  float64\n",
      " 18  item_price_lag_2                1609124 non-null  float64\n",
      " 19  item_price_lag_3                1609124 non-null  float64\n",
      " 20  capital                         1609124 non-null  uint8  \n",
      " 21  non_capital                     1609124 non-null  uint8  \n",
      " 22  city_etc                        1609124 non-null  uint8  \n",
      " 23  shopping_mall                   1609124 non-null  uint8  \n",
      " 24  online_mall                     1609124 non-null  uint8  \n",
      " 25  computer_mall                   1609124 non-null  uint8  \n",
      " 26  type_etc                        1609124 non-null  uint8  \n",
      "dtypes: float16(8), float64(8), int64(4), uint8(7)\n",
      "memory usage: 194.9 MB\n"
     ]
    }
   ],
   "source": [
    "# shp_city, shp_type 데이터\n",
    "group = df_shops[['shop_id', 'capital', 'non_capital', 'city_etc', \n",
    "                  'shopping_mall', 'online_mall', 'computer_mall', 'type_etc']]\n",
    "tmatrix = pd.merge(tmatrix, group, how='inner', left_on=['shop_id'], right_on=['shop_id'])\n",
    "tmatrix.info()"
   ]
  },
  {
   "cell_type": "code",
   "execution_count": 542,
   "metadata": {},
   "outputs": [
    {
     "name": "stdout",
     "output_type": "stream",
     "text": [
      "<class 'pandas.core.frame.DataFrame'>\n",
      "Int64Index: 1421988 entries, 9583 to 1609123\n",
      "Data columns (total 27 columns):\n",
      " #   Column                          Non-Null Count    Dtype  \n",
      "---  ------                          --------------    -----  \n",
      " 0   date_block_num                  1421988 non-null  int64  \n",
      " 1   shop_id                         1421988 non-null  int64  \n",
      " 2   item_id                         1421988 non-null  int64  \n",
      " 3   item_cnt_month                  1421988 non-null  float64\n",
      " 4   item_price                      1421988 non-null  float64\n",
      " 5   item_avg_item_price             1421988 non-null  float16\n",
      " 6   date_item_avg_item_price        1421988 non-null  float16\n",
      " 7   date_item_avg_item_price_lag_1  1421988 non-null  float16\n",
      " 8   date_item_avg_item_price_lag_2  1421988 non-null  float16\n",
      " 9   date_item_avg_item_price_lag_3  1421988 non-null  float16\n",
      " 10  delta_price_lag_1               1421988 non-null  float16\n",
      " 11  delta_price_lag_2               1421988 non-null  float16\n",
      " 12  delta_price_lag_3               1421988 non-null  float16\n",
      " 13  month                           1421988 non-null  int64  \n",
      " 14  item_cnt_month_lag_1            1421988 non-null  float64\n",
      " 15  item_cnt_month_lag_2            1421988 non-null  float64\n",
      " 16  item_cnt_month_lag_3            1421988 non-null  float64\n",
      " 17  item_price_lag_1                1421988 non-null  float64\n",
      " 18  item_price_lag_2                1421988 non-null  float64\n",
      " 19  item_price_lag_3                1421988 non-null  float64\n",
      " 20  capital                         1421988 non-null  uint8  \n",
      " 21  non_capital                     1421988 non-null  uint8  \n",
      " 22  city_etc                        1421988 non-null  uint8  \n",
      " 23  shopping_mall                   1421988 non-null  uint8  \n",
      " 24  online_mall                     1421988 non-null  uint8  \n",
      " 25  computer_mall                   1421988 non-null  uint8  \n",
      " 26  type_etc                        1421988 non-null  uint8  \n",
      "dtypes: float16(8), float64(8), int64(4), uint8(7)\n",
      "memory usage: 172.2 MB\n"
     ]
    }
   ],
   "source": [
    "# 3개월 데이터 제거\n",
    "tmatrix = tmatrix[tmatrix.date_block_num > 2]\n",
    "tmatrix.info()"
   ]
  },
  {
   "cell_type": "code",
   "execution_count": 543,
   "metadata": {},
   "outputs": [
    {
     "name": "stdout",
     "output_type": "stream",
     "text": [
      "<class 'pandas.core.frame.DataFrame'>\n",
      "Int64Index: 1421988 entries, 9583 to 1609123\n",
      "Data columns (total 27 columns):\n",
      " #   Column                          Non-Null Count    Dtype  \n",
      "---  ------                          --------------    -----  \n",
      " 0   capital                         1421988 non-null  uint8  \n",
      " 1   city_etc                        1421988 non-null  uint8  \n",
      " 2   computer_mall                   1421988 non-null  uint8  \n",
      " 3   date_block_num                  1421988 non-null  int64  \n",
      " 4   date_item_avg_item_price        1421988 non-null  float16\n",
      " 5   date_item_avg_item_price_lag_1  1421988 non-null  float16\n",
      " 6   date_item_avg_item_price_lag_2  1421988 non-null  float16\n",
      " 7   date_item_avg_item_price_lag_3  1421988 non-null  float16\n",
      " 8   delta_price_lag_1               1421988 non-null  float16\n",
      " 9   delta_price_lag_2               1421988 non-null  float16\n",
      " 10  delta_price_lag_3               1421988 non-null  float16\n",
      " 11  item_avg_item_price             1421988 non-null  float16\n",
      " 12  item_cnt_month                  1421988 non-null  float64\n",
      " 13  item_cnt_month_lag_1            1421988 non-null  float64\n",
      " 14  item_cnt_month_lag_2            1421988 non-null  float64\n",
      " 15  item_cnt_month_lag_3            1421988 non-null  float64\n",
      " 16  item_id                         1421988 non-null  int64  \n",
      " 17  item_price                      1421988 non-null  float64\n",
      " 18  item_price_lag_1                1421988 non-null  float64\n",
      " 19  item_price_lag_2                1421988 non-null  float64\n",
      " 20  item_price_lag_3                1421988 non-null  float64\n",
      " 21  month                           1421988 non-null  int64  \n",
      " 22  non_capital                     1421988 non-null  uint8  \n",
      " 23  online_mall                     1421988 non-null  uint8  \n",
      " 24  shop_id                         1421988 non-null  int64  \n",
      " 25  shopping_mall                   1421988 non-null  uint8  \n",
      " 26  type_etc                        1421988 non-null  uint8  \n",
      "dtypes: float16(8), float64(8), int64(4), uint8(7)\n",
      "memory usage: 172.2 MB\n"
     ]
    }
   ],
   "source": [
    "# 열 기준으로 데이터 셋을 깔끔하게 정렬한다.\n",
    "tmatrix = tmatrix.sort_index(axis=1)\n",
    "tmatrix.info()"
   ]
  },
  {
   "cell_type": "code",
   "execution_count": 544,
   "metadata": {},
   "outputs": [
    {
     "data": {
      "text/plain": [
       "capital                           0\n",
       "city_etc                          0\n",
       "computer_mall                     0\n",
       "date_block_num                    0\n",
       "date_item_avg_item_price          0\n",
       "date_item_avg_item_price_lag_1    0\n",
       "date_item_avg_item_price_lag_2    0\n",
       "date_item_avg_item_price_lag_3    0\n",
       "delta_price_lag_1                 0\n",
       "delta_price_lag_2                 0\n",
       "delta_price_lag_3                 0\n",
       "item_avg_item_price               0\n",
       "item_cnt_month                    0\n",
       "item_cnt_month_lag_1              0\n",
       "item_cnt_month_lag_2              0\n",
       "item_cnt_month_lag_3              0\n",
       "item_id                           0\n",
       "item_price                        0\n",
       "item_price_lag_1                  0\n",
       "item_price_lag_2                  0\n",
       "item_price_lag_3                  0\n",
       "month                             0\n",
       "non_capital                       0\n",
       "online_mall                       0\n",
       "shop_id                           0\n",
       "shopping_mall                     0\n",
       "type_etc                          0\n",
       "dtype: int64"
      ]
     },
     "execution_count": 544,
     "metadata": {},
     "output_type": "execute_result"
    }
   ],
   "source": [
    "# 결측값 확인\n",
    "tmatrix.isna().sum()"
   ]
  },
  {
   "cell_type": "markdown",
   "metadata": {},
   "source": [
    "## lag데이터 결측치 MICE 알고리즘으로 처리\n",
    "- 타켓값인 item_cnt_month를 제외하고 mice 알고리즘 적용"
   ]
  },
  {
   "cell_type": "code",
   "execution_count": null,
   "metadata": {},
   "outputs": [],
   "source": [
    "num_columns = ['date_block_num', 'shop_id', 'item_id', 'item_price',\n",
    "       'item_avg_item_price', 'date_item_avg_item_price',\n",
    "       'date_item_avg_item_price_lag_1', 'date_item_avg_item_price_lag_2',\n",
    "       'date_item_avg_item_price_lag_3', 'delta_price_lag_1',\n",
    "       'delta_price_lag_2', 'delta_price_lag_3', 'month',\n",
    "       'item_cnt_month_lag_1', 'item_cnt_month_lag_2', 'item_cnt_month_lag_3',\n",
    "       'item_price_lag_1', 'item_price_lag_2', 'item_price_lag_3', 'capital',\n",
    "       'non_capital', 'city_etc', 'shopping_mall', 'online_mall',\n",
    "       'computer_mall', 'type_etc']"
   ]
  },
  {
   "cell_type": "code",
   "execution_count": null,
   "metadata": {},
   "outputs": [],
   "source": [
    "impute_df = tmatrix.copy()\n",
    "imp_mean = IterativeImputer(random_state=42)\n",
    "impute_df[num_columns] = imp_mean.fit_transform(impute_df[num_columns])\n",
    "impute_df.info()\n"
   ]
  },
  {
   "cell_type": "code",
   "execution_count": null,
   "metadata": {},
   "outputs": [],
   "source": [
    "tmatrix = impute_df.fillna(0)\n",
    "tmatrix.columns\n",
    "print('done')"
   ]
  },
  {
   "cell_type": "code",
   "execution_count": 545,
   "metadata": {},
   "outputs": [
    {
     "data": {
      "text/plain": [
       "0"
      ]
     },
     "execution_count": 545,
     "metadata": {},
     "output_type": "execute_result"
    }
   ],
   "source": [
    "# 중복값 확인\n",
    "tmatrix.duplicated().sum()"
   ]
  },
  {
   "cell_type": "code",
   "execution_count": 546,
   "metadata": {},
   "outputs": [],
   "source": [
    "# 병합된 테스트 데이터 저장\n",
    "tmatrix.to_pickle('merged_train.pkl')"
   ]
  },
  {
   "cell_type": "markdown",
   "metadata": {},
   "source": [
    "---"
   ]
  },
  {
   "cell_type": "markdown",
   "metadata": {},
   "source": [
    "# Scaling"
   ]
  },
  {
   "cell_type": "markdown",
   "metadata": {},
   "source": [
    "## log 스케일링"
   ]
  },
  {
   "cell_type": "code",
   "execution_count": 626,
   "metadata": {},
   "outputs": [],
   "source": [
    "# 데이터 불러오기\n",
    "tmatrix = pd.read_pickle('merged_train.pkl')"
   ]
  },
  {
   "cell_type": "code",
   "execution_count": null,
   "metadata": {},
   "outputs": [],
   "source": [
    "log_list= ['item_cnt_month','item_price', 'item_avg_item_price', 'date_item_avg_item_price',\n",
    " 'date_item_avg_item_price_lag_1', 'date_item_avg_item_price_lag_2',\n",
    " 'date_item_avg_item_price_lag_3', 'delta_price_lag_1',\n",
    " 'delta_price_lag_2', 'delta_price_lag_3', 'month',\n",
    " 'item_cnt_month_lag_1', 'item_cnt_month_lag_2', 'item_cnt_month_lag_3',\n",
    " 'item_price_lag_1', 'item_price_lag_2', 'item_price_lag_3']"
   ]
  },
  {
   "cell_type": "code",
   "execution_count": null,
   "metadata": {},
   "outputs": [],
   "source": [
    "def safe_log1p(x):\n",
    "    return np.array([np.log1p(i) if i > 0 else 0 for i in x])"
   ]
  },
  {
   "cell_type": "code",
   "execution_count": null,
   "metadata": {},
   "outputs": [],
   "source": [
    "for i in log_list:\n",
    "    tmatrix[i] = safe_log1p(tmatrix[i].values)\n",
    "tmatrix"
   ]
  },
  {
   "cell_type": "markdown",
   "metadata": {},
   "source": [
    "## Roburst Scaling"
   ]
  },
  {
   "cell_type": "code",
   "execution_count": null,
   "metadata": {},
   "outputs": [],
   "source": [
    "var_list=['item_price', 'item_avg_item_price', 'date_item_avg_item_price',\n",
    " 'date_item_avg_item_price_lag_1', 'date_item_avg_item_price_lag_2', 'date_item_avg_item_price_lag_3',\n",
    " 'delta_price_lag_1', 'delta_price_lag_2', 'delta_price_lag_3', \n",
    " 'month','item_cnt_month_lag_1', 'item_cnt_month_lag_2', 'item_cnt_month_lag_3',\n",
    " 'item_price_lag_1', 'item_price_lag_2', 'item_price_lag_3']"
   ]
  },
  {
   "cell_type": "code",
   "execution_count": 633,
   "metadata": {},
   "outputs": [
    {
     "data": {
      "text/plain": [
       "item_price                        0\n",
       "item_avg_item_price               0\n",
       "date_item_avg_item_price          0\n",
       "date_item_avg_item_price_lag_1    0\n",
       "date_item_avg_item_price_lag_2    0\n",
       "date_item_avg_item_price_lag_3    0\n",
       "delta_price_lag_1                 0\n",
       "delta_price_lag_2                 0\n",
       "delta_price_lag_3                 0\n",
       "month                             0\n",
       "item_cnt_month_lag_1              0\n",
       "item_cnt_month_lag_2              0\n",
       "item_cnt_month_lag_3              0\n",
       "item_price_lag_1                  0\n",
       "item_price_lag_2                  0\n",
       "item_price_lag_3                  0\n",
       "dtype: int64"
      ]
     },
     "execution_count": 633,
     "metadata": {},
     "output_type": "execute_result"
    }
   ],
   "source": [
    "tmatrix[var_list].isnull().sum()"
   ]
  },
  {
   "cell_type": "markdown",
   "metadata": {},
   "source": [
    "- 로버스트스케일링을 적용"
   ]
  },
  {
   "cell_type": "code",
   "execution_count": null,
   "metadata": {},
   "outputs": [],
   "source": [
    "robust_tmatrix = tmatrix.copy()\n",
    "\n",
    "robustScaler = RobustScaler()\n",
    "robust_tmatrix[var_list] = robustScaler.fit_transform(robust_tmatrix[var_list])\n",
    "robust_tmatrix"
   ]
  },
  {
   "cell_type": "markdown",
   "metadata": {},
   "source": [
    "## Standard scaling"
   ]
  },
  {
   "cell_type": "code",
   "execution_count": null,
   "metadata": {},
   "outputs": [],
   "source": [
    "standard_tmatrix = tmatrix.copy()\n",
    "\n",
    "standardScaler = StandardScaler()\n",
    "standard_tmatrix[var_list] = standardScaler.fit_transform(standard_tmatrix[var_list])\n",
    "standard_tmatrix"
   ]
  },
  {
   "cell_type": "markdown",
   "metadata": {},
   "source": [
    "## MinMax scaling"
   ]
  },
  {
   "cell_type": "code",
   "execution_count": null,
   "metadata": {},
   "outputs": [],
   "source": [
    "minmax_tmatrix = tmatrix.copy()\n",
    "\n",
    "minmaxScaler = MinMaxScaler()\n",
    "minmax_tmatrix[var_list] = minmaxScaler.fit_transform(minmax_tmatrix[var_list])\n",
    "minmax_tmatrix"
   ]
  },
  {
   "cell_type": "markdown",
   "metadata": {},
   "source": [
    "## maxabs scaling"
   ]
  },
  {
   "cell_type": "code",
   "execution_count": null,
   "metadata": {},
   "outputs": [],
   "source": [
    "maxabs_tmatrix = tmatrix.copy()\n",
    "\n",
    "maxabsScaler = MaxAbsScaler()\n",
    "maxabs_tmatrix[var_list] = maxabsScaler.fit_transform(maxabs_tmatrix[var_list])\n",
    "maxabs_tmatrix"
   ]
  },
  {
   "cell_type": "markdown",
   "metadata": {},
   "source": [
    "## 피클데이터로 저장"
   ]
  },
  {
   "cell_type": "code",
   "execution_count": null,
   "metadata": {},
   "outputs": [],
   "source": [
    "train = tmatrix[tmatrix.date_block_num < 34]\n",
    "test = tmatrix[tmatrix.date_block_num == 34]\n",
    "\n",
    "with open('./data/new2_train.pickle', 'wb') as fw:\n",
    "    pickle.dump(train, fw)\n",
    "    \n",
    "with open('./data/new2_test.pickle', 'wb') as fw:\n",
    "    pickle.dump(test, fw)\n",
    "\n",
    "train.date_block_num.info()\n",
    "test.date_block_num.info()"
   ]
  },
  {
   "cell_type": "code",
   "execution_count": null,
   "metadata": {},
   "outputs": [],
   "source": [
    "# 로버스트 스케일링 데이터 저장\n",
    "robust_train = robust_tmatrix[robust_tmatrix.date_block_num < 34]\n",
    "robust_test = robust_tmatrix[robust_tmatrix.date_block_num == 34]\n",
    "\n",
    "with open('./data/robust_train.pickle', 'wb') as fw:\n",
    "    pickle.dump(robust_train, fw)\n",
    "    \n",
    "with open('./data/robust_test.pickle', 'wb') as fw:\n",
    "    pickle.dump(robust_test, fw)\n",
    "\n",
    "robust_train.info()\n",
    "robust_test.info()\n",
    "robust_train.date_block_num.info()\n",
    "robust_test.date_block_num.info()"
   ]
  },
  {
   "cell_type": "code",
   "execution_count": null,
   "metadata": {},
   "outputs": [],
   "source": [
    "# 스탠다드 스케일링 데이터 저장\n",
    "standard_train = standard_tmatrix[standard_tmatrix.date_block_num < 34]\n",
    "standard_test = standard_tmatrix[standard_tmatrix.date_block_num == 34]\n",
    "\n",
    "with open('./data/standard_train.pickle', 'wb') as fw:\n",
    "    pickle.dump(standard_train, fw)\n",
    "    \n",
    "with open('./data/standard_test.pickle', 'wb') as fw:\n",
    "    pickle.dump(standard_test, fw)\n",
    "\n",
    "standard_train.info()\n",
    "standard_test.info()"
   ]
  },
  {
   "cell_type": "code",
   "execution_count": null,
   "metadata": {},
   "outputs": [],
   "source": [
    "# 민맥스 스케일링 데이터 저장\n",
    "minmax_train = minmax_tmatrix[minmax_tmatrix.date_block_num < 34]\n",
    "minmax_test = minmax_tmatrix[minmax_tmatrix.date_block_num == 34]\n",
    "\n",
    "with open('./data/minmax_train.pickle', 'wb') as fw:\n",
    "    pickle.dump(minmax_train, fw)\n",
    "    \n",
    "with open('./data/minmax_test.pickle', 'wb') as fw:\n",
    "    pickle.dump(minmax_test, fw)\n",
    "\n",
    "minmax_train.info()\n",
    "minmax_test.info()"
   ]
  },
  {
   "cell_type": "code",
   "execution_count": null,
   "metadata": {},
   "outputs": [],
   "source": [
    "# maxabs 스케일링 데이터 저장\n",
    "maxabs_train = maxabs_tmatrix[maxabs_tmatrix.date_block_num < 34]\n",
    "maxabs_test = maxabs_tmatrix[maxabs_tmatrix.date_block_num == 34]\n",
    "\n",
    "with open('./data/maxabs_train.pickle', 'wb') as fw:\n",
    "    pickle.dump(maxabs_train, fw)\n",
    "    \n",
    "with open('./data/maxabs_test.pickle', 'wb') as fw:\n",
    "    pickle.dump(maxabs_test, fw)\n",
    "\n",
    "maxabs_train.info()\n",
    "maxabs_test.info()"
   ]
  },
  {
   "cell_type": "markdown",
   "metadata": {},
   "source": [
    "---"
   ]
  },
  {
   "cell_type": "markdown",
   "metadata": {},
   "source": [
    "## 모델링"
   ]
  },
  {
   "cell_type": "code",
   "execution_count": 547,
   "metadata": {},
   "outputs": [],
   "source": [
    "# 데이터 불러오기\n",
    "merged_train = pd.read_pickle('merged_train.pkl')"
   ]
  },
  {
   "cell_type": "code",
   "execution_count": 548,
   "metadata": {},
   "outputs": [
    {
     "name": "stdout",
     "output_type": "stream",
     "text": [
      "<class 'pandas.core.frame.DataFrame'>\n",
      "Int64Index: 1421988 entries, 9583 to 1609123\n",
      "Data columns (total 27 columns):\n",
      " #   Column                          Non-Null Count    Dtype  \n",
      "---  ------                          --------------    -----  \n",
      " 0   capital                         1421988 non-null  uint8  \n",
      " 1   city_etc                        1421988 non-null  uint8  \n",
      " 2   computer_mall                   1421988 non-null  uint8  \n",
      " 3   date_block_num                  1421988 non-null  int64  \n",
      " 4   date_item_avg_item_price        1421988 non-null  float16\n",
      " 5   date_item_avg_item_price_lag_1  1421988 non-null  float16\n",
      " 6   date_item_avg_item_price_lag_2  1421988 non-null  float16\n",
      " 7   date_item_avg_item_price_lag_3  1421988 non-null  float16\n",
      " 8   delta_price_lag_1               1421988 non-null  float16\n",
      " 9   delta_price_lag_2               1421988 non-null  float16\n",
      " 10  delta_price_lag_3               1421988 non-null  float16\n",
      " 11  item_avg_item_price             1421988 non-null  float16\n",
      " 12  item_cnt_month                  1421988 non-null  float64\n",
      " 13  item_cnt_month_lag_1            1421988 non-null  float64\n",
      " 14  item_cnt_month_lag_2            1421988 non-null  float64\n",
      " 15  item_cnt_month_lag_3            1421988 non-null  float64\n",
      " 16  item_id                         1421988 non-null  int64  \n",
      " 17  item_price                      1421988 non-null  float64\n",
      " 18  item_price_lag_1                1421988 non-null  float64\n",
      " 19  item_price_lag_2                1421988 non-null  float64\n",
      " 20  item_price_lag_3                1421988 non-null  float64\n",
      " 21  month                           1421988 non-null  int64  \n",
      " 22  non_capital                     1421988 non-null  uint8  \n",
      " 23  online_mall                     1421988 non-null  uint8  \n",
      " 24  shop_id                         1421988 non-null  int64  \n",
      " 25  shopping_mall                   1421988 non-null  uint8  \n",
      " 26  type_etc                        1421988 non-null  uint8  \n",
      "dtypes: float16(8), float64(8), int64(4), uint8(7)\n",
      "memory usage: 172.2 MB\n"
     ]
    }
   ],
   "source": [
    "merged_train.info()"
   ]
  },
  {
   "cell_type": "code",
   "execution_count": 550,
   "metadata": {},
   "outputs": [
    {
     "data": {
      "text/plain": [
       "(1421988, 27)"
      ]
     },
     "execution_count": 550,
     "metadata": {},
     "output_type": "execute_result"
    }
   ],
   "source": [
    "merged_train.shape"
   ]
  },
  {
   "cell_type": "code",
   "execution_count": null,
   "metadata": {},
   "outputs": [],
   "source": []
  }
 ],
 "metadata": {
  "interpreter": {
   "hash": "b3ba2566441a7c06988d0923437866b63cedc61552a5af99d1f4fb67d367b25f"
  },
  "kernelspec": {
   "display_name": "Python 3 (ipykernel)",
   "language": "python",
   "name": "python3"
  },
  "language_info": {
   "codemirror_mode": {
    "name": "ipython",
    "version": 3
   },
   "file_extension": ".py",
   "mimetype": "text/x-python",
   "name": "python",
   "nbconvert_exporter": "python",
   "pygments_lexer": "ipython3",
   "version": "3.8.12"
  }
 },
 "nbformat": 4,
 "nbformat_minor": 2
}
