{
 "cells": [
  {
   "cell_type": "code",
   "execution_count": 17,
   "id": "96983048",
   "metadata": {},
   "outputs": [],
   "source": [
    "import numpy as np\n",
    "import pandas as pd\n",
    "import matplotlib.pyplot as plt\n",
    "import seaborn as sns\n",
    "from sklearn.preprocessing import LabelEncoder\n",
    "import time\n",
    "import itertools\n",
    "\n",
    "%matplotlib inline"
   ]
  },
  {
   "cell_type": "markdown",
   "id": "71925fce",
   "metadata": {},
   "source": [
    "# Predict Future Sales"
   ]
  },
  {
   "cell_type": "markdown",
   "id": "71d97798",
   "metadata": {},
   "source": [
    "## 1. Load Data"
   ]
  },
  {
   "cell_type": "code",
   "execution_count": 10,
   "id": "e95a6a44",
   "metadata": {},
   "outputs": [],
   "source": [
    "df_train = pd.read_csv('../data/raw/sales_train.csv')\n",
    "df_test = pd.read_csv('../data/raw/test.csv')\n",
    "df_items = pd.read_csv('../data/raw/items.csv')\n",
    "df_item_categories = pd.read_csv('../data/item_categories_kor.csv')\n",
    "df_shops = pd.read_csv('../data/raw/shops.csv')"
   ]
  },
  {
   "cell_type": "code",
   "execution_count": 3,
   "id": "4e8fa143",
   "metadata": {},
   "outputs": [
    {
     "name": "stdout",
     "output_type": "stream",
     "text": [
      "<class 'pandas.core.frame.DataFrame'>\n",
      "RangeIndex: 2935849 entries, 0 to 2935848\n",
      "Data columns (total 6 columns):\n",
      " #   Column          Dtype  \n",
      "---  ------          -----  \n",
      " 0   date            object \n",
      " 1   date_block_num  int64  \n",
      " 2   shop_id         int64  \n",
      " 3   item_id         int64  \n",
      " 4   item_price      float64\n",
      " 5   item_cnt_day    float64\n",
      "dtypes: float64(2), int64(3), object(1)\n",
      "memory usage: 134.4+ MB\n"
     ]
    }
   ],
   "source": [
    "# null check\n",
    "df_train.info()"
   ]
  },
  {
   "cell_type": "markdown",
   "id": "3b541227",
   "metadata": {},
   "source": [
    "## 2. Preprocessing"
   ]
  },
  {
   "cell_type": "markdown",
   "id": "f4bc50b7",
   "metadata": {},
   "source": [
    "### 중복 체크 - Shop name"
   ]
  },
  {
   "cell_type": "code",
   "execution_count": 6,
   "id": "b54011a6",
   "metadata": {},
   "outputs": [
    {
     "data": {
      "text/html": [
       "<div>\n",
       "<style scoped>\n",
       "    .dataframe tbody tr th:only-of-type {\n",
       "        vertical-align: middle;\n",
       "    }\n",
       "\n",
       "    .dataframe tbody tr th {\n",
       "        vertical-align: top;\n",
       "    }\n",
       "\n",
       "    .dataframe thead th {\n",
       "        text-align: right;\n",
       "    }\n",
       "</style>\n",
       "<table border=\"1\" class=\"dataframe\">\n",
       "  <thead>\n",
       "    <tr style=\"text-align: right;\">\n",
       "      <th></th>\n",
       "      <th>shop_name</th>\n",
       "      <th>shop_id</th>\n",
       "    </tr>\n",
       "  </thead>\n",
       "  <tbody>\n",
       "    <tr>\n",
       "      <th>0</th>\n",
       "      <td>!Якутск Орджоникидзе, 56 фран</td>\n",
       "      <td>0</td>\n",
       "    </tr>\n",
       "    <tr>\n",
       "      <th>1</th>\n",
       "      <td>!Якутск ТЦ \"Центральный\" фран</td>\n",
       "      <td>1</td>\n",
       "    </tr>\n",
       "    <tr>\n",
       "      <th>57</th>\n",
       "      <td>Якутск Орджоникидзе, 56</td>\n",
       "      <td>57</td>\n",
       "    </tr>\n",
       "    <tr>\n",
       "      <th>58</th>\n",
       "      <td>Якутск ТЦ \"Центральный\"</td>\n",
       "      <td>58</td>\n",
       "    </tr>\n",
       "  </tbody>\n",
       "</table>\n",
       "</div>"
      ],
      "text/plain": [
       "                        shop_name  shop_id\n",
       "0   !Якутск Орджоникидзе, 56 фран        0\n",
       "1   !Якутск ТЦ \"Центральный\" фран        1\n",
       "57        Якутск Орджоникидзе, 56       57\n",
       "58        Якутск ТЦ \"Центральный\"       58"
      ]
     },
     "execution_count": 6,
     "metadata": {},
     "output_type": "execute_result"
    }
   ],
   "source": [
    "# 0, 57 중복 / 1, 58 중복 -> train 데이터에서 동일 인덱스 처리\n",
    "df_shops.iloc[[0,1,57,58]]"
   ]
  },
  {
   "cell_type": "markdown",
   "id": "fcb4ea8f",
   "metadata": {},
   "source": [
    "### 이상치 제거"
   ]
  },
  {
   "cell_type": "markdown",
   "id": "7d65be3d",
   "metadata": {},
   "source": [
    "- item_cnt_day : 1000\n",
    "- item_price : 30만"
   ]
  },
  {
   "cell_type": "code",
   "execution_count": 7,
   "id": "430773fb",
   "metadata": {},
   "outputs": [
    {
     "data": {
      "image/png": "[encoded data removed]",
      "text/plain": [
       "<Figure size 720x216 with 1 Axes>"
      ]
     },
     "metadata": {
      "needs_background": "light"
     },
     "output_type": "display_data"
    },
    {
     "data": {
      "image/png": "[encoded data removed]",
      "text/plain": [
       "<Figure size 720x216 with 1 Axes>"
      ]
     },
     "metadata": {
      "needs_background": "light"
     },
     "output_type": "display_data"
    }
   ],
   "source": [
    "plt.figure(figsize=(10,3))\n",
    "sns.boxplot(x='item_cnt_day', data=df_train)\n",
    "\n",
    "plt.figure(figsize=(10,3))\n",
    "sns.boxplot(x='item_price', data=df_train);"
   ]
  },
  {
   "cell_type": "code",
   "execution_count": 8,
   "id": "de53459a",
   "metadata": {},
   "outputs": [
    {
     "data": {
      "image/png": "[encoded data removed]",
      "text/plain": [
       "<Figure size 720x216 with 1 Axes>"
      ]
     },
     "metadata": {
      "needs_background": "light"
     },
     "output_type": "display_data"
    },
    {
     "data": {
      "image/png": "[encoded data removed]",
      "text/plain": [
       "<Figure size 720x216 with 1 Axes>"
      ]
     },
     "metadata": {
      "needs_background": "light"
     },
     "output_type": "display_data"
    }
   ],
   "source": [
    "df_train = df_train[df_train.item_cnt_day < 500]\n",
    "df_train = df_train[df_train.item_price < 50000]\n",
    "\n",
    "plt.figure(figsize=(10,3))\n",
    "sns.boxplot(x='item_cnt_day', data=df_train)\n",
    "\n",
    "plt.figure(figsize=(10,3))\n",
    "sns.boxplot(x='item_price', data=df_train);"
   ]
  },
  {
   "cell_type": "markdown",
   "id": "058a00b0",
   "metadata": {},
   "source": [
    "## 3. Create Feature"
   ]
  },
  {
   "cell_type": "markdown",
   "id": "a1f34fe9",
   "metadata": {},
   "source": [
    "### 3.1 Matrix 생성"
   ]
  },
  {
   "cell_type": "markdown",
   "id": "be7a86dc",
   "metadata": {},
   "source": [
    "- test.csv의 shop 기준으로 Matrix 생성.\n",
    "- date_block_num : 0~34 (예측월까지 병합)"
   ]
  },
  {
   "cell_type": "code",
   "execution_count": 37,
   "id": "b42a1a1a",
   "metadata": {
    "scrolled": true
   },
   "outputs": [
    {
     "data": {
      "text/plain": [
       "array([ 5,  4,  6,  3,  2,  7, 10, 12, 28, 31, 26, 25, 22, 24, 21, 15, 16,\n",
       "       18, 14, 19, 42, 50, 49, 53, 52, 47, 48, 57, 58, 59, 55, 56, 36, 37,\n",
       "       35, 38, 34, 46, 41, 44, 39, 45], dtype=int64)"
      ]
     },
     "execution_count": 37,
     "metadata": {},
     "output_type": "execute_result"
    }
   ],
   "source": [
    "shops = df_test.shop_id.unique()\n",
    "date_block_num = 34\n",
    "shops"
   ]
  },
  {
   "cell_type": "code",
   "execution_count": 56,
   "id": "e667dd09",
   "metadata": {},
   "outputs": [],
   "source": [
    "matrix = []\n",
    "cols = ['date_block_num', 'shop_id', 'item_id']\n",
    "for i in range(34):\n",
    "    condition = (df_train.date_block_num == i)&(df_train.shop_id.isin(shops))\n",
    "    sales = df_train[condition]\n",
    "    matrix.append(np.array(list(itertools.product([i], sales.shop_id.unique(), sales.item_id.unique())), dtype='int16'))\n",
    "matrix = pd.DataFrame(np.vstack(matrix), columns=cols)"
   ]
  },
  {
   "cell_type": "code",
   "execution_count": 57,
   "id": "ba4a74e9",
   "metadata": {},
   "outputs": [],
   "source": [
    "# int8 -> Byte (-128 to 127), int16 -> Integer (-32768 to 32767)\n",
    "matrix['date_block_num'] = matrix['date_block_num'].astype(np.int8)\n",
    "matrix['shop_id'] = matrix['shop_id'].astype(np.int8)\n",
    "matrix['item_id'] = matrix['item_id'].astype(np.int16)\n",
    "matrix.sort_values(cols, inplace=True)"
   ]
  },
  {
   "cell_type": "code",
   "execution_count": 58,
   "id": "dc50d101",
   "metadata": {},
   "outputs": [
    {
     "data": {
      "text/html": [
       "<div>\n",
       "<style scoped>\n",
       "    .dataframe tbody tr th:only-of-type {\n",
       "        vertical-align: middle;\n",
       "    }\n",
       "\n",
       "    .dataframe tbody tr th {\n",
       "        vertical-align: top;\n",
       "    }\n",
       "\n",
       "    .dataframe thead th {\n",
       "        text-align: right;\n",
       "    }\n",
       "</style>\n",
       "<table border=\"1\" class=\"dataframe\">\n",
       "  <thead>\n",
       "    <tr style=\"text-align: right;\">\n",
       "      <th></th>\n",
       "      <th>date_block_num</th>\n",
       "      <th>shop_id</th>\n",
       "      <th>item_id</th>\n",
       "    </tr>\n",
       "  </thead>\n",
       "  <tbody>\n",
       "    <tr>\n",
       "      <th>8467154</th>\n",
       "      <td>33</td>\n",
       "      <td>59</td>\n",
       "      <td>22162</td>\n",
       "    </tr>\n",
       "    <tr>\n",
       "      <th>8467344</th>\n",
       "      <td>33</td>\n",
       "      <td>59</td>\n",
       "      <td>22163</td>\n",
       "    </tr>\n",
       "    <tr>\n",
       "      <th>8468010</th>\n",
       "      <td>33</td>\n",
       "      <td>59</td>\n",
       "      <td>22164</td>\n",
       "    </tr>\n",
       "    <tr>\n",
       "      <th>8469536</th>\n",
       "      <td>33</td>\n",
       "      <td>59</td>\n",
       "      <td>22166</td>\n",
       "    </tr>\n",
       "    <tr>\n",
       "      <th>8468831</th>\n",
       "      <td>33</td>\n",
       "      <td>59</td>\n",
       "      <td>22167</td>\n",
       "    </tr>\n",
       "  </tbody>\n",
       "</table>\n",
       "</div>"
      ],
      "text/plain": [
       "         date_block_num  shop_id  item_id\n",
       "8467154              33       59    22162\n",
       "8467344              33       59    22163\n",
       "8468010              33       59    22164\n",
       "8469536              33       59    22166\n",
       "8468831              33       59    22167"
      ]
     },
     "execution_count": 58,
     "metadata": {},
     "output_type": "execute_result"
    }
   ],
   "source": [
    "matrix.tail()"
   ]
  },
  {
   "cell_type": "code",
   "execution_count": 59,
   "id": "04f902aa",
   "metadata": {},
   "outputs": [
    {
     "data": {
      "text/html": [
       "<div>\n",
       "<style scoped>\n",
       "    .dataframe tbody tr th:only-of-type {\n",
       "        vertical-align: middle;\n",
       "    }\n",
       "\n",
       "    .dataframe tbody tr th {\n",
       "        vertical-align: top;\n",
       "    }\n",
       "\n",
       "    .dataframe thead th {\n",
       "        text-align: right;\n",
       "    }\n",
       "</style>\n",
       "<table border=\"1\" class=\"dataframe\">\n",
       "  <thead>\n",
       "    <tr style=\"text-align: right;\">\n",
       "      <th></th>\n",
       "      <th>shop_id</th>\n",
       "      <th>item_id</th>\n",
       "      <th>date_block_num</th>\n",
       "    </tr>\n",
       "  </thead>\n",
       "  <tbody>\n",
       "    <tr>\n",
       "      <th>0</th>\n",
       "      <td>5</td>\n",
       "      <td>5037</td>\n",
       "      <td>34</td>\n",
       "    </tr>\n",
       "    <tr>\n",
       "      <th>1</th>\n",
       "      <td>5</td>\n",
       "      <td>5320</td>\n",
       "      <td>34</td>\n",
       "    </tr>\n",
       "    <tr>\n",
       "      <th>2</th>\n",
       "      <td>5</td>\n",
       "      <td>5233</td>\n",
       "      <td>34</td>\n",
       "    </tr>\n",
       "    <tr>\n",
       "      <th>3</th>\n",
       "      <td>5</td>\n",
       "      <td>5232</td>\n",
       "      <td>34</td>\n",
       "    </tr>\n",
       "    <tr>\n",
       "      <th>4</th>\n",
       "      <td>5</td>\n",
       "      <td>5268</td>\n",
       "      <td>34</td>\n",
       "    </tr>\n",
       "  </tbody>\n",
       "</table>\n",
       "</div>"
      ],
      "text/plain": [
       "   shop_id  item_id  date_block_num\n",
       "0        5     5037              34\n",
       "1        5     5320              34\n",
       "2        5     5233              34\n",
       "3        5     5232              34\n",
       "4        5     5268              34"
      ]
     },
     "execution_count": 59,
     "metadata": {},
     "output_type": "execute_result"
    }
   ],
   "source": [
    "df_test['date_block_num'] = 34\n",
    "df_test['date_block_num'] = df_test['date_block_num'].astype(np.int8)\n",
    "df_test['shop_id'] = df_test['shop_id'].astype(np.int8)\n",
    "df_test['item_id'] = df_test['item_id'].astype(np.int16)\n",
    "df_test.drop(columns='ID', inplace=True)\n",
    "df_test.head()"
   ]
  },
  {
   "cell_type": "code",
   "execution_count": 60,
   "id": "c3f9a981",
   "metadata": {},
   "outputs": [],
   "source": [
    "matrix = pd.concat([matrix, df_test], axis=0)"
   ]
  },
  {
   "cell_type": "code",
   "execution_count": 71,
   "id": "abd4d159",
   "metadata": {},
   "outputs": [
    {
     "data": {
      "text/html": [
       "<div>\n",
       "<style scoped>\n",
       "    .dataframe tbody tr th:only-of-type {\n",
       "        vertical-align: middle;\n",
       "    }\n",
       "\n",
       "    .dataframe tbody tr th {\n",
       "        vertical-align: top;\n",
       "    }\n",
       "\n",
       "    .dataframe thead th {\n",
       "        text-align: right;\n",
       "    }\n",
       "</style>\n",
       "<table border=\"1\" class=\"dataframe\">\n",
       "  <thead>\n",
       "    <tr style=\"text-align: right;\">\n",
       "      <th></th>\n",
       "      <th>date_block_num</th>\n",
       "      <th>shop_id</th>\n",
       "      <th>item_id</th>\n",
       "      <th>city_id</th>\n",
       "      <th>shop_type_id</th>\n",
       "      <th>item_category_id</th>\n",
       "      <th>type_code</th>\n",
       "      <th>subtype_code</th>\n",
       "    </tr>\n",
       "  </thead>\n",
       "  <tbody>\n",
       "    <tr>\n",
       "      <th>0</th>\n",
       "      <td>0</td>\n",
       "      <td>2</td>\n",
       "      <td>19</td>\n",
       "      <td>14</td>\n",
       "      <td>1</td>\n",
       "      <td>40</td>\n",
       "      <td>8</td>\n",
       "      <td>3</td>\n",
       "    </tr>\n",
       "    <tr>\n",
       "      <th>1</th>\n",
       "      <td>0</td>\n",
       "      <td>2</td>\n",
       "      <td>27</td>\n",
       "      <td>14</td>\n",
       "      <td>1</td>\n",
       "      <td>19</td>\n",
       "      <td>2</td>\n",
       "      <td>7</td>\n",
       "    </tr>\n",
       "    <tr>\n",
       "      <th>2</th>\n",
       "      <td>0</td>\n",
       "      <td>2</td>\n",
       "      <td>28</td>\n",
       "      <td>14</td>\n",
       "      <td>1</td>\n",
       "      <td>30</td>\n",
       "      <td>1</td>\n",
       "      <td>13</td>\n",
       "    </tr>\n",
       "    <tr>\n",
       "      <th>3</th>\n",
       "      <td>0</td>\n",
       "      <td>2</td>\n",
       "      <td>29</td>\n",
       "      <td>14</td>\n",
       "      <td>1</td>\n",
       "      <td>23</td>\n",
       "      <td>2</td>\n",
       "      <td>15</td>\n",
       "    </tr>\n",
       "    <tr>\n",
       "      <th>4</th>\n",
       "      <td>0</td>\n",
       "      <td>2</td>\n",
       "      <td>32</td>\n",
       "      <td>14</td>\n",
       "      <td>1</td>\n",
       "      <td>40</td>\n",
       "      <td>8</td>\n",
       "      <td>3</td>\n",
       "    </tr>\n",
       "    <tr>\n",
       "      <th>...</th>\n",
       "      <td>...</td>\n",
       "      <td>...</td>\n",
       "      <td>...</td>\n",
       "      <td>...</td>\n",
       "      <td>...</td>\n",
       "      <td>...</td>\n",
       "      <td>...</td>\n",
       "      <td>...</td>\n",
       "    </tr>\n",
       "    <tr>\n",
       "      <th>8812239</th>\n",
       "      <td>34</td>\n",
       "      <td>45</td>\n",
       "      <td>18454</td>\n",
       "      <td>10</td>\n",
       "      <td>1</td>\n",
       "      <td>55</td>\n",
       "      <td>11</td>\n",
       "      <td>57</td>\n",
       "    </tr>\n",
       "    <tr>\n",
       "      <th>8812240</th>\n",
       "      <td>34</td>\n",
       "      <td>45</td>\n",
       "      <td>16188</td>\n",
       "      <td>10</td>\n",
       "      <td>1</td>\n",
       "      <td>64</td>\n",
       "      <td>7</td>\n",
       "      <td>38</td>\n",
       "    </tr>\n",
       "    <tr>\n",
       "      <th>8812241</th>\n",
       "      <td>34</td>\n",
       "      <td>45</td>\n",
       "      <td>15757</td>\n",
       "      <td>10</td>\n",
       "      <td>1</td>\n",
       "      <td>55</td>\n",
       "      <td>11</td>\n",
       "      <td>57</td>\n",
       "    </tr>\n",
       "    <tr>\n",
       "      <th>8812242</th>\n",
       "      <td>34</td>\n",
       "      <td>45</td>\n",
       "      <td>19648</td>\n",
       "      <td>10</td>\n",
       "      <td>1</td>\n",
       "      <td>40</td>\n",
       "      <td>8</td>\n",
       "      <td>3</td>\n",
       "    </tr>\n",
       "    <tr>\n",
       "      <th>8812243</th>\n",
       "      <td>34</td>\n",
       "      <td>45</td>\n",
       "      <td>969</td>\n",
       "      <td>10</td>\n",
       "      <td>1</td>\n",
       "      <td>37</td>\n",
       "      <td>20</td>\n",
       "      <td>41</td>\n",
       "    </tr>\n",
       "  </tbody>\n",
       "</table>\n",
       "<p>8812244 rows × 8 columns</p>\n",
       "</div>"
      ],
      "text/plain": [
       "         date_block_num  shop_id  item_id  city_id  shop_type_id  \\\n",
       "0                     0        2       19       14             1   \n",
       "1                     0        2       27       14             1   \n",
       "2                     0        2       28       14             1   \n",
       "3                     0        2       29       14             1   \n",
       "4                     0        2       32       14             1   \n",
       "...                 ...      ...      ...      ...           ...   \n",
       "8812239              34       45    18454       10             1   \n",
       "8812240              34       45    16188       10             1   \n",
       "8812241              34       45    15757       10             1   \n",
       "8812242              34       45    19648       10             1   \n",
       "8812243              34       45      969       10             1   \n",
       "\n",
       "         item_category_id  type_code  subtype_code  \n",
       "0                      40          8             3  \n",
       "1                      19          2             7  \n",
       "2                      30          1            13  \n",
       "3                      23          2            15  \n",
       "4                      40          8             3  \n",
       "...                   ...        ...           ...  \n",
       "8812239                55         11            57  \n",
       "8812240                64          7            38  \n",
       "8812241                55         11            57  \n",
       "8812242                40          8             3  \n",
       "8812243                37         20            41  \n",
       "\n",
       "[8812244 rows x 8 columns]"
      ]
     },
     "execution_count": 71,
     "metadata": {},
     "output_type": "execute_result"
    }
   ],
   "source": [
    "matrix"
   ]
  },
  {
   "cell_type": "markdown",
   "id": "1af3f56d",
   "metadata": {},
   "source": [
    "### 3.2 Encoding"
   ]
  },
  {
   "cell_type": "markdown",
   "id": "a4cbfb6d",
   "metadata": {},
   "source": [
    "### shops"
   ]
  },
  {
   "cell_type": "code",
   "execution_count": 23,
   "id": "46f3d46f",
   "metadata": {},
   "outputs": [],
   "source": [
    "shp_city = ['야쿠츠크', '야쿠츠크', '아디게야', '발라시하', '볼츠스키',\n",
    "           '볼로그다', '보로네슈', '보로네슈','보로네슈', '브로네슈',\n",
    "           '쥬코브스키', '쥬코브스키', '온라인', '카잔', '카잔',\n",
    "           '칼루가', '콜롬나', '크라스노야르스크', '크라스노야르스크', '쿠르스크',\n",
    "           '모스크바', '모스크바', '모스크바', '모스크바', '모스크바',\n",
    "           '모스크바', '모스크바', '모스크바', '모스크바', '모스크바',\n",
    "           '모스크바', '모스크바', '모스크바', '미티시치', '니즈니노브고로드',\n",
    "           '니즈니노브고로드', '노보시비르스크','노보시비르스크', '옴스크', '로스토프온돈',\n",
    "           '로스토프온돈', '로스토프온돈', '상트페테르부르크', '상트페테르부르크', '사마라',\n",
    "           '사마라', '세르기예프 포사트', '수르구트', '톰스크', '투먼',\n",
    "           '투먼', '투먼', '우파', '우파', '힘키',\n",
    "           '모스크바','체호프', '아쿠츠크', '아쿠츠크', '야로슬라블']\n",
    "shp_type = ['기타', '쇼핑몰', '쇼핑몰', '쇼핑몰', '쇼핑몰',\n",
    "           '쇼핑몰', '기타', '쇼핑몰', '쇼핑몰', '기타',\n",
    "           '기타', '기타', '온라인몰', '쇼핑몰', '쇼핑몰',\n",
    "           '쇼핑몰', '쇼핑몰', '쇼핑몰', '쇼핑몰', '쇼핑몰',\n",
    "           '기타', '쇼핑몰', '쇼핑몰', '컴퓨터용품점', '컴퓨터용품점',\n",
    "           '쇼핑몰', '쇼핑몰', '쇼핑몰', '쇼핑몰', '쇼핑몰',\n",
    "           '쇼핑몰', '쇼핑몰', '쇼핑몰', '쇼핑몰', '쇼핑몰',\n",
    "           '쇼핑몰', '쇼핑몰', '쇼핑몰', '쇼핑몰', '쇼핑몰',\n",
    "           '쇼핑몰', '쇼핑몰', '쇼핑몰', '쇼핑몰', '쇼핑몰',\n",
    "           '쇼핑몰', '쇼핑몰', '쇼핑몰', '쇼핑몰', '쇼핑몰',\n",
    "           '쇼핑몰', '쇼핑몰', '쇼핑몰', '쇼핑몰', '쇼핑몰',\n",
    "           '컴퓨터용품점', '쇼핑몰', '쇼핑몰', '쇼핑몰', '쇼핑몰']"
   ]
  },
  {
   "cell_type": "code",
   "execution_count": 64,
   "id": "711c540d",
   "metadata": {},
   "outputs": [
    {
     "data": {
      "text/html": [
       "<div>\n",
       "<style scoped>\n",
       "    .dataframe tbody tr th:only-of-type {\n",
       "        vertical-align: middle;\n",
       "    }\n",
       "\n",
       "    .dataframe tbody tr th {\n",
       "        vertical-align: top;\n",
       "    }\n",
       "\n",
       "    .dataframe thead th {\n",
       "        text-align: right;\n",
       "    }\n",
       "</style>\n",
       "<table border=\"1\" class=\"dataframe\">\n",
       "  <thead>\n",
       "    <tr style=\"text-align: right;\">\n",
       "      <th></th>\n",
       "      <th>shop_id</th>\n",
       "      <th>city_id</th>\n",
       "      <th>shop_type_id</th>\n",
       "    </tr>\n",
       "  </thead>\n",
       "  <tbody>\n",
       "    <tr>\n",
       "      <th>0</th>\n",
       "      <td>0</td>\n",
       "      <td>17</td>\n",
       "      <td>0</td>\n",
       "    </tr>\n",
       "    <tr>\n",
       "      <th>1</th>\n",
       "      <td>1</td>\n",
       "      <td>17</td>\n",
       "      <td>1</td>\n",
       "    </tr>\n",
       "    <tr>\n",
       "      <th>2</th>\n",
       "      <td>2</td>\n",
       "      <td>14</td>\n",
       "      <td>1</td>\n",
       "    </tr>\n",
       "    <tr>\n",
       "      <th>3</th>\n",
       "      <td>3</td>\n",
       "      <td>5</td>\n",
       "      <td>1</td>\n",
       "    </tr>\n",
       "    <tr>\n",
       "      <th>4</th>\n",
       "      <td>4</td>\n",
       "      <td>8</td>\n",
       "      <td>1</td>\n",
       "    </tr>\n",
       "  </tbody>\n",
       "</table>\n",
       "</div>"
      ],
      "text/plain": [
       "   shop_id  city_id  shop_type_id\n",
       "0        0       17             0\n",
       "1        1       17             1\n",
       "2        2       14             1\n",
       "3        3        5             1\n",
       "4        4        8             1"
      ]
     },
     "execution_count": 64,
     "metadata": {},
     "output_type": "execute_result"
    }
   ],
   "source": [
    "le = LabelEncoder()\n",
    "df_shops['city_id'] = le.fit_transform(shp_city)\n",
    "df_shops['shop_type_id'] = le.fit_transform(shp_type)\n",
    "df_shops.drop(columns='shop_name', inplace=True)\n",
    "df_shops.head()"
   ]
  },
  {
   "cell_type": "markdown",
   "id": "fbceda14",
   "metadata": {},
   "source": [
    "#### Item Category"
   ]
  },
  {
   "cell_type": "code",
   "execution_count": 11,
   "id": "99e91ae2",
   "metadata": {},
   "outputs": [
    {
     "data": {
      "text/plain": [
       "(['서비스', '서비스', '클린 미디어 (첨탑)', '클린 미디어 (조각)', '전원 요소'],\n",
       " [nan, '티켓', nan, nan, nan])"
      ]
     },
     "execution_count": 11,
     "metadata": {},
     "output_type": "execute_result"
    }
   ],
   "source": [
    "cat1, cat2 = [], []\n",
    "for n in df_item_categories.item_category_name:\n",
    "    \n",
    "    _ = n.split('-')\n",
    "    cat1.append(_[0].strip())\n",
    "    try: \n",
    "        cat2.append(_[1].strip())\n",
    "    except:\n",
    "        cat2.append(np.nan)\n",
    "        \n",
    "cat1[-5:], cat2[-5:]"
   ]
  },
  {
   "cell_type": "code",
   "execution_count": 21,
   "id": "2f38a800",
   "metadata": {},
   "outputs": [],
   "source": [
    "le = LabelEncoder()\n",
    "df_item_categories['type_code'] = le.fit_transform(cat1)\n",
    "df_item_categories['subtype_code'] = le.fit_transform(cat2)"
   ]
  },
  {
   "cell_type": "code",
   "execution_count": 65,
   "id": "126af33f",
   "metadata": {},
   "outputs": [
    {
     "data": {
      "text/html": [
       "<div>\n",
       "<style scoped>\n",
       "    .dataframe tbody tr th:only-of-type {\n",
       "        vertical-align: middle;\n",
       "    }\n",
       "\n",
       "    .dataframe tbody tr th {\n",
       "        vertical-align: top;\n",
       "    }\n",
       "\n",
       "    .dataframe thead th {\n",
       "        text-align: right;\n",
       "    }\n",
       "</style>\n",
       "<table border=\"1\" class=\"dataframe\">\n",
       "  <thead>\n",
       "    <tr style=\"text-align: right;\">\n",
       "      <th></th>\n",
       "      <th>item_category_id</th>\n",
       "      <th>type_code</th>\n",
       "      <th>subtype_code</th>\n",
       "    </tr>\n",
       "  </thead>\n",
       "  <tbody>\n",
       "    <tr>\n",
       "      <th>0</th>\n",
       "      <td>0</td>\n",
       "      <td>0</td>\n",
       "      <td>61</td>\n",
       "    </tr>\n",
       "    <tr>\n",
       "      <th>1</th>\n",
       "      <td>1</td>\n",
       "      <td>10</td>\n",
       "      <td>6</td>\n",
       "    </tr>\n",
       "    <tr>\n",
       "      <th>2</th>\n",
       "      <td>2</td>\n",
       "      <td>10</td>\n",
       "      <td>7</td>\n",
       "    </tr>\n",
       "    <tr>\n",
       "      <th>3</th>\n",
       "      <td>3</td>\n",
       "      <td>10</td>\n",
       "      <td>8</td>\n",
       "    </tr>\n",
       "    <tr>\n",
       "      <th>4</th>\n",
       "      <td>4</td>\n",
       "      <td>10</td>\n",
       "      <td>10</td>\n",
       "    </tr>\n",
       "  </tbody>\n",
       "</table>\n",
       "</div>"
      ],
      "text/plain": [
       "   item_category_id  type_code  subtype_code\n",
       "0                 0          0            61\n",
       "1                 1         10             6\n",
       "2                 2         10             7\n",
       "3                 3         10             8\n",
       "4                 4         10            10"
      ]
     },
     "execution_count": 65,
     "metadata": {},
     "output_type": "execute_result"
    }
   ],
   "source": [
    "df_item_categories.drop(columns='item_category_name', inplace=True)\n",
    "df_item_categories.head()"
   ]
  },
  {
   "cell_type": "markdown",
   "id": "f3a69362",
   "metadata": {},
   "source": [
    "### Items"
   ]
  },
  {
   "cell_type": "code",
   "execution_count": 66,
   "id": "15567c35",
   "metadata": {
    "scrolled": true
   },
   "outputs": [
    {
     "data": {
      "text/html": [
       "<div>\n",
       "<style scoped>\n",
       "    .dataframe tbody tr th:only-of-type {\n",
       "        vertical-align: middle;\n",
       "    }\n",
       "\n",
       "    .dataframe tbody tr th {\n",
       "        vertical-align: top;\n",
       "    }\n",
       "\n",
       "    .dataframe thead th {\n",
       "        text-align: right;\n",
       "    }\n",
       "</style>\n",
       "<table border=\"1\" class=\"dataframe\">\n",
       "  <thead>\n",
       "    <tr style=\"text-align: right;\">\n",
       "      <th></th>\n",
       "      <th>item_id</th>\n",
       "      <th>item_category_id</th>\n",
       "    </tr>\n",
       "  </thead>\n",
       "  <tbody>\n",
       "    <tr>\n",
       "      <th>0</th>\n",
       "      <td>0</td>\n",
       "      <td>40</td>\n",
       "    </tr>\n",
       "    <tr>\n",
       "      <th>1</th>\n",
       "      <td>1</td>\n",
       "      <td>76</td>\n",
       "    </tr>\n",
       "    <tr>\n",
       "      <th>2</th>\n",
       "      <td>2</td>\n",
       "      <td>40</td>\n",
       "    </tr>\n",
       "    <tr>\n",
       "      <th>3</th>\n",
       "      <td>3</td>\n",
       "      <td>40</td>\n",
       "    </tr>\n",
       "    <tr>\n",
       "      <th>4</th>\n",
       "      <td>4</td>\n",
       "      <td>40</td>\n",
       "    </tr>\n",
       "  </tbody>\n",
       "</table>\n",
       "</div>"
      ],
      "text/plain": [
       "   item_id  item_category_id\n",
       "0        0                40\n",
       "1        1                76\n",
       "2        2                40\n",
       "3        3                40\n",
       "4        4                40"
      ]
     },
     "execution_count": 66,
     "metadata": {},
     "output_type": "execute_result"
    }
   ],
   "source": [
    "# item_id로 인코딩 대체\n",
    "df_items.drop(columns='item_name', inplace=True)\n",
    "df_items.head()"
   ]
  },
  {
   "cell_type": "markdown",
   "id": "3ea2bd4a",
   "metadata": {},
   "source": [
    "### Matrix에 병합"
   ]
  },
  {
   "cell_type": "code",
   "execution_count": 62,
   "id": "09c9ee39",
   "metadata": {},
   "outputs": [
    {
     "data": {
      "text/html": [
       "<div>\n",
       "<style scoped>\n",
       "    .dataframe tbody tr th:only-of-type {\n",
       "        vertical-align: middle;\n",
       "    }\n",
       "\n",
       "    .dataframe tbody tr th {\n",
       "        vertical-align: top;\n",
       "    }\n",
       "\n",
       "    .dataframe thead th {\n",
       "        text-align: right;\n",
       "    }\n",
       "</style>\n",
       "<table border=\"1\" class=\"dataframe\">\n",
       "  <thead>\n",
       "    <tr style=\"text-align: right;\">\n",
       "      <th></th>\n",
       "      <th>date_block_num</th>\n",
       "      <th>shop_id</th>\n",
       "      <th>item_id</th>\n",
       "    </tr>\n",
       "  </thead>\n",
       "  <tbody>\n",
       "    <tr>\n",
       "      <th>83827</th>\n",
       "      <td>0</td>\n",
       "      <td>2</td>\n",
       "      <td>19</td>\n",
       "    </tr>\n",
       "    <tr>\n",
       "      <th>86076</th>\n",
       "      <td>0</td>\n",
       "      <td>2</td>\n",
       "      <td>27</td>\n",
       "    </tr>\n",
       "    <tr>\n",
       "      <th>88952</th>\n",
       "      <td>0</td>\n",
       "      <td>2</td>\n",
       "      <td>28</td>\n",
       "    </tr>\n",
       "    <tr>\n",
       "      <th>87002</th>\n",
       "      <td>0</td>\n",
       "      <td>2</td>\n",
       "      <td>29</td>\n",
       "    </tr>\n",
       "    <tr>\n",
       "      <th>83503</th>\n",
       "      <td>0</td>\n",
       "      <td>2</td>\n",
       "      <td>32</td>\n",
       "    </tr>\n",
       "  </tbody>\n",
       "</table>\n",
       "</div>"
      ],
      "text/plain": [
       "       date_block_num  shop_id  item_id\n",
       "83827               0        2       19\n",
       "86076               0        2       27\n",
       "88952               0        2       28\n",
       "87002               0        2       29\n",
       "83503               0        2       32"
      ]
     },
     "execution_count": 62,
     "metadata": {},
     "output_type": "execute_result"
    }
   ],
   "source": [
    "matrix.head()"
   ]
  },
  {
   "cell_type": "code",
   "execution_count": 68,
   "id": "4134020c",
   "metadata": {},
   "outputs": [],
   "source": [
    "matrix = pd.merge(matrix, df_shops, on=['shop_id'], how='left')\n",
    "matrix = pd.merge(matrix, df_items, on=['item_id'], how='left')\n",
    "matrix = pd.merge(matrix, df_item_categories, on=['item_category_id'], how='left')\n",
    "matrix['city_id'] = matrix['city_id'].astype(np.int8)\n",
    "matrix['item_category_id'] = matrix['item_category_id'].astype(np.int8)\n",
    "matrix['type_code'] = matrix['type_code'].astype(np.int8)\n",
    "matrix['subtype_code'] = matrix['subtype_code'].astype(np.int8)"
   ]
  },
  {
   "cell_type": "code",
   "execution_count": 70,
   "id": "7913b863",
   "metadata": {},
   "outputs": [
    {
     "data": {
      "text/html": [
       "<div>\n",
       "<style scoped>\n",
       "    .dataframe tbody tr th:only-of-type {\n",
       "        vertical-align: middle;\n",
       "    }\n",
       "\n",
       "    .dataframe tbody tr th {\n",
       "        vertical-align: top;\n",
       "    }\n",
       "\n",
       "    .dataframe thead th {\n",
       "        text-align: right;\n",
       "    }\n",
       "</style>\n",
       "<table border=\"1\" class=\"dataframe\">\n",
       "  <thead>\n",
       "    <tr style=\"text-align: right;\">\n",
       "      <th></th>\n",
       "      <th>date_block_num</th>\n",
       "      <th>shop_id</th>\n",
       "      <th>item_id</th>\n",
       "      <th>city_id</th>\n",
       "      <th>shop_type_id</th>\n",
       "      <th>item_category_id</th>\n",
       "      <th>type_code</th>\n",
       "      <th>subtype_code</th>\n",
       "    </tr>\n",
       "  </thead>\n",
       "  <tbody>\n",
       "    <tr>\n",
       "      <th>8812239</th>\n",
       "      <td>34</td>\n",
       "      <td>45</td>\n",
       "      <td>18454</td>\n",
       "      <td>10</td>\n",
       "      <td>1</td>\n",
       "      <td>55</td>\n",
       "      <td>11</td>\n",
       "      <td>57</td>\n",
       "    </tr>\n",
       "    <tr>\n",
       "      <th>8812240</th>\n",
       "      <td>34</td>\n",
       "      <td>45</td>\n",
       "      <td>16188</td>\n",
       "      <td>10</td>\n",
       "      <td>1</td>\n",
       "      <td>64</td>\n",
       "      <td>7</td>\n",
       "      <td>38</td>\n",
       "    </tr>\n",
       "    <tr>\n",
       "      <th>8812241</th>\n",
       "      <td>34</td>\n",
       "      <td>45</td>\n",
       "      <td>15757</td>\n",
       "      <td>10</td>\n",
       "      <td>1</td>\n",
       "      <td>55</td>\n",
       "      <td>11</td>\n",
       "      <td>57</td>\n",
       "    </tr>\n",
       "    <tr>\n",
       "      <th>8812242</th>\n",
       "      <td>34</td>\n",
       "      <td>45</td>\n",
       "      <td>19648</td>\n",
       "      <td>10</td>\n",
       "      <td>1</td>\n",
       "      <td>40</td>\n",
       "      <td>8</td>\n",
       "      <td>3</td>\n",
       "    </tr>\n",
       "    <tr>\n",
       "      <th>8812243</th>\n",
       "      <td>34</td>\n",
       "      <td>45</td>\n",
       "      <td>969</td>\n",
       "      <td>10</td>\n",
       "      <td>1</td>\n",
       "      <td>37</td>\n",
       "      <td>20</td>\n",
       "      <td>41</td>\n",
       "    </tr>\n",
       "  </tbody>\n",
       "</table>\n",
       "</div>"
      ],
      "text/plain": [
       "         date_block_num  shop_id  item_id  city_id  shop_type_id  \\\n",
       "8812239              34       45    18454       10             1   \n",
       "8812240              34       45    16188       10             1   \n",
       "8812241              34       45    15757       10             1   \n",
       "8812242              34       45    19648       10             1   \n",
       "8812243              34       45      969       10             1   \n",
       "\n",
       "         item_category_id  type_code  subtype_code  \n",
       "8812239                55         11            57  \n",
       "8812240                64          7            38  \n",
       "8812241                55         11            57  \n",
       "8812242                40          8             3  \n",
       "8812243                37         20            41  "
      ]
     },
     "execution_count": 70,
     "metadata": {},
     "output_type": "execute_result"
    }
   ],
   "source": [
    "matrix.tail()"
   ]
  },
  {
   "cell_type": "markdown",
   "id": "336779aa",
   "metadata": {},
   "source": [
    "### 3.3 수치데이터 생성(price, cnt, mean, lag 등)"
   ]
  },
  {
   "cell_type": "code",
   "execution_count": 73,
   "id": "b9e8885e",
   "metadata": {},
   "outputs": [
    {
     "data": {
      "text/html": [
       "<div>\n",
       "<style scoped>\n",
       "    .dataframe tbody tr th:only-of-type {\n",
       "        vertical-align: middle;\n",
       "    }\n",
       "\n",
       "    .dataframe tbody tr th {\n",
       "        vertical-align: top;\n",
       "    }\n",
       "\n",
       "    .dataframe thead th {\n",
       "        text-align: right;\n",
       "    }\n",
       "</style>\n",
       "<table border=\"1\" class=\"dataframe\">\n",
       "  <thead>\n",
       "    <tr style=\"text-align: right;\">\n",
       "      <th></th>\n",
       "      <th>date_block_num</th>\n",
       "      <th>shop_id</th>\n",
       "      <th>item_id</th>\n",
       "      <th>city_id</th>\n",
       "      <th>shop_type_id</th>\n",
       "      <th>item_category_id</th>\n",
       "      <th>type_code</th>\n",
       "      <th>subtype_code</th>\n",
       "    </tr>\n",
       "  </thead>\n",
       "  <tbody>\n",
       "    <tr>\n",
       "      <th>8812183</th>\n",
       "      <td>34</td>\n",
       "      <td>45</td>\n",
       "      <td>10977</td>\n",
       "      <td>10</td>\n",
       "      <td>1</td>\n",
       "      <td>37</td>\n",
       "      <td>20</td>\n",
       "      <td>41</td>\n",
       "    </tr>\n",
       "    <tr>\n",
       "      <th>8812184</th>\n",
       "      <td>34</td>\n",
       "      <td>45</td>\n",
       "      <td>10508</td>\n",
       "      <td>10</td>\n",
       "      <td>1</td>\n",
       "      <td>37</td>\n",
       "      <td>20</td>\n",
       "      <td>41</td>\n",
       "    </tr>\n",
       "    <tr>\n",
       "      <th>8812185</th>\n",
       "      <td>34</td>\n",
       "      <td>45</td>\n",
       "      <td>10697</td>\n",
       "      <td>10</td>\n",
       "      <td>1</td>\n",
       "      <td>49</td>\n",
       "      <td>15</td>\n",
       "      <td>36</td>\n",
       "    </tr>\n",
       "    <tr>\n",
       "      <th>8812186</th>\n",
       "      <td>34</td>\n",
       "      <td>45</td>\n",
       "      <td>8799</td>\n",
       "      <td>10</td>\n",
       "      <td>1</td>\n",
       "      <td>40</td>\n",
       "      <td>8</td>\n",
       "      <td>3</td>\n",
       "    </tr>\n",
       "    <tr>\n",
       "      <th>8812187</th>\n",
       "      <td>34</td>\n",
       "      <td>45</td>\n",
       "      <td>8798</td>\n",
       "      <td>10</td>\n",
       "      <td>1</td>\n",
       "      <td>40</td>\n",
       "      <td>8</td>\n",
       "      <td>3</td>\n",
       "    </tr>\n",
       "    <tr>\n",
       "      <th>...</th>\n",
       "      <td>...</td>\n",
       "      <td>...</td>\n",
       "      <td>...</td>\n",
       "      <td>...</td>\n",
       "      <td>...</td>\n",
       "      <td>...</td>\n",
       "      <td>...</td>\n",
       "      <td>...</td>\n",
       "    </tr>\n",
       "    <tr>\n",
       "      <th>8812239</th>\n",
       "      <td>34</td>\n",
       "      <td>45</td>\n",
       "      <td>18454</td>\n",
       "      <td>10</td>\n",
       "      <td>1</td>\n",
       "      <td>55</td>\n",
       "      <td>11</td>\n",
       "      <td>57</td>\n",
       "    </tr>\n",
       "    <tr>\n",
       "      <th>8812240</th>\n",
       "      <td>34</td>\n",
       "      <td>45</td>\n",
       "      <td>16188</td>\n",
       "      <td>10</td>\n",
       "      <td>1</td>\n",
       "      <td>64</td>\n",
       "      <td>7</td>\n",
       "      <td>38</td>\n",
       "    </tr>\n",
       "    <tr>\n",
       "      <th>8812241</th>\n",
       "      <td>34</td>\n",
       "      <td>45</td>\n",
       "      <td>15757</td>\n",
       "      <td>10</td>\n",
       "      <td>1</td>\n",
       "      <td>55</td>\n",
       "      <td>11</td>\n",
       "      <td>57</td>\n",
       "    </tr>\n",
       "    <tr>\n",
       "      <th>8812242</th>\n",
       "      <td>34</td>\n",
       "      <td>45</td>\n",
       "      <td>19648</td>\n",
       "      <td>10</td>\n",
       "      <td>1</td>\n",
       "      <td>40</td>\n",
       "      <td>8</td>\n",
       "      <td>3</td>\n",
       "    </tr>\n",
       "    <tr>\n",
       "      <th>8812243</th>\n",
       "      <td>34</td>\n",
       "      <td>45</td>\n",
       "      <td>969</td>\n",
       "      <td>10</td>\n",
       "      <td>1</td>\n",
       "      <td>37</td>\n",
       "      <td>20</td>\n",
       "      <td>41</td>\n",
       "    </tr>\n",
       "  </tbody>\n",
       "</table>\n",
       "<p>61 rows × 8 columns</p>\n",
       "</div>"
      ],
      "text/plain": [
       "         date_block_num  shop_id  item_id  city_id  shop_type_id  \\\n",
       "8812183              34       45    10977       10             1   \n",
       "8812184              34       45    10508       10             1   \n",
       "8812185              34       45    10697       10             1   \n",
       "8812186              34       45     8799       10             1   \n",
       "8812187              34       45     8798       10             1   \n",
       "...                 ...      ...      ...      ...           ...   \n",
       "8812239              34       45    18454       10             1   \n",
       "8812240              34       45    16188       10             1   \n",
       "8812241              34       45    15757       10             1   \n",
       "8812242              34       45    19648       10             1   \n",
       "8812243              34       45      969       10             1   \n",
       "\n",
       "         item_category_id  type_code  subtype_code  \n",
       "8812183                37         20            41  \n",
       "8812184                37         20            41  \n",
       "8812185                49         15            36  \n",
       "8812186                40          8             3  \n",
       "8812187                40          8             3  \n",
       "...                   ...        ...           ...  \n",
       "8812239                55         11            57  \n",
       "8812240                64          7            38  \n",
       "8812241                55         11            57  \n",
       "8812242                40          8             3  \n",
       "8812243                37         20            41  \n",
       "\n",
       "[61 rows x 8 columns]"
      ]
     },
     "execution_count": 73,
     "metadata": {},
     "output_type": "execute_result"
    }
   ],
   "source": [
    "matrix.tail(61)"
   ]
  },
  {
   "cell_type": "code",
   "execution_count": null,
   "id": "076a75d9",
   "metadata": {},
   "outputs": [],
   "source": []
  }
 ],
 "metadata": {
  "kernelspec": {
   "display_name": "Python 3 (ipykernel)",
   "language": "python",
   "name": "python3"
  },
  "language_info": {
   "codemirror_mode": {
    "name": "ipython",
    "version": 3
   },
   "file_extension": ".py",
   "mimetype": "text/x-python",
   "name": "python",
   "nbconvert_exporter": "python",
   "pygments_lexer": "ipython3",
   "version": "3.8.12"
  }
 },
 "nbformat": 4,
 "nbformat_minor": 5
}
