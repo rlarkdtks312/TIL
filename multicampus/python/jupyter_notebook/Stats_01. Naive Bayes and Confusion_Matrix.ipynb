{
 "cells": [
  {
   "cell_type": "code",
   "execution_count": 21,
   "id": "c9093547",
   "metadata": {},
   "outputs": [],
   "source": [
    "import nltk"
   ]
  },
  {
   "cell_type": "code",
   "execution_count": 22,
   "id": "66b10f06",
   "metadata": {},
   "outputs": [
    {
     "name": "stdout",
     "output_type": "stream",
     "text": [
      "showing info https://raw.githubusercontent.com/nltk/nltk_data/gh-pages/index.xml\n"
     ]
    },
    {
     "data": {
      "text/plain": [
       "True"
      ]
     },
     "execution_count": 22,
     "metadata": {},
     "output_type": "execute_result"
    }
   ],
   "source": [
    "nltk.download()"
   ]
  },
  {
   "cell_type": "code",
   "execution_count": 23,
   "id": "3e27178c",
   "metadata": {},
   "outputs": [],
   "source": [
    "import numpy as np \n",
    "import pandas as pd\n",
    "from nltk.corpus import stopwords # stopword : 불용어 제거 (the, a, !@#$$%$%$@ 이런 것들)\n",
    "import string\n",
    "import nltk"
   ]
  },
  {
   "cell_type": "code",
   "execution_count": 24,
   "id": "b7442b63",
   "metadata": {},
   "outputs": [
    {
     "data": {
      "text/html": [
       "<div>\n",
       "<style scoped>\n",
       "    .dataframe tbody tr th:only-of-type {\n",
       "        vertical-align: middle;\n",
       "    }\n",
       "\n",
       "    .dataframe tbody tr th {\n",
       "        vertical-align: top;\n",
       "    }\n",
       "\n",
       "    .dataframe thead th {\n",
       "        text-align: right;\n",
       "    }\n",
       "</style>\n",
       "<table border=\"1\" class=\"dataframe\">\n",
       "  <thead>\n",
       "    <tr style=\"text-align: right;\">\n",
       "      <th></th>\n",
       "      <th>Unnamed: 0</th>\n",
       "      <th>num</th>\n",
       "      <th>label</th>\n",
       "      <th>text</th>\n",
       "      <th>label_num</th>\n",
       "    </tr>\n",
       "  </thead>\n",
       "  <tbody>\n",
       "    <tr>\n",
       "      <th>0</th>\n",
       "      <td>0</td>\n",
       "      <td>1</td>\n",
       "      <td>spam</td>\n",
       "      <td>your free lottery</td>\n",
       "      <td>1</td>\n",
       "    </tr>\n",
       "    <tr>\n",
       "      <th>1</th>\n",
       "      <td>1</td>\n",
       "      <td>2</td>\n",
       "      <td>spam</td>\n",
       "      <td>free lottery free you</td>\n",
       "      <td>1</td>\n",
       "    </tr>\n",
       "    <tr>\n",
       "      <th>2</th>\n",
       "      <td>2</td>\n",
       "      <td>3</td>\n",
       "      <td>ham</td>\n",
       "      <td>your free apple</td>\n",
       "      <td>0</td>\n",
       "    </tr>\n",
       "    <tr>\n",
       "      <th>3</th>\n",
       "      <td>3</td>\n",
       "      <td>4</td>\n",
       "      <td>ham</td>\n",
       "      <td>free to contact me</td>\n",
       "      <td>0</td>\n",
       "    </tr>\n",
       "    <tr>\n",
       "      <th>4</th>\n",
       "      <td>4</td>\n",
       "      <td>5</td>\n",
       "      <td>ham</td>\n",
       "      <td>I won award</td>\n",
       "      <td>0</td>\n",
       "    </tr>\n",
       "    <tr>\n",
       "      <th>5</th>\n",
       "      <td>5</td>\n",
       "      <td>6</td>\n",
       "      <td>spam</td>\n",
       "      <td>my lottery ticket</td>\n",
       "      <td>1</td>\n",
       "    </tr>\n",
       "  </tbody>\n",
       "</table>\n",
       "</div>"
      ],
      "text/plain": [
       "   Unnamed: 0  num label                    text  label_num\n",
       "0           0    1  spam       your free lottery          1\n",
       "1           1    2  spam  free lottery free you           1\n",
       "2           2    3   ham        your free apple           0\n",
       "3           3    4   ham     free to contact me           0\n",
       "4           4    5   ham             I won award          0\n",
       "5           5    6  spam      my lottery ticket           1"
      ]
     },
     "execution_count": 24,
     "metadata": {},
     "output_type": "execute_result"
    }
   ],
   "source": [
    "df = pd.read_csv(\"./data/spam.csv\")\n",
    "df"
   ]
  },
  {
   "cell_type": "code",
   "execution_count": 30,
   "id": "319a7697",
   "metadata": {},
   "outputs": [],
   "source": [
    "# 베이지안 확률 정의\n",
    "\n",
    "def process_text(text) :\n",
    "    \n",
    "    # 구두점 제거\n",
    "    nopunc = [char for char in text if char not in string.punctuation] # list conprehension\n",
    "    nopunc = ''.join(nopunc)\n",
    "    \n",
    "    # text에서 무의미한 단어(접미사, 조사 등) 삭제 --> stopwords (불용어) 제거\n",
    "    # 대소문자를 구분하기에 보통 소문자로 변환\n",
    "    cleaned_words = [word for word in nopunc.split() if word.lower() not in stopwords.words('english')]\n",
    "    \n",
    "    return cleaned_words\n"
   ]
  },
  {
   "cell_type": "code",
   "execution_count": 31,
   "id": "5fb697d2",
   "metadata": {},
   "outputs": [
    {
     "data": {
      "text/plain": [
       "0         your free lottery\n",
       "1    free lottery free you \n",
       "2          your free apple \n",
       "3       free to contact me \n",
       "4               I won award\n",
       "5        my lottery ticket \n",
       "Name: text, dtype: object"
      ]
     },
     "execution_count": 31,
     "metadata": {},
     "output_type": "execute_result"
    }
   ],
   "source": [
    "# 데이터 셋의 덱스트 데이터 토큰화(=분절) ex) 나는 / 너를 / 사랑해\n",
    "df['text']"
   ]
  },
  {
   "cell_type": "code",
   "execution_count": 32,
   "id": "56957818",
   "metadata": {},
   "outputs": [
    {
     "data": {
      "text/plain": [
       "0          [free, lottery]\n",
       "1    [free, lottery, free]\n",
       "2            [free, apple]\n",
       "3          [free, contact]\n",
       "4                  [award]\n",
       "5        [lottery, ticket]\n",
       "Name: text, dtype: object"
      ]
     },
     "execution_count": 32,
     "metadata": {},
     "output_type": "execute_result"
    }
   ],
   "source": [
    "# 데이터 셋의 덱스트 데이터 토큰화(=분절) ex) 나는 / 너를 / 사랑해\n",
    "df['text'].apply(process_text)"
   ]
  },
  {
   "cell_type": "code",
   "execution_count": 34,
   "id": "13cb3437",
   "metadata": {},
   "outputs": [
    {
     "data": {
      "text/plain": [
       "<6x6 sparse matrix of type '<class 'numpy.int64'>'\n",
       "\twith 11 stored elements in Compressed Sparse Row format>"
      ]
     },
     "execution_count": 34,
     "metadata": {},
     "output_type": "execute_result"
    }
   ],
   "source": [
    "# text를 token 수의 행렬로 변환\n",
    "\n",
    "from sklearn.feature_extraction.text import CountVectorizer\n",
    "messages_bow = CountVectorizer(analyzer=process_text).fit_transform(df['text'])\n",
    "messages_bow"
   ]
  },
  {
   "cell_type": "code",
   "execution_count": 36,
   "id": "57dd4d71",
   "metadata": {},
   "outputs": [],
   "source": [
    "# data를 train, test 로 분류\n",
    "\n",
    "from sklearn.model_selection import train_test_split\n",
    "X_train, X_test, y_train, y_test = train_test_split(messages_bow, df['label_num'], test_size=0.2, random_state = 0)\n",
    "# large X인 이유는 독립 변수라는 의미이다.\n",
    "# test_size = 0.2 20%f로 하겠다 train data는 80%\n",
    "# random_state = 0 : 한번 test, train를 나누면 그대로 사용하겠다."
   ]
  },
  {
   "cell_type": "code",
   "execution_count": 37,
   "id": "8eac9f30",
   "metadata": {},
   "outputs": [
    {
     "data": {
      "text/plain": [
       "MultinomialNB()"
      ]
     },
     "execution_count": 37,
     "metadata": {},
     "output_type": "execute_result"
    }
   ],
   "source": [
    "# naive_bayes 다항식 나이브베이즈 모델 사용, 훈련\n",
    "\n",
    "from sklearn.naive_bayes import MultinomialNB\n",
    "classifier = MultinomialNB()\n",
    "classifier.fit(X_train, y_train) # train 데이타를 fit 해야 함"
   ]
  },
  {
   "cell_type": "code",
   "execution_count": 39,
   "id": "359d5b90",
   "metadata": {},
   "outputs": [
    {
     "name": "stdout",
     "output_type": "stream",
     "text": [
      "[1 0 1 0]\n",
      "[1 0 1 0]\n"
     ]
    }
   ],
   "source": [
    "# 예측 값, 실제 값 출력\n",
    "\n",
    "print(classifier.predict(X_train)) # 예측값\n",
    "print(y_train.values)"
   ]
  },
  {
   "cell_type": "code",
   "execution_count": 44,
   "id": "6eb2c091",
   "metadata": {},
   "outputs": [
    {
     "name": "stdout",
     "output_type": "stream",
     "text": [
      "              precision    recall  f1-score   support\n",
      "\n",
      "           0       1.00      1.00      1.00         2\n",
      "           1       1.00      1.00      1.00         2\n",
      "\n",
      "    accuracy                           1.00         4\n",
      "   macro avg       1.00      1.00      1.00         4\n",
      "weighted avg       1.00      1.00      1.00         4\n",
      "\n"
     ]
    }
   ],
   "source": [
    "# 학습 데이터셋에 모델 정확도\n",
    "\n",
    "from sklearn.metrics import classification_report\n",
    "from sklearn.metrics import confusion_matrix, accuracy_score\n",
    "\n",
    "pred = classifier.predict(X_train) # 예측값 출력\n",
    "\n",
    "# metrucs pkg 에 있는 정밀도(precision), 재현율(recall), f-1 socre 구하기\n",
    "print(classification_report(y_train, pred))\n",
    "# support는 데이터 수?"
   ]
  },
  {
   "cell_type": "markdown",
   "id": "671a8a57",
   "metadata": {},
   "source": [
    "1. precision(정밀도) : 정확한 예측 / 예측을 기준으로 TP 진짜 양성인 것을 맞추는 것\n",
    "2. recall(재현율) : 재현 실화냐 / 실제(actual)를 기준으로 TP 진짜 양성인 것을 맞추는 것\n",
    "3. f1-score(정밀도와 재현율의 조화평균) :  사용이유 둘 다 중요한 지표니까 둘 다 고려함\n",
    "4. 정밀도와 재현율은 상충관계(trade-off)\n",
    "5. 산업군 마다 중요도 가 틀림\n",
    " - 의료 : 재현율 (암환자_True Positive 에게 함(Positive)라 진단해야 함)\n",
    " - 반도체 : 정밀도 (정확히 예측하는 제품을 생산해 정확하게 실제에 딱 맞춤)"
   ]
  },
  {
   "cell_type": "code",
   "execution_count": 45,
   "id": "76bb473a",
   "metadata": {},
   "outputs": [
    {
     "data": {
      "text/plain": [
       "array([[2, 0],\n",
       "       [0, 2]], dtype=int64)"
      ]
     },
     "execution_count": 45,
     "metadata": {},
     "output_type": "execute_result"
    }
   ],
   "source": [
    "# confusion matrix\n",
    "\n",
    "confusion_matrix(y_train, pred)"
   ]
  },
  {
   "cell_type": "code",
   "execution_count": 46,
   "id": "d401d761",
   "metadata": {},
   "outputs": [
    {
     "data": {
      "text/plain": [
       "1.0"
      ]
     },
     "execution_count": 46,
     "metadata": {},
     "output_type": "execute_result"
    }
   ],
   "source": [
    "accuracy_score(y_train, pred)"
   ]
  },
  {
   "cell_type": "code",
   "execution_count": 47,
   "id": "7eb70512",
   "metadata": {},
   "outputs": [
    {
     "data": {
      "text/plain": [
       "array([1, 1], dtype=int64)"
      ]
     },
     "execution_count": 47,
     "metadata": {},
     "output_type": "execute_result"
    }
   ],
   "source": [
    "# 테스트 데이터 셋 모델의 정확도 평가\n",
    "classifier.predict(X_test)"
   ]
  },
  {
   "cell_type": "code",
   "execution_count": 48,
   "id": "a7aa6674",
   "metadata": {},
   "outputs": [
    {
     "name": "stdout",
     "output_type": "stream",
     "text": [
      "[1 0]\n"
     ]
    }
   ],
   "source": [
    "# 실제 관측값 출력\n",
    "\n",
    "print(y_test.values)"
   ]
  },
  {
   "cell_type": "code",
   "execution_count": 52,
   "id": "9534e544",
   "metadata": {},
   "outputs": [
    {
     "name": "stdout",
     "output_type": "stream",
     "text": [
      "[[0 1]\n",
      " [0 1]]\n"
     ]
    }
   ],
   "source": [
    "# 테스트 셋에서 모델 평가\n",
    "\n",
    "from sklearn.metrics import classification_report\n",
    "from sklearn.metrics import confusion_matrix, accuracy_score\n",
    "\n",
    "pred = classifier.predict(X_test) # X_test : test data(새로운 데이터로 간주)\n",
    "print(confusion_matrix(y_test, pred)) # 실제 라벨, 예측 라벨"
   ]
  },
  {
   "cell_type": "code",
   "execution_count": 53,
   "id": "4b5228b8",
   "metadata": {},
   "outputs": [
    {
     "name": "stdout",
     "output_type": "stream",
     "text": [
      "0.5\n"
     ]
    }
   ],
   "source": [
    "print(accuracy_score(y_test, pred)) # 예측류 : 0.5 = 50%"
   ]
  },
  {
   "cell_type": "code",
   "execution_count": null,
   "id": "3acffba7",
   "metadata": {},
   "outputs": [],
   "source": []
  }
 ],
 "metadata": {
  "kernelspec": {
   "display_name": "Python 3 (ipykernel)",
   "language": "python",
   "name": "python3"
  },
  "language_info": {
   "codemirror_mode": {
    "name": "ipython",
    "version": 3
   },
   "file_extension": ".py",
   "mimetype": "text/x-python",
   "name": "python",
   "nbconvert_exporter": "python",
   "pygments_lexer": "ipython3",
   "version": "3.8.12"
  }
 },
 "nbformat": 4,
 "nbformat_minor": 5
}
