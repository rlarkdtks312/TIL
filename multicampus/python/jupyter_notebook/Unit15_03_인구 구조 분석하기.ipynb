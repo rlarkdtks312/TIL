{
 "cells": [
  {
   "cell_type": "markdown",
   "id": "624f50e1",
   "metadata": {},
   "source": [
    "데이터 읽어보기: 원하는 동네 인구 구조와 비슷한 지역들을 그래프로 나타내기"
   ]
  },
  {
   "cell_type": "markdown",
   "id": "e57a1e2e",
   "metadata": {},
   "source": [
    "1. 데이터 읽어보기"
   ]
  },
  {
   "cell_type": "code",
   "execution_count": null,
   "id": "0818960f",
   "metadata": {
    "scrolled": true
   },
   "outputs": [],
   "source": [
    "import pandas as pd\n",
    "df=pd.read_csv('C:/Users/nadai/code/data/age.csv',encoding='cp949',index_col=0)\n",
    "df.head()"
   ]
  },
  {
   "cell_type": "markdown",
   "id": "f8a6b3bc",
   "metadata": {},
   "source": [
    "1. 총인구, 연령구간인구수 삭제"
   ]
  },
  {
   "cell_type": "code",
   "execution_count": null,
   "id": "c25c15d8",
   "metadata": {
    "scrolled": true
   },
   "outputs": [],
   "source": [
    "import pandas as pd\n",
    "df=pd.read_csv('C:/Users/nadai/code/data/age.csv',encoding='cp949',index_col=0)\n",
    "df=df.div(df['총인구수'],axis=0)                #전체 데이터를 총인구수로 나눠서 비율로 변환\n",
    "del df['총인구수'], df['연령구간인구수']        #총인구수, 연령구간인구수 열 삭제\n",
    "df"
   ]
  },
  {
   "cell_type": "markdown",
   "id": "d509c325",
   "metadata": {},
   "source": [
    "2~3. 궁금한 지역 이름 입력받고 해당 지역의 인구 구조 저장하기"
   ]
  },
  {
   "cell_type": "markdown",
   "id": "d499e29e",
   "metadata": {},
   "source": [
    "2. 궁금한 지역 이름 입력받기"
   ]
  },
  {
   "cell_type": "code",
   "execution_count": null,
   "id": "9f495b04",
   "metadata": {
    "scrolled": true
   },
   "outputs": [],
   "source": [
    "name=input('원하는 지역을 입력하세요: ') #지역 이름 입력\n",
    "a=df.index.str.contains(name)             #해당 행을 찾아서 해당 지역의 인구 구조를 저장\n",
    "df2=df[a]\n",
    "df2"
   ]
  },
  {
   "cell_type": "markdown",
   "id": "8dcaabb7",
   "metadata": {},
   "source": [
    "3. 해당 지역의 인구 구조 저장하기"
   ]
  },
  {
   "cell_type": "code",
   "execution_count": null,
   "id": "1eb8f9fe",
   "metadata": {},
   "outputs": [],
   "source": [
    "import matplotlib.pyplot as plt\n",
    "plt.rc('font', family='Malgun Gothic')\n",
    "df2.plot()\n",
    "plt.show()"
   ]
  },
  {
   "cell_type": "code",
   "execution_count": null,
   "id": "212a311a",
   "metadata": {
    "scrolled": true
   },
   "outputs": [],
   "source": [
    "import matplotlib.pyplot as plt\n",
    "plt.rc('font', family='Malgun Gothic')\n",
    "df2.T.plot()\n",
    "plt.show()"
   ]
  },
  {
   "cell_type": "code",
   "execution_count": null,
   "id": "eae72335",
   "metadata": {},
   "outputs": [],
   "source": []
  }
 ],
 "metadata": {
  "kernelspec": {
   "display_name": "Python 3 (ipykernel)",
   "language": "python",
   "name": "python3"
  },
  "language_info": {
   "codemirror_mode": {
    "name": "ipython",
    "version": 3
   },
   "file_extension": ".py",
   "mimetype": "text/x-python",
   "name": "python",
   "nbconvert_exporter": "python",
   "pygments_lexer": "ipython3",
   "version": "3.9.7"
  }
 },
 "nbformat": 4,
 "nbformat_minor": 5
}
