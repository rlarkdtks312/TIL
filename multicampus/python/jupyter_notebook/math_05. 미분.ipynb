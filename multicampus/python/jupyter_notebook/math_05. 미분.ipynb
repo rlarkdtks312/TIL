{
 "cells": [
  {
   "cell_type": "code",
   "execution_count": 2,
   "id": "7234a63c",
   "metadata": {},
   "outputs": [],
   "source": [
    "from sympy import symbols"
   ]
  },
  {
   "cell_type": "markdown",
   "id": "230e56ee",
   "metadata": {},
   "source": [
    "## 평균 변화율 함수\n"
   ]
  },
  {
   "cell_type": "code",
   "execution_count": 15,
   "id": "0b3faa06",
   "metadata": {},
   "outputs": [],
   "source": [
    "def average_max_min(a,b):\n",
    "    m = max(a,b)\n",
    "    n = min(a,b)\n",
    "    x = symbols('x')\n",
    "    \n",
    "    fx = 2*(x**2)+4*x+7\n",
    "    fb = fx.subs(x,b) # 최대값을 함수에 넣는 것\n",
    "    fa = fx.subs(x,a) # 최소값을 함수에 넣는 것\n",
    "    \n",
    "    result = (fb-fa) / (m-n)\n",
    "    return result"
   ]
  },
  {
   "cell_type": "code",
   "execution_count": 18,
   "id": "c818097d",
   "metadata": {},
   "outputs": [],
   "source": [
    "def average(a,b):\n",
    "    x = symbols('x')\n",
    "    \n",
    "    fx = 2*(x**2)+4*x+7\n",
    "    fb = fx.subs(x,b) # 최대값을 함수에 넣는 것\n",
    "    fa = fx.subs(x,a) # 최소값을 함수에 넣는 것\n",
    "    \n",
    "    result = (fb-fa) / (b-a)\n",
    "    return result"
   ]
  },
  {
   "cell_type": "code",
   "execution_count": 17,
   "id": "0f4ef74a",
   "metadata": {},
   "outputs": [
    {
     "name": "stdout",
     "output_type": "stream",
     "text": [
      "44\n"
     ]
    }
   ],
   "source": [
    "print(average(20,0))"
   ]
  },
  {
   "cell_type": "code",
   "execution_count": 5,
   "id": "5f38cd21",
   "metadata": {},
   "outputs": [
    {
     "name": "stdout",
     "output_type": "stream",
     "text": [
      "8\n"
     ]
    }
   ],
   "source": [
    "print(average(0,2))"
   ]
  },
  {
   "cell_type": "markdown",
   "id": "98cc4b9d",
   "metadata": {},
   "source": [
    "## 순간 변화율 함수\n"
   ]
  },
  {
   "cell_type": "code",
   "execution_count": 6,
   "id": "5bcadfa2",
   "metadata": {},
   "outputs": [],
   "source": [
    "from sympy import Derivative, symbols"
   ]
  },
  {
   "cell_type": "code",
   "execution_count": 7,
   "id": "cdd94836",
   "metadata": {},
   "outputs": [],
   "source": [
    "# 평균변화율을 구할 수 있는 함수를 정의\n",
    "\n",
    "x = symbols('x')\n",
    "fx = 2*(x**2)+4*x+7"
   ]
  },
  {
   "cell_type": "code",
   "execution_count": 8,
   "id": "d4066951",
   "metadata": {},
   "outputs": [
    {
     "data": {
      "text/latex": [
       "$\\displaystyle 4 x + 4$"
      ],
      "text/plain": [
       "4*x + 4"
      ]
     },
     "execution_count": 8,
     "metadata": {},
     "output_type": "execute_result"
    }
   ],
   "source": [
    "Derivative(fx,x).doit()"
   ]
  },
  {
   "cell_type": "code",
   "execution_count": 9,
   "id": "f8f4eb69",
   "metadata": {},
   "outputs": [],
   "source": [
    "f_prime = Derivative(fx,x).doit()"
   ]
  },
  {
   "cell_type": "code",
   "execution_count": 10,
   "id": "7808bcb8",
   "metadata": {},
   "outputs": [
    {
     "data": {
      "text/latex": [
       "$\\displaystyle 16$"
      ],
      "text/plain": [
       "16"
      ]
     },
     "execution_count": 10,
     "metadata": {},
     "output_type": "execute_result"
    }
   ],
   "source": [
    "f_prime.subs({x:3}) # 미분계수 f_prime 3"
   ]
  },
  {
   "cell_type": "markdown",
   "id": "de751fbf",
   "metadata": {},
   "source": [
    "## 다항함수의 미분"
   ]
  },
  {
   "cell_type": "code",
   "execution_count": 13,
   "id": "4e97278d",
   "metadata": {},
   "outputs": [],
   "source": [
    "import sympy as sym"
   ]
  },
  {
   "cell_type": "code",
   "execution_count": 14,
   "id": "3869458e",
   "metadata": {},
   "outputs": [
    {
     "name": "stdout",
     "output_type": "stream",
     "text": [
      "6*x**2 + 6*x + 1\n"
     ]
    }
   ],
   "source": [
    "x = sym.Symbol('x')\n",
    "a = sym.diff((2*x**3+3*x**2+x+1),x)\n",
    "print(a)"
   ]
  },
  {
   "cell_type": "code",
   "execution_count": null,
   "id": "acaed9b8",
   "metadata": {},
   "outputs": [],
   "source": []
  }
 ],
 "metadata": {
  "kernelspec": {
   "display_name": "Python 3 (ipykernel)",
   "language": "python",
   "name": "python3"
  },
  "language_info": {
   "codemirror_mode": {
    "name": "ipython",
    "version": 3
   },
   "file_extension": ".py",
   "mimetype": "text/x-python",
   "name": "python",
   "nbconvert_exporter": "python",
   "pygments_lexer": "ipython3",
   "version": "3.8.12"
  }
 },
 "nbformat": 4,
 "nbformat_minor": 5
}
