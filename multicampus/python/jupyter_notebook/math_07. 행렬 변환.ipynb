{
 "cells": [
  {
   "cell_type": "markdown",
   "id": "18fdf00e",
   "metadata": {},
   "source": [
    "1. 역함수와 역변환\n",
    "- 역행렬"
   ]
  },
  {
   "cell_type": "code",
   "execution_count": 3,
   "id": "eb826438",
   "metadata": {},
   "outputs": [
    {
     "name": "stdout",
     "output_type": "stream",
     "text": [
      "[[1 0 0 0]\n",
      " [2 1 0 0]\n",
      " [3 0 1 0]\n",
      " [4 0 0 1]]\n",
      "\n",
      "[[ 1.  0.  0.  0.]\n",
      " [-2.  1.  0.  0.]\n",
      " [-3.  0.  1.  0.]\n",
      " [-4. -0. -0.  1.]]\n"
     ]
    }
   ],
   "source": [
    "import numpy as np\n",
    "\n",
    "A = np.matrix([[1,0,0,0],[2,1,0,0],[3,0,1,0],[4,0,0,1]])\n",
    "\n",
    "print(A)\n",
    "print()\n",
    "print(np.linalg.inv(A))"
   ]
  },
  {
   "cell_type": "code",
   "execution_count": 7,
   "id": "50c81b3a",
   "metadata": {},
   "outputs": [
    {
     "name": "stdout",
     "output_type": "stream",
     "text": [
      "[[ 0  1  2  3  4]\n",
      " [ 5  6  7  8  9]\n",
      " [10 11 12 13 14]]\n"
     ]
    }
   ],
   "source": [
    "# 전치행렬(Transpose)\n",
    "\n",
    "a = np.arange(15).reshape(3,5)\n",
    "print(a)"
   ]
  },
  {
   "cell_type": "code",
   "execution_count": 8,
   "id": "34452beb",
   "metadata": {},
   "outputs": [
    {
     "data": {
      "text/plain": [
       "array([[ 0,  5, 10],\n",
       "       [ 1,  6, 11],\n",
       "       [ 2,  7, 12],\n",
       "       [ 3,  8, 13],\n",
       "       [ 4,  9, 14]])"
      ]
     },
     "execution_count": 8,
     "metadata": {},
     "output_type": "execute_result"
    }
   ],
   "source": [
    "np.transpose(a)"
   ]
  },
  {
   "cell_type": "code",
   "execution_count": 14,
   "id": "0d29b698",
   "metadata": {},
   "outputs": [
    {
     "data": {
      "text/plain": [
       "(array([5.44948974, 0.55051026]),\n",
       " array([[ 0.91209559,  0.21927526],\n",
       "        [-0.40997761,  0.97566304]]))"
      ]
     },
     "execution_count": 14,
     "metadata": {},
     "output_type": "execute_result"
    }
   ],
   "source": [
    " # 고유값, 고유벡터\n",
    "    \n",
    "a = np.array([[5,-1],[-2,1]])\n",
    "np.linalg.eig(a)"
   ]
  },
  {
   "cell_type": "code",
   "execution_count": 18,
   "id": "34990e02",
   "metadata": {},
   "outputs": [
    {
     "name": "stdout",
     "output_type": "stream",
     "text": [
      "[5.44948974 0.55051026]\n",
      "\n",
      "[[ 0.91209559  0.21927526]\n",
      " [-0.40997761  0.97566304]]\n"
     ]
    }
   ],
   "source": [
    "# w : 고유값, v : 고유벡터\n",
    "w, v = np.linalg.eig(a)\n",
    "\n",
    "print(w)\n",
    "print()\n",
    "print(v)"
   ]
  },
  {
   "cell_type": "code",
   "execution_count": 20,
   "id": "c727f8bc",
   "metadata": {},
   "outputs": [
    {
     "data": {
      "text/plain": [
       "(array([-2.,  5.]),\n",
       " array([[-0.70710678, -0.6       ],\n",
       "        [ 0.70710678, -0.8       ]]))"
      ]
     },
     "execution_count": 20,
     "metadata": {},
     "output_type": "execute_result"
    }
   ],
   "source": [
    "b = np.array([[1,3],[4,2]])\n",
    "\n",
    "np.linalg.eig(b)"
   ]
  },
  {
   "cell_type": "code",
   "execution_count": 21,
   "id": "62a60442",
   "metadata": {},
   "outputs": [
    {
     "name": "stdout",
     "output_type": "stream",
     "text": [
      "[-2.  5.]\n",
      "\n",
      "[[-0.70710678 -0.6       ]\n",
      " [ 0.70710678 -0.8       ]]\n"
     ]
    }
   ],
   "source": [
    "# w : 고유값, v : 고유벡터\n",
    "w, v = np.linalg.eig(b)\n",
    "\n",
    "print(w)\n",
    "print()\n",
    "print(v)"
   ]
  },
  {
   "cell_type": "code",
   "execution_count": null,
   "id": "58ae0ca1",
   "metadata": {},
   "outputs": [],
   "source": []
  }
 ],
 "metadata": {
  "kernelspec": {
   "display_name": "Python 3 (ipykernel)",
   "language": "python",
   "name": "python3"
  },
  "language_info": {
   "codemirror_mode": {
    "name": "ipython",
    "version": 3
   },
   "file_extension": ".py",
   "mimetype": "text/x-python",
   "name": "python",
   "nbconvert_exporter": "python",
   "pygments_lexer": "ipython3",
   "version": "3.8.12"
  }
 },
 "nbformat": 4,
 "nbformat_minor": 5
}
