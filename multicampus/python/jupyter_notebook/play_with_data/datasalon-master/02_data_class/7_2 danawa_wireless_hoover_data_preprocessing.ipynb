{
 "cells": [
  {
   "cell_type": "code",
   "execution_count": 1,
   "id": "ea83c1fb",
   "metadata": {},
   "outputs": [],
   "source": [
    "import pandas as pd\n",
    "import numpy as np"
   ]
  },
  {
   "cell_type": "code",
   "execution_count": 2,
   "id": "c4db9583",
   "metadata": {},
   "outputs": [
    {
     "name": "stdout",
     "output_type": "stream",
     "text": [
      "<class 'pandas.core.frame.DataFrame'>\n",
      "RangeIndex: 410 entries, 0 to 409\n",
      "Data columns (total 3 columns):\n",
      " #   Column  Non-Null Count  Dtype \n",
      "---  ------  --------------  ----- \n",
      " 0   상품명     410 non-null    object\n",
      " 1   스펙 목록   410 non-null    object\n",
      " 2   가격      410 non-null    int64 \n",
      "dtypes: int64(1), object(2)\n",
      "memory usage: 9.7+ KB\n"
     ]
    },
    {
     "data": {
      "text/html": [
       "<div>\n",
       "<style scoped>\n",
       "    .dataframe tbody tr th:only-of-type {\n",
       "        vertical-align: middle;\n",
       "    }\n",
       "\n",
       "    .dataframe tbody tr th {\n",
       "        vertical-align: top;\n",
       "    }\n",
       "\n",
       "    .dataframe thead th {\n",
       "        text-align: right;\n",
       "    }\n",
       "</style>\n",
       "<table border=\"1\" class=\"dataframe\">\n",
       "  <thead>\n",
       "    <tr style=\"text-align: right;\">\n",
       "      <th></th>\n",
       "      <th>상품명</th>\n",
       "      <th>스펙 목록</th>\n",
       "      <th>가격</th>\n",
       "    </tr>\n",
       "  </thead>\n",
       "  <tbody>\n",
       "    <tr>\n",
       "      <th>0</th>\n",
       "      <td>LG전자 오브제컬렉션 코드제로 ThinQ A9S AO9571</td>\n",
       "      <td>상세 스펙핸디/스틱청소기 / 핸디+스틱형 / 무선형 / 흡입+걸레겸용 / 소비전력:...</td>\n",
       "      <td>1055310</td>\n",
       "    </tr>\n",
       "    <tr>\n",
       "      <th>1</th>\n",
       "      <td>삼성전자 비스포크 제트 VS20A956A3</td>\n",
       "      <td>상세 스펙핸디/스틱청소기 / 핸디+스틱형 / 무선형 / 흡입+걸레겸용 / [성능] ...</td>\n",
       "      <td>578480</td>\n",
       "    </tr>\n",
       "    <tr>\n",
       "      <th>2</th>\n",
       "      <td>LG전자 코드제로 ThinQ A9S AS9370IKT</td>\n",
       "      <td>상세 스펙핸디/스틱청소기 / 핸디+스틱형 / 무선형 / 흡입+걸레겸용 / 소비전력:...</td>\n",
       "      <td>784550</td>\n",
       "    </tr>\n",
       "    <tr>\n",
       "      <th>3</th>\n",
       "      <td>샤오미 CLEANFLY 차량용 무선 청소기 4세대 H2 (해외구매)</td>\n",
       "      <td>상세 스펙차량용청소기 / 무선 / 흡입력: 16,800Pa / 최대출력: 120W ...</td>\n",
       "      <td>59840</td>\n",
       "    </tr>\n",
       "    <tr>\n",
       "      <th>4</th>\n",
       "      <td>4gmvkK79gl</td>\n",
       "      <td>상세 스펙4gmvkK79gl187322</td>\n",
       "      <td>187322</td>\n",
       "    </tr>\n",
       "  </tbody>\n",
       "</table>\n",
       "</div>"
      ],
      "text/plain": [
       "                                     상품명  \\\n",
       "0      LG전자 오브제컬렉션 코드제로 ThinQ A9S AO9571   \n",
       "1                삼성전자 비스포크 제트 VS20A956A3   \n",
       "2          LG전자 코드제로 ThinQ A9S AS9370IKT   \n",
       "3  샤오미 CLEANFLY 차량용 무선 청소기 4세대 H2 (해외구매)   \n",
       "4                             4gmvkK79gl   \n",
       "\n",
       "                                               스펙 목록       가격  \n",
       "0  상세 스펙핸디/스틱청소기 / 핸디+스틱형 / 무선형 / 흡입+걸레겸용 / 소비전력:...  1055310  \n",
       "1  상세 스펙핸디/스틱청소기 / 핸디+스틱형 / 무선형 / 흡입+걸레겸용 / [성능] ...   578480  \n",
       "2  상세 스펙핸디/스틱청소기 / 핸디+스틱형 / 무선형 / 흡입+걸레겸용 / 소비전력:...   784550  \n",
       "3  상세 스펙차량용청소기 / 무선 / 흡입력: 16,800Pa / 최대출력: 120W ...    59840  \n",
       "4                              상세 스펙4gmvkK79gl187322   187322  "
      ]
     },
     "execution_count": 2,
     "metadata": {},
     "output_type": "execute_result"
    }
   ],
   "source": [
    "data = pd.read_excel('./my_files/danawa_crawling_result_class.xlsx')\n",
    "data.info()\n",
    "data.head()"
   ]
  },
  {
   "cell_type": "markdown",
   "id": "bf94d855",
   "metadata": {},
   "source": [
    "### 회사명, 모델명 정리"
   ]
  },
  {
   "cell_type": "code",
   "execution_count": 3,
   "id": "6d93f262",
   "metadata": {},
   "outputs": [
    {
     "name": "stdout",
     "output_type": "stream",
     "text": [
      "LG전자\n",
      "오브제컬렉션 코드제로 ThinQ A9S AO9571\n"
     ]
    }
   ],
   "source": [
    "cname = data['상품명'][0].split(' ', 1)[0]\n",
    "pname =data['상품명'][0].split(' ', 1)[1]\n",
    "print(cname)\n",
    "print(pname)"
   ]
  },
  {
   "cell_type": "code",
   "execution_count": 4,
   "id": "35d004ab",
   "metadata": {},
   "outputs": [
    {
     "name": "stdout",
     "output_type": "stream",
     "text": [
      "['LG전자', '삼성전자', 'LG전자', '샤오미', None]\n",
      "['오브제컬렉션 코드제로 ThinQ A9S AO9571', '비스포크 제트 VS20A956A3', '코드제로 ThinQ A9S AS9370IKT', 'CLEANFLY 차량용 무선 청소기 4세대 H2 (해외구매)', None]\n"
     ]
    }
   ],
   "source": [
    "company_list =[]\n",
    "product_list =[]\n",
    "\n",
    "for title in data['상품명']:\n",
    "    try:\n",
    "        cname = title.split(' ',1)[0]\n",
    "        pname = title.split(' ',1)[1]\n",
    "\n",
    "        company_list.append(cname)\n",
    "        product_list.append(pname)\n",
    "    except:\n",
    "        company_list.append(None)\n",
    "        product_list.append(None)\n",
    "print(company_list[:5])\n",
    "print(product_list[:5])"
   ]
  },
  {
   "cell_type": "code",
   "execution_count": 5,
   "id": "f500dc65",
   "metadata": {},
   "outputs": [
    {
     "data": {
      "text/plain": [
       "410"
      ]
     },
     "execution_count": 5,
     "metadata": {},
     "output_type": "execute_result"
    }
   ],
   "source": [
    "len(company_list)\n",
    "len(product_list)"
   ]
  },
  {
   "cell_type": "markdown",
   "id": "adfe44d8",
   "metadata": {},
   "source": [
    "### 스펙 목록 데이터 살펴보기"
   ]
  },
  {
   "cell_type": "code",
   "execution_count": 6,
   "id": "1d1bd77f",
   "metadata": {},
   "outputs": [
    {
     "data": {
      "text/html": [
       "<div>\n",
       "<style scoped>\n",
       "    .dataframe tbody tr th:only-of-type {\n",
       "        vertical-align: middle;\n",
       "    }\n",
       "\n",
       "    .dataframe tbody tr th {\n",
       "        vertical-align: top;\n",
       "    }\n",
       "\n",
       "    .dataframe thead th {\n",
       "        text-align: right;\n",
       "    }\n",
       "</style>\n",
       "<table border=\"1\" class=\"dataframe\">\n",
       "  <thead>\n",
       "    <tr style=\"text-align: right;\">\n",
       "      <th></th>\n",
       "      <th>상품명</th>\n",
       "      <th>스펙 목록</th>\n",
       "      <th>가격</th>\n",
       "    </tr>\n",
       "  </thead>\n",
       "  <tbody>\n",
       "    <tr>\n",
       "      <th>0</th>\n",
       "      <td>LG전자 오브제컬렉션 코드제로 ThinQ A9S AO9571</td>\n",
       "      <td>핸디/스틱청소기 / 핸디+스틱형 / 무선형 / 흡입+걸레겸용 / 소비전력: 590W...</td>\n",
       "      <td>1055310</td>\n",
       "    </tr>\n",
       "    <tr>\n",
       "      <th>1</th>\n",
       "      <td>삼성전자 비스포크 제트 VS20A956A3</td>\n",
       "      <td>핸디/스틱청소기 / 핸디+스틱형 / 무선형 / 흡입+걸레겸용 / [성능] 흡입력: ...</td>\n",
       "      <td>578480</td>\n",
       "    </tr>\n",
       "    <tr>\n",
       "      <th>2</th>\n",
       "      <td>LG전자 코드제로 ThinQ A9S AS9370IKT</td>\n",
       "      <td>핸디/스틱청소기 / 핸디+스틱형 / 무선형 / 흡입+걸레겸용 / 소비전력: 590W...</td>\n",
       "      <td>784550</td>\n",
       "    </tr>\n",
       "    <tr>\n",
       "      <th>3</th>\n",
       "      <td>샤오미 CLEANFLY 차량용 무선 청소기 4세대 H2 (해외구매)</td>\n",
       "      <td>차량용청소기 / 무선 / 흡입력: 16,800Pa / 최대출력: 120W / 헤파필...</td>\n",
       "      <td>59840</td>\n",
       "    </tr>\n",
       "    <tr>\n",
       "      <th>4</th>\n",
       "      <td>4gmvkK79gl</td>\n",
       "      <td>4gmvkK79gl187322</td>\n",
       "      <td>187322</td>\n",
       "    </tr>\n",
       "    <tr>\n",
       "      <th>...</th>\n",
       "      <td>...</td>\n",
       "      <td>...</td>\n",
       "      <td>...</td>\n",
       "    </tr>\n",
       "    <tr>\n",
       "      <th>405</th>\n",
       "      <td>테팔 에어포스 라이트 TY6545KL</td>\n",
       "      <td>핸디/스틱청소기 / 스틱형 / 무선형 / [성능] 싸이클론 / [배터리] 충전시간:...</td>\n",
       "      <td>108330</td>\n",
       "    </tr>\n",
       "    <tr>\n",
       "      <th>406</th>\n",
       "      <td>스윙 파워스윙 SWING-8000</td>\n",
       "      <td>핸디/스틱청소기 / 스틱형 / 무선형 / 물걸레 / 소비전력: 17W / [배터리]...</td>\n",
       "      <td>474050</td>\n",
       "    </tr>\n",
       "    <tr>\n",
       "      <th>407</th>\n",
       "      <td>이나프 ILVH-1000</td>\n",
       "      <td>핸디/스틱청소기 / 핸디+스틱형 / 무선형 / [배터리] 충전시간: 8~10시간 /...</td>\n",
       "      <td>38900</td>\n",
       "    </tr>\n",
       "    <tr>\n",
       "      <th>408</th>\n",
       "      <td>일렉트로룩스 퓨어 F9 PF91-5EBF</td>\n",
       "      <td>핸디/스틱청소기 / 스틱형 / 무선형 / 흡입전용 / [배터리] 충전시간: 6시간 ...</td>\n",
       "      <td>242710</td>\n",
       "    </tr>\n",
       "    <tr>\n",
       "      <th>409</th>\n",
       "      <td>오아 OA-CL010</td>\n",
       "      <td>핸디/스틱청소기 / 핸디+스틱형 / 무선형 / 흡입전용 / 소비전력: 13.5W /...</td>\n",
       "      <td>69000</td>\n",
       "    </tr>\n",
       "  </tbody>\n",
       "</table>\n",
       "<p>410 rows × 3 columns</p>\n",
       "</div>"
      ],
      "text/plain": [
       "                                       상품명  \\\n",
       "0        LG전자 오브제컬렉션 코드제로 ThinQ A9S AO9571   \n",
       "1                  삼성전자 비스포크 제트 VS20A956A3   \n",
       "2            LG전자 코드제로 ThinQ A9S AS9370IKT   \n",
       "3    샤오미 CLEANFLY 차량용 무선 청소기 4세대 H2 (해외구매)   \n",
       "4                               4gmvkK79gl   \n",
       "..                                     ...   \n",
       "405                   테팔 에어포스 라이트 TY6545KL   \n",
       "406                     스윙 파워스윙 SWING-8000   \n",
       "407                          이나프 ILVH-1000   \n",
       "408                 일렉트로룩스 퓨어 F9 PF91-5EBF   \n",
       "409                            오아 OA-CL010   \n",
       "\n",
       "                                                 스펙 목록       가격  \n",
       "0    핸디/스틱청소기 / 핸디+스틱형 / 무선형 / 흡입+걸레겸용 / 소비전력: 590W...  1055310  \n",
       "1    핸디/스틱청소기 / 핸디+스틱형 / 무선형 / 흡입+걸레겸용 / [성능] 흡입력: ...   578480  \n",
       "2    핸디/스틱청소기 / 핸디+스틱형 / 무선형 / 흡입+걸레겸용 / 소비전력: 590W...   784550  \n",
       "3    차량용청소기 / 무선 / 흡입력: 16,800Pa / 최대출력: 120W / 헤파필...    59840  \n",
       "4                                     4gmvkK79gl187322   187322  \n",
       "..                                                 ...      ...  \n",
       "405  핸디/스틱청소기 / 스틱형 / 무선형 / [성능] 싸이클론 / [배터리] 충전시간:...   108330  \n",
       "406  핸디/스틱청소기 / 스틱형 / 무선형 / 물걸레 / 소비전력: 17W / [배터리]...   474050  \n",
       "407  핸디/스틱청소기 / 핸디+스틱형 / 무선형 / [배터리] 충전시간: 8~10시간 /...    38900  \n",
       "408  핸디/스틱청소기 / 스틱형 / 무선형 / 흡입전용 / [배터리] 충전시간: 6시간 ...   242710  \n",
       "409  핸디/스틱청소기 / 핸디+스틱형 / 무선형 / 흡입전용 / 소비전력: 13.5W /...    69000  \n",
       "\n",
       "[410 rows x 3 columns]"
      ]
     },
     "execution_count": 6,
     "metadata": {},
     "output_type": "execute_result"
    }
   ],
   "source": [
    "data['스펙 목록'] = data['스펙 목록'].str.replace('상세 스펙','')\n",
    "data"
   ]
  },
  {
   "cell_type": "code",
   "execution_count": 7,
   "id": "6e5e1e46",
   "metadata": {},
   "outputs": [
    {
     "data": {
      "text/plain": [
       "'핸디/스틱청소기'"
      ]
     },
     "execution_count": 7,
     "metadata": {},
     "output_type": "execute_result"
    }
   ],
   "source": [
    "spec_list = data['스펙 목록'][0].split(' / ')\n",
    "category = spec_list[0]\n",
    "category"
   ]
  },
  {
   "cell_type": "code",
   "execution_count": 8,
   "id": "c7db85ac",
   "metadata": {},
   "outputs": [
    {
     "name": "stdout",
     "output_type": "stream",
     "text": [
      "사용시간(개당): 1시간\n",
      "[성능] 흡입력: 210W\n",
      "1시간\n",
      "210W\n"
     ]
    }
   ],
   "source": [
    "for spec in spec_list:\n",
    "    if '사용시간' in spec:\n",
    "        use_time_spec = spec\n",
    "    elif '흡입력' in spec:\n",
    "        suction_spec = spec\n",
    "print(use_time_spec)\n",
    "print(suction_spec)\n",
    "\n",
    "use_time_value = use_time_spec.split(' ')[1].strip()\n",
    "suction_value = suction_spec.split(': ')[1].strip()\n",
    "\n",
    "print(use_time_value)\n",
    "print(suction_value)"
   ]
  },
  {
   "cell_type": "code",
   "execution_count": 9,
   "id": "60a2e94f",
   "metadata": {},
   "outputs": [],
   "source": [
    "category_list = []\n",
    "use_time_list = []\n",
    "suction_list = []\n",
    "\n",
    "for spec_data in data['스펙 목록']:\n",
    "    spec_list = spec_data.split(' / ')\n",
    "    \n",
    "    category = spec_list[0].strip()\n",
    "    category_list.append(category)\n",
    "    \n",
    "    for spec in spec_list:\n",
    "        if '사용시간' in spec:\n",
    "            use_time_spec = spec\n",
    "        elif '흡입력' in spec:\n",
    "            suction_spec = spec\n",
    "            \n",
    "    use_time_value = use_time_spec.split(' ')[1].strip()\n",
    "    suction_value = suction_spec.split(': ')[1].strip()\n",
    "    \n",
    "    use_time_list.append(use_time_value)\n",
    "    suction_list.append(suction_value)"
   ]
  },
  {
   "cell_type": "code",
   "execution_count": 10,
   "id": "f458fac1",
   "metadata": {},
   "outputs": [
    {
     "name": "stdout",
     "output_type": "stream",
     "text": [
      "['핸디/스틱청소기', '핸디/스틱청소기', '핸디/스틱청소기', '차량용청소기', '4gmvkK79gl187322']\n",
      "['1시간', '1시간', '1시간', '30분', '30분']\n",
      "['210W', '210W', '210W', '16,800Pa', '16,800Pa']\n"
     ]
    }
   ],
   "source": [
    "# 결측치가 있긴하다 나중에 처리해 주어야 한다.\n",
    "print(category_list[:5])\n",
    "print(use_time_list[:5])\n",
    "print(suction_list[:5])"
   ]
  },
  {
   "cell_type": "code",
   "execution_count": 11,
   "id": "e89553b8",
   "metadata": {},
   "outputs": [
    {
     "data": {
      "text/plain": [
       "410"
      ]
     },
     "execution_count": 11,
     "metadata": {},
     "output_type": "execute_result"
    }
   ],
   "source": [
    "len(category_list)\n",
    "len(use_time_list)"
   ]
  },
  {
   "cell_type": "markdown",
   "id": "d346d45f",
   "metadata": {},
   "source": [
    "### 무선청소기 사용시간 단위 통일시키기"
   ]
  },
  {
   "cell_type": "code",
   "execution_count": 12,
   "id": "70c4a2ff",
   "metadata": {},
   "outputs": [
    {
     "data": {
      "text/plain": [
       "'30'"
      ]
     },
     "execution_count": 12,
     "metadata": {},
     "output_type": "execute_result"
    }
   ],
   "source": [
    "mytime = '1시간30분'\n",
    "mytime.split('시간')[-1].replace('분','')"
   ]
  },
  {
   "cell_type": "code",
   "execution_count": 13,
   "id": "c8a3e8f6",
   "metadata": {},
   "outputs": [],
   "source": [
    "def convert_time_minute(time):\n",
    "    \n",
    "    try:\n",
    "        if '시간' in time :\n",
    "            hour = time.split('시간')[0]\n",
    "            if '분' in time:\n",
    "                minute = time.split('시간')[-1].split('분')[0]\n",
    "            else:\n",
    "                minute = 0\n",
    "        else:\n",
    "            hour = 0\n",
    "            minute = time.split('분')[0]\n",
    "        return int(hour)*60 + int(minute)\n",
    "    except:\n",
    "        return None"
   ]
  },
  {
   "cell_type": "code",
   "execution_count": 14,
   "id": "a02c4640",
   "metadata": {},
   "outputs": [
    {
     "data": {
      "text/plain": [
       "110"
      ]
     },
     "execution_count": 14,
     "metadata": {},
     "output_type": "execute_result"
    }
   ],
   "source": [
    "convert_time_minute('1시간50분')"
   ]
  },
  {
   "cell_type": "code",
   "execution_count": 15,
   "id": "63323f9d",
   "metadata": {},
   "outputs": [
    {
     "name": "stdout",
     "output_type": "stream",
     "text": [
      "410\n",
      "[60, 60, 60, 30, 30, 60, 60, 45, 60, 60]\n"
     ]
    }
   ],
   "source": [
    "new_use_time_list = []\n",
    "for time in use_time_list:\n",
    "    value = convert_time_minute(time)\n",
    "    new_use_time_list.append(value)\n",
    "    \n",
    "print(len(new_use_time_list))\n",
    "print(new_use_time_list[0:10])"
   ]
  },
  {
   "cell_type": "markdown",
   "id": "fc022d3e",
   "metadata": {},
   "source": [
    "### 무선청소기 흡입력 단위 통일 시키기"
   ]
  },
  {
   "cell_type": "code",
   "execution_count": 16,
   "id": "97a32d54",
   "metadata": {},
   "outputs": [
    {
     "data": {
      "text/plain": [
       "'APPLE'"
      ]
     },
     "execution_count": 16,
     "metadata": {},
     "output_type": "execute_result"
    }
   ],
   "source": [
    "'Apple'.upper()"
   ]
  },
  {
   "cell_type": "code",
   "execution_count": 17,
   "id": "54272833",
   "metadata": {},
   "outputs": [],
   "source": [
    "def get_suction(value):\n",
    "    try:\n",
    "        value = value.upper()\n",
    "        if 'AW' in value or 'W' in value:\n",
    "            result = int(value.replace(\"A\", '').replace('W','').replace(',',''))\n",
    "            \n",
    "        elif 'PA' in value:\n",
    "            result = value.replace(\"PA\",'').replace(',','')\n",
    "            result = int(result) / 100\n",
    "        else:\n",
    "            result = None\n",
    "        return result\n",
    "    except:\n",
    "        return None"
   ]
  },
  {
   "cell_type": "code",
   "execution_count": 18,
   "id": "8109066e",
   "metadata": {},
   "outputs": [
    {
     "data": {
      "text/plain": [
       "[210, 210, 210, 168.0, 168.0]"
      ]
     },
     "execution_count": 18,
     "metadata": {},
     "output_type": "execute_result"
    }
   ],
   "source": [
    "new_suction_list = []\n",
    "\n",
    "for power in suction_list:\n",
    "    value = get_suction(power)\n",
    "    new_suction_list.append(value)\n",
    "new_suction_list[:5]"
   ]
  },
  {
   "cell_type": "code",
   "execution_count": 19,
   "id": "c4152cb4",
   "metadata": {},
   "outputs": [
    {
     "data": {
      "text/plain": [
       "410"
      ]
     },
     "execution_count": 19,
     "metadata": {},
     "output_type": "execute_result"
    }
   ],
   "source": [
    "len(new_suction_list)"
   ]
  },
  {
   "cell_type": "markdown",
   "id": "6447a885",
   "metadata": {},
   "source": [
    "### 전처리 결과를 엑셀로 저장하기"
   ]
  },
  {
   "cell_type": "code",
   "execution_count": 20,
   "id": "f4606565",
   "metadata": {},
   "outputs": [
    {
     "data": {
      "text/html": [
       "<div>\n",
       "<style scoped>\n",
       "    .dataframe tbody tr th:only-of-type {\n",
       "        vertical-align: middle;\n",
       "    }\n",
       "\n",
       "    .dataframe tbody tr th {\n",
       "        vertical-align: top;\n",
       "    }\n",
       "\n",
       "    .dataframe thead th {\n",
       "        text-align: right;\n",
       "    }\n",
       "</style>\n",
       "<table border=\"1\" class=\"dataframe\">\n",
       "  <thead>\n",
       "    <tr style=\"text-align: right;\">\n",
       "      <th></th>\n",
       "      <th>카테고리</th>\n",
       "      <th>회사명</th>\n",
       "      <th>제품</th>\n",
       "      <th>가격</th>\n",
       "      <th>사용시간</th>\n",
       "      <th>흡입력</th>\n",
       "    </tr>\n",
       "  </thead>\n",
       "  <tbody>\n",
       "    <tr>\n",
       "      <th>0</th>\n",
       "      <td>핸디/스틱청소기</td>\n",
       "      <td>LG전자</td>\n",
       "      <td>오브제컬렉션 코드제로 ThinQ A9S AO9571</td>\n",
       "      <td>1055310</td>\n",
       "      <td>60.0</td>\n",
       "      <td>210.0</td>\n",
       "    </tr>\n",
       "    <tr>\n",
       "      <th>1</th>\n",
       "      <td>핸디/스틱청소기</td>\n",
       "      <td>삼성전자</td>\n",
       "      <td>비스포크 제트 VS20A956A3</td>\n",
       "      <td>578480</td>\n",
       "      <td>60.0</td>\n",
       "      <td>210.0</td>\n",
       "    </tr>\n",
       "    <tr>\n",
       "      <th>2</th>\n",
       "      <td>핸디/스틱청소기</td>\n",
       "      <td>LG전자</td>\n",
       "      <td>코드제로 ThinQ A9S AS9370IKT</td>\n",
       "      <td>784550</td>\n",
       "      <td>60.0</td>\n",
       "      <td>210.0</td>\n",
       "    </tr>\n",
       "    <tr>\n",
       "      <th>3</th>\n",
       "      <td>차량용청소기</td>\n",
       "      <td>샤오미</td>\n",
       "      <td>CLEANFLY 차량용 무선 청소기 4세대 H2 (해외구매)</td>\n",
       "      <td>59840</td>\n",
       "      <td>30.0</td>\n",
       "      <td>168.0</td>\n",
       "    </tr>\n",
       "    <tr>\n",
       "      <th>4</th>\n",
       "      <td>4gmvkK79gl187322</td>\n",
       "      <td>None</td>\n",
       "      <td>None</td>\n",
       "      <td>187322</td>\n",
       "      <td>30.0</td>\n",
       "      <td>168.0</td>\n",
       "    </tr>\n",
       "  </tbody>\n",
       "</table>\n",
       "</div>"
      ],
      "text/plain": [
       "               카테고리   회사명                                 제품       가격  사용시간  \\\n",
       "0          핸디/스틱청소기  LG전자       오브제컬렉션 코드제로 ThinQ A9S AO9571  1055310  60.0   \n",
       "1          핸디/스틱청소기  삼성전자                 비스포크 제트 VS20A956A3   578480  60.0   \n",
       "2          핸디/스틱청소기  LG전자           코드제로 ThinQ A9S AS9370IKT   784550  60.0   \n",
       "3            차량용청소기   샤오미  CLEANFLY 차량용 무선 청소기 4세대 H2 (해외구매)    59840  30.0   \n",
       "4  4gmvkK79gl187322  None                               None   187322  30.0   \n",
       "\n",
       "     흡입력  \n",
       "0  210.0  \n",
       "1  210.0  \n",
       "2  210.0  \n",
       "3  168.0  \n",
       "4  168.0  "
      ]
     },
     "execution_count": 20,
     "metadata": {},
     "output_type": "execute_result"
    }
   ],
   "source": [
    "pd_data = pd.DataFrame()\n",
    "pd_data['카테고리'] = category_list\n",
    "pd_data['회사명'] = company_list\n",
    "pd_data['제품'] = product_list\n",
    "pd_data['가격'] = data['가격']\n",
    "pd_data['사용시간'] = new_use_time_list\n",
    "pd_data['흡입력'] = new_suction_list\n",
    "pd_data.head()"
   ]
  },
  {
   "cell_type": "code",
   "execution_count": 21,
   "id": "06b98f38",
   "metadata": {},
   "outputs": [
    {
     "data": {
      "text/html": [
       "<div>\n",
       "<style scoped>\n",
       "    .dataframe tbody tr th:only-of-type {\n",
       "        vertical-align: middle;\n",
       "    }\n",
       "\n",
       "    .dataframe tbody tr th {\n",
       "        vertical-align: top;\n",
       "    }\n",
       "\n",
       "    .dataframe thead th {\n",
       "        text-align: right;\n",
       "    }\n",
       "</style>\n",
       "<table border=\"1\" class=\"dataframe\">\n",
       "  <thead>\n",
       "    <tr style=\"text-align: right;\">\n",
       "      <th></th>\n",
       "      <th>카테고리</th>\n",
       "      <th>회사명</th>\n",
       "      <th>제품</th>\n",
       "      <th>가격</th>\n",
       "      <th>사용시간</th>\n",
       "      <th>흡입력</th>\n",
       "    </tr>\n",
       "  </thead>\n",
       "  <tbody>\n",
       "    <tr>\n",
       "      <th>0</th>\n",
       "      <td>핸디/스틱청소기</td>\n",
       "      <td>LG전자</td>\n",
       "      <td>오브제컬렉션 코드제로 ThinQ A9S AO9571</td>\n",
       "      <td>1055310</td>\n",
       "      <td>60.0</td>\n",
       "      <td>210.0</td>\n",
       "    </tr>\n",
       "    <tr>\n",
       "      <th>1</th>\n",
       "      <td>핸디/스틱청소기</td>\n",
       "      <td>삼성전자</td>\n",
       "      <td>비스포크 제트 VS20A956A3</td>\n",
       "      <td>578480</td>\n",
       "      <td>60.0</td>\n",
       "      <td>210.0</td>\n",
       "    </tr>\n",
       "    <tr>\n",
       "      <th>2</th>\n",
       "      <td>핸디/스틱청소기</td>\n",
       "      <td>LG전자</td>\n",
       "      <td>코드제로 ThinQ A9S AS9370IKT</td>\n",
       "      <td>784550</td>\n",
       "      <td>60.0</td>\n",
       "      <td>210.0</td>\n",
       "    </tr>\n",
       "    <tr>\n",
       "      <th>5</th>\n",
       "      <td>핸디/스틱청소기</td>\n",
       "      <td>삼성전자</td>\n",
       "      <td>비스포크 제트 VS20A957E3</td>\n",
       "      <td>804800</td>\n",
       "      <td>60.0</td>\n",
       "      <td>210.0</td>\n",
       "    </tr>\n",
       "    <tr>\n",
       "      <th>6</th>\n",
       "      <td>핸디/스틱청소기</td>\n",
       "      <td>샤오미</td>\n",
       "      <td>TROUVER POWER 11</td>\n",
       "      <td>73950</td>\n",
       "      <td>60.0</td>\n",
       "      <td>200.0</td>\n",
       "    </tr>\n",
       "    <tr>\n",
       "      <th>...</th>\n",
       "      <td>...</td>\n",
       "      <td>...</td>\n",
       "      <td>...</td>\n",
       "      <td>...</td>\n",
       "      <td>...</td>\n",
       "      <td>...</td>\n",
       "    </tr>\n",
       "    <tr>\n",
       "      <th>405</th>\n",
       "      <td>핸디/스틱청소기</td>\n",
       "      <td>테팔</td>\n",
       "      <td>에어포스 라이트 TY6545KL</td>\n",
       "      <td>108330</td>\n",
       "      <td>30.0</td>\n",
       "      <td>60.0</td>\n",
       "    </tr>\n",
       "    <tr>\n",
       "      <th>406</th>\n",
       "      <td>핸디/스틱청소기</td>\n",
       "      <td>스윙</td>\n",
       "      <td>파워스윙 SWING-8000</td>\n",
       "      <td>474050</td>\n",
       "      <td>40.0</td>\n",
       "      <td>60.0</td>\n",
       "    </tr>\n",
       "    <tr>\n",
       "      <th>407</th>\n",
       "      <td>핸디/스틱청소기</td>\n",
       "      <td>이나프</td>\n",
       "      <td>ILVH-1000</td>\n",
       "      <td>38900</td>\n",
       "      <td>15.0</td>\n",
       "      <td>60.0</td>\n",
       "    </tr>\n",
       "    <tr>\n",
       "      <th>408</th>\n",
       "      <td>핸디/스틱청소기</td>\n",
       "      <td>일렉트로룩스</td>\n",
       "      <td>퓨어 F9 PF91-5EBF</td>\n",
       "      <td>242710</td>\n",
       "      <td>55.0</td>\n",
       "      <td>60.0</td>\n",
       "    </tr>\n",
       "    <tr>\n",
       "      <th>409</th>\n",
       "      <td>핸디/스틱청소기</td>\n",
       "      <td>오아</td>\n",
       "      <td>OA-CL010</td>\n",
       "      <td>69000</td>\n",
       "      <td>25.0</td>\n",
       "      <td>130.0</td>\n",
       "    </tr>\n",
       "  </tbody>\n",
       "</table>\n",
       "<p>287 rows × 6 columns</p>\n",
       "</div>"
      ],
      "text/plain": [
       "         카테고리     회사명                            제품       가격  사용시간    흡입력\n",
       "0    핸디/스틱청소기    LG전자  오브제컬렉션 코드제로 ThinQ A9S AO9571  1055310  60.0  210.0\n",
       "1    핸디/스틱청소기    삼성전자            비스포크 제트 VS20A956A3   578480  60.0  210.0\n",
       "2    핸디/스틱청소기    LG전자      코드제로 ThinQ A9S AS9370IKT   784550  60.0  210.0\n",
       "5    핸디/스틱청소기    삼성전자            비스포크 제트 VS20A957E3   804800  60.0  210.0\n",
       "6    핸디/스틱청소기     샤오미              TROUVER POWER 11    73950  60.0  200.0\n",
       "..        ...     ...                           ...      ...   ...    ...\n",
       "405  핸디/스틱청소기      테팔             에어포스 라이트 TY6545KL   108330  30.0   60.0\n",
       "406  핸디/스틱청소기      스윙               파워스윙 SWING-8000   474050  40.0   60.0\n",
       "407  핸디/스틱청소기     이나프                     ILVH-1000    38900  15.0   60.0\n",
       "408  핸디/스틱청소기  일렉트로룩스               퓨어 F9 PF91-5EBF   242710  55.0   60.0\n",
       "409  핸디/스틱청소기      오아                      OA-CL010    69000  25.0  130.0\n",
       "\n",
       "[287 rows x 6 columns]"
      ]
     },
     "execution_count": 21,
     "metadata": {},
     "output_type": "execute_result"
    }
   ],
   "source": [
    "condition = pd_data['카테고리'] == '핸디/스틱청소기'\n",
    "\n",
    "pd_data_final = pd_data[condition]\n",
    "pd_data_final"
   ]
  },
  {
   "cell_type": "code",
   "execution_count": 22,
   "id": "2762bc65",
   "metadata": {},
   "outputs": [
    {
     "name": "stderr",
     "output_type": "stream",
     "text": [
      "C:\\Users\\rkdtk\\AppData\\Local\\Temp/ipykernel_11844/4232540717.py:1: SettingWithCopyWarning: \n",
      "A value is trying to be set on a copy of a slice from a DataFrame.\n",
      "Try using .loc[row_indexer,col_indexer] = value instead\n",
      "\n",
      "See the caveats in the documentation: https://pandas.pydata.org/pandas-docs/stable/user_guide/indexing.html#returning-a-view-versus-a-copy\n",
      "  pd_data_final['가격'] = pd_data_final['가격'].replace('', np.nan)\n",
      "C:\\Users\\rkdtk\\anaconda3\\lib\\site-packages\\pandas\\util\\_decorators.py:311: SettingWithCopyWarning: \n",
      "A value is trying to be set on a copy of a slice from a DataFrame\n",
      "\n",
      "See the caveats in the documentation: https://pandas.pydata.org/pandas-docs/stable/user_guide/indexing.html#returning-a-view-versus-a-copy\n",
      "  return func(*args, **kwargs)\n"
     ]
    }
   ],
   "source": [
    "pd_data_final['가격'] = pd_data_final['가격'].replace('', np.nan)\n",
    "pd_data_final.dropna(inplace=True)"
   ]
  },
  {
   "cell_type": "code",
   "execution_count": 23,
   "id": "f88fc54e",
   "metadata": {},
   "outputs": [
    {
     "name": "stdout",
     "output_type": "stream",
     "text": [
      "<class 'pandas.core.frame.DataFrame'>\n",
      "Int64Index: 266 entries, 0 to 409\n",
      "Data columns (total 6 columns):\n",
      " #   Column  Non-Null Count  Dtype  \n",
      "---  ------  --------------  -----  \n",
      " 0   카테고리    266 non-null    object \n",
      " 1   회사명     266 non-null    object \n",
      " 2   제품      266 non-null    object \n",
      " 3   가격      266 non-null    int64  \n",
      " 4   사용시간    266 non-null    float64\n",
      " 5   흡입력     266 non-null    float64\n",
      "dtypes: float64(2), int64(1), object(3)\n",
      "memory usage: 14.5+ KB\n"
     ]
    }
   ],
   "source": [
    "pd_data_final.info()"
   ]
  },
  {
   "cell_type": "code",
   "execution_count": 24,
   "id": "52c682db",
   "metadata": {},
   "outputs": [],
   "source": [
    "pd_data_final.to_excel('./my_files/2_danawa_data_final_class.xlsx', index=False)"
   ]
  },
  {
   "cell_type": "code",
   "execution_count": null,
   "id": "03d5dbaa",
   "metadata": {},
   "outputs": [],
   "source": []
  }
 ],
 "metadata": {
  "kernelspec": {
   "display_name": "Python 3 (ipykernel)",
   "language": "python",
   "name": "python3"
  },
  "language_info": {
   "codemirror_mode": {
    "name": "ipython",
    "version": 3
   },
   "file_extension": ".py",
   "mimetype": "text/x-python",
   "name": "python",
   "nbconvert_exporter": "python",
   "pygments_lexer": "ipython3",
   "version": "3.8.12"
  }
 },
 "nbformat": 4,
 "nbformat_minor": 5
}
