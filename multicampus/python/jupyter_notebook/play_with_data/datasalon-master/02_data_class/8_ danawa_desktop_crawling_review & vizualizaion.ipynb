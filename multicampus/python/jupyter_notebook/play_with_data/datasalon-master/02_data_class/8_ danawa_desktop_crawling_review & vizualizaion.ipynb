{
 "cells": [
  {
   "cell_type": "code",
   "execution_count": 1,
   "id": "e299a1a9",
   "metadata": {},
   "outputs": [],
   "source": [
    "import pandas as pd\n",
    "import numpy as np"
   ]
  },
  {
   "cell_type": "code",
   "execution_count": 2,
   "id": "c2a592ae",
   "metadata": {},
   "outputs": [
    {
     "data": {
      "text/html": [
       "<div>\n",
       "<style scoped>\n",
       "    .dataframe tbody tr th:only-of-type {\n",
       "        vertical-align: middle;\n",
       "    }\n",
       "\n",
       "    .dataframe tbody tr th {\n",
       "        vertical-align: top;\n",
       "    }\n",
       "\n",
       "    .dataframe thead th {\n",
       "        text-align: right;\n",
       "    }\n",
       "</style>\n",
       "<table border=\"1\" class=\"dataframe\">\n",
       "  <thead>\n",
       "    <tr style=\"text-align: right;\">\n",
       "      <th></th>\n",
       "      <th>회사명</th>\n",
       "      <th>제품명</th>\n",
       "      <th>용도</th>\n",
       "      <th>그래픽카드</th>\n",
       "      <th>가격(원)</th>\n",
       "      <th>성능</th>\n",
       "      <th>우선순위</th>\n",
       "    </tr>\n",
       "  </thead>\n",
       "  <tbody>\n",
       "    <tr>\n",
       "      <th>0</th>\n",
       "      <td>다나와표준PC</td>\n",
       "      <td>전문가용 211125</td>\n",
       "      <td>용도: 게임용</td>\n",
       "      <td>지포스 GTX 1650</td>\n",
       "      <td>1115850</td>\n",
       "      <td>1650</td>\n",
       "      <td>0</td>\n",
       "    </tr>\n",
       "    <tr>\n",
       "      <th>1</th>\n",
       "      <td>HP</td>\n",
       "      <td>파빌리온 게이밍 TG01-2004kl</td>\n",
       "      <td>용도: 게임용</td>\n",
       "      <td>지포스 RTX 3060 Ti</td>\n",
       "      <td>1598580</td>\n",
       "      <td>3060</td>\n",
       "      <td>2</td>\n",
       "    </tr>\n",
       "    <tr>\n",
       "      <th>2</th>\n",
       "      <td>이엠텍</td>\n",
       "      <td>레드빗 PC PRO - R503</td>\n",
       "      <td>용도: 게임용</td>\n",
       "      <td>지포스 RTX 3060</td>\n",
       "      <td>1496730</td>\n",
       "      <td>3060</td>\n",
       "      <td>0</td>\n",
       "    </tr>\n",
       "    <tr>\n",
       "      <th>3</th>\n",
       "      <td>다나와표준PC</td>\n",
       "      <td>게임용 220115</td>\n",
       "      <td>용도: 게임용</td>\n",
       "      <td>지포스 RTX 3060</td>\n",
       "      <td>1798980</td>\n",
       "      <td>3060</td>\n",
       "      <td>0</td>\n",
       "    </tr>\n",
       "    <tr>\n",
       "      <th>4</th>\n",
       "      <td>ASRock</td>\n",
       "      <td>DeskMini X300 120W 에즈윈</td>\n",
       "      <td>용도: 게임용</td>\n",
       "      <td>지포스 RTX 3060</td>\n",
       "      <td>203440</td>\n",
       "      <td>3060</td>\n",
       "      <td>0</td>\n",
       "    </tr>\n",
       "  </tbody>\n",
       "</table>\n",
       "</div>"
      ],
      "text/plain": [
       "       회사명                     제품명        용도            그래픽카드    가격(원)    성능  \\\n",
       "0  다나와표준PC             전문가용 211125  용도: 게임용      지포스 GTX 1650  1115850  1650   \n",
       "1       HP    파빌리온 게이밍 TG01-2004kl  용도: 게임용   지포스 RTX 3060 Ti  1598580  3060   \n",
       "2      이엠텍       레드빗 PC PRO - R503  용도: 게임용      지포스 RTX 3060  1496730  3060   \n",
       "3  다나와표준PC              게임용 220115  용도: 게임용      지포스 RTX 3060  1798980  3060   \n",
       "4   ASRock  DeskMini X300 120W 에즈윈  용도: 게임용      지포스 RTX 3060   203440  3060   \n",
       "\n",
       "   우선순위  \n",
       "0     0  \n",
       "1     2  \n",
       "2     0  \n",
       "3     0  \n",
       "4     0  "
      ]
     },
     "execution_count": 2,
     "metadata": {},
     "output_type": "execute_result"
    }
   ],
   "source": [
    "danawa_data =pd.read_excel('./my_files/danawa_crawling_data_final(desktop_game).xlsx')\n",
    "danawa_data.head()"
   ]
  },
  {
   "cell_type": "code",
   "execution_count": 3,
   "id": "2f9b6b95",
   "metadata": {},
   "outputs": [
    {
     "data": {
      "text/html": [
       "<div>\n",
       "<style scoped>\n",
       "    .dataframe tbody tr th:only-of-type {\n",
       "        vertical-align: middle;\n",
       "    }\n",
       "\n",
       "    .dataframe tbody tr th {\n",
       "        vertical-align: top;\n",
       "    }\n",
       "\n",
       "    .dataframe thead th {\n",
       "        text-align: right;\n",
       "    }\n",
       "</style>\n",
       "<table border=\"1\" class=\"dataframe\">\n",
       "  <thead>\n",
       "    <tr style=\"text-align: right;\">\n",
       "      <th></th>\n",
       "      <th>회사명</th>\n",
       "      <th>제품명</th>\n",
       "      <th>용도</th>\n",
       "      <th>그래픽카드</th>\n",
       "      <th>가격(원)</th>\n",
       "      <th>성능</th>\n",
       "      <th>우선순위</th>\n",
       "    </tr>\n",
       "  </thead>\n",
       "  <tbody>\n",
       "    <tr>\n",
       "      <th>67</th>\n",
       "      <td>HP</td>\n",
       "      <td>오멘 30L GT13-1002KR</td>\n",
       "      <td>용도: 게임용</td>\n",
       "      <td>지포스 RTX 3090</td>\n",
       "      <td>4886570</td>\n",
       "      <td>3090</td>\n",
       "      <td>0</td>\n",
       "    </tr>\n",
       "    <tr>\n",
       "      <th>68</th>\n",
       "      <td>MSI</td>\n",
       "      <td>미니 DP21 i7-11700</td>\n",
       "      <td>용도: 게임용</td>\n",
       "      <td>지포스 RTX 3090</td>\n",
       "      <td>781260</td>\n",
       "      <td>3090</td>\n",
       "      <td>0</td>\n",
       "    </tr>\n",
       "    <tr>\n",
       "      <th>69</th>\n",
       "      <td>ASRock</td>\n",
       "      <td>DeskMini X300 RGB 120W 에즈윈</td>\n",
       "      <td>용도: 게임용</td>\n",
       "      <td>지포스 RTX 3090</td>\n",
       "      <td>223510</td>\n",
       "      <td>3090</td>\n",
       "      <td>0</td>\n",
       "    </tr>\n",
       "    <tr>\n",
       "      <th>98</th>\n",
       "      <td>HP</td>\n",
       "      <td>오멘 45L GT22-0000kr ND LE</td>\n",
       "      <td>용도: 게임용</td>\n",
       "      <td>지포스 RTX 3090</td>\n",
       "      <td>7369520</td>\n",
       "      <td>3090</td>\n",
       "      <td>0</td>\n",
       "    </tr>\n",
       "    <tr>\n",
       "      <th>99</th>\n",
       "      <td>ASRock</td>\n",
       "      <td>DeskMini A300 120W 에즈윈</td>\n",
       "      <td>용도: 게임용</td>\n",
       "      <td>지포스 RTX 3090</td>\n",
       "      <td>204710</td>\n",
       "      <td>3090</td>\n",
       "      <td>0</td>\n",
       "    </tr>\n",
       "  </tbody>\n",
       "</table>\n",
       "</div>"
      ],
      "text/plain": [
       "       회사명                         제품명        용도         그래픽카드    가격(원)    성능  \\\n",
       "67      HP          오멘 30L GT13-1002KR  용도: 게임용   지포스 RTX 3090  4886570  3090   \n",
       "68     MSI            미니 DP21 i7-11700  용도: 게임용   지포스 RTX 3090   781260  3090   \n",
       "69  ASRock  DeskMini X300 RGB 120W 에즈윈  용도: 게임용   지포스 RTX 3090   223510  3090   \n",
       "98      HP    오멘 45L GT22-0000kr ND LE   용도: 게임용  지포스 RTX 3090  7369520  3090   \n",
       "99  ASRock      DeskMini A300 120W 에즈윈   용도: 게임용  지포스 RTX 3090   204710  3090   \n",
       "\n",
       "    우선순위  \n",
       "67     0  \n",
       "68     0  \n",
       "69     0  \n",
       "98     0  \n",
       "99     0  "
      ]
     },
     "execution_count": 3,
     "metadata": {},
     "output_type": "execute_result"
    }
   ],
   "source": [
    "top_list = danawa_data.sort_values([\"성능\",\"우선순위\"], ascending=False)\n",
    "top_list.head()"
   ]
  },
  {
   "cell_type": "code",
   "execution_count": 4,
   "id": "479ba583",
   "metadata": {},
   "outputs": [
    {
     "name": "stdout",
     "output_type": "stream",
     "text": [
      "가격 평균값 1944768.2669683257\n",
      "성능 평균값 2602.579185520362\n"
     ]
    }
   ],
   "source": [
    "price_mean_value = danawa_data['가격(원)'].mean()\n",
    "price_max_value = danawa_data['가격(원)'].max()\n",
    "perform_mean_value = danawa_data['성능'].mean()\n",
    "perform_max_value = danawa_data['성능'].max()\n",
    "print(\"가격 평균값\", price_mean_value)\n",
    "print(\"성능 평균값\", perform_mean_value)"
   ]
  },
  {
   "cell_type": "code",
   "execution_count": 5,
   "id": "f1ee04d7",
   "metadata": {},
   "outputs": [
    {
     "data": {
      "text/html": [
       "<div>\n",
       "<style scoped>\n",
       "    .dataframe tbody tr th:only-of-type {\n",
       "        vertical-align: middle;\n",
       "    }\n",
       "\n",
       "    .dataframe tbody tr th {\n",
       "        vertical-align: top;\n",
       "    }\n",
       "\n",
       "    .dataframe thead th {\n",
       "        text-align: right;\n",
       "    }\n",
       "</style>\n",
       "<table border=\"1\" class=\"dataframe\">\n",
       "  <thead>\n",
       "    <tr style=\"text-align: right;\">\n",
       "      <th></th>\n",
       "      <th>회사명</th>\n",
       "      <th>제품명</th>\n",
       "      <th>용도</th>\n",
       "      <th>그래픽카드</th>\n",
       "      <th>가격(원)</th>\n",
       "      <th>성능</th>\n",
       "      <th>우선순위</th>\n",
       "    </tr>\n",
       "  </thead>\n",
       "  <tbody>\n",
       "    <tr>\n",
       "      <th>1</th>\n",
       "      <td>HP</td>\n",
       "      <td>파빌리온 게이밍 TG01-2004kl</td>\n",
       "      <td>용도: 게임용</td>\n",
       "      <td>지포스 RTX 3060 Ti</td>\n",
       "      <td>1598580</td>\n",
       "      <td>3060</td>\n",
       "      <td>2</td>\n",
       "    </tr>\n",
       "    <tr>\n",
       "      <th>2</th>\n",
       "      <td>이엠텍</td>\n",
       "      <td>레드빗 PC PRO - R503</td>\n",
       "      <td>용도: 게임용</td>\n",
       "      <td>지포스 RTX 3060</td>\n",
       "      <td>1496730</td>\n",
       "      <td>3060</td>\n",
       "      <td>0</td>\n",
       "    </tr>\n",
       "    <tr>\n",
       "      <th>3</th>\n",
       "      <td>다나와표준PC</td>\n",
       "      <td>게임용 220115</td>\n",
       "      <td>용도: 게임용</td>\n",
       "      <td>지포스 RTX 3060</td>\n",
       "      <td>1798980</td>\n",
       "      <td>3060</td>\n",
       "      <td>0</td>\n",
       "    </tr>\n",
       "    <tr>\n",
       "      <th>4</th>\n",
       "      <td>ASRock</td>\n",
       "      <td>DeskMini X300 120W 에즈윈</td>\n",
       "      <td>용도: 게임용</td>\n",
       "      <td>지포스 RTX 3060</td>\n",
       "      <td>203440</td>\n",
       "      <td>3060</td>\n",
       "      <td>0</td>\n",
       "    </tr>\n",
       "    <tr>\n",
       "      <th>6</th>\n",
       "      <td>HP</td>\n",
       "      <td>파빌리온 게이밍 TG01-2168KR</td>\n",
       "      <td>용도: 게임용</td>\n",
       "      <td>지포스 RTX 3060 Ti</td>\n",
       "      <td>1770600</td>\n",
       "      <td>3060</td>\n",
       "      <td>2</td>\n",
       "    </tr>\n",
       "  </tbody>\n",
       "</table>\n",
       "</div>"
      ],
      "text/plain": [
       "       회사명                     제품명        용도            그래픽카드    가격(원)    성능  \\\n",
       "1       HP    파빌리온 게이밍 TG01-2004kl  용도: 게임용   지포스 RTX 3060 Ti  1598580  3060   \n",
       "2      이엠텍       레드빗 PC PRO - R503  용도: 게임용      지포스 RTX 3060  1496730  3060   \n",
       "3  다나와표준PC              게임용 220115  용도: 게임용      지포스 RTX 3060  1798980  3060   \n",
       "4   ASRock  DeskMini X300 120W 에즈윈  용도: 게임용      지포스 RTX 3060   203440  3060   \n",
       "6       HP    파빌리온 게이밍 TG01-2168KR  용도: 게임용   지포스 RTX 3060 Ti  1770600  3060   \n",
       "\n",
       "   우선순위  \n",
       "1     2  \n",
       "2     0  \n",
       "3     0  \n",
       "4     0  \n",
       "6     2  "
      ]
     },
     "execution_count": 5,
     "metadata": {},
     "output_type": "execute_result"
    }
   ],
   "source": [
    "condition_data = danawa_data [\n",
    "    (danawa_data['가격(원)'] <= price_mean_value) & \n",
    "    (danawa_data['성능'] >= perform_mean_value)]\n",
    "condition_data.head()"
   ]
  },
  {
   "cell_type": "code",
   "execution_count": 6,
   "id": "b747d280",
   "metadata": {},
   "outputs": [],
   "source": [
    "#danawa_data['성능'] = danawa_data['성능']"
   ]
  },
  {
   "cell_type": "code",
   "execution_count": 7,
   "id": "c4b8313a",
   "metadata": {},
   "outputs": [],
   "source": [
    "#danawa_data['가격(원)'] = danawa_data['가격(원)']"
   ]
  },
  {
   "cell_type": "code",
   "execution_count": 8,
   "id": "b4380a8a",
   "metadata": {},
   "outputs": [],
   "source": [
    "from matplotlib import font_manager, rc\n",
    "import matplotlib.pyplot as plt\n",
    "import seaborn as sns\n",
    "import platform \n",
    "\n",
    "rc('font', family = 'Malgun Gothic')"
   ]
  },
  {
   "cell_type": "code",
   "execution_count": 9,
   "id": "3ff3849c",
   "metadata": {},
   "outputs": [
    {
     "data": {
      "image/png": "[encoded data removed]",
      "text/plain": [
       "<Figure size 360x720 with 1 Axes>"
      ]
     },
     "metadata": {
      "needs_background": "light"
     },
     "output_type": "display_data"
    }
   ],
   "source": [
    "plt.figure(figsize=(5, 10))\n",
    "sns.scatterplot(x= '성능', y = '가격(원)',\n",
    "               size = '가격(원)', hue = danawa_data['회사명'],\n",
    "               data = danawa_data, legend=True,\n",
    "               sizes = (10,1000))\n",
    "plt.hlines(price_mean_value, 0, perform_max_value, color = 'red',\n",
    "          linestyles= 'dashed', linewidth=3)\n",
    "plt.vlines(perform_mean_value, 0, price_max_value, color = 'red',\n",
    "          linestyles= 'dashed', linewidth=3)\n",
    "plt.ylabel('가격(백만원)')\n",
    "plt.show()"
   ]
  },
  {
   "cell_type": "code",
   "execution_count": null,
   "id": "d24b5329",
   "metadata": {},
   "outputs": [],
   "source": []
  }
 ],
 "metadata": {
  "kernelspec": {
   "display_name": "Python 3 (ipykernel)",
   "language": "python",
   "name": "python3"
  },
  "language_info": {
   "codemirror_mode": {
    "name": "ipython",
    "version": 3
   },
   "file_extension": ".py",
   "mimetype": "text/x-python",
   "name": "python",
   "nbconvert_exporter": "python",
   "pygments_lexer": "ipython3",
   "version": "3.8.12"
  }
 },
 "nbformat": 4,
 "nbformat_minor": 5
}
