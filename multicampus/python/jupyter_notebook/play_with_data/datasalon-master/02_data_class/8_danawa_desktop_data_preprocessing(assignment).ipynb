{
 "cells": [
  {
   "cell_type": "code",
   "execution_count": 1,
   "id": "14837f19",
   "metadata": {},
   "outputs": [],
   "source": [
    "import pandas as pd\n",
    "import numpy as np"
   ]
  },
  {
   "cell_type": "code",
   "execution_count": 2,
   "id": "d6a634a6",
   "metadata": {},
   "outputs": [
    {
     "name": "stdout",
     "output_type": "stream",
     "text": [
      "<class 'pandas.core.frame.DataFrame'>\n",
      "RangeIndex: 410 entries, 0 to 409\n",
      "Data columns (total 3 columns):\n",
      " #   Column  Non-Null Count  Dtype \n",
      "---  ------  --------------  ----- \n",
      " 0   상품명     410 non-null    object\n",
      " 1   스펙 목록   410 non-null    object\n",
      " 2   가격      410 non-null    int64 \n",
      "dtypes: int64(1), object(2)\n",
      "memory usage: 9.7+ KB\n"
     ]
    },
    {
     "data": {
      "text/html": [
       "<div>\n",
       "<style scoped>\n",
       "    .dataframe tbody tr th:only-of-type {\n",
       "        vertical-align: middle;\n",
       "    }\n",
       "\n",
       "    .dataframe tbody tr th {\n",
       "        vertical-align: top;\n",
       "    }\n",
       "\n",
       "    .dataframe thead th {\n",
       "        text-align: right;\n",
       "    }\n",
       "</style>\n",
       "<table border=\"1\" class=\"dataframe\">\n",
       "  <thead>\n",
       "    <tr style=\"text-align: right;\">\n",
       "      <th></th>\n",
       "      <th>상품명</th>\n",
       "      <th>스펙 목록</th>\n",
       "      <th>가격</th>\n",
       "    </tr>\n",
       "  </thead>\n",
       "  <tbody>\n",
       "    <tr>\n",
       "      <th>0</th>\n",
       "      <td>다나와표준PC 전문가용 211125</td>\n",
       "      <td>상세 스펙AMD / 라이젠5-4세대 / 버미어 / 5600X (3.7GHz) / (...</td>\n",
       "      <td>1115850</td>\n",
       "    </tr>\n",
       "    <tr>\n",
       "      <th>1</th>\n",
       "      <td>HP 파빌리온 게이밍 TG01-2004kl</td>\n",
       "      <td>상세 스펙AMD / 라이젠5-4세대 / 세잔 / 5600G (3.9GHz) / DD...</td>\n",
       "      <td>1598580</td>\n",
       "    </tr>\n",
       "    <tr>\n",
       "      <th>2</th>\n",
       "      <td>이엠텍 레드빗 PC PRO - R503</td>\n",
       "      <td>상세 스펙AMD / 라이젠5-4세대 / 버미어 / 5600X (3.7GHz) / (...</td>\n",
       "      <td>1496730</td>\n",
       "    </tr>\n",
       "  </tbody>\n",
       "</table>\n",
       "</div>"
      ],
      "text/plain": [
       "                       상품명                                              스펙 목록  \\\n",
       "0      다나와표준PC 전문가용 211125  상세 스펙AMD / 라이젠5-4세대 / 버미어 / 5600X (3.7GHz) / (...   \n",
       "1  HP 파빌리온 게이밍 TG01-2004kl  상세 스펙AMD / 라이젠5-4세대 / 세잔 / 5600G (3.9GHz) / DD...   \n",
       "2    이엠텍 레드빗 PC PRO - R503  상세 스펙AMD / 라이젠5-4세대 / 버미어 / 5600X (3.7GHz) / (...   \n",
       "\n",
       "        가격  \n",
       "0  1115850  \n",
       "1  1598580  \n",
       "2  1496730  "
      ]
     },
     "execution_count": 2,
     "metadata": {},
     "output_type": "execute_result"
    }
   ],
   "source": [
    "data = pd.read_excel('./my_files/danawa_crawling_result_class(desktop).xlsx')\n",
    "data.info()\n",
    "data.head(3)"
   ]
  },
  {
   "cell_type": "code",
   "execution_count": 3,
   "id": "5cb92572",
   "metadata": {},
   "outputs": [
    {
     "name": "stdout",
     "output_type": "stream",
     "text": [
      "다나와표준PC\n",
      "전문가용 211125\n"
     ]
    }
   ],
   "source": [
    "cname = data['상품명'][0].split(' ', 1)[0]\n",
    "pname =data['상품명'][0].split(' ', 1)[1]\n",
    "print(cname)\n",
    "print(pname)"
   ]
  },
  {
   "cell_type": "code",
   "execution_count": 4,
   "id": "a563fbba",
   "metadata": {},
   "outputs": [
    {
     "name": "stdout",
     "output_type": "stream",
     "text": [
      "['다나와표준PC', 'HP', '이엠텍', 'LG전자', '다나와표준PC']\n",
      "['전문가용 211125', '파빌리온 게이밍 TG01-2004kl', '레드빗 PC PRO - R503', '27V70N-GR56K', '게임용 220115']\n"
     ]
    }
   ],
   "source": [
    "company_list =[]\n",
    "product_list =[]\n",
    "\n",
    "for title in data['상품명']:\n",
    "    try:\n",
    "        cname = title.split(' ',1)[0]\n",
    "        pname = title.split(' ',1)[1]\n",
    "\n",
    "        company_list.append(cname)\n",
    "        product_list.append(pname)\n",
    "    except:\n",
    "        company_list.append(None)\n",
    "        product_list.append(None)\n",
    "print(company_list[:5])\n",
    "print(product_list[:5])"
   ]
  },
  {
   "cell_type": "code",
   "execution_count": 5,
   "id": "8a6c5709",
   "metadata": {},
   "outputs": [
    {
     "data": {
      "text/plain": [
       "410"
      ]
     },
     "execution_count": 5,
     "metadata": {},
     "output_type": "execute_result"
    }
   ],
   "source": [
    "len(company_list)\n",
    "#len(product_list)"
   ]
  },
  {
   "cell_type": "code",
   "execution_count": 6,
   "id": "e4e63a81",
   "metadata": {},
   "outputs": [
    {
     "data": {
      "text/html": [
       "<div>\n",
       "<style scoped>\n",
       "    .dataframe tbody tr th:only-of-type {\n",
       "        vertical-align: middle;\n",
       "    }\n",
       "\n",
       "    .dataframe tbody tr th {\n",
       "        vertical-align: top;\n",
       "    }\n",
       "\n",
       "    .dataframe thead th {\n",
       "        text-align: right;\n",
       "    }\n",
       "</style>\n",
       "<table border=\"1\" class=\"dataframe\">\n",
       "  <thead>\n",
       "    <tr style=\"text-align: right;\">\n",
       "      <th></th>\n",
       "      <th>상품명</th>\n",
       "      <th>스펙 목록</th>\n",
       "      <th>가격</th>\n",
       "    </tr>\n",
       "  </thead>\n",
       "  <tbody>\n",
       "    <tr>\n",
       "      <th>0</th>\n",
       "      <td>다나와표준PC 전문가용 211125</td>\n",
       "      <td>AMD / 라이젠5-4세대 / 버미어 / 5600X (3.7GHz) / (AMD) ...</td>\n",
       "      <td>1115850</td>\n",
       "    </tr>\n",
       "    <tr>\n",
       "      <th>1</th>\n",
       "      <td>HP 파빌리온 게이밍 TG01-2004kl</td>\n",
       "      <td>AMD / 라이젠5-4세대 / 세잔 / 5600G (3.9GHz) / DDR4 / ...</td>\n",
       "      <td>1598580</td>\n",
       "    </tr>\n",
       "    <tr>\n",
       "      <th>2</th>\n",
       "      <td>이엠텍 레드빗 PC PRO - R503</td>\n",
       "      <td>AMD / 라이젠5-4세대 / 버미어 / 5600X (3.7GHz) / (AMD) ...</td>\n",
       "      <td>1496730</td>\n",
       "    </tr>\n",
       "  </tbody>\n",
       "</table>\n",
       "</div>"
      ],
      "text/plain": [
       "                       상품명                                              스펙 목록  \\\n",
       "0      다나와표준PC 전문가용 211125  AMD / 라이젠5-4세대 / 버미어 / 5600X (3.7GHz) / (AMD) ...   \n",
       "1  HP 파빌리온 게이밍 TG01-2004kl  AMD / 라이젠5-4세대 / 세잔 / 5600G (3.9GHz) / DDR4 / ...   \n",
       "2    이엠텍 레드빗 PC PRO - R503  AMD / 라이젠5-4세대 / 버미어 / 5600X (3.7GHz) / (AMD) ...   \n",
       "\n",
       "        가격  \n",
       "0  1115850  \n",
       "1  1598580  \n",
       "2  1496730  "
      ]
     },
     "execution_count": 6,
     "metadata": {},
     "output_type": "execute_result"
    }
   ],
   "source": [
    "data['스펙 목록'] = data['스펙 목록'].str.replace('상세 스펙','')\n",
    "data.head(3)"
   ]
  },
  {
   "cell_type": "code",
   "execution_count": 7,
   "id": "50b0b984",
   "metadata": {},
   "outputs": [
    {
     "data": {
      "text/plain": [
       "'AMD'"
      ]
     },
     "execution_count": 7,
     "metadata": {},
     "output_type": "execute_result"
    }
   ],
   "source": [
    "spec_list = data['스펙 목록'][0].split(' / ')\n",
    "category = spec_list[0]\n",
    "category"
   ]
  },
  {
   "cell_type": "code",
   "execution_count": 9,
   "id": "2225c094",
   "metadata": {},
   "outputs": [],
   "source": [
    "usecase_list = []\n",
    "graphic_card_list = []\n",
    "\n",
    "for spec_data in data['스펙 목록']:\n",
    "    spec_list = spec_data.split(' / ')\n",
    "    \n",
    "    for spec in spec_list:\n",
    "        if '용도' in spec:\n",
    "            use_case = spec\n",
    "        elif 'RTX' in spec or 'GTX' in spec:\n",
    "            graphic_card = spec\n",
    "    \n",
    "    usecase_list.append(use_case)\n",
    "    graphic_card_list.append(graphic_card)"
   ]
  },
  {
   "cell_type": "code",
   "execution_count": 10,
   "id": "74aba490",
   "metadata": {},
   "outputs": [
    {
     "name": "stdout",
     "output_type": "stream",
     "text": [
      "410\n",
      "410\n"
     ]
    }
   ],
   "source": [
    "print(len(usecase_list))\n",
    "print(len(graphic_card_list))"
   ]
  },
  {
   "cell_type": "code",
   "execution_count": 11,
   "id": "3f16a22f",
   "metadata": {},
   "outputs": [
    {
     "data": {
      "text/html": [
       "<div>\n",
       "<style scoped>\n",
       "    .dataframe tbody tr th:only-of-type {\n",
       "        vertical-align: middle;\n",
       "    }\n",
       "\n",
       "    .dataframe tbody tr th {\n",
       "        vertical-align: top;\n",
       "    }\n",
       "\n",
       "    .dataframe thead th {\n",
       "        text-align: right;\n",
       "    }\n",
       "</style>\n",
       "<table border=\"1\" class=\"dataframe\">\n",
       "  <thead>\n",
       "    <tr style=\"text-align: right;\">\n",
       "      <th></th>\n",
       "      <th>회사명</th>\n",
       "      <th>제품명</th>\n",
       "      <th>용도</th>\n",
       "      <th>그래픽카드</th>\n",
       "      <th>가격(원)</th>\n",
       "    </tr>\n",
       "  </thead>\n",
       "  <tbody>\n",
       "    <tr>\n",
       "      <th>0</th>\n",
       "      <td>다나와표준PC</td>\n",
       "      <td>전문가용 211125</td>\n",
       "      <td>용도: 게임용</td>\n",
       "      <td>지포스 GTX 1650</td>\n",
       "      <td>1115850</td>\n",
       "    </tr>\n",
       "    <tr>\n",
       "      <th>1</th>\n",
       "      <td>HP</td>\n",
       "      <td>파빌리온 게이밍 TG01-2004kl</td>\n",
       "      <td>용도: 게임용</td>\n",
       "      <td>지포스 RTX 3060 Ti</td>\n",
       "      <td>1598580</td>\n",
       "    </tr>\n",
       "    <tr>\n",
       "      <th>2</th>\n",
       "      <td>이엠텍</td>\n",
       "      <td>레드빗 PC PRO - R503</td>\n",
       "      <td>용도: 게임용</td>\n",
       "      <td>지포스 RTX 3060</td>\n",
       "      <td>1496730</td>\n",
       "    </tr>\n",
       "    <tr>\n",
       "      <th>3</th>\n",
       "      <td>LG전자</td>\n",
       "      <td>27V70N-GR56K</td>\n",
       "      <td>용도: 사무/인강용</td>\n",
       "      <td>지포스 RTX 3060</td>\n",
       "      <td>1124600</td>\n",
       "    </tr>\n",
       "    <tr>\n",
       "      <th>4</th>\n",
       "      <td>다나와표준PC</td>\n",
       "      <td>게임용 220115</td>\n",
       "      <td>용도: 게임용</td>\n",
       "      <td>지포스 RTX 3060</td>\n",
       "      <td>1798980</td>\n",
       "    </tr>\n",
       "  </tbody>\n",
       "</table>\n",
       "</div>"
      ],
      "text/plain": [
       "       회사명                   제품명           용도            그래픽카드    가격(원)\n",
       "0  다나와표준PC           전문가용 211125     용도: 게임용      지포스 GTX 1650  1115850\n",
       "1       HP  파빌리온 게이밍 TG01-2004kl     용도: 게임용   지포스 RTX 3060 Ti  1598580\n",
       "2      이엠텍     레드빗 PC PRO - R503     용도: 게임용      지포스 RTX 3060  1496730\n",
       "3     LG전자          27V70N-GR56K  용도: 사무/인강용      지포스 RTX 3060  1124600\n",
       "4  다나와표준PC            게임용 220115     용도: 게임용      지포스 RTX 3060  1798980"
      ]
     },
     "execution_count": 11,
     "metadata": {},
     "output_type": "execute_result"
    }
   ],
   "source": [
    "pd_data = pd.DataFrame()\n",
    "pd_data['회사명'] = company_list\n",
    "pd_data['제품명'] = product_list\n",
    "pd_data['용도'] = usecase_list\n",
    "pd_data['그래픽카드'] = graphic_card_list\n",
    "pd_data['가격(원)'] = data['가격']\n",
    "pd_data.head()"
   ]
  },
  {
   "cell_type": "code",
   "execution_count": 12,
   "id": "5c3f25df",
   "metadata": {},
   "outputs": [],
   "source": [
    "condition = pd_data['용도'] != '용도: 사무/인강용 '\n",
    "pd_data = pd_data[condition].reset_index(drop=True)"
   ]
  },
  {
   "cell_type": "code",
   "execution_count": 13,
   "id": "b41ebf9f",
   "metadata": {},
   "outputs": [],
   "source": [
    "pd_data['회사명'] = pd_data['회사명'].replace('', np.nan)\n",
    "pd_data.dropna(inplace=True)"
   ]
  },
  {
   "cell_type": "code",
   "execution_count": 14,
   "id": "a984a44b",
   "metadata": {},
   "outputs": [
    {
     "data": {
      "text/html": [
       "<div>\n",
       "<style scoped>\n",
       "    .dataframe tbody tr th:only-of-type {\n",
       "        vertical-align: middle;\n",
       "    }\n",
       "\n",
       "    .dataframe tbody tr th {\n",
       "        vertical-align: top;\n",
       "    }\n",
       "\n",
       "    .dataframe thead th {\n",
       "        text-align: right;\n",
       "    }\n",
       "</style>\n",
       "<table border=\"1\" class=\"dataframe\">\n",
       "  <thead>\n",
       "    <tr style=\"text-align: right;\">\n",
       "      <th></th>\n",
       "      <th>회사명</th>\n",
       "      <th>제품명</th>\n",
       "      <th>용도</th>\n",
       "      <th>그래픽카드</th>\n",
       "      <th>가격(원)</th>\n",
       "    </tr>\n",
       "  </thead>\n",
       "  <tbody>\n",
       "    <tr>\n",
       "      <th>0</th>\n",
       "      <td>다나와표준PC</td>\n",
       "      <td>전문가용 211125</td>\n",
       "      <td>용도: 게임용</td>\n",
       "      <td>지포스 GTX 1650</td>\n",
       "      <td>1115850</td>\n",
       "    </tr>\n",
       "    <tr>\n",
       "      <th>1</th>\n",
       "      <td>HP</td>\n",
       "      <td>파빌리온 게이밍 TG01-2004kl</td>\n",
       "      <td>용도: 게임용</td>\n",
       "      <td>지포스 RTX 3060 Ti</td>\n",
       "      <td>1598580</td>\n",
       "    </tr>\n",
       "    <tr>\n",
       "      <th>2</th>\n",
       "      <td>이엠텍</td>\n",
       "      <td>레드빗 PC PRO - R503</td>\n",
       "      <td>용도: 게임용</td>\n",
       "      <td>지포스 RTX 3060</td>\n",
       "      <td>1496730</td>\n",
       "    </tr>\n",
       "    <tr>\n",
       "      <th>3</th>\n",
       "      <td>다나와표준PC</td>\n",
       "      <td>게임용 220115</td>\n",
       "      <td>용도: 게임용</td>\n",
       "      <td>지포스 RTX 3060</td>\n",
       "      <td>1798980</td>\n",
       "    </tr>\n",
       "    <tr>\n",
       "      <th>5</th>\n",
       "      <td>ASRock</td>\n",
       "      <td>DeskMini X300 120W 에즈윈</td>\n",
       "      <td>용도: 게임용</td>\n",
       "      <td>지포스 RTX 3060</td>\n",
       "      <td>203440</td>\n",
       "    </tr>\n",
       "    <tr>\n",
       "      <th>...</th>\n",
       "      <td>...</td>\n",
       "      <td>...</td>\n",
       "      <td>...</td>\n",
       "      <td>...</td>\n",
       "      <td>...</td>\n",
       "    </tr>\n",
       "    <tr>\n",
       "      <th>224</th>\n",
       "      <td>다나와표준PC</td>\n",
       "      <td>DPG 게임용 210822</td>\n",
       "      <td>용도: 게임용</td>\n",
       "      <td>지포스 RTX 3060</td>\n",
       "      <td>1865960</td>\n",
       "    </tr>\n",
       "    <tr>\n",
       "      <th>225</th>\n",
       "      <td>다나와표준PC</td>\n",
       "      <td>전문가용 210726</td>\n",
       "      <td>용도: 게임용</td>\n",
       "      <td>지포스 GTX 1660 SUPER</td>\n",
       "      <td>1737910</td>\n",
       "    </tr>\n",
       "    <tr>\n",
       "      <th>226</th>\n",
       "      <td>다나와표준PC</td>\n",
       "      <td>게임용 210712</td>\n",
       "      <td>용도: 게임용</td>\n",
       "      <td>지포스 GTX 1660 SUPER</td>\n",
       "      <td>1470740</td>\n",
       "    </tr>\n",
       "    <tr>\n",
       "      <th>227</th>\n",
       "      <td>한성컴퓨터</td>\n",
       "      <td>TFG DX5990RXTW</td>\n",
       "      <td>용도: 게임용</td>\n",
       "      <td>지포스 GTX 1660 SUPER</td>\n",
       "      <td>4129000</td>\n",
       "    </tr>\n",
       "    <tr>\n",
       "      <th>228</th>\n",
       "      <td>다나와표준PC</td>\n",
       "      <td>DPG 게임용 210221</td>\n",
       "      <td>용도: 게임용</td>\n",
       "      <td>지포스 RTX 3070</td>\n",
       "      <td>1997090</td>\n",
       "    </tr>\n",
       "  </tbody>\n",
       "</table>\n",
       "<p>221 rows × 5 columns</p>\n",
       "</div>"
      ],
      "text/plain": [
       "         회사명                     제품명        용도               그래픽카드    가격(원)\n",
       "0    다나와표준PC             전문가용 211125  용도: 게임용         지포스 GTX 1650  1115850\n",
       "1         HP    파빌리온 게이밍 TG01-2004kl  용도: 게임용      지포스 RTX 3060 Ti  1598580\n",
       "2        이엠텍       레드빗 PC PRO - R503  용도: 게임용         지포스 RTX 3060  1496730\n",
       "3    다나와표준PC              게임용 220115  용도: 게임용         지포스 RTX 3060  1798980\n",
       "5     ASRock  DeskMini X300 120W 에즈윈  용도: 게임용         지포스 RTX 3060   203440\n",
       "..       ...                     ...       ...                 ...      ...\n",
       "224  다나와표준PC          DPG 게임용 210822  용도: 게임용         지포스 RTX 3060  1865960\n",
       "225  다나와표준PC             전문가용 210726  용도: 게임용   지포스 GTX 1660 SUPER  1737910\n",
       "226  다나와표준PC              게임용 210712  용도: 게임용   지포스 GTX 1660 SUPER  1470740\n",
       "227    한성컴퓨터          TFG DX5990RXTW  용도: 게임용   지포스 GTX 1660 SUPER  4129000\n",
       "228  다나와표준PC          DPG 게임용 210221  용도: 게임용         지포스 RTX 3070  1997090\n",
       "\n",
       "[221 rows x 5 columns]"
      ]
     },
     "execution_count": 14,
     "metadata": {},
     "output_type": "execute_result"
    }
   ],
   "source": [
    "pd_data.to_excel('./my_files/danawa_crawling_result_class(desktop_game).xlsx', index=False)\n",
    "pd_data"
   ]
  },
  {
   "cell_type": "code",
   "execution_count": 15,
   "id": "d6d8b5d3",
   "metadata": {},
   "outputs": [
    {
     "data": {
      "text/plain": [
       "0            지포스 GTX 1650\n",
       "1         지포스 RTX 3060 Ti\n",
       "2            지포스 RTX 3060\n",
       "3            지포스 RTX 3060\n",
       "5            지포스 RTX 3060\n",
       "              ...        \n",
       "224          지포스 RTX 3060\n",
       "225    지포스 GTX 1660 SUPER\n",
       "226    지포스 GTX 1660 SUPER\n",
       "227    지포스 GTX 1660 SUPER\n",
       "228          지포스 RTX 3070\n",
       "Name: 그래픽카드, Length: 221, dtype: object"
      ]
     },
     "execution_count": 15,
     "metadata": {},
     "output_type": "execute_result"
    }
   ],
   "source": [
    "pd_data['그래픽카드']"
   ]
  },
  {
   "cell_type": "code",
   "execution_count": 16,
   "id": "2f7721dc",
   "metadata": {},
   "outputs": [],
   "source": [
    "perfomance_list = []\n",
    "priority_list = []\n",
    "for data in pd_data['그래픽카드']:\n",
    "    perform = data.split(' ')[2]\n",
    "    try:\n",
    "        if data.split(' ')[3] == 'Ti':\n",
    "            priority_list.append(2)\n",
    "        elif data.split(' ')[3] == 'SUPER':\n",
    "            priority_list.append(1)\n",
    "    except:\n",
    "        priority_list.append(0)\n",
    "    perfomance_list.append(perform)"
   ]
  },
  {
   "cell_type": "code",
   "execution_count": 17,
   "id": "801a967e",
   "metadata": {},
   "outputs": [],
   "source": [
    "pd_data['성능'] = perfomance_list\n",
    "pd_data['우선순위'] = priority_list"
   ]
  },
  {
   "cell_type": "code",
   "execution_count": 18,
   "id": "e71837b9",
   "metadata": {},
   "outputs": [
    {
     "data": {
      "text/html": [
       "<div>\n",
       "<style scoped>\n",
       "    .dataframe tbody tr th:only-of-type {\n",
       "        vertical-align: middle;\n",
       "    }\n",
       "\n",
       "    .dataframe tbody tr th {\n",
       "        vertical-align: top;\n",
       "    }\n",
       "\n",
       "    .dataframe thead th {\n",
       "        text-align: right;\n",
       "    }\n",
       "</style>\n",
       "<table border=\"1\" class=\"dataframe\">\n",
       "  <thead>\n",
       "    <tr style=\"text-align: right;\">\n",
       "      <th></th>\n",
       "      <th>회사명</th>\n",
       "      <th>제품명</th>\n",
       "      <th>용도</th>\n",
       "      <th>그래픽카드</th>\n",
       "      <th>가격(원)</th>\n",
       "      <th>성능</th>\n",
       "      <th>우선순위</th>\n",
       "    </tr>\n",
       "  </thead>\n",
       "  <tbody>\n",
       "    <tr>\n",
       "      <th>0</th>\n",
       "      <td>다나와표준PC</td>\n",
       "      <td>전문가용 211125</td>\n",
       "      <td>용도: 게임용</td>\n",
       "      <td>지포스 GTX 1650</td>\n",
       "      <td>1115850</td>\n",
       "      <td>1650</td>\n",
       "      <td>0</td>\n",
       "    </tr>\n",
       "    <tr>\n",
       "      <th>1</th>\n",
       "      <td>HP</td>\n",
       "      <td>파빌리온 게이밍 TG01-2004kl</td>\n",
       "      <td>용도: 게임용</td>\n",
       "      <td>지포스 RTX 3060 Ti</td>\n",
       "      <td>1598580</td>\n",
       "      <td>3060</td>\n",
       "      <td>2</td>\n",
       "    </tr>\n",
       "    <tr>\n",
       "      <th>2</th>\n",
       "      <td>이엠텍</td>\n",
       "      <td>레드빗 PC PRO - R503</td>\n",
       "      <td>용도: 게임용</td>\n",
       "      <td>지포스 RTX 3060</td>\n",
       "      <td>1496730</td>\n",
       "      <td>3060</td>\n",
       "      <td>0</td>\n",
       "    </tr>\n",
       "    <tr>\n",
       "      <th>3</th>\n",
       "      <td>다나와표준PC</td>\n",
       "      <td>게임용 220115</td>\n",
       "      <td>용도: 게임용</td>\n",
       "      <td>지포스 RTX 3060</td>\n",
       "      <td>1798980</td>\n",
       "      <td>3060</td>\n",
       "      <td>0</td>\n",
       "    </tr>\n",
       "    <tr>\n",
       "      <th>5</th>\n",
       "      <td>ASRock</td>\n",
       "      <td>DeskMini X300 120W 에즈윈</td>\n",
       "      <td>용도: 게임용</td>\n",
       "      <td>지포스 RTX 3060</td>\n",
       "      <td>203440</td>\n",
       "      <td>3060</td>\n",
       "      <td>0</td>\n",
       "    </tr>\n",
       "    <tr>\n",
       "      <th>...</th>\n",
       "      <td>...</td>\n",
       "      <td>...</td>\n",
       "      <td>...</td>\n",
       "      <td>...</td>\n",
       "      <td>...</td>\n",
       "      <td>...</td>\n",
       "      <td>...</td>\n",
       "    </tr>\n",
       "    <tr>\n",
       "      <th>224</th>\n",
       "      <td>다나와표준PC</td>\n",
       "      <td>DPG 게임용 210822</td>\n",
       "      <td>용도: 게임용</td>\n",
       "      <td>지포스 RTX 3060</td>\n",
       "      <td>1865960</td>\n",
       "      <td>3060</td>\n",
       "      <td>0</td>\n",
       "    </tr>\n",
       "    <tr>\n",
       "      <th>225</th>\n",
       "      <td>다나와표준PC</td>\n",
       "      <td>전문가용 210726</td>\n",
       "      <td>용도: 게임용</td>\n",
       "      <td>지포스 GTX 1660 SUPER</td>\n",
       "      <td>1737910</td>\n",
       "      <td>1660</td>\n",
       "      <td>1</td>\n",
       "    </tr>\n",
       "    <tr>\n",
       "      <th>226</th>\n",
       "      <td>다나와표준PC</td>\n",
       "      <td>게임용 210712</td>\n",
       "      <td>용도: 게임용</td>\n",
       "      <td>지포스 GTX 1660 SUPER</td>\n",
       "      <td>1470740</td>\n",
       "      <td>1660</td>\n",
       "      <td>1</td>\n",
       "    </tr>\n",
       "    <tr>\n",
       "      <th>227</th>\n",
       "      <td>한성컴퓨터</td>\n",
       "      <td>TFG DX5990RXTW</td>\n",
       "      <td>용도: 게임용</td>\n",
       "      <td>지포스 GTX 1660 SUPER</td>\n",
       "      <td>4129000</td>\n",
       "      <td>1660</td>\n",
       "      <td>1</td>\n",
       "    </tr>\n",
       "    <tr>\n",
       "      <th>228</th>\n",
       "      <td>다나와표준PC</td>\n",
       "      <td>DPG 게임용 210221</td>\n",
       "      <td>용도: 게임용</td>\n",
       "      <td>지포스 RTX 3070</td>\n",
       "      <td>1997090</td>\n",
       "      <td>3070</td>\n",
       "      <td>0</td>\n",
       "    </tr>\n",
       "  </tbody>\n",
       "</table>\n",
       "<p>221 rows × 7 columns</p>\n",
       "</div>"
      ],
      "text/plain": [
       "         회사명                     제품명        용도               그래픽카드    가격(원)  \\\n",
       "0    다나와표준PC             전문가용 211125  용도: 게임용         지포스 GTX 1650  1115850   \n",
       "1         HP    파빌리온 게이밍 TG01-2004kl  용도: 게임용      지포스 RTX 3060 Ti  1598580   \n",
       "2        이엠텍       레드빗 PC PRO - R503  용도: 게임용         지포스 RTX 3060  1496730   \n",
       "3    다나와표준PC              게임용 220115  용도: 게임용         지포스 RTX 3060  1798980   \n",
       "5     ASRock  DeskMini X300 120W 에즈윈  용도: 게임용         지포스 RTX 3060   203440   \n",
       "..       ...                     ...       ...                 ...      ...   \n",
       "224  다나와표준PC          DPG 게임용 210822  용도: 게임용         지포스 RTX 3060  1865960   \n",
       "225  다나와표준PC             전문가용 210726  용도: 게임용   지포스 GTX 1660 SUPER  1737910   \n",
       "226  다나와표준PC              게임용 210712  용도: 게임용   지포스 GTX 1660 SUPER  1470740   \n",
       "227    한성컴퓨터          TFG DX5990RXTW  용도: 게임용   지포스 GTX 1660 SUPER  4129000   \n",
       "228  다나와표준PC          DPG 게임용 210221  용도: 게임용         지포스 RTX 3070  1997090   \n",
       "\n",
       "       성능  우선순위  \n",
       "0    1650     0  \n",
       "1    3060     2  \n",
       "2    3060     0  \n",
       "3    3060     0  \n",
       "5    3060     0  \n",
       "..    ...   ...  \n",
       "224  3060     0  \n",
       "225  1660     1  \n",
       "226  1660     1  \n",
       "227  1660     1  \n",
       "228  3070     0  \n",
       "\n",
       "[221 rows x 7 columns]"
      ]
     },
     "execution_count": 18,
     "metadata": {},
     "output_type": "execute_result"
    }
   ],
   "source": [
    "pd_data"
   ]
  },
  {
   "cell_type": "code",
   "execution_count": 21,
   "id": "d4716417",
   "metadata": {},
   "outputs": [],
   "source": [
    "pd_data.to_excel('./my_files/danawa_crawling_data_final(desktop_game).xlsx',index=False)"
   ]
  },
  {
   "cell_type": "code",
   "execution_count": null,
   "id": "6a84c77b",
   "metadata": {},
   "outputs": [],
   "source": []
  }
 ],
 "metadata": {
  "kernelspec": {
   "display_name": "Python 3 (ipykernel)",
   "language": "python",
   "name": "python3"
  },
  "language_info": {
   "codemirror_mode": {
    "name": "ipython",
    "version": 3
   },
   "file_extension": ".py",
   "mimetype": "text/x-python",
   "name": "python",
   "nbconvert_exporter": "python",
   "pygments_lexer": "ipython3",
   "version": "3.8.12"
  }
 },
 "nbformat": 4,
 "nbformat_minor": 5
}
