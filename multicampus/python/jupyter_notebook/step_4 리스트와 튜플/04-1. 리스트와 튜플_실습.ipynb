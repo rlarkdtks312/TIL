{
 "cells": [
  {
   "cell_type": "markdown",
   "id": "0d932fe4",
   "metadata": {},
   "source": [
    "# 리스트, 튜플 만들기"
   ]
  },
  {
   "cell_type": "markdown",
   "id": "4a88a6b7",
   "metadata": {},
   "source": [
    "## 리스트 만들기"
   ]
  },
  {
   "cell_type": "code",
   "execution_count": null,
   "id": "c78a8ea4",
   "metadata": {},
   "outputs": [],
   "source": [
    "# []를 사용하여 빈 리스트 만들기"
   ]
  },
  {
   "cell_type": "code",
   "execution_count": null,
   "id": "b3b88972",
   "metadata": {},
   "outputs": [],
   "source": [
    "# list() 함수를 사용하여 빈 리스트 만들기"
   ]
  },
  {
   "cell_type": "code",
   "execution_count": null,
   "id": "2867b9c7",
   "metadata": {},
   "outputs": [],
   "source": [
    "# []를 사용하여 초기값이 있는 리스트 만들기"
   ]
  },
  {
   "cell_type": "code",
   "execution_count": null,
   "id": "331dcc69",
   "metadata": {},
   "outputs": [],
   "source": [
    "# list() 함수를 사용하여 초기값이 있는 리스트 만들기(규칙이 있는 정수값의 나열)"
   ]
  },
  {
   "cell_type": "markdown",
   "id": "607e85e2",
   "metadata": {},
   "source": [
    "## 튜플 만들기"
   ]
  },
  {
   "cell_type": "code",
   "execution_count": null,
   "id": "c570b2e7",
   "metadata": {},
   "outputs": [],
   "source": [
    "# ( )를 사용하여 빈 튜플 만들기"
   ]
  },
  {
   "cell_type": "code",
   "execution_count": null,
   "id": "39490974",
   "metadata": {},
   "outputs": [],
   "source": [
    "# tuple() 함수를 사용하여 빈 튜플 만들기"
   ]
  },
  {
   "cell_type": "code",
   "execution_count": null,
   "id": "889cf7d3",
   "metadata": {},
   "outputs": [],
   "source": [
    "# ( )에 초기값 지정하여 튜플 만들기"
   ]
  },
  {
   "cell_type": "code",
   "execution_count": null,
   "id": "64f5362e",
   "metadata": {},
   "outputs": [],
   "source": [
    "# tuple() 함수를 사용하여 초기값이 있는 튜플 만들기(규칙이 있는 정수값의 나열)"
   ]
  },
  {
   "cell_type": "code",
   "execution_count": null,
   "id": "40b90d77",
   "metadata": {},
   "outputs": [],
   "source": [
    "# 튜플을 만들 때 괄호()를 생략할 수 있다."
   ]
  },
  {
   "cell_type": "code",
   "execution_count": null,
   "id": "7d6fd538",
   "metadata": {},
   "outputs": [],
   "source": [
    "# 항목이 1개일 때는 ,를 붙인다."
   ]
  },
  {
   "cell_type": "code",
   "execution_count": null,
   "id": "f04da6fd",
   "metadata": {},
   "outputs": [],
   "source": []
  },
  {
   "cell_type": "markdown",
   "id": "627529d2",
   "metadata": {},
   "source": [
    "# 리스트, 튜플의 자료형\n",
    "* 모든 자료형이 혼합되어 들어갈 수 있다."
   ]
  },
  {
   "cell_type": "code",
   "execution_count": null,
   "id": "1829aaa6",
   "metadata": {},
   "outputs": [],
   "source": []
  },
  {
   "cell_type": "code",
   "execution_count": null,
   "id": "ef467dee",
   "metadata": {
    "scrolled": true
   },
   "outputs": [],
   "source": []
  },
  {
   "cell_type": "markdown",
   "id": "881aae3d",
   "metadata": {},
   "source": [
    "# 리스트, 튜플 연결하기"
   ]
  },
  {
   "cell_type": "code",
   "execution_count": null,
   "id": "f90e69a6",
   "metadata": {},
   "outputs": [],
   "source": [
    "l1 = ['사과','딸기','포도']\n",
    "l2 = ['포도','수박']"
   ]
  },
  {
   "cell_type": "code",
   "execution_count": null,
   "id": "b2d79e6d",
   "metadata": {},
   "outputs": [],
   "source": [
    "t1 = ('빨','주')\n",
    "t2 = ('노','초','파','남','보')"
   ]
  },
  {
   "cell_type": "markdown",
   "id": "f38a041b",
   "metadata": {},
   "source": [
    "# 리스트, 튜플 반복하기"
   ]
  },
  {
   "cell_type": "code",
   "execution_count": null,
   "id": "c9926976",
   "metadata": {},
   "outputs": [],
   "source": [
    "l = ['먹고','자고']"
   ]
  },
  {
   "cell_type": "code",
   "execution_count": null,
   "id": "d8f38204",
   "metadata": {},
   "outputs": [],
   "source": [
    "t = ('놀고','먹고','자고')"
   ]
  },
  {
   "cell_type": "markdown",
   "id": "17c672e8",
   "metadata": {},
   "source": [
    "# 리스트, 튜플에 값 존재여부 확인\n",
    "* 멤버연산자 : in, not in"
   ]
  },
  {
   "cell_type": "code",
   "execution_count": null,
   "id": "a1636afb",
   "metadata": {},
   "outputs": [],
   "source": []
  },
  {
   "cell_type": "code",
   "execution_count": null,
   "id": "a882e131",
   "metadata": {},
   "outputs": [],
   "source": []
  },
  {
   "cell_type": "markdown",
   "id": "46340088",
   "metadata": {},
   "source": [
    "# 리스트, 튜플 항목의 갯수 구하기\n",
    "* len(리스트명)\n",
    "* len(튜플명)"
   ]
  },
  {
   "cell_type": "code",
   "execution_count": null,
   "id": "5aa41221",
   "metadata": {
    "scrolled": true
   },
   "outputs": [],
   "source": [
    "l = [1,3,2,4,3,5,7,8,77.7,88.8,'a','b','c',[10,20,30]]"
   ]
  },
  {
   "cell_type": "code",
   "execution_count": null,
   "id": "9b8d55eb",
   "metadata": {},
   "outputs": [],
   "source": [
    "t = ((1,2),[3,4])"
   ]
  }
 ],
 "metadata": {
  "kernelspec": {
   "display_name": "Python 3",
   "language": "python",
   "name": "python3"
  },
  "language_info": {
   "codemirror_mode": {
    "name": "ipython",
    "version": 3
   },
   "file_extension": ".py",
   "mimetype": "text/x-python",
   "name": "python",
   "nbconvert_exporter": "python",
   "pygments_lexer": "ipython3",
   "version": "3.8.8"
  },
  "toc": {
   "base_numbering": 1,
   "nav_menu": {},
   "number_sections": true,
   "sideBar": true,
   "skip_h1_title": false,
   "title_cell": "Table of Contents",
   "title_sidebar": "Contents",
   "toc_cell": false,
   "toc_position": {},
   "toc_section_display": true,
   "toc_window_display": true
  }
 },
 "nbformat": 4,
 "nbformat_minor": 5
}
