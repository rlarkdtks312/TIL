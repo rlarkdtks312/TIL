{
 "cells": [
  {
   "cell_type": "markdown",
   "id": "95256491",
   "metadata": {},
   "source": [
    "# 인덱싱\n",
    "* 인덱스로 리스트, 튜플 항목 추출하기"
   ]
  },
  {
   "cell_type": "markdown",
   "id": "cfff5b6b",
   "metadata": {},
   "source": [
    "## 리스트 인덱싱\n",
    "* 리스트명[인덱스]"
   ]
  },
  {
   "cell_type": "code",
   "execution_count": null,
   "id": "72ac9f95",
   "metadata": {},
   "outputs": [],
   "source": [
    "l1 = ['축구','농구','배구','야구','족구','발야구','피구']"
   ]
  },
  {
   "cell_type": "code",
   "execution_count": null,
   "id": "ccc72a04",
   "metadata": {
    "scrolled": true
   },
   "outputs": [],
   "source": [
    "# l1 항목수"
   ]
  },
  {
   "cell_type": "code",
   "execution_count": null,
   "id": "52622c4b",
   "metadata": {
    "scrolled": false
   },
   "outputs": [],
   "source": [
    "# '축구' "
   ]
  },
  {
   "cell_type": "code",
   "execution_count": null,
   "id": "6caa1d99",
   "metadata": {},
   "outputs": [],
   "source": [
    "# '배구' "
   ]
  },
  {
   "cell_type": "code",
   "execution_count": null,
   "id": "48901bd9",
   "metadata": {
    "scrolled": false
   },
   "outputs": [],
   "source": [
    "# '피구'"
   ]
  },
  {
   "cell_type": "markdown",
   "id": "d4225c55",
   "metadata": {},
   "source": [
    "## 튜플 인덱싱\n",
    "* 튜플명[인덱스]"
   ]
  },
  {
   "cell_type": "code",
   "execution_count": null,
   "id": "9db32061",
   "metadata": {},
   "outputs": [],
   "source": [
    "t1 = ('스키','보드','스케이트','스케이트보드','수상스키','웨이크보드')"
   ]
  },
  {
   "cell_type": "code",
   "execution_count": null,
   "id": "02129f66",
   "metadata": {},
   "outputs": [],
   "source": [
    "# t1 항목수"
   ]
  },
  {
   "cell_type": "code",
   "execution_count": null,
   "id": "d20a1726",
   "metadata": {
    "scrolled": true
   },
   "outputs": [],
   "source": [
    "# '스키'"
   ]
  },
  {
   "cell_type": "code",
   "execution_count": null,
   "id": "3ec9627a",
   "metadata": {},
   "outputs": [],
   "source": [
    "# '웨이크보드'"
   ]
  },
  {
   "cell_type": "markdown",
   "id": "d8fd0da0",
   "metadata": {},
   "source": [
    "## 중첩리스트 인덱싱"
   ]
  },
  {
   "cell_type": "code",
   "execution_count": null,
   "id": "80f8224e",
   "metadata": {},
   "outputs": [],
   "source": [
    "# 아래 리스트 l에서 '수박' 인덱싱하여 가져오기"
   ]
  },
  {
   "cell_type": "code",
   "execution_count": null,
   "id": "1d22640b",
   "metadata": {},
   "outputs": [],
   "source": [
    "# 아래 튜플 t에서 'Life' 인덱싱하여 가져오기"
   ]
  },
  {
   "cell_type": "markdown",
   "id": "65191f62",
   "metadata": {},
   "source": [
    "# 슬라이싱\n",
    "* 리스트명[시작인덱스:끝인덱스:간격]\n",
    "* 튜플명[시작인덱스:끝인덱스:간격]"
   ]
  },
  {
   "cell_type": "code",
   "execution_count": null,
   "id": "fba9e7fa",
   "metadata": {},
   "outputs": [],
   "source": [
    "l1 = ['축구','농구','배구','야구','족구','발야구','피구'] "
   ]
  },
  {
   "cell_type": "code",
   "execution_count": null,
   "id": "ad390336",
   "metadata": {},
   "outputs": [],
   "source": [
    "# ['농구','배구']"
   ]
  },
  {
   "cell_type": "code",
   "execution_count": null,
   "id": "87eee604",
   "metadata": {},
   "outputs": [],
   "source": [
    "# ['축구','농구','배구']"
   ]
  },
  {
   "cell_type": "code",
   "execution_count": null,
   "id": "dbdc33f5",
   "metadata": {},
   "outputs": [],
   "source": [
    "# ['족구','발야구']"
   ]
  },
  {
   "cell_type": "code",
   "execution_count": null,
   "id": "27cd637b",
   "metadata": {},
   "outputs": [],
   "source": [
    "# ['족구','발야구','피구']"
   ]
  },
  {
   "cell_type": "code",
   "execution_count": null,
   "id": "2db483ce",
   "metadata": {},
   "outputs": [],
   "source": [
    "# 모든 항목"
   ]
  },
  {
   "cell_type": "code",
   "execution_count": null,
   "id": "8ee71879",
   "metadata": {},
   "outputs": [],
   "source": [
    "# 모든 항목 역순으로"
   ]
  },
  {
   "cell_type": "code",
   "execution_count": null,
   "id": "eefa541b",
   "metadata": {
    "scrolled": false
   },
   "outputs": [],
   "source": [
    "# ['발야구','족구','야구']"
   ]
  },
  {
   "cell_type": "code",
   "execution_count": null,
   "id": "d487dbca",
   "metadata": {},
   "outputs": [],
   "source": [
    "# 아래 리스트 l3에서 홀수만 슬라이싱하기"
   ]
  },
  {
   "cell_type": "markdown",
   "id": "aac7e59a",
   "metadata": {},
   "source": [
    "# 항목의 인덱스 찾기\n",
    "* 리스트명.index(항목)\n",
    "* 튜플명.index(항목)"
   ]
  },
  {
   "cell_type": "code",
   "execution_count": null,
   "id": "62d982c4",
   "metadata": {
    "scrolled": true
   },
   "outputs": [],
   "source": [
    "t1 = ('스키','보드','스케이트','스케이트보드','수상스키','웨이크보드')"
   ]
  },
  {
   "cell_type": "code",
   "execution_count": null,
   "id": "2cf1c49c",
   "metadata": {},
   "outputs": [],
   "source": [
    "# '스케이트'의 인덱스 찾기"
   ]
  },
  {
   "cell_type": "code",
   "execution_count": null,
   "id": "a2930169",
   "metadata": {
    "scrolled": true
   },
   "outputs": [],
   "source": [
    "# '오토바이'의 인덱스 찾기"
   ]
  },
  {
   "cell_type": "code",
   "execution_count": null,
   "id": "5bac2971",
   "metadata": {},
   "outputs": [],
   "source": []
  }
 ],
 "metadata": {
  "kernelspec": {
   "display_name": "Python 3",
   "language": "python",
   "name": "python3"
  },
  "language_info": {
   "codemirror_mode": {
    "name": "ipython",
    "version": 3
   },
   "file_extension": ".py",
   "mimetype": "text/x-python",
   "name": "python",
   "nbconvert_exporter": "python",
   "pygments_lexer": "ipython3",
   "version": "3.8.8"
  },
  "toc": {
   "base_numbering": 1,
   "nav_menu": {},
   "number_sections": true,
   "sideBar": true,
   "skip_h1_title": false,
   "title_cell": "Table of Contents",
   "title_sidebar": "Contents",
   "toc_cell": false,
   "toc_position": {},
   "toc_section_display": true,
   "toc_window_display": true
  }
 },
 "nbformat": 4,
 "nbformat_minor": 5
}
