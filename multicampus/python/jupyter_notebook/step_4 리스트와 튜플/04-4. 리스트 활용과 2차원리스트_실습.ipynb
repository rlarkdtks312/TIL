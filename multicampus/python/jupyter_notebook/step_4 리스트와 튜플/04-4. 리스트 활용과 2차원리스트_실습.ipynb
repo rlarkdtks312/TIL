{
 "cells": [
  {
   "cell_type": "markdown",
   "id": "e7fb8b1c",
   "metadata": {},
   "source": [
    "# 리스트의 통계값 구하기\n",
    "* 항목수 : len(리스트명)\n",
    "* 합계 : sum(리스트명)\n",
    "* 최소값 : min(리스트명)\n",
    "* 최대값 : max(리스트명)\n",
    "* 항목의 갯수 : 리스트명.count(항목)"
   ]
  },
  {
   "cell_type": "code",
   "execution_count": null,
   "id": "fec4598e",
   "metadata": {},
   "outputs": [],
   "source": [
    "l = [1,2,3,4,5,3,4,5]\n",
    "print('항목수:')\n",
    "print('합계:')\n",
    "print('최소값:')\n",
    "print('최대값:')\n",
    "print('평균:')\n",
    "print('항목5의 갯수:')"
   ]
  },
  {
   "cell_type": "markdown",
   "id": "5bc38db1",
   "metadata": {},
   "source": [
    "# 리스트 정렬하기"
   ]
  },
  {
   "cell_type": "markdown",
   "id": "37cc7c09",
   "metadata": {},
   "source": [
    "## 원본리스트 정렬\n",
    "* 리스트명.sort()\n",
    "* 리스트명.sort(reverse=True) : 내림차순"
   ]
  },
  {
   "cell_type": "code",
   "execution_count": null,
   "id": "126c4b6a",
   "metadata": {},
   "outputs": [],
   "source": [
    "friends = "
   ]
  },
  {
   "cell_type": "code",
   "execution_count": null,
   "id": "84714549",
   "metadata": {
    "scrolled": true
   },
   "outputs": [],
   "source": []
  },
  {
   "cell_type": "code",
   "execution_count": null,
   "id": "0435fc0e",
   "metadata": {
    "scrolled": true
   },
   "outputs": [],
   "source": []
  },
  {
   "cell_type": "code",
   "execution_count": null,
   "id": "aee6039a",
   "metadata": {},
   "outputs": [],
   "source": []
  },
  {
   "cell_type": "code",
   "execution_count": null,
   "id": "59eb235b",
   "metadata": {},
   "outputs": [],
   "source": []
  },
  {
   "cell_type": "markdown",
   "id": "eda37ed7",
   "metadata": {},
   "source": [
    "## 복사본 만들어서 정렬\n",
    "* sorted(리스트명)\n",
    "* sorted(리스트명, reverse=True) : 내림차순"
   ]
  },
  {
   "cell_type": "code",
   "execution_count": null,
   "id": "88a7f155",
   "metadata": {},
   "outputs": [],
   "source": [
    "friends = "
   ]
  },
  {
   "cell_type": "code",
   "execution_count": null,
   "id": "f82b23b9",
   "metadata": {},
   "outputs": [],
   "source": []
  },
  {
   "cell_type": "code",
   "execution_count": null,
   "id": "eb942ec6",
   "metadata": {},
   "outputs": [],
   "source": []
  },
  {
   "cell_type": "code",
   "execution_count": null,
   "id": "06e87ca8",
   "metadata": {},
   "outputs": [],
   "source": []
  },
  {
   "cell_type": "markdown",
   "id": "231e659b",
   "metadata": {},
   "source": [
    "## 리스트 순서 뒤집기\n",
    "* 리스트명.reverse()"
   ]
  },
  {
   "cell_type": "code",
   "execution_count": null,
   "id": "2bd62d9d",
   "metadata": {},
   "outputs": [],
   "source": [
    "friends ="
   ]
  },
  {
   "cell_type": "code",
   "execution_count": null,
   "id": "8476945f",
   "metadata": {},
   "outputs": [],
   "source": []
  },
  {
   "cell_type": "code",
   "execution_count": null,
   "id": "49e0a543",
   "metadata": {},
   "outputs": [],
   "source": []
  },
  {
   "cell_type": "markdown",
   "id": "81b6fa2f",
   "metadata": {},
   "source": [
    "# 2차원리스트 다루기"
   ]
  },
  {
   "cell_type": "markdown",
   "id": "cf6a766c",
   "metadata": {},
   "source": [
    "* 2차원리스트 만들기\n",
    "||0열|1열|2열|\n",
    "|--|--|--|--|\n",
    "|0행|10|20|30|\n",
    "|1행|40|50|60|"
   ]
  },
  {
   "cell_type": "code",
   "execution_count": null,
   "id": "75d99d96",
   "metadata": {
    "scrolled": false
   },
   "outputs": [],
   "source": [
    "# 리스트 만들기\n",
    "\n",
    "# 30 추출하기\n",
    "\n",
    "# 1행 2열 추출하기"
   ]
  },
  {
   "cell_type": "markdown",
   "id": "650fedef",
   "metadata": {},
   "source": [
    "* 연습   \n",
    "파일리스트에서 파일명과 확장자를 분리하여 다음과 같은 형태로 저장하는 리스트를 만들어봅시다.\n",
    "|파일명|확장자|\n",
    "|--|--|\n",
    "|file1|py|\n",
    "|file2|txt|\n",
    "|file3|pptx|"
   ]
  },
  {
   "cell_type": "code",
   "execution_count": null,
   "id": "62a5570e",
   "metadata": {},
   "outputs": [],
   "source": [
    "file_list = ['file1.py','file2.txt','file3.pptx']\n",
    "name_extension = []"
   ]
  },
  {
   "cell_type": "code",
   "execution_count": null,
   "id": "2f0f551d",
   "metadata": {},
   "outputs": [],
   "source": []
  }
 ],
 "metadata": {
  "kernelspec": {
   "display_name": "Python 3 (ipykernel)",
   "language": "python",
   "name": "python3"
  },
  "language_info": {
   "codemirror_mode": {
    "name": "ipython",
    "version": 3
   },
   "file_extension": ".py",
   "mimetype": "text/x-python",
   "name": "python",
   "nbconvert_exporter": "python",
   "pygments_lexer": "ipython3",
   "version": "3.9.7"
  },
  "toc": {
   "base_numbering": 1,
   "nav_menu": {},
   "number_sections": true,
   "sideBar": true,
   "skip_h1_title": false,
   "title_cell": "Table of Contents",
   "title_sidebar": "Contents",
   "toc_cell": false,
   "toc_position": {},
   "toc_section_display": true,
   "toc_window_display": true
  }
 },
 "nbformat": 4,
 "nbformat_minor": 5
}
