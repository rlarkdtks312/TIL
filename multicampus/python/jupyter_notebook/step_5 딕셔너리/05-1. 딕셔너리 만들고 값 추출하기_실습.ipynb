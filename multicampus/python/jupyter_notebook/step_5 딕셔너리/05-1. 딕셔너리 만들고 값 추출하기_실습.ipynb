{
 "cells": [
  {
   "cell_type": "markdown",
   "id": "82cdc802",
   "metadata": {},
   "source": [
    "# 딕셔너리 만들기"
   ]
  },
  {
   "cell_type": "markdown",
   "id": "78046a77",
   "metadata": {},
   "source": [
    "## 딕셔너리명 = {키1:값1, 키2:값2,...,}\n",
    "* 중괄호 안에 키:값의 쌍으로 된 항목을 콤마(,)로 구분하여 적어준다."
   ]
  },
  {
   "cell_type": "markdown",
   "id": "7dc5a72c",
   "metadata": {},
   "source": [
    "|메뉴|가격|\n",
    "|----|----|\n",
    "|김밥|2000|\n",
    "|떡볶이|2500|\n",
    "|어묵|2000|\n",
    "|튀김|3000|\n"
   ]
  },
  {
   "cell_type": "code",
   "execution_count": null,
   "id": "09cef75e",
   "metadata": {
    "scrolled": false
   },
   "outputs": [],
   "source": [
    "menu = {}\n",
    "menu"
   ]
  },
  {
   "cell_type": "code",
   "execution_count": null,
   "id": "539f8349",
   "metadata": {
    "scrolled": true
   },
   "outputs": [],
   "source": []
  },
  {
   "cell_type": "markdown",
   "id": "121c53a0",
   "metadata": {},
   "source": [
    "## dict로 딕셔너리 만들기"
   ]
  },
  {
   "cell_type": "markdown",
   "id": "f62d0776",
   "metadata": {},
   "source": [
    "* 딕셔너리명 = dict(키1=값1, 키2=값2,...,)\n",
    "* 키에 따옴표('')를 쓰지 않는다는 점에 주의한다.\n",
    "* 키에 따옴표('')를 쓰지 않아도 딕셔너리가 생성되면서 자동으로 문자열형으로 지정된다."
   ]
  },
  {
   "cell_type": "code",
   "execution_count": null,
   "id": "7cdb7956",
   "metadata": {},
   "outputs": [],
   "source": [
    "menu1 = dict()\n",
    "menu1"
   ]
  },
  {
   "cell_type": "markdown",
   "id": "6737312c",
   "metadata": {},
   "source": [
    "* 딕셔너리명 = dict(zip(key리스트, value리스트))"
   ]
  },
  {
   "cell_type": "code",
   "execution_count": null,
   "id": "01e4f7cc",
   "metadata": {},
   "outputs": [],
   "source": [
    "key_list = ['김밥','떡볶이','어묵','튀김']\n",
    "value_list = [2000,2500,2000,3000]\n",
    "menu2 = dict()\n",
    "menu2"
   ]
  },
  {
   "cell_type": "markdown",
   "id": "39b54e6b",
   "metadata": {},
   "source": [
    "* 딕셔너리명 = dict([(키1,값1),(키1,값2),...,])"
   ]
  },
  {
   "cell_type": "code",
   "execution_count": null,
   "id": "e648f447",
   "metadata": {
    "scrolled": true
   },
   "outputs": [],
   "source": [
    "[('김밥',2000),('떡볶이',2500),('어묵',2000),('튀김',3000)]\n",
    "menu3 = dict()\n",
    "menu3"
   ]
  },
  {
   "cell_type": "markdown",
   "id": "ea45114a",
   "metadata": {},
   "source": [
    "* 딕셔너리명 = dict({키1:값1,키2:값2,...,})"
   ]
  },
  {
   "cell_type": "code",
   "execution_count": null,
   "id": "bfb7e59e",
   "metadata": {},
   "outputs": [],
   "source": [
    "menu4 = dict()\n",
    "print(menu4)"
   ]
  },
  {
   "cell_type": "markdown",
   "id": "e83941ce",
   "metadata": {},
   "source": [
    "## 딕셔너리에 사용할 수 있는 자료형\n",
    "* 딕셔너리의 value에는 모든 자료형을 혼합하여 사용할 수 있다."
   ]
  },
  {
   "cell_type": "code",
   "execution_count": null,
   "id": "82fc56f0",
   "metadata": {},
   "outputs": [],
   "source": [
    "person = {'name':'james', \n",
    "          '나이':25,\n",
    "          '키':175.5,\n",
    "          '시력':(1.0,1.0),\n",
    "          '취미':['운동','독서']}\n",
    "person"
   ]
  },
  {
   "cell_type": "markdown",
   "id": "0ff2fe48",
   "metadata": {},
   "source": [
    "* 딕셔너리의 key에는 숫자, 문자열, 부울형, 튜플을 사용할 수 있다."
   ]
  },
  {
   "cell_type": "code",
   "execution_count": null,
   "id": "ba2e6c54",
   "metadata": {},
   "outputs": [],
   "source": [
    "number=7\n",
    "\n",
    "dict1 = {\n",
    "    100:'hundred',\n",
    "    True:'참',\n",
    "    False:'거짓',\n",
    "    (1,3):'학년,반',\n",
    "    number:'번호'\n",
    "}\n",
    "print(dict1)"
   ]
  },
  {
   "cell_type": "markdown",
   "id": "8632ed08",
   "metadata": {},
   "source": [
    "##  중복된 key를 사용하여 딕셔너리 만들면?"
   ]
  },
  {
   "cell_type": "code",
   "execution_count": null,
   "id": "8888de52",
   "metadata": {
    "scrolled": true
   },
   "outputs": [],
   "source": [
    "person = {'name':'james', \n",
    "          '나이':25,\n",
    "          '키':175.5,\n",
    "          '시력':(1.0,1.0),\n",
    "          '취미':['운동','독서']}\n",
    "person"
   ]
  },
  {
   "cell_type": "markdown",
   "id": "deac8223",
   "metadata": {},
   "source": [
    "# 딕셔너리 값 추출하기"
   ]
  },
  {
   "cell_type": "markdown",
   "id": "3e02d5a2",
   "metadata": {},
   "source": [
    "## 딕셔너리명[key]"
   ]
  },
  {
   "cell_type": "code",
   "execution_count": null,
   "id": "72e5e5a3",
   "metadata": {
    "scrolled": false
   },
   "outputs": [],
   "source": []
  },
  {
   "cell_type": "markdown",
   "id": "9b2238dd",
   "metadata": {},
   "source": [
    "## 존재하지 않는 key로 추출하면?\n",
    "* KeyError가 발생한다."
   ]
  },
  {
   "cell_type": "code",
   "execution_count": null,
   "id": "0a740160",
   "metadata": {
    "scrolled": true
   },
   "outputs": [],
   "source": []
  },
  {
   "cell_type": "markdown",
   "id": "fd5cc784",
   "metadata": {},
   "source": [
    "## 딕셔너리에 키 존재여부 확인하기\n",
    "* key in 딕셔너리명"
   ]
  },
  {
   "cell_type": "code",
   "execution_count": null,
   "id": "11311a48",
   "metadata": {},
   "outputs": [],
   "source": []
  },
  {
   "cell_type": "markdown",
   "id": "a12f8031",
   "metadata": {},
   "source": [
    "## 딕셔너리명.get(key, msg)\n",
    "* 존재하지 않는 key로 추출 시도해도 오류가 발생하지 않는다.\n",
    "* 존재하지 않는 key로 추출 시도할 경우 출력할 메시지를 설정할 수 있다."
   ]
  },
  {
   "cell_type": "code",
   "execution_count": null,
   "id": "eb68a45f",
   "metadata": {
    "scrolled": true
   },
   "outputs": [],
   "source": []
  },
  {
   "cell_type": "code",
   "execution_count": null,
   "id": "85514fe1",
   "metadata": {},
   "outputs": [],
   "source": []
  },
  {
   "cell_type": "code",
   "execution_count": null,
   "id": "b078e828",
   "metadata": {
    "scrolled": true
   },
   "outputs": [],
   "source": []
  }
 ],
 "metadata": {
  "kernelspec": {
   "display_name": "Python 3",
   "language": "python",
   "name": "python3"
  },
  "language_info": {
   "codemirror_mode": {
    "name": "ipython",
    "version": 3
   },
   "file_extension": ".py",
   "mimetype": "text/x-python",
   "name": "python",
   "nbconvert_exporter": "python",
   "pygments_lexer": "ipython3",
   "version": "3.8.8"
  },
  "toc": {
   "base_numbering": 1,
   "nav_menu": {},
   "number_sections": true,
   "sideBar": true,
   "skip_h1_title": false,
   "title_cell": "Table of Contents",
   "title_sidebar": "Contents",
   "toc_cell": false,
   "toc_position": {},
   "toc_section_display": true,
   "toc_window_display": true
  }
 },
 "nbformat": 4,
 "nbformat_minor": 5
}
