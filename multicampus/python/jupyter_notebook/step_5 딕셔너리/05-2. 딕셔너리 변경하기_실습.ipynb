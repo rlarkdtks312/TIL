{
 "cells": [
  {
   "cell_type": "markdown",
   "id": "d35613bb",
   "metadata": {},
   "source": [
    "# 딕셔너리 항목 추가/수정"
   ]
  },
  {
   "cell_type": "markdown",
   "id": "93789a49",
   "metadata": {},
   "source": [
    "## 딕셔너리명[키]=값\n",
    "* 키가 존재하지 않으면 추가, 존재하면 수정된다."
   ]
  },
  {
   "cell_type": "code",
   "execution_count": null,
   "id": "4ff3914d",
   "metadata": {
    "scrolled": true
   },
   "outputs": [],
   "source": [
    "scores = {'kor':100, 'eng':90, 'math':80}\n",
    "\n",
    "# math점수 85점으로 수정하기\n",
    "\n",
    "# music점수 95점 추가하기\n",
    "\n",
    "scores"
   ]
  },
  {
   "cell_type": "markdown",
   "id": "7186bb46",
   "metadata": {},
   "source": [
    "## setdefault로 항목 추가하기"
   ]
  },
  {
   "cell_type": "markdown",
   "id": "8203e968",
   "metadata": {},
   "source": [
    "* 딕셔너리명.setdefault(키,값)\n",
    "* 이미 들어있는 키의 값은 수정할 수 없다."
   ]
  },
  {
   "cell_type": "code",
   "execution_count": null,
   "id": "42726c46",
   "metadata": {},
   "outputs": [],
   "source": [
    "scores = {'kor':100, 'eng':90, 'math':80}\n",
    "\n",
    "# music점수 넣기(key만 넣고 value를 생략하면? value에 빈값)\n",
    "\n",
    "scores"
   ]
  },
  {
   "cell_type": "code",
   "execution_count": null,
   "id": "6eedbf72",
   "metadata": {
    "scrolled": true
   },
   "outputs": [],
   "source": [
    "scores = {'kor':100, 'eng':90, 'math':80}\n",
    "\n",
    "# music점수 90점 추가\n",
    "\n",
    "scores"
   ]
  },
  {
   "cell_type": "code",
   "execution_count": null,
   "id": "3d10b4a2",
   "metadata": {
    "scrolled": true
   },
   "outputs": [],
   "source": [
    "scores = {'kor': 100, 'eng': 90, 'math': 80, 'music': 95}\n",
    "\n",
    "# music점수 85점으로 수정\n",
    "\n",
    "scores"
   ]
  },
  {
   "cell_type": "markdown",
   "id": "6240eec5",
   "metadata": {},
   "source": [
    "## update로 여러 항목 추가/수정하기\n",
    "* 키가 존재하면 수정, 존재하지 않으면 추가된다."
   ]
  },
  {
   "cell_type": "markdown",
   "id": "efacd497",
   "metadata": {},
   "source": [
    "* <b>딕셔너리명.update(키1=값1, 키1=값2,...)</b>\n",
    "* 키에 따옴표를 하지 않지만, 딕셔너리에 들어갈 때는 따옴표가 붙어서 들어간다."
   ]
  },
  {
   "cell_type": "code",
   "execution_count": null,
   "id": "eb0af9a0",
   "metadata": {},
   "outputs": [],
   "source": [
    "scores = {'kor':100, 'eng':90, 'math':80}\n",
    "\n",
    "# math:90, music:90\n",
    "\n",
    "scores"
   ]
  },
  {
   "cell_type": "markdown",
   "id": "d0a9e65c",
   "metadata": {},
   "source": [
    "* <b>딕셔너리명.update(zip(key리스트, value리스트)</b>"
   ]
  },
  {
   "cell_type": "code",
   "execution_count": null,
   "id": "108f4cb8",
   "metadata": {
    "scrolled": true
   },
   "outputs": [],
   "source": [
    "scores = {'kor':100, 'eng':90, 'math':80}\n",
    "\n",
    "# math:90, music:90\n",
    "\n",
    "scores"
   ]
  },
  {
   "cell_type": "markdown",
   "id": "dbf14c10",
   "metadata": {},
   "source": [
    "* <b>딕셔너리명.update([(키1,값1),(키2,값2),...])</b>"
   ]
  },
  {
   "cell_type": "code",
   "execution_count": null,
   "id": "e510e48f",
   "metadata": {},
   "outputs": [],
   "source": [
    "scores = {'kor':100, 'eng':90, 'math':80}\n",
    "\n",
    "# math:90, music:90\n",
    "\n",
    "scores"
   ]
  },
  {
   "cell_type": "markdown",
   "id": "2749f2b2",
   "metadata": {},
   "source": [
    "* <b>딕셔너리명.update({키1:값1,키2:값2,...,})</b>"
   ]
  },
  {
   "cell_type": "code",
   "execution_count": null,
   "id": "0ac24f4e",
   "metadata": {
    "scrolled": true
   },
   "outputs": [],
   "source": [
    "scores = {'kor':100, 'eng':90, 'math':80}\n",
    "\n",
    "# math:90, music:90\n",
    "    \n",
    "scores"
   ]
  },
  {
   "cell_type": "markdown",
   "id": "75530820",
   "metadata": {},
   "source": [
    "# 딕셔너리에서 항목 삭제하기"
   ]
  },
  {
   "cell_type": "markdown",
   "id": "238965c6",
   "metadata": {},
   "source": [
    "## del 딕셔너리명[키]\n",
    "* 해당 키의 항목 삭제"
   ]
  },
  {
   "cell_type": "code",
   "execution_count": null,
   "id": "627fa7e6",
   "metadata": {},
   "outputs": [],
   "source": [
    "scores = {'kor':100, 'eng':90, 'math':80}\n",
    "\n",
    "# 키가 'kor'인 항목 삭제\n",
    "\n",
    "scores"
   ]
  },
  {
   "cell_type": "markdown",
   "id": "1f44c6e5",
   "metadata": {},
   "source": [
    "## 딕셔너리명.pop(키, 기본값)\n",
    "* 해당 키의 항목(값) 반환하고 삭제"
   ]
  },
  {
   "cell_type": "code",
   "execution_count": null,
   "id": "ad29224b",
   "metadata": {},
   "outputs": [],
   "source": [
    "scores = {'kor':100, 'eng':90, 'math':80}\n",
    "\n",
    "# 키가 'kor'인 항목의 값 받아온 후 삭제\n",
    "\n",
    "print(scores)"
   ]
  },
  {
   "cell_type": "markdown",
   "id": "1f239b63",
   "metadata": {},
   "source": [
    "* 해당 키의 항목 반환하고 삭제(키가 존재하지 않을 때 기본값 반환)"
   ]
  },
  {
   "cell_type": "code",
   "execution_count": null,
   "id": "ab95bf5c",
   "metadata": {},
   "outputs": [],
   "source": [
    "scores = {'kor':100, 'eng':90, 'math':80}\n",
    "\n",
    "# 키가 'music'인 항목의 값 받아온 후 삭제(삭제할 키가 존재하지 않는 경우)\n",
    "\n",
    "print(scores)"
   ]
  },
  {
   "cell_type": "markdown",
   "id": "8d331ef1",
   "metadata": {},
   "source": [
    "## 딕셔너리명.clear()\n",
    "* 딕셔너리의 모든 항목 삭제"
   ]
  },
  {
   "cell_type": "code",
   "execution_count": null,
   "id": "4abda6b4",
   "metadata": {},
   "outputs": [],
   "source": [
    "scores = {'kor':100, 'eng':90, 'math':80}\n",
    "\n",
    "print(scores)"
   ]
  }
 ],
 "metadata": {
  "kernelspec": {
   "display_name": "Python 3 (ipykernel)",
   "language": "python",
   "name": "python3"
  },
  "language_info": {
   "codemirror_mode": {
    "name": "ipython",
    "version": 3
   },
   "file_extension": ".py",
   "mimetype": "text/x-python",
   "name": "python",
   "nbconvert_exporter": "python",
   "pygments_lexer": "ipython3",
   "version": "3.9.7"
  },
  "toc": {
   "base_numbering": 1,
   "nav_menu": {},
   "number_sections": true,
   "sideBar": true,
   "skip_h1_title": false,
   "title_cell": "Table of Contents",
   "title_sidebar": "Contents",
   "toc_cell": false,
   "toc_position": {},
   "toc_section_display": true,
   "toc_window_display": true
  }
 },
 "nbformat": 4,
 "nbformat_minor": 5
}
