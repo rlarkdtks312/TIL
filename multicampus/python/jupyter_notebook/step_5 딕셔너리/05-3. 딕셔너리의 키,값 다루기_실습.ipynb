{
 "cells": [
  {
   "cell_type": "markdown",
   "id": "1926d405",
   "metadata": {},
   "source": [
    "# 딕셔너리의 키, 값 모두 리스트 형태로 가져오기"
   ]
  },
  {
   "cell_type": "markdown",
   "id": "3b920a6a",
   "metadata": {},
   "source": [
    "## 딕셔너리명.keys()\n",
    "* 딕셔너리의 키만 리스트로 가져오기\n",
    "* dict_keys객체로 받아온다. 리스트처럼 사용할 수 있지만 리스트는 아니다."
   ]
  },
  {
   "cell_type": "code",
   "execution_count": null,
   "id": "16a8f964",
   "metadata": {},
   "outputs": [],
   "source": [
    "scores = {'kor':100, 'eng':90, 'math':80}"
   ]
  },
  {
   "cell_type": "markdown",
   "id": "0fe2bd56",
   "metadata": {},
   "source": [
    "## 딕셔너리명.values()\n",
    "* 딕셔너리의 value만 리스트로 가져오기\n",
    "* dict_values객체로 받아온다."
   ]
  },
  {
   "cell_type": "code",
   "execution_count": null,
   "id": "ee1af73e",
   "metadata": {},
   "outputs": [],
   "source": [
    "scores = {'kor':100, 'eng':90, 'math':80}"
   ]
  },
  {
   "cell_type": "markdown",
   "id": "511902a7",
   "metadata": {},
   "source": [
    "## 딕셔너리명.items()\n",
    "* 딕셔너리의 (key,value) 쌍을 리스트로 가져오기\n",
    "* dict_items객체로 받아온다."
   ]
  },
  {
   "cell_type": "code",
   "execution_count": null,
   "id": "70ff419d",
   "metadata": {},
   "outputs": [],
   "source": [
    "scores = {'kor':100, 'eng':90, 'math':80}"
   ]
  },
  {
   "cell_type": "markdown",
   "id": "3d2a0983",
   "metadata": {},
   "source": [
    "# for문으로 딕셔너리 출력하기"
   ]
  },
  {
   "cell_type": "markdown",
   "id": "9c4f4d6f",
   "metadata": {},
   "source": [
    "## for문으로 딕셔너리의 키만 출력하기"
   ]
  },
  {
   "cell_type": "code",
   "execution_count": null,
   "id": "e51357f8",
   "metadata": {
    "scrolled": true
   },
   "outputs": [],
   "source": [
    "scores = {'kor':100, 'eng':90, 'math':80}\n"
   ]
  },
  {
   "cell_type": "code",
   "execution_count": null,
   "id": "53d4e7cf",
   "metadata": {
    "scrolled": true
   },
   "outputs": [],
   "source": [
    "# 딕셔너리로 for문 돌리기"
   ]
  },
  {
   "cell_type": "markdown",
   "id": "135fef40",
   "metadata": {},
   "source": [
    "## for문으로 딕셔너리의 value만 출력하기"
   ]
  },
  {
   "cell_type": "code",
   "execution_count": null,
   "id": "fa054b95",
   "metadata": {},
   "outputs": [],
   "source": [
    "scores = {'kor':100, 'eng':90, 'math':80}"
   ]
  },
  {
   "cell_type": "markdown",
   "id": "3d3acb95",
   "metadata": {},
   "source": [
    "## for문으로 딕셔너리의 key, value 출력하기"
   ]
  },
  {
   "cell_type": "code",
   "execution_count": null,
   "id": "b472894c",
   "metadata": {
    "scrolled": true
   },
   "outputs": [],
   "source": [
    "scores = {'kor':100, 'eng':90, 'math':80}"
   ]
  },
  {
   "cell_type": "code",
   "execution_count": null,
   "id": "ad4e5640",
   "metadata": {
    "scrolled": true
   },
   "outputs": [],
   "source": [
    "scores = {'kor':100, 'eng':90, 'math':80}"
   ]
  },
  {
   "cell_type": "markdown",
   "id": "6fa1112d",
   "metadata": {},
   "source": [
    "# 딕셔너리 정렬하기"
   ]
  },
  {
   "cell_type": "markdown",
   "id": "1fbb77da",
   "metadata": {},
   "source": [
    "## 키 정렬하기"
   ]
  },
  {
   "cell_type": "code",
   "execution_count": null,
   "id": "131b3927",
   "metadata": {},
   "outputs": [],
   "source": [
    "scores = {'kor':100, 'eng':90, 'math':80}"
   ]
  },
  {
   "cell_type": "markdown",
   "id": "1d9a4759",
   "metadata": {},
   "source": [
    "## 값 정렬하기"
   ]
  },
  {
   "cell_type": "code",
   "execution_count": null,
   "id": "450ce159",
   "metadata": {},
   "outputs": [],
   "source": [
    "scores = {'kor':100, 'eng':90, 'math':80}"
   ]
  },
  {
   "cell_type": "markdown",
   "id": "a3344dd7",
   "metadata": {},
   "source": [
    "## (키,값) 정렬하기"
   ]
  },
  {
   "cell_type": "code",
   "execution_count": null,
   "id": "1cc6b42b",
   "metadata": {},
   "outputs": [],
   "source": [
    "scores = {'kor':100, 'eng':90, 'math':80}"
   ]
  },
  {
   "cell_type": "code",
   "execution_count": null,
   "id": "8e4c7364",
   "metadata": {},
   "outputs": [],
   "source": [
    "# .sort()는 지원하지 않음"
   ]
  }
 ],
 "metadata": {
  "kernelspec": {
   "display_name": "Python 3 (ipykernel)",
   "language": "python",
   "name": "python3"
  },
  "language_info": {
   "codemirror_mode": {
    "name": "ipython",
    "version": 3
   },
   "file_extension": ".py",
   "mimetype": "text/x-python",
   "name": "python",
   "nbconvert_exporter": "python",
   "pygments_lexer": "ipython3",
   "version": "3.9.7"
  },
  "toc": {
   "base_numbering": 1,
   "nav_menu": {},
   "number_sections": true,
   "sideBar": true,
   "skip_h1_title": false,
   "title_cell": "Table of Contents",
   "title_sidebar": "Contents",
   "toc_cell": false,
   "toc_position": {},
   "toc_section_display": true,
   "toc_window_display": true
  }
 },
 "nbformat": 4,
 "nbformat_minor": 5
}
