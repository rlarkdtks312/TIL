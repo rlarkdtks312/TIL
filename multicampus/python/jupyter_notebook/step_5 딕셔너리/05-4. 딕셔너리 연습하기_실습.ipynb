{
 "cells": [
  {
   "cell_type": "markdown",
   "id": "a7b8251a",
   "metadata": {},
   "source": [
    "# 영어단어장 만들기\n",
    "\n",
    "엔터를 입력할 때까지 영어단어,뜻을 입력받아 단어장을 만들고, 입력이 끝나면 단어 테스트를 실시하는 프로그램을 만들어봅시다.<br>\n",
    "1) 단어장을 만듭니다.<br>\n",
    "2) 단어테스트를 실시하고 맞은 갯수를 계산합니다.<br>\n",
    "3) 테스트가 끝나면 맞은갯수/전체단어수/점수 형태로 결과를 출력합니다<br>"
   ]
  },
  {
   "cell_type": "markdown",
   "id": "e6271670",
   "metadata": {},
   "source": [
    "## 단어장 만들기\n",
    "엔터('')를 입력할 때까지 영어단어,뜻을 입력받아 딕셔너리에 저장"
   ]
  },
  {
   "cell_type": "code",
   "execution_count": null,
   "id": "348305f1",
   "metadata": {},
   "outputs": [],
   "source": []
  },
  {
   "cell_type": "markdown",
   "id": "a9581363",
   "metadata": {},
   "source": [
    "## 단어테스트\n",
    "단어장의 단어들을 모두 테스트<br>\n",
    "맞은 갯수는 별도로 카운트"
   ]
  },
  {
   "cell_type": "code",
   "execution_count": null,
   "id": "61604586",
   "metadata": {
    "scrolled": false
   },
   "outputs": [],
   "source": []
  },
  {
   "cell_type": "markdown",
   "id": "94432d9b",
   "metadata": {},
   "source": [
    "## 테스트 결과 출력\n",
    "맞은갯수/전체문제수/점수 출력"
   ]
  },
  {
   "cell_type": "code",
   "execution_count": null,
   "id": "8b692b03",
   "metadata": {
    "scrolled": true
   },
   "outputs": [],
   "source": []
  }
 ],
 "metadata": {
  "kernelspec": {
   "display_name": "Python 3 (ipykernel)",
   "language": "python",
   "name": "python3"
  },
  "language_info": {
   "codemirror_mode": {
    "name": "ipython",
    "version": 3
   },
   "file_extension": ".py",
   "mimetype": "text/x-python",
   "name": "python",
   "nbconvert_exporter": "python",
   "pygments_lexer": "ipython3",
   "version": "3.9.7"
  },
  "toc": {
   "base_numbering": 1,
   "nav_menu": {},
   "number_sections": true,
   "sideBar": true,
   "skip_h1_title": false,
   "title_cell": "Table of Contents",
   "title_sidebar": "Contents",
   "toc_cell": false,
   "toc_position": {},
   "toc_section_display": true,
   "toc_window_display": false
  }
 },
 "nbformat": 4,
 "nbformat_minor": 5
}
