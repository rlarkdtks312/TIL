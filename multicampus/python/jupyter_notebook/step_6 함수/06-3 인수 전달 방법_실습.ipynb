{
 "cells": [
  {
   "cell_type": "markdown",
   "id": "c1eb8ab3",
   "metadata": {},
   "source": [
    "# 위치인수"
   ]
  },
  {
   "cell_type": "markdown",
   "id": "dc08ef41",
   "metadata": {},
   "source": [
    "* 기본적인 인수 전달방법이다.\n",
    "* 함수에 정의된 매개변수와 순서에 맞게 짝을 맞추어 인수를 전달한다."
   ]
  },
  {
   "cell_type": "code",
   "execution_count": null,
   "id": "e2ac4605",
   "metadata": {},
   "outputs": [],
   "source": [
    "def greet(name, msg):\n",
    "    print('안녕',name,msg)\n",
    "\n",
    "greet('친구','오랜만이야')"
   ]
  },
  {
   "cell_type": "markdown",
   "id": "419ecca9",
   "metadata": {},
   "source": [
    "# 디폴트인수"
   ]
  },
  {
   "cell_type": "markdown",
   "id": "5f1022cf",
   "metadata": {},
   "source": [
    "* 함수를 정의할 때 매개변수에 디폴트값을 지정하면 디폴트값이 지정된 인수를 생략할 수 있다."
   ]
  },
  {
   "cell_type": "code",
   "execution_count": null,
   "id": "a5881368",
   "metadata": {},
   "outputs": [],
   "source": []
  },
  {
   "cell_type": "markdown",
   "id": "76ec9cc5",
   "metadata": {},
   "source": [
    "* 디폴트 인수는 기본 위치 인수를 다 적은 다음에 적어야 한다."
   ]
  },
  {
   "cell_type": "code",
   "execution_count": null,
   "id": "8496dea3",
   "metadata": {},
   "outputs": [],
   "source": []
  },
  {
   "cell_type": "markdown",
   "id": "cbcce07a",
   "metadata": {},
   "source": [
    "# 키워드인수"
   ]
  },
  {
   "cell_type": "markdown",
   "id": "0b6bf5c2",
   "metadata": {},
   "source": [
    "* 함수를 호출할 때 인수의 이름을 명시하면, 순서를 바꾸어 전달할 수 있다."
   ]
  },
  {
   "cell_type": "code",
   "execution_count": null,
   "id": "34d363d4",
   "metadata": {},
   "outputs": [],
   "source": [
    "def get_minus(x,y,z):\n",
    "    return x-y-z\n",
    "\n",
    "print(get_minus(5,10,15))"
   ]
  },
  {
   "cell_type": "markdown",
   "id": "d2b97836",
   "metadata": {},
   "source": [
    "* 키워드 인수는 기본 위치 인수를 다 적은 다음에 적어야 한다."
   ]
  },
  {
   "cell_type": "code",
   "execution_count": null,
   "id": "3b257fda",
   "metadata": {
    "scrolled": true
   },
   "outputs": [],
   "source": [
    "def get_minus(x,y,z):\n",
    "    return x-y-z\n",
    "\n",
    "print(get_minus(5,10,15))"
   ]
  },
  {
   "cell_type": "markdown",
   "id": "a3af4669",
   "metadata": {},
   "source": [
    "# 가변인수"
   ]
  },
  {
   "cell_type": "markdown",
   "id": "f58e73e5",
   "metadata": {},
   "source": [
    "* 인수를 하나의 튜플이나 리스트로 전달한다."
   ]
  },
  {
   "cell_type": "code",
   "execution_count": null,
   "id": "0c77e275",
   "metadata": {},
   "outputs": [],
   "source": [
    "# 가변적인 수를 하나의 리스트/튜플로 받아서 수의 평균을 리턴하는 함수  \n"
   ]
  },
  {
   "cell_type": "markdown",
   "id": "933dcc17",
   "metadata": {},
   "source": [
    "* 매개변수에 '*'를 붙이면 여러개의 인수를 하나의 튜플로 받는다.\n",
    "* 인수의 갯수는 가변적이다."
   ]
  },
  {
   "cell_type": "code",
   "execution_count": null,
   "id": "b6afe6fb",
   "metadata": {},
   "outputs": [],
   "source": [
    "# 가변적인 수를 받아서 수의 평균을 리턴하는 함수"
   ]
  },
  {
   "cell_type": "markdown",
   "id": "bc68d7af",
   "metadata": {},
   "source": [
    "* print함수의 위치인수, 키워드인수"
   ]
  },
  {
   "cell_type": "code",
   "execution_count": null,
   "id": "2ae64f21",
   "metadata": {
    "scrolled": false
   },
   "outputs": [],
   "source": [
    "help(print)"
   ]
  },
  {
   "cell_type": "code",
   "execution_count": null,
   "id": "af04dc42",
   "metadata": {},
   "outputs": [],
   "source": []
  }
 ],
 "metadata": {
  "kernelspec": {
   "display_name": "Python 3",
   "language": "python",
   "name": "python3"
  },
  "language_info": {
   "codemirror_mode": {
    "name": "ipython",
    "version": 3
   },
   "file_extension": ".py",
   "mimetype": "text/x-python",
   "name": "python",
   "nbconvert_exporter": "python",
   "pygments_lexer": "ipython3",
   "version": "3.8.8"
  },
  "toc": {
   "base_numbering": 1,
   "nav_menu": {},
   "number_sections": true,
   "sideBar": true,
   "skip_h1_title": false,
   "title_cell": "Table of Contents",
   "title_sidebar": "Contents",
   "toc_cell": false,
   "toc_position": {},
   "toc_section_display": true,
   "toc_window_display": true
  }
 },
 "nbformat": 4,
 "nbformat_minor": 5
}
