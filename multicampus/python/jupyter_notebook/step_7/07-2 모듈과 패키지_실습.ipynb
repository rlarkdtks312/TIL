{
 "cells": [
  {
   "cell_type": "markdown",
   "id": "a41b5569",
   "metadata": {},
   "source": [
    "# 모듈 사용하기\n",
    "* import 모듈명\n",
    "* 모듈명.함수명( )\n",
    "\n",
    "모듈이란?\n",
    "\n",
    "프로그램에서 공통적으로 사용되는 변수, 수, 클래스들을 별도로 모아서 사용함\n",
    "모듈의 별칭 지정 사용\n",
    "import 모듈명 as 별칭\n",
    "별칭.함수명()\n",
    "별칭.변수명\n",
    "별칭.클래스명()"
   ]
  },
  {
   "cell_type": "code",
   "execution_count": 4,
   "id": "b75a290c",
   "metadata": {},
   "outputs": [
    {
     "name": "stdout",
     "output_type": "stream",
     "text": [
      "3\n",
      "-1\n",
      "2\n",
      "0.5\n"
     ]
    }
   ],
   "source": [
    "import myCalc\n",
    "print(myCalc.get_plus(1,2))\n",
    "print(myCalc.get_minus(1,2))\n",
    "print(myCalc.get_multiply(1,2))\n",
    "print(myCalc.get_division(1,2))"
   ]
  },
  {
   "cell_type": "markdown",
   "id": "fb0481b8",
   "metadata": {},
   "source": [
    "# 모듈 별칭 사용하기\n",
    "* import 모듈명 as 별칭\n",
    "* 별칭.함수명()"
   ]
  },
  {
   "cell_type": "code",
   "execution_count": 7,
   "id": "44ad1724",
   "metadata": {},
   "outputs": [
    {
     "name": "stdout",
     "output_type": "stream",
     "text": [
      "3\n",
      "-1\n",
      "2\n",
      "0.5\n"
     ]
    }
   ],
   "source": [
    "import myCalc as calc\n",
    "print(calc.get_plus(1,2))\n",
    "print(calc.get_minus(1,2))\n",
    "print(calc.get_multiply(1,2))\n",
    "print(calc.get_division(1,2))"
   ]
  },
  {
   "cell_type": "markdown",
   "id": "99bb6ea0",
   "metadata": {},
   "source": [
    "# 모듈 이름 붙이지 않고 함수 사용하기\n",
    "* from 모듈명 import 함수명1, 함수명2,..."
   ]
  },
  {
   "cell_type": "code",
   "execution_count": 12,
   "id": "64e88c75",
   "metadata": {
    "scrolled": true
   },
   "outputs": [
    {
     "name": "stdout",
     "output_type": "stream",
     "text": [
      "3\n",
      "-1\n"
     ]
    }
   ],
   "source": [
    "from myCalc import get_plus, get_minus\n",
    "print(get_plus(1,2))\n",
    "print(get_minus(1,2))\n",
    "# print(get_multiply(1,2)) 이거 에러난다"
   ]
  },
  {
   "cell_type": "code",
   "execution_count": 11,
   "id": "845e1c80",
   "metadata": {},
   "outputs": [
    {
     "name": "stdout",
     "output_type": "stream",
     "text": [
      "3\n",
      "-1\n",
      "2\n"
     ]
    }
   ],
   "source": [
    "from myCalc import *\n",
    "print(get_plus(1,2))\n",
    "print(get_minus(1,2))\n",
    "print(get_multiply(1,2))"
   ]
  },
  {
   "cell_type": "code",
   "execution_count": null,
   "id": "a011a336",
   "metadata": {},
   "outputs": [],
   "source": []
  }
 ],
 "metadata": {
  "kernelspec": {
   "display_name": "Python 3 (ipykernel)",
   "language": "python",
   "name": "python3"
  },
  "language_info": {
   "codemirror_mode": {
    "name": "ipython",
    "version": 3
   },
   "file_extension": ".py",
   "mimetype": "text/x-python",
   "name": "python",
   "nbconvert_exporter": "python",
   "pygments_lexer": "ipython3",
   "version": "3.8.12"
  },
  "toc": {
   "base_numbering": 1,
   "nav_menu": {},
   "number_sections": true,
   "sideBar": true,
   "skip_h1_title": false,
   "title_cell": "Table of Contents",
   "title_sidebar": "Contents",
   "toc_cell": false,
   "toc_position": {},
   "toc_section_display": true,
   "toc_window_display": true
  }
 },
 "nbformat": 4,
 "nbformat_minor": 5
}
