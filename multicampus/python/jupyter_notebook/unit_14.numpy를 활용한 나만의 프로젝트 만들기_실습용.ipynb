{
 "cells": [
  {
   "cell_type": "markdown",
   "id": "785666e4",
   "metadata": {},
   "source": [
    "# 우리 동네와 인구 구조가 가장 비슷한 동네 찾기"
   ]
  },
  {
   "cell_type": "markdown",
   "id": "e13c9587",
   "metadata": {},
   "source": [
    "#### 공공데이터 포털 (https://www.data.go.kr/index.do)"
   ]
  },
  {
   "cell_type": "markdown",
   "id": "f4753164",
   "metadata": {},
   "source": [
    "### 1. 데이터를 읽어온다.\n",
    "### 232~233p"
   ]
  },
  {
   "cell_type": "code",
   "execution_count": null,
   "id": "d2df719b",
   "metadata": {},
   "outputs": [],
   "source": []
  },
  {
   "cell_type": "markdown",
   "id": "90d1530e",
   "metadata": {},
   "source": [
    "### 2. 궁금한 지역의 이름을 입력받는다.\n",
    "### 233p"
   ]
  },
  {
   "cell_type": "code",
   "execution_count": null,
   "id": "122a99f0",
   "metadata": {},
   "outputs": [],
   "source": []
  },
  {
   "cell_type": "markdown",
   "id": "d2addf1f",
   "metadata": {},
   "source": [
    "### 3. 궁금한 지역의 인구 구조를 저장한다.\n",
    "### 234~235p"
   ]
  },
  {
   "cell_type": "markdown",
   "id": "0eb4c3fa",
   "metadata": {},
   "source": [
    "- append를 이용하여 home에 데이터 저장"
   ]
  },
  {
   "cell_type": "code",
   "execution_count": 1,
   "id": "235b9ecd",
   "metadata": {},
   "outputs": [
    {
     "name": "stdout",
     "output_type": "stream",
     "text": [
      "인구 구조가 알고 싶은 지역의 이름(읍면동 단위)을 입력해 주세요 : 신도림동\n",
      "[378, 413, 437, 412, 423, 418, 467, 414, 414, 416, 396, 362, 386, 339, 341, 351, 368, 391, 351, 387, 444, 432, 484, 449, 490, 431, 511, 445, 507, 517, 507, 566, 611, 638, 750, 772, 789, 756, 822, 679, 731, 690, 693, 734, 725, 658, 632, 602, 571, 572, 490, 500, 553, 549, 487, 537, 590, 585, 513, 515, 492, 422, 527, 397, 396, 403, 258, 314, 273, 303, 297, 197, 172, 158, 166, 186, 152, 141, 108, 118, 88, 97, 73, 70, 47, 45, 42, 27, 32, 21, 25, 23, 13, 7, 10, 6, 3, 3, 2, 2, 6]\n"
     ]
    }
   ],
   "source": [
    "import csv\n",
    "\n",
    "f = open('./data/age.csv')\n",
    "data = csv.reader(f)\n",
    "next(data)\n",
    "\n",
    "name = input('인구 구조가 알고 싶은 지역의 이름(읍면동 단위)을 입력해 주세요 : ')\n",
    "\n",
    "home = []\n",
    "\n",
    "for row in data :\n",
    "    if name in row[0] :\n",
    "        for i in row[3:] :\n",
    "            home.append(int(i))\n",
    "print(home)"
   ]
  },
  {
   "cell_type": "markdown",
   "id": "1daf4f38",
   "metadata": {},
   "source": [
    "- numpy 배열을 이용하여 home에 데이터 저장"
   ]
  },
  {
   "cell_type": "code",
   "execution_count": 3,
   "id": "d0de103a",
   "metadata": {},
   "outputs": [
    {
     "name": "stdout",
     "output_type": "stream",
     "text": [
      "인구 구조가 알고 싶은 지역의 이름(읍면동 단위)을 입력해 주세요 : 신도림동\n"
     ]
    },
    {
     "ename": "NameError",
     "evalue": "name 'np' is not defined",
     "output_type": "error",
     "traceback": [
      "\u001b[1;31m---------------------------------------------------------------------------\u001b[0m",
      "\u001b[1;31mNameError\u001b[0m                                 Traceback (most recent call last)",
      "\u001b[1;32m~\\AppData\\Local\\Temp/ipykernel_9160/675052154.py\u001b[0m in \u001b[0;36m<module>\u001b[1;34m\u001b[0m\n\u001b[0;32m     12\u001b[0m \u001b[1;32mfor\u001b[0m \u001b[0mrow\u001b[0m \u001b[1;32min\u001b[0m \u001b[0mdata\u001b[0m \u001b[1;33m:\u001b[0m\u001b[1;33m\u001b[0m\u001b[1;33m\u001b[0m\u001b[0m\n\u001b[0;32m     13\u001b[0m     \u001b[1;32mif\u001b[0m \u001b[0mname\u001b[0m \u001b[1;32min\u001b[0m \u001b[0mrow\u001b[0m\u001b[1;33m[\u001b[0m\u001b[1;36m0\u001b[0m\u001b[1;33m]\u001b[0m \u001b[1;33m:\u001b[0m\u001b[1;33m\u001b[0m\u001b[1;33m\u001b[0m\u001b[0m\n\u001b[1;32m---> 14\u001b[1;33m         \u001b[0mhome\u001b[0m \u001b[1;33m=\u001b[0m \u001b[0mnp\u001b[0m\u001b[1;33m.\u001b[0m\u001b[0marray\u001b[0m\u001b[1;33m(\u001b[0m\u001b[0mrow\u001b[0m\u001b[1;33m[\u001b[0m\u001b[1;36m3\u001b[0m\u001b[1;33m:\u001b[0m\u001b[1;33m]\u001b[0m\u001b[1;33m,\u001b[0m \u001b[0mdtype\u001b[0m \u001b[1;33m=\u001b[0m \u001b[0mint\u001b[0m\u001b[1;33m)\u001b[0m\u001b[1;33m\u001b[0m\u001b[1;33m\u001b[0m\u001b[0m\n\u001b[0m\u001b[0;32m     15\u001b[0m \u001b[0mprint\u001b[0m\u001b[1;33m(\u001b[0m\u001b[0mhome\u001b[0m\u001b[1;33m)\u001b[0m\u001b[1;33m\u001b[0m\u001b[1;33m\u001b[0m\u001b[0m\n",
      "\u001b[1;31mNameError\u001b[0m: name 'np' is not defined"
     ]
    }
   ],
   "source": [
    "import csv\n",
    "import numpy as ny\n",
    "\n",
    "f = open('./data/age.csv')\n",
    "data = csv.reader(f)\n",
    "next(data)\n",
    "\n",
    "name = input('인구 구조가 알고 싶은 지역의 이름(읍면동 단위)을 입력해 주세요 : ')\n",
    "\n",
    "home = []\n",
    "\n",
    "for row in data :\n",
    "    if name in row[0] :\n",
    "        home = np.array(row[3:], dtype = int)\n",
    "print(home)"
   ]
  },
  {
   "cell_type": "markdown",
   "id": "81b4649f",
   "metadata": {},
   "source": [
    "- plot을 이용하여 그래프로 나타내기"
   ]
  },
  {
   "cell_type": "code",
   "execution_count": null,
   "id": "66522fda",
   "metadata": {},
   "outputs": [],
   "source": []
  },
  {
   "cell_type": "markdown",
   "id": "a15c04bc",
   "metadata": {},
   "source": [
    "### 4. 궁금한 지역의 인구 구조와 가장 비슷한 인구 구조를 가진 지역 찾기\n",
    "### 236~243p"
   ]
  },
  {
   "cell_type": "markdown",
   "id": "6b329a27",
   "metadata": {},
   "source": [
    "#### Q1. 서로 다른 인구를 가진 두 지역을 어떻게 비교할 수 있을까?"
   ]
  },
  {
   "cell_type": "markdown",
   "id": "29e880fa",
   "metadata": {},
   "source": [
    "- 신도림과 화촌면의 인구 그래프"
   ]
  },
  {
   "cell_type": "code",
   "execution_count": null,
   "id": "6e905dbd",
   "metadata": {},
   "outputs": [],
   "source": []
  },
  {
   "cell_type": "markdown",
   "id": "2858a5a5",
   "metadata": {},
   "source": [
    "- 신도림과 화촌면의 인구 비율 그래프"
   ]
  },
  {
   "cell_type": "code",
   "execution_count": null,
   "id": "e5372652",
   "metadata": {},
   "outputs": [],
   "source": []
  },
  {
   "cell_type": "markdown",
   "id": "ff150916",
   "metadata": {},
   "source": [
    "####  Q2. 한 번 불러온 데이터를 여러 번 사용하려면 어떻게 해야 할까?"
   ]
  },
  {
   "cell_type": "markdown",
   "id": "6b933217",
   "metadata": {},
   "source": [
    "- 전국의 모든 지역에 대해 반복하여 차이가 작은 지역 찾기"
   ]
  },
  {
   "cell_type": "code",
   "execution_count": null,
   "id": "465421b3",
   "metadata": {},
   "outputs": [],
   "source": []
  },
  {
   "cell_type": "code",
   "execution_count": null,
   "id": "66b48565",
   "metadata": {},
   "outputs": [],
   "source": []
  },
  {
   "cell_type": "code",
   "execution_count": null,
   "id": "9cb11b0e",
   "metadata": {},
   "outputs": [],
   "source": []
  },
  {
   "cell_type": "markdown",
   "id": "36b6ae1f",
   "metadata": {},
   "source": [
    "1) 궁금한 지역 A와 B의 0세~100세 이상의 인구수에 해당하는 값까지 반복한 후 각각의 차이를 모두 더하기\n",
    "\n",
    "2) 전국의 모든 지역에 대해 반복하며 그 차이가 가장 작은 지역 찾는 코드 작성"
   ]
  },
  {
   "cell_type": "code",
   "execution_count": null,
   "id": "5eeed4b2",
   "metadata": {
    "scrolled": true
   },
   "outputs": [],
   "source": []
  },
  {
   "cell_type": "markdown",
   "id": "041cdf17",
   "metadata": {},
   "source": [
    "### 5. 가장 비슷한 곳의 인구 구조와 궁금한 지역의 인구 구조를 시각화한다."
   ]
  },
  {
   "cell_type": "code",
   "execution_count": null,
   "id": "7c49f0b6",
   "metadata": {},
   "outputs": [],
   "source": []
  },
  {
   "cell_type": "markdown",
   "id": "225bec85",
   "metadata": {},
   "source": [
    "####  신도림과 인구 구조가 가장 비슷한 지역이 아닌 엉뚱한 지역이 결과값으로 나타나는 이유"
   ]
  },
  {
   "cell_type": "code",
   "execution_count": null,
   "id": "908f8f16",
   "metadata": {},
   "outputs": [],
   "source": []
  },
  {
   "cell_type": "code",
   "execution_count": null,
   "id": "6e14024a",
   "metadata": {},
   "outputs": [],
   "source": []
  },
  {
   "cell_type": "markdown",
   "id": "93db6371",
   "metadata": {},
   "source": [
    "#### s = np.sum(home - away)에 제곱하여 (-)값 (+)로 바꿔주기"
   ]
  },
  {
   "cell_type": "code",
   "execution_count": null,
   "id": "ea75bf11",
   "metadata": {},
   "outputs": [],
   "source": []
  },
  {
   "cell_type": "markdown",
   "id": "fdf8a8f9",
   "metadata": {},
   "source": [
    "#### 신도림을 제외한 신도림과 가장 인구 구조가 비슷한 지역 찾기"
   ]
  },
  {
   "cell_type": "code",
   "execution_count": null,
   "id": "5bef6378",
   "metadata": {},
   "outputs": [],
   "source": []
  },
  {
   "cell_type": "markdown",
   "id": "6c2c00e7",
   "metadata": {},
   "source": [
    "## * 최종 코드"
   ]
  },
  {
   "cell_type": "code",
   "execution_count": null,
   "id": "89ee9304",
   "metadata": {},
   "outputs": [],
   "source": []
  }
 ],
 "metadata": {
  "kernelspec": {
   "display_name": "Python 3 (ipykernel)",
   "language": "python",
   "name": "python3"
  },
  "language_info": {
   "codemirror_mode": {
    "name": "ipython",
    "version": 3
   },
   "file_extension": ".py",
   "mimetype": "text/x-python",
   "name": "python",
   "nbconvert_exporter": "python",
   "pygments_lexer": "ipython3",
   "version": "3.8.12"
  }
 },
 "nbformat": 4,
 "nbformat_minor": 5
}
