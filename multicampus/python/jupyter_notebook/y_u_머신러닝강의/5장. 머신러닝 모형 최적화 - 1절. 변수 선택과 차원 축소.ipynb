{
 "cells": [
  {
   "cell_type": "markdown",
   "metadata": {},
   "source": [
    "# iris 데이터 주성분 분석 후 분류하기"
   ]
  },
  {
   "cell_type": "code",
   "execution_count": 1,
   "metadata": {},
   "outputs": [],
   "source": [
    "import seaborn as sns\n",
    "iris = sns.load_dataset(\"iris\")"
   ]
  },
  {
   "cell_type": "code",
   "execution_count": 2,
   "metadata": {},
   "outputs": [],
   "source": [
    "from sklearn.model_selection import train_test_split\n",
    "X, y = iris.iloc[:, :-1].values, iris.iloc[:, -1].values\n",
    "X_train, X_test, y_train, y_test = train_test_split(X, y, test_size=0.3, \n",
    "                                                    random_state=0)  "
   ]
  },
  {
   "cell_type": "code",
   "execution_count": 4,
   "metadata": {},
   "outputs": [],
   "source": [
    "from sklearn.preprocessing import StandardScaler\n",
    "sc = StandardScaler()\n",
    "X_train_std = sc.fit_transform(X_train)\n",
    "X_test_std = sc.transform(X_test)"
   ]
  },
  {
   "cell_type": "code",
   "execution_count": 5,
   "metadata": {},
   "outputs": [],
   "source": [
    "import numpy as np\n",
    "cov_mat = np.cov(X_train_std.T)"
   ]
  },
  {
   "cell_type": "code",
   "execution_count": 6,
   "metadata": {},
   "outputs": [
    {
     "name": "stdout",
     "output_type": "stream",
     "text": [
      "Eigenvalues : [2.8998938  0.98708902 0.13466453 0.01681419]\n"
     ]
    }
   ],
   "source": [
    "eigen_vals, eigen_vecs = np.linalg.eig(cov_mat)\n",
    "print('Eigenvalues : %s' % eigen_vals)"
   ]
  },
  {
   "cell_type": "code",
   "execution_count": 7,
   "metadata": {},
   "outputs": [
    {
     "data": {
      "text/plain": [
       "[0.71806894055277,\n",
       " 0.24442204363321526,\n",
       " 0.03334550252484883,\n",
       " 0.004163513289165912]"
      ]
     },
     "execution_count": 7,
     "metadata": {},
     "output_type": "execute_result"
    }
   ],
   "source": [
    "tot = sum(eigen_vals)\n",
    "var_exp = [(i / tot) for i in sorted(eigen_vals, reverse=True)]\n",
    "var_exp"
   ]
  },
  {
   "cell_type": "code",
   "execution_count": 8,
   "metadata": {},
   "outputs": [
    {
     "data": {
      "text/plain": [
       "array([0.71806894, 0.96249098, 0.99583649, 1.        ])"
      ]
     },
     "execution_count": 8,
     "metadata": {},
     "output_type": "execute_result"
    }
   ],
   "source": [
    "cum_var_exp = np.cumsum(var_exp)\n",
    "cum_var_exp"
   ]
  },
  {
   "cell_type": "code",
   "execution_count": 9,
   "metadata": {},
   "outputs": [
    {
     "data": {
      "image/png": "[encoded data removed]",
      "text/plain": [
       "<Figure size 432x288 with 1 Axes>"
      ]
     },
     "metadata": {
      "needs_background": "light"
     },
     "output_type": "display_data"
    }
   ],
   "source": [
    "import matplotlib.pyplot as plt\n",
    "%matplotlib inline\n",
    "plt.bar(range(1, 5), var_exp, alpha=0.5, align='center', label='individual explained variance')\n",
    "plt.step(range(1, 5), cum_var_exp, where='mid', label='cumulative explained variance')\n",
    "plt.ylabel('Explained variance ratio')\n",
    "plt.xlabel('Principal components')\n",
    "plt.legend(loc='best')\n",
    "plt.tight_layout()\n",
    "# plt.savefig('./figures/pca1.png', dpi=300)\n",
    "plt.show()"
   ]
  },
  {
   "cell_type": "code",
   "execution_count": 10,
   "metadata": {},
   "outputs": [
    {
     "data": {
      "text/plain": [
       "[(2.899893798386186,\n",
       "  array([ 0.53547007, -0.20428207,  0.58615942,  0.57267597])),\n",
       " (0.9870890223649076,\n",
       "  array([-3.25785192e-01, -9.44860554e-01,  7.51890810e-04, -3.31960469e-02])),\n",
       " (0.13466452942727408,\n",
       "  array([-0.73207448,  0.23052807,  0.13736953,  0.62614166])),\n",
       " (0.016814188283170026,\n",
       "  array([ 0.26683847, -0.11119432, -0.79846489,  0.52809741]))]"
      ]
     },
     "execution_count": 10,
     "metadata": {},
     "output_type": "execute_result"
    }
   ],
   "source": [
    "eigen_pairs = [(np.abs(eigen_vals[i]), eigen_vecs[:,i]) for i in range(len(eigen_vals))]\n",
    "eigen_pairs.sort(reverse=True)\n",
    "eigen_pairs"
   ]
  },
  {
   "cell_type": "code",
   "execution_count": 11,
   "metadata": {},
   "outputs": [
    {
     "name": "stdout",
     "output_type": "stream",
     "text": [
      "Matrix W:\n",
      " [[ 5.35470073e-01 -3.25785192e-01]\n",
      " [-2.04282071e-01 -9.44860554e-01]\n",
      " [ 5.86159424e-01  7.51890810e-04]\n",
      " [ 5.72675970e-01 -3.31960469e-02]]\n"
     ]
    }
   ],
   "source": [
    "w = np.hstack((eigen_pairs[0][1][:, np.newaxis],\n",
    "               eigen_pairs[1][1][:, np.newaxis]))\n",
    "print('Matrix W:\\n', w)"
   ]
  },
  {
   "cell_type": "code",
   "execution_count": 15,
   "metadata": {},
   "outputs": [],
   "source": [
    "X_train_pca = X_train_std.dot(w)"
   ]
  },
  {
   "cell_type": "code",
   "execution_count": 16,
   "metadata": {},
   "outputs": [],
   "source": [
    "colors = ['r', 'b', 'g']\n",
    "markers = ['s', 'x', 'o']"
   ]
  },
  {
   "cell_type": "code",
   "execution_count": 17,
   "metadata": {},
   "outputs": [
    {
     "data": {
      "image/png": "[encoded data removed]",
      "text/plain": [
       "<Figure size 432x288 with 1 Axes>"
      ]
     },
     "metadata": {
      "needs_background": "light"
     },
     "output_type": "display_data"
    }
   ],
   "source": [
    "for l, c, m in zip(np.unique(y_train), colors, markers):\n",
    "    plt.scatter(X_train_pca[y_train==l, 0], X_train_pca[y_train==l, 1], \n",
    "                c=c, label=l, marker=m)\n",
    "plt.xlabel('PC 1')\n",
    "plt.ylabel('PC 2')\n",
    "plt.legend(loc='lower left')\n",
    "plt.tight_layout()\n",
    "# plt.savefig('./figures/pca2.png', dpi=300)\n",
    "plt.show()"
   ]
  },
  {
   "cell_type": "code",
   "execution_count": 18,
   "metadata": {},
   "outputs": [
    {
     "name": "stderr",
     "output_type": "stream",
     "text": [
      "C:\\Users\\rkdtk\\anaconda3\\lib\\site-packages\\sklearn\\neural_network\\_multilayer_perceptron.py:692: ConvergenceWarning: Stochastic Optimizer: Maximum iterations (200) reached and the optimization hasn't converged yet.\n",
      "  warnings.warn(\n"
     ]
    },
    {
     "data": {
      "text/plain": [
       "MLPClassifier(hidden_layer_sizes=(50, 30))"
      ]
     },
     "execution_count": 18,
     "metadata": {},
     "output_type": "execute_result"
    }
   ],
   "source": [
    "from sklearn.neural_network import MLPClassifier\n",
    "mlp = MLPClassifier(hidden_layer_sizes=(50,30))\n",
    "mlp.fit(X_train_pca, y_train)"
   ]
  },
  {
   "cell_type": "code",
   "execution_count": 19,
   "metadata": {},
   "outputs": [
    {
     "name": "stdout",
     "output_type": "stream",
     "text": [
      "0.9238095238095239\n"
     ]
    }
   ],
   "source": [
    "print(mlp.score(X_train_pca, y_train))"
   ]
  },
  {
   "cell_type": "code",
   "execution_count": 20,
   "metadata": {},
   "outputs": [
    {
     "data": {
      "text/plain": [
       "array(['virginica', 'versicolor', 'setosa', 'virginica', 'setosa',\n",
       "       'virginica', 'setosa', 'versicolor', 'virginica', 'versicolor',\n",
       "       'virginica', 'versicolor', 'versicolor', 'virginica', 'versicolor',\n",
       "       'setosa', 'versicolor', 'versicolor', 'setosa', 'setosa',\n",
       "       'virginica', 'versicolor', 'setosa', 'setosa', 'virginica',\n",
       "       'setosa', 'setosa', 'versicolor', 'versicolor', 'setosa',\n",
       "       'virginica', 'versicolor', 'setosa', 'versicolor', 'virginica',\n",
       "       'versicolor', 'setosa', 'virginica', 'versicolor', 'versicolor',\n",
       "       'virginica', 'setosa', 'virginica', 'setosa', 'setosa'],\n",
       "      dtype='<U10')"
      ]
     },
     "execution_count": 20,
     "metadata": {},
     "output_type": "execute_result"
    }
   ],
   "source": [
    "X_test_pca = X_test_std.dot(w)\n",
    "pred = mlp.predict(X_test_pca)\n",
    "pred"
   ]
  },
  {
   "cell_type": "code",
   "execution_count": 21,
   "metadata": {},
   "outputs": [
    {
     "data": {
      "text/html": [
       "<div>\n",
       "<style scoped>\n",
       "    .dataframe tbody tr th:only-of-type {\n",
       "        vertical-align: middle;\n",
       "    }\n",
       "\n",
       "    .dataframe tbody tr th {\n",
       "        vertical-align: top;\n",
       "    }\n",
       "\n",
       "    .dataframe thead th {\n",
       "        text-align: right;\n",
       "    }\n",
       "</style>\n",
       "<table border=\"1\" class=\"dataframe\">\n",
       "  <thead>\n",
       "    <tr style=\"text-align: right;\">\n",
       "      <th>Pred</th>\n",
       "      <th>setosa</th>\n",
       "      <th>versicolor</th>\n",
       "      <th>virginica</th>\n",
       "      <th>All</th>\n",
       "    </tr>\n",
       "    <tr>\n",
       "      <th>True</th>\n",
       "      <th></th>\n",
       "      <th></th>\n",
       "      <th></th>\n",
       "      <th></th>\n",
       "    </tr>\n",
       "  </thead>\n",
       "  <tbody>\n",
       "    <tr>\n",
       "      <th>setosa</th>\n",
       "      <td>16</td>\n",
       "      <td>0</td>\n",
       "      <td>0</td>\n",
       "      <td>16</td>\n",
       "    </tr>\n",
       "    <tr>\n",
       "      <th>versicolor</th>\n",
       "      <td>0</td>\n",
       "      <td>15</td>\n",
       "      <td>3</td>\n",
       "      <td>18</td>\n",
       "    </tr>\n",
       "    <tr>\n",
       "      <th>virginica</th>\n",
       "      <td>0</td>\n",
       "      <td>1</td>\n",
       "      <td>10</td>\n",
       "      <td>11</td>\n",
       "    </tr>\n",
       "    <tr>\n",
       "      <th>All</th>\n",
       "      <td>16</td>\n",
       "      <td>16</td>\n",
       "      <td>13</td>\n",
       "      <td>45</td>\n",
       "    </tr>\n",
       "  </tbody>\n",
       "</table>\n",
       "</div>"
      ],
      "text/plain": [
       "Pred        setosa  versicolor  virginica  All\n",
       "True                                          \n",
       "setosa          16           0          0   16\n",
       "versicolor       0          15          3   18\n",
       "virginica        0           1         10   11\n",
       "All             16          16         13   45"
      ]
     },
     "execution_count": 21,
     "metadata": {},
     "output_type": "execute_result"
    }
   ],
   "source": [
    "import pandas as pd\n",
    "confusion_matrix = pd.crosstab(y_test, pred, margins=True,\n",
    "                               rownames=['True'], colnames=['Pred'])\n",
    "confusion_matrix"
   ]
  },
  {
   "cell_type": "code",
   "execution_count": 22,
   "metadata": {},
   "outputs": [
    {
     "name": "stdout",
     "output_type": "stream",
     "text": [
      "0.9111111111111111\n"
     ]
    }
   ],
   "source": [
    "print(mlp.score(X_test_pca, y_test))"
   ]
  },
  {
   "cell_type": "markdown",
   "metadata": {},
   "source": [
    "# PCA를 이용해서 얼굴 주성분 분석하기"
   ]
  },
  {
   "cell_type": "code",
   "execution_count": 23,
   "metadata": {},
   "outputs": [],
   "source": [
    "# from imageio import imread\n",
    "from skimage import io\n",
    "import glob\n",
    "imgs = []\n",
    "for image_path in glob.glob(\"./image/korean_beauty/*.png\"):\n",
    "#     image = imread(image_path)\n",
    "    image = io.imread(image_path, as_gray=True)\n",
    "    imgs.append(image)"
   ]
  },
  {
   "cell_type": "code",
   "execution_count": 24,
   "metadata": {},
   "outputs": [],
   "source": [
    "import numpy as np\n",
    "N = len(imgs) #이미지의 개수\n",
    "images = np.array(imgs)"
   ]
  },
  {
   "cell_type": "code",
   "execution_count": 25,
   "metadata": {},
   "outputs": [],
   "source": [
    "origin_shape = images.shape"
   ]
  },
  {
   "cell_type": "code",
   "execution_count": 26,
   "metadata": {},
   "outputs": [
    {
     "data": {
      "text/plain": [
       "(0,)"
      ]
     },
     "execution_count": 26,
     "metadata": {},
     "output_type": "execute_result"
    }
   ],
   "source": [
    "origin_shape"
   ]
  },
  {
   "cell_type": "code",
   "execution_count": 27,
   "metadata": {},
   "outputs": [
    {
     "ename": "IndexError",
     "evalue": "tuple index out of range",
     "output_type": "error",
     "traceback": [
      "\u001b[1;31m---------------------------------------------------------------------------\u001b[0m",
      "\u001b[1;31mIndexError\u001b[0m                                Traceback (most recent call last)",
      "\u001b[1;32m~\\AppData\\Local\\Temp/ipykernel_8832/457459729.py\u001b[0m in \u001b[0;36m<module>\u001b[1;34m\u001b[0m\n\u001b[1;32m----> 1\u001b[1;33m \u001b[0mfig_size\u001b[0m \u001b[1;33m=\u001b[0m \u001b[1;33m(\u001b[0m\u001b[0morigin_shape\u001b[0m\u001b[1;33m[\u001b[0m\u001b[1;36m2\u001b[0m\u001b[1;33m]\u001b[0m\u001b[1;33m,\u001b[0m \u001b[0morigin_shape\u001b[0m\u001b[1;33m[\u001b[0m\u001b[1;36m1\u001b[0m\u001b[1;33m]\u001b[0m\u001b[1;33m)\u001b[0m\u001b[1;33m\u001b[0m\u001b[1;33m\u001b[0m\u001b[0m\n\u001b[0m\u001b[0;32m      2\u001b[0m \u001b[0mfig_size\u001b[0m\u001b[1;33m\u001b[0m\u001b[1;33m\u001b[0m\u001b[0m\n",
      "\u001b[1;31mIndexError\u001b[0m: tuple index out of range"
     ]
    }
   ],
   "source": [
    "fig_size = (origin_shape[2], origin_shape[1])\n",
    "fig_size"
   ]
  },
  {
   "cell_type": "code",
   "execution_count": 24,
   "metadata": {},
   "outputs": [
    {
     "data": {
      "text/plain": [
       "(20, 1050)"
      ]
     },
     "execution_count": 24,
     "metadata": {},
     "output_type": "execute_result"
    }
   ],
   "source": [
    "images.shape = (N, -1)\n",
    "images.shape"
   ]
  },
  {
   "cell_type": "code",
   "execution_count": 25,
   "metadata": {},
   "outputs": [
    {
     "data": {
      "text/plain": [
       "array([[-0.34846806, -0.64595379,  0.31760955, ..., -1.39434474,\n",
       "        -1.18364742, -1.11041408],\n",
       "       [ 0.67771125,  1.94825646,  1.77498085, ..., -1.50651352,\n",
       "        -1.49234078, -1.39898864],\n",
       "       [-0.08074358, -0.51207572, -0.73079353, ...,  0.82449157,\n",
       "         0.73738828,  0.9538411 ],\n",
       "       ...,\n",
       "       [-0.64968146, -0.6966082 , -0.99570981, ..., -0.61142541,\n",
       "        -1.36434192, -1.43529639],\n",
       "       [ 0.28960996, -0.21467105, -0.66305684, ...,  0.84051043,\n",
       "         0.71770162,  0.34472421],\n",
       "       [-0.67518412, -0.73399219, -1.02074743, ...,  0.20354346,\n",
       "        -1.03574422, -1.58445642]])"
      ]
     },
     "execution_count": 25,
     "metadata": {},
     "output_type": "execute_result"
    }
   ],
   "source": [
    "from sklearn.preprocessing import StandardScaler\n",
    "sc = StandardScaler()\n",
    "images_std = sc.fit_transform(images)\n",
    "images_std"
   ]
  },
  {
   "cell_type": "code",
   "execution_count": 26,
   "metadata": {},
   "outputs": [],
   "source": [
    "import numpy as np\n",
    "cov_mat = np.cov(images_std)\n",
    "eigen_vals, eigen_vecs = np.linalg.eig(cov_mat)"
   ]
  },
  {
   "cell_type": "code",
   "execution_count": 27,
   "metadata": {},
   "outputs": [],
   "source": [
    "tot = sum(eigen_vals)\n",
    "var_exp = [(i / tot) for i in sorted(eigen_vals, reverse=True)]\n",
    "cum_var_exp = np.cumsum(var_exp)"
   ]
  },
  {
   "cell_type": "code",
   "execution_count": 28,
   "metadata": {},
   "outputs": [
    {
     "data": {
      "image/png": "[encoded data removed]",
      "text/plain": [
       "<Figure size 432x288 with 1 Axes>"
      ]
     },
     "metadata": {
      "needs_background": "light"
     },
     "output_type": "display_data"
    }
   ],
   "source": [
    "import matplotlib.pyplot as plt\n",
    "%matplotlib inline\n",
    "plt.bar(range(1, N+1), var_exp, alpha=0.5, align='center', \n",
    "        label='individual explained variance')\n",
    "plt.step(range(1, N+1), cum_var_exp, where='mid', \n",
    "         label='cumulative explained variance')\n",
    "plt.ylabel('Explained variance ratio')\n",
    "plt.xlabel('Principal components')\n",
    "plt.legend(loc='best')\n",
    "plt.tight_layout()\n",
    "plt.show()"
   ]
  },
  {
   "cell_type": "code",
   "execution_count": 29,
   "metadata": {},
   "outputs": [],
   "source": [
    "eigen_pairs = [(np.abs(eigen_vals[i]), \n",
    "                eigen_vecs[:,i]) for i in range(len(eigen_vals))]\n",
    "eigen_pairs.sort(reverse=False)"
   ]
  },
  {
   "cell_type": "code",
   "execution_count": 30,
   "metadata": {},
   "outputs": [],
   "source": [
    "w = eigen_pairs[0][1][:, np.newaxis]\n",
    "for i in range(1,N):\n",
    "    w = np.hstack((w,eigen_pairs[i][1][:, np.newaxis]))\n"
   ]
  },
  {
   "cell_type": "code",
   "execution_count": 31,
   "metadata": {},
   "outputs": [
    {
     "name": "stdout",
     "output_type": "stream",
     "text": [
      "Matrix W:\n",
      " [[ 2.23606798e-01 -2.30446865e-01  2.11017560e-01  2.03412770e-01\n",
      "   2.47971446e-02 -5.54192500e-01  1.33845339e-02 -8.53830817e-02\n",
      "   1.73199093e-03  2.03607514e-01  1.82260567e-01 -1.96257933e-02\n",
      "   5.75528038e-02  1.78009974e-01  2.54568256e-01 -2.25789263e-01\n",
      "   4.79072093e-01  1.89632082e-01  1.78412928e-02 -6.43269432e-02]\n",
      " [ 2.23606798e-01 -1.46150839e-01  1.39068237e-01  4.78264540e-02\n",
      "   8.69062065e-02  1.41575840e-01  3.64276739e-01 -2.23630634e-01\n",
      "   7.91599885e-03  2.81333614e-01 -3.17054694e-01 -1.58989180e-01\n",
      "   7.43483446e-02 -3.24528568e-01  2.28132852e-01  2.44611058e-01\n",
      "  -3.06669911e-02  1.28478738e-01  1.00970256e-02  5.01418625e-01]\n",
      " [ 2.23606798e-01 -2.86693730e-01 -6.63908273e-02  4.69685230e-02\n",
      "   4.63098400e-02  2.40602117e-01 -1.33638050e-01  4.84139447e-01\n",
      "   3.90841448e-01  1.84249017e-01 -3.66632239e-02 -2.96945066e-01\n",
      "   2.37907737e-02  1.89080989e-01  2.75593874e-01 -1.96135233e-02\n",
      "  -2.40987291e-02 -3.93555221e-01 -3.77334605e-02 -5.60262082e-02]\n",
      " [ 2.23606798e-01  4.13584480e-02  6.15869157e-01  1.69689863e-01\n",
      "   7.58014272e-02  1.01924313e-01 -6.37302612e-02  9.42773295e-03\n",
      "   4.99080946e-02 -5.03494942e-01 -6.66575960e-02  2.57357289e-01\n",
      "  -2.58049504e-01  2.05044981e-01  1.24179783e-01  1.94765007e-02\n",
      "  -9.54993777e-02 -1.18287143e-01  1.11661724e-01  1.82285253e-01]\n",
      " [ 2.23606798e-01  7.06270225e-01  2.19226700e-01 -2.58563687e-01\n",
      "  -9.65851325e-03 -2.04970519e-01  2.27740892e-01  1.08436712e-01\n",
      "  -2.58982395e-02  1.93310289e-01  2.57175419e-02 -1.09091623e-01\n",
      "   8.72181139e-02 -1.03445320e-01  1.17290421e-01 -1.87622207e-01\n",
      "  -7.90350802e-02 -3.14128198e-01 -3.83327137e-02 -7.92130843e-02]\n",
      " [ 2.23606798e-01  1.87557975e-01 -5.96160807e-01 -2.85866024e-03\n",
      "  -1.22477628e-01 -2.82599831e-01 -6.48077441e-02 -1.30791449e-01\n",
      "   6.41631324e-02 -2.38791543e-01 -1.71535477e-01 -7.94317987e-02\n",
      "  -4.28000112e-01  1.25554593e-01  1.84576427e-01  5.33778799e-02\n",
      "   7.49977374e-02 -1.03454668e-01  1.40887669e-01  2.72619765e-01]\n",
      " [ 2.23606798e-01 -1.21915879e-02 -6.09301416e-02  2.34463933e-02\n",
      "   1.72452373e-01 -1.97769608e-01  8.49562564e-02 -5.16615259e-02\n",
      "   7.29492595e-01 -1.12670740e-01  4.18461136e-03  1.69640758e-01\n",
      "   5.03199413e-03 -3.27503426e-01 -2.25437631e-01 -9.24465540e-02\n",
      "  -2.07997693e-01  2.28519032e-01 -1.90285602e-02 -1.75219897e-01]\n",
      " [ 2.23606798e-01 -4.67628936e-03 -1.25582142e-01  1.47529543e-01\n",
      "  -1.03405849e-02 -6.13031507e-02  2.58019020e-03 -1.54311568e-01\n",
      "  -9.01043012e-03 -9.57716572e-03 -3.02936281e-01  1.36291766e-01\n",
      "   5.59600346e-01  4.19093479e-01 -3.87771460e-01 -1.80934961e-01\n",
      "  -7.87326722e-02 -1.94295774e-01 -8.82140260e-02  2.24971936e-01]\n",
      " [ 2.23606798e-01 -5.54817567e-02  5.72432509e-03  1.57276909e-01\n",
      "  -5.89216352e-01  8.67198071e-02  2.73390533e-01  3.81503125e-01\n",
      "  -1.51630038e-01  6.26454322e-02 -2.07364802e-01  6.62903270e-02\n",
      "  -2.30659606e-01 -7.46645084e-03 -1.49487613e-01 -2.67120624e-01\n",
      "  -1.00532663e-01  3.12646707e-01 -1.05938179e-01 -8.25941083e-02]\n",
      " [ 2.23606798e-01  1.63899067e-01 -4.66247322e-02 -8.03057772e-02\n",
      "  -3.21907981e-01  5.08667630e-01 -9.64547922e-02 -4.72529593e-01\n",
      "   1.88192963e-01  3.53963243e-02  1.00275185e-02  1.35444467e-01\n",
      "   1.21509905e-01  9.09438875e-02  2.63071063e-01 -2.57383710e-02\n",
      "   2.59270934e-01  9.26968087e-02  2.77909707e-02 -3.08144393e-01]\n",
      " [ 2.23606798e-01  1.86722017e-02  1.19113400e-01 -1.92578938e-01\n",
      "   2.37910288e-01 -8.04934136e-02 -5.08477316e-01 -7.74620957e-02\n",
      "  -1.56290462e-01  3.55033053e-01 -4.22267479e-01  1.48591649e-03\n",
      "  -2.54457584e-01  1.20618271e-01 -7.17121479e-02  9.05811321e-02\n",
      "  -2.05500215e-01  2.17768901e-01 -1.10630576e-01 -2.17765191e-01]\n",
      " [ 2.23606798e-01  6.74355773e-02  4.96525436e-02 -1.92064480e-01\n",
      "   1.77055499e-01  2.16306200e-01 -1.75698634e-01  9.27554975e-02\n",
      "  -6.58457471e-02 -3.22413879e-01  8.56341962e-05 -5.04138374e-01\n",
      "   3.44085407e-02 -1.67992751e-01 -3.10962832e-01 -2.58333138e-01\n",
      "   4.06283892e-01  2.11339233e-01 -3.58201894e-02  1.48971291e-01]\n",
      " [ 2.23606798e-01  1.61941437e-01 -1.04902296e-01  1.28125475e-02\n",
      "  -1.06146654e-01  6.25549995e-03 -4.21532023e-01  2.74652784e-01\n",
      "  -5.29538311e-02  3.34878019e-02  3.65086222e-01  3.11988155e-01\n",
      "   2.43856696e-01 -1.62418793e-01  1.71207422e-01  1.56899905e-01\n",
      "  -6.34415033e-02  2.18924072e-01 -2.75090547e-01  3.82392050e-01]\n",
      " [ 2.23606798e-01 -2.94446723e-02 -2.99166780e-01 -6.40059188e-02\n",
      "   5.77955349e-01  2.40456236e-01  3.38855458e-01  1.39924055e-01\n",
      "  -2.70789864e-01 -3.15723872e-02  9.55229642e-02  3.12546455e-01\n",
      "  -2.73881902e-02  1.24800291e-01  1.89659889e-01 -2.32052896e-01\n",
      "  -3.64455106e-02  1.51436477e-01  5.77903557e-02 -1.20010831e-01]\n",
      " [ 2.23606798e-01 -4.46989033e-02 -8.03024346e-02  5.83479090e-01\n",
      "   4.89451204e-02  4.78693338e-02 -1.81854856e-01 -2.41865369e-01\n",
      "  -2.80745674e-01 -5.47235766e-03  1.33289581e-01 -1.32605568e-01\n",
      "  -5.92380380e-02 -4.16253204e-01 -1.60422120e-02 -1.98003755e-01\n",
      "  -1.97530286e-01 -3.11766364e-01 -7.21757597e-02 -1.81619306e-01]\n",
      " [ 2.23606798e-01 -4.87501392e-01  2.62092514e-02 -6.12327104e-01\n",
      "  -2.04618846e-01 -1.51847936e-01  1.72241342e-02 -1.75495447e-01\n",
      "  -1.65676910e-01 -1.93597615e-01  1.19050697e-01  5.44913090e-02\n",
      "   4.75131162e-02 -1.46994750e-01  7.43573025e-02 -1.45551267e-01\n",
      "  -2.16531523e-01 -2.24054524e-01 -1.03077471e-01 -1.80920242e-02]\n",
      " [ 2.23606798e-01 -4.24529801e-02  3.37573461e-02 -7.52911113e-02\n",
      "  -6.53090526e-02  1.08061540e-01 -5.62488817e-02 -1.83870710e-02\n",
      "   1.03945620e-03  3.64034895e-01  3.66573232e-01  8.80794330e-02\n",
      "  -1.60912240e-01  4.14973060e-02 -3.85927237e-01  2.40557975e-02\n",
      "  -2.10336474e-02 -7.89295364e-02  6.57943717e-01  1.74908341e-01]\n",
      " [ 2.23606798e-01 -3.62286399e-02 -3.76284161e-03 -9.67225929e-03\n",
      "   5.61304219e-02  2.79330167e-02  2.14215783e-01 -2.84236975e-03\n",
      "  -1.83911551e-02  7.03609685e-02  1.14113053e-01  1.80260011e-01\n",
      "  -2.59115270e-01  1.11310960e-02 -3.57929282e-01  4.42843363e-01\n",
      "   3.82114876e-01 -2.79068320e-01 -4.72629879e-01 -9.58640012e-02]\n",
      " [ 2.23606798e-01 -1.98534696e-02 -4.22170311e-02  2.47312387e-02\n",
      "  -5.29298261e-02 -1.51116412e-01 -1.65069717e-02  2.64743318e-01\n",
      "  -1.88345433e-01 -2.35646589e-01 -2.53565620e-01  5.45651676e-02\n",
      "   3.48713432e-01 -2.20127086e-01  3.35817524e-02  4.53088853e-01\n",
      "   1.48061609e-01 -1.37562386e-02  4.15916949e-01 -3.48373178e-01]\n",
      " [ 2.23606798e-01  4.86861947e-02  6.40151285e-03  7.04946038e-02\n",
      "  -2.16582333e-02 -4.20781629e-02  1.82325011e-01 -1.21222467e-01\n",
      "  -4.77078955e-02 -1.30221692e-01  3.62133550e-01 -4.67613652e-01\n",
      "   7.42764776e-02  3.70955482e-01 -1.09486273e-02  3.48272071e-01\n",
      "  -3.92755250e-01  2.79853937e-01 -8.12583434e-02 -1.40318095e-01]]\n"
     ]
    }
   ],
   "source": [
    "print('Matrix W:\\n', w)"
   ]
  },
  {
   "cell_type": "code",
   "execution_count": 32,
   "metadata": {},
   "outputs": [
    {
     "data": {
      "text/plain": [
       "(1050, 20)"
      ]
     },
     "execution_count": 32,
     "metadata": {},
     "output_type": "execute_result"
    }
   ],
   "source": [
    "images_pca = images_std.T @ w\n",
    "images_pca.shape"
   ]
  },
  {
   "cell_type": "code",
   "execution_count": 33,
   "metadata": {},
   "outputs": [
    {
     "data": {
      "text/plain": [
       "array([[ 1.40988134e-15, -1.44317886e-16, -1.25841272e-15, ...,\n",
       "        -4.70887239e-16, -2.64901642e-16,  1.89966836e-15],\n",
       "       [ 1.79356711e-01,  2.23372832e-02,  6.07306229e-03, ...,\n",
       "        -4.05934131e-02, -4.56183971e-02, -1.11519402e-01],\n",
       "       [ 8.39842208e-01,  2.95128229e-01,  1.98750934e-01, ...,\n",
       "         7.55725338e-01,  6.91592851e-01,  6.94554169e-01],\n",
       "       ...,\n",
       "       [ 1.79941549e+00,  1.66416412e+00,  1.79132166e+00, ...,\n",
       "        -2.07016564e+00, -2.03417259e+00, -1.93797791e+00],\n",
       "       [ 2.67281261e-01, -4.28811844e-01, -5.37148222e-01, ...,\n",
       "         1.21727181e+00,  1.57974752e+00,  1.38464373e+00],\n",
       "       [ 2.62195025e-01,  3.22855379e+00,  3.22610750e+00, ...,\n",
       "        -2.14626146e+00, -1.78128238e+00, -1.68331120e+00]])"
      ]
     },
     "execution_count": 33,
     "metadata": {},
     "output_type": "execute_result"
    }
   ],
   "source": [
    "result = images_pca.T\n",
    "result"
   ]
  },
  {
   "cell_type": "code",
   "execution_count": 34,
   "metadata": {},
   "outputs": [
    {
     "data": {
      "text/plain": [
       "(20, 1050)"
      ]
     },
     "execution_count": 34,
     "metadata": {},
     "output_type": "execute_result"
    }
   ],
   "source": [
    "result_img = sc.inverse_transform(result)\n",
    "result_img.shape"
   ]
  },
  {
   "cell_type": "code",
   "execution_count": 35,
   "metadata": {},
   "outputs": [
    {
     "data": {
      "text/plain": [
       "(20, 35, 30)"
      ]
     },
     "execution_count": 35,
     "metadata": {},
     "output_type": "execute_result"
    }
   ],
   "source": [
    "result_img.shape = origin_shape\n",
    "result_img.shape"
   ]
  },
  {
   "cell_type": "code",
   "execution_count": 36,
   "metadata": {},
   "outputs": [],
   "source": [
    "# result_img = result_img.astype(np.uint8)"
   ]
  },
  {
   "cell_type": "code",
   "execution_count": 37,
   "metadata": {},
   "outputs": [
    {
     "data": {
      "image/png": "[encoded data removed]",
      "text/plain": [
       "<Figure size 2160x2520 with 10 Axes>"
      ]
     },
     "metadata": {
      "needs_background": "light"
     },
     "output_type": "display_data"
    },
    {
     "data": {
      "image/png": "[encoded data removed]",
      "text/plain": [
       "<Figure size 2160x2520 with 10 Axes>"
      ]
     },
     "metadata": {
      "needs_background": "light"
     },
     "output_type": "display_data"
    }
   ],
   "source": [
    "import matplotlib.pyplot as plt\n",
    "%matplotlib inline\n",
    "images.shape = origin_shape\n",
    "nrows = (N//10)\n",
    "for row in range(nrows):\n",
    "    plt.figure(figsize=fig_size)\n",
    "    for i in range(10):\n",
    "        plt.subplot(1, 10, i+1)\n",
    "        plt.imshow(images[i + row*10], cmap=\"gray\")\n",
    "        plt.axis(\"off\")\n",
    "    plt.show()"
   ]
  },
  {
   "cell_type": "code",
   "execution_count": 38,
   "metadata": {},
   "outputs": [
    {
     "data": {
      "image/png": "[encoded data removed]",
      "text/plain": [
       "<Figure size 2160x2520 with 10 Axes>"
      ]
     },
     "metadata": {
      "needs_background": "light"
     },
     "output_type": "display_data"
    },
    {
     "data": {
      "image/png": "[encoded data removed]",
      "text/plain": [
       "<Figure size 2160x2520 with 10 Axes>"
      ]
     },
     "metadata": {
      "needs_background": "light"
     },
     "output_type": "display_data"
    }
   ],
   "source": [
    "import matplotlib.pyplot as plt\n",
    "%matplotlib inline\n",
    "nrows = (N//10)\n",
    "for row in range(nrows):\n",
    "    plt.figure(figsize=fig_size)\n",
    "    for i in range(10):\n",
    "        plt.subplot(1, 10, i+1)\n",
    "        plt.imshow(result_img[i + row*10], cmap=\"gray\")\n",
    "        plt.axis(\"off\")\n",
    "    plt.show()"
   ]
  },
  {
   "cell_type": "markdown",
   "metadata": {},
   "source": [
    "# 특잇값 분해"
   ]
  },
  {
   "cell_type": "code",
   "execution_count": 39,
   "metadata": {},
   "outputs": [],
   "source": [
    "x = [32,64,96,118,126,144,152,158]\n",
    "y = [18,24,61.5,49,52,105,130,125]"
   ]
  },
  {
   "cell_type": "code",
   "execution_count": 40,
   "metadata": {},
   "outputs": [],
   "source": [
    "import numpy as np\n",
    "A = np.c_[x, [1]*8] \t\t# column_stack((x, np.ones((8))))\n",
    "B = np.array(y)"
   ]
  },
  {
   "cell_type": "code",
   "execution_count": 41,
   "metadata": {},
   "outputs": [
    {
     "data": {
      "text/plain": [
       "array([[-0.09523708, -0.75291219, -0.30570949, -0.28090959, -0.27189145,\n",
       "        -0.25160063, -0.24258249, -0.23581888],\n",
       "       [-0.19045071, -0.49902645, -0.10192726,  0.12193311,  0.20333687,\n",
       "         0.38649535,  0.46789912,  0.52895194],\n",
       "       [-0.28566433, -0.24514071,  0.91852536, -0.0671799 , -0.06198182,\n",
       "        -0.05028612, -0.04508804, -0.04118947],\n",
       "       [-0.3511237 , -0.07059426, -0.09192115,  0.8886239 , -0.11845062,\n",
       "        -0.13436831, -0.14144283, -0.14674873],\n",
       "       [-0.37492711, -0.00712283, -0.09571988, -0.12744744,  0.86101527,\n",
       "        -0.16494364, -0.17648094, -0.18513391],\n",
       "       [-0.42848478,  0.1356879 , -0.10426703, -0.16360796, -0.18518648,\n",
       "         0.76626184, -0.25531668, -0.27150057],\n",
       "       [-0.45228818,  0.19915934, -0.10806576, -0.1796793 , -0.20572059,\n",
       "        -0.26431349,  0.70964522, -0.30988575],\n",
       "       [-0.47014074,  0.24676291, -0.1109148 , -0.19173281, -0.22112118,\n",
       "        -0.287245  , -0.31663336,  0.66132536]])"
      ]
     },
     "execution_count": 41,
     "metadata": {},
     "output_type": "execute_result"
    }
   ],
   "source": [
    "U, s, VT = np.linalg.svd(A, full_matrices=True)\n",
    "U"
   ]
  },
  {
   "cell_type": "code",
   "execution_count": 42,
   "metadata": {},
   "outputs": [
    {
     "data": {
      "text/plain": [
       "array([336.0759044 ,   0.99321713])"
      ]
     },
     "execution_count": 42,
     "metadata": {},
     "output_type": "execute_result"
    }
   ],
   "source": [
    "s"
   ]
  },
  {
   "cell_type": "code",
   "execution_count": 43,
   "metadata": {},
   "outputs": [
    {
     "data": {
      "text/plain": [
       "array([[-0.99996895, -0.00788011],\n",
       "       [ 0.00788011, -0.99996895]])"
      ]
     },
     "execution_count": 43,
     "metadata": {},
     "output_type": "execute_result"
    }
   ],
   "source": [
    "VT"
   ]
  },
  {
   "cell_type": "code",
   "execution_count": 44,
   "metadata": {},
   "outputs": [],
   "source": [
    "S = np.zeros((1,1))\n",
    "S[0][0] = s[0]\n",
    "\n",
    "A2 = U[:,0:1] @ S @ VT[0:1,0:1]"
   ]
  },
  {
   "cell_type": "code",
   "execution_count": 45,
   "metadata": {},
   "outputs": [
    {
     "data": {
      "text/plain": [
       "array([[ 32.00589279],\n",
       "       [ 64.00390571],\n",
       "       [ 96.00191863],\n",
       "       [118.00055252],\n",
       "       [126.00005575],\n",
       "       [143.99893802],\n",
       "       [151.99844125],\n",
       "       [157.99806867]])"
      ]
     },
     "execution_count": 45,
     "metadata": {},
     "output_type": "execute_result"
    }
   ],
   "source": [
    "A2"
   ]
  },
  {
   "cell_type": "code",
   "execution_count": 46,
   "metadata": {},
   "outputs": [
    {
     "data": {
      "text/plain": [
       "array([[ 32,   1],\n",
       "       [ 64,   1],\n",
       "       [ 96,   1],\n",
       "       [118,   1],\n",
       "       [126,   1],\n",
       "       [144,   1],\n",
       "       [152,   1],\n",
       "       [158,   1]])"
      ]
     },
     "execution_count": 46,
     "metadata": {},
     "output_type": "execute_result"
    }
   ],
   "source": [
    "A"
   ]
  },
  {
   "cell_type": "code",
   "execution_count": 47,
   "metadata": {},
   "outputs": [
    {
     "data": {
      "text/plain": [
       "(0.8744839346616408, -26.72383773110748)"
      ]
     },
     "execution_count": 47,
     "metadata": {},
     "output_type": "execute_result"
    }
   ],
   "source": [
    "weight, bias = np.linalg.inv(A.T @ A) @ A.T @ B\n",
    "weight, bias"
   ]
  },
  {
   "cell_type": "code",
   "execution_count": 48,
   "metadata": {},
   "outputs": [
    {
     "data": {
      "text/plain": [
       "array([[ 32.00589279],\n",
       "       [ 64.00390571],\n",
       "       [ 96.00191863],\n",
       "       [118.00055252],\n",
       "       [126.00005575],\n",
       "       [143.99893802],\n",
       "       [151.99844125],\n",
       "       [157.99806867]])"
      ]
     },
     "execution_count": 48,
     "metadata": {},
     "output_type": "execute_result"
    }
   ],
   "source": [
    "A2"
   ]
  },
  {
   "cell_type": "code",
   "execution_count": 49,
   "metadata": {},
   "outputs": [
    {
     "data": {
      "text/plain": [
       "array([[ 32.00589279,   1.        ],\n",
       "       [ 64.00390571,   1.        ],\n",
       "       [ 96.00191863,   1.        ],\n",
       "       [118.00055252,   1.        ],\n",
       "       [126.00005575,   1.        ],\n",
       "       [143.99893802,   1.        ],\n",
       "       [151.99844125,   1.        ],\n",
       "       [157.99806867,   1.        ]])"
      ]
     },
     "execution_count": 49,
     "metadata": {},
     "output_type": "execute_result"
    }
   ],
   "source": [
    "x2 = np.c_[A2, [1]*8]\n",
    "x2"
   ]
  },
  {
   "cell_type": "code",
   "execution_count": 50,
   "metadata": {},
   "outputs": [
    {
     "data": {
      "text/plain": [
       "(0.8745382401681364, -26.730728978671934)"
      ]
     },
     "execution_count": 50,
     "metadata": {},
     "output_type": "execute_result"
    }
   ],
   "source": [
    "weight2, bias2 = np.linalg.inv(x2.T @ x2) @ x2.T @ B\n",
    "weight2, bias2"
   ]
  },
  {
   "cell_type": "code",
   "execution_count": 51,
   "metadata": {},
   "outputs": [
    {
     "data": {
      "image/png": "[encoded data removed]",
      "text/plain": [
       "<Figure size 432x288 with 2 Axes>"
      ]
     },
     "metadata": {
      "needs_background": "light"
     },
     "output_type": "display_data"
    }
   ],
   "source": [
    "import numpy as np\n",
    "import matplotlib.pyplot as plt\n",
    "\n",
    "fig, ax = plt.subplots(ncols=2)\n",
    "ax[0].scatter(x, y)\n",
    "ax[0].plot(A[:,0], weight*A[:,0] + bias, '-')\n",
    "ax[1].scatter(A2[:,0], y, color=\"red\")\n",
    "ax[1].plot(A2[:,0], weight2*A2[:,0] + bias2, '-.', color=\"red\")\n",
    "plt.show()"
   ]
  },
  {
   "cell_type": "code",
   "execution_count": 52,
   "metadata": {},
   "outputs": [
    {
     "data": {
      "text/plain": [
       "array([[-9.52370763e-02,  7.52912191e-01, -1.25315273e-01,\n",
       "         5.76776272e-02, -2.34839046e-05,  4.68087557e-05,\n",
       "         7.50760311e-06,  6.14604191e-06],\n",
       "       [-1.90450705e-01,  4.99026450e-01,  4.22585227e-01,\n",
       "         1.38292129e-01, -4.30685998e-05,  2.63738135e-06,\n",
       "        -3.72555436e-06, -1.66502404e-06],\n",
       "       [-2.85664334e-01,  2.45140710e-01, -5.13313109e-01,\n",
       "        -5.39946563e-01,  4.99714310e-01, -4.83593412e-01,\n",
       "         1.21372977e-01, -6.65622644e-02],\n",
       "       [-3.51123704e-01,  7.05942631e-02,  2.64104678e-01,\n",
       "         3.63054867e-01, -5.24072076e-01,  7.20780965e-01,\n",
       "         2.94938636e-01,  6.57241081e-01],\n",
       "       [-3.74927111e-01,  7.12282792e-03, -7.80217584e-02,\n",
       "        -3.02473376e-02, -3.39467962e-01, -6.66658455e-02,\n",
       "        -7.52172119e-01, -5.60908617e-01],\n",
       "       [-4.28484777e-01, -1.35687901e-01, -2.55617228e-01,\n",
       "        -2.86389376e-01,  1.92369723e-01,  3.36439963e-01,\n",
       "         1.30608419e-01, -4.10218120e-01],\n",
       "       [-4.52288185e-01, -1.99159336e-01,  5.67212678e-01,\n",
       "         6.10836195e-01, -3.07099679e-01, -2.38574213e-01,\n",
       "         4.86287359e-01,  2.54788113e-01],\n",
       "       [-4.70140740e-01, -2.46762913e-01, -2.81635216e-01,\n",
       "        -3.13277541e-01,  4.78622237e-01, -2.68436903e-01,\n",
       "        -2.81039054e-01,  1.25655326e-01]])"
      ]
     },
     "execution_count": 52,
     "metadata": {},
     "output_type": "execute_result"
    }
   ],
   "source": [
    "Uw, Uv = np.linalg.eig(A @ A.T)\n",
    "Uv"
   ]
  },
  {
   "cell_type": "code",
   "execution_count": 53,
   "metadata": {},
   "outputs": [
    {
     "data": {
      "text/plain": [
       "array([[ 0.99996895, -0.00788011],\n",
       "       [ 0.00788011,  0.99996895]])"
      ]
     },
     "execution_count": 53,
     "metadata": {},
     "output_type": "execute_result"
    }
   ],
   "source": [
    "Vw, Vv = np.linalg.eig(A.T @ A)\n",
    "Vv"
   ]
  },
  {
   "cell_type": "code",
   "execution_count": 54,
   "metadata": {},
   "outputs": [
    {
     "data": {
      "text/plain": [
       "array([336.0759044 ,   0.99321713])"
      ]
     },
     "execution_count": 54,
     "metadata": {},
     "output_type": "execute_result"
    }
   ],
   "source": [
    "s = np.sqrt(Vw)\n",
    "s"
   ]
  },
  {
   "cell_type": "code",
   "execution_count": 55,
   "metadata": {},
   "outputs": [
    {
     "data": {
      "text/plain": [
       "{'data': array([[5.1, 3.5, 1.4, 0.2],\n",
       "        [4.9, 3. , 1.4, 0.2],\n",
       "        [4.7, 3.2, 1.3, 0.2],\n",
       "        [4.6, 3.1, 1.5, 0.2],\n",
       "        [5. , 3.6, 1.4, 0.2],\n",
       "        [5.4, 3.9, 1.7, 0.4],\n",
       "        [4.6, 3.4, 1.4, 0.3],\n",
       "        [5. , 3.4, 1.5, 0.2],\n",
       "        [4.4, 2.9, 1.4, 0.2],\n",
       "        [4.9, 3.1, 1.5, 0.1],\n",
       "        [5.4, 3.7, 1.5, 0.2],\n",
       "        [4.8, 3.4, 1.6, 0.2],\n",
       "        [4.8, 3. , 1.4, 0.1],\n",
       "        [4.3, 3. , 1.1, 0.1],\n",
       "        [5.8, 4. , 1.2, 0.2],\n",
       "        [5.7, 4.4, 1.5, 0.4],\n",
       "        [5.4, 3.9, 1.3, 0.4],\n",
       "        [5.1, 3.5, 1.4, 0.3],\n",
       "        [5.7, 3.8, 1.7, 0.3],\n",
       "        [5.1, 3.8, 1.5, 0.3],\n",
       "        [5.4, 3.4, 1.7, 0.2],\n",
       "        [5.1, 3.7, 1.5, 0.4],\n",
       "        [4.6, 3.6, 1. , 0.2],\n",
       "        [5.1, 3.3, 1.7, 0.5],\n",
       "        [4.8, 3.4, 1.9, 0.2],\n",
       "        [5. , 3. , 1.6, 0.2],\n",
       "        [5. , 3.4, 1.6, 0.4],\n",
       "        [5.2, 3.5, 1.5, 0.2],\n",
       "        [5.2, 3.4, 1.4, 0.2],\n",
       "        [4.7, 3.2, 1.6, 0.2],\n",
       "        [4.8, 3.1, 1.6, 0.2],\n",
       "        [5.4, 3.4, 1.5, 0.4],\n",
       "        [5.2, 4.1, 1.5, 0.1],\n",
       "        [5.5, 4.2, 1.4, 0.2],\n",
       "        [4.9, 3.1, 1.5, 0.2],\n",
       "        [5. , 3.2, 1.2, 0.2],\n",
       "        [5.5, 3.5, 1.3, 0.2],\n",
       "        [4.9, 3.6, 1.4, 0.1],\n",
       "        [4.4, 3. , 1.3, 0.2],\n",
       "        [5.1, 3.4, 1.5, 0.2],\n",
       "        [5. , 3.5, 1.3, 0.3],\n",
       "        [4.5, 2.3, 1.3, 0.3],\n",
       "        [4.4, 3.2, 1.3, 0.2],\n",
       "        [5. , 3.5, 1.6, 0.6],\n",
       "        [5.1, 3.8, 1.9, 0.4],\n",
       "        [4.8, 3. , 1.4, 0.3],\n",
       "        [5.1, 3.8, 1.6, 0.2],\n",
       "        [4.6, 3.2, 1.4, 0.2],\n",
       "        [5.3, 3.7, 1.5, 0.2],\n",
       "        [5. , 3.3, 1.4, 0.2],\n",
       "        [7. , 3.2, 4.7, 1.4],\n",
       "        [6.4, 3.2, 4.5, 1.5],\n",
       "        [6.9, 3.1, 4.9, 1.5],\n",
       "        [5.5, 2.3, 4. , 1.3],\n",
       "        [6.5, 2.8, 4.6, 1.5],\n",
       "        [5.7, 2.8, 4.5, 1.3],\n",
       "        [6.3, 3.3, 4.7, 1.6],\n",
       "        [4.9, 2.4, 3.3, 1. ],\n",
       "        [6.6, 2.9, 4.6, 1.3],\n",
       "        [5.2, 2.7, 3.9, 1.4],\n",
       "        [5. , 2. , 3.5, 1. ],\n",
       "        [5.9, 3. , 4.2, 1.5],\n",
       "        [6. , 2.2, 4. , 1. ],\n",
       "        [6.1, 2.9, 4.7, 1.4],\n",
       "        [5.6, 2.9, 3.6, 1.3],\n",
       "        [6.7, 3.1, 4.4, 1.4],\n",
       "        [5.6, 3. , 4.5, 1.5],\n",
       "        [5.8, 2.7, 4.1, 1. ],\n",
       "        [6.2, 2.2, 4.5, 1.5],\n",
       "        [5.6, 2.5, 3.9, 1.1],\n",
       "        [5.9, 3.2, 4.8, 1.8],\n",
       "        [6.1, 2.8, 4. , 1.3],\n",
       "        [6.3, 2.5, 4.9, 1.5],\n",
       "        [6.1, 2.8, 4.7, 1.2],\n",
       "        [6.4, 2.9, 4.3, 1.3],\n",
       "        [6.6, 3. , 4.4, 1.4],\n",
       "        [6.8, 2.8, 4.8, 1.4],\n",
       "        [6.7, 3. , 5. , 1.7],\n",
       "        [6. , 2.9, 4.5, 1.5],\n",
       "        [5.7, 2.6, 3.5, 1. ],\n",
       "        [5.5, 2.4, 3.8, 1.1],\n",
       "        [5.5, 2.4, 3.7, 1. ],\n",
       "        [5.8, 2.7, 3.9, 1.2],\n",
       "        [6. , 2.7, 5.1, 1.6],\n",
       "        [5.4, 3. , 4.5, 1.5],\n",
       "        [6. , 3.4, 4.5, 1.6],\n",
       "        [6.7, 3.1, 4.7, 1.5],\n",
       "        [6.3, 2.3, 4.4, 1.3],\n",
       "        [5.6, 3. , 4.1, 1.3],\n",
       "        [5.5, 2.5, 4. , 1.3],\n",
       "        [5.5, 2.6, 4.4, 1.2],\n",
       "        [6.1, 3. , 4.6, 1.4],\n",
       "        [5.8, 2.6, 4. , 1.2],\n",
       "        [5. , 2.3, 3.3, 1. ],\n",
       "        [5.6, 2.7, 4.2, 1.3],\n",
       "        [5.7, 3. , 4.2, 1.2],\n",
       "        [5.7, 2.9, 4.2, 1.3],\n",
       "        [6.2, 2.9, 4.3, 1.3],\n",
       "        [5.1, 2.5, 3. , 1.1],\n",
       "        [5.7, 2.8, 4.1, 1.3],\n",
       "        [6.3, 3.3, 6. , 2.5],\n",
       "        [5.8, 2.7, 5.1, 1.9],\n",
       "        [7.1, 3. , 5.9, 2.1],\n",
       "        [6.3, 2.9, 5.6, 1.8],\n",
       "        [6.5, 3. , 5.8, 2.2],\n",
       "        [7.6, 3. , 6.6, 2.1],\n",
       "        [4.9, 2.5, 4.5, 1.7],\n",
       "        [7.3, 2.9, 6.3, 1.8],\n",
       "        [6.7, 2.5, 5.8, 1.8],\n",
       "        [7.2, 3.6, 6.1, 2.5],\n",
       "        [6.5, 3.2, 5.1, 2. ],\n",
       "        [6.4, 2.7, 5.3, 1.9],\n",
       "        [6.8, 3. , 5.5, 2.1],\n",
       "        [5.7, 2.5, 5. , 2. ],\n",
       "        [5.8, 2.8, 5.1, 2.4],\n",
       "        [6.4, 3.2, 5.3, 2.3],\n",
       "        [6.5, 3. , 5.5, 1.8],\n",
       "        [7.7, 3.8, 6.7, 2.2],\n",
       "        [7.7, 2.6, 6.9, 2.3],\n",
       "        [6. , 2.2, 5. , 1.5],\n",
       "        [6.9, 3.2, 5.7, 2.3],\n",
       "        [5.6, 2.8, 4.9, 2. ],\n",
       "        [7.7, 2.8, 6.7, 2. ],\n",
       "        [6.3, 2.7, 4.9, 1.8],\n",
       "        [6.7, 3.3, 5.7, 2.1],\n",
       "        [7.2, 3.2, 6. , 1.8],\n",
       "        [6.2, 2.8, 4.8, 1.8],\n",
       "        [6.1, 3. , 4.9, 1.8],\n",
       "        [6.4, 2.8, 5.6, 2.1],\n",
       "        [7.2, 3. , 5.8, 1.6],\n",
       "        [7.4, 2.8, 6.1, 1.9],\n",
       "        [7.9, 3.8, 6.4, 2. ],\n",
       "        [6.4, 2.8, 5.6, 2.2],\n",
       "        [6.3, 2.8, 5.1, 1.5],\n",
       "        [6.1, 2.6, 5.6, 1.4],\n",
       "        [7.7, 3. , 6.1, 2.3],\n",
       "        [6.3, 3.4, 5.6, 2.4],\n",
       "        [6.4, 3.1, 5.5, 1.8],\n",
       "        [6. , 3. , 4.8, 1.8],\n",
       "        [6.9, 3.1, 5.4, 2.1],\n",
       "        [6.7, 3.1, 5.6, 2.4],\n",
       "        [6.9, 3.1, 5.1, 2.3],\n",
       "        [5.8, 2.7, 5.1, 1.9],\n",
       "        [6.8, 3.2, 5.9, 2.3],\n",
       "        [6.7, 3.3, 5.7, 2.5],\n",
       "        [6.7, 3. , 5.2, 2.3],\n",
       "        [6.3, 2.5, 5. , 1.9],\n",
       "        [6.5, 3. , 5.2, 2. ],\n",
       "        [6.2, 3.4, 5.4, 2.3],\n",
       "        [5.9, 3. , 5.1, 1.8]]),\n",
       " 'target': array([0, 0, 0, 0, 0, 0, 0, 0, 0, 0, 0, 0, 0, 0, 0, 0, 0, 0, 0, 0, 0, 0,\n",
       "        0, 0, 0, 0, 0, 0, 0, 0, 0, 0, 0, 0, 0, 0, 0, 0, 0, 0, 0, 0, 0, 0,\n",
       "        0, 0, 0, 0, 0, 0, 1, 1, 1, 1, 1, 1, 1, 1, 1, 1, 1, 1, 1, 1, 1, 1,\n",
       "        1, 1, 1, 1, 1, 1, 1, 1, 1, 1, 1, 1, 1, 1, 1, 1, 1, 1, 1, 1, 1, 1,\n",
       "        1, 1, 1, 1, 1, 1, 1, 1, 1, 1, 1, 1, 2, 2, 2, 2, 2, 2, 2, 2, 2, 2,\n",
       "        2, 2, 2, 2, 2, 2, 2, 2, 2, 2, 2, 2, 2, 2, 2, 2, 2, 2, 2, 2, 2, 2,\n",
       "        2, 2, 2, 2, 2, 2, 2, 2, 2, 2, 2, 2, 2, 2, 2, 2, 2, 2]),\n",
       " 'frame': None,\n",
       " 'target_names': array(['setosa', 'versicolor', 'virginica'], dtype='<U10'),\n",
       " 'DESCR': '.. _iris_dataset:\\n\\nIris plants dataset\\n--------------------\\n\\n**Data Set Characteristics:**\\n\\n    :Number of Instances: 150 (50 in each of three classes)\\n    :Number of Attributes: 4 numeric, predictive attributes and the class\\n    :Attribute Information:\\n        - sepal length in cm\\n        - sepal width in cm\\n        - petal length in cm\\n        - petal width in cm\\n        - class:\\n                - Iris-Setosa\\n                - Iris-Versicolour\\n                - Iris-Virginica\\n                \\n    :Summary Statistics:\\n\\n    ============== ==== ==== ======= ===== ====================\\n                    Min  Max   Mean    SD   Class Correlation\\n    ============== ==== ==== ======= ===== ====================\\n    sepal length:   4.3  7.9   5.84   0.83    0.7826\\n    sepal width:    2.0  4.4   3.05   0.43   -0.4194\\n    petal length:   1.0  6.9   3.76   1.76    0.9490  (high!)\\n    petal width:    0.1  2.5   1.20   0.76    0.9565  (high!)\\n    ============== ==== ==== ======= ===== ====================\\n\\n    :Missing Attribute Values: None\\n    :Class Distribution: 33.3% for each of 3 classes.\\n    :Creator: R.A. Fisher\\n    :Donor: Michael Marshall (MARSHALL%PLU@io.arc.nasa.gov)\\n    :Date: July, 1988\\n\\nThe famous Iris database, first used by Sir R.A. Fisher. The dataset is taken\\nfrom Fisher\\'s paper. Note that it\\'s the same as in R, but not as in the UCI\\nMachine Learning Repository, which has two wrong data points.\\n\\nThis is perhaps the best known database to be found in the\\npattern recognition literature.  Fisher\\'s paper is a classic in the field and\\nis referenced frequently to this day.  (See Duda & Hart, for example.)  The\\ndata set contains 3 classes of 50 instances each, where each class refers to a\\ntype of iris plant.  One class is linearly separable from the other 2; the\\nlatter are NOT linearly separable from each other.\\n\\n.. topic:: References\\n\\n   - Fisher, R.A. \"The use of multiple measurements in taxonomic problems\"\\n     Annual Eugenics, 7, Part II, 179-188 (1936); also in \"Contributions to\\n     Mathematical Statistics\" (John Wiley, NY, 1950).\\n   - Duda, R.O., & Hart, P.E. (1973) Pattern Classification and Scene Analysis.\\n     (Q327.D83) John Wiley & Sons.  ISBN 0-471-22361-1.  See page 218.\\n   - Dasarathy, B.V. (1980) \"Nosing Around the Neighborhood: A New System\\n     Structure and Classification Rule for Recognition in Partially Exposed\\n     Environments\".  IEEE Transactions on Pattern Analysis and Machine\\n     Intelligence, Vol. PAMI-2, No. 1, 67-71.\\n   - Gates, G.W. (1972) \"The Reduced Nearest Neighbor Rule\".  IEEE Transactions\\n     on Information Theory, May 1972, 431-433.\\n   - See also: 1988 MLC Proceedings, 54-64.  Cheeseman et al\"s AUTOCLASS II\\n     conceptual clustering system finds 3 classes in the data.\\n   - Many, many more ...',\n",
       " 'feature_names': ['sepal length (cm)',\n",
       "  'sepal width (cm)',\n",
       "  'petal length (cm)',\n",
       "  'petal width (cm)'],\n",
       " 'filename': 'C:\\\\Users\\\\COM\\\\anaconda3\\\\lib\\\\site-packages\\\\sklearn\\\\datasets\\\\data\\\\iris.csv'}"
      ]
     },
     "execution_count": 55,
     "metadata": {},
     "output_type": "execute_result"
    }
   ],
   "source": [
    "import numpy as np\n",
    "import pandas as pd\n",
    "from sklearn import datasets\n",
    "iris = datasets.load_iris()\n",
    "iris"
   ]
  },
  {
   "cell_type": "code",
   "execution_count": 56,
   "metadata": {},
   "outputs": [
    {
     "data": {
      "text/plain": [
       "array([[-0.06161685,  0.12961144,  0.0021386 , ..., -0.09343429,\n",
       "        -0.09573864, -0.08085465],\n",
       "       [-0.05807094,  0.11101978,  0.07067239, ...,  0.03690405,\n",
       "        -0.03153954,  0.01309526],\n",
       "       [-0.05676305,  0.11796647,  0.00434255, ...,  0.03066199,\n",
       "         0.19531473,  0.13569909],\n",
       "       ...,\n",
       "       [-0.0940593 , -0.0498297 , -0.04144001, ...,  0.98181631,\n",
       "        -0.02194514, -0.00894446],\n",
       "       [-0.09488961, -0.05610123, -0.21297821, ..., -0.02155617,\n",
       "         0.94178018, -0.02971961],\n",
       "       [-0.08847836, -0.0515697 , -0.09575285, ..., -0.0086052 ,\n",
       "        -0.03021088,  0.9736599 ]])"
      ]
     },
     "execution_count": 56,
     "metadata": {},
     "output_type": "execute_result"
    }
   ],
   "source": [
    "U, s, VT = np.linalg.svd(iris.data)\n",
    "U"
   ]
  },
  {
   "cell_type": "code",
   "execution_count": 57,
   "metadata": {},
   "outputs": [
    {
     "data": {
      "text/plain": [
       "array([95.95991387, 17.76103366,  3.46093093,  1.88482631])"
      ]
     },
     "execution_count": 57,
     "metadata": {},
     "output_type": "execute_result"
    }
   ],
   "source": [
    "s"
   ]
  },
  {
   "cell_type": "code",
   "execution_count": 58,
   "metadata": {},
   "outputs": [
    {
     "data": {
      "text/plain": [
       "array([[-0.75110816, -0.38008617, -0.51300886, -0.16790754],\n",
       "       [ 0.2841749 ,  0.5467445 , -0.70866455, -0.34367081],\n",
       "       [ 0.50215472, -0.67524332, -0.05916621, -0.53701625],\n",
       "       [ 0.32081425, -0.31725607, -0.48074507,  0.75187165]])"
      ]
     },
     "execution_count": 58,
     "metadata": {},
     "output_type": "execute_result"
    }
   ],
   "source": [
    "VT"
   ]
  },
  {
   "cell_type": "code",
   "execution_count": 59,
   "metadata": {},
   "outputs": [],
   "source": [
    "N = 3\n",
    "S = np.zeros((3,3))\n",
    "for i in range(N):\n",
    "    S[i][i] = s[i]"
   ]
  },
  {
   "cell_type": "code",
   "execution_count": 60,
   "metadata": {},
   "outputs": [
    {
     "data": {
      "text/plain": [
       "array([[95.95991387,  0.        ,  0.        ],\n",
       "       [ 0.        , 17.76103366,  0.        ],\n",
       "       [ 0.        ,  0.        ,  3.46093093]])"
      ]
     },
     "execution_count": 60,
     "metadata": {},
     "output_type": "execute_result"
    }
   ],
   "source": [
    "S"
   ]
  },
  {
   "cell_type": "code",
   "execution_count": 61,
   "metadata": {},
   "outputs": [
    {
     "data": {
      "text/html": [
       "<div>\n",
       "<style scoped>\n",
       "    .dataframe tbody tr th:only-of-type {\n",
       "        vertical-align: middle;\n",
       "    }\n",
       "\n",
       "    .dataframe tbody tr th {\n",
       "        vertical-align: top;\n",
       "    }\n",
       "\n",
       "    .dataframe thead th {\n",
       "        text-align: right;\n",
       "    }\n",
       "</style>\n",
       "<table border=\"1\" class=\"dataframe\">\n",
       "  <thead>\n",
       "    <tr style=\"text-align: right;\">\n",
       "      <th></th>\n",
       "      <th>A</th>\n",
       "      <th>B</th>\n",
       "      <th>C</th>\n",
       "      <th>D</th>\n",
       "      <th>Species</th>\n",
       "    </tr>\n",
       "  </thead>\n",
       "  <tbody>\n",
       "    <tr>\n",
       "      <th>0</th>\n",
       "      <td>5.099009</td>\n",
       "      <td>3.500980</td>\n",
       "      <td>1.401484</td>\n",
       "      <td>0.197678</td>\n",
       "      <td>0.0</td>\n",
       "    </tr>\n",
       "    <tr>\n",
       "      <th>1</th>\n",
       "      <td>4.868704</td>\n",
       "      <td>3.030949</td>\n",
       "      <td>1.446898</td>\n",
       "      <td>0.126653</td>\n",
       "      <td>0.0</td>\n",
       "    </tr>\n",
       "    <tr>\n",
       "      <th>2</th>\n",
       "      <td>4.694221</td>\n",
       "      <td>3.205715</td>\n",
       "      <td>1.308660</td>\n",
       "      <td>0.186456</td>\n",
       "      <td>0.0</td>\n",
       "    </tr>\n",
       "    <tr>\n",
       "      <th>3</th>\n",
       "      <td>4.625181</td>\n",
       "      <td>3.075098</td>\n",
       "      <td>1.462266</td>\n",
       "      <td>0.259016</td>\n",
       "      <td>0.0</td>\n",
       "    </tr>\n",
       "    <tr>\n",
       "      <th>4</th>\n",
       "      <td>5.019480</td>\n",
       "      <td>3.580736</td>\n",
       "      <td>1.370809</td>\n",
       "      <td>0.245653</td>\n",
       "      <td>0.0</td>\n",
       "    </tr>\n",
       "  </tbody>\n",
       "</table>\n",
       "</div>"
      ],
      "text/plain": [
       "          A         B         C         D  Species\n",
       "0  5.099009  3.500980  1.401484  0.197678      0.0\n",
       "1  4.868704  3.030949  1.446898  0.126653      0.0\n",
       "2  4.694221  3.205715  1.308660  0.186456      0.0\n",
       "3  4.625181  3.075098  1.462266  0.259016      0.0\n",
       "4  5.019480  3.580736  1.370809  0.245653      0.0"
      ]
     },
     "execution_count": 61,
     "metadata": {},
     "output_type": "execute_result"
    }
   ],
   "source": [
    "iris2 = U[:,0:3] @ S @ VT[0:3,:]\n",
    "iris_df = pd.DataFrame(data=np.c_[iris2, iris.target], \n",
    "                       columns=['A', 'B', 'C', 'D', 'Species'])\n",
    "iris_df.head()"
   ]
  },
  {
   "cell_type": "code",
   "execution_count": 62,
   "metadata": {},
   "outputs": [],
   "source": [
    "from sklearn.model_selection import train_test_split\n",
    "train_x, test_x, train_y, test_y = train_test_split(\n",
    "    iris_df.iloc[:,:-1], iris_df.iloc[:,-1], \n",
    "    test_size=0.3, random_state=1)"
   ]
  },
  {
   "cell_type": "code",
   "execution_count": 63,
   "metadata": {},
   "outputs": [
    {
     "data": {
      "text/plain": [
       "MLPClassifier(hidden_layer_sizes=(50, 30), max_iter=1000)"
      ]
     },
     "execution_count": 63,
     "metadata": {},
     "output_type": "execute_result"
    }
   ],
   "source": [
    "from sklearn.neural_network import MLPClassifier\n",
    "mlp = MLPClassifier(hidden_layer_sizes=(50,30), max_iter=1000)\n",
    "mlp.fit(train_x, train_y)"
   ]
  },
  {
   "cell_type": "code",
   "execution_count": 64,
   "metadata": {},
   "outputs": [
    {
     "data": {
      "text/html": [
       "<div>\n",
       "<style scoped>\n",
       "    .dataframe tbody tr th:only-of-type {\n",
       "        vertical-align: middle;\n",
       "    }\n",
       "\n",
       "    .dataframe tbody tr th {\n",
       "        vertical-align: top;\n",
       "    }\n",
       "\n",
       "    .dataframe thead th {\n",
       "        text-align: right;\n",
       "    }\n",
       "</style>\n",
       "<table border=\"1\" class=\"dataframe\">\n",
       "  <thead>\n",
       "    <tr style=\"text-align: right;\">\n",
       "      <th>Pred</th>\n",
       "      <th>0.0</th>\n",
       "      <th>1.0</th>\n",
       "      <th>2.0</th>\n",
       "      <th>All</th>\n",
       "    </tr>\n",
       "    <tr>\n",
       "      <th>True</th>\n",
       "      <th></th>\n",
       "      <th></th>\n",
       "      <th></th>\n",
       "      <th></th>\n",
       "    </tr>\n",
       "  </thead>\n",
       "  <tbody>\n",
       "    <tr>\n",
       "      <th>0.0</th>\n",
       "      <td>14</td>\n",
       "      <td>0</td>\n",
       "      <td>0</td>\n",
       "      <td>14</td>\n",
       "    </tr>\n",
       "    <tr>\n",
       "      <th>1.0</th>\n",
       "      <td>0</td>\n",
       "      <td>18</td>\n",
       "      <td>0</td>\n",
       "      <td>18</td>\n",
       "    </tr>\n",
       "    <tr>\n",
       "      <th>2.0</th>\n",
       "      <td>0</td>\n",
       "      <td>0</td>\n",
       "      <td>13</td>\n",
       "      <td>13</td>\n",
       "    </tr>\n",
       "    <tr>\n",
       "      <th>All</th>\n",
       "      <td>14</td>\n",
       "      <td>18</td>\n",
       "      <td>13</td>\n",
       "      <td>45</td>\n",
       "    </tr>\n",
       "  </tbody>\n",
       "</table>\n",
       "</div>"
      ],
      "text/plain": [
       "Pred  0.0  1.0  2.0  All\n",
       "True                    \n",
       "0.0    14    0    0   14\n",
       "1.0     0   18    0   18\n",
       "2.0     0    0   13   13\n",
       "All    14   18   13   45"
      ]
     },
     "execution_count": 64,
     "metadata": {},
     "output_type": "execute_result"
    }
   ],
   "source": [
    "pred = mlp.predict(test_x)\n",
    "confusion_matrix = pd.crosstab(test_y, pred, \n",
    "                               rownames=['True'], colnames=['Pred'], \n",
    "                               margins=True)\n",
    "confusion_matrix"
   ]
  },
  {
   "cell_type": "code",
   "execution_count": 65,
   "metadata": {},
   "outputs": [
    {
     "data": {
      "text/plain": [
       "1.0"
      ]
     },
     "execution_count": 65,
     "metadata": {},
     "output_type": "execute_result"
    }
   ],
   "source": [
    "mlp.score(test_x, test_y)"
   ]
  },
  {
   "cell_type": "code",
   "execution_count": 67,
   "metadata": {},
   "outputs": [],
   "source": [
    "from sklearn import datasets\n",
    "from sklearn.utils.extmath import randomized_svd\n",
    "import numpy as np\n",
    "import pandas as pd\n",
    "\n",
    "iris = datasets.load_iris()\n",
    "\n",
    "U, s, VT = randomized_svd(iris['data'], n_components=3, \n",
    "                          n_iter=5, random_state=None)"
   ]
  },
  {
   "cell_type": "code",
   "execution_count": 68,
   "metadata": {
    "collapsed": true
   },
   "outputs": [
    {
     "data": {
      "text/plain": [
       "array([[ 6.16168450e-02,  1.29611444e-01, -2.13859674e-03],\n",
       "       [ 5.80709402e-02,  1.11019776e-01, -7.06723871e-02],\n",
       "       [ 5.67630474e-02,  1.17966465e-01, -4.34254909e-03],\n",
       "       [ 5.66534426e-02,  1.05308145e-01, -5.92467197e-03],\n",
       "       [ 6.12302023e-02,  1.31089790e-01,  3.18810953e-02],\n",
       "       [ 6.75031684e-02,  1.30884835e-01,  6.85371918e-02],\n",
       "       [ 5.74820774e-02,  1.16598182e-01,  6.64136685e-02],\n",
       "       [ 6.09726328e-02,  1.20943120e-01, -5.43026565e-03],\n",
       "       [ 5.37611959e-02,  9.99414853e-02, -1.76366479e-02],\n",
       "       [ 5.88266594e-02,  1.12043088e-01, -6.49689136e-02],\n",
       "       [ 6.52918230e-02,  1.36578094e-01, -4.93585934e-03],\n",
       "       [ 5.99417779e-02,  1.13753142e-01,  2.52977575e-02],\n",
       "       [ 5.71132323e-02,  1.11354756e-01, -7.16796746e-02],\n",
       "       [ 5.15957540e-02,  1.15324791e-01, -4.26212003e-03],\n",
       "       [ 6.80071908e-02,  1.64183057e-01, -9.57009112e-03],\n",
       "       [ 7.07625894e-02,  1.59056485e-01,  1.19142652e-01],\n",
       "       [ 6.53647385e-02,  1.46844820e-01,  6.16990077e-02],\n",
       "       [ 6.17918218e-02,  1.27676473e-01,  1.33779293e-02],\n",
       "       [ 6.92802967e-02,  1.34541441e-01, -1.00175034e-02],\n",
       "       [ 6.35146947e-02,  1.32921488e-01,  7.36188358e-02],\n",
       "       [ 6.51727724e-02,  1.19363091e-01, -6.00481277e-02],\n",
       "       [ 6.32935829e-02,  1.27908181e-01,  6.96249084e-02],\n",
       "       [ 5.59608478e-02,  1.40649812e-01,  8.30798653e-02],\n",
       "       [ 6.29534207e-02,  1.05679869e-01,  1.05187125e-02],\n",
       "       [ 6.15456003e-02,  1.01783154e-01,  3.04263956e-02],\n",
       "       [ 5.99228863e-02,  1.04639775e-01, -8.17625336e-02],\n",
       "       [ 6.18571938e-02,  1.13083182e-01,  2.73123325e-02],\n",
       "       [ 6.29341837e-02,  1.27221439e-01, -1.49382892e-02],\n",
       "       [ 6.20034877e-02,  1.28133097e-01, -3.61582888e-02],\n",
       "       [ 5.83668698e-02,  1.05996477e-01,  7.86089013e-04],\n",
       "       [ 5.87535125e-02,  1.04518131e-01, -3.32336030e-02],\n",
       "       [ 6.44535110e-02,  1.23473141e-01, -3.24341677e-02],\n",
       "       [ 6.51357378e-02,  1.47626432e-01,  8.66079057e-02],\n",
       "       [ 6.75203891e-02,  1.57559767e-01,  7.63976236e-02],\n",
       "       [ 5.90016362e-02,  1.10108117e-01, -4.94523876e-02],\n",
       "       [ 5.85766335e-02,  1.26756434e-01, -4.95798107e-02],\n",
       "       [ 6.42131623e-02,  1.40001403e-01, -6.18850969e-02],\n",
       "       [ 6.02724944e-02,  1.31424770e-01,  3.08738078e-02],\n",
       "       [ 5.36226769e-02,  1.07009819e-01,  1.64259548e-04],\n",
       "       [ 6.17553640e-02,  1.22543111e-01, -1.99395042e-02],\n",
       "       [ 6.04744831e-02,  1.30066478e-01,  2.61776218e-02],\n",
       "       [ 5.18077654e-02,  8.51264784e-02, -1.35401627e-01],\n",
       "       [ 5.44148539e-02,  1.13166493e-01,  3.91851665e-02],\n",
       "       [ 6.26032358e-02,  1.12291578e-01,  7.78558381e-02],\n",
       "       [ 6.58281013e-02,  1.15026533e-01,  9.59735460e-02],\n",
       "       [ 5.74631858e-02,  1.07484815e-01, -4.06466225e-02],\n",
       "       [ 6.38743254e-02,  1.30866463e-01,  5.98118558e-02],\n",
       "       [ 5.65149237e-02,  1.12376478e-01,  1.18762355e-02],\n",
       "       [ 6.45090918e-02,  1.34978104e-01,  9.57337920e-03],\n",
       "       [ 6.00419369e-02,  1.21854779e-01, -2.66502652e-02],\n",
       "       [ 9.50422391e-02, -4.11326398e-03, -9.37321578e-02],\n",
       "       [ 8.94516138e-02, -7.66818721e-03,  5.42070742e-03],\n",
       "       [ 9.51076111e-02, -1.87065550e-02, -7.97977546e-02],\n",
       "       [ 7.58192461e-02, -2.59532167e-02, -7.91710094e-02],\n",
       "       [ 8.91845985e-02, -2.23715412e-02, -8.54207991e-02],\n",
       "       [ 8.20381882e-02, -2.73115299e-02, -2.08948886e-03],\n",
       "       [ 9.03091628e-02, -1.61048038e-02,  5.83760176e-02],\n",
       "       [ 6.72517650e-02,  1.26006092e-03, -3.11215251e-02],\n",
       "       [ 9.00134647e-02, -1.38232718e-02, -1.11452636e-01],\n",
       "       [ 7.46957758e-02, -1.63848150e-02,  5.62055002e-02],\n",
       "       [ 6.75193572e-02, -1.74332892e-02, -1.20253486e-01],\n",
       "       [ 8.31419586e-02, -9.85482711e-03,  3.38173550e-02],\n",
       "       [ 7.88118832e-02, -1.52266876e-02, -2.17777234e-01],\n",
       "       [ 8.68093930e-02, -2.77481926e-02, -2.16803714e-02],\n",
       "       [ 7.68400783e-02,  1.00767816e-02,  1.65442889e-02],\n",
       "       [ 9.06941347e-02, -2.15851353e-05, -7.48435338e-02],\n",
       "       [ 8.23975875e-02, -2.66247878e-02,  8.24737088e-02],\n",
       "       [ 7.97614708e-02, -7.02497949e-03, -8.94969432e-02],\n",
       "       [ 8.39252666e-02, -4.16515405e-02, -1.60665350e-01],\n",
       "       [ 7.65095933e-02, -1.03366139e-02, -8.74019391e-02],\n",
       "       [ 8.76667106e-02, -3.34430418e-02,  1.29645116e-01],\n",
       "       [ 8.24960756e-02, -9.61586108e-04, -6.86741732e-02],\n",
       "       [ 8.80346931e-02, -4.67765227e-02, -1.09805044e-01],\n",
       "       [ 8.60633510e-02, -2.69565882e-02, -7.22238770e-02],\n",
       "       [ 8.68441800e-02, -5.05326495e-03, -8.75627972e-02],\n",
       "       [ 8.95153150e-02, -4.69991309e-03, -7.98447487e-02],\n",
       "       [ 9.24270302e-02, -2.36165904e-02, -1.41045949e-01],\n",
       "       [ 9.40306212e-02, -3.28448113e-02, -3.75471329e-02],\n",
       "       [ 8.51324237e-02, -2.33031619e-02,  4.92630110e-03],\n",
       "       [ 7.53750063e-02,  1.22366693e-02, -1.04755434e-01],\n",
       "       [ 7.47961661e-02, -1.10249457e-02, -9.41127001e-02],\n",
       "       [ 7.40865819e-02, -5.09997886e-03, -1.11338772e-01],\n",
       "       [ 7.90422093e-02, -2.91492876e-03, -6.18829831e-02],\n",
       "       [ 8.77228682e-02, -5.53347837e-02, -8.32080363e-03],\n",
       "       [ 8.08321251e-02, -2.98247694e-02,  1.11492186e-01],\n",
       "       [ 8.72878429e-02, -9.84644677e-03,  1.17995095e-01],\n",
       "       [ 9.24729338e-02, -1.39265443e-02, -5.41983696e-02],\n",
       "       [ 8.42195253e-02, -2.91132749e-02, -1.88406734e-01],\n",
       "       [ 7.99092041e-02, -6.79486183e-03,  4.46024725e-02],\n",
       "       [ 7.66114230e-02, -1.97965423e-02, -4.01501024e-02],\n",
       "       [ 7.89709646e-02, -3.07432189e-02, -2.93179909e-02],\n",
       "       [ 8.66708741e-02, -2.06798593e-02, -3.87946396e-03],\n",
       "       [ 7.91807283e-02, -9.98326205e-03, -7.96838906e-02],\n",
       "       [ 6.76384077e-02, -2.18285462e-04, -6.51412171e-02],\n",
       "       [ 7.92555461e-02, -2.00198695e-02, -1.22193419e-02],\n",
       "       [ 8.10515660e-02, -7.24989641e-03,  1.62862540e-02],\n",
       "       [ 8.08304543e-02, -1.22632043e-02,  1.22923265e-02],\n",
       "       [ 8.52787176e-02, -8.25324653e-03, -5.85443201e-02],\n",
       "       [ 6.77844702e-02,  1.75733973e-02, -3.02416607e-02],\n",
       "       [ 7.98997583e-02, -1.13515454e-02, -8.92767300e-03],\n",
       "       [ 9.88338505e-02, -8.53894903e-02,  2.20248850e-01],\n",
       "       [ 8.66823361e-02, -6.43396776e-02,  6.72472516e-02],\n",
       "       [ 1.02672920e-01, -7.00946964e-02, -1.81320686e-02],\n",
       "       [ 9.38862295e-02, -6.81980592e-02,  2.67531700e-02],\n",
       "       [ 9.76169023e-02, -7.76396157e-02,  8.27303427e-02],\n",
       "       [ 1.10328828e-01, -9.00247153e-02, -7.87114391e-02],\n",
       "       [ 7.52879803e-02, -5.70863507e-02,  1.17519163e-01],\n",
       "       [ 1.05455794e-01, -8.01281242e-02, -1.06372393e-01],\n",
       "       [ 9.65020152e-02, -8.20914370e-02, -1.05906506e-01],\n",
       "       [ 1.07601304e-01, -6.57445578e-02,  1.49906610e-01],\n",
       "       [ 9.43168735e-02, -3.96830270e-02,  7.87513753e-02],\n",
       "       [ 9.24479381e-02, -6.27197251e-02, -1.63890876e-02],\n",
       "       [ 9.81862967e-02, -5.89346842e-02,  1.85574629e-02],\n",
       "       [ 8.47477972e-02, -7.00413173e-02,  5.65425632e-02],\n",
       "       [ 8.79533083e-02, -7.09361942e-02,  1.64340335e-01],\n",
       "       [ 9.51282875e-02, -5.50679223e-02,  1.43229284e-01],\n",
       "       [ 9.53131729e-02, -5.79297443e-02,  1.55356004e-02],\n",
       "       [ 1.14989851e-01, -6.97229940e-02,  8.00890224e-02],\n",
       "       [ 1.11480981e-01, -1.16578003e-01, -1.35100801e-01],\n",
       "       [ 8.50328416e-02, -6.48015027e-02, -1.23099143e-01],\n",
       "       [ 1.01180373e-01, -6.30279529e-02,  7.75212755e-02],\n",
       "       [ 8.46187241e-02, -5.84163005e-02,  1.27873616e-01],\n",
       "       [ 1.10679013e-01, -9.66364242e-02, -1.46048565e-01],\n",
       "       [ 8.93518003e-02, -4.64247606e-02, -2.42345592e-02],\n",
       "       [ 9.96610459e-02, -5.92796557e-02,  9.50171540e-02],\n",
       "       [ 1.04257505e-01, -6.05231151e-02, -3.84604323e-02],\n",
       "       [ 8.84305502e-02, -4.09564181e-02,  8.07558677e-03],\n",
       "       [ 8.89746034e-02, -4.03897307e-02,  6.33152783e-02],\n",
       "       [ 9.47978024e-02, -7.54813178e-02,  3.92830561e-02],\n",
       "       [ 1.02046160e-01, -5.48298557e-02, -1.11933483e-01],\n",
       "       [ 1.04948198e-01, -7.55614491e-02, -1.28294651e-01],\n",
       "       [ 1.14601538e-01, -5.06830826e-02,  1.49088551e-02],\n",
       "       [ 9.49727792e-02, -7.74162886e-02,  5.47995822e-02],\n",
       "       [ 9.02921735e-02, -4.55215034e-02, -4.78545918e-02],\n",
       "       [ 9.04325947e-02, -7.28931692e-02, -6.48258176e-02],\n",
       "       [ 1.08788476e-01, -7.23446854e-02, -7.07353557e-02],\n",
       "       [ 9.69165324e-02, -6.44161979e-02,  2.17404594e-01],\n",
       "       [ 9.49265302e-02, -5.64513979e-02,  4.95552924e-02],\n",
       "       [ 8.76572648e-02, -3.79997254e-02,  7.61149708e-02],\n",
       "       [ 9.88305089e-02, -5.02663601e-02,  2.18491318e-02],\n",
       "       [ 9.88591917e-02, -6.72512462e-02,  1.00836279e-01],\n",
       "       [ 9.75766400e-02, -4.21663133e-02,  4.77535458e-02],\n",
       "       [ 8.66823361e-02, -6.43396776e-02,  6.72472516e-02],\n",
       "       [ 1.01466857e-01, -7.26079359e-02,  9.54496061e-02],\n",
       "       [ 1.00360953e-01, -6.70195388e-02,  1.57083258e-01],\n",
       "       [ 9.61496966e-02, -5.24346281e-02,  5.89711154e-02],\n",
       "       [ 8.92692075e-02, -5.85064019e-02, -4.60293941e-02],\n",
       "       [ 9.40593040e-02, -4.98296974e-02,  4.14400144e-02],\n",
       "       [ 9.48896096e-02, -5.61012256e-02,  2.12978214e-01],\n",
       "       [ 8.84783560e-02, -5.15697045e-02,  9.57528475e-02]])"
      ]
     },
     "execution_count": 68,
     "metadata": {},
     "output_type": "execute_result"
    }
   ],
   "source": [
    "U"
   ]
  },
  {
   "cell_type": "code",
   "execution_count": 68,
   "metadata": {},
   "outputs": [
    {
     "data": {
      "text/plain": [
       "array([95.95991387, 17.76103366,  3.46093093])"
      ]
     },
     "execution_count": 68,
     "metadata": {},
     "output_type": "execute_result"
    }
   ],
   "source": [
    "s"
   ]
  },
  {
   "cell_type": "code",
   "execution_count": 69,
   "metadata": {},
   "outputs": [
    {
     "data": {
      "text/plain": [
       "array([[ 0.75110816,  0.38008617,  0.51300886,  0.16790754],\n",
       "       [ 0.2841749 ,  0.5467445 , -0.70866455, -0.34367081],\n",
       "       [-0.50215472,  0.67524332,  0.05916621,  0.53701625]])"
      ]
     },
     "execution_count": 69,
     "metadata": {},
     "output_type": "execute_result"
    }
   ],
   "source": [
    "VT"
   ]
  },
  {
   "cell_type": "code",
   "execution_count": 70,
   "metadata": {},
   "outputs": [],
   "source": [
    "S = np.zeros((3,3))\n",
    "for i in range(3):\n",
    "    S[i][i] = s[i]"
   ]
  },
  {
   "cell_type": "code",
   "execution_count": 71,
   "metadata": {},
   "outputs": [
    {
     "data": {
      "text/plain": [
       "array([[95.95991387,  0.        ,  0.        ],\n",
       "       [ 0.        , 17.76103366,  0.        ],\n",
       "       [ 0.        ,  0.        ,  3.46093093]])"
      ]
     },
     "execution_count": 71,
     "metadata": {},
     "output_type": "execute_result"
    }
   ],
   "source": [
    "S"
   ]
  },
  {
   "cell_type": "code",
   "execution_count": 72,
   "metadata": {},
   "outputs": [],
   "source": [
    "iris2 = U[:,0:3] @ S @ VT[0:3,:]"
   ]
  },
  {
   "cell_type": "code",
   "execution_count": 73,
   "metadata": {},
   "outputs": [
    {
     "data": {
      "text/html": [
       "<div>\n",
       "<style scoped>\n",
       "    .dataframe tbody tr th:only-of-type {\n",
       "        vertical-align: middle;\n",
       "    }\n",
       "\n",
       "    .dataframe tbody tr th {\n",
       "        vertical-align: top;\n",
       "    }\n",
       "\n",
       "    .dataframe thead th {\n",
       "        text-align: right;\n",
       "    }\n",
       "</style>\n",
       "<table border=\"1\" class=\"dataframe\">\n",
       "  <thead>\n",
       "    <tr style=\"text-align: right;\">\n",
       "      <th></th>\n",
       "      <th>A</th>\n",
       "      <th>B</th>\n",
       "      <th>C</th>\n",
       "      <th>D</th>\n",
       "      <th>Species</th>\n",
       "    </tr>\n",
       "  </thead>\n",
       "  <tbody>\n",
       "    <tr>\n",
       "      <th>0</th>\n",
       "      <td>5.09900941982427</td>\n",
       "      <td>3.5009795935340757</td>\n",
       "      <td>1.4014843995399509</td>\n",
       "      <td>0.197678441206073</td>\n",
       "      <td>setosa</td>\n",
       "    </tr>\n",
       "    <tr>\n",
       "      <th>1</th>\n",
       "      <td>4.868703642816378</td>\n",
       "      <td>3.030949245591971</td>\n",
       "      <td>1.4468980697813891</td>\n",
       "      <td>0.12665274854458247</td>\n",
       "      <td>setosa</td>\n",
       "    </tr>\n",
       "    <tr>\n",
       "      <th>2</th>\n",
       "      <td>4.694221066713818</td>\n",
       "      <td>3.2057148384549747</td>\n",
       "      <td>1.308659819893004</td>\n",
       "      <td>0.18645628721583987</td>\n",
       "      <td>setosa</td>\n",
       "    </tr>\n",
       "    <tr>\n",
       "      <th>3</th>\n",
       "      <td>4.625181192541417</td>\n",
       "      <td>3.075098095037366</td>\n",
       "      <td>1.4622655979398056</td>\n",
       "      <td>0.2590155349533656</td>\n",
       "      <td>setosa</td>\n",
       "    </tr>\n",
       "    <tr>\n",
       "      <th>4</th>\n",
       "      <td>5.019479625287904</td>\n",
       "      <td>3.5807364255354743</td>\n",
       "      <td>1.370809483649882</td>\n",
       "      <td>0.24565313994426546</td>\n",
       "      <td>setosa</td>\n",
       "    </tr>\n",
       "  </tbody>\n",
       "</table>\n",
       "</div>"
      ],
      "text/plain": [
       "                   A                   B                   C  \\\n",
       "0   5.09900941982427  3.5009795935340757  1.4014843995399509   \n",
       "1  4.868703642816378   3.030949245591971  1.4468980697813891   \n",
       "2  4.694221066713818  3.2057148384549747   1.308659819893004   \n",
       "3  4.625181192541417   3.075098095037366  1.4622655979398056   \n",
       "4  5.019479625287904  3.5807364255354743   1.370809483649882   \n",
       "\n",
       "                     D Species  \n",
       "0    0.197678441206073  setosa  \n",
       "1  0.12665274854458247  setosa  \n",
       "2  0.18645628721583987  setosa  \n",
       "3   0.2590155349533656  setosa  \n",
       "4  0.24565313994426546  setosa  "
      ]
     },
     "execution_count": 73,
     "metadata": {},
     "output_type": "execute_result"
    }
   ],
   "source": [
    "columns = ['A', 'B', 'C', 'D', 'Species']\n",
    "\n",
    "iris_df = pd.DataFrame(data=np.c_[iris2,  \n",
    "                                  iris['target_names'][iris['target']]],\n",
    "                       columns=columns)\n",
    "\n",
    "iris_df.head()"
   ]
  },
  {
   "cell_type": "markdown",
   "metadata": {},
   "source": [
    "# 분류 모형의 변수 선택"
   ]
  },
  {
   "cell_type": "code",
   "execution_count": 28,
   "metadata": {},
   "outputs": [
    {
     "data": {
      "text/html": [
       "<div>\n",
       "<style scoped>\n",
       "    .dataframe tbody tr th:only-of-type {\n",
       "        vertical-align: middle;\n",
       "    }\n",
       "\n",
       "    .dataframe tbody tr th {\n",
       "        vertical-align: top;\n",
       "    }\n",
       "\n",
       "    .dataframe thead th {\n",
       "        text-align: right;\n",
       "    }\n",
       "</style>\n",
       "<table border=\"1\" class=\"dataframe\">\n",
       "  <thead>\n",
       "    <tr style=\"text-align: right;\">\n",
       "      <th></th>\n",
       "      <th>fixed acidity</th>\n",
       "      <th>volatile acidity</th>\n",
       "      <th>citric acid</th>\n",
       "      <th>residual sugar</th>\n",
       "      <th>chlorides</th>\n",
       "      <th>free sulfur dioxide</th>\n",
       "      <th>total sulfur dioxide</th>\n",
       "      <th>density</th>\n",
       "      <th>pH</th>\n",
       "      <th>sulphates</th>\n",
       "      <th>alcohol</th>\n",
       "      <th>quality</th>\n",
       "    </tr>\n",
       "  </thead>\n",
       "  <tbody>\n",
       "    <tr>\n",
       "      <th>0</th>\n",
       "      <td>7.4</td>\n",
       "      <td>0.70</td>\n",
       "      <td>0.00</td>\n",
       "      <td>1.9</td>\n",
       "      <td>0.076</td>\n",
       "      <td>11.0</td>\n",
       "      <td>34.0</td>\n",
       "      <td>0.9978</td>\n",
       "      <td>3.51</td>\n",
       "      <td>0.56</td>\n",
       "      <td>9.4</td>\n",
       "      <td>5</td>\n",
       "    </tr>\n",
       "    <tr>\n",
       "      <th>1</th>\n",
       "      <td>7.8</td>\n",
       "      <td>0.88</td>\n",
       "      <td>0.00</td>\n",
       "      <td>2.6</td>\n",
       "      <td>0.098</td>\n",
       "      <td>25.0</td>\n",
       "      <td>67.0</td>\n",
       "      <td>0.9968</td>\n",
       "      <td>3.20</td>\n",
       "      <td>0.68</td>\n",
       "      <td>9.8</td>\n",
       "      <td>5</td>\n",
       "    </tr>\n",
       "    <tr>\n",
       "      <th>2</th>\n",
       "      <td>7.8</td>\n",
       "      <td>0.76</td>\n",
       "      <td>0.04</td>\n",
       "      <td>2.3</td>\n",
       "      <td>0.092</td>\n",
       "      <td>15.0</td>\n",
       "      <td>54.0</td>\n",
       "      <td>0.9970</td>\n",
       "      <td>3.26</td>\n",
       "      <td>0.65</td>\n",
       "      <td>9.8</td>\n",
       "      <td>5</td>\n",
       "    </tr>\n",
       "    <tr>\n",
       "      <th>3</th>\n",
       "      <td>11.2</td>\n",
       "      <td>0.28</td>\n",
       "      <td>0.56</td>\n",
       "      <td>1.9</td>\n",
       "      <td>0.075</td>\n",
       "      <td>17.0</td>\n",
       "      <td>60.0</td>\n",
       "      <td>0.9980</td>\n",
       "      <td>3.16</td>\n",
       "      <td>0.58</td>\n",
       "      <td>9.8</td>\n",
       "      <td>6</td>\n",
       "    </tr>\n",
       "    <tr>\n",
       "      <th>4</th>\n",
       "      <td>7.4</td>\n",
       "      <td>0.70</td>\n",
       "      <td>0.00</td>\n",
       "      <td>1.9</td>\n",
       "      <td>0.076</td>\n",
       "      <td>11.0</td>\n",
       "      <td>34.0</td>\n",
       "      <td>0.9978</td>\n",
       "      <td>3.51</td>\n",
       "      <td>0.56</td>\n",
       "      <td>9.4</td>\n",
       "      <td>5</td>\n",
       "    </tr>\n",
       "  </tbody>\n",
       "</table>\n",
       "</div>"
      ],
      "text/plain": [
       "   fixed acidity  volatile acidity  citric acid  residual sugar  chlorides  \\\n",
       "0            7.4              0.70         0.00             1.9      0.076   \n",
       "1            7.8              0.88         0.00             2.6      0.098   \n",
       "2            7.8              0.76         0.04             2.3      0.092   \n",
       "3           11.2              0.28         0.56             1.9      0.075   \n",
       "4            7.4              0.70         0.00             1.9      0.076   \n",
       "\n",
       "   free sulfur dioxide  total sulfur dioxide  density    pH  sulphates  \\\n",
       "0                 11.0                  34.0   0.9978  3.51       0.56   \n",
       "1                 25.0                  67.0   0.9968  3.20       0.68   \n",
       "2                 15.0                  54.0   0.9970  3.26       0.65   \n",
       "3                 17.0                  60.0   0.9980  3.16       0.58   \n",
       "4                 11.0                  34.0   0.9978  3.51       0.56   \n",
       "\n",
       "   alcohol  quality  \n",
       "0      9.4        5  \n",
       "1      9.8        5  \n",
       "2      9.8        5  \n",
       "3      9.8        6  \n",
       "4      9.4        5  "
      ]
     },
     "execution_count": 28,
     "metadata": {},
     "output_type": "execute_result"
    }
   ],
   "source": [
    "import pandas as pd\n",
    "redwine = pd.read_csv('winequality-red.csv', delimiter=';')\n",
    "redwine.head()"
   ]
  },
  {
   "cell_type": "code",
   "execution_count": 29,
   "metadata": {
    "scrolled": true
   },
   "outputs": [],
   "source": [
    "X = redwine.iloc[:, :-1];\n",
    "y = redwine.iloc[:, -1]\n",
    "from sklearn.model_selection import train_test_split\n",
    "train_X, test_X, train_y, test_y = train_test_split(X, y, test_size=0.3,\n",
    "                                                    random_state=1)"
   ]
  },
  {
   "cell_type": "code",
   "execution_count": 30,
   "metadata": {},
   "outputs": [
    {
     "data": {
      "image/png": "[encoded data removed]",
      "text/plain": [
       "<Figure size 864x720 with 2 Axes>"
      ]
     },
     "metadata": {
      "needs_background": "light"
     },
     "output_type": "display_data"
    }
   ],
   "source": [
    "import seaborn as sns\n",
    "import matplotlib.pyplot as plt\n",
    "%matplotlib inline\n",
    "plt.figure(figsize=(12,10))\n",
    "sns.heatmap(redwine.corr(), annot=True, \n",
    "            vmin=-1, vmax=1, cmap=\"coolwarm_r\")\n",
    "plt.show()"
   ]
  },
  {
   "cell_type": "code",
   "execution_count": 31,
   "metadata": {},
   "outputs": [
    {
     "data": {
      "text/plain": [
       "RandomForestClassifier(n_estimators=10, random_state=10)"
      ]
     },
     "execution_count": 31,
     "metadata": {},
     "output_type": "execute_result"
    }
   ],
   "source": [
    "from sklearn.ensemble import RandomForestClassifier\n",
    "rf_model = RandomForestClassifier(n_estimators=10, random_state=10)\n",
    "rf_model.fit(train_X, train_y)"
   ]
  },
  {
   "cell_type": "code",
   "execution_count": 32,
   "metadata": {},
   "outputs": [
    {
     "data": {
      "text/plain": [
       "array([0.07679351, 0.10421786, 0.07802557, 0.06573503, 0.07706915,\n",
       "       0.06138852, 0.10841369, 0.09313385, 0.07038339, 0.10917441,\n",
       "       0.15566503])"
      ]
     },
     "execution_count": 32,
     "metadata": {},
     "output_type": "execute_result"
    }
   ],
   "source": [
    "rf_model.feature_importances_"
   ]
  },
  {
   "cell_type": "code",
   "execution_count": 33,
   "metadata": {},
   "outputs": [
    {
     "data": {
      "text/plain": [
       "1.0000000000000002"
      ]
     },
     "execution_count": 33,
     "metadata": {},
     "output_type": "execute_result"
    }
   ],
   "source": [
    "import numpy as np\n",
    "np.sum(rf_model.feature_importances_)"
   ]
  },
  {
   "cell_type": "code",
   "execution_count": 79,
   "metadata": {},
   "outputs": [],
   "source": [
    "features = pd.DataFrame(data=np.c_[X.columns,\n",
    "                                   rf_model.feature_importances_],\n",
    "                        columns=[\"feature\", \"importance\"])"
   ]
  },
  {
   "cell_type": "code",
   "execution_count": 80,
   "metadata": {},
   "outputs": [
    {
     "data": {
      "text/html": [
       "<div>\n",
       "<style scoped>\n",
       "    .dataframe tbody tr th:only-of-type {\n",
       "        vertical-align: middle;\n",
       "    }\n",
       "\n",
       "    .dataframe tbody tr th {\n",
       "        vertical-align: top;\n",
       "    }\n",
       "\n",
       "    .dataframe thead th {\n",
       "        text-align: right;\n",
       "    }\n",
       "</style>\n",
       "<table border=\"1\" class=\"dataframe\">\n",
       "  <thead>\n",
       "    <tr style=\"text-align: right;\">\n",
       "      <th></th>\n",
       "      <th>feature</th>\n",
       "      <th>importance</th>\n",
       "    </tr>\n",
       "  </thead>\n",
       "  <tbody>\n",
       "    <tr>\n",
       "      <th>0</th>\n",
       "      <td>alcohol</td>\n",
       "      <td>0.155665</td>\n",
       "    </tr>\n",
       "    <tr>\n",
       "      <th>1</th>\n",
       "      <td>sulphates</td>\n",
       "      <td>0.109174</td>\n",
       "    </tr>\n",
       "    <tr>\n",
       "      <th>2</th>\n",
       "      <td>total sulfur dioxide</td>\n",
       "      <td>0.108414</td>\n",
       "    </tr>\n",
       "    <tr>\n",
       "      <th>3</th>\n",
       "      <td>volatile acidity</td>\n",
       "      <td>0.104218</td>\n",
       "    </tr>\n",
       "    <tr>\n",
       "      <th>4</th>\n",
       "      <td>density</td>\n",
       "      <td>0.093134</td>\n",
       "    </tr>\n",
       "    <tr>\n",
       "      <th>5</th>\n",
       "      <td>citric acid</td>\n",
       "      <td>0.078026</td>\n",
       "    </tr>\n",
       "    <tr>\n",
       "      <th>6</th>\n",
       "      <td>chlorides</td>\n",
       "      <td>0.077069</td>\n",
       "    </tr>\n",
       "    <tr>\n",
       "      <th>7</th>\n",
       "      <td>fixed acidity</td>\n",
       "      <td>0.076794</td>\n",
       "    </tr>\n",
       "    <tr>\n",
       "      <th>8</th>\n",
       "      <td>pH</td>\n",
       "      <td>0.070383</td>\n",
       "    </tr>\n",
       "    <tr>\n",
       "      <th>9</th>\n",
       "      <td>residual sugar</td>\n",
       "      <td>0.065735</td>\n",
       "    </tr>\n",
       "    <tr>\n",
       "      <th>10</th>\n",
       "      <td>free sulfur dioxide</td>\n",
       "      <td>0.061389</td>\n",
       "    </tr>\n",
       "  </tbody>\n",
       "</table>\n",
       "</div>"
      ],
      "text/plain": [
       "                 feature importance\n",
       "0                alcohol   0.155665\n",
       "1              sulphates   0.109174\n",
       "2   total sulfur dioxide   0.108414\n",
       "3       volatile acidity   0.104218\n",
       "4                density   0.093134\n",
       "5            citric acid   0.078026\n",
       "6              chlorides   0.077069\n",
       "7          fixed acidity   0.076794\n",
       "8                     pH   0.070383\n",
       "9         residual sugar   0.065735\n",
       "10   free sulfur dioxide   0.061389"
      ]
     },
     "execution_count": 80,
     "metadata": {},
     "output_type": "execute_result"
    }
   ],
   "source": [
    "features.sort_values(by=\"importance\", ascending=False, inplace=True)\n",
    "features.reset_index(drop=True, inplace=True)\n",
    "features"
   ]
  },
  {
   "cell_type": "code",
   "execution_count": 81,
   "metadata": {},
   "outputs": [
    {
     "data": {
      "image/png": "[encoded data removed]",
      "text/plain": [
       "<Figure size 864x576 with 1 Axes>"
      ]
     },
     "metadata": {
      "needs_background": "light"
     },
     "output_type": "display_data"
    }
   ],
   "source": [
    "plt.figure(figsize=(12, 8))\n",
    "plt.bar(features.feature, features.importance)\n",
    "plt.xticks(features.feature, fontsize=12, rotation=45)\n",
    "plt.show()"
   ]
  },
  {
   "cell_type": "code",
   "execution_count": 82,
   "metadata": {},
   "outputs": [
    {
     "data": {
      "image/png": "[encoded data removed]",
      "text/plain": [
       "<Figure size 864x576 with 1 Axes>"
      ]
     },
     "metadata": {
      "needs_background": "light"
     },
     "output_type": "display_data"
    }
   ],
   "source": [
    "y_stack = np.cumsum(features.importance, axis=0)\n",
    "plt.figure(figsize=(12, 8))\n",
    "plt.bar(features.feature, y_stack)\n",
    "plt.xticks(features.feature, fontsize=12, rotation=45)\n",
    "plt.show()"
   ]
  },
  {
   "cell_type": "code",
   "execution_count": 83,
   "metadata": {},
   "outputs": [
    {
     "data": {
      "text/plain": [
       "RFE(estimator=RandomForestClassifier(n_estimators=10, random_state=10),\n",
       "    n_features_to_select=5)"
      ]
     },
     "execution_count": 83,
     "metadata": {},
     "output_type": "execute_result"
    }
   ],
   "source": [
    "from sklearn.ensemble import RandomForestClassifier\n",
    "from sklearn.feature_selection import RFE\n",
    "rf_model = RandomForestClassifier(n_estimators=10, random_state=10)\n",
    "rfe_model = RFE(rf_model, n_features_to_select=5)\n",
    "rfe_model.fit(train_X, train_y)"
   ]
  },
  {
   "cell_type": "code",
   "execution_count": 84,
   "metadata": {},
   "outputs": [
    {
     "data": {
      "text/plain": [
       "array([False,  True, False, False, False, False,  True, False,  True,\n",
       "        True,  True])"
      ]
     },
     "execution_count": 84,
     "metadata": {},
     "output_type": "execute_result"
    }
   ],
   "source": [
    "rfe_model.get_support()"
   ]
  },
  {
   "cell_type": "code",
   "execution_count": 85,
   "metadata": {},
   "outputs": [
    {
     "data": {
      "text/html": [
       "<div>\n",
       "<style scoped>\n",
       "    .dataframe tbody tr th:only-of-type {\n",
       "        vertical-align: middle;\n",
       "    }\n",
       "\n",
       "    .dataframe tbody tr th {\n",
       "        vertical-align: top;\n",
       "    }\n",
       "\n",
       "    .dataframe thead th {\n",
       "        text-align: right;\n",
       "    }\n",
       "</style>\n",
       "<table border=\"1\" class=\"dataframe\">\n",
       "  <thead>\n",
       "    <tr style=\"text-align: right;\">\n",
       "      <th></th>\n",
       "      <th>feature</th>\n",
       "      <th>selected</th>\n",
       "    </tr>\n",
       "  </thead>\n",
       "  <tbody>\n",
       "    <tr>\n",
       "      <th>1</th>\n",
       "      <td>volatile acidity</td>\n",
       "      <td>True</td>\n",
       "    </tr>\n",
       "    <tr>\n",
       "      <th>6</th>\n",
       "      <td>total sulfur dioxide</td>\n",
       "      <td>True</td>\n",
       "    </tr>\n",
       "    <tr>\n",
       "      <th>8</th>\n",
       "      <td>pH</td>\n",
       "      <td>True</td>\n",
       "    </tr>\n",
       "    <tr>\n",
       "      <th>9</th>\n",
       "      <td>sulphates</td>\n",
       "      <td>True</td>\n",
       "    </tr>\n",
       "    <tr>\n",
       "      <th>10</th>\n",
       "      <td>alcohol</td>\n",
       "      <td>True</td>\n",
       "    </tr>\n",
       "    <tr>\n",
       "      <th>0</th>\n",
       "      <td>fixed acidity</td>\n",
       "      <td>False</td>\n",
       "    </tr>\n",
       "    <tr>\n",
       "      <th>2</th>\n",
       "      <td>citric acid</td>\n",
       "      <td>False</td>\n",
       "    </tr>\n",
       "    <tr>\n",
       "      <th>3</th>\n",
       "      <td>residual sugar</td>\n",
       "      <td>False</td>\n",
       "    </tr>\n",
       "    <tr>\n",
       "      <th>4</th>\n",
       "      <td>chlorides</td>\n",
       "      <td>False</td>\n",
       "    </tr>\n",
       "    <tr>\n",
       "      <th>5</th>\n",
       "      <td>free sulfur dioxide</td>\n",
       "      <td>False</td>\n",
       "    </tr>\n",
       "    <tr>\n",
       "      <th>7</th>\n",
       "      <td>density</td>\n",
       "      <td>False</td>\n",
       "    </tr>\n",
       "  </tbody>\n",
       "</table>\n",
       "</div>"
      ],
      "text/plain": [
       "                 feature selected\n",
       "1       volatile acidity     True\n",
       "6   total sulfur dioxide     True\n",
       "8                     pH     True\n",
       "9              sulphates     True\n",
       "10               alcohol     True\n",
       "0          fixed acidity    False\n",
       "2            citric acid    False\n",
       "3         residual sugar    False\n",
       "4              chlorides    False\n",
       "5    free sulfur dioxide    False\n",
       "7                density    False"
      ]
     },
     "execution_count": 85,
     "metadata": {},
     "output_type": "execute_result"
    }
   ],
   "source": [
    "import numpy as np\n",
    "import pandas as pd\n",
    "features_rfe = pd.DataFrame(data=np.c_[X.columns.values, \n",
    "                                       rfe_model.get_support()],\n",
    "                            columns=[\"feature\", \"selected\"])\n",
    "features_rfe.sort_values(by=\"selected\", ascending=False)"
   ]
  },
  {
   "cell_type": "code",
   "execution_count": 86,
   "metadata": {},
   "outputs": [
    {
     "data": {
      "text/html": [
       "<div>\n",
       "<style scoped>\n",
       "    .dataframe tbody tr th:only-of-type {\n",
       "        vertical-align: middle;\n",
       "    }\n",
       "\n",
       "    .dataframe tbody tr th {\n",
       "        vertical-align: top;\n",
       "    }\n",
       "\n",
       "    .dataframe thead th {\n",
       "        text-align: right;\n",
       "    }\n",
       "</style>\n",
       "<table border=\"1\" class=\"dataframe\">\n",
       "  <thead>\n",
       "    <tr style=\"text-align: right;\">\n",
       "      <th></th>\n",
       "      <th>feature</th>\n",
       "      <th>importance</th>\n",
       "      <th>selected</th>\n",
       "    </tr>\n",
       "  </thead>\n",
       "  <tbody>\n",
       "    <tr>\n",
       "      <th>0</th>\n",
       "      <td>alcohol</td>\n",
       "      <td>0.155665</td>\n",
       "      <td>True</td>\n",
       "    </tr>\n",
       "    <tr>\n",
       "      <th>1</th>\n",
       "      <td>sulphates</td>\n",
       "      <td>0.109174</td>\n",
       "      <td>True</td>\n",
       "    </tr>\n",
       "    <tr>\n",
       "      <th>2</th>\n",
       "      <td>total sulfur dioxide</td>\n",
       "      <td>0.108414</td>\n",
       "      <td>True</td>\n",
       "    </tr>\n",
       "    <tr>\n",
       "      <th>3</th>\n",
       "      <td>volatile acidity</td>\n",
       "      <td>0.104218</td>\n",
       "      <td>True</td>\n",
       "    </tr>\n",
       "    <tr>\n",
       "      <th>4</th>\n",
       "      <td>density</td>\n",
       "      <td>0.093134</td>\n",
       "      <td>False</td>\n",
       "    </tr>\n",
       "    <tr>\n",
       "      <th>5</th>\n",
       "      <td>citric acid</td>\n",
       "      <td>0.078026</td>\n",
       "      <td>False</td>\n",
       "    </tr>\n",
       "    <tr>\n",
       "      <th>6</th>\n",
       "      <td>chlorides</td>\n",
       "      <td>0.077069</td>\n",
       "      <td>False</td>\n",
       "    </tr>\n",
       "    <tr>\n",
       "      <th>7</th>\n",
       "      <td>fixed acidity</td>\n",
       "      <td>0.076794</td>\n",
       "      <td>False</td>\n",
       "    </tr>\n",
       "    <tr>\n",
       "      <th>8</th>\n",
       "      <td>pH</td>\n",
       "      <td>0.070383</td>\n",
       "      <td>True</td>\n",
       "    </tr>\n",
       "    <tr>\n",
       "      <th>9</th>\n",
       "      <td>residual sugar</td>\n",
       "      <td>0.065735</td>\n",
       "      <td>False</td>\n",
       "    </tr>\n",
       "    <tr>\n",
       "      <th>10</th>\n",
       "      <td>free sulfur dioxide</td>\n",
       "      <td>0.061389</td>\n",
       "      <td>False</td>\n",
       "    </tr>\n",
       "  </tbody>\n",
       "</table>\n",
       "</div>"
      ],
      "text/plain": [
       "                 feature importance selected\n",
       "0                alcohol   0.155665     True\n",
       "1              sulphates   0.109174     True\n",
       "2   total sulfur dioxide   0.108414     True\n",
       "3       volatile acidity   0.104218     True\n",
       "4                density   0.093134    False\n",
       "5            citric acid   0.078026    False\n",
       "6              chlorides   0.077069    False\n",
       "7          fixed acidity   0.076794    False\n",
       "8                     pH   0.070383     True\n",
       "9         residual sugar   0.065735    False\n",
       "10   free sulfur dioxide   0.061389    False"
      ]
     },
     "execution_count": 86,
     "metadata": {},
     "output_type": "execute_result"
    }
   ],
   "source": [
    "features.merge(features_rfe)"
   ]
  },
  {
   "cell_type": "code",
   "execution_count": 87,
   "metadata": {},
   "outputs": [],
   "source": [
    "import pickle\n",
    "with open(\"rfe.model\", \"wb\") as f:\n",
    "    pickle.dump(rfe_model, f)"
   ]
  },
  {
   "cell_type": "code",
   "execution_count": 88,
   "metadata": {},
   "outputs": [],
   "source": [
    "import pickle\n",
    "with open(\"rfe.model\", \"rb\") as f:\n",
    "    rfe_model = pickle.load(f)"
   ]
  },
  {
   "cell_type": "code",
   "execution_count": 89,
   "metadata": {},
   "outputs": [
    {
     "data": {
      "text/plain": [
       "array([5, 6, 8, 6, 6, 6, 6, 5, 5, 6], dtype=int64)"
      ]
     },
     "execution_count": 89,
     "metadata": {},
     "output_type": "execute_result"
    }
   ],
   "source": [
    "rfe_model.predict(test_X[:10])"
   ]
  },
  {
   "cell_type": "code",
   "execution_count": 90,
   "metadata": {},
   "outputs": [
    {
     "data": {
      "text/plain": [
       "array([5, 6, 6, 6, 6, 6, 6, 5, 5, 5], dtype=int64)"
      ]
     },
     "execution_count": 90,
     "metadata": {},
     "output_type": "execute_result"
    }
   ],
   "source": [
    "test_y[:10].values"
   ]
  },
  {
   "cell_type": "markdown",
   "metadata": {},
   "source": [
    "# 회귀 분석 시작"
   ]
  },
  {
   "cell_type": "markdown",
   "metadata": {},
   "source": [
    "# 회귀모형의 변수 선택\n",
    "- 각 모델 학습에 적용해 보자!!"
   ]
  },
  {
   "cell_type": "code",
   "execution_count": 91,
   "metadata": {},
   "outputs": [],
   "source": [
    "from sklearn.datasets import load_boston\n",
    "boston = load_boston()\n",
    "X = boston.data\n",
    "y = boston.target\n",
    "\n",
    "from sklearn.model_selection import train_test_split\n",
    "X_train, X_test, y_train, y_test = train_test_split(X, y, test_size=0.3,\n",
    "                                                    random_state=1)"
   ]
  },
  {
   "cell_type": "code",
   "execution_count": 92,
   "metadata": {},
   "outputs": [],
   "source": [
    "from sklearn.preprocessing import MinMaxScaler\n",
    "scaler = MinMaxScaler(feature_range=(0,1))\n",
    "scaler.fit(X_train)\n",
    "X_train_scaled = scaler.transform(X_train)\n",
    "X_test_scaled = scaler.transform(X_test)"
   ]
  },
  {
   "cell_type": "code",
   "execution_count": 93,
   "metadata": {},
   "outputs": [
    {
     "data": {
      "text/plain": [
       "array([ -7.24560918,   6.07841138,   1.61419961,   2.43955988,\n",
       "       -10.43440297,  14.59135251,   0.33601219, -16.67429358,\n",
       "         7.07346015,  -5.91072872,  -9.45138418,   2.55801415,\n",
       "       -20.61456368])"
      ]
     },
     "execution_count": 93,
     "metadata": {},
     "output_type": "execute_result"
    }
   ],
   "source": [
    "from sklearn.linear_model import LinearRegression\n",
    "lr = LinearRegression()\n",
    "lr.fit(X_train_scaled, y_train)\n",
    "lr.coef_"
   ]
  },
  {
   "cell_type": "code",
   "execution_count": 94,
   "metadata": {},
   "outputs": [],
   "source": [
    "import pandas as pd\n",
    "import numpy as np\n",
    "features = pd.DataFrame(np.c_[boston.feature_names, lr.coef_],\n",
    "                        columns = ['feature', 'coef'])"
   ]
  },
  {
   "cell_type": "code",
   "execution_count": 95,
   "metadata": {},
   "outputs": [
    {
     "data": {
      "text/html": [
       "<div>\n",
       "<style scoped>\n",
       "    .dataframe tbody tr th:only-of-type {\n",
       "        vertical-align: middle;\n",
       "    }\n",
       "\n",
       "    .dataframe tbody tr th {\n",
       "        vertical-align: top;\n",
       "    }\n",
       "\n",
       "    .dataframe thead th {\n",
       "        text-align: right;\n",
       "    }\n",
       "</style>\n",
       "<table border=\"1\" class=\"dataframe\">\n",
       "  <thead>\n",
       "    <tr style=\"text-align: right;\">\n",
       "      <th></th>\n",
       "      <th>feature</th>\n",
       "      <th>coef</th>\n",
       "    </tr>\n",
       "  </thead>\n",
       "  <tbody>\n",
       "    <tr>\n",
       "      <th>8</th>\n",
       "      <td>RAD</td>\n",
       "      <td>7.073460145683998</td>\n",
       "    </tr>\n",
       "    <tr>\n",
       "      <th>1</th>\n",
       "      <td>ZN</td>\n",
       "      <td>6.078411384243512</td>\n",
       "    </tr>\n",
       "    <tr>\n",
       "      <th>11</th>\n",
       "      <td>B</td>\n",
       "      <td>2.5580141534966128</td>\n",
       "    </tr>\n",
       "    <tr>\n",
       "      <th>3</th>\n",
       "      <td>CHAS</td>\n",
       "      <td>2.4395598751548504</td>\n",
       "    </tr>\n",
       "    <tr>\n",
       "      <th>5</th>\n",
       "      <td>RM</td>\n",
       "      <td>14.591352506822624</td>\n",
       "    </tr>\n",
       "    <tr>\n",
       "      <th>2</th>\n",
       "      <td>INDUS</td>\n",
       "      <td>1.6141996129903846</td>\n",
       "    </tr>\n",
       "    <tr>\n",
       "      <th>6</th>\n",
       "      <td>AGE</td>\n",
       "      <td>0.3360121909384357</td>\n",
       "    </tr>\n",
       "    <tr>\n",
       "      <th>10</th>\n",
       "      <td>PTRATIO</td>\n",
       "      <td>-9.451384184058607</td>\n",
       "    </tr>\n",
       "    <tr>\n",
       "      <th>0</th>\n",
       "      <td>CRIM</td>\n",
       "      <td>-7.245609178578958</td>\n",
       "    </tr>\n",
       "    <tr>\n",
       "      <th>9</th>\n",
       "      <td>TAX</td>\n",
       "      <td>-5.91072871694803</td>\n",
       "    </tr>\n",
       "    <tr>\n",
       "      <th>12</th>\n",
       "      <td>LSTAT</td>\n",
       "      <td>-20.614563676453436</td>\n",
       "    </tr>\n",
       "    <tr>\n",
       "      <th>7</th>\n",
       "      <td>DIS</td>\n",
       "      <td>-16.67429358286719</td>\n",
       "    </tr>\n",
       "    <tr>\n",
       "      <th>4</th>\n",
       "      <td>NOX</td>\n",
       "      <td>-10.434402972121894</td>\n",
       "    </tr>\n",
       "  </tbody>\n",
       "</table>\n",
       "</div>"
      ],
      "text/plain": [
       "    feature                 coef\n",
       "8       RAD    7.073460145683998\n",
       "1        ZN    6.078411384243512\n",
       "11        B   2.5580141534966128\n",
       "3      CHAS   2.4395598751548504\n",
       "5        RM   14.591352506822624\n",
       "2     INDUS   1.6141996129903846\n",
       "6       AGE   0.3360121909384357\n",
       "10  PTRATIO   -9.451384184058607\n",
       "0      CRIM   -7.245609178578958\n",
       "9       TAX    -5.91072871694803\n",
       "12    LSTAT  -20.614563676453436\n",
       "7       DIS   -16.67429358286719\n",
       "4       NOX  -10.434402972121894"
      ]
     },
     "execution_count": 95,
     "metadata": {},
     "output_type": "execute_result"
    }
   ],
   "source": [
    "features.sort_values(\"coef\", ascending=False, inplace=True)\n",
    "features"
   ]
  },
  {
   "cell_type": "markdown",
   "metadata": {},
   "source": [
    "# SelectKBest\n",
    "- 가장 높은 score에 따라 k개의 특징을 선택하는 것\n",
    "- chi2 대신에 f-regression 사용해보자"
   ]
  },
  {
   "cell_type": "code",
   "execution_count": 75,
   "metadata": {},
   "outputs": [
    {
     "data": {
      "text/plain": [
       "(150, 4)"
      ]
     },
     "execution_count": 75,
     "metadata": {},
     "output_type": "execute_result"
    }
   ],
   "source": [
    "from sklearn.datasets import load_iris\n",
    "from sklearn.feature_selection import SelectKBest, chi2\n",
    "X, y = load_iris(return_X_y=True)\n",
    "X.shape"
   ]
  },
  {
   "cell_type": "code",
   "execution_count": 80,
   "metadata": {},
   "outputs": [
    {
     "data": {
      "text/plain": [
       "(150, 1)"
      ]
     },
     "execution_count": 80,
     "metadata": {},
     "output_type": "execute_result"
    }
   ],
   "source": [
    "X_new = SelectKBest(chi2, k=1).fit_transform(X, y)\n",
    "X_new.shape"
   ]
  },
  {
   "cell_type": "code",
   "execution_count": 81,
   "metadata": {},
   "outputs": [
    {
     "data": {
      "text/plain": [
       "array([[1.4],\n",
       "       [1.4],\n",
       "       [1.3],\n",
       "       [1.5],\n",
       "       [1.4]])"
      ]
     },
     "execution_count": 81,
     "metadata": {},
     "output_type": "execute_result"
    }
   ],
   "source": [
    "X_new[:5]"
   ]
  },
  {
   "cell_type": "code",
   "execution_count": 78,
   "metadata": {},
   "outputs": [
    {
     "data": {
      "text/plain": [
       "array([[5.1, 3.5, 1.4, 0.2],\n",
       "       [4.9, 3. , 1.4, 0.2],\n",
       "       [4.7, 3.2, 1.3, 0.2],\n",
       "       [4.6, 3.1, 1.5, 0.2],\n",
       "       [5. , 3.6, 1.4, 0.2]])"
      ]
     },
     "execution_count": 78,
     "metadata": {},
     "output_type": "execute_result"
    }
   ],
   "source": [
    "X[:5]"
   ]
  },
  {
   "cell_type": "code",
   "execution_count": 82,
   "metadata": {},
   "outputs": [
    {
     "data": {
      "text/plain": [
       "(1797, 64)"
      ]
     },
     "execution_count": 82,
     "metadata": {},
     "output_type": "execute_result"
    }
   ],
   "source": [
    "from sklearn.datasets import load_digits\n",
    "from sklearn.feature_selection import SelectKBest, chi2\n",
    "\n",
    "X, y = load_digits(return_X_y=True)\n",
    "X.shape"
   ]
  },
  {
   "cell_type": "code",
   "execution_count": 72,
   "metadata": {},
   "outputs": [
    {
     "data": {
      "text/plain": [
       "(1797, 20)"
      ]
     },
     "execution_count": 72,
     "metadata": {},
     "output_type": "execute_result"
    }
   ],
   "source": [
    "X_new = SelectKBest(chi2, k=20).fit_transform(X, y)\n",
    "X_new.shape"
   ]
  },
  {
   "cell_type": "code",
   "execution_count": 74,
   "metadata": {
    "collapsed": true
   },
   "outputs": [
    {
     "data": {
      "text/plain": [
       "array([[ 0.,  0.,  5., 13.,  9.,  1.,  0.,  0.,  0.,  0., 13., 15., 10.,\n",
       "        15.,  5.,  0.,  0.,  3., 15.,  2.,  0., 11.,  8.,  0.,  0.,  4.,\n",
       "        12.,  0.,  0.,  8.,  8.,  0.,  0.,  5.,  8.,  0.,  0.,  9.,  8.,\n",
       "         0.,  0.,  4., 11.,  0.,  1., 12.,  7.,  0.,  0.,  2., 14.,  5.,\n",
       "        10., 12.,  0.,  0.,  0.,  0.,  6., 13., 10.,  0.,  0.,  0.],\n",
       "       [ 0.,  0.,  0., 12., 13.,  5.,  0.,  0.,  0.,  0.,  0., 11., 16.,\n",
       "         9.,  0.,  0.,  0.,  0.,  3., 15., 16.,  6.,  0.,  0.,  0.,  7.,\n",
       "        15., 16., 16.,  2.,  0.,  0.,  0.,  0.,  1., 16., 16.,  3.,  0.,\n",
       "         0.,  0.,  0.,  1., 16., 16.,  6.,  0.,  0.,  0.,  0.,  1., 16.,\n",
       "        16.,  6.,  0.,  0.,  0.,  0.,  0., 11., 16., 10.,  0.,  0.],\n",
       "       [ 0.,  0.,  0.,  4., 15., 12.,  0.,  0.,  0.,  0.,  3., 16., 15.,\n",
       "        14.,  0.,  0.,  0.,  0.,  8., 13.,  8., 16.,  0.,  0.,  0.,  0.,\n",
       "         1.,  6., 15., 11.,  0.,  0.,  0.,  1.,  8., 13., 15.,  1.,  0.,\n",
       "         0.,  0.,  9., 16., 16.,  5.,  0.,  0.,  0.,  0.,  3., 13., 16.,\n",
       "        16., 11.,  5.,  0.,  0.,  0.,  0.,  3., 11., 16.,  9.,  0.],\n",
       "       [ 0.,  0.,  7., 15., 13.,  1.,  0.,  0.,  0.,  8., 13.,  6., 15.,\n",
       "         4.,  0.,  0.,  0.,  2.,  1., 13., 13.,  0.,  0.,  0.,  0.,  0.,\n",
       "         2., 15., 11.,  1.,  0.,  0.,  0.,  0.,  0.,  1., 12., 12.,  1.,\n",
       "         0.,  0.,  0.,  0.,  0.,  1., 10.,  8.,  0.,  0.,  0.,  8.,  4.,\n",
       "         5., 14.,  9.,  0.,  0.,  0.,  7., 13., 13.,  9.,  0.,  0.],\n",
       "       [ 0.,  0.,  0.,  1., 11.,  0.,  0.,  0.,  0.,  0.,  0.,  7.,  8.,\n",
       "         0.,  0.,  0.,  0.,  0.,  1., 13.,  6.,  2.,  2.,  0.,  0.,  0.,\n",
       "         7., 15.,  0.,  9.,  8.,  0.,  0.,  5., 16., 10.,  0., 16.,  6.,\n",
       "         0.,  0.,  4., 15., 16., 13., 16.,  1.,  0.,  0.,  0.,  0.,  3.,\n",
       "        15., 10.,  0.,  0.,  0.,  0.,  0.,  2., 16.,  4.,  0.,  0.]])"
      ]
     },
     "execution_count": 74,
     "metadata": {},
     "output_type": "execute_result"
    }
   ],
   "source": [
    "X[:5]"
   ]
  },
  {
   "cell_type": "markdown",
   "metadata": {},
   "source": [
    "# 평균값 인코딩의 오버피팅 해결\n",
    "- 넘어가자"
   ]
  },
  {
   "cell_type": "code",
   "execution_count": 100,
   "metadata": {},
   "outputs": [],
   "source": [
    "import seaborn as sns\n",
    "titanic = sns.load_dataset(\"titanic\")\n",
    "sex_mean = titanic.groupby(\"sex\")[\"survived\"].mean()\n",
    "titanic['sex_mean'] = titanic['sex'].map(sex_mean) "
   ]
  },
  {
   "cell_type": "code",
   "execution_count": 101,
   "metadata": {},
   "outputs": [
    {
     "data": {
      "text/html": [
       "<div>\n",
       "<style scoped>\n",
       "    .dataframe tbody tr th:only-of-type {\n",
       "        vertical-align: middle;\n",
       "    }\n",
       "\n",
       "    .dataframe tbody tr th {\n",
       "        vertical-align: top;\n",
       "    }\n",
       "\n",
       "    .dataframe thead th {\n",
       "        text-align: right;\n",
       "    }\n",
       "</style>\n",
       "<table border=\"1\" class=\"dataframe\">\n",
       "  <thead>\n",
       "    <tr style=\"text-align: right;\">\n",
       "      <th></th>\n",
       "      <th>sex_mean</th>\n",
       "      <th>sex_mean_smoothing</th>\n",
       "    </tr>\n",
       "  </thead>\n",
       "  <tbody>\n",
       "    <tr>\n",
       "      <th>0</th>\n",
       "      <td>0.188908</td>\n",
       "      <td>0.189144</td>\n",
       "    </tr>\n",
       "    <tr>\n",
       "      <th>1</th>\n",
       "      <td>0.742038</td>\n",
       "      <td>0.741241</td>\n",
       "    </tr>\n",
       "    <tr>\n",
       "      <th>2</th>\n",
       "      <td>0.742038</td>\n",
       "      <td>0.741241</td>\n",
       "    </tr>\n",
       "    <tr>\n",
       "      <th>3</th>\n",
       "      <td>0.742038</td>\n",
       "      <td>0.741241</td>\n",
       "    </tr>\n",
       "    <tr>\n",
       "      <th>4</th>\n",
       "      <td>0.188908</td>\n",
       "      <td>0.189144</td>\n",
       "    </tr>\n",
       "  </tbody>\n",
       "</table>\n",
       "</div>"
      ],
      "text/plain": [
       "   sex_mean  sex_mean_smoothing\n",
       "0  0.188908            0.189144\n",
       "1  0.742038            0.741241\n",
       "2  0.742038            0.741241\n",
       "3  0.742038            0.741241\n",
       "4  0.188908            0.189144"
      ]
     },
     "execution_count": 101,
     "metadata": {},
     "output_type": "execute_result"
    }
   ],
   "source": [
    "titanic['sex_n_rows'] = titanic['sex'].map(titanic.groupby('sex').size())\n",
    "global_mean = titanic[\"survived\"].mean()\n",
    "alpha = 0.7\n",
    "def smoothing(n_rows, target_mean):\n",
    "    return (target_mean*n_rows + global_mean*alpha) / (n_rows + alpha)\n",
    "titanic['sex_mean_smoothing'] = titanic.apply(\n",
    "    lambda x:smoothing(x['sex_n_rows'], \n",
    "                       x['sex_mean']), axis=1)\n",
    "titanic[['sex_mean', 'sex_mean_smoothing']].head()"
   ]
  },
  {
   "cell_type": "code",
   "execution_count": 102,
   "metadata": {},
   "outputs": [
    {
     "name": "stderr",
     "output_type": "stream",
     "text": [
      "<ipython-input-102-ff6e4eeb827a>:24: SettingWithCopyWarning: \n",
      "A value is trying to be set on a copy of a slice from a DataFrame.\n",
      "Try using .loc[row_indexer,col_indexer] = value instead\n",
      "\n",
      "See the caveats in the documentation: https://pandas.pydata.org/pandas-docs/stable/user_guide/indexing.html#returning-a-view-versus-a-copy\n",
      "  X_val['sex_mean'] = means\n"
     ]
    },
    {
     "data": {
      "text/html": [
       "<div>\n",
       "<style scoped>\n",
       "    .dataframe tbody tr th:only-of-type {\n",
       "        vertical-align: middle;\n",
       "    }\n",
       "\n",
       "    .dataframe tbody tr th {\n",
       "        vertical-align: top;\n",
       "    }\n",
       "\n",
       "    .dataframe thead th {\n",
       "        text-align: right;\n",
       "    }\n",
       "</style>\n",
       "<table border=\"1\" class=\"dataframe\">\n",
       "  <thead>\n",
       "    <tr style=\"text-align: right;\">\n",
       "      <th></th>\n",
       "      <th>sex</th>\n",
       "      <th>sex_mean</th>\n",
       "    </tr>\n",
       "  </thead>\n",
       "  <tbody>\n",
       "    <tr>\n",
       "      <th>331</th>\n",
       "      <td>male</td>\n",
       "      <td>0.184987</td>\n",
       "    </tr>\n",
       "    <tr>\n",
       "      <th>733</th>\n",
       "      <td>male</td>\n",
       "      <td>0.193029</td>\n",
       "    </tr>\n",
       "    <tr>\n",
       "      <th>382</th>\n",
       "      <td>male</td>\n",
       "      <td>0.177419</td>\n",
       "    </tr>\n",
       "    <tr>\n",
       "      <th>704</th>\n",
       "      <td>male</td>\n",
       "      <td>0.184000</td>\n",
       "    </tr>\n",
       "    <tr>\n",
       "      <th>813</th>\n",
       "      <td>female</td>\n",
       "      <td>0.751269</td>\n",
       "    </tr>\n",
       "  </tbody>\n",
       "</table>\n",
       "</div>"
      ],
      "text/plain": [
       "        sex  sex_mean\n",
       "331    male  0.184987\n",
       "733    male  0.193029\n",
       "382    male  0.177419\n",
       "704    male  0.184000\n",
       "813  female  0.751269"
      ]
     },
     "execution_count": 102,
     "metadata": {},
     "output_type": "execute_result"
    }
   ],
   "source": [
    "from sklearn.model_selection import train_test_split\n",
    "import numpy as np\n",
    "\n",
    "train, test = train_test_split(titanic, test_size=0.2, \n",
    "                               random_state=42, shuffle=True)\n",
    "\n",
    "# train -> train_new 로 될 예정. 미리 데이터프레임 만들어주기.\n",
    "train_new = train.copy()\n",
    "train_new[:] = np.nan\n",
    "train_new['sex_mean'] = np.nan\n",
    "from sklearn.model_selection import StratifiedKFold\n",
    "\n",
    "# Kfold 만들어 주기.\n",
    "X_train = train.drop(\"survived\", axis=1)\n",
    "Y_train = train[\"survived\"]\n",
    "skf = StratifiedKFold(n_splits=5, shuffle=True, random_state=42)\n",
    "\n",
    "# 각 Fold iteration.\n",
    "for tr_idx, val_idx in skf.split(X_train, Y_train):\n",
    "    X_train, X_val = train.iloc[tr_idx], train.iloc[val_idx]\n",
    "\n",
    "    # train set 에서 구한 mean encoded 값을 validation set 에 매핑해줌.\n",
    "    means = X_val['sex'].map(X_train.groupby('sex')[\"survived\"].mean())\n",
    "    X_val['sex_mean'] = means\n",
    "    train_new.iloc[val_idx] = X_val\n",
    "\n",
    "# 폴드에 속하지못한 데이터들은 글로벌 평균으로 채워주기.\n",
    "global_mean = train[\"survived\"].mean()\n",
    "train_new['sex'] = train_new['sex'].fillna(global_mean)\n",
    "train_new[['sex', 'sex_mean']].head()"
   ]
  },
  {
   "cell_type": "code",
   "execution_count": 103,
   "metadata": {},
   "outputs": [
    {
     "data": {
      "text/plain": [
       "array([[<AxesSubplot:title={'center':'0.0'}>,\n",
       "        <AxesSubplot:title={'center':'1.0'}>]], dtype=object)"
      ]
     },
     "execution_count": 103,
     "metadata": {},
     "output_type": "execute_result"
    },
    {
     "data": {
      "image/png": "[encoded data removed]",
      "text/plain": [
       "<Figure size 432x288 with 2 Axes>"
      ]
     },
     "metadata": {
      "needs_background": "light"
     },
     "output_type": "display_data"
    }
   ],
   "source": [
    "train_new.pivot_table(columns=\"survived\", \n",
    "                      index=train_new.index, \n",
    "                      values='sex_mean').hist(bins=100)"
   ]
  },
  {
   "cell_type": "code",
   "execution_count": 104,
   "metadata": {},
   "outputs": [],
   "source": [
    "cumsum = train.groupby('sex')[\"survived\"].cumsum() - train[\"survived\"] \n",
    "cumcnt = train.groupby('sex').cumcount() + 1 \n",
    "train_new['sex_mean'] = cumsum / cumcnt"
   ]
  },
  {
   "cell_type": "code",
   "execution_count": 105,
   "metadata": {},
   "outputs": [
    {
     "data": {
      "text/html": [
       "<div>\n",
       "<style scoped>\n",
       "    .dataframe tbody tr th:only-of-type {\n",
       "        vertical-align: middle;\n",
       "    }\n",
       "\n",
       "    .dataframe tbody tr th {\n",
       "        vertical-align: top;\n",
       "    }\n",
       "\n",
       "    .dataframe thead th {\n",
       "        text-align: right;\n",
       "    }\n",
       "</style>\n",
       "<table border=\"1\" class=\"dataframe\">\n",
       "  <thead>\n",
       "    <tr style=\"text-align: right;\">\n",
       "      <th></th>\n",
       "      <th>sex</th>\n",
       "      <th>sex_mean</th>\n",
       "    </tr>\n",
       "  </thead>\n",
       "  <tbody>\n",
       "    <tr>\n",
       "      <th>106</th>\n",
       "      <td>female</td>\n",
       "      <td>0.733607</td>\n",
       "    </tr>\n",
       "    <tr>\n",
       "      <th>270</th>\n",
       "      <td>male</td>\n",
       "      <td>0.187097</td>\n",
       "    </tr>\n",
       "    <tr>\n",
       "      <th>860</th>\n",
       "      <td>male</td>\n",
       "      <td>0.186695</td>\n",
       "    </tr>\n",
       "    <tr>\n",
       "      <th>435</th>\n",
       "      <td>female</td>\n",
       "      <td>0.734694</td>\n",
       "    </tr>\n",
       "    <tr>\n",
       "      <th>102</th>\n",
       "      <td>male</td>\n",
       "      <td>0.186296</td>\n",
       "    </tr>\n",
       "  </tbody>\n",
       "</table>\n",
       "</div>"
      ],
      "text/plain": [
       "        sex  sex_mean\n",
       "106  female  0.733607\n",
       "270    male  0.187097\n",
       "860    male  0.186695\n",
       "435  female  0.734694\n",
       "102    male  0.186296"
      ]
     },
     "execution_count": 105,
     "metadata": {},
     "output_type": "execute_result"
    }
   ],
   "source": [
    "train_new[['sex','sex_mean']].tail()"
   ]
  },
  {
   "cell_type": "code",
   "execution_count": 106,
   "metadata": {},
   "outputs": [
    {
     "data": {
      "text/plain": [
       "array([[<AxesSubplot:title={'center':'0.0'}>,\n",
       "        <AxesSubplot:title={'center':'1.0'}>]], dtype=object)"
      ]
     },
     "execution_count": 106,
     "metadata": {},
     "output_type": "execute_result"
    },
    {
     "data": {
      "image/png": "[encoded data removed]",
      "text/plain": [
       "<Figure size 432x288 with 2 Axes>"
      ]
     },
     "metadata": {
      "needs_background": "light"
     },
     "output_type": "display_data"
    }
   ],
   "source": [
    "train_new.pivot_table(columns=\"survived\", \n",
    "                      index=train_new.index, \n",
    "                      values='sex_mean').hist(bins=100)"
   ]
  },
  {
   "cell_type": "code",
   "execution_count": null,
   "metadata": {},
   "outputs": [],
   "source": []
  }
 ],
 "metadata": {
  "kernelspec": {
   "display_name": "Python 3 (ipykernel)",
   "language": "python",
   "name": "python3"
  },
  "language_info": {
   "codemirror_mode": {
    "name": "ipython",
    "version": 3
   },
   "file_extension": ".py",
   "mimetype": "text/x-python",
   "name": "python",
   "nbconvert_exporter": "python",
   "pygments_lexer": "ipython3",
   "version": "3.8.12"
  }
 },
 "nbformat": 4,
 "nbformat_minor": 2
}
