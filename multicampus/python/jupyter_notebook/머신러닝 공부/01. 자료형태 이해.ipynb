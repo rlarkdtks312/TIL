{
 "cells": [
  {
   "cell_type": "code",
   "execution_count": 1,
   "id": "a54385ed",
   "metadata": {},
   "outputs": [],
   "source": [
    "import pandas as pd\n",
    "import numpy as np\n",
    "import matplotlib.pyplot as plt"
   ]
  },
  {
   "cell_type": "code",
   "execution_count": 4,
   "id": "8c46a004",
   "metadata": {},
   "outputs": [],
   "source": [
    "# 범주형 자료 요약-도수분포표\n",
    "drink = pd.read_csv('./drink.csv')"
   ]
  },
  {
   "cell_type": "code",
   "execution_count": 7,
   "id": "3b2467aa",
   "metadata": {},
   "outputs": [
    {
     "data": {
      "text/plain": [
       "0    13\n",
       "1    12\n",
       "Name: Attend, dtype: int64"
      ]
     },
     "execution_count": 7,
     "metadata": {},
     "output_type": "execute_result"
    }
   ],
   "source": [
    "# 도수 계산\n",
    "drink['Attend'].value_counts()"
   ]
  },
  {
   "cell_type": "code",
   "execution_count": 10,
   "id": "2c2bb975",
   "metadata": {},
   "outputs": [
    {
     "name": "stdout",
     "output_type": "stream",
     "text": [
      "도수분포표\n",
      "0    13\n",
      "1    12\n",
      "Name: Attend, dtype: int64\n"
     ]
    }
   ],
   "source": [
    "drink_freq = drink['Attend'].value_counts()\n",
    "print('도수분포표')\n",
    "print(drink_freq)"
   ]
  },
  {
   "cell_type": "code",
   "execution_count": 11,
   "id": "81987286",
   "metadata": {},
   "outputs": [
    {
     "data": {
      "text/html": [
       "<div>\n",
       "<style scoped>\n",
       "    .dataframe tbody tr th:only-of-type {\n",
       "        vertical-align: middle;\n",
       "    }\n",
       "\n",
       "    .dataframe tbody tr th {\n",
       "        vertical-align: top;\n",
       "    }\n",
       "\n",
       "    .dataframe thead th {\n",
       "        text-align: right;\n",
       "    }\n",
       "</style>\n",
       "<table border=\"1\" class=\"dataframe\">\n",
       "  <thead>\n",
       "    <tr style=\"text-align: right;\">\n",
       "      <th></th>\n",
       "      <th>Attend</th>\n",
       "      <th>Name</th>\n",
       "    </tr>\n",
       "  </thead>\n",
       "  <tbody>\n",
       "    <tr>\n",
       "      <th>0</th>\n",
       "      <td>1</td>\n",
       "      <td>A</td>\n",
       "    </tr>\n",
       "    <tr>\n",
       "      <th>2</th>\n",
       "      <td>1</td>\n",
       "      <td>A</td>\n",
       "    </tr>\n",
       "    <tr>\n",
       "      <th>3</th>\n",
       "      <td>1</td>\n",
       "      <td>A</td>\n",
       "    </tr>\n",
       "    <tr>\n",
       "      <th>4</th>\n",
       "      <td>1</td>\n",
       "      <td>A</td>\n",
       "    </tr>\n",
       "    <tr>\n",
       "      <th>5</th>\n",
       "      <td>1</td>\n",
       "      <td>B</td>\n",
       "    </tr>\n",
       "    <tr>\n",
       "      <th>6</th>\n",
       "      <td>1</td>\n",
       "      <td>B</td>\n",
       "    </tr>\n",
       "    <tr>\n",
       "      <th>7</th>\n",
       "      <td>1</td>\n",
       "      <td>B</td>\n",
       "    </tr>\n",
       "    <tr>\n",
       "      <th>12</th>\n",
       "      <td>1</td>\n",
       "      <td>C</td>\n",
       "    </tr>\n",
       "    <tr>\n",
       "      <th>13</th>\n",
       "      <td>1</td>\n",
       "      <td>C</td>\n",
       "    </tr>\n",
       "    <tr>\n",
       "      <th>15</th>\n",
       "      <td>1</td>\n",
       "      <td>D</td>\n",
       "    </tr>\n",
       "    <tr>\n",
       "      <th>19</th>\n",
       "      <td>1</td>\n",
       "      <td>D</td>\n",
       "    </tr>\n",
       "    <tr>\n",
       "      <th>23</th>\n",
       "      <td>1</td>\n",
       "      <td>E</td>\n",
       "    </tr>\n",
       "  </tbody>\n",
       "</table>\n",
       "</div>"
      ],
      "text/plain": [
       "    Attend Name\n",
       "0        1    A\n",
       "2        1    A\n",
       "3        1    A\n",
       "4        1    A\n",
       "5        1    B\n",
       "6        1    B\n",
       "7        1    B\n",
       "12       1    C\n",
       "13       1    C\n",
       "15       1    D\n",
       "19       1    D\n",
       "23       1    E"
      ]
     },
     "execution_count": 11,
     "metadata": {},
     "output_type": "execute_result"
    }
   ],
   "source": [
    "condition = drink['Attend'] == 1\n",
    "drink[condition]"
   ]
  },
  {
   "cell_type": "code",
   "execution_count": 16,
   "id": "31716013",
   "metadata": {},
   "outputs": [
    {
     "data": {
      "text/plain": [
       "A    4\n",
       "B    3\n",
       "C    2\n",
       "D    2\n",
       "E    1\n",
       "Name: Name, dtype: int64"
      ]
     },
     "execution_count": 16,
     "metadata": {},
     "output_type": "execute_result"
    }
   ],
   "source": [
    "drink[drink['Attend'] == 1]['Name'].value_counts()"
   ]
  },
  {
   "cell_type": "code",
   "execution_count": 25,
   "id": "40dd1474",
   "metadata": {},
   "outputs": [],
   "source": [
    "import matplotlib.pyplot as plt"
   ]
  },
  {
   "cell_type": "code",
   "execution_count": 37,
   "id": "3159eed5",
   "metadata": {},
   "outputs": [
    {
     "data": {
      "text/plain": [
       "<BarContainer object of 4 artists>"
      ]
     },
     "execution_count": 37,
     "metadata": {},
     "output_type": "execute_result"
    },
    {
     "data": {
      "image/png": "[encoded data removed]",
      "text/plain": [
       "<Figure size 432x288 with 1 Axes>"
      ]
     },
     "metadata": {
      "needs_background": "light"
     },
     "output_type": "display_data"
    }
   ],
   "source": [
    "# 술자리 참여 횟수\n",
    "labels = ['A','B','C','D']\n",
    "ratio = [4, 3, 2, 1]\n",
    "\n",
    "# 막대 그래프\n",
    "\n",
    "fit, ax = plt.subplots()\n",
    "plt.bar(labels, ratio)"
   ]
  },
  {
   "cell_type": "markdown",
   "id": "2ac2bbee",
   "metadata": {},
   "source": [
    "## 수치형 자료요약"
   ]
  },
  {
   "cell_type": "code",
   "execution_count": 28,
   "id": "9e7b67b4",
   "metadata": {},
   "outputs": [
    {
     "name": "stdout",
     "output_type": "stream",
     "text": [
      "Mean(평균) :  144.12\n"
     ]
    }
   ],
   "source": [
    "coffee = np.array([202,177,121,148,89,121,137,158])\n",
    "\n",
    "# 평균\n",
    "cf_mean = coffee.mean().round(2)\n",
    "\n",
    "# 소수점 둘째자리까지 반올림 하여 출력하세요\n",
    "print(\"Mean(평균) : \", cf_mean)"
   ]
  },
  {
   "cell_type": "markdown",
   "id": "89c63c01",
   "metadata": {},
   "source": [
    "## 수치형 자료 요약 표준편차"
   ]
  },
  {
   "cell_type": "code",
   "execution_count": 31,
   "id": "dc954d1c",
   "metadata": {},
   "outputs": [
    {
     "name": "stdout",
     "output_type": "stream",
     "text": [
      "Standard Deviation(표준편차) :  35.44\n"
     ]
    }
   ],
   "source": [
    "from statistics import stdev\n",
    "import numpy as np\n",
    "\n",
    "# 표준편차\n",
    "cf_std = stdev(coffee)\n",
    "print(\"Standard Deviation(표준편차) : \", round(cf_std,2))"
   ]
  },
  {
   "cell_type": "code",
   "execution_count": 32,
   "id": "c93d802a",
   "metadata": {},
   "outputs": [
    {
     "data": {
      "text/plain": [
       "(array([1., 0., 2., 0., 1., 1., 1., 1., 0., 1.]),\n",
       " array([ 89. , 100.3, 111.6, 122.9, 134.2, 145.5, 156.8, 168.1, 179.4,\n",
       "        190.7, 202. ]),\n",
       " <BarContainer object of 10 artists>)"
      ]
     },
     "execution_count": 32,
     "metadata": {},
     "output_type": "execute_result"
    },
    {
     "data": {
      "image/png": "[encoded data removed]",
      "text/plain": [
       "<Figure size 432x288 with 1 Axes>"
      ]
     },
     "metadata": {
      "needs_background": "light"
     },
     "output_type": "display_data"
    }
   ],
   "source": [
    "# 히스토그램그리는 코드를 작성해 주세요.\n",
    "\n",
    "fit, ax = plt.subplots()\n",
    "plt.hist(coffee)"
   ]
  },
  {
   "cell_type": "code",
   "execution_count": 35,
   "id": "c60f6271",
   "metadata": {},
   "outputs": [
    {
     "data": {
      "text/plain": [
       "(array([3., 3., 2.]),\n",
       " array([ 89.        , 126.66666667, 164.33333333, 202.        ]),\n",
       " <BarContainer object of 3 artists>)"
      ]
     },
     "execution_count": 35,
     "metadata": {},
     "output_type": "execute_result"
    },
    {
     "data": {
      "image/png": "[encoded data removed]",
      "text/plain": [
       "<Figure size 432x288 with 1 Axes>"
      ]
     },
     "metadata": {
      "needs_background": "light"
     },
     "output_type": "display_data"
    }
   ],
   "source": [
    "plt.hist(coffee, bins=3) # 3개의 계급으로 분류"
   ]
  },
  {
   "cell_type": "code",
   "execution_count": null,
   "id": "c3f16de0",
   "metadata": {},
   "outputs": [],
   "source": []
  }
 ],
 "metadata": {
  "kernelspec": {
   "display_name": "Python 3 (ipykernel)",
   "language": "python",
   "name": "python3"
  },
  "language_info": {
   "codemirror_mode": {
    "name": "ipython",
    "version": 3
   },
   "file_extension": ".py",
   "mimetype": "text/x-python",
   "name": "python",
   "nbconvert_exporter": "python",
   "pygments_lexer": "ipython3",
   "version": "3.8.12"
  }
 },
 "nbformat": 4,
 "nbformat_minor": 5
}
