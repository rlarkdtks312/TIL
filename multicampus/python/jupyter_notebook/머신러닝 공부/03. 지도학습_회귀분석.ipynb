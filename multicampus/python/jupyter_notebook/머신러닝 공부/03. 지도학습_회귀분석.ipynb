{
 "cells": [
  {
   "cell_type": "markdown",
   "id": "9be42d5d",
   "metadata": {},
   "source": [
    "## 단순선형회귀 예측"
   ]
  },
  {
   "cell_type": "code",
   "execution_count": 1,
   "id": "20c54331",
   "metadata": {},
   "outputs": [],
   "source": [
    "import pandas as pd\n",
    "import numpy as np\n",
    "import matplotlib.pyplot as plt\n",
    "from sklearn.linear_model import LinearRegression\n",
    "\n",
    "from matplotlib import font_manager, rc\n",
    "font_path = \"C:/Windows/Fonts/NGULIM.TTF\"\n",
    "font = font_manager.FontProperties(fname=font_path).get_name()\n",
    "rc('font', family=font)"
   ]
  },
  {
   "cell_type": "code",
   "execution_count": 2,
   "id": "450fc56e",
   "metadata": {},
   "outputs": [],
   "source": [
    "X = [8.70153760, 3.90825773, 1.89362433, 3.28730045, 7.39333004, 2.98984649, 2.25757240, 9.84450732, 9.94589513, 5.48321616]\n",
    "Y = [5.64413093, 3.75876583, 3.87233310, 4.40990425, 6.43845020, 4.02827829, 2.26105955, 7.15768995, 6.29097441, 5.19692852]"
   ]
  },
  {
   "cell_type": "code",
   "execution_count": 3,
   "id": "2eaebf97",
   "metadata": {},
   "outputs": [
    {
     "name": "stdout",
     "output_type": "stream",
     "text": [
      "전 처리한 X 데이터: \n",
      "           X\n",
      "0  8.701538\n",
      "1  3.908258\n",
      "2  1.893624\n",
      "3  3.287300\n",
      "4  7.393330\n",
      "5  2.989846\n",
      "6  2.257572\n",
      "7  9.844507\n",
      "8  9.945895\n",
      "9  5.483216\n",
      "전 처리한 X 데이터 shape: (10, 1)\n",
      "\n",
      "전 처리한 Y 데이터: \n",
      " 0    5.644131\n",
      "1    3.758766\n",
      "2    3.872333\n",
      "3    4.409904\n",
      "4    6.438450\n",
      "5    4.028278\n",
      "6    2.261060\n",
      "7    7.157690\n",
      "8    6.290974\n",
      "9    5.196929\n",
      "dtype: float64\n",
      "전 처리한 Y 데이터 shape: (10,)\n"
     ]
    }
   ],
   "source": [
    "\"\"\"\n",
    "1. X의 형태를 변환하여 train_X에 저장합니다.\n",
    "\"\"\"\n",
    "train_X = pd.DataFrame(X, columns=['X'])\n",
    "\n",
    "\"\"\"\n",
    "2. Y의 형태를 변환하여 train_Y에 저장합니다.\n",
    "\"\"\"\n",
    "train_Y = pd.Series(Y)\n",
    "\n",
    "# 변환된 데이터를 출력합니다.\n",
    "print('전 처리한 X 데이터: \\n {}'.format(train_X))\n",
    "print('전 처리한 X 데이터 shape: {}\\n'.format(train_X.shape))\n",
    "\n",
    "print('전 처리한 Y 데이터: \\n {}'.format(train_Y))\n",
    "print('전 처리한 Y 데이터 shape: {}'.format(train_Y.shape))\n"
   ]
  },
  {
   "cell_type": "code",
   "execution_count": 4,
   "id": "1cee3542",
   "metadata": {},
   "outputs": [
    {
     "data": {
      "text/plain": [
       "LinearRegression()"
      ]
     },
     "execution_count": 4,
     "metadata": {},
     "output_type": "execute_result"
    }
   ],
   "source": [
    "# 모델 초기화\n",
    "\n",
    "lrmodel = LinearRegression()\n",
    "\n",
    "# train data, test data 구분, train data로 학습\n",
    "\n",
    "lrmodel.fit(train_X, train_Y)"
   ]
  },
  {
   "cell_type": "code",
   "execution_count": 5,
   "id": "32bea5cc",
   "metadata": {},
   "outputs": [
    {
     "data": {
      "image/png": "[encoded data removed]",
      "text/plain": [
       "<Figure size 432x288 with 1 Axes>"
      ]
     },
     "metadata": {
      "needs_background": "light"
     },
     "output_type": "display_data"
    }
   ],
   "source": [
    "# 학습한 결과 시각화\n",
    "\n",
    "plt.scatter(X,Y)\n",
    "plt.plot([0,10],[lrmodel.intercept_, 10*lrmodel.coef_[0]+lrmodel.intercept_], c='r')\n",
    "plt.xlim(0,10)\n",
    "plt.ylim(0,10)\n",
    "plt.title(\"선형 회귀 분석 결과\")\n",
    "plt.savefig('linear_regression.png')\n",
    "plt.show()"
   ]
  },
  {
   "cell_type": "code",
   "execution_count": 6,
   "id": "05623d78",
   "metadata": {},
   "outputs": [
    {
     "data": {
      "text/plain": [
       "array([0.43078118])"
      ]
     },
     "execution_count": 6,
     "metadata": {},
     "output_type": "execute_result"
    }
   ],
   "source": [
    "lrmodel.coef_ # 계수값"
   ]
  },
  {
   "cell_type": "code",
   "execution_count": 7,
   "id": "fa8a9603",
   "metadata": {},
   "outputs": [
    {
     "data": {
      "text/plain": [
       "0.4307811787648283"
      ]
     },
     "execution_count": 7,
     "metadata": {},
     "output_type": "execute_result"
    }
   ],
   "source": [
    "lrmodel.coef_[0]"
   ]
  },
  {
   "cell_type": "code",
   "execution_count": 8,
   "id": "64e61324",
   "metadata": {},
   "outputs": [
    {
     "data": {
      "text/plain": [
       "2.5061811708934925"
      ]
     },
     "execution_count": 8,
     "metadata": {},
     "output_type": "execute_result"
    }
   ],
   "source": [
    "lrmodel.intercept_ # beta 값, 상수"
   ]
  },
  {
   "cell_type": "code",
   "execution_count": 9,
   "id": "6b325908",
   "metadata": {},
   "outputs": [
    {
     "name": "stdout",
     "output_type": "stream",
     "text": [
      "2.5061811708934925\n",
      "0.4307811787648283\n"
     ]
    }
   ],
   "source": [
    "beta_0 = lrmodel.intercept_ # beta 값, 상수(bias)\n",
    "beta_1 = lrmodel.coef_[0]   # 계수값(weight)\n",
    "print(beta_0)\n",
    "print(beta_1)"
   ]
  },
  {
   "cell_type": "code",
   "execution_count": 10,
   "id": "59f208a6",
   "metadata": {},
   "outputs": [
    {
     "name": "stdout",
     "output_type": "stream",
     "text": [
      "train_X 예측값:\n",
      "[6.2546398  4.18978504 3.32191889 3.92228833 5.6910886  3.79415077\n",
      " 3.47870087 6.74700964 6.7906856  4.86824749]\n",
      "\n",
      "실제값:\n",
      "0    5.644131\n",
      "1    3.758766\n",
      "2    3.872333\n",
      "3    4.409904\n",
      "4    6.438450\n",
      "5    4.028278\n",
      "6    2.261060\n",
      "7    7.157690\n",
      "8    6.290974\n",
      "9    5.196929\n",
      "dtype: float64\n"
     ]
    }
   ],
   "source": [
    "pred_X = lrmodel.predict(train_X)\n",
    "\n",
    "print(\"train_X 예측값:\\n{}\\n\".format(pred_X))\n",
    "print(\"실제값:\\n{}\".format(train_Y))"
   ]
  },
  {
   "cell_type": "markdown",
   "id": "99a96b1d",
   "metadata": {},
   "source": [
    "## 다중선형회귀_데이터 전처리"
   ]
  },
  {
   "cell_type": "code",
   "execution_count": 13,
   "id": "f819bbb6",
   "metadata": {},
   "outputs": [],
   "source": [
    "import numpy as np\n",
    "import pandas as pd\n",
    "from sklearn.linear_model import LinearRegression\n",
    "from sklearn.metrics import r2_score\n",
    "from sklearn.model_selection import train_test_split"
   ]
  },
  {
   "cell_type": "code",
   "execution_count": 15,
   "id": "0c1dca79",
   "metadata": {},
   "outputs": [
    {
     "data": {
      "text/html": [
       "<div>\n",
       "<style scoped>\n",
       "    .dataframe tbody tr th:only-of-type {\n",
       "        vertical-align: middle;\n",
       "    }\n",
       "\n",
       "    .dataframe tbody tr th {\n",
       "        vertical-align: top;\n",
       "    }\n",
       "\n",
       "    .dataframe thead th {\n",
       "        text-align: right;\n",
       "    }\n",
       "</style>\n",
       "<table border=\"1\" class=\"dataframe\">\n",
       "  <thead>\n",
       "    <tr style=\"text-align: right;\">\n",
       "      <th></th>\n",
       "      <th>Unnamed: 0</th>\n",
       "      <th>FB</th>\n",
       "      <th>TV</th>\n",
       "      <th>Newspaper</th>\n",
       "      <th>Sales</th>\n",
       "    </tr>\n",
       "  </thead>\n",
       "  <tbody>\n",
       "    <tr>\n",
       "      <th>0</th>\n",
       "      <td>1</td>\n",
       "      <td>230.1</td>\n",
       "      <td>37.8</td>\n",
       "      <td>69.2</td>\n",
       "      <td>22.1</td>\n",
       "    </tr>\n",
       "    <tr>\n",
       "      <th>1</th>\n",
       "      <td>2</td>\n",
       "      <td>44.5</td>\n",
       "      <td>39.3</td>\n",
       "      <td>45.1</td>\n",
       "      <td>10.4</td>\n",
       "    </tr>\n",
       "    <tr>\n",
       "      <th>2</th>\n",
       "      <td>3</td>\n",
       "      <td>17.2</td>\n",
       "      <td>45.9</td>\n",
       "      <td>69.3</td>\n",
       "      <td>9.3</td>\n",
       "    </tr>\n",
       "    <tr>\n",
       "      <th>3</th>\n",
       "      <td>4</td>\n",
       "      <td>151.5</td>\n",
       "      <td>41.3</td>\n",
       "      <td>58.5</td>\n",
       "      <td>18.5</td>\n",
       "    </tr>\n",
       "    <tr>\n",
       "      <th>4</th>\n",
       "      <td>5</td>\n",
       "      <td>180.8</td>\n",
       "      <td>10.8</td>\n",
       "      <td>58.4</td>\n",
       "      <td>12.9</td>\n",
       "    </tr>\n",
       "    <tr>\n",
       "      <th>...</th>\n",
       "      <td>...</td>\n",
       "      <td>...</td>\n",
       "      <td>...</td>\n",
       "      <td>...</td>\n",
       "      <td>...</td>\n",
       "    </tr>\n",
       "    <tr>\n",
       "      <th>195</th>\n",
       "      <td>196</td>\n",
       "      <td>38.2</td>\n",
       "      <td>3.7</td>\n",
       "      <td>13.8</td>\n",
       "      <td>7.6</td>\n",
       "    </tr>\n",
       "    <tr>\n",
       "      <th>196</th>\n",
       "      <td>197</td>\n",
       "      <td>94.2</td>\n",
       "      <td>4.9</td>\n",
       "      <td>8.1</td>\n",
       "      <td>9.7</td>\n",
       "    </tr>\n",
       "    <tr>\n",
       "      <th>197</th>\n",
       "      <td>198</td>\n",
       "      <td>177.0</td>\n",
       "      <td>9.3</td>\n",
       "      <td>6.4</td>\n",
       "      <td>12.8</td>\n",
       "    </tr>\n",
       "    <tr>\n",
       "      <th>198</th>\n",
       "      <td>199</td>\n",
       "      <td>283.6</td>\n",
       "      <td>42.0</td>\n",
       "      <td>66.2</td>\n",
       "      <td>25.5</td>\n",
       "    </tr>\n",
       "    <tr>\n",
       "      <th>199</th>\n",
       "      <td>200</td>\n",
       "      <td>232.1</td>\n",
       "      <td>8.6</td>\n",
       "      <td>8.7</td>\n",
       "      <td>13.4</td>\n",
       "    </tr>\n",
       "  </tbody>\n",
       "</table>\n",
       "<p>200 rows × 5 columns</p>\n",
       "</div>"
      ],
      "text/plain": [
       "     Unnamed: 0     FB    TV  Newspaper  Sales\n",
       "0             1  230.1  37.8       69.2   22.1\n",
       "1             2   44.5  39.3       45.1   10.4\n",
       "2             3   17.2  45.9       69.3    9.3\n",
       "3             4  151.5  41.3       58.5   18.5\n",
       "4             5  180.8  10.8       58.4   12.9\n",
       "..          ...    ...   ...        ...    ...\n",
       "195         196   38.2   3.7       13.8    7.6\n",
       "196         197   94.2   4.9        8.1    9.7\n",
       "197         198  177.0   9.3        6.4   12.8\n",
       "198         199  283.6  42.0       66.2   25.5\n",
       "199         200  232.1   8.6        8.7   13.4\n",
       "\n",
       "[200 rows x 5 columns]"
      ]
     },
     "execution_count": 15,
     "metadata": {},
     "output_type": "execute_result"
    }
   ],
   "source": [
    "df = pd.read_csv('./Advertising.csv')\n",
    "df"
   ]
  },
  {
   "cell_type": "code",
   "execution_count": 16,
   "id": "3f8da31f",
   "metadata": {},
   "outputs": [
    {
     "data": {
      "text/html": [
       "<div>\n",
       "<style scoped>\n",
       "    .dataframe tbody tr th:only-of-type {\n",
       "        vertical-align: middle;\n",
       "    }\n",
       "\n",
       "    .dataframe tbody tr th {\n",
       "        vertical-align: top;\n",
       "    }\n",
       "\n",
       "    .dataframe thead th {\n",
       "        text-align: right;\n",
       "    }\n",
       "</style>\n",
       "<table border=\"1\" class=\"dataframe\">\n",
       "  <thead>\n",
       "    <tr style=\"text-align: right;\">\n",
       "      <th></th>\n",
       "      <th>FB</th>\n",
       "      <th>TV</th>\n",
       "      <th>Newspaper</th>\n",
       "      <th>Sales</th>\n",
       "    </tr>\n",
       "  </thead>\n",
       "  <tbody>\n",
       "    <tr>\n",
       "      <th>0</th>\n",
       "      <td>230.1</td>\n",
       "      <td>37.8</td>\n",
       "      <td>69.2</td>\n",
       "      <td>22.1</td>\n",
       "    </tr>\n",
       "    <tr>\n",
       "      <th>1</th>\n",
       "      <td>44.5</td>\n",
       "      <td>39.3</td>\n",
       "      <td>45.1</td>\n",
       "      <td>10.4</td>\n",
       "    </tr>\n",
       "    <tr>\n",
       "      <th>2</th>\n",
       "      <td>17.2</td>\n",
       "      <td>45.9</td>\n",
       "      <td>69.3</td>\n",
       "      <td>9.3</td>\n",
       "    </tr>\n",
       "    <tr>\n",
       "      <th>3</th>\n",
       "      <td>151.5</td>\n",
       "      <td>41.3</td>\n",
       "      <td>58.5</td>\n",
       "      <td>18.5</td>\n",
       "    </tr>\n",
       "    <tr>\n",
       "      <th>4</th>\n",
       "      <td>180.8</td>\n",
       "      <td>10.8</td>\n",
       "      <td>58.4</td>\n",
       "      <td>12.9</td>\n",
       "    </tr>\n",
       "  </tbody>\n",
       "</table>\n",
       "</div>"
      ],
      "text/plain": [
       "      FB    TV  Newspaper  Sales\n",
       "0  230.1  37.8       69.2   22.1\n",
       "1   44.5  39.3       45.1   10.4\n",
       "2   17.2  45.9       69.3    9.3\n",
       "3  151.5  41.3       58.5   18.5\n",
       "4  180.8  10.8       58.4   12.9"
      ]
     },
     "execution_count": 16,
     "metadata": {},
     "output_type": "execute_result"
    }
   ],
   "source": [
    "df = df.drop(columns=['Unnamed: 0'])\n",
    "df.head()"
   ]
  },
  {
   "cell_type": "code",
   "execution_count": 18,
   "id": "1dd20c53",
   "metadata": {},
   "outputs": [
    {
     "name": "stdout",
     "output_type": "stream",
     "text": [
      "        FB    TV  Newspaper\n",
      "0    230.1  37.8       69.2\n",
      "1     44.5  39.3       45.1\n",
      "2     17.2  45.9       69.3\n",
      "3    151.5  41.3       58.5\n",
      "4    180.8  10.8       58.4\n",
      "..     ...   ...        ...\n",
      "195   38.2   3.7       13.8\n",
      "196   94.2   4.9        8.1\n",
      "197  177.0   9.3        6.4\n",
      "198  283.6  42.0       66.2\n",
      "199  232.1   8.6        8.7\n",
      "\n",
      "[200 rows x 3 columns]\n",
      "0      22.1\n",
      "1      10.4\n",
      "2       9.3\n",
      "3      18.5\n",
      "4      12.9\n",
      "       ... \n",
      "195     7.6\n",
      "196     9.7\n",
      "197    12.8\n",
      "198    25.5\n",
      "199    13.4\n",
      "Name: Sales, Length: 200, dtype: float64\n"
     ]
    }
   ],
   "source": [
    "\"\"\"\n",
    "1. Sales 변수는 label 데이터로 Y에 저장하고 나머진 X에 저장합니다.\n",
    "\"\"\"\n",
    "X = df.drop(columns=['Sales'])\n",
    "Y = df['Sales']\n",
    "print(X)\n",
    "print(Y)"
   ]
  },
  {
   "cell_type": "code",
   "execution_count": 19,
   "id": "a0b13d4b",
   "metadata": {},
   "outputs": [],
   "source": [
    "# 학습용, 데스트 셋 분리\n",
    "\n",
    "train_X, test_X, train_Y, test_Y = train_test_split(X, Y, test_size=0.2, random_state=42)"
   ]
  },
  {
   "cell_type": "code",
   "execution_count": 21,
   "id": "61f1ab2b",
   "metadata": {},
   "outputs": [
    {
     "name": "stdout",
     "output_type": "stream",
     "text": [
      "        FB    TV  Newspaper\n",
      "79   116.0   7.7       23.1\n",
      "197  177.0   9.3        6.4\n",
      "38    43.1  26.7       35.1\n",
      "24    62.3  12.6       18.3\n",
      "122  224.0   2.4       15.6\n",
      "..     ...   ...        ...\n",
      "106   25.0  11.0       29.7\n",
      "14   204.1  32.9       46.0\n",
      "92   217.7  33.5       59.0\n",
      "179  165.6  10.0       17.6\n",
      "102  280.2  10.1       21.4\n",
      "\n",
      "[160 rows x 3 columns]\n",
      "        FB    TV  Newspaper\n",
      "95   163.3  31.6       52.9\n",
      "15   195.4  47.7       52.9\n",
      "30   292.9  28.3       43.2\n",
      "158   11.7  36.9       45.2\n",
      "128  220.3  49.0        3.2\n",
      "115   75.1  35.0       52.7\n",
      "69   216.8  43.9       27.2\n",
      "170   50.0  11.6       18.4\n",
      "174  222.4   3.4       13.1\n",
      "45   175.1  22.5       31.5\n",
      "66    31.5  24.6        2.2\n",
      "182   56.2   5.7       29.7\n",
      "165  234.5   3.4       84.8\n",
      "78     5.4  29.9        9.4\n",
      "186  139.5   2.1       26.6\n",
      "177  170.2   7.8       35.2\n",
      "56     7.3  28.1       41.4\n",
      "152  197.6  23.3       14.2\n",
      "82    75.3  20.3       32.5\n",
      "68   237.4  27.5       11.0\n",
      "124  229.5  32.3       74.2\n",
      "16    67.8  36.6      114.0\n",
      "148   38.0  40.3       11.9\n",
      "93   250.9  36.5       72.3\n",
      "65    69.0   9.3        0.9\n",
      "60    53.5   2.0       21.4\n",
      "84   213.5  43.0       33.8\n",
      "67   139.3  14.5       10.2\n",
      "125   87.2  11.8       25.9\n",
      "132    8.4  27.2        2.1\n",
      "9    199.8   2.6       21.2\n",
      "18    69.2  20.5       18.3\n",
      "55   198.9  49.4       60.0\n",
      "75    16.9  43.7       89.4\n",
      "150  280.7  13.9       37.0\n",
      "104  238.2  34.3        5.3\n",
      "135   48.3  47.0        8.5\n",
      "137  273.7  28.9       59.7\n",
      "164  117.2  14.7        5.4\n",
      "76    27.5   1.6       20.7\n",
      "79     11.0\n",
      "197    12.8\n",
      "38     10.1\n",
      "24      9.7\n",
      "122    11.6\n",
      "       ... \n",
      "106     7.2\n",
      "14     19.0\n",
      "92     19.4\n",
      "179    12.6\n",
      "102    14.8\n",
      "Name: Sales, Length: 160, dtype: float64\n",
      "95     16.9\n",
      "15     22.4\n",
      "30     21.4\n",
      "158     7.3\n",
      "128    24.7\n",
      "115    12.6\n",
      "69     22.3\n",
      "170     8.4\n",
      "174    11.5\n",
      "45     14.9\n",
      "66      9.5\n",
      "182     8.7\n",
      "165    11.9\n",
      "78      5.3\n",
      "186    10.3\n",
      "177    11.7\n",
      "56      5.5\n",
      "152    16.6\n",
      "82     11.3\n",
      "68     18.9\n",
      "124    19.7\n",
      "16     12.5\n",
      "148    10.9\n",
      "93     22.2\n",
      "65      9.3\n",
      "60      8.1\n",
      "84     21.7\n",
      "67     13.4\n",
      "125    10.6\n",
      "132     5.7\n",
      "9      10.6\n",
      "18     11.3\n",
      "55     23.7\n",
      "75      8.7\n",
      "150    16.1\n",
      "104    20.7\n",
      "135    11.6\n",
      "137    20.8\n",
      "164    11.9\n",
      "76      6.9\n",
      "Name: Sales, dtype: float64\n"
     ]
    }
   ],
   "source": [
    "print(train_X)\n",
    "print(test_X)\n",
    "print(train_Y)\n",
    "print(test_Y)"
   ]
  },
  {
   "cell_type": "code",
   "execution_count": 22,
   "id": "d653bbff",
   "metadata": {},
   "outputs": [
    {
     "data": {
      "text/plain": [
       "LinearRegression()"
      ]
     },
     "execution_count": 22,
     "metadata": {},
     "output_type": "execute_result"
    }
   ],
   "source": [
    "# 학습\n",
    "\n",
    "lrmodel = LinearRegression()\n",
    "lrmodel.fit(train_X, train_Y)"
   ]
  },
  {
   "cell_type": "code",
   "execution_count": 23,
   "id": "283f7227",
   "metadata": {},
   "outputs": [
    {
     "name": "stdout",
     "output_type": "stream",
     "text": [
      "2.979067338122629\n",
      "0.044729517468716326\n",
      "0.18919505423437658\n",
      "0.002761114341367179\n"
     ]
    }
   ],
   "source": [
    "# 학습된 파라미터 값을 불러옴\n",
    "\n",
    "# y절편 기본판매량\n",
    "beta_0 = lrmodel.intercept_\n",
    "\n",
    "# 1번째 변수에 대한 개수(coefficient) (FB: face book 광고)\n",
    "beta_1 = lrmodel.coef_[0]\n",
    "# TV\n",
    "beta_2 = lrmodel.coef_[1]\n",
    "# newspaper\n",
    "beta_3 = lrmodel.coef_[2]\n",
    "\n",
    "print(beta_0)\n",
    "print(beta_1)\n",
    "print(beta_2)\n",
    "print(beta_3)"
   ]
  },
  {
   "cell_type": "code",
   "execution_count": 24,
   "id": "25855cf6",
   "metadata": {},
   "outputs": [
    {
     "name": "stdout",
     "output_type": "stream",
     "text": [
      "        FB    TV  Newspaper\n",
      "95   163.3  31.6       52.9\n",
      "15   195.4  47.7       52.9\n",
      "30   292.9  28.3       43.2\n",
      "158   11.7  36.9       45.2\n",
      "128  220.3  49.0        3.2\n",
      "115   75.1  35.0       52.7\n",
      "69   216.8  43.9       27.2\n",
      "170   50.0  11.6       18.4\n",
      "174  222.4   3.4       13.1\n",
      "45   175.1  22.5       31.5\n",
      "66    31.5  24.6        2.2\n",
      "182   56.2   5.7       29.7\n",
      "165  234.5   3.4       84.8\n",
      "78     5.4  29.9        9.4\n",
      "186  139.5   2.1       26.6\n",
      "177  170.2   7.8       35.2\n",
      "56     7.3  28.1       41.4\n",
      "152  197.6  23.3       14.2\n",
      "82    75.3  20.3       32.5\n",
      "68   237.4  27.5       11.0\n",
      "124  229.5  32.3       74.2\n",
      "16    67.8  36.6      114.0\n",
      "148   38.0  40.3       11.9\n",
      "93   250.9  36.5       72.3\n",
      "65    69.0   9.3        0.9\n",
      "60    53.5   2.0       21.4\n",
      "84   213.5  43.0       33.8\n",
      "67   139.3  14.5       10.2\n",
      "125   87.2  11.8       25.9\n",
      "132    8.4  27.2        2.1\n",
      "9    199.8   2.6       21.2\n",
      "18    69.2  20.5       18.3\n",
      "55   198.9  49.4       60.0\n",
      "75    16.9  43.7       89.4\n",
      "150  280.7  13.9       37.0\n",
      "104  238.2  34.3        5.3\n",
      "135   48.3  47.0        8.5\n",
      "137  273.7  28.9       59.7\n",
      "164  117.2  14.7        5.4\n",
      "76    27.5   1.6       20.7\n"
     ]
    }
   ],
   "source": [
    "print(test_X)"
   ]
  },
  {
   "cell_type": "code",
   "execution_count": 25,
   "id": "b2cf5f6a",
   "metadata": {},
   "outputs": [],
   "source": [
    "pred_X = lrmodel.predict(test_X)"
   ]
  },
  {
   "cell_type": "code",
   "execution_count": 26,
   "id": "9a334069",
   "metadata": {},
   "outputs": [
    {
     "data": {
      "text/plain": [
       "array([16.4080242 , 20.88988209, 21.55384318, 10.60850256, 22.11237326,\n",
       "       13.10559172, 21.05719192,  7.46101034, 13.60634581, 15.15506967,\n",
       "        9.04831992,  6.65328312, 14.34554487,  8.90349333,  9.68959028,\n",
       "       12.16494386,  8.73628397, 16.26507258, 10.27759582, 18.83109103,\n",
       "       19.56036653, 13.25103464, 12.33620695, 21.30695132,  7.82740305,\n",
       "        5.80957448, 20.75753231, 11.98138077,  9.18349576,  8.5066991 ,\n",
       "       12.46646769, 10.00337695, 21.3876709 , 12.24966368, 18.26661538,\n",
       "       20.13766267, 14.05514005, 20.85411186, 11.0174441 ,  4.56899622])"
      ]
     },
     "execution_count": 26,
     "metadata": {},
     "output_type": "execute_result"
    }
   ],
   "source": [
    "pred_X"
   ]
  },
  {
   "cell_type": "code",
   "execution_count": 29,
   "id": "6d0191c3",
   "metadata": {},
   "outputs": [
    {
     "data": {
      "text/html": [
       "<div>\n",
       "<style scoped>\n",
       "    .dataframe tbody tr th:only-of-type {\n",
       "        vertical-align: middle;\n",
       "    }\n",
       "\n",
       "    .dataframe tbody tr th {\n",
       "        vertical-align: top;\n",
       "    }\n",
       "\n",
       "    .dataframe thead th {\n",
       "        text-align: right;\n",
       "    }\n",
       "</style>\n",
       "<table border=\"1\" class=\"dataframe\">\n",
       "  <thead>\n",
       "    <tr style=\"text-align: right;\">\n",
       "      <th></th>\n",
       "      <th>FB</th>\n",
       "      <th>TV</th>\n",
       "      <th>Newspaper</th>\n",
       "    </tr>\n",
       "  </thead>\n",
       "  <tbody>\n",
       "    <tr>\n",
       "      <th>0</th>\n",
       "      <td>0</td>\n",
       "      <td>0</td>\n",
       "      <td>0</td>\n",
       "    </tr>\n",
       "    <tr>\n",
       "      <th>1</th>\n",
       "      <td>1</td>\n",
       "      <td>0</td>\n",
       "      <td>0</td>\n",
       "    </tr>\n",
       "    <tr>\n",
       "      <th>2</th>\n",
       "      <td>0</td>\n",
       "      <td>1</td>\n",
       "      <td>0</td>\n",
       "    </tr>\n",
       "    <tr>\n",
       "      <th>3</th>\n",
       "      <td>0</td>\n",
       "      <td>0</td>\n",
       "      <td>1</td>\n",
       "    </tr>\n",
       "    <tr>\n",
       "      <th>4</th>\n",
       "      <td>1</td>\n",
       "      <td>1</td>\n",
       "      <td>1</td>\n",
       "    </tr>\n",
       "  </tbody>\n",
       "</table>\n",
       "</div>"
      ],
      "text/plain": [
       "   FB  TV  Newspaper\n",
       "0   0   0          0\n",
       "1   1   0          0\n",
       "2   0   1          0\n",
       "3   0   0          1\n",
       "4   1   1          1"
      ]
     },
     "execution_count": 29,
     "metadata": {},
     "output_type": "execute_result"
    }
   ],
   "source": [
    "df1 = pd.DataFrame(np.array([[0,0,0],[1,0,0],[0,1,0],[0,0,1],[1,1,1]]), columns=['FB', 'TV', 'Newspaper'])\n",
    "df1"
   ]
  },
  {
   "cell_type": "code",
   "execution_count": 37,
   "id": "fe968b8b",
   "metadata": {},
   "outputs": [
    {
     "data": {
      "text/plain": [
       "array([2.97906734, 3.02379686, 3.16826239, 2.98182845, 3.21575302])"
      ]
     },
     "execution_count": 37,
     "metadata": {},
     "output_type": "execute_result"
    }
   ],
   "source": [
    "lrmodel.predict(df1)"
   ]
  },
  {
   "cell_type": "markdown",
   "id": "bed5996d",
   "metadata": {},
   "source": [
    "## 회귀 알고리즘 평가지표_mse, mae"
   ]
  },
  {
   "cell_type": "code",
   "execution_count": 38,
   "id": "dc6b8faf",
   "metadata": {},
   "outputs": [],
   "source": [
    "from sklearn.metrics import mean_squared_error \n",
    "from sklearn.metrics import mean_absolute_error"
   ]
  },
  {
   "cell_type": "code",
   "execution_count": 55,
   "id": "b47755f6",
   "metadata": {},
   "outputs": [],
   "source": [
    "pred_train = lrmodel.predict(train_X)\n",
    "pred_test = lrmodel.predict(test_X)"
   ]
  },
  {
   "cell_type": "code",
   "execution_count": 56,
   "id": "8c68658d",
   "metadata": {},
   "outputs": [
    {
     "name": "stdout",
     "output_type": "stream",
     "text": [
      "MSE_train : 2.705129\n",
      "MAE_train : 1.198468\n"
     ]
    }
   ],
   "source": [
    "# train_X, mse, mae 계산\n",
    "\n",
    "MSE_train = mean_squared_error(train_Y, pred_train)\n",
    "MAE_train = mean_absolute_error(train_Y, pred_train)\n",
    "print('MSE_train : %f' % MSE_train)\n",
    "print('MAE_train : %f' % MAE_train)"
   ]
  },
  {
   "cell_type": "code",
   "execution_count": 57,
   "id": "130f0d16",
   "metadata": {},
   "outputs": [
    {
     "name": "stdout",
     "output_type": "stream",
     "text": [
      "MSE_test : 3.174097\n",
      "MAE_test : 1.460757\n"
     ]
    }
   ],
   "source": [
    "# test 데이터에 대하여 mse, mae 계산\n",
    "\n",
    "MSE_test = mean_squared_error(test_Y, pred_test)\n",
    "MAE_test = mean_absolute_error(test_Y, pred_test)\n",
    "print('MSE_test : %f' % MSE_test)\n",
    "print('MAE_test : %f' % MAE_test)"
   ]
  },
  {
   "cell_type": "code",
   "execution_count": 63,
   "id": "48e10585",
   "metadata": {},
   "outputs": [
    {
     "name": "stdout",
     "output_type": "stream",
     "text": [
      "R2_train:0.895701\n"
     ]
    }
   ],
   "source": [
    "# train_X 결정계수(R2)\n",
    "\n",
    "R2_train = r2_score(train_Y, pred_train)\n",
    "print('R2_train:%f'%R2_train)"
   ]
  },
  {
   "cell_type": "code",
   "execution_count": 59,
   "id": "1c3f6462",
   "metadata": {},
   "outputs": [
    {
     "data": {
      "text/plain": [
       "array([16.4080242 , 20.88988209, 21.55384318, 10.60850256, 22.11237326,\n",
       "       13.10559172, 21.05719192,  7.46101034, 13.60634581, 15.15506967,\n",
       "        9.04831992,  6.65328312, 14.34554487,  8.90349333,  9.68959028,\n",
       "       12.16494386,  8.73628397, 16.26507258, 10.27759582, 18.83109103,\n",
       "       19.56036653, 13.25103464, 12.33620695, 21.30695132,  7.82740305,\n",
       "        5.80957448, 20.75753231, 11.98138077,  9.18349576,  8.5066991 ,\n",
       "       12.46646769, 10.00337695, 21.3876709 , 12.24966368, 18.26661538,\n",
       "       20.13766267, 14.05514005, 20.85411186, 11.0174441 ,  4.56899622])"
      ]
     },
     "execution_count": 59,
     "metadata": {},
     "output_type": "execute_result"
    }
   ],
   "source": [
    "# test_X 예측값 계산\n",
    "lrmodel.predict(test_X)"
   ]
  },
  {
   "cell_type": "code",
   "execution_count": 65,
   "id": "338ed37d",
   "metadata": {},
   "outputs": [],
   "source": [
    "pred_test = lrmodel.predict(test_X)"
   ]
  },
  {
   "cell_type": "code",
   "execution_count": 67,
   "id": "076fbe7a",
   "metadata": {},
   "outputs": [
    {
     "name": "stdout",
     "output_type": "stream",
     "text": [
      "R2_test:0.899438\n"
     ]
    }
   ],
   "source": [
    "# 결정계수(coefficient of determination, R2)는 추정한 선형 모형이 \n",
    "# 주어진 자료에 적합한 정도를 재는 척도입니다.\n",
    "R2_test = r2_score(test_Y, pred_test)\n",
    "print('R2_test:%f'%R2_test)"
   ]
  },
  {
   "cell_type": "code",
   "execution_count": null,
   "id": "10a9ba5b",
   "metadata": {},
   "outputs": [],
   "source": []
  }
 ],
 "metadata": {
  "kernelspec": {
   "display_name": "Python 3 (ipykernel)",
   "language": "python",
   "name": "python3"
  },
  "language_info": {
   "codemirror_mode": {
    "name": "ipython",
    "version": 3
   },
   "file_extension": ".py",
   "mimetype": "text/x-python",
   "name": "python",
   "nbconvert_exporter": "python",
   "pygments_lexer": "ipython3",
   "version": "3.8.12"
  }
 },
 "nbformat": 4,
 "nbformat_minor": 5
}
