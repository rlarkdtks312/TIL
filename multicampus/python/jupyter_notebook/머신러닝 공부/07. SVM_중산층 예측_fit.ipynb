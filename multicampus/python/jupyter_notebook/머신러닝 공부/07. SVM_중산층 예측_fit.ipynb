{
 "cells": [
  {
   "cell_type": "code",
   "execution_count": 1,
   "id": "d8c9e3eb",
   "metadata": {},
   "outputs": [],
   "source": [
    "import pandas as pd\n",
    "import numpy as np\n",
    "import matplotlib.pyplot as plt\n",
    "%matplotlib inline\n",
    "from sklearn import svm"
   ]
  },
  {
   "cell_type": "code",
   "execution_count": 2,
   "id": "1a01109a",
   "metadata": {},
   "outputs": [
    {
     "data": {
      "text/html": [
       "<div>\n",
       "<style scoped>\n",
       "    .dataframe tbody tr th:only-of-type {\n",
       "        vertical-align: middle;\n",
       "    }\n",
       "\n",
       "    .dataframe tbody tr th {\n",
       "        vertical-align: top;\n",
       "    }\n",
       "\n",
       "    .dataframe thead th {\n",
       "        text-align: right;\n",
       "    }\n",
       "</style>\n",
       "<table border=\"1\" class=\"dataframe\">\n",
       "  <thead>\n",
       "    <tr style=\"text-align: right;\">\n",
       "      <th></th>\n",
       "      <th>food</th>\n",
       "      <th>book</th>\n",
       "      <th>cul</th>\n",
       "      <th>cloth</th>\n",
       "      <th>travel</th>\n",
       "      <th>status</th>\n",
       "    </tr>\n",
       "  </thead>\n",
       "  <tbody>\n",
       "    <tr>\n",
       "      <th>0</th>\n",
       "      <td>0.263017</td>\n",
       "      <td>0.759435</td>\n",
       "      <td>0.472159</td>\n",
       "      <td>0.365709</td>\n",
       "      <td>0.331119</td>\n",
       "      <td>1</td>\n",
       "    </tr>\n",
       "    <tr>\n",
       "      <th>1</th>\n",
       "      <td>0.192398</td>\n",
       "      <td>0.514150</td>\n",
       "      <td>0.222987</td>\n",
       "      <td>0.388257</td>\n",
       "      <td>0.307846</td>\n",
       "      <td>1</td>\n",
       "    </tr>\n",
       "    <tr>\n",
       "      <th>2</th>\n",
       "      <td>0.513997</td>\n",
       "      <td>0.448345</td>\n",
       "      <td>0.554666</td>\n",
       "      <td>0.394886</td>\n",
       "      <td>0.363455</td>\n",
       "      <td>0</td>\n",
       "    </tr>\n",
       "    <tr>\n",
       "      <th>3</th>\n",
       "      <td>0.387733</td>\n",
       "      <td>0.582956</td>\n",
       "      <td>0.425999</td>\n",
       "      <td>0.349615</td>\n",
       "      <td>0.197456</td>\n",
       "      <td>1</td>\n",
       "    </tr>\n",
       "    <tr>\n",
       "      <th>4</th>\n",
       "      <td>0.421674</td>\n",
       "      <td>0.560781</td>\n",
       "      <td>0.430536</td>\n",
       "      <td>0.734413</td>\n",
       "      <td>0.352037</td>\n",
       "      <td>0</td>\n",
       "    </tr>\n",
       "    <tr>\n",
       "      <th>...</th>\n",
       "      <td>...</td>\n",
       "      <td>...</td>\n",
       "      <td>...</td>\n",
       "      <td>...</td>\n",
       "      <td>...</td>\n",
       "      <td>...</td>\n",
       "    </tr>\n",
       "    <tr>\n",
       "      <th>95</th>\n",
       "      <td>0.170611</td>\n",
       "      <td>0.656753</td>\n",
       "      <td>0.478071</td>\n",
       "      <td>0.319717</td>\n",
       "      <td>0.312484</td>\n",
       "      <td>1</td>\n",
       "    </tr>\n",
       "    <tr>\n",
       "      <th>96</th>\n",
       "      <td>0.393424</td>\n",
       "      <td>0.927768</td>\n",
       "      <td>0.239522</td>\n",
       "      <td>0.489993</td>\n",
       "      <td>0.304990</td>\n",
       "      <td>1</td>\n",
       "    </tr>\n",
       "    <tr>\n",
       "      <th>97</th>\n",
       "      <td>0.348236</td>\n",
       "      <td>0.758736</td>\n",
       "      <td>0.304017</td>\n",
       "      <td>0.252886</td>\n",
       "      <td>0.245836</td>\n",
       "      <td>1</td>\n",
       "    </tr>\n",
       "    <tr>\n",
       "      <th>98</th>\n",
       "      <td>0.378175</td>\n",
       "      <td>0.606787</td>\n",
       "      <td>0.182603</td>\n",
       "      <td>0.473498</td>\n",
       "      <td>0.297998</td>\n",
       "      <td>0</td>\n",
       "    </tr>\n",
       "    <tr>\n",
       "      <th>99</th>\n",
       "      <td>0.338647</td>\n",
       "      <td>0.591898</td>\n",
       "      <td>0.267180</td>\n",
       "      <td>0.443084</td>\n",
       "      <td>0.170536</td>\n",
       "      <td>0</td>\n",
       "    </tr>\n",
       "  </tbody>\n",
       "</table>\n",
       "<p>100 rows × 6 columns</p>\n",
       "</div>"
      ],
      "text/plain": [
       "        food      book       cul     cloth    travel  status\n",
       "0   0.263017  0.759435  0.472159  0.365709  0.331119       1\n",
       "1   0.192398  0.514150  0.222987  0.388257  0.307846       1\n",
       "2   0.513997  0.448345  0.554666  0.394886  0.363455       0\n",
       "3   0.387733  0.582956  0.425999  0.349615  0.197456       1\n",
       "4   0.421674  0.560781  0.430536  0.734413  0.352037       0\n",
       "..       ...       ...       ...       ...       ...     ...\n",
       "95  0.170611  0.656753  0.478071  0.319717  0.312484       1\n",
       "96  0.393424  0.927768  0.239522  0.489993  0.304990       1\n",
       "97  0.348236  0.758736  0.304017  0.252886  0.245836       1\n",
       "98  0.378175  0.606787  0.182603  0.473498  0.297998       0\n",
       "99  0.338647  0.591898  0.267180  0.443084  0.170536       0\n",
       "\n",
       "[100 rows x 6 columns]"
      ]
     },
     "execution_count": 2,
     "metadata": {},
     "output_type": "execute_result"
    }
   ],
   "source": [
    "# 중산층 소비자 층 데이터\n",
    "\n",
    "pd.read_csv('./middle.csv - middle.csv.csv')"
   ]
  },
  {
   "cell_type": "code",
   "execution_count": 3,
   "id": "88e1b733",
   "metadata": {},
   "outputs": [],
   "source": [
    "middle = pd.read_csv('./middle.csv - middle.csv.csv')"
   ]
  },
  {
   "cell_type": "code",
   "execution_count": 4,
   "id": "aed69b33",
   "metadata": {},
   "outputs": [
    {
     "data": {
      "text/html": [
       "<div>\n",
       "<style scoped>\n",
       "    .dataframe tbody tr th:only-of-type {\n",
       "        vertical-align: middle;\n",
       "    }\n",
       "\n",
       "    .dataframe tbody tr th {\n",
       "        vertical-align: top;\n",
       "    }\n",
       "\n",
       "    .dataframe thead th {\n",
       "        text-align: right;\n",
       "    }\n",
       "</style>\n",
       "<table border=\"1\" class=\"dataframe\">\n",
       "  <thead>\n",
       "    <tr style=\"text-align: right;\">\n",
       "      <th></th>\n",
       "      <th>food</th>\n",
       "      <th>book</th>\n",
       "      <th>cul</th>\n",
       "      <th>cloth</th>\n",
       "      <th>travel</th>\n",
       "      <th>status</th>\n",
       "    </tr>\n",
       "  </thead>\n",
       "  <tbody>\n",
       "    <tr>\n",
       "      <th>0</th>\n",
       "      <td>0.263017</td>\n",
       "      <td>0.759435</td>\n",
       "      <td>0.472159</td>\n",
       "      <td>0.365709</td>\n",
       "      <td>0.331119</td>\n",
       "      <td>1</td>\n",
       "    </tr>\n",
       "    <tr>\n",
       "      <th>1</th>\n",
       "      <td>0.192398</td>\n",
       "      <td>0.514150</td>\n",
       "      <td>0.222987</td>\n",
       "      <td>0.388257</td>\n",
       "      <td>0.307846</td>\n",
       "      <td>1</td>\n",
       "    </tr>\n",
       "    <tr>\n",
       "      <th>2</th>\n",
       "      <td>0.513997</td>\n",
       "      <td>0.448345</td>\n",
       "      <td>0.554666</td>\n",
       "      <td>0.394886</td>\n",
       "      <td>0.363455</td>\n",
       "      <td>0</td>\n",
       "    </tr>\n",
       "    <tr>\n",
       "      <th>3</th>\n",
       "      <td>0.387733</td>\n",
       "      <td>0.582956</td>\n",
       "      <td>0.425999</td>\n",
       "      <td>0.349615</td>\n",
       "      <td>0.197456</td>\n",
       "      <td>1</td>\n",
       "    </tr>\n",
       "    <tr>\n",
       "      <th>4</th>\n",
       "      <td>0.421674</td>\n",
       "      <td>0.560781</td>\n",
       "      <td>0.430536</td>\n",
       "      <td>0.734413</td>\n",
       "      <td>0.352037</td>\n",
       "      <td>0</td>\n",
       "    </tr>\n",
       "    <tr>\n",
       "      <th>...</th>\n",
       "      <td>...</td>\n",
       "      <td>...</td>\n",
       "      <td>...</td>\n",
       "      <td>...</td>\n",
       "      <td>...</td>\n",
       "      <td>...</td>\n",
       "    </tr>\n",
       "    <tr>\n",
       "      <th>95</th>\n",
       "      <td>0.170611</td>\n",
       "      <td>0.656753</td>\n",
       "      <td>0.478071</td>\n",
       "      <td>0.319717</td>\n",
       "      <td>0.312484</td>\n",
       "      <td>1</td>\n",
       "    </tr>\n",
       "    <tr>\n",
       "      <th>96</th>\n",
       "      <td>0.393424</td>\n",
       "      <td>0.927768</td>\n",
       "      <td>0.239522</td>\n",
       "      <td>0.489993</td>\n",
       "      <td>0.304990</td>\n",
       "      <td>1</td>\n",
       "    </tr>\n",
       "    <tr>\n",
       "      <th>97</th>\n",
       "      <td>0.348236</td>\n",
       "      <td>0.758736</td>\n",
       "      <td>0.304017</td>\n",
       "      <td>0.252886</td>\n",
       "      <td>0.245836</td>\n",
       "      <td>1</td>\n",
       "    </tr>\n",
       "    <tr>\n",
       "      <th>98</th>\n",
       "      <td>0.378175</td>\n",
       "      <td>0.606787</td>\n",
       "      <td>0.182603</td>\n",
       "      <td>0.473498</td>\n",
       "      <td>0.297998</td>\n",
       "      <td>0</td>\n",
       "    </tr>\n",
       "    <tr>\n",
       "      <th>99</th>\n",
       "      <td>0.338647</td>\n",
       "      <td>0.591898</td>\n",
       "      <td>0.267180</td>\n",
       "      <td>0.443084</td>\n",
       "      <td>0.170536</td>\n",
       "      <td>0</td>\n",
       "    </tr>\n",
       "  </tbody>\n",
       "</table>\n",
       "<p>100 rows × 6 columns</p>\n",
       "</div>"
      ],
      "text/plain": [
       "        food      book       cul     cloth    travel  status\n",
       "0   0.263017  0.759435  0.472159  0.365709  0.331119       1\n",
       "1   0.192398  0.514150  0.222987  0.388257  0.307846       1\n",
       "2   0.513997  0.448345  0.554666  0.394886  0.363455       0\n",
       "3   0.387733  0.582956  0.425999  0.349615  0.197456       1\n",
       "4   0.421674  0.560781  0.430536  0.734413  0.352037       0\n",
       "..       ...       ...       ...       ...       ...     ...\n",
       "95  0.170611  0.656753  0.478071  0.319717  0.312484       1\n",
       "96  0.393424  0.927768  0.239522  0.489993  0.304990       1\n",
       "97  0.348236  0.758736  0.304017  0.252886  0.245836       1\n",
       "98  0.378175  0.606787  0.182603  0.473498  0.297998       0\n",
       "99  0.338647  0.591898  0.267180  0.443084  0.170536       0\n",
       "\n",
       "[100 rows x 6 columns]"
      ]
     },
     "execution_count": 4,
     "metadata": {},
     "output_type": "execute_result"
    }
   ],
   "source": [
    "middle"
   ]
  },
  {
   "cell_type": "code",
   "execution_count": 5,
   "id": "f36bc621",
   "metadata": {},
   "outputs": [],
   "source": [
    "# 데이터 정규화 (컬럼 단위가 다르기 때문)\n",
    "\n",
    "from sklearn.preprocessing import StandardScaler\n",
    "\n",
    "scaler = StandardScaler()"
   ]
  },
  {
   "cell_type": "code",
   "execution_count": 6,
   "id": "fa1caf5c",
   "metadata": {},
   "outputs": [],
   "source": [
    "middle_regu = scaler.fit_transform(middle)"
   ]
  },
  {
   "cell_type": "code",
   "execution_count": 8,
   "id": "33fb2ef2",
   "metadata": {},
   "outputs": [
    {
     "data": {
      "text/html": [
       "<div>\n",
       "<style scoped>\n",
       "    .dataframe tbody tr th:only-of-type {\n",
       "        vertical-align: middle;\n",
       "    }\n",
       "\n",
       "    .dataframe tbody tr th {\n",
       "        vertical-align: top;\n",
       "    }\n",
       "\n",
       "    .dataframe thead th {\n",
       "        text-align: right;\n",
       "    }\n",
       "</style>\n",
       "<table border=\"1\" class=\"dataframe\">\n",
       "  <thead>\n",
       "    <tr style=\"text-align: right;\">\n",
       "      <th></th>\n",
       "      <th>food</th>\n",
       "      <th>book</th>\n",
       "      <th>cul</th>\n",
       "      <th>cloth</th>\n",
       "      <th>travel</th>\n",
       "      <th>status</th>\n",
       "    </tr>\n",
       "  </thead>\n",
       "  <tbody>\n",
       "    <tr>\n",
       "      <th>0</th>\n",
       "      <td>-0.679491</td>\n",
       "      <td>0.285453</td>\n",
       "      <td>0.769363</td>\n",
       "      <td>-0.392849</td>\n",
       "      <td>1.161096</td>\n",
       "      <td>0.670280</td>\n",
       "    </tr>\n",
       "    <tr>\n",
       "      <th>1</th>\n",
       "      <td>-1.366491</td>\n",
       "      <td>-0.793116</td>\n",
       "      <td>-1.704388</td>\n",
       "      <td>-0.177986</td>\n",
       "      <td>0.731897</td>\n",
       "      <td>0.670280</td>\n",
       "    </tr>\n",
       "    <tr>\n",
       "      <th>2</th>\n",
       "      <td>1.762079</td>\n",
       "      <td>-1.082473</td>\n",
       "      <td>1.588480</td>\n",
       "      <td>-0.114819</td>\n",
       "      <td>1.757418</td>\n",
       "      <td>-1.491914</td>\n",
       "    </tr>\n",
       "    <tr>\n",
       "      <th>3</th>\n",
       "      <td>0.533770</td>\n",
       "      <td>-0.490561</td>\n",
       "      <td>0.311090</td>\n",
       "      <td>-0.546207</td>\n",
       "      <td>-1.303885</td>\n",
       "      <td>0.670280</td>\n",
       "    </tr>\n",
       "    <tr>\n",
       "      <th>4</th>\n",
       "      <td>0.863950</td>\n",
       "      <td>-0.588070</td>\n",
       "      <td>0.356134</td>\n",
       "      <td>3.120538</td>\n",
       "      <td>1.546859</td>\n",
       "      <td>-1.491914</td>\n",
       "    </tr>\n",
       "    <tr>\n",
       "      <th>...</th>\n",
       "      <td>...</td>\n",
       "      <td>...</td>\n",
       "      <td>...</td>\n",
       "      <td>...</td>\n",
       "      <td>...</td>\n",
       "      <td>...</td>\n",
       "    </tr>\n",
       "    <tr>\n",
       "      <th>95</th>\n",
       "      <td>-1.578440</td>\n",
       "      <td>-0.166059</td>\n",
       "      <td>0.828053</td>\n",
       "      <td>-0.831106</td>\n",
       "      <td>0.817433</td>\n",
       "      <td>0.670280</td>\n",
       "    </tr>\n",
       "    <tr>\n",
       "      <th>96</th>\n",
       "      <td>0.589127</td>\n",
       "      <td>1.025649</td>\n",
       "      <td>-1.540227</td>\n",
       "      <td>0.791461</td>\n",
       "      <td>0.679229</td>\n",
       "      <td>0.670280</td>\n",
       "    </tr>\n",
       "    <tr>\n",
       "      <th>97</th>\n",
       "      <td>0.149533</td>\n",
       "      <td>0.282381</td>\n",
       "      <td>-0.899934</td>\n",
       "      <td>-1.467939</td>\n",
       "      <td>-0.411665</td>\n",
       "      <td>0.670280</td>\n",
       "    </tr>\n",
       "    <tr>\n",
       "      <th>98</th>\n",
       "      <td>0.440784</td>\n",
       "      <td>-0.385771</td>\n",
       "      <td>-2.105312</td>\n",
       "      <td>0.634279</td>\n",
       "      <td>0.550286</td>\n",
       "      <td>-1.491914</td>\n",
       "    </tr>\n",
       "    <tr>\n",
       "      <th>99</th>\n",
       "      <td>0.056246</td>\n",
       "      <td>-0.451241</td>\n",
       "      <td>-1.265640</td>\n",
       "      <td>0.344464</td>\n",
       "      <td>-1.800323</td>\n",
       "      <td>-1.491914</td>\n",
       "    </tr>\n",
       "  </tbody>\n",
       "</table>\n",
       "<p>100 rows × 6 columns</p>\n",
       "</div>"
      ],
      "text/plain": [
       "        food      book       cul     cloth    travel    status\n",
       "0  -0.679491  0.285453  0.769363 -0.392849  1.161096  0.670280\n",
       "1  -1.366491 -0.793116 -1.704388 -0.177986  0.731897  0.670280\n",
       "2   1.762079 -1.082473  1.588480 -0.114819  1.757418 -1.491914\n",
       "3   0.533770 -0.490561  0.311090 -0.546207 -1.303885  0.670280\n",
       "4   0.863950 -0.588070  0.356134  3.120538  1.546859 -1.491914\n",
       "..       ...       ...       ...       ...       ...       ...\n",
       "95 -1.578440 -0.166059  0.828053 -0.831106  0.817433  0.670280\n",
       "96  0.589127  1.025649 -1.540227  0.791461  0.679229  0.670280\n",
       "97  0.149533  0.282381 -0.899934 -1.467939 -0.411665  0.670280\n",
       "98  0.440784 -0.385771 -2.105312  0.634279  0.550286 -1.491914\n",
       "99  0.056246 -0.451241 -1.265640  0.344464 -1.800323 -1.491914\n",
       "\n",
       "[100 rows x 6 columns]"
      ]
     },
     "execution_count": 8,
     "metadata": {},
     "output_type": "execute_result"
    }
   ],
   "source": [
    "middle_regu = pd.DataFrame(middle_regu)\n",
    "middle_regu.columns = ['food', 'book', 'cul', 'cloth', 'travel', 'status']\n",
    "middle_regu"
   ]
  },
  {
   "cell_type": "code",
   "execution_count": 11,
   "id": "2c643de9",
   "metadata": {},
   "outputs": [],
   "source": [
    "x = middle_regu.drop(columns = 'status', axis = 1)\n",
    "y = middle_regu.status"
   ]
  },
  {
   "cell_type": "code",
   "execution_count": 12,
   "id": "55483aeb",
   "metadata": {},
   "outputs": [
    {
     "data": {
      "text/plain": [
       "SVR()"
      ]
     },
     "execution_count": 12,
     "metadata": {},
     "output_type": "execute_result"
    }
   ],
   "source": [
    "model = svm.SVR()\n",
    "model.fit(x, y)"
   ]
  },
  {
   "cell_type": "code",
   "execution_count": 13,
   "id": "b71fff24",
   "metadata": {},
   "outputs": [],
   "source": [
    "r2 = model.score(x, y)"
   ]
  },
  {
   "cell_type": "code",
   "execution_count": 15,
   "id": "21e06afd",
   "metadata": {},
   "outputs": [
    {
     "name": "stdout",
     "output_type": "stream",
     "text": [
      "결정 계수:  0.6082849462996812\n"
     ]
    }
   ],
   "source": [
    "print('결정 계수: ', r2)"
   ]
  },
  {
   "cell_type": "code",
   "execution_count": 18,
   "id": "45a510a2",
   "metadata": {},
   "outputs": [],
   "source": [
    "pred = model.predict(x)"
   ]
  },
  {
   "cell_type": "code",
   "execution_count": 21,
   "id": "cd9a537a",
   "metadata": {},
   "outputs": [
    {
     "data": {
      "image/png": "[encoded data removed]",
      "text/plain": [
       "<Figure size 432x288 with 1 Axes>"
      ]
     },
     "metadata": {
      "needs_background": "light"
     },
     "output_type": "display_data"
    }
   ],
   "source": [
    "plt.scatter(x.iloc[:,2], y, marker=\"+\", c='blue') # 실제 값\n",
    "plt.scatter(x.iloc[:,2], pred, marker=\"o\", c='red') # 예측 값\n",
    "plt.show()"
   ]
  },
  {
   "cell_type": "code",
   "execution_count": 26,
   "id": "f163ee0f",
   "metadata": {
    "scrolled": true
   },
   "outputs": [],
   "source": [
    "# 예측 값\n",
    "pred_list = list(pred > 0)"
   ]
  },
  {
   "cell_type": "code",
   "execution_count": 27,
   "id": "0b2382a8",
   "metadata": {},
   "outputs": [],
   "source": [
    "# 실제 값\n",
    "origin_list = list(middle.status == 1)"
   ]
  },
  {
   "cell_type": "code",
   "execution_count": 28,
   "id": "ca5693ae",
   "metadata": {},
   "outputs": [
    {
     "data": {
      "text/plain": [
       "0.95"
      ]
     },
     "execution_count": 28,
     "metadata": {},
     "output_type": "execute_result"
    }
   ],
   "source": [
    "# 예측값과 실제값 비교 --> 같을 수록 좋은 것\n",
    "\n",
    "sum([pred_list[i] == origin_list[i] for i in range(0, len(pred_list))]) / len(pred_list)"
   ]
  },
  {
   "cell_type": "code",
   "execution_count": 31,
   "id": "9241274e",
   "metadata": {},
   "outputs": [
    {
     "data": {
      "text/plain": [
       "95"
      ]
     },
     "execution_count": 31,
     "metadata": {},
     "output_type": "execute_result"
    }
   ],
   "source": []
  },
  {
   "cell_type": "code",
   "execution_count": null,
   "id": "0ed1ad58",
   "metadata": {},
   "outputs": [],
   "source": []
  }
 ],
 "metadata": {
  "kernelspec": {
   "display_name": "Python 3 (ipykernel)",
   "language": "python",
   "name": "python3"
  },
  "language_info": {
   "codemirror_mode": {
    "name": "ipython",
    "version": 3
   },
   "file_extension": ".py",
   "mimetype": "text/x-python",
   "name": "python",
   "nbconvert_exporter": "python",
   "pygments_lexer": "ipython3",
   "version": "3.8.12"
  }
 },
 "nbformat": 4,
 "nbformat_minor": 5
}
