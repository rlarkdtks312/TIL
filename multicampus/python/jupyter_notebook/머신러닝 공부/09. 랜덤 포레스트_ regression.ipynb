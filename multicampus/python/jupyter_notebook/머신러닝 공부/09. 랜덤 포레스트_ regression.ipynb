{
 "cells": [
  {
   "cell_type": "code",
   "execution_count": 5,
   "id": "6d6a4b2b",
   "metadata": {},
   "outputs": [],
   "source": [
    "import pandas as pd\n",
    "%matplotlib inline\n",
    "import matplotlib.pyplot as plt\n",
    "import numpy as np\n",
    "\n",
    "from sklearn import tree, ensemble\n",
    "from sklearn.metrics import accuracy_score, confusion_matrix\n",
    "from sklearn.metrics import precision_score, recall_score, f1_score"
   ]
  },
  {
   "cell_type": "code",
   "execution_count": 1,
   "id": "fda41215",
   "metadata": {},
   "outputs": [],
   "source": [
    "from sklearn import datasets\n",
    "\n",
    "\n",
    "diabetes = datasets.load_diabetes()"
   ]
  },
  {
   "cell_type": "code",
   "execution_count": 2,
   "id": "3218c16e",
   "metadata": {
    "scrolled": true
   },
   "outputs": [
    {
     "data": {
      "text/plain": [
       "{'data': array([[ 0.03807591,  0.05068012,  0.06169621, ..., -0.00259226,\n",
       "          0.01990842, -0.01764613],\n",
       "        [-0.00188202, -0.04464164, -0.05147406, ..., -0.03949338,\n",
       "         -0.06832974, -0.09220405],\n",
       "        [ 0.08529891,  0.05068012,  0.04445121, ..., -0.00259226,\n",
       "          0.00286377, -0.02593034],\n",
       "        ...,\n",
       "        [ 0.04170844,  0.05068012, -0.01590626, ..., -0.01107952,\n",
       "         -0.04687948,  0.01549073],\n",
       "        [-0.04547248, -0.04464164,  0.03906215, ...,  0.02655962,\n",
       "          0.04452837, -0.02593034],\n",
       "        [-0.04547248, -0.04464164, -0.0730303 , ..., -0.03949338,\n",
       "         -0.00421986,  0.00306441]]),\n",
       " 'target': array([151.,  75., 141., 206., 135.,  97., 138.,  63., 110., 310., 101.,\n",
       "         69., 179., 185., 118., 171., 166., 144.,  97., 168.,  68.,  49.,\n",
       "         68., 245., 184., 202., 137.,  85., 131., 283., 129.,  59., 341.,\n",
       "         87.,  65., 102., 265., 276., 252.,  90., 100.,  55.,  61.,  92.,\n",
       "        259.,  53., 190., 142.,  75., 142., 155., 225.,  59., 104., 182.,\n",
       "        128.,  52.,  37., 170., 170.,  61., 144.,  52., 128.,  71., 163.,\n",
       "        150.,  97., 160., 178.,  48., 270., 202., 111.,  85.,  42., 170.,\n",
       "        200., 252., 113., 143.,  51.,  52., 210.,  65., 141.,  55., 134.,\n",
       "         42., 111.,  98., 164.,  48.,  96.,  90., 162., 150., 279.,  92.,\n",
       "         83., 128., 102., 302., 198.,  95.,  53., 134., 144., 232.,  81.,\n",
       "        104.,  59., 246., 297., 258., 229., 275., 281., 179., 200., 200.,\n",
       "        173., 180.,  84., 121., 161.,  99., 109., 115., 268., 274., 158.,\n",
       "        107.,  83., 103., 272.,  85., 280., 336., 281., 118., 317., 235.,\n",
       "         60., 174., 259., 178., 128.,  96., 126., 288.,  88., 292.,  71.,\n",
       "        197., 186.,  25.,  84.,  96., 195.,  53., 217., 172., 131., 214.,\n",
       "         59.,  70., 220., 268., 152.,  47.,  74., 295., 101., 151., 127.,\n",
       "        237., 225.,  81., 151., 107.,  64., 138., 185., 265., 101., 137.,\n",
       "        143., 141.,  79., 292., 178.,  91., 116.,  86., 122.,  72., 129.,\n",
       "        142.,  90., 158.,  39., 196., 222., 277.,  99., 196., 202., 155.,\n",
       "         77., 191.,  70.,  73.,  49.,  65., 263., 248., 296., 214., 185.,\n",
       "         78.,  93., 252., 150.,  77., 208.,  77., 108., 160.,  53., 220.,\n",
       "        154., 259.,  90., 246., 124.,  67.,  72., 257., 262., 275., 177.,\n",
       "         71.,  47., 187., 125.,  78.,  51., 258., 215., 303., 243.,  91.,\n",
       "        150., 310., 153., 346.,  63.,  89.,  50.,  39., 103., 308., 116.,\n",
       "        145.,  74.,  45., 115., 264.,  87., 202., 127., 182., 241.,  66.,\n",
       "         94., 283.,  64., 102., 200., 265.,  94., 230., 181., 156., 233.,\n",
       "         60., 219.,  80.,  68., 332., 248.,  84., 200.,  55.,  85.,  89.,\n",
       "         31., 129.,  83., 275.,  65., 198., 236., 253., 124.,  44., 172.,\n",
       "        114., 142., 109., 180., 144., 163., 147.,  97., 220., 190., 109.,\n",
       "        191., 122., 230., 242., 248., 249., 192., 131., 237.,  78., 135.,\n",
       "        244., 199., 270., 164.,  72.,  96., 306.,  91., 214.,  95., 216.,\n",
       "        263., 178., 113., 200., 139., 139.,  88., 148.,  88., 243.,  71.,\n",
       "         77., 109., 272.,  60.,  54., 221.,  90., 311., 281., 182., 321.,\n",
       "         58., 262., 206., 233., 242., 123., 167.,  63., 197.,  71., 168.,\n",
       "        140., 217., 121., 235., 245.,  40.,  52., 104., 132.,  88.,  69.,\n",
       "        219.,  72., 201., 110.,  51., 277.,  63., 118.,  69., 273., 258.,\n",
       "         43., 198., 242., 232., 175.,  93., 168., 275., 293., 281.,  72.,\n",
       "        140., 189., 181., 209., 136., 261., 113., 131., 174., 257.,  55.,\n",
       "         84.,  42., 146., 212., 233.,  91., 111., 152., 120.,  67., 310.,\n",
       "         94., 183.,  66., 173.,  72.,  49.,  64.,  48., 178., 104., 132.,\n",
       "        220.,  57.]),\n",
       " 'frame': None,\n",
       " 'DESCR': '.. _diabetes_dataset:\\n\\nDiabetes dataset\\n----------------\\n\\nTen baseline variables, age, sex, body mass index, average blood\\npressure, and six blood serum measurements were obtained for each of n =\\n442 diabetes patients, as well as the response of interest, a\\nquantitative measure of disease progression one year after baseline.\\n\\n**Data Set Characteristics:**\\n\\n  :Number of Instances: 442\\n\\n  :Number of Attributes: First 10 columns are numeric predictive values\\n\\n  :Target: Column 11 is a quantitative measure of disease progression one year after baseline\\n\\n  :Attribute Information:\\n      - age     age in years\\n      - sex\\n      - bmi     body mass index\\n      - bp      average blood pressure\\n      - s1      tc, total serum cholesterol\\n      - s2      ldl, low-density lipoproteins\\n      - s3      hdl, high-density lipoproteins\\n      - s4      tch, total cholesterol / HDL\\n      - s5      ltg, possibly log of serum triglycerides level\\n      - s6      glu, blood sugar level\\n\\nNote: Each of these 10 feature variables have been mean centered and scaled by the standard deviation times `n_samples` (i.e. the sum of squares of each column totals 1).\\n\\nSource URL:\\nhttps://www4.stat.ncsu.edu/~boos/var.select/diabetes.html\\n\\nFor more information see:\\nBradley Efron, Trevor Hastie, Iain Johnstone and Robert Tibshirani (2004) \"Least Angle Regression,\" Annals of Statistics (with discussion), 407-499.\\n(https://web.stanford.edu/~hastie/Papers/LARS/LeastAngle_2002.pdf)',\n",
       " 'feature_names': ['age',\n",
       "  'sex',\n",
       "  'bmi',\n",
       "  'bp',\n",
       "  's1',\n",
       "  's2',\n",
       "  's3',\n",
       "  's4',\n",
       "  's5',\n",
       "  's6'],\n",
       " 'data_filename': 'diabetes_data.csv.gz',\n",
       " 'target_filename': 'diabetes_target.csv.gz',\n",
       " 'data_module': 'sklearn.datasets.data'}"
      ]
     },
     "execution_count": 2,
     "metadata": {},
     "output_type": "execute_result"
    }
   ],
   "source": [
    "diabetes"
   ]
  },
  {
   "cell_type": "code",
   "execution_count": 3,
   "id": "8e34bbbf",
   "metadata": {},
   "outputs": [],
   "source": [
    "x = diabetes.data\n",
    "y = diabetes.target\n",
    "feature = diabetes.feature_names"
   ]
  },
  {
   "cell_type": "code",
   "execution_count": 4,
   "id": "b763fad4",
   "metadata": {
    "scrolled": true
   },
   "outputs": [
    {
     "data": {
      "text/plain": [
       "(array([[ 0.03807591,  0.05068012,  0.06169621, ..., -0.00259226,\n",
       "          0.01990842, -0.01764613],\n",
       "        [-0.00188202, -0.04464164, -0.05147406, ..., -0.03949338,\n",
       "         -0.06832974, -0.09220405],\n",
       "        [ 0.08529891,  0.05068012,  0.04445121, ..., -0.00259226,\n",
       "          0.00286377, -0.02593034],\n",
       "        ...,\n",
       "        [ 0.04170844,  0.05068012, -0.01590626, ..., -0.01107952,\n",
       "         -0.04687948,  0.01549073],\n",
       "        [-0.04547248, -0.04464164,  0.03906215, ...,  0.02655962,\n",
       "          0.04452837, -0.02593034],\n",
       "        [-0.04547248, -0.04464164, -0.0730303 , ..., -0.03949338,\n",
       "         -0.00421986,  0.00306441]]),\n",
       " (442, 10),\n",
       " array([151.,  75., 141., 206., 135.,  97., 138.,  63., 110., 310., 101.,\n",
       "         69., 179., 185., 118., 171., 166., 144.,  97., 168.,  68.,  49.,\n",
       "         68., 245., 184., 202., 137.,  85., 131., 283., 129.,  59., 341.,\n",
       "         87.,  65., 102., 265., 276., 252.,  90., 100.,  55.,  61.,  92.,\n",
       "        259.,  53., 190., 142.,  75., 142., 155., 225.,  59., 104., 182.,\n",
       "        128.,  52.,  37., 170., 170.,  61., 144.,  52., 128.,  71., 163.,\n",
       "        150.,  97., 160., 178.,  48., 270., 202., 111.,  85.,  42., 170.,\n",
       "        200., 252., 113., 143.,  51.,  52., 210.,  65., 141.,  55., 134.,\n",
       "         42., 111.,  98., 164.,  48.,  96.,  90., 162., 150., 279.,  92.,\n",
       "         83., 128., 102., 302., 198.,  95.,  53., 134., 144., 232.,  81.,\n",
       "        104.,  59., 246., 297., 258., 229., 275., 281., 179., 200., 200.,\n",
       "        173., 180.,  84., 121., 161.,  99., 109., 115., 268., 274., 158.,\n",
       "        107.,  83., 103., 272.,  85., 280., 336., 281., 118., 317., 235.,\n",
       "         60., 174., 259., 178., 128.,  96., 126., 288.,  88., 292.,  71.,\n",
       "        197., 186.,  25.,  84.,  96., 195.,  53., 217., 172., 131., 214.,\n",
       "         59.,  70., 220., 268., 152.,  47.,  74., 295., 101., 151., 127.,\n",
       "        237., 225.,  81., 151., 107.,  64., 138., 185., 265., 101., 137.,\n",
       "        143., 141.,  79., 292., 178.,  91., 116.,  86., 122.,  72., 129.,\n",
       "        142.,  90., 158.,  39., 196., 222., 277.,  99., 196., 202., 155.,\n",
       "         77., 191.,  70.,  73.,  49.,  65., 263., 248., 296., 214., 185.,\n",
       "         78.,  93., 252., 150.,  77., 208.,  77., 108., 160.,  53., 220.,\n",
       "        154., 259.,  90., 246., 124.,  67.,  72., 257., 262., 275., 177.,\n",
       "         71.,  47., 187., 125.,  78.,  51., 258., 215., 303., 243.,  91.,\n",
       "        150., 310., 153., 346.,  63.,  89.,  50.,  39., 103., 308., 116.,\n",
       "        145.,  74.,  45., 115., 264.,  87., 202., 127., 182., 241.,  66.,\n",
       "         94., 283.,  64., 102., 200., 265.,  94., 230., 181., 156., 233.,\n",
       "         60., 219.,  80.,  68., 332., 248.,  84., 200.,  55.,  85.,  89.,\n",
       "         31., 129.,  83., 275.,  65., 198., 236., 253., 124.,  44., 172.,\n",
       "        114., 142., 109., 180., 144., 163., 147.,  97., 220., 190., 109.,\n",
       "        191., 122., 230., 242., 248., 249., 192., 131., 237.,  78., 135.,\n",
       "        244., 199., 270., 164.,  72.,  96., 306.,  91., 214.,  95., 216.,\n",
       "        263., 178., 113., 200., 139., 139.,  88., 148.,  88., 243.,  71.,\n",
       "         77., 109., 272.,  60.,  54., 221.,  90., 311., 281., 182., 321.,\n",
       "         58., 262., 206., 233., 242., 123., 167.,  63., 197.,  71., 168.,\n",
       "        140., 217., 121., 235., 245.,  40.,  52., 104., 132.,  88.,  69.,\n",
       "        219.,  72., 201., 110.,  51., 277.,  63., 118.,  69., 273., 258.,\n",
       "         43., 198., 242., 232., 175.,  93., 168., 275., 293., 281.,  72.,\n",
       "        140., 189., 181., 209., 136., 261., 113., 131., 174., 257.,  55.,\n",
       "         84.,  42., 146., 212., 233.,  91., 111., 152., 120.,  67., 310.,\n",
       "         94., 183.,  66., 173.,  72.,  49.,  64.,  48., 178., 104., 132.,\n",
       "        220.,  57.]),\n",
       " (442,),\n",
       " ['age', 'sex', 'bmi', 'bp', 's1', 's2', 's3', 's4', 's5', 's6'])"
      ]
     },
     "execution_count": 4,
     "metadata": {},
     "output_type": "execute_result"
    }
   ],
   "source": [
    "x, x.shape, y, y.shape, feature"
   ]
  },
  {
   "cell_type": "code",
   "execution_count": 7,
   "id": "a8c23da5",
   "metadata": {},
   "outputs": [
    {
     "data": {
      "text/plain": [
       "StandardScaler()"
      ]
     },
     "execution_count": 7,
     "metadata": {},
     "output_type": "execute_result"
    }
   ],
   "source": [
    "# 데이터 정규화\n",
    "from sklearn.preprocessing import StandardScaler\n",
    "scaler = StandardScaler()\n",
    "scaler.fit(x)"
   ]
  },
  {
   "cell_type": "code",
   "execution_count": 8,
   "id": "b6bb8e51",
   "metadata": {},
   "outputs": [],
   "source": [
    "x_regu = scaler.transform(x)"
   ]
  },
  {
   "cell_type": "code",
   "execution_count": 11,
   "id": "e741a5af",
   "metadata": {},
   "outputs": [
    {
     "data": {
      "text/plain": [
       "(442, 10)"
      ]
     },
     "execution_count": 11,
     "metadata": {},
     "output_type": "execute_result"
    }
   ],
   "source": [
    "x_regu.shape"
   ]
  },
  {
   "cell_type": "code",
   "execution_count": 44,
   "id": "27cd10b1",
   "metadata": {},
   "outputs": [],
   "source": [
    "# 랜덤 회귀모델\n",
    "\n",
    "regressor = ensemble.RandomForestRegressor()"
   ]
  },
  {
   "cell_type": "code",
   "execution_count": 45,
   "id": "f1c45c05",
   "metadata": {},
   "outputs": [],
   "source": [
    "model = regressor.fit(x_regu, y)"
   ]
  },
  {
   "cell_type": "code",
   "execution_count": 48,
   "id": "4d97b947",
   "metadata": {
    "scrolled": true
   },
   "outputs": [
    {
     "data": {
      "text/plain": [
       "array([181.98,  80.74, 152.29, 192.75, 117.01,  97.65, 114.28, 102.49,\n",
       "       124.29, 231.15, 104.74, 106.43, 149.45, 182.8 , 114.7 , 182.81,\n",
       "       183.55, 158.99,  97.66, 137.26,  83.05,  66.88,  77.15, 249.78,\n",
       "       167.74, 182.43, 120.34, 106.74, 140.1 , 252.04, 132.73,  64.53,\n",
       "       301.99,  89.57,  78.25, 112.03, 243.85, 229.43, 243.65, 110.98,\n",
       "       128.01,  76.15,  89.02,  91.05, 234.62,  74.99, 166.83, 135.12,\n",
       "        79.4 , 152.92, 139.42, 211.52,  70.29, 108.41, 165.1 , 111.32,\n",
       "       109.99,  60.11, 149.75, 160.92,  75.92, 146.07,  56.02, 127.74,\n",
       "        90.3 , 165.77, 138.37,  96.42, 129.62, 142.44,  65.66, 253.37,\n",
       "       191.85, 114.35, 108.  ,  60.6 , 165.79, 147.45, 226.13, 114.26,\n",
       "       161.35,  72.6 ,  67.25, 193.78,  74.94, 141.17,  67.79, 150.6 ,\n",
       "        65.61, 102.98,  91.94, 156.88,  85.17,  85.1 ,  91.11, 148.07,\n",
       "       172.51, 255.59,  92.08, 105.4 , 152.3 ,  97.86, 252.99, 181.99,\n",
       "       109.55,  63.68, 121.62, 134.85, 236.69,  98.73,  99.08,  76.87,\n",
       "       215.87, 286.48, 267.54, 200.45, 259.28, 257.02, 180.29, 173.65,\n",
       "       144.33, 172.74, 208.93, 130.22, 141.04, 172.31,  94.54, 116.67,\n",
       "       100.31, 252.66, 274.01, 130.57, 105.54,  81.55, 128.35, 261.78,\n",
       "        84.08, 267.21, 314.08, 258.44, 135.26, 275.65, 206.81,  76.98,\n",
       "       168.55, 249.63, 178.62, 173.43, 122.27, 144.23, 235.64,  96.07,\n",
       "       248.27,  82.44, 189.4 , 196.62,  71.92,  97.14,  97.76, 214.06,\n",
       "        68.86, 227.56, 153.91, 163.17, 187.  ,  62.39,  77.42, 229.26,\n",
       "       249.92, 160.28,  61.46,  78.84, 272.1 , 104.92, 156.53, 113.71,\n",
       "       226.9 , 217.99,  87.18, 162.01, 129.69,  80.61, 161.03, 174.6 ,\n",
       "       236.46, 132.98, 160.14, 121.94, 135.17,  82.72, 245.9 , 169.22,\n",
       "        93.51, 129.83, 126.53, 151.41,  81.42, 151.35, 137.6 , 119.6 ,\n",
       "       135.35,  54.58, 186.56, 213.25, 234.97, 140.82, 187.77, 212.41,\n",
       "       189.64, 100.87, 170.98, 117.9 ,  93.55,  64.63,  80.78, 272.65,\n",
       "       237.18, 265.44, 184.23, 167.23,  81.95, 107.13, 204.53, 139.67,\n",
       "        78.7 , 214.67,  89.99, 101.17, 133.02,  64.73, 215.61, 133.68,\n",
       "       226.09, 111.09, 242.82, 132.97, 103.41,  77.2 , 206.77, 228.55,\n",
       "       269.87, 141.07,  81.13,  56.65, 161.19, 110.27, 103.18,  72.1 ,\n",
       "       234.23, 214.78, 274.09, 248.71, 116.69, 178.19, 285.48, 136.67,\n",
       "       293.92,  87.55, 114.9 ,  62.19,  62.37, 106.98, 287.02,  99.53,\n",
       "       142.28,  98.43,  62.04, 127.27, 258.15,  88.08, 205.68, 137.72,\n",
       "       167.26, 214.46,  91.54,  99.2 , 250.97,  75.41, 115.53, 163.29,\n",
       "       236.16, 124.25, 186.99, 140.89, 157.1 , 226.1 ,  66.94, 196.91,\n",
       "        84.9 , 114.62, 299.97, 244.11,  87.49, 186.61,  65.66, 106.77,\n",
       "        90.15,  50.05, 126.07,  92.96, 259.21,  76.17, 202.29, 238.61,\n",
       "       215.72, 134.38,  71.28, 173.8 , 106.19, 145.92, 145.55, 172.5 ,\n",
       "       131.06, 180.4 , 149.78,  94.32, 214.25, 181.53, 134.42, 197.49,\n",
       "       134.07, 238.15, 251.75, 238.39, 215.12, 201.02, 152.98, 239.89,\n",
       "       110.1 , 123.17, 210.13, 163.2 , 273.21, 178.82,  77.13,  88.76,\n",
       "       273.3 , 106.46, 181.58, 107.23, 174.2 , 231.57, 184.34, 125.98,\n",
       "       181.81, 139.06, 160.48, 103.99, 132.4 ,  89.6 , 246.98,  79.15,\n",
       "        75.01, 122.54, 245.04,  87.93,  75.94, 201.08,  90.23, 257.42,\n",
       "       240.21, 141.58, 300.13,  92.14, 219.68, 199.29, 241.48, 244.15,\n",
       "       155.54, 157.85,  68.  , 190.46,  76.09, 147.66, 146.64, 203.67,\n",
       "       145.13, 211.79, 223.41,  65.26,  97.6 , 110.77, 173.36,  95.89,\n",
       "        93.95, 165.98,  81.76, 176.83, 133.26,  58.06, 268.41,  72.04,\n",
       "       114.55,  89.31, 256.25, 225.56,  65.08, 190.63, 218.75, 217.18,\n",
       "       172.93,  89.43, 163.78, 263.05, 243.22, 275.4 ,  77.66, 145.83,\n",
       "       190.93, 180.82, 184.46, 131.99, 260.13,  95.73, 146.75, 167.95,\n",
       "       229.14, 100.58,  97.96,  55.06, 123.46, 200.3 , 218.41, 111.98,\n",
       "       138.91, 125.28, 152.22,  97.55, 291.97,  92.16, 148.95,  80.61,\n",
       "       203.33,  72.67,  71.08,  84.58,  52.59, 198.65, 110.75, 116.  ,\n",
       "       201.53,  78.41])"
      ]
     },
     "execution_count": 48,
     "metadata": {},
     "output_type": "execute_result"
    }
   ],
   "source": [
    "pred = model.predict(x_regu)\n",
    "pred"
   ]
  },
  {
   "cell_type": "code",
   "execution_count": 49,
   "id": "4ac97fd7",
   "metadata": {},
   "outputs": [
    {
     "data": {
      "text/plain": [
       "0.9210293843808474"
      ]
     },
     "execution_count": 49,
     "metadata": {},
     "output_type": "execute_result"
    }
   ],
   "source": [
    "# 결정 계수\n",
    "r2 = model.score(x_regu, y)\n",
    "r2"
   ]
  },
  {
   "cell_type": "code",
   "execution_count": 51,
   "id": "d42754e6",
   "metadata": {},
   "outputs": [
    {
     "data": {
      "text/plain": [
       "<matplotlib.collections.PathCollection at 0x1a970343580>"
      ]
     },
     "execution_count": 51,
     "metadata": {},
     "output_type": "execute_result"
    },
    {
     "data": {
      "image/png": "[encoded data removed]",
      "text/plain": [
       "<Figure size 432x288 with 1 Axes>"
      ]
     },
     "metadata": {
      "needs_background": "light"
     },
     "output_type": "display_data"
    }
   ],
   "source": [
    "plt.scatter(x[:,0], y, marker = '*', color = 'blue')\n",
    "plt.scatter(x[:,-1], y, marker = 'o', color = 'red')"
   ]
  },
  {
   "cell_type": "code",
   "execution_count": 52,
   "id": "684b0ba9",
   "metadata": {},
   "outputs": [
    {
     "data": {
      "text/plain": [
       "<matplotlib.collections.PathCollection at 0x1a97006c910>"
      ]
     },
     "execution_count": 52,
     "metadata": {},
     "output_type": "execute_result"
    },
    {
     "data": {
      "image/png": "[encoded data removed]",
      "text/plain": [
       "<Figure size 432x288 with 1 Axes>"
      ]
     },
     "metadata": {
      "needs_background": "light"
     },
     "output_type": "display_data"
    }
   ],
   "source": [
    "plt.scatter(x[:,1], y, marker = '*', color = 'blue')\n",
    "plt.scatter(x[:,-1], y, marker = 'o', color = 'red')"
   ]
  },
  {
   "cell_type": "code",
   "execution_count": null,
   "id": "6790c4f4",
   "metadata": {},
   "outputs": [],
   "source": []
  }
 ],
 "metadata": {
  "kernelspec": {
   "display_name": "Python 3 (ipykernel)",
   "language": "python",
   "name": "python3"
  },
  "language_info": {
   "codemirror_mode": {
    "name": "ipython",
    "version": 3
   },
   "file_extension": ".py",
   "mimetype": "text/x-python",
   "name": "python",
   "nbconvert_exporter": "python",
   "pygments_lexer": "ipython3",
   "version": "3.8.12"
  }
 },
 "nbformat": 4,
 "nbformat_minor": 5
}
