{
 "cells": [
  {
   "cell_type": "code",
   "execution_count": 1,
   "id": "1cec58b2",
   "metadata": {},
   "outputs": [],
   "source": [
    "import pandas as pd\n",
    "import numpy as np\n",
    "import matplotlib.pyplot as plt"
   ]
  },
  {
   "cell_type": "code",
   "execution_count": 3,
   "id": "ea3a30b6",
   "metadata": {},
   "outputs": [
    {
     "data": {
      "text/html": [
       "<div>\n",
       "<style scoped>\n",
       "    .dataframe tbody tr th:only-of-type {\n",
       "        vertical-align: middle;\n",
       "    }\n",
       "\n",
       "    .dataframe tbody tr th {\n",
       "        vertical-align: top;\n",
       "    }\n",
       "\n",
       "    .dataframe thead th {\n",
       "        text-align: right;\n",
       "    }\n",
       "</style>\n",
       "<table border=\"1\" class=\"dataframe\">\n",
       "  <thead>\n",
       "    <tr style=\"text-align: right;\">\n",
       "      <th></th>\n",
       "      <th>나이</th>\n",
       "      <th>월수입</th>\n",
       "      <th>상품구매여부</th>\n",
       "    </tr>\n",
       "  </thead>\n",
       "  <tbody>\n",
       "    <tr>\n",
       "      <th>0</th>\n",
       "      <td>26</td>\n",
       "      <td>160</td>\n",
       "      <td>구매</td>\n",
       "    </tr>\n",
       "    <tr>\n",
       "      <th>1</th>\n",
       "      <td>35</td>\n",
       "      <td>210</td>\n",
       "      <td>비구매</td>\n",
       "    </tr>\n",
       "    <tr>\n",
       "      <th>2</th>\n",
       "      <td>26</td>\n",
       "      <td>220</td>\n",
       "      <td>비구매</td>\n",
       "    </tr>\n",
       "    <tr>\n",
       "      <th>3</th>\n",
       "      <td>29</td>\n",
       "      <td>260</td>\n",
       "      <td>구매</td>\n",
       "    </tr>\n",
       "    <tr>\n",
       "      <th>4</th>\n",
       "      <td>22</td>\n",
       "      <td>110</td>\n",
       "      <td>비구매</td>\n",
       "    </tr>\n",
       "    <tr>\n",
       "      <th>5</th>\n",
       "      <td>32</td>\n",
       "      <td>210</td>\n",
       "      <td>비구매</td>\n",
       "    </tr>\n",
       "    <tr>\n",
       "      <th>6</th>\n",
       "      <td>37</td>\n",
       "      <td>310</td>\n",
       "      <td>구매</td>\n",
       "    </tr>\n",
       "    <tr>\n",
       "      <th>7</th>\n",
       "      <td>21</td>\n",
       "      <td>110</td>\n",
       "      <td>비구매</td>\n",
       "    </tr>\n",
       "    <tr>\n",
       "      <th>8</th>\n",
       "      <td>28</td>\n",
       "      <td>210</td>\n",
       "      <td>비구매</td>\n",
       "    </tr>\n",
       "    <tr>\n",
       "      <th>9</th>\n",
       "      <td>31</td>\n",
       "      <td>260</td>\n",
       "      <td>구매</td>\n",
       "    </tr>\n",
       "    <tr>\n",
       "      <th>10</th>\n",
       "      <td>36</td>\n",
       "      <td>390</td>\n",
       "      <td>구매</td>\n",
       "    </tr>\n",
       "    <tr>\n",
       "      <th>11</th>\n",
       "      <td>23</td>\n",
       "      <td>110</td>\n",
       "      <td>비구매</td>\n",
       "    </tr>\n",
       "    <tr>\n",
       "      <th>12</th>\n",
       "      <td>32</td>\n",
       "      <td>340</td>\n",
       "      <td>비구매</td>\n",
       "    </tr>\n",
       "    <tr>\n",
       "      <th>13</th>\n",
       "      <td>29</td>\n",
       "      <td>170</td>\n",
       "      <td>구매</td>\n",
       "    </tr>\n",
       "    <tr>\n",
       "      <th>14</th>\n",
       "      <td>37</td>\n",
       "      <td>340</td>\n",
       "      <td>구매</td>\n",
       "    </tr>\n",
       "    <tr>\n",
       "      <th>15</th>\n",
       "      <td>31</td>\n",
       "      <td>240</td>\n",
       "      <td>비구매</td>\n",
       "    </tr>\n",
       "    <tr>\n",
       "      <th>16</th>\n",
       "      <td>27</td>\n",
       "      <td>230</td>\n",
       "      <td>비구매</td>\n",
       "    </tr>\n",
       "    <tr>\n",
       "      <th>17</th>\n",
       "      <td>23</td>\n",
       "      <td>210</td>\n",
       "      <td>비구매</td>\n",
       "    </tr>\n",
       "    <tr>\n",
       "      <th>18</th>\n",
       "      <td>40</td>\n",
       "      <td>440</td>\n",
       "      <td>구매</td>\n",
       "    </tr>\n",
       "    <tr>\n",
       "      <th>19</th>\n",
       "      <td>27</td>\n",
       "      <td>140</td>\n",
       "      <td>비구매</td>\n",
       "    </tr>\n",
       "  </tbody>\n",
       "</table>\n",
       "</div>"
      ],
      "text/plain": [
       "    나이  월수입 상품구매여부\n",
       "0   26  160     구매\n",
       "1   35  210    비구매\n",
       "2   26  220   비구매 \n",
       "3   29  260     구매\n",
       "4   22  110    비구매\n",
       "5   32  210    비구매\n",
       "6   37  310     구매\n",
       "7   21  110    비구매\n",
       "8   28  210    비구매\n",
       "9   31  260     구매\n",
       "10  36  390     구매\n",
       "11  23  110    비구매\n",
       "12  32  340    비구매\n",
       "13  29  170     구매\n",
       "14  37  340     구매\n",
       "15  31  240    비구매\n",
       "16  27  230    비구매\n",
       "17  23  210    비구매\n",
       "18  40  440     구매\n",
       "19  27  140    비구매"
      ]
     },
     "execution_count": 3,
     "metadata": {},
     "output_type": "execute_result"
    }
   ],
   "source": [
    "buy = pd.read_csv('./buy.csv')\n",
    "buy"
   ]
  },
  {
   "cell_type": "code",
   "execution_count": 4,
   "id": "6a750dd2",
   "metadata": {},
   "outputs": [
    {
     "name": "stdout",
     "output_type": "stream",
     "text": [
      "(20, 3)\n"
     ]
    }
   ],
   "source": [
    "buy.columns = ['age', 'paycheck', 'purchase']\n",
    "print(buy.shape)"
   ]
  },
  {
   "cell_type": "code",
   "execution_count": 5,
   "id": "8661e60b",
   "metadata": {},
   "outputs": [
    {
     "name": "stdout",
     "output_type": "stream",
     "text": [
      "<class 'pandas.core.frame.DataFrame'>\n",
      "RangeIndex: 20 entries, 0 to 19\n",
      "Data columns (total 3 columns):\n",
      " #   Column    Non-Null Count  Dtype \n",
      "---  ------    --------------  ----- \n",
      " 0   age       20 non-null     int64 \n",
      " 1   paycheck  20 non-null     int64 \n",
      " 2   purchase  20 non-null     object\n",
      "dtypes: int64(2), object(1)\n",
      "memory usage: 608.0+ bytes\n"
     ]
    }
   ],
   "source": [
    "buy.info()"
   ]
  },
  {
   "cell_type": "code",
   "execution_count": 6,
   "id": "847b8d4f",
   "metadata": {},
   "outputs": [
    {
     "data": {
      "text/plain": [
       "array([0, 0, 0, 0, 0, 0, 0, 0, 0, 0, 0, 0, 0, 0, 0, 0, 0, 0, 0, 0])"
      ]
     },
     "execution_count": 6,
     "metadata": {},
     "output_type": "execute_result"
    }
   ],
   "source": [
    "np.array([0]*len(buy))"
   ]
  },
  {
   "cell_type": "code",
   "execution_count": 7,
   "id": "5b08528e",
   "metadata": {},
   "outputs": [
    {
     "data": {
      "text/plain": [
       "array([1, 0, 0, 1, 0, 0, 1, 0, 0, 1, 1, 0, 0, 1, 1, 0, 0, 0, 1, 0])"
      ]
     },
     "execution_count": 7,
     "metadata": {},
     "output_type": "execute_result"
    }
   ],
   "source": [
    "buy_int = np.array([0]*len(buy)) # 정수변환\n",
    "buy_int[buy.purchase == '구매'] = 1\n",
    "buy_int[buy.purchase == '비구매'] = 0\n",
    "buy_int"
   ]
  },
  {
   "cell_type": "code",
   "execution_count": 8,
   "id": "89db25c9",
   "metadata": {},
   "outputs": [
    {
     "data": {
      "text/html": [
       "<div>\n",
       "<style scoped>\n",
       "    .dataframe tbody tr th:only-of-type {\n",
       "        vertical-align: middle;\n",
       "    }\n",
       "\n",
       "    .dataframe tbody tr th {\n",
       "        vertical-align: top;\n",
       "    }\n",
       "\n",
       "    .dataframe thead th {\n",
       "        text-align: right;\n",
       "    }\n",
       "</style>\n",
       "<table border=\"1\" class=\"dataframe\">\n",
       "  <thead>\n",
       "    <tr style=\"text-align: right;\">\n",
       "      <th></th>\n",
       "      <th>age</th>\n",
       "      <th>paycheck</th>\n",
       "      <th>purchase</th>\n",
       "    </tr>\n",
       "  </thead>\n",
       "  <tbody>\n",
       "    <tr>\n",
       "      <th>0</th>\n",
       "      <td>26</td>\n",
       "      <td>160</td>\n",
       "      <td>1</td>\n",
       "    </tr>\n",
       "    <tr>\n",
       "      <th>1</th>\n",
       "      <td>35</td>\n",
       "      <td>210</td>\n",
       "      <td>0</td>\n",
       "    </tr>\n",
       "    <tr>\n",
       "      <th>2</th>\n",
       "      <td>26</td>\n",
       "      <td>220</td>\n",
       "      <td>0</td>\n",
       "    </tr>\n",
       "    <tr>\n",
       "      <th>3</th>\n",
       "      <td>29</td>\n",
       "      <td>260</td>\n",
       "      <td>1</td>\n",
       "    </tr>\n",
       "    <tr>\n",
       "      <th>4</th>\n",
       "      <td>22</td>\n",
       "      <td>110</td>\n",
       "      <td>0</td>\n",
       "    </tr>\n",
       "    <tr>\n",
       "      <th>5</th>\n",
       "      <td>32</td>\n",
       "      <td>210</td>\n",
       "      <td>0</td>\n",
       "    </tr>\n",
       "    <tr>\n",
       "      <th>6</th>\n",
       "      <td>37</td>\n",
       "      <td>310</td>\n",
       "      <td>1</td>\n",
       "    </tr>\n",
       "    <tr>\n",
       "      <th>7</th>\n",
       "      <td>21</td>\n",
       "      <td>110</td>\n",
       "      <td>0</td>\n",
       "    </tr>\n",
       "    <tr>\n",
       "      <th>8</th>\n",
       "      <td>28</td>\n",
       "      <td>210</td>\n",
       "      <td>0</td>\n",
       "    </tr>\n",
       "    <tr>\n",
       "      <th>9</th>\n",
       "      <td>31</td>\n",
       "      <td>260</td>\n",
       "      <td>1</td>\n",
       "    </tr>\n",
       "    <tr>\n",
       "      <th>10</th>\n",
       "      <td>36</td>\n",
       "      <td>390</td>\n",
       "      <td>1</td>\n",
       "    </tr>\n",
       "    <tr>\n",
       "      <th>11</th>\n",
       "      <td>23</td>\n",
       "      <td>110</td>\n",
       "      <td>0</td>\n",
       "    </tr>\n",
       "    <tr>\n",
       "      <th>12</th>\n",
       "      <td>32</td>\n",
       "      <td>340</td>\n",
       "      <td>0</td>\n",
       "    </tr>\n",
       "    <tr>\n",
       "      <th>13</th>\n",
       "      <td>29</td>\n",
       "      <td>170</td>\n",
       "      <td>1</td>\n",
       "    </tr>\n",
       "    <tr>\n",
       "      <th>14</th>\n",
       "      <td>37</td>\n",
       "      <td>340</td>\n",
       "      <td>1</td>\n",
       "    </tr>\n",
       "    <tr>\n",
       "      <th>15</th>\n",
       "      <td>31</td>\n",
       "      <td>240</td>\n",
       "      <td>0</td>\n",
       "    </tr>\n",
       "    <tr>\n",
       "      <th>16</th>\n",
       "      <td>27</td>\n",
       "      <td>230</td>\n",
       "      <td>0</td>\n",
       "    </tr>\n",
       "    <tr>\n",
       "      <th>17</th>\n",
       "      <td>23</td>\n",
       "      <td>210</td>\n",
       "      <td>0</td>\n",
       "    </tr>\n",
       "    <tr>\n",
       "      <th>18</th>\n",
       "      <td>40</td>\n",
       "      <td>440</td>\n",
       "      <td>1</td>\n",
       "    </tr>\n",
       "    <tr>\n",
       "      <th>19</th>\n",
       "      <td>27</td>\n",
       "      <td>140</td>\n",
       "      <td>0</td>\n",
       "    </tr>\n",
       "  </tbody>\n",
       "</table>\n",
       "</div>"
      ],
      "text/plain": [
       "    age  paycheck  purchase\n",
       "0    26       160         1\n",
       "1    35       210         0\n",
       "2    26       220         0\n",
       "3    29       260         1\n",
       "4    22       110         0\n",
       "5    32       210         0\n",
       "6    37       310         1\n",
       "7    21       110         0\n",
       "8    28       210         0\n",
       "9    31       260         1\n",
       "10   36       390         1\n",
       "11   23       110         0\n",
       "12   32       340         0\n",
       "13   29       170         1\n",
       "14   37       340         1\n",
       "15   31       240         0\n",
       "16   27       230         0\n",
       "17   23       210         0\n",
       "18   40       440         1\n",
       "19   27       140         0"
      ]
     },
     "execution_count": 8,
     "metadata": {},
     "output_type": "execute_result"
    }
   ],
   "source": [
    "buy.purchase = buy_int\n",
    "buy"
   ]
  },
  {
   "cell_type": "code",
   "execution_count": 10,
   "id": "a807bf2d",
   "metadata": {},
   "outputs": [
    {
     "data": {
      "text/html": [
       "<div>\n",
       "<style scoped>\n",
       "    .dataframe tbody tr th:only-of-type {\n",
       "        vertical-align: middle;\n",
       "    }\n",
       "\n",
       "    .dataframe tbody tr th {\n",
       "        vertical-align: top;\n",
       "    }\n",
       "\n",
       "    .dataframe thead th {\n",
       "        text-align: right;\n",
       "    }\n",
       "</style>\n",
       "<table border=\"1\" class=\"dataframe\">\n",
       "  <thead>\n",
       "    <tr style=\"text-align: right;\">\n",
       "      <th></th>\n",
       "      <th>age</th>\n",
       "      <th>paycheck</th>\n",
       "      <th>purchase</th>\n",
       "    </tr>\n",
       "  </thead>\n",
       "  <tbody>\n",
       "    <tr>\n",
       "      <th>0</th>\n",
       "      <td>26</td>\n",
       "      <td>160</td>\n",
       "      <td>1</td>\n",
       "    </tr>\n",
       "    <tr>\n",
       "      <th>1</th>\n",
       "      <td>35</td>\n",
       "      <td>210</td>\n",
       "      <td>0</td>\n",
       "    </tr>\n",
       "    <tr>\n",
       "      <th>2</th>\n",
       "      <td>26</td>\n",
       "      <td>220</td>\n",
       "      <td>0</td>\n",
       "    </tr>\n",
       "    <tr>\n",
       "      <th>3</th>\n",
       "      <td>29</td>\n",
       "      <td>260</td>\n",
       "      <td>1</td>\n",
       "    </tr>\n",
       "    <tr>\n",
       "      <th>4</th>\n",
       "      <td>22</td>\n",
       "      <td>110</td>\n",
       "      <td>0</td>\n",
       "    </tr>\n",
       "    <tr>\n",
       "      <th>5</th>\n",
       "      <td>32</td>\n",
       "      <td>210</td>\n",
       "      <td>0</td>\n",
       "    </tr>\n",
       "    <tr>\n",
       "      <th>6</th>\n",
       "      <td>37</td>\n",
       "      <td>310</td>\n",
       "      <td>1</td>\n",
       "    </tr>\n",
       "    <tr>\n",
       "      <th>7</th>\n",
       "      <td>21</td>\n",
       "      <td>110</td>\n",
       "      <td>0</td>\n",
       "    </tr>\n",
       "    <tr>\n",
       "      <th>8</th>\n",
       "      <td>28</td>\n",
       "      <td>210</td>\n",
       "      <td>0</td>\n",
       "    </tr>\n",
       "    <tr>\n",
       "      <th>9</th>\n",
       "      <td>31</td>\n",
       "      <td>260</td>\n",
       "      <td>1</td>\n",
       "    </tr>\n",
       "    <tr>\n",
       "      <th>10</th>\n",
       "      <td>36</td>\n",
       "      <td>390</td>\n",
       "      <td>1</td>\n",
       "    </tr>\n",
       "    <tr>\n",
       "      <th>11</th>\n",
       "      <td>23</td>\n",
       "      <td>110</td>\n",
       "      <td>0</td>\n",
       "    </tr>\n",
       "    <tr>\n",
       "      <th>12</th>\n",
       "      <td>32</td>\n",
       "      <td>340</td>\n",
       "      <td>0</td>\n",
       "    </tr>\n",
       "    <tr>\n",
       "      <th>13</th>\n",
       "      <td>29</td>\n",
       "      <td>170</td>\n",
       "      <td>1</td>\n",
       "    </tr>\n",
       "    <tr>\n",
       "      <th>14</th>\n",
       "      <td>37</td>\n",
       "      <td>340</td>\n",
       "      <td>1</td>\n",
       "    </tr>\n",
       "    <tr>\n",
       "      <th>15</th>\n",
       "      <td>31</td>\n",
       "      <td>240</td>\n",
       "      <td>0</td>\n",
       "    </tr>\n",
       "    <tr>\n",
       "      <th>16</th>\n",
       "      <td>27</td>\n",
       "      <td>230</td>\n",
       "      <td>0</td>\n",
       "    </tr>\n",
       "    <tr>\n",
       "      <th>17</th>\n",
       "      <td>23</td>\n",
       "      <td>210</td>\n",
       "      <td>0</td>\n",
       "    </tr>\n",
       "    <tr>\n",
       "      <th>18</th>\n",
       "      <td>40</td>\n",
       "      <td>440</td>\n",
       "      <td>1</td>\n",
       "    </tr>\n",
       "    <tr>\n",
       "      <th>19</th>\n",
       "      <td>27</td>\n",
       "      <td>140</td>\n",
       "      <td>0</td>\n",
       "    </tr>\n",
       "  </tbody>\n",
       "</table>\n",
       "</div>"
      ],
      "text/plain": [
       "    age  paycheck  purchase\n",
       "0    26       160         1\n",
       "1    35       210         0\n",
       "2    26       220         0\n",
       "3    29       260         1\n",
       "4    22       110         0\n",
       "5    32       210         0\n",
       "6    37       310         1\n",
       "7    21       110         0\n",
       "8    28       210         0\n",
       "9    31       260         1\n",
       "10   36       390         1\n",
       "11   23       110         0\n",
       "12   32       340         0\n",
       "13   29       170         1\n",
       "14   37       340         1\n",
       "15   31       240         0\n",
       "16   27       230         0\n",
       "17   23       210         0\n",
       "18   40       440         1\n",
       "19   27       140         0"
      ]
     },
     "execution_count": 10,
     "metadata": {},
     "output_type": "execute_result"
    }
   ],
   "source": [
    "test_buy = buy.copy()\n",
    "test_buy"
   ]
  },
  {
   "cell_type": "code",
   "execution_count": 12,
   "id": "c116ea6b",
   "metadata": {},
   "outputs": [
    {
     "data": {
      "text/plain": [
       "array([[-0.67743894, -0.81302375,  1.22474487],\n",
       "       [ 1.0161584 , -0.25994637, -0.81649658],\n",
       "       [-0.67743894, -0.14933089, -0.81649658],\n",
       "       [-0.11290649,  0.29313101,  1.22474487],\n",
       "       [-1.43014887, -1.36610113, -0.81649658],\n",
       "       [ 0.45162596, -0.25994637, -0.81649658],\n",
       "       [ 1.39251337,  0.84620839,  1.22474487],\n",
       "       [-1.61832635, -1.36610113, -0.81649658],\n",
       "       [-0.30108397, -0.25994637, -0.81649658],\n",
       "       [ 0.26344848,  0.29313101,  1.22474487],\n",
       "       [ 1.20433589,  1.7311322 ,  1.22474487],\n",
       "       [-1.24197138, -1.36610113, -0.81649658],\n",
       "       [ 0.45162596,  1.17805482, -0.81649658],\n",
       "       [-0.11290649, -0.70240827,  1.22474487],\n",
       "       [ 1.39251337,  1.17805482,  1.22474487],\n",
       "       [ 0.26344848,  0.07190006, -0.81649658],\n",
       "       [-0.48926145, -0.03871542, -0.81649658],\n",
       "       [-1.24197138, -0.25994637, -0.81649658],\n",
       "       [ 1.95704582,  2.28420958,  1.22474487],\n",
       "       [-0.48926145, -1.0342547 , -0.81649658]])"
      ]
     },
     "execution_count": 12,
     "metadata": {},
     "output_type": "execute_result"
    }
   ],
   "source": [
    "# 정규화\n",
    "from sklearn.preprocessing import StandardScaler\n",
    "\n",
    "scaler = StandardScaler()\n",
    "scaler.fit(buy)\n",
    "buy = scaler.transform(buy)\n",
    "buy"
   ]
  },
  {
   "cell_type": "code",
   "execution_count": 13,
   "id": "0a018113",
   "metadata": {},
   "outputs": [],
   "source": [
    "buy = pd.DataFrame(buy)"
   ]
  },
  {
   "cell_type": "code",
   "execution_count": 14,
   "id": "298ce38a",
   "metadata": {
    "scrolled": true
   },
   "outputs": [
    {
     "data": {
      "text/html": [
       "<div>\n",
       "<style scoped>\n",
       "    .dataframe tbody tr th:only-of-type {\n",
       "        vertical-align: middle;\n",
       "    }\n",
       "\n",
       "    .dataframe tbody tr th {\n",
       "        vertical-align: top;\n",
       "    }\n",
       "\n",
       "    .dataframe thead th {\n",
       "        text-align: right;\n",
       "    }\n",
       "</style>\n",
       "<table border=\"1\" class=\"dataframe\">\n",
       "  <thead>\n",
       "    <tr style=\"text-align: right;\">\n",
       "      <th></th>\n",
       "      <th>0</th>\n",
       "      <th>1</th>\n",
       "      <th>2</th>\n",
       "    </tr>\n",
       "  </thead>\n",
       "  <tbody>\n",
       "    <tr>\n",
       "      <th>0</th>\n",
       "      <td>-0.677439</td>\n",
       "      <td>-0.813024</td>\n",
       "      <td>1.224745</td>\n",
       "    </tr>\n",
       "    <tr>\n",
       "      <th>1</th>\n",
       "      <td>1.016158</td>\n",
       "      <td>-0.259946</td>\n",
       "      <td>-0.816497</td>\n",
       "    </tr>\n",
       "    <tr>\n",
       "      <th>2</th>\n",
       "      <td>-0.677439</td>\n",
       "      <td>-0.149331</td>\n",
       "      <td>-0.816497</td>\n",
       "    </tr>\n",
       "    <tr>\n",
       "      <th>3</th>\n",
       "      <td>-0.112906</td>\n",
       "      <td>0.293131</td>\n",
       "      <td>1.224745</td>\n",
       "    </tr>\n",
       "    <tr>\n",
       "      <th>4</th>\n",
       "      <td>-1.430149</td>\n",
       "      <td>-1.366101</td>\n",
       "      <td>-0.816497</td>\n",
       "    </tr>\n",
       "    <tr>\n",
       "      <th>5</th>\n",
       "      <td>0.451626</td>\n",
       "      <td>-0.259946</td>\n",
       "      <td>-0.816497</td>\n",
       "    </tr>\n",
       "    <tr>\n",
       "      <th>6</th>\n",
       "      <td>1.392513</td>\n",
       "      <td>0.846208</td>\n",
       "      <td>1.224745</td>\n",
       "    </tr>\n",
       "    <tr>\n",
       "      <th>7</th>\n",
       "      <td>-1.618326</td>\n",
       "      <td>-1.366101</td>\n",
       "      <td>-0.816497</td>\n",
       "    </tr>\n",
       "    <tr>\n",
       "      <th>8</th>\n",
       "      <td>-0.301084</td>\n",
       "      <td>-0.259946</td>\n",
       "      <td>-0.816497</td>\n",
       "    </tr>\n",
       "    <tr>\n",
       "      <th>9</th>\n",
       "      <td>0.263448</td>\n",
       "      <td>0.293131</td>\n",
       "      <td>1.224745</td>\n",
       "    </tr>\n",
       "    <tr>\n",
       "      <th>10</th>\n",
       "      <td>1.204336</td>\n",
       "      <td>1.731132</td>\n",
       "      <td>1.224745</td>\n",
       "    </tr>\n",
       "    <tr>\n",
       "      <th>11</th>\n",
       "      <td>-1.241971</td>\n",
       "      <td>-1.366101</td>\n",
       "      <td>-0.816497</td>\n",
       "    </tr>\n",
       "    <tr>\n",
       "      <th>12</th>\n",
       "      <td>0.451626</td>\n",
       "      <td>1.178055</td>\n",
       "      <td>-0.816497</td>\n",
       "    </tr>\n",
       "    <tr>\n",
       "      <th>13</th>\n",
       "      <td>-0.112906</td>\n",
       "      <td>-0.702408</td>\n",
       "      <td>1.224745</td>\n",
       "    </tr>\n",
       "    <tr>\n",
       "      <th>14</th>\n",
       "      <td>1.392513</td>\n",
       "      <td>1.178055</td>\n",
       "      <td>1.224745</td>\n",
       "    </tr>\n",
       "    <tr>\n",
       "      <th>15</th>\n",
       "      <td>0.263448</td>\n",
       "      <td>0.071900</td>\n",
       "      <td>-0.816497</td>\n",
       "    </tr>\n",
       "    <tr>\n",
       "      <th>16</th>\n",
       "      <td>-0.489261</td>\n",
       "      <td>-0.038715</td>\n",
       "      <td>-0.816497</td>\n",
       "    </tr>\n",
       "    <tr>\n",
       "      <th>17</th>\n",
       "      <td>-1.241971</td>\n",
       "      <td>-0.259946</td>\n",
       "      <td>-0.816497</td>\n",
       "    </tr>\n",
       "    <tr>\n",
       "      <th>18</th>\n",
       "      <td>1.957046</td>\n",
       "      <td>2.284210</td>\n",
       "      <td>1.224745</td>\n",
       "    </tr>\n",
       "    <tr>\n",
       "      <th>19</th>\n",
       "      <td>-0.489261</td>\n",
       "      <td>-1.034255</td>\n",
       "      <td>-0.816497</td>\n",
       "    </tr>\n",
       "  </tbody>\n",
       "</table>\n",
       "</div>"
      ],
      "text/plain": [
       "           0         1         2\n",
       "0  -0.677439 -0.813024  1.224745\n",
       "1   1.016158 -0.259946 -0.816497\n",
       "2  -0.677439 -0.149331 -0.816497\n",
       "3  -0.112906  0.293131  1.224745\n",
       "4  -1.430149 -1.366101 -0.816497\n",
       "5   0.451626 -0.259946 -0.816497\n",
       "6   1.392513  0.846208  1.224745\n",
       "7  -1.618326 -1.366101 -0.816497\n",
       "8  -0.301084 -0.259946 -0.816497\n",
       "9   0.263448  0.293131  1.224745\n",
       "10  1.204336  1.731132  1.224745\n",
       "11 -1.241971 -1.366101 -0.816497\n",
       "12  0.451626  1.178055 -0.816497\n",
       "13 -0.112906 -0.702408  1.224745\n",
       "14  1.392513  1.178055  1.224745\n",
       "15  0.263448  0.071900 -0.816497\n",
       "16 -0.489261 -0.038715 -0.816497\n",
       "17 -1.241971 -0.259946 -0.816497\n",
       "18  1.957046  2.284210  1.224745\n",
       "19 -0.489261 -1.034255 -0.816497"
      ]
     },
     "execution_count": 14,
     "metadata": {},
     "output_type": "execute_result"
    }
   ],
   "source": [
    "buy"
   ]
  },
  {
   "cell_type": "code",
   "execution_count": 15,
   "id": "c52155da",
   "metadata": {
    "scrolled": true
   },
   "outputs": [
    {
     "data": {
      "text/html": [
       "<div>\n",
       "<style scoped>\n",
       "    .dataframe tbody tr th:only-of-type {\n",
       "        vertical-align: middle;\n",
       "    }\n",
       "\n",
       "    .dataframe tbody tr th {\n",
       "        vertical-align: top;\n",
       "    }\n",
       "\n",
       "    .dataframe thead th {\n",
       "        text-align: right;\n",
       "    }\n",
       "</style>\n",
       "<table border=\"1\" class=\"dataframe\">\n",
       "  <thead>\n",
       "    <tr style=\"text-align: right;\">\n",
       "      <th></th>\n",
       "      <th>age</th>\n",
       "      <th>paycheck</th>\n",
       "      <th>purchase</th>\n",
       "    </tr>\n",
       "  </thead>\n",
       "  <tbody>\n",
       "    <tr>\n",
       "      <th>0</th>\n",
       "      <td>-0.677439</td>\n",
       "      <td>-0.813024</td>\n",
       "      <td>1.224745</td>\n",
       "    </tr>\n",
       "    <tr>\n",
       "      <th>1</th>\n",
       "      <td>1.016158</td>\n",
       "      <td>-0.259946</td>\n",
       "      <td>-0.816497</td>\n",
       "    </tr>\n",
       "    <tr>\n",
       "      <th>2</th>\n",
       "      <td>-0.677439</td>\n",
       "      <td>-0.149331</td>\n",
       "      <td>-0.816497</td>\n",
       "    </tr>\n",
       "    <tr>\n",
       "      <th>3</th>\n",
       "      <td>-0.112906</td>\n",
       "      <td>0.293131</td>\n",
       "      <td>1.224745</td>\n",
       "    </tr>\n",
       "    <tr>\n",
       "      <th>4</th>\n",
       "      <td>-1.430149</td>\n",
       "      <td>-1.366101</td>\n",
       "      <td>-0.816497</td>\n",
       "    </tr>\n",
       "    <tr>\n",
       "      <th>5</th>\n",
       "      <td>0.451626</td>\n",
       "      <td>-0.259946</td>\n",
       "      <td>-0.816497</td>\n",
       "    </tr>\n",
       "    <tr>\n",
       "      <th>6</th>\n",
       "      <td>1.392513</td>\n",
       "      <td>0.846208</td>\n",
       "      <td>1.224745</td>\n",
       "    </tr>\n",
       "    <tr>\n",
       "      <th>7</th>\n",
       "      <td>-1.618326</td>\n",
       "      <td>-1.366101</td>\n",
       "      <td>-0.816497</td>\n",
       "    </tr>\n",
       "    <tr>\n",
       "      <th>8</th>\n",
       "      <td>-0.301084</td>\n",
       "      <td>-0.259946</td>\n",
       "      <td>-0.816497</td>\n",
       "    </tr>\n",
       "    <tr>\n",
       "      <th>9</th>\n",
       "      <td>0.263448</td>\n",
       "      <td>0.293131</td>\n",
       "      <td>1.224745</td>\n",
       "    </tr>\n",
       "    <tr>\n",
       "      <th>10</th>\n",
       "      <td>1.204336</td>\n",
       "      <td>1.731132</td>\n",
       "      <td>1.224745</td>\n",
       "    </tr>\n",
       "    <tr>\n",
       "      <th>11</th>\n",
       "      <td>-1.241971</td>\n",
       "      <td>-1.366101</td>\n",
       "      <td>-0.816497</td>\n",
       "    </tr>\n",
       "    <tr>\n",
       "      <th>12</th>\n",
       "      <td>0.451626</td>\n",
       "      <td>1.178055</td>\n",
       "      <td>-0.816497</td>\n",
       "    </tr>\n",
       "    <tr>\n",
       "      <th>13</th>\n",
       "      <td>-0.112906</td>\n",
       "      <td>-0.702408</td>\n",
       "      <td>1.224745</td>\n",
       "    </tr>\n",
       "    <tr>\n",
       "      <th>14</th>\n",
       "      <td>1.392513</td>\n",
       "      <td>1.178055</td>\n",
       "      <td>1.224745</td>\n",
       "    </tr>\n",
       "    <tr>\n",
       "      <th>15</th>\n",
       "      <td>0.263448</td>\n",
       "      <td>0.071900</td>\n",
       "      <td>-0.816497</td>\n",
       "    </tr>\n",
       "    <tr>\n",
       "      <th>16</th>\n",
       "      <td>-0.489261</td>\n",
       "      <td>-0.038715</td>\n",
       "      <td>-0.816497</td>\n",
       "    </tr>\n",
       "    <tr>\n",
       "      <th>17</th>\n",
       "      <td>-1.241971</td>\n",
       "      <td>-0.259946</td>\n",
       "      <td>-0.816497</td>\n",
       "    </tr>\n",
       "    <tr>\n",
       "      <th>18</th>\n",
       "      <td>1.957046</td>\n",
       "      <td>2.284210</td>\n",
       "      <td>1.224745</td>\n",
       "    </tr>\n",
       "    <tr>\n",
       "      <th>19</th>\n",
       "      <td>-0.489261</td>\n",
       "      <td>-1.034255</td>\n",
       "      <td>-0.816497</td>\n",
       "    </tr>\n",
       "  </tbody>\n",
       "</table>\n",
       "</div>"
      ],
      "text/plain": [
       "         age  paycheck  purchase\n",
       "0  -0.677439 -0.813024  1.224745\n",
       "1   1.016158 -0.259946 -0.816497\n",
       "2  -0.677439 -0.149331 -0.816497\n",
       "3  -0.112906  0.293131  1.224745\n",
       "4  -1.430149 -1.366101 -0.816497\n",
       "5   0.451626 -0.259946 -0.816497\n",
       "6   1.392513  0.846208  1.224745\n",
       "7  -1.618326 -1.366101 -0.816497\n",
       "8  -0.301084 -0.259946 -0.816497\n",
       "9   0.263448  0.293131  1.224745\n",
       "10  1.204336  1.731132  1.224745\n",
       "11 -1.241971 -1.366101 -0.816497\n",
       "12  0.451626  1.178055 -0.816497\n",
       "13 -0.112906 -0.702408  1.224745\n",
       "14  1.392513  1.178055  1.224745\n",
       "15  0.263448  0.071900 -0.816497\n",
       "16 -0.489261 -0.038715 -0.816497\n",
       "17 -1.241971 -0.259946 -0.816497\n",
       "18  1.957046  2.284210  1.224745\n",
       "19 -0.489261 -1.034255 -0.816497"
      ]
     },
     "execution_count": 15,
     "metadata": {},
     "output_type": "execute_result"
    }
   ],
   "source": [
    "buy.columns = ['age', 'paycheck', 'purchase']\n",
    "buy"
   ]
  },
  {
   "cell_type": "code",
   "execution_count": 16,
   "id": "774afa83",
   "metadata": {
    "scrolled": true
   },
   "outputs": [
    {
     "data": {
      "text/html": [
       "<div>\n",
       "<style scoped>\n",
       "    .dataframe tbody tr th:only-of-type {\n",
       "        vertical-align: middle;\n",
       "    }\n",
       "\n",
       "    .dataframe tbody tr th {\n",
       "        vertical-align: top;\n",
       "    }\n",
       "\n",
       "    .dataframe thead th {\n",
       "        text-align: right;\n",
       "    }\n",
       "</style>\n",
       "<table border=\"1\" class=\"dataframe\">\n",
       "  <thead>\n",
       "    <tr style=\"text-align: right;\">\n",
       "      <th></th>\n",
       "      <th>age</th>\n",
       "      <th>paycheck</th>\n",
       "      <th>purchase</th>\n",
       "    </tr>\n",
       "  </thead>\n",
       "  <tbody>\n",
       "    <tr>\n",
       "      <th>0</th>\n",
       "      <td>26</td>\n",
       "      <td>160</td>\n",
       "      <td>1</td>\n",
       "    </tr>\n",
       "    <tr>\n",
       "      <th>1</th>\n",
       "      <td>35</td>\n",
       "      <td>210</td>\n",
       "      <td>0</td>\n",
       "    </tr>\n",
       "    <tr>\n",
       "      <th>2</th>\n",
       "      <td>26</td>\n",
       "      <td>220</td>\n",
       "      <td>0</td>\n",
       "    </tr>\n",
       "    <tr>\n",
       "      <th>3</th>\n",
       "      <td>29</td>\n",
       "      <td>260</td>\n",
       "      <td>1</td>\n",
       "    </tr>\n",
       "    <tr>\n",
       "      <th>4</th>\n",
       "      <td>22</td>\n",
       "      <td>110</td>\n",
       "      <td>0</td>\n",
       "    </tr>\n",
       "    <tr>\n",
       "      <th>5</th>\n",
       "      <td>32</td>\n",
       "      <td>210</td>\n",
       "      <td>0</td>\n",
       "    </tr>\n",
       "    <tr>\n",
       "      <th>6</th>\n",
       "      <td>37</td>\n",
       "      <td>310</td>\n",
       "      <td>1</td>\n",
       "    </tr>\n",
       "    <tr>\n",
       "      <th>7</th>\n",
       "      <td>21</td>\n",
       "      <td>110</td>\n",
       "      <td>0</td>\n",
       "    </tr>\n",
       "    <tr>\n",
       "      <th>8</th>\n",
       "      <td>28</td>\n",
       "      <td>210</td>\n",
       "      <td>0</td>\n",
       "    </tr>\n",
       "    <tr>\n",
       "      <th>9</th>\n",
       "      <td>31</td>\n",
       "      <td>260</td>\n",
       "      <td>1</td>\n",
       "    </tr>\n",
       "    <tr>\n",
       "      <th>10</th>\n",
       "      <td>36</td>\n",
       "      <td>390</td>\n",
       "      <td>1</td>\n",
       "    </tr>\n",
       "    <tr>\n",
       "      <th>11</th>\n",
       "      <td>23</td>\n",
       "      <td>110</td>\n",
       "      <td>0</td>\n",
       "    </tr>\n",
       "    <tr>\n",
       "      <th>12</th>\n",
       "      <td>32</td>\n",
       "      <td>340</td>\n",
       "      <td>0</td>\n",
       "    </tr>\n",
       "    <tr>\n",
       "      <th>13</th>\n",
       "      <td>29</td>\n",
       "      <td>170</td>\n",
       "      <td>1</td>\n",
       "    </tr>\n",
       "    <tr>\n",
       "      <th>14</th>\n",
       "      <td>37</td>\n",
       "      <td>340</td>\n",
       "      <td>1</td>\n",
       "    </tr>\n",
       "    <tr>\n",
       "      <th>15</th>\n",
       "      <td>31</td>\n",
       "      <td>240</td>\n",
       "      <td>0</td>\n",
       "    </tr>\n",
       "    <tr>\n",
       "      <th>16</th>\n",
       "      <td>27</td>\n",
       "      <td>230</td>\n",
       "      <td>0</td>\n",
       "    </tr>\n",
       "    <tr>\n",
       "      <th>17</th>\n",
       "      <td>23</td>\n",
       "      <td>210</td>\n",
       "      <td>0</td>\n",
       "    </tr>\n",
       "    <tr>\n",
       "      <th>18</th>\n",
       "      <td>40</td>\n",
       "      <td>440</td>\n",
       "      <td>1</td>\n",
       "    </tr>\n",
       "    <tr>\n",
       "      <th>19</th>\n",
       "      <td>27</td>\n",
       "      <td>140</td>\n",
       "      <td>0</td>\n",
       "    </tr>\n",
       "  </tbody>\n",
       "</table>\n",
       "</div>"
      ],
      "text/plain": [
       "    age  paycheck  purchase\n",
       "0    26       160         1\n",
       "1    35       210         0\n",
       "2    26       220         0\n",
       "3    29       260         1\n",
       "4    22       110         0\n",
       "5    32       210         0\n",
       "6    37       310         1\n",
       "7    21       110         0\n",
       "8    28       210         0\n",
       "9    31       260         1\n",
       "10   36       390         1\n",
       "11   23       110         0\n",
       "12   32       340         0\n",
       "13   29       170         1\n",
       "14   37       340         1\n",
       "15   31       240         0\n",
       "16   27       230         0\n",
       "17   23       210         0\n",
       "18   40       440         1\n",
       "19   27       140         0"
      ]
     },
     "execution_count": 16,
     "metadata": {},
     "output_type": "execute_result"
    }
   ],
   "source": [
    "test_buy"
   ]
  },
  {
   "cell_type": "code",
   "execution_count": 22,
   "id": "e3418dac",
   "metadata": {},
   "outputs": [
    {
     "data": {
      "text/plain": [
       "array([[-0.81302375,  1.22474487],\n",
       "       [-0.25994637, -0.81649658],\n",
       "       [-0.14933089, -0.81649658],\n",
       "       [ 0.29313101,  1.22474487],\n",
       "       [-1.36610113, -0.81649658],\n",
       "       [-0.25994637, -0.81649658],\n",
       "       [ 0.84620839,  1.22474487],\n",
       "       [-1.36610113, -0.81649658],\n",
       "       [-0.25994637, -0.81649658],\n",
       "       [ 0.29313101,  1.22474487],\n",
       "       [ 1.7311322 ,  1.22474487],\n",
       "       [-1.36610113, -0.81649658],\n",
       "       [ 1.17805482, -0.81649658],\n",
       "       [-0.70240827,  1.22474487],\n",
       "       [ 1.17805482,  1.22474487],\n",
       "       [ 0.07190006, -0.81649658],\n",
       "       [-0.03871542, -0.81649658],\n",
       "       [-0.25994637, -0.81649658],\n",
       "       [ 2.28420958,  1.22474487],\n",
       "       [-1.0342547 , -0.81649658]])"
      ]
     },
     "execution_count": 22,
     "metadata": {},
     "output_type": "execute_result"
    }
   ],
   "source": [
    "X = buy.iloc[:,[1,2]].values\n",
    "X"
   ]
  },
  {
   "cell_type": "code",
   "execution_count": 23,
   "id": "4c53ae02",
   "metadata": {},
   "outputs": [
    {
     "data": {
      "text/plain": [
       "array([ 1.22474487, -0.81649658, -0.81649658,  1.22474487, -0.81649658,\n",
       "       -0.81649658,  1.22474487, -0.81649658, -0.81649658,  1.22474487,\n",
       "        1.22474487, -0.81649658, -0.81649658,  1.22474487,  1.22474487,\n",
       "       -0.81649658, -0.81649658, -0.81649658,  1.22474487, -0.81649658])"
      ]
     },
     "execution_count": 23,
     "metadata": {},
     "output_type": "execute_result"
    }
   ],
   "source": [
    "y = buy.iloc[:,2].values\n",
    "y"
   ]
  },
  {
   "cell_type": "code",
   "execution_count": 24,
   "id": "1abb04af",
   "metadata": {
    "scrolled": true
   },
   "outputs": [
    {
     "data": {
      "text/plain": [
       "(array([[160,   1],\n",
       "        [210,   0],\n",
       "        [220,   0],\n",
       "        [260,   1],\n",
       "        [110,   0],\n",
       "        [210,   0],\n",
       "        [310,   1],\n",
       "        [110,   0],\n",
       "        [210,   0],\n",
       "        [260,   1],\n",
       "        [390,   1],\n",
       "        [110,   0],\n",
       "        [340,   0],\n",
       "        [170,   1],\n",
       "        [340,   1],\n",
       "        [240,   0],\n",
       "        [230,   0],\n",
       "        [210,   0],\n",
       "        [440,   1],\n",
       "        [140,   0]], dtype=int64),\n",
       " array([1, 0, 0, 1, 0, 0, 1, 0, 0, 1, 1, 0, 0, 1, 1, 0, 0, 0, 1, 0]))"
      ]
     },
     "execution_count": 24,
     "metadata": {},
     "output_type": "execute_result"
    }
   ],
   "source": [
    "X_test = test_buy.iloc[:,[1,2]].values\n",
    "y_test = test_buy.iloc[:,2].values\n",
    "X_test, y_test"
   ]
  },
  {
   "cell_type": "code",
   "execution_count": 33,
   "id": "0e89c765",
   "metadata": {},
   "outputs": [
    {
     "data": {
      "text/plain": [
       "KNeighborsClassifier()"
      ]
     },
     "execution_count": 33,
     "metadata": {},
     "output_type": "execute_result"
    }
   ],
   "source": [
    "from sklearn import neighbors\n",
    "\n",
    "model = neighbors.KNeighborsClassifier() # 수치 예측\n",
    "model.fit(X_test, y_test)"
   ]
  },
  {
   "cell_type": "code",
   "execution_count": 34,
   "id": "d315a82b",
   "metadata": {},
   "outputs": [
    {
     "data": {
      "text/plain": [
       "0.75"
      ]
     },
     "execution_count": 34,
     "metadata": {},
     "output_type": "execute_result"
    }
   ],
   "source": [
    "# 결정계수 표시\n",
    "\n",
    "r2 = model.score(X_test, y_test)\n",
    "r2"
   ]
  },
  {
   "cell_type": "code",
   "execution_count": 35,
   "id": "8da36695",
   "metadata": {},
   "outputs": [
    {
     "name": "stdout",
     "output_type": "stream",
     "text": [
      "[0 0 0 0 0 0 1 0 0 0 1 0 1 0 1 0 0 0 1 0]\n",
      "[1 0 0 1 0 0 1 0 0 1 1 0 0 1 1 0 0 0 1 0]\n"
     ]
    }
   ],
   "source": [
    "result = model.predict(X_test)\n",
    "print(result)\n",
    "print(y_test)"
   ]
  },
  {
   "cell_type": "code",
   "execution_count": 38,
   "id": "5801dd9a",
   "metadata": {},
   "outputs": [
    {
     "name": "stdout",
     "output_type": "stream",
     "text": [
      "[[11  1]\n",
      " [ 4  4]]\n",
      "              precision    recall  f1-score   support\n",
      "\n",
      "           0       0.73      0.92      0.81        12\n",
      "           1       0.80      0.50      0.62         8\n",
      "\n",
      "    accuracy                           0.75        20\n",
      "   macro avg       0.77      0.71      0.72        20\n",
      "weighted avg       0.76      0.75      0.74        20\n",
      "\n"
     ]
    }
   ],
   "source": [
    "from sklearn.metrics import classification_report, confusion_matrix\n",
    "print(confusion_matrix(y_test, result))\n",
    "print(classification_report(y_test, result))"
   ]
  },
  {
   "cell_type": "markdown",
   "id": "c97adb59",
   "metadata": {},
   "source": [
    "## 정규화한 데이터"
   ]
  },
  {
   "cell_type": "code",
   "execution_count": 39,
   "id": "4aa83cc2",
   "metadata": {},
   "outputs": [
    {
     "data": {
      "text/plain": [
       "KNeighborsRegressor()"
      ]
     },
     "execution_count": 39,
     "metadata": {},
     "output_type": "execute_result"
    }
   ],
   "source": [
    "from sklearn import neighbors\n",
    "\n",
    "model = neighbors.KNeighborsRegressor() # 수치 예측\n",
    "model.fit(X, y)"
   ]
  },
  {
   "cell_type": "code",
   "execution_count": 40,
   "id": "bfa7c8a8",
   "metadata": {},
   "outputs": [
    {
     "data": {
      "text/plain": [
       "1.0"
      ]
     },
     "execution_count": 40,
     "metadata": {},
     "output_type": "execute_result"
    }
   ],
   "source": [
    "r2 = model.score(X, y)\n",
    "r2"
   ]
  },
  {
   "cell_type": "code",
   "execution_count": 41,
   "id": "86bcdaf6",
   "metadata": {},
   "outputs": [
    {
     "name": "stdout",
     "output_type": "stream",
     "text": [
      "[ 1.22474487 -0.81649658 -0.81649658  1.22474487 -0.81649658 -0.81649658\n",
      "  1.22474487 -0.81649658 -0.81649658  1.22474487  1.22474487 -0.81649658\n",
      " -0.81649658  1.22474487  1.22474487 -0.81649658 -0.81649658 -0.81649658\n",
      "  1.22474487 -0.81649658]\n",
      "[ 1.22474487 -0.81649658 -0.81649658  1.22474487 -0.81649658 -0.81649658\n",
      "  1.22474487 -0.81649658 -0.81649658  1.22474487  1.22474487 -0.81649658\n",
      " -0.81649658  1.22474487  1.22474487 -0.81649658 -0.81649658 -0.81649658\n",
      "  1.22474487 -0.81649658]\n"
     ]
    }
   ],
   "source": [
    "result_norm = model.predict(X)\n",
    "print(result_norm)\n",
    "print(y)"
   ]
  },
  {
   "cell_type": "code",
   "execution_count": 44,
   "id": "92a00c75",
   "metadata": {},
   "outputs": [
    {
     "data": {
      "text/plain": [
       "(array([[-0.81302375,  1.22474487],\n",
       "        [-0.25994637, -0.81649658],\n",
       "        [-0.14933089, -0.81649658],\n",
       "        [ 0.29313101,  1.22474487],\n",
       "        [-1.36610113, -0.81649658],\n",
       "        [-0.25994637, -0.81649658],\n",
       "        [ 0.84620839,  1.22474487],\n",
       "        [-1.36610113, -0.81649658],\n",
       "        [-0.25994637, -0.81649658],\n",
       "        [ 0.29313101,  1.22474487],\n",
       "        [ 1.7311322 ,  1.22474487],\n",
       "        [-1.36610113, -0.81649658],\n",
       "        [ 1.17805482, -0.81649658],\n",
       "        [-0.70240827,  1.22474487],\n",
       "        [ 1.17805482,  1.22474487],\n",
       "        [ 0.07190006, -0.81649658],\n",
       "        [-0.03871542, -0.81649658],\n",
       "        [-0.25994637, -0.81649658],\n",
       "        [ 2.28420958,  1.22474487],\n",
       "        [-1.0342547 , -0.81649658]]),\n",
       " array([-0.67743894,  1.0161584 , -0.67743894, -0.11290649, -1.43014887,\n",
       "         0.45162596,  1.39251337, -1.61832635, -0.30108397,  0.26344848,\n",
       "         1.20433589, -1.24197138,  0.45162596, -0.11290649,  1.39251337,\n",
       "         0.26344848, -0.48926145, -1.24197138,  1.95704582, -0.48926145]))"
      ]
     },
     "execution_count": 44,
     "metadata": {},
     "output_type": "execute_result"
    }
   ],
   "source": [
    "#임시 KNNregressor\n",
    "\n",
    "X_r = buy.iloc[:,[1,2]].values\n",
    "y_r = buy.iloc[:,0].values\n",
    "X_r, y_r"
   ]
  },
  {
   "cell_type": "code",
   "execution_count": 45,
   "id": "3a40c051",
   "metadata": {},
   "outputs": [
    {
     "data": {
      "text/plain": [
       "(array([[160,   1],\n",
       "        [210,   0],\n",
       "        [220,   0],\n",
       "        [260,   1],\n",
       "        [110,   0],\n",
       "        [210,   0],\n",
       "        [310,   1],\n",
       "        [110,   0],\n",
       "        [210,   0],\n",
       "        [260,   1],\n",
       "        [390,   1],\n",
       "        [110,   0],\n",
       "        [340,   0],\n",
       "        [170,   1],\n",
       "        [340,   1],\n",
       "        [240,   0],\n",
       "        [230,   0],\n",
       "        [210,   0],\n",
       "        [440,   1],\n",
       "        [140,   0]], dtype=int64),\n",
       " array([26, 35, 26, 29, 22, 32, 37, 21, 28, 31, 36, 23, 32, 29, 37, 31, 27,\n",
       "        23, 40, 27], dtype=int64))"
      ]
     },
     "execution_count": 45,
     "metadata": {},
     "output_type": "execute_result"
    }
   ],
   "source": [
    "X_r_test = test_buy.iloc[:,[1,2]].values\n",
    "y_r_test = test_buy.iloc[:,0].values\n",
    "X_r_test, y_r_test"
   ]
  },
  {
   "cell_type": "code",
   "execution_count": 46,
   "id": "93f8f79f",
   "metadata": {},
   "outputs": [
    {
     "data": {
      "text/plain": [
       "0.6857648725212465"
      ]
     },
     "execution_count": 46,
     "metadata": {},
     "output_type": "execute_result"
    }
   ],
   "source": [
    "from sklearn import neighbors\n",
    "\n",
    "model_r = neighbors.KNeighborsRegressor()\n",
    "model_r.fit(X_r_test, y_r_test)\n",
    "\n",
    "# 결정계수 표시\n",
    "model_r.score(X_r_test, y_r_test)"
   ]
  },
  {
   "cell_type": "code",
   "execution_count": 55,
   "id": "c3ae4a81",
   "metadata": {},
   "outputs": [
    {
     "data": {
      "text/plain": [
       "array([27.8, 28.8, 29.6, 28.8, 23.8, 28.8, 33.2, 23.8, 28.8, 28.8, 36.4,\n",
       "       23.8, 34.2, 29.8, 34.2, 28.8, 29.4, 28.8, 36.4, 23.8])"
      ]
     },
     "execution_count": 55,
     "metadata": {},
     "output_type": "execute_result"
    }
   ],
   "source": [
    "pred=model_r.predict(X_r_test)\n",
    "pred"
   ]
  },
  {
   "cell_type": "code",
   "execution_count": 48,
   "id": "6e8019ef",
   "metadata": {},
   "outputs": [
    {
     "data": {
      "text/plain": [
       "array([26, 35, 26, 29, 22, 32, 37, 21, 28, 31, 36, 23, 32, 29, 37, 31, 27,\n",
       "       23, 40, 27], dtype=int64)"
      ]
     },
     "execution_count": 48,
     "metadata": {},
     "output_type": "execute_result"
    }
   ],
   "source": [
    "y_r_test"
   ]
  },
  {
   "cell_type": "markdown",
   "id": "afc149f0",
   "metadata": {},
   "source": [
    "## 회귀 vs 분류 (feat. 정규화)\n",
    "- 회귀: 독립변수 정규화, 종속변수 수치형(이산형, 연속형)\n",
    "- 분류: 독립변수 정규화, 종속변수 범주형(명목형, 순서형)\n",
    "- 독립변수의 정규화는 독립변수 간 단위 차이로 발생하는 가중치를 제거? 하기위함이다.\n",
    "- 위 과제에서는 ??"
   ]
  },
  {
   "cell_type": "code",
   "execution_count": 56,
   "id": "247b8864",
   "metadata": {},
   "outputs": [
    {
     "data": {
      "text/plain": [
       "<matplotlib.collections.PathCollection at 0x23e115a85b0>"
      ]
     },
     "execution_count": 56,
     "metadata": {},
     "output_type": "execute_result"
    },
    {
     "data": {
      "image/png": "[encoded data removed]",
      "text/plain": [
       "<Figure size 432x288 with 1 Axes>"
      ]
     },
     "metadata": {
      "needs_background": "light"
     },
     "output_type": "display_data"
    }
   ],
   "source": [
    "plt.scatter(test_buy.paycheck, y_test, marker='o', c = 'blue')\n",
    "plt.scatter(test_buy.paycheck, pred, marker='+', c='red')"
   ]
  },
  {
   "cell_type": "code",
   "execution_count": 53,
   "id": "4ee6f4da",
   "metadata": {},
   "outputs": [
    {
     "data": {
      "text/plain": [
       "0     160\n",
       "1     210\n",
       "2     220\n",
       "3     260\n",
       "4     110\n",
       "5     210\n",
       "6     310\n",
       "7     110\n",
       "8     210\n",
       "9     260\n",
       "10    390\n",
       "11    110\n",
       "12    340\n",
       "13    170\n",
       "14    340\n",
       "15    240\n",
       "16    230\n",
       "17    210\n",
       "18    440\n",
       "19    140\n",
       "Name: paycheck, dtype: int64"
      ]
     },
     "execution_count": 53,
     "metadata": {},
     "output_type": "execute_result"
    }
   ],
   "source": [
    "test_buy.paycheck"
   ]
  },
  {
   "cell_type": "code",
   "execution_count": 57,
   "id": "a556a194",
   "metadata": {},
   "outputs": [
    {
     "data": {
      "text/plain": [
       "array([1, 0, 0, 1, 0, 0, 1, 0, 0, 1, 1, 0, 0, 1, 1, 0, 0, 0, 1, 0])"
      ]
     },
     "execution_count": 57,
     "metadata": {},
     "output_type": "execute_result"
    }
   ],
   "source": [
    "y_test"
   ]
  },
  {
   "cell_type": "code",
   "execution_count": null,
   "id": "43026922",
   "metadata": {},
   "outputs": [],
   "source": []
  }
 ],
 "metadata": {
  "kernelspec": {
   "display_name": "Python 3 (ipykernel)",
   "language": "python",
   "name": "python3"
  },
  "language_info": {
   "codemirror_mode": {
    "name": "ipython",
    "version": 3
   },
   "file_extension": ".py",
   "mimetype": "text/x-python",
   "name": "python",
   "nbconvert_exporter": "python",
   "pygments_lexer": "ipython3",
   "version": "3.8.12"
  }
 },
 "nbformat": 4,
 "nbformat_minor": 5
}
