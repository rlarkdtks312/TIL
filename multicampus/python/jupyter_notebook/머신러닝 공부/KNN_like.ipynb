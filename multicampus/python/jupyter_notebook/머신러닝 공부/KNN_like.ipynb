{
 "cells": [
  {
   "cell_type": "code",
   "execution_count": 1,
   "id": "b32908d8",
   "metadata": {},
   "outputs": [],
   "source": [
    "import pandas as pd\n",
    "import numpy as np\n",
    "import matplotlib.pyplot as plt"
   ]
  },
  {
   "cell_type": "code",
   "execution_count": 3,
   "id": "f90b8a21",
   "metadata": {},
   "outputs": [
    {
     "data": {
      "text/html": [
       "<div>\n",
       "<style scoped>\n",
       "    .dataframe tbody tr th:only-of-type {\n",
       "        vertical-align: middle;\n",
       "    }\n",
       "\n",
       "    .dataframe tbody tr th {\n",
       "        vertical-align: top;\n",
       "    }\n",
       "\n",
       "    .dataframe thead th {\n",
       "        text-align: right;\n",
       "    }\n",
       "</style>\n",
       "<table border=\"1\" class=\"dataframe\">\n",
       "  <thead>\n",
       "    <tr style=\"text-align: right;\">\n",
       "      <th></th>\n",
       "      <th>말이 많은 정도</th>\n",
       "      <th>책을 좋아하는 정도</th>\n",
       "      <th>여행을 좋아하는 정도</th>\n",
       "      <th>학교성적</th>\n",
       "      <th>키</th>\n",
       "      <th>피부가 좋은 정도</th>\n",
       "      <th>근육질의 정도</th>\n",
       "      <th>호감LABEL</th>\n",
       "    </tr>\n",
       "  </thead>\n",
       "  <tbody>\n",
       "    <tr>\n",
       "      <th>0</th>\n",
       "      <td>30</td>\n",
       "      <td>80</td>\n",
       "      <td>40</td>\n",
       "      <td>40</td>\n",
       "      <td>90</td>\n",
       "      <td>90</td>\n",
       "      <td>50</td>\n",
       "      <td>1타입</td>\n",
       "    </tr>\n",
       "    <tr>\n",
       "      <th>1</th>\n",
       "      <td>60</td>\n",
       "      <td>50</td>\n",
       "      <td>70</td>\n",
       "      <td>50</td>\n",
       "      <td>60</td>\n",
       "      <td>60</td>\n",
       "      <td>90</td>\n",
       "      <td>2타입</td>\n",
       "    </tr>\n",
       "    <tr>\n",
       "      <th>2</th>\n",
       "      <td>50</td>\n",
       "      <td>40</td>\n",
       "      <td>80</td>\n",
       "      <td>60</td>\n",
       "      <td>50</td>\n",
       "      <td>70</td>\n",
       "      <td>80</td>\n",
       "      <td>2타입</td>\n",
       "    </tr>\n",
       "    <tr>\n",
       "      <th>3</th>\n",
       "      <td>90</td>\n",
       "      <td>50</td>\n",
       "      <td>60</td>\n",
       "      <td>30</td>\n",
       "      <td>40</td>\n",
       "      <td>20</td>\n",
       "      <td>30</td>\n",
       "      <td>3타입</td>\n",
       "    </tr>\n",
       "    <tr>\n",
       "      <th>4</th>\n",
       "      <td>50</td>\n",
       "      <td>70</td>\n",
       "      <td>30</td>\n",
       "      <td>70</td>\n",
       "      <td>70</td>\n",
       "      <td>80</td>\n",
       "      <td>60</td>\n",
       "      <td>1타입</td>\n",
       "    </tr>\n",
       "    <tr>\n",
       "      <th>5</th>\n",
       "      <td>70</td>\n",
       "      <td>30</td>\n",
       "      <td>60</td>\n",
       "      <td>40</td>\n",
       "      <td>40</td>\n",
       "      <td>40</td>\n",
       "      <td>30</td>\n",
       "      <td>3타입</td>\n",
       "    </tr>\n",
       "    <tr>\n",
       "      <th>6</th>\n",
       "      <td>40</td>\n",
       "      <td>90</td>\n",
       "      <td>60</td>\n",
       "      <td>60</td>\n",
       "      <td>60</td>\n",
       "      <td>80</td>\n",
       "      <td>60</td>\n",
       "      <td>1타입</td>\n",
       "    </tr>\n",
       "    <tr>\n",
       "      <th>7</th>\n",
       "      <td>30</td>\n",
       "      <td>60</td>\n",
       "      <td>90</td>\n",
       "      <td>60</td>\n",
       "      <td>40</td>\n",
       "      <td>70</td>\n",
       "      <td>70</td>\n",
       "      <td>2타입</td>\n",
       "    </tr>\n",
       "    <tr>\n",
       "      <th>8</th>\n",
       "      <td>80</td>\n",
       "      <td>40</td>\n",
       "      <td>20</td>\n",
       "      <td>80</td>\n",
       "      <td>60</td>\n",
       "      <td>40</td>\n",
       "      <td>50</td>\n",
       "      <td>3타입</td>\n",
       "    </tr>\n",
       "    <tr>\n",
       "      <th>9</th>\n",
       "      <td>50</td>\n",
       "      <td>70</td>\n",
       "      <td>70</td>\n",
       "      <td>50</td>\n",
       "      <td>70</td>\n",
       "      <td>90</td>\n",
       "      <td>50</td>\n",
       "      <td>1타입</td>\n",
       "    </tr>\n",
       "    <tr>\n",
       "      <th>10</th>\n",
       "      <td>80</td>\n",
       "      <td>50</td>\n",
       "      <td>60</td>\n",
       "      <td>40</td>\n",
       "      <td>50</td>\n",
       "      <td>40</td>\n",
       "      <td>70</td>\n",
       "      <td>3타입</td>\n",
       "    </tr>\n",
       "    <tr>\n",
       "      <th>11</th>\n",
       "      <td>30</td>\n",
       "      <td>70</td>\n",
       "      <td>30</td>\n",
       "      <td>90</td>\n",
       "      <td>70</td>\n",
       "      <td>80</td>\n",
       "      <td>60</td>\n",
       "      <td>1타입</td>\n",
       "    </tr>\n",
       "    <tr>\n",
       "      <th>12</th>\n",
       "      <td>40</td>\n",
       "      <td>60</td>\n",
       "      <td>90</td>\n",
       "      <td>60</td>\n",
       "      <td>50</td>\n",
       "      <td>70</td>\n",
       "      <td>80</td>\n",
       "      <td>2타입</td>\n",
       "    </tr>\n",
       "    <tr>\n",
       "      <th>13</th>\n",
       "      <td>80</td>\n",
       "      <td>30</td>\n",
       "      <td>50</td>\n",
       "      <td>50</td>\n",
       "      <td>80</td>\n",
       "      <td>40</td>\n",
       "      <td>60</td>\n",
       "      <td>3타입</td>\n",
       "    </tr>\n",
       "  </tbody>\n",
       "</table>\n",
       "</div>"
      ],
      "text/plain": [
       "    말이 많은 정도  책을 좋아하는 정도  여행을 좋아하는 정도  학교성적   키  피부가 좋은 정도  근육질의 정도 호감LABEL\n",
       "0         30          80           40    40  90         90       50     1타입\n",
       "1         60          50           70    50  60         60       90     2타입\n",
       "2         50          40           80    60  50         70       80     2타입\n",
       "3         90          50           60    30  40         20       30     3타입\n",
       "4         50          70           30    70  70         80       60     1타입\n",
       "5         70          30           60    40  40         40       30     3타입\n",
       "6         40          90           60    60  60         80       60     1타입\n",
       "7         30          60           90    60  40         70       70     2타입\n",
       "8         80          40           20    80  60         40       50     3타입\n",
       "9         50          70           70    50  70         90       50     1타입\n",
       "10        80          50           60    40  50         40       70     3타입\n",
       "11        30          70           30    90  70         80       60     1타입\n",
       "12        40          60           90    60  50         70       80     2타입\n",
       "13        80          30           50    50  80         40       60     3타입"
      ]
     },
     "execution_count": 3,
     "metadata": {},
     "output_type": "execute_result"
    }
   ],
   "source": [
    "like=pd.read_csv('./like.csv')\n",
    "like"
   ]
  },
  {
   "cell_type": "code",
   "execution_count": 4,
   "id": "93253a54",
   "metadata": {},
   "outputs": [],
   "source": [
    "like.columns = ['talk', 'book', 'travel', 'school', 'tall', 'skin', 'muscle', 'like_level']"
   ]
  },
  {
   "cell_type": "code",
   "execution_count": 5,
   "id": "a9d1fe4c",
   "metadata": {},
   "outputs": [
    {
     "name": "stdout",
     "output_type": "stream",
     "text": [
      "<class 'pandas.core.frame.DataFrame'>\n",
      "RangeIndex: 14 entries, 0 to 13\n",
      "Data columns (total 8 columns):\n",
      " #   Column      Non-Null Count  Dtype \n",
      "---  ------      --------------  ----- \n",
      " 0   talk        14 non-null     int64 \n",
      " 1   book        14 non-null     int64 \n",
      " 2   travel      14 non-null     int64 \n",
      " 3   school      14 non-null     int64 \n",
      " 4   tall        14 non-null     int64 \n",
      " 5   skin        14 non-null     int64 \n",
      " 6   muscle      14 non-null     int64 \n",
      " 7   like_level  14 non-null     object\n",
      "dtypes: int64(7), object(1)\n",
      "memory usage: 1.0+ KB\n"
     ]
    }
   ],
   "source": [
    "like.info()"
   ]
  },
  {
   "cell_type": "code",
   "execution_count": 6,
   "id": "50f25c70",
   "metadata": {},
   "outputs": [
    {
     "name": "stdout",
     "output_type": "stream",
     "text": [
      "(14, 7)\n"
     ]
    }
   ],
   "source": [
    "# 입력과 target 데이터를 분리\n",
    "\n",
    "x = np.array(like.drop('like_level', axis=1))\n",
    "print(x.shape)"
   ]
  },
  {
   "cell_type": "code",
   "execution_count": 7,
   "id": "89743efa",
   "metadata": {},
   "outputs": [
    {
     "data": {
      "text/plain": [
       "(14,)"
      ]
     },
     "execution_count": 7,
     "metadata": {},
     "output_type": "execute_result"
    }
   ],
   "source": [
    "y = np.array(like.like_level)\n",
    "y.shape"
   ]
  },
  {
   "cell_type": "code",
   "execution_count": 8,
   "id": "003da149",
   "metadata": {},
   "outputs": [
    {
     "data": {
      "text/plain": [
       "(array([[30, 80, 40, 40, 90, 90, 50],\n",
       "        [60, 50, 70, 50, 60, 60, 90],\n",
       "        [50, 40, 80, 60, 50, 70, 80],\n",
       "        [90, 50, 60, 30, 40, 20, 30],\n",
       "        [50, 70, 30, 70, 70, 80, 60],\n",
       "        [70, 30, 60, 40, 40, 40, 30],\n",
       "        [40, 90, 60, 60, 60, 80, 60],\n",
       "        [30, 60, 90, 60, 40, 70, 70],\n",
       "        [80, 40, 20, 80, 60, 40, 50],\n",
       "        [50, 70, 70, 50, 70, 90, 50],\n",
       "        [80, 50, 60, 40, 50, 40, 70],\n",
       "        [30, 70, 30, 90, 70, 80, 60],\n",
       "        [40, 60, 90, 60, 50, 70, 80],\n",
       "        [80, 30, 50, 50, 80, 40, 60]], dtype=int64),\n",
       " array(['1타입', '2타입', '2타입', '3타입', '1타입', '3타입', '1타입', '2타입', '3타입',\n",
       "        '1타입', '3타입', '1타입', '2타입', '3타입'], dtype=object))"
      ]
     },
     "execution_count": 8,
     "metadata": {},
     "output_type": "execute_result"
    }
   ],
   "source": [
    "x, y"
   ]
  },
  {
   "cell_type": "code",
   "execution_count": 9,
   "id": "85b8618d",
   "metadata": {},
   "outputs": [
    {
     "data": {
      "text/plain": [
       "array([[-1.26962211,  1.34164079, -0.8461218 , -0.98782916,  2.06644812,\n",
       "         1.29927838, -0.59160798],\n",
       "       [ 0.21160368, -0.36590203,  0.57536283, -0.3592106 ,  0.04805693,\n",
       "        -0.09994449,  1.77482393],\n",
       "       [-0.28213825, -0.93508297,  1.04919104,  0.26940795, -0.62474013,\n",
       "         0.36646313,  1.18321596],\n",
       "       [ 1.69282948, -0.36590203,  0.10153462, -1.61644772, -1.29753719,\n",
       "        -1.96557498, -1.77482393],\n",
       "       [-0.28213825,  0.77245985, -1.31995001,  0.89802651,  0.720854  ,\n",
       "         0.83287076,  0.        ],\n",
       "       [ 0.70534562, -1.50426391,  0.10153462, -0.98782916, -1.29753719,\n",
       "        -1.03275974, -1.77482393],\n",
       "       [-0.77588018,  1.91082173,  0.10153462,  0.26940795,  0.04805693,\n",
       "         0.83287076,  0.        ],\n",
       "       [-1.26962211,  0.20327891,  1.52301925,  0.26940795, -1.29753719,\n",
       "         0.36646313,  0.59160798],\n",
       "       [ 1.19908755, -0.93508297, -1.79377823,  1.52664507,  0.04805693,\n",
       "        -1.03275974, -0.59160798],\n",
       "       [-0.28213825,  0.77245985,  0.57536283, -0.3592106 ,  0.720854  ,\n",
       "         1.29927838, -0.59160798],\n",
       "       [ 1.19908755, -0.36590203,  0.10153462, -0.98782916, -0.62474013,\n",
       "        -1.03275974,  0.59160798],\n",
       "       [-1.26962211,  0.77245985, -1.31995001,  2.15526362,  0.720854  ,\n",
       "         0.83287076,  0.        ],\n",
       "       [-0.77588018,  0.20327891,  1.52301925,  0.26940795, -0.62474013,\n",
       "         0.36646313,  1.18321596],\n",
       "       [ 1.19908755, -1.50426391, -0.37229359, -0.3592106 ,  1.39365106,\n",
       "        -1.03275974,  0.        ]])"
      ]
     },
     "execution_count": 9,
     "metadata": {},
     "output_type": "execute_result"
    }
   ],
   "source": [
    "# 데이터 정규화 >> StandardScaler\n",
    "from sklearn.preprocessing import StandardScaler\n",
    "\n",
    "scaler = StandardScaler()\n",
    "scaler.fit(x)\n",
    "\n",
    "x = scaler.transform(x) # 변환\n",
    "x"
   ]
  },
  {
   "cell_type": "code",
   "execution_count": 10,
   "id": "6f355d26",
   "metadata": {},
   "outputs": [
    {
     "data": {
      "text/plain": [
       "KNeighborsClassifier()"
      ]
     },
     "execution_count": 10,
     "metadata": {},
     "output_type": "execute_result"
    }
   ],
   "source": [
    "# knn 분류 모델 생성(범주형 데이터 분석)\n",
    "from sklearn.neighbors import KNeighborsClassifier\n",
    "\n",
    "classifier = KNeighborsClassifier(n_neighbors = 5)\n",
    "classifier.fit(x, y)"
   ]
  },
  {
   "cell_type": "code",
   "execution_count": 14,
   "id": "88d8c8ef",
   "metadata": {},
   "outputs": [
    {
     "data": {
      "text/plain": [
       "array(['1타입', '2타입', '2타입', '3타입', '1타입', '3타입', '1타입', '2타입', '3타입',\n",
       "       '1타입', '3타입', '1타입', '2타입', '3타입'], dtype=object)"
      ]
     },
     "execution_count": 14,
     "metadata": {},
     "output_type": "execute_result"
    }
   ],
   "source": [
    "# 원래 데이터를 넣어서 예측\n",
    "\n",
    "y_pred = classifier.predict(x)\n",
    "y_pred"
   ]
  },
  {
   "cell_type": "code",
   "execution_count": 12,
   "id": "1a1f15e9",
   "metadata": {},
   "outputs": [
    {
     "data": {
      "text/plain": [
       "array(['1타입', '2타입', '2타입', '3타입', '1타입', '3타입', '1타입', '2타입', '3타입',\n",
       "       '1타입', '3타입', '1타입', '2타입', '3타입'], dtype=object)"
      ]
     },
     "execution_count": 12,
     "metadata": {},
     "output_type": "execute_result"
    }
   ],
   "source": [
    "y"
   ]
  },
  {
   "cell_type": "code",
   "execution_count": 15,
   "id": "cdb298f4",
   "metadata": {},
   "outputs": [
    {
     "name": "stdout",
     "output_type": "stream",
     "text": [
      "[[5 0 0]\n",
      " [0 4 0]\n",
      " [0 0 5]]\n",
      "              precision    recall  f1-score   support\n",
      "\n",
      "         1타입       1.00      1.00      1.00         5\n",
      "         2타입       1.00      1.00      1.00         4\n",
      "         3타입       1.00      1.00      1.00         5\n",
      "\n",
      "    accuracy                           1.00        14\n",
      "   macro avg       1.00      1.00      1.00        14\n",
      "weighted avg       1.00      1.00      1.00        14\n",
      "\n"
     ]
    }
   ],
   "source": [
    "# 모델을 평가\n",
    "\n",
    "from sklearn.metrics import classification_report, confusion_matrix\n",
    "print(confusion_matrix(y, y_pred))\n",
    "print(classification_report(y, y_pred))"
   ]
  },
  {
   "cell_type": "code",
   "execution_count": null,
   "id": "74cd61b5",
   "metadata": {},
   "outputs": [],
   "source": []
  }
 ],
 "metadata": {
  "kernelspec": {
   "display_name": "Python 3 (ipykernel)",
   "language": "python",
   "name": "python3"
  },
  "language_info": {
   "codemirror_mode": {
    "name": "ipython",
    "version": 3
   },
   "file_extension": ".py",
   "mimetype": "text/x-python",
   "name": "python",
   "nbconvert_exporter": "python",
   "pygments_lexer": "ipython3",
   "version": "3.8.12"
  }
 },
 "nbformat": 4,
 "nbformat_minor": 5
}
