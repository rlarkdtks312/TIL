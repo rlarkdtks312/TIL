{
 "cells": [
  {
   "cell_type": "code",
   "execution_count": 5,
   "id": "b5e1716b",
   "metadata": {},
   "outputs": [
    {
     "name": "stdout",
     "output_type": "stream",
     "text": [
      "[17, 10, 21, 8]\n",
      "[16, 11, 5, 2]\n",
      "[3, 19, 6, 14]\n",
      "[13, 12, 15, 4]\n",
      "[7, 20, 22, 9]\n",
      "남으신 분 [18, 1]\n"
     ]
    }
   ],
   "source": [
    "import random as rd\n",
    "import random\n",
    "a=[1,2,3,4,5,6,7,8,9,10,11,12,13,14,15,16,17,18,19,20,21,22]\n",
    "\n",
    "while len(a) > 0:\n",
    "    temp = []\n",
    "    if len(a) < 5:\n",
    "        break\n",
    "    for i in range(4):\n",
    "        rd.shuffle(a)\n",
    "        num = rd.choice(a[:4])\n",
    "        temp.append(num)\n",
    "        try:\n",
    "            a.remove(num)\n",
    "        except:\n",
    "            pass\n",
    "    print(temp)\n",
    "print('남으신 분', a)"
   ]
  },
  {
   "cell_type": "code",
   "execution_count": 17,
   "id": "221e5134",
   "metadata": {},
   "outputs": [
    {
     "name": "stdout",
     "output_type": "stream",
     "text": [
      "1조 =  [20, 6, 5, 22]\n",
      "2조 =  [3, 14, 11, 2]\n",
      "3조 =  [15, 9, 19, 7]\n",
      "4조 =  [16, 12, 13, 21, 10]\n",
      "5조 =  [17, 1, 18, 4, 8]\n"
     ]
    }
   ],
   "source": [
    "a=[1,2,3,4,5,6,7,8,9,10,11,12,13,14,15,16,17,18,19,20,21,22]\n",
    "\n",
    "count = 1\n",
    "while len(a) > 0:\n",
    "    \n",
    "    if count < 4:\n",
    "        team = random.sample(a, 4)\n",
    "    else:\n",
    "        team = random.sample(a, 5)\n",
    "        \n",
    "    print(f\"{count}조 = \",team)\n",
    "    \n",
    "    for val in team:\n",
    "        a.remove(val)\n",
    "        \n",
    "    count += 1"
   ]
  },
  {
   "cell_type": "code",
   "execution_count": 14,
   "id": "f88077dc",
   "metadata": {},
   "outputs": [
    {
     "data": {
      "text/plain": [
       "[5, 4, 10, 9]"
      ]
     },
     "execution_count": 14,
     "metadata": {},
     "output_type": "execute_result"
    }
   ],
   "source": [
    "team = random.sample(a, 4)\n",
    "team"
   ]
  },
  {
   "cell_type": "code",
   "execution_count": 18,
   "id": "7fc65f24",
   "metadata": {},
   "outputs": [],
   "source": [
    "import pandas as pd"
   ]
  },
  {
   "cell_type": "code",
   "execution_count": 23,
   "id": "d65366e8",
   "metadata": {},
   "outputs": [
    {
     "data": {
      "text/html": [
       "<div>\n",
       "<style scoped>\n",
       "    .dataframe tbody tr th:only-of-type {\n",
       "        vertical-align: middle;\n",
       "    }\n",
       "\n",
       "    .dataframe tbody tr th {\n",
       "        vertical-align: top;\n",
       "    }\n",
       "\n",
       "    .dataframe thead th {\n",
       "        text-align: right;\n",
       "    }\n",
       "</style>\n",
       "<table border=\"1\" class=\"dataframe\">\n",
       "  <thead>\n",
       "    <tr style=\"text-align: right;\">\n",
       "      <th></th>\n",
       "      <th>번호</th>\n",
       "      <th>이름</th>\n",
       "      <th>구글 이메일주소</th>\n",
       "      <th>연락처</th>\n",
       "    </tr>\n",
       "  </thead>\n",
       "  <tbody>\n",
       "    <tr>\n",
       "      <th>0</th>\n",
       "      <td>1</td>\n",
       "      <td>구세은</td>\n",
       "      <td>koossen@gmail.com</td>\n",
       "      <td>1027983913</td>\n",
       "    </tr>\n",
       "    <tr>\n",
       "      <th>1</th>\n",
       "      <td>2</td>\n",
       "      <td>김강산</td>\n",
       "      <td>rkdtks3783@naver.com</td>\n",
       "      <td>1063273783</td>\n",
       "    </tr>\n",
       "    <tr>\n",
       "      <th>2</th>\n",
       "      <td>3</td>\n",
       "      <td>김유정</td>\n",
       "      <td>deokku04@gmail.com</td>\n",
       "      <td>1097295719</td>\n",
       "    </tr>\n",
       "    <tr>\n",
       "      <th>3</th>\n",
       "      <td>4</td>\n",
       "      <td>김홍비</td>\n",
       "      <td>hongbi1620@gmail.com</td>\n",
       "      <td>1050161620</td>\n",
       "    </tr>\n",
       "    <tr>\n",
       "      <th>4</th>\n",
       "      <td>5</td>\n",
       "      <td>남궁정후</td>\n",
       "      <td>namgungjunghu@gmail.com</td>\n",
       "      <td>1041949522</td>\n",
       "    </tr>\n",
       "    <tr>\n",
       "      <th>5</th>\n",
       "      <td>6</td>\n",
       "      <td>박건희</td>\n",
       "      <td>geon4415@gmail.com</td>\n",
       "      <td>1099534415</td>\n",
       "    </tr>\n",
       "    <tr>\n",
       "      <th>6</th>\n",
       "      <td>7</td>\n",
       "      <td>박상우</td>\n",
       "      <td>alvinpark0904@gmail.com</td>\n",
       "      <td>1072320669</td>\n",
       "    </tr>\n",
       "    <tr>\n",
       "      <th>7</th>\n",
       "      <td>8</td>\n",
       "      <td>박현우</td>\n",
       "      <td>k3vin527@gmail.com</td>\n",
       "      <td>1054437294</td>\n",
       "    </tr>\n",
       "    <tr>\n",
       "      <th>8</th>\n",
       "      <td>9</td>\n",
       "      <td>배동현</td>\n",
       "      <td>asdzxc5546@gmail.com</td>\n",
       "      <td>1057795546</td>\n",
       "    </tr>\n",
       "    <tr>\n",
       "      <th>9</th>\n",
       "      <td>10</td>\n",
       "      <td>성연재</td>\n",
       "      <td>duswo1222@gmail.com</td>\n",
       "      <td>1099904042</td>\n",
       "    </tr>\n",
       "    <tr>\n",
       "      <th>10</th>\n",
       "      <td>11</td>\n",
       "      <td>송종호</td>\n",
       "      <td>sjh7397@gmail.com</td>\n",
       "      <td>1033637397</td>\n",
       "    </tr>\n",
       "    <tr>\n",
       "      <th>11</th>\n",
       "      <td>12</td>\n",
       "      <td>양동욱</td>\n",
       "      <td>ehddnr1619@gmail.com</td>\n",
       "      <td>1029581852</td>\n",
       "    </tr>\n",
       "    <tr>\n",
       "      <th>12</th>\n",
       "      <td>13</td>\n",
       "      <td>양수지</td>\n",
       "      <td>sueji95@gmail.com</td>\n",
       "      <td>1056269752</td>\n",
       "    </tr>\n",
       "    <tr>\n",
       "      <th>13</th>\n",
       "      <td>14</td>\n",
       "      <td>윤건우</td>\n",
       "      <td>ygw0616g@gmail.com</td>\n",
       "      <td>1082149288</td>\n",
       "    </tr>\n",
       "    <tr>\n",
       "      <th>14</th>\n",
       "      <td>15</td>\n",
       "      <td>이서현</td>\n",
       "      <td>dltjgus981030@gmail.com</td>\n",
       "      <td>1045969820</td>\n",
       "    </tr>\n",
       "    <tr>\n",
       "      <th>15</th>\n",
       "      <td>16</td>\n",
       "      <td>이시내</td>\n",
       "      <td>sinae1999@gmail.com</td>\n",
       "      <td>1083326948</td>\n",
       "    </tr>\n",
       "    <tr>\n",
       "      <th>16</th>\n",
       "      <td>17</td>\n",
       "      <td>이재호</td>\n",
       "      <td>im4172002@gmail.com</td>\n",
       "      <td>1095500417</td>\n",
       "    </tr>\n",
       "    <tr>\n",
       "      <th>17</th>\n",
       "      <td>18</td>\n",
       "      <td>이탁형</td>\n",
       "      <td>tlswhfl@gmail.com</td>\n",
       "      <td>1094862118</td>\n",
       "    </tr>\n",
       "    <tr>\n",
       "      <th>18</th>\n",
       "      <td>19</td>\n",
       "      <td>정영훈</td>\n",
       "      <td>gi676788@gmail.com</td>\n",
       "      <td>1045565367</td>\n",
       "    </tr>\n",
       "    <tr>\n",
       "      <th>19</th>\n",
       "      <td>20</td>\n",
       "      <td>조한솔</td>\n",
       "      <td>whgksthf920@gmail.com</td>\n",
       "      <td>1086991541</td>\n",
       "    </tr>\n",
       "    <tr>\n",
       "      <th>20</th>\n",
       "      <td>21</td>\n",
       "      <td>조혜원</td>\n",
       "      <td>hwcho55.55@gmail.com</td>\n",
       "      <td>1035597655</td>\n",
       "    </tr>\n",
       "    <tr>\n",
       "      <th>21</th>\n",
       "      <td>22</td>\n",
       "      <td>황인규</td>\n",
       "      <td>nadainkyu@gmail.com</td>\n",
       "      <td>1042945030</td>\n",
       "    </tr>\n",
       "  </tbody>\n",
       "</table>\n",
       "</div>"
      ],
      "text/plain": [
       "    번호    이름                 구글 이메일주소         연락처\n",
       "0    1   구세은        koossen@gmail.com  1027983913\n",
       "1    2   김강산     rkdtks3783@naver.com  1063273783\n",
       "2    3   김유정       deokku04@gmail.com  1097295719\n",
       "3    4   김홍비     hongbi1620@gmail.com  1050161620\n",
       "4    5  남궁정후  namgungjunghu@gmail.com  1041949522\n",
       "5    6   박건희       geon4415@gmail.com  1099534415\n",
       "6    7   박상우  alvinpark0904@gmail.com  1072320669\n",
       "7    8   박현우       k3vin527@gmail.com  1054437294\n",
       "8    9   배동현     asdzxc5546@gmail.com  1057795546\n",
       "9   10   성연재      duswo1222@gmail.com  1099904042\n",
       "10  11   송종호        sjh7397@gmail.com  1033637397\n",
       "11  12   양동욱     ehddnr1619@gmail.com  1029581852\n",
       "12  13   양수지        sueji95@gmail.com  1056269752\n",
       "13  14   윤건우       ygw0616g@gmail.com  1082149288\n",
       "14  15   이서현  dltjgus981030@gmail.com  1045969820\n",
       "15  16   이시내      sinae1999@gmail.com  1083326948\n",
       "16  17   이재호      im4172002@gmail.com  1095500417\n",
       "17  18   이탁형        tlswhfl@gmail.com  1094862118\n",
       "18  19   정영훈       gi676788@gmail.com  1045565367\n",
       "19  20   조한솔    whgksthf920@gmail.com  1086991541\n",
       "20  21   조혜원     hwcho55.55@gmail.com  1035597655\n",
       "21  22   황인규      nadainkyu@gmail.com  1042945030"
      ]
     },
     "execution_count": 23,
     "metadata": {},
     "output_type": "execute_result"
    }
   ],
   "source": [
    "df = pd.read_excel('./Class_B_1st_ProjectTeam.xlsx')\n",
    "df"
   ]
  },
  {
   "cell_type": "code",
   "execution_count": 32,
   "id": "994b7cb9",
   "metadata": {},
   "outputs": [
    {
     "data": {
      "text/plain": [
       "[1, 2, 3, 4, 5, 6, 7, 8, 9, 10, 11, 12, 13, 14, 15, 16, 17, 18, 19, 20, 21, 22]"
      ]
     },
     "execution_count": 32,
     "metadata": {},
     "output_type": "execute_result"
    }
   ],
   "source": [
    "key = df.번호\n",
    "key = list(key)\n",
    "key"
   ]
  },
  {
   "cell_type": "code",
   "execution_count": 26,
   "id": "8f0411f8",
   "metadata": {},
   "outputs": [],
   "source": [
    "values = df.이름"
   ]
  },
  {
   "cell_type": "code",
   "execution_count": 31,
   "id": "eeafdc84",
   "metadata": {},
   "outputs": [
    {
     "data": {
      "text/plain": [
       "['구세은',\n",
       " '김강산',\n",
       " '김유정',\n",
       " '김홍비',\n",
       " '남궁정후',\n",
       " '박건희',\n",
       " '박상우',\n",
       " '박현우',\n",
       " '배동현',\n",
       " '성연재',\n",
       " '송종호',\n",
       " '양동욱',\n",
       " '양수지',\n",
       " '윤건우',\n",
       " '이서현',\n",
       " '이시내',\n",
       " '이재호',\n",
       " '이탁형',\n",
       " '정영훈',\n",
       " '조한솔',\n",
       " '조혜원',\n",
       " '황인규']"
      ]
     },
     "execution_count": 31,
     "metadata": {},
     "output_type": "execute_result"
    }
   ],
   "source": [
    "values = list(values)\n",
    "values"
   ]
  },
  {
   "cell_type": "code",
   "execution_count": 34,
   "id": "26e2c42f",
   "metadata": {},
   "outputs": [
    {
     "data": {
      "text/plain": [
       "{}"
      ]
     },
     "execution_count": 34,
     "metadata": {},
     "output_type": "execute_result"
    }
   ],
   "source": [
    "dictionary = {}\n",
    "dictionary"
   ]
  },
  {
   "cell_type": "code",
   "execution_count": 35,
   "id": "7cf5d841",
   "metadata": {},
   "outputs": [],
   "source": [
    "dictionary.update(zip(key, values))"
   ]
  },
  {
   "cell_type": "code",
   "execution_count": 36,
   "id": "f366e26d",
   "metadata": {},
   "outputs": [
    {
     "data": {
      "text/plain": [
       "{1: '구세은',\n",
       " 2: '김강산',\n",
       " 3: '김유정',\n",
       " 4: '김홍비',\n",
       " 5: '남궁정후',\n",
       " 6: '박건희',\n",
       " 7: '박상우',\n",
       " 8: '박현우',\n",
       " 9: '배동현',\n",
       " 10: '성연재',\n",
       " 11: '송종호',\n",
       " 12: '양동욱',\n",
       " 13: '양수지',\n",
       " 14: '윤건우',\n",
       " 15: '이서현',\n",
       " 16: '이시내',\n",
       " 17: '이재호',\n",
       " 18: '이탁형',\n",
       " 19: '정영훈',\n",
       " 20: '조한솔',\n",
       " 21: '조혜원',\n",
       " 22: '황인규'}"
      ]
     },
     "execution_count": 36,
     "metadata": {},
     "output_type": "execute_result"
    }
   ],
   "source": [
    "dictionary"
   ]
  },
  {
   "cell_type": "code",
   "execution_count": 37,
   "id": "2251256f",
   "metadata": {},
   "outputs": [],
   "source": [
    "df = pd.read_excel('./Class_B_1st_ProjectTeam.xlsx')\n",
    "\n",
    "key = df.번호\n",
    "key = list(key)\n",
    "\n",
    "values = df.이름\n",
    "values = list(values)\n",
    "\n",
    "dictionary = {}\n",
    "dictionary.update(zip(key, values))"
   ]
  },
  {
   "cell_type": "code",
   "execution_count": 38,
   "id": "348776d3",
   "metadata": {},
   "outputs": [
    {
     "data": {
      "text/plain": [
       "{1: '구세은',\n",
       " 2: '김강산',\n",
       " 3: '김유정',\n",
       " 4: '김홍비',\n",
       " 5: '남궁정후',\n",
       " 6: '박건희',\n",
       " 7: '박상우',\n",
       " 8: '박현우',\n",
       " 9: '배동현',\n",
       " 10: '성연재',\n",
       " 11: '송종호',\n",
       " 12: '양동욱',\n",
       " 13: '양수지',\n",
       " 14: '윤건우',\n",
       " 15: '이서현',\n",
       " 16: '이시내',\n",
       " 17: '이재호',\n",
       " 18: '이탁형',\n",
       " 19: '정영훈',\n",
       " 20: '조한솔',\n",
       " 21: '조혜원',\n",
       " 22: '황인규'}"
      ]
     },
     "execution_count": 38,
     "metadata": {},
     "output_type": "execute_result"
    }
   ],
   "source": [
    "dictionary"
   ]
  },
  {
   "cell_type": "code",
   "execution_count": null,
   "id": "868be4f4",
   "metadata": {},
   "outputs": [],
   "source": []
  }
 ],
 "metadata": {
  "kernelspec": {
   "display_name": "Python 3 (ipykernel)",
   "language": "python",
   "name": "python3"
  },
  "language_info": {
   "codemirror_mode": {
    "name": "ipython",
    "version": 3
   },
   "file_extension": ".py",
   "mimetype": "text/x-python",
   "name": "python",
   "nbconvert_exporter": "python",
   "pygments_lexer": "ipython3",
   "version": "3.8.12"
  }
 },
 "nbformat": 4,
 "nbformat_minor": 5
}
