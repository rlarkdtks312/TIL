{
 "cells": [
  {
   "cell_type": "markdown",
   "id": "d0d48e24",
   "metadata": {},
   "source": [
    "# for 반복구조"
   ]
  },
  {
   "cell_type": "code",
   "execution_count": 1,
   "id": "e14700ee",
   "metadata": {
    "scrolled": false
   },
   "outputs": [
    {
     "name": "stdout",
     "output_type": "stream",
     "text": [
      "1\n",
      "2\n",
      "3\n",
      "4\n",
      "5\n"
     ]
    }
   ],
   "source": [
    "for i in [1,2,3,4,5]:\n",
    "    print(i)"
   ]
  },
  {
   "cell_type": "code",
   "execution_count": 2,
   "id": "4de43f9a",
   "metadata": {
    "scrolled": true
   },
   "outputs": [
    {
     "name": "stdout",
     "output_type": "stream",
     "text": [
      "p\n",
      "y\n",
      "t\n",
      "h\n",
      "o\n",
      "n\n"
     ]
    }
   ],
   "source": [
    "for i in 'python':\n",
    "    print(i)"
   ]
  },
  {
   "cell_type": "code",
   "execution_count": 3,
   "id": "14a3102a",
   "metadata": {
    "scrolled": true
   },
   "outputs": [
    {
     "name": "stdout",
     "output_type": "stream",
     "text": [
      "0\n",
      "1\n",
      "2\n",
      "3\n",
      "4\n"
     ]
    }
   ],
   "source": [
    "for i in range(5):\n",
    "    print(i)"
   ]
  },
  {
   "cell_type": "markdown",
   "id": "ddf42034",
   "metadata": {},
   "source": [
    "* 'Hello' 10번 출력하기     \n",
    "특정 횟수만큼 반복하려면 range(횟수)의 형태를 사용한다."
   ]
  },
  {
   "cell_type": "code",
   "execution_count": 4,
   "id": "258efa73",
   "metadata": {
    "scrolled": true
   },
   "outputs": [
    {
     "name": "stdout",
     "output_type": "stream",
     "text": [
      "Hello\n",
      "Hello\n",
      "Hello\n",
      "Hello\n",
      "Hello\n",
      "Hello\n",
      "Hello\n",
      "Hello\n",
      "Hello\n",
      "Hello\n"
     ]
    }
   ],
   "source": [
    "for _ in range(10):\n",
    "    print('Hello')"
   ]
  },
  {
   "cell_type": "markdown",
   "id": "047c4d20",
   "metadata": {},
   "source": [
    "# 중첩반복구조\n",
    "* 내부 for문을 외부 for문의 시퀀스만큼 반복한다.\n",
    "* 내부루프와 외부루프는 동일한 제어변수를 사용해서는 안된다."
   ]
  },
  {
   "cell_type": "code",
   "execution_count": 6,
   "id": "62cce432",
   "metadata": {
    "scrolled": true
   },
   "outputs": [
    {
     "name": "stdout",
     "output_type": "stream",
     "text": [
      "0 0 0\n",
      "0 0 1\n",
      "0 1 0\n",
      "0 1 1\n",
      "1 0 0\n",
      "1 0 1\n",
      "1 1 0\n",
      "1 1 1\n"
     ]
    }
   ],
   "source": [
    "for i in range(2):\n",
    "    for j in range(2):\n",
    "        for k in range(2):\n",
    "            print(i,j,k)"
   ]
  },
  {
   "cell_type": "markdown",
   "id": "1e287e24",
   "metadata": {},
   "source": [
    "* 2단부터 9단까지 전체 구구단 출력하기"
   ]
  },
  {
   "cell_type": "code",
   "execution_count": 10,
   "id": "debeaa12",
   "metadata": {
    "scrolled": true
   },
   "outputs": [
    {
     "name": "stdout",
     "output_type": "stream",
     "text": [
      "2 단 시작\n",
      "2 * 1  =  2\n",
      "2 * 2  =  4\n",
      "2 * 3  =  6\n",
      "2 * 4  =  8\n",
      "2 * 5  =  10\n",
      "2 * 6  =  12\n",
      "2 * 7  =  14\n",
      "2 * 8  =  16\n",
      "2 * 9  =  18\n",
      "-----------------------------\n",
      "3 단 시작\n",
      "3 * 1  =  3\n",
      "3 * 2  =  6\n",
      "3 * 3  =  9\n",
      "3 * 4  =  12\n",
      "3 * 5  =  15\n",
      "3 * 6  =  18\n",
      "3 * 7  =  21\n",
      "3 * 8  =  24\n",
      "3 * 9  =  27\n",
      "-----------------------------\n",
      "4 단 시작\n",
      "4 * 1  =  4\n",
      "4 * 2  =  8\n",
      "4 * 3  =  12\n",
      "4 * 4  =  16\n",
      "4 * 5  =  20\n",
      "4 * 6  =  24\n",
      "4 * 7  =  28\n",
      "4 * 8  =  32\n",
      "4 * 9  =  36\n",
      "-----------------------------\n",
      "5 단 시작\n",
      "5 * 1  =  5\n",
      "5 * 2  =  10\n",
      "5 * 3  =  15\n",
      "5 * 4  =  20\n",
      "5 * 5  =  25\n",
      "5 * 6  =  30\n",
      "5 * 7  =  35\n",
      "5 * 8  =  40\n",
      "5 * 9  =  45\n",
      "-----------------------------\n",
      "6 단 시작\n",
      "6 * 1  =  6\n",
      "6 * 2  =  12\n",
      "6 * 3  =  18\n",
      "6 * 4  =  24\n",
      "6 * 5  =  30\n",
      "6 * 6  =  36\n",
      "6 * 7  =  42\n",
      "6 * 8  =  48\n",
      "6 * 9  =  54\n",
      "-----------------------------\n",
      "7 단 시작\n",
      "7 * 1  =  7\n",
      "7 * 2  =  14\n",
      "7 * 3  =  21\n",
      "7 * 4  =  28\n",
      "7 * 5  =  35\n",
      "7 * 6  =  42\n",
      "7 * 7  =  49\n",
      "7 * 8  =  56\n",
      "7 * 9  =  63\n",
      "-----------------------------\n",
      "8 단 시작\n",
      "8 * 1  =  8\n",
      "8 * 2  =  16\n",
      "8 * 3  =  24\n",
      "8 * 4  =  32\n",
      "8 * 5  =  40\n",
      "8 * 6  =  48\n",
      "8 * 7  =  56\n",
      "8 * 8  =  64\n",
      "8 * 9  =  72\n",
      "-----------------------------\n",
      "9 단 시작\n",
      "9 * 1  =  9\n",
      "9 * 2  =  18\n",
      "9 * 3  =  27\n",
      "9 * 4  =  36\n",
      "9 * 5  =  45\n",
      "9 * 6  =  54\n",
      "9 * 7  =  63\n",
      "9 * 8  =  72\n",
      "9 * 9  =  81\n",
      "-----------------------------\n"
     ]
    }
   ],
   "source": [
    "for i in range(2,10):\n",
    "    print(i,'단 시작')\n",
    "    for j in range(1,10):\n",
    "        print(i,'*',j,' = ', i*j)\n",
    "    print('-----------------------------')"
   ]
  },
  {
   "cell_type": "markdown",
   "id": "75b378a5",
   "metadata": {},
   "source": [
    "# 연습문제"
   ]
  },
  {
   "cell_type": "markdown",
   "id": "391ecec7",
   "metadata": {},
   "source": [
    "* 1부터 10까지 정수의 합 구하여 출력하기"
   ]
  },
  {
   "cell_type": "code",
   "execution_count": 11,
   "id": "4662618f",
   "metadata": {},
   "outputs": [
    {
     "name": "stdout",
     "output_type": "stream",
     "text": [
      "55\n"
     ]
    }
   ],
   "source": [
    "num = 0\n",
    "for i in range(1,11):\n",
    "    num += i\n",
    "\n",
    "print(num)"
   ]
  },
  {
   "cell_type": "markdown",
   "id": "29667677",
   "metadata": {},
   "source": [
    "* 1부터 100까지 홀수의 합 구하여 출력하기"
   ]
  },
  {
   "cell_type": "code",
   "execution_count": 12,
   "id": "9b051a7d",
   "metadata": {
    "scrolled": true
   },
   "outputs": [
    {
     "name": "stdout",
     "output_type": "stream",
     "text": [
      "2500\n"
     ]
    }
   ],
   "source": [
    "num = 0\n",
    "\n",
    "for i in range(1,101,2):\n",
    "    num+=i\n",
    "    \n",
    "print(num)"
   ]
  }
 ],
 "metadata": {
  "kernelspec": {
   "display_name": "Python 3 (ipykernel)",
   "language": "python",
   "name": "python3"
  },
  "language_info": {
   "codemirror_mode": {
    "name": "ipython",
    "version": 3
   },
   "file_extension": ".py",
   "mimetype": "text/x-python",
   "name": "python",
   "nbconvert_exporter": "python",
   "pygments_lexer": "ipython3",
   "version": "3.8.12"
  },
  "toc": {
   "base_numbering": 1,
   "nav_menu": {},
   "number_sections": true,
   "sideBar": true,
   "skip_h1_title": false,
   "title_cell": "Table of Contents",
   "title_sidebar": "Contents",
   "toc_cell": false,
   "toc_position": {},
   "toc_section_display": true,
   "toc_window_display": true
  }
 },
 "nbformat": 4,
 "nbformat_minor": 5
}
