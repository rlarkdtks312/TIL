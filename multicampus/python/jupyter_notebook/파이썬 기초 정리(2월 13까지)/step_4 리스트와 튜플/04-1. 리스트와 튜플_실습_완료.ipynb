{
 "cells": [
  {
   "cell_type": "markdown",
   "id": "0d932fe4",
   "metadata": {},
   "source": [
    "# 리스트, 튜플 만들기"
   ]
  },
  {
   "cell_type": "markdown",
   "id": "4a88a6b7",
   "metadata": {},
   "source": [
    "## 리스트 만들기"
   ]
  },
  {
   "cell_type": "code",
   "execution_count": 2,
   "id": "c78a8ea4",
   "metadata": {},
   "outputs": [
    {
     "name": "stdout",
     "output_type": "stream",
     "text": [
      "[]\n"
     ]
    }
   ],
   "source": [
    "# []를 사용하여 빈 리스트 만들기\n",
    "l1 = []\n",
    "print(l1)"
   ]
  },
  {
   "cell_type": "code",
   "execution_count": 3,
   "id": "b3b88972",
   "metadata": {},
   "outputs": [
    {
     "name": "stdout",
     "output_type": "stream",
     "text": [
      "[]\n"
     ]
    }
   ],
   "source": [
    "# list() 함수를 사용하여 빈 리스트 만들기\n",
    "l2 = list()\n",
    "print(l2)"
   ]
  },
  {
   "cell_type": "code",
   "execution_count": null,
   "id": "2867b9c7",
   "metadata": {},
   "outputs": [],
   "source": [
    "# []를 사용하여 초기값이 있는 리스트 만들기\n",
    "l3 = [1,2,3,4,5]"
   ]
  },
  {
   "cell_type": "code",
   "execution_count": 5,
   "id": "331dcc69",
   "metadata": {},
   "outputs": [
    {
     "data": {
      "text/plain": [
       "[1, 6, 11, 16, 21, 26, 31, 36, 41, 46, 51, 56, 61, 66, 71, 76, 81, 86, 91, 96]"
      ]
     },
     "execution_count": 5,
     "metadata": {},
     "output_type": "execute_result"
    }
   ],
   "source": [
    "# list() 함수를 사용하여 초기값이 있는 리스트 만들기(규칙이 있는 정수값의 나열)\n",
    "l3 = list(range(1, 100, 5))\n",
    "l3"
   ]
  },
  {
   "cell_type": "markdown",
   "id": "607e85e2",
   "metadata": {},
   "source": [
    "## 튜플 만들기"
   ]
  },
  {
   "cell_type": "code",
   "execution_count": 6,
   "id": "c570b2e7",
   "metadata": {},
   "outputs": [
    {
     "data": {
      "text/plain": [
       "()"
      ]
     },
     "execution_count": 6,
     "metadata": {},
     "output_type": "execute_result"
    }
   ],
   "source": [
    "# ( )를 사용하여 빈 튜플 만들기\n",
    "t1 = ()\n",
    "t1"
   ]
  },
  {
   "cell_type": "code",
   "execution_count": 7,
   "id": "39490974",
   "metadata": {},
   "outputs": [
    {
     "data": {
      "text/plain": [
       "()"
      ]
     },
     "execution_count": 7,
     "metadata": {},
     "output_type": "execute_result"
    }
   ],
   "source": [
    "# tuple() 함수를 사용하여 빈 튜플 만들기\n",
    "t2 = tuple()\n",
    "t2"
   ]
  },
  {
   "cell_type": "code",
   "execution_count": null,
   "id": "889cf7d3",
   "metadata": {},
   "outputs": [],
   "source": [
    "# ( )에 초기값 지정하여 튜플 만들기\n",
    "t3 = (1,2,3,4)\n",
    "t3"
   ]
  },
  {
   "cell_type": "code",
   "execution_count": 8,
   "id": "64f5362e",
   "metadata": {},
   "outputs": [
    {
     "data": {
      "text/plain": [
       "(1, 6, 11, 16, 21, 26, 31, 36, 41, 46, 51, 56, 61, 66, 71, 76, 81, 86, 91, 96)"
      ]
     },
     "execution_count": 8,
     "metadata": {},
     "output_type": "execute_result"
    }
   ],
   "source": [
    "# tuple() 함수를 사용하여 초기값이 있는 튜플 만들기(규칙이 있는 정수값의 나열)\n",
    "t4 = tuple(range(1,100,5))\n",
    "t4"
   ]
  },
  {
   "cell_type": "code",
   "execution_count": 9,
   "id": "40b90d77",
   "metadata": {},
   "outputs": [
    {
     "data": {
      "text/plain": [
       "(1, 2, 3)"
      ]
     },
     "execution_count": 9,
     "metadata": {},
     "output_type": "execute_result"
    }
   ],
   "source": [
    "# 튜플을 만들 때 괄호()를 생략할 수 있다.\n",
    "t5 = 1,2,3\n",
    "t5"
   ]
  },
  {
   "cell_type": "code",
   "execution_count": 10,
   "id": "7d6fd538",
   "metadata": {},
   "outputs": [
    {
     "data": {
      "text/plain": [
       "(6,)"
      ]
     },
     "execution_count": 10,
     "metadata": {},
     "output_type": "execute_result"
    }
   ],
   "source": [
    "# 항목이 1개일 때는 ,를 붙인다.\n",
    "t6 = 6,\n",
    "t6"
   ]
  },
  {
   "cell_type": "code",
   "execution_count": null,
   "id": "f04da6fd",
   "metadata": {},
   "outputs": [],
   "source": []
  },
  {
   "cell_type": "markdown",
   "id": "627529d2",
   "metadata": {},
   "source": [
    "# 리스트, 튜플의 자료형\n",
    "* 모든 자료형이 혼합되어 들어갈 수 있다."
   ]
  },
  {
   "cell_type": "code",
   "execution_count": 11,
   "id": "1829aaa6",
   "metadata": {},
   "outputs": [
    {
     "data": {
      "text/plain": [
       "['kim', 175, 83, ['전처리', '빅데이터']]"
      ]
     },
     "execution_count": 11,
     "metadata": {},
     "output_type": "execute_result"
    }
   ],
   "source": [
    "myinfo = ['kim', 175, 83, ['전처리', '빅데이터']]\n",
    "myinfo"
   ]
  },
  {
   "cell_type": "code",
   "execution_count": null,
   "id": "ef467dee",
   "metadata": {
    "scrolled": true
   },
   "outputs": [],
   "source": []
  },
  {
   "cell_type": "markdown",
   "id": "881aae3d",
   "metadata": {},
   "source": [
    "# 리스트, 튜플 연결하기"
   ]
  },
  {
   "cell_type": "code",
   "execution_count": 16,
   "id": "f90e69a6",
   "metadata": {},
   "outputs": [],
   "source": [
    "l1 = ['사과','딸기','포도']\n",
    "l2 = ['포도','수박']\n",
    "l1 + l2"
   ]
  },
  {
   "cell_type": "code",
   "execution_count": 17,
   "id": "b2d79e6d",
   "metadata": {},
   "outputs": [],
   "source": [
    "t1 = ('빨','주')\n",
    "t2 = ('노','초','파','남','보')\n",
    "t1 + t2"
   ]
  },
  {
   "cell_type": "markdown",
   "id": "f38a041b",
   "metadata": {},
   "source": [
    "# 리스트, 튜플 반복하기"
   ]
  },
  {
   "cell_type": "code",
   "execution_count": 18,
   "id": "c9926976",
   "metadata": {},
   "outputs": [
    {
     "data": {
      "text/plain": [
       "['먹고', '자고', '먹고', '자고', '먹고', '자고']"
      ]
     },
     "execution_count": 18,
     "metadata": {},
     "output_type": "execute_result"
    }
   ],
   "source": [
    "l = ['먹고','자고']\n",
    "l * 3"
   ]
  },
  {
   "cell_type": "code",
   "execution_count": 19,
   "id": "d8f38204",
   "metadata": {},
   "outputs": [
    {
     "data": {
      "text/plain": [
       "('놀고', '먹고', '자고', '놀고', '먹고', '자고')"
      ]
     },
     "execution_count": 19,
     "metadata": {},
     "output_type": "execute_result"
    }
   ],
   "source": [
    "t = ('놀고','먹고','자고')\n",
    "t * 2"
   ]
  },
  {
   "cell_type": "markdown",
   "id": "17c672e8",
   "metadata": {},
   "source": [
    "# 리스트, 튜플에 값 존재여부 확인\n",
    "* 멤버연산자 : in, not in"
   ]
  },
  {
   "cell_type": "code",
   "execution_count": 20,
   "id": "a1636afb",
   "metadata": {},
   "outputs": [
    {
     "name": "stdout",
     "output_type": "stream",
     "text": [
      "True\n",
      "False\n",
      "False\n",
      "True\n"
     ]
    }
   ],
   "source": [
    "l = [1,2,3,4,5]\n",
    "print(5 in l)\n",
    "print(10 in l)\n",
    "\n",
    "print(5 not in l)\n",
    "print(10 not in l)"
   ]
  },
  {
   "cell_type": "code",
   "execution_count": 21,
   "id": "a882e131",
   "metadata": {},
   "outputs": [
    {
     "name": "stdout",
     "output_type": "stream",
     "text": [
      "True\n",
      "False\n",
      "False\n",
      "True\n"
     ]
    }
   ],
   "source": [
    "t = (1,2,3,4,5)\n",
    "print(5 in t)\n",
    "print(10 in t)\n",
    "\n",
    "print(5 not in t)\n",
    "print(10 not in t)"
   ]
  },
  {
   "cell_type": "markdown",
   "id": "46340088",
   "metadata": {},
   "source": [
    "# 리스트, 튜플 항목의 갯수 구하기\n",
    "* len(리스트명)\n",
    "* len(튜플명)"
   ]
  },
  {
   "cell_type": "code",
   "execution_count": 22,
   "id": "5aa41221",
   "metadata": {
    "scrolled": true
   },
   "outputs": [
    {
     "data": {
      "text/plain": [
       "14"
      ]
     },
     "execution_count": 22,
     "metadata": {},
     "output_type": "execute_result"
    }
   ],
   "source": [
    "l = [1,3,2,4,3,5,7,8,77.7,88.8,'a','b','c',[10,20,30]]\n",
    "len(l)"
   ]
  },
  {
   "cell_type": "code",
   "execution_count": 23,
   "id": "9b8d55eb",
   "metadata": {},
   "outputs": [
    {
     "data": {
      "text/plain": [
       "2"
      ]
     },
     "execution_count": 23,
     "metadata": {},
     "output_type": "execute_result"
    }
   ],
   "source": [
    "t = ((1,2),[3,4])\n",
    "len(t)"
   ]
  },
  {
   "cell_type": "code",
   "execution_count": null,
   "id": "27d2ae5c",
   "metadata": {},
   "outputs": [],
   "source": []
  }
 ],
 "metadata": {
  "kernelspec": {
   "display_name": "Python 3 (ipykernel)",
   "language": "python",
   "name": "python3"
  },
  "language_info": {
   "codemirror_mode": {
    "name": "ipython",
    "version": 3
   },
   "file_extension": ".py",
   "mimetype": "text/x-python",
   "name": "python",
   "nbconvert_exporter": "python",
   "pygments_lexer": "ipython3",
   "version": "3.8.12"
  },
  "toc": {
   "base_numbering": 1,
   "nav_menu": {},
   "number_sections": true,
   "sideBar": true,
   "skip_h1_title": false,
   "title_cell": "Table of Contents",
   "title_sidebar": "Contents",
   "toc_cell": false,
   "toc_position": {},
   "toc_section_display": true,
   "toc_window_display": true
  }
 },
 "nbformat": 4,
 "nbformat_minor": 5
}
