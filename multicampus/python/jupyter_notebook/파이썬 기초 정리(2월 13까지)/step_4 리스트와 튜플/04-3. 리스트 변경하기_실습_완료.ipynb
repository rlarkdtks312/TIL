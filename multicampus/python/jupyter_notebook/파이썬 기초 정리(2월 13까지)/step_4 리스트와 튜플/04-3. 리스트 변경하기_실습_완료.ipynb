{
 "cells": [
  {
   "cell_type": "markdown",
   "id": "644979c7",
   "metadata": {},
   "source": [
    "# 리스트에 항목 추가하기"
   ]
  },
  {
   "cell_type": "markdown",
   "id": "a57b2ddc",
   "metadata": {},
   "source": [
    "## 리스트 끝에 항목 추가하기\n",
    "* 리스트명.append(항목)"
   ]
  },
  {
   "cell_type": "code",
   "execution_count": 1,
   "id": "97484a41",
   "metadata": {},
   "outputs": [],
   "source": [
    "todolist = ['양치','물마시기']"
   ]
  },
  {
   "cell_type": "code",
   "execution_count": 2,
   "id": "7e97bb19",
   "metadata": {},
   "outputs": [],
   "source": [
    "# '아침운동' 항목 추가하기\n",
    "todolist.append('아침운동')"
   ]
  },
  {
   "cell_type": "code",
   "execution_count": 3,
   "id": "27cf7d07",
   "metadata": {},
   "outputs": [
    {
     "data": {
      "text/plain": [
       "['양치', '물마시기', '아침운동']"
      ]
     },
     "execution_count": 3,
     "metadata": {},
     "output_type": "execute_result"
    }
   ],
   "source": [
    "todolist"
   ]
  },
  {
   "cell_type": "markdown",
   "id": "87db8c45",
   "metadata": {},
   "source": [
    "## 리스트 중간에 항목 삽입하기"
   ]
  },
  {
   "cell_type": "markdown",
   "id": "907f0320",
   "metadata": {},
   "source": [
    "* 리스트명.insert(인덱스, 항목)"
   ]
  },
  {
   "cell_type": "code",
   "execution_count": 4,
   "id": "54a6b90b",
   "metadata": {
    "scrolled": true
   },
   "outputs": [
    {
     "data": {
      "text/plain": [
       "['양치', '물마시기', '아침식사', '아침운동']"
      ]
     },
     "execution_count": 4,
     "metadata": {},
     "output_type": "execute_result"
    }
   ],
   "source": [
    "# '아침운동'하기 전에 '아침식사'\n",
    "todolist.insert(2,'아침식사')\n",
    "todolist"
   ]
  },
  {
   "cell_type": "markdown",
   "id": "358b2cee",
   "metadata": {},
   "source": [
    "## 리스트 끝에 여러 항목 추가하기\n",
    "* 리스트명.extend(리스트)"
   ]
  },
  {
   "cell_type": "code",
   "execution_count": null,
   "id": "8f9f66e1",
   "metadata": {},
   "outputs": [],
   "source": [
    "# '아침운동' 후에 ['샤워','드라이','공부']"
   ]
  },
  {
   "cell_type": "code",
   "execution_count": 7,
   "id": "fd436034",
   "metadata": {},
   "outputs": [],
   "source": [
    "# 리스트로 묶지 않으면 따로따로 들어간다...\n",
    "todolist.extend(['샤워'])"
   ]
  },
  {
   "cell_type": "code",
   "execution_count": 8,
   "id": "637dfed5",
   "metadata": {},
   "outputs": [
    {
     "data": {
      "text/plain": [
       "['양치', '물마시기', '아침식사', '아침운동', '샤', '워', '샤워']"
      ]
     },
     "execution_count": 8,
     "metadata": {},
     "output_type": "execute_result"
    }
   ],
   "source": [
    "todolist"
   ]
  },
  {
   "cell_type": "markdown",
   "id": "23e8ff57",
   "metadata": {},
   "source": [
    "# 리스트 항목 수정하기"
   ]
  },
  {
   "cell_type": "markdown",
   "id": "e548425e",
   "metadata": {},
   "source": [
    "## 하나의 항목 수정하기\n",
    "* 리스트명[인덱스] = 항목"
   ]
  },
  {
   "cell_type": "code",
   "execution_count": 9,
   "id": "ed34ea6f",
   "metadata": {},
   "outputs": [],
   "source": [
    "# 아침운동-->산책으로 수정\n",
    "todolist[3]='산책'"
   ]
  },
  {
   "cell_type": "code",
   "execution_count": 10,
   "id": "0e5954c4",
   "metadata": {},
   "outputs": [
    {
     "data": {
      "text/plain": [
       "['양치', '물마시기', '아침식사', '산책', '샤', '워', '샤워']"
      ]
     },
     "execution_count": 10,
     "metadata": {},
     "output_type": "execute_result"
    }
   ],
   "source": [
    "todolist"
   ]
  },
  {
   "cell_type": "markdown",
   "id": "5d67be37",
   "metadata": {},
   "source": [
    "## 여러 항목 수정하기\n",
    "* 리스트명[시작인덱스:끝인덱스] = 리스트"
   ]
  },
  {
   "cell_type": "code",
   "execution_count": 11,
   "id": "8757e871",
   "metadata": {},
   "outputs": [],
   "source": [
    "# '아침식사','산책' --> '독서','산책','아침식사'\n",
    "todolist[2:4] = ['독서','산책','아침식사']"
   ]
  },
  {
   "cell_type": "code",
   "execution_count": 12,
   "id": "1146f829",
   "metadata": {},
   "outputs": [
    {
     "data": {
      "text/plain": [
       "['양치', '물마시기', '독서', '산책', '아침식사', '샤', '워', '샤워']"
      ]
     },
     "execution_count": 12,
     "metadata": {},
     "output_type": "execute_result"
    }
   ],
   "source": [
    "todolist"
   ]
  },
  {
   "cell_type": "markdown",
   "id": "ec1beb1d",
   "metadata": {},
   "source": [
    "# 리스트 항목 삭제하기"
   ]
  },
  {
   "cell_type": "markdown",
   "id": "07029021",
   "metadata": {},
   "source": [
    "## 인덱스를 이용하여 항목 삭제\n",
    "* del 리스트명[인덱스]"
   ]
  },
  {
   "cell_type": "code",
   "execution_count": 13,
   "id": "b72ade6e",
   "metadata": {},
   "outputs": [],
   "source": [
    "# 마지막 인덱스 삭제\n",
    "del todolist[-1]"
   ]
  },
  {
   "cell_type": "code",
   "execution_count": 14,
   "id": "4803a623",
   "metadata": {},
   "outputs": [
    {
     "data": {
      "text/plain": [
       "['양치', '물마시기', '독서', '산책', '아침식사', '샤', '워']"
      ]
     },
     "execution_count": 14,
     "metadata": {},
     "output_type": "execute_result"
    }
   ],
   "source": [
    "todolist"
   ]
  },
  {
   "cell_type": "markdown",
   "id": "c44a53f5",
   "metadata": {},
   "source": [
    "## 항목값을 이용하여 삭제\n",
    "* 리스트.remove(항목)     \n",
    "항목이 여러개인 경우 앞의 인덱스만 삭제"
   ]
  },
  {
   "cell_type": "code",
   "execution_count": 15,
   "id": "17b87417",
   "metadata": {},
   "outputs": [],
   "source": [
    "# '양치' 삭제\n",
    "todolist.remove('양치')"
   ]
  },
  {
   "cell_type": "code",
   "execution_count": 16,
   "id": "c424cfe0",
   "metadata": {},
   "outputs": [
    {
     "data": {
      "text/plain": [
       "['물마시기', '독서', '산책', '아침식사', '샤', '워']"
      ]
     },
     "execution_count": 16,
     "metadata": {},
     "output_type": "execute_result"
    }
   ],
   "source": [
    "todolist"
   ]
  },
  {
   "cell_type": "markdown",
   "id": "65c78ded",
   "metadata": {},
   "source": [
    "## 마지막 항목을 반환하고 삭제\n",
    "* 리스트.pop()"
   ]
  },
  {
   "cell_type": "code",
   "execution_count": 20,
   "id": "93abab6c",
   "metadata": {},
   "outputs": [],
   "source": [
    "a = todolist.pop(2)"
   ]
  },
  {
   "cell_type": "code",
   "execution_count": 21,
   "id": "eafe0a22",
   "metadata": {},
   "outputs": [
    {
     "data": {
      "text/plain": [
       "'산책'"
      ]
     },
     "execution_count": 21,
     "metadata": {},
     "output_type": "execute_result"
    }
   ],
   "source": [
    "a"
   ]
  },
  {
   "cell_type": "code",
   "execution_count": 22,
   "id": "705dc8a4",
   "metadata": {},
   "outputs": [
    {
     "data": {
      "text/plain": [
       "['물마시기', '독서', '아침식사', '샤']"
      ]
     },
     "execution_count": 22,
     "metadata": {},
     "output_type": "execute_result"
    }
   ],
   "source": [
    "todolist"
   ]
  },
  {
   "cell_type": "markdown",
   "id": "11ef7b92",
   "metadata": {},
   "source": [
    "# 연습문제"
   ]
  },
  {
   "cell_type": "markdown",
   "id": "35fe3c97",
   "metadata": {},
   "source": [
    "* 아래 wishlist의 '시계','신발'을 myCart로 이동해봅시다."
   ]
  },
  {
   "cell_type": "code",
   "execution_count": 25,
   "id": "80c17df8",
   "metadata": {},
   "outputs": [
    {
     "data": {
      "text/plain": [
       "['시계', '신발']"
      ]
     },
     "execution_count": 25,
     "metadata": {},
     "output_type": "execute_result"
    }
   ],
   "source": [
    "wishlist = ['가방','시계','신발']\n",
    "mycart = []\n",
    "\n",
    "mycart.extend(wishlist[1:3])\n",
    "mycart"
   ]
  },
  {
   "cell_type": "code",
   "execution_count": null,
   "id": "202d1350",
   "metadata": {
    "scrolled": true
   },
   "outputs": [],
   "source": []
  },
  {
   "cell_type": "code",
   "execution_count": null,
   "id": "67eca7df",
   "metadata": {
    "scrolled": true
   },
   "outputs": [],
   "source": []
  }
 ],
 "metadata": {
  "kernelspec": {
   "display_name": "Python 3 (ipykernel)",
   "language": "python",
   "name": "python3"
  },
  "language_info": {
   "codemirror_mode": {
    "name": "ipython",
    "version": 3
   },
   "file_extension": ".py",
   "mimetype": "text/x-python",
   "name": "python",
   "nbconvert_exporter": "python",
   "pygments_lexer": "ipython3",
   "version": "3.8.12"
  },
  "toc": {
   "base_numbering": 1,
   "nav_menu": {},
   "number_sections": true,
   "sideBar": true,
   "skip_h1_title": false,
   "title_cell": "Table of Contents",
   "title_sidebar": "Contents",
   "toc_cell": false,
   "toc_position": {},
   "toc_section_display": true,
   "toc_window_display": true
  }
 },
 "nbformat": 4,
 "nbformat_minor": 5
}
