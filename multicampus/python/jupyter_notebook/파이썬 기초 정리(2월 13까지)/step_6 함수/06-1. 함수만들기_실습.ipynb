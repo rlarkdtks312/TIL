{
 "cells": [
  {
   "cell_type": "markdown",
   "id": "00f4d61e",
   "metadata": {},
   "source": [
    "# 함수 정의하고 호출하기"
   ]
  },
  {
   "cell_type": "markdown",
   "id": "6f855638",
   "metadata": {},
   "source": [
    "* 자기소개 함수 정의하고 호출하기   "
   ]
  },
  {
   "cell_type": "code",
   "execution_count": null,
   "id": "a52d4673",
   "metadata": {
    "scrolled": true
   },
   "outputs": [],
   "source": [
    "## 자기소개 ##\n",
    "print('안녕하세요!')\n",
    "print('저의 이름은 파이썬입니다.')"
   ]
  },
  {
   "cell_type": "code",
   "execution_count": null,
   "id": "f8bd2800",
   "metadata": {
    "scrolled": true
   },
   "outputs": [],
   "source": [
    "# 함수 정의\n",
    "\n",
    "# 함수 호출"
   ]
  },
  {
   "cell_type": "markdown",
   "id": "280fdf18",
   "metadata": {},
   "source": [
    "* 함수 정의를 먼저 한 후 호출하도록 코드를 순차적으로 작성해야 한다."
   ]
  },
  {
   "cell_type": "code",
   "execution_count": null,
   "id": "83208550",
   "metadata": {},
   "outputs": [],
   "source": [
    "# 함수 호출\n",
    "\n",
    "# 함수 정의 \n",
    "    \n",
    "    \n",
    "# 코드는 위에서부터 아래로 순차적으로 실행된다.\n",
    "# 함수를 호출하는 시점에 함수가 정의되어 있지 않으면 에러 발생"
   ]
  },
  {
   "cell_type": "markdown",
   "id": "20d9ed67",
   "metadata": {},
   "source": [
    "# 매개변수 전달하기"
   ]
  },
  {
   "cell_type": "code",
   "execution_count": null,
   "id": "9750a904",
   "metadata": {},
   "outputs": [],
   "source": [
    "## 자기소개 ##\n",
    "name=\n",
    "print('안녕하세요!')\n",
    "print('저의 이름은, '+name+'입니다.')"
   ]
  },
  {
   "cell_type": "markdown",
   "id": "715cbcb9",
   "metadata": {},
   "source": [
    "* 매개변수 1개 전달하기"
   ]
  },
  {
   "cell_type": "code",
   "execution_count": null,
   "id": "eb609789",
   "metadata": {},
   "outputs": [],
   "source": []
  },
  {
   "cell_type": "markdown",
   "id": "f9be0261",
   "metadata": {},
   "source": [
    "* 매개변수 여러개 전달하기"
   ]
  },
  {
   "cell_type": "code",
   "execution_count": null,
   "id": "32d6c5ad",
   "metadata": {},
   "outputs": [],
   "source": [
    "## 자기소개 ##\n",
    "name=\n",
    "age = 20\n",
    "print('안녕하세요!')\n",
    "print('저의 이름은, '+name+'입니다.')\n",
    "print('나이는, '+str(age)+'살입니다.')"
   ]
  },
  {
   "cell_type": "code",
   "execution_count": null,
   "id": "57d7b56d",
   "metadata": {},
   "outputs": [],
   "source": []
  },
  {
   "cell_type": "markdown",
   "id": "d01c40f2",
   "metadata": {},
   "source": [
    "# 연습문제\n",
    "* 이름과 나이를 입력받아 생일축하 메시지를 출력하는 함수를 만들고 호출하세요.\n",
    "* 생일문구 : ooo님의 oo번째 생일을 축하합니다!!"
   ]
  },
  {
   "cell_type": "code",
   "execution_count": null,
   "id": "15896aa2",
   "metadata": {},
   "outputs": [],
   "source": []
  }
 ],
 "metadata": {
  "kernelspec": {
   "display_name": "Python 3 (ipykernel)",
   "language": "python",
   "name": "python3"
  },
  "language_info": {
   "codemirror_mode": {
    "name": "ipython",
    "version": 3
   },
   "file_extension": ".py",
   "mimetype": "text/x-python",
   "name": "python",
   "nbconvert_exporter": "python",
   "pygments_lexer": "ipython3",
   "version": "3.9.7"
  },
  "toc": {
   "base_numbering": 1,
   "nav_menu": {},
   "number_sections": true,
   "sideBar": true,
   "skip_h1_title": false,
   "title_cell": "Table of Contents",
   "title_sidebar": "Contents",
   "toc_cell": false,
   "toc_position": {},
   "toc_section_display": true,
   "toc_window_display": true
  }
 },
 "nbformat": 4,
 "nbformat_minor": 5
}
