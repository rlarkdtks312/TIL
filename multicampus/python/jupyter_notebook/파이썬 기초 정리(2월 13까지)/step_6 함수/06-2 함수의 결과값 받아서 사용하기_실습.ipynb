{
 "cells": [
  {
   "cell_type": "markdown",
   "id": "a0958bdd",
   "metadata": {},
   "source": [
    "# 값 1개 반환하기"
   ]
  },
  {
   "cell_type": "code",
   "execution_count": null,
   "id": "f92b489b",
   "metadata": {},
   "outputs": [],
   "source": [
    "# 두 수를 매개변수로 받아 더한 후 결과를 리턴하는 함수 만들기"
   ]
  },
  {
   "cell_type": "markdown",
   "id": "a128617b",
   "metadata": {},
   "source": [
    "# 값 여러개 반환하기\n",
    "* 여러개의 값을 하나의 튜플로 묶어서 반환한다."
   ]
  },
  {
   "cell_type": "code",
   "execution_count": null,
   "id": "dbfc5752",
   "metadata": {},
   "outputs": [],
   "source": [
    "# 두 수를 매개변수로 받아 더한값과 뺀 값을 리턴하는 함수 만들기"
   ]
  },
  {
   "cell_type": "markdown",
   "id": "169d4fc9",
   "metadata": {},
   "source": [
    "# 함수에서 빠져나오기\n",
    "* return을 만나면 함수를 빠져나온다.\n",
    "* 반환할 값이 있다면 값을 반환하고 빠져나오고, 없다면 그냥 빠져나온다."
   ]
  },
  {
   "cell_type": "code",
   "execution_count": null,
   "id": "268e6a4e",
   "metadata": {},
   "outputs": [],
   "source": [
    "# 정수를 입력받아 0, 짝수, 홀수 여부를 리턴하는 함수 만들기"
   ]
  },
  {
   "cell_type": "code",
   "execution_count": null,
   "id": "0364b77c",
   "metadata": {},
   "outputs": [],
   "source": []
  },
  {
   "cell_type": "markdown",
   "id": "7b3fb713",
   "metadata": {},
   "source": [
    "# 연습문제\n",
    "* 소수 여부 판단하기\n",
    "매개변수로 전달받은 수가 소수인지 아닌지 판별하는 함수를 작성하고 호출하세요.\n",
    "\n",
    "* 소수란 : 1과 자기 자신으로만 나누어 떨어지는 1보다 큰 양의 정수\n"
   ]
  },
  {
   "cell_type": "code",
   "execution_count": null,
   "id": "79bef870",
   "metadata": {},
   "outputs": [],
   "source": []
  }
 ],
 "metadata": {
  "kernelspec": {
   "display_name": "Python 3 (ipykernel)",
   "language": "python",
   "name": "python3"
  },
  "language_info": {
   "codemirror_mode": {
    "name": "ipython",
    "version": 3
   },
   "file_extension": ".py",
   "mimetype": "text/x-python",
   "name": "python",
   "nbconvert_exporter": "python",
   "pygments_lexer": "ipython3",
   "version": "3.9.7"
  },
  "toc": {
   "base_numbering": 1,
   "nav_menu": {},
   "number_sections": true,
   "sideBar": true,
   "skip_h1_title": false,
   "title_cell": "Table of Contents",
   "title_sidebar": "Contents",
   "toc_cell": false,
   "toc_position": {
    "height": "calc(100% - 180px)",
    "left": "10px",
    "top": "150px",
    "width": "165px"
   },
   "toc_section_display": true,
   "toc_window_display": true
  }
 },
 "nbformat": 4,
 "nbformat_minor": 5
}
