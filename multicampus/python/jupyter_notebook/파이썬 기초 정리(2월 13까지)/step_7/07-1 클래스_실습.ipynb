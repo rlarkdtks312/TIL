{
 "cells": [
  {
   "cell_type": "markdown",
   "id": "9c9b9802",
   "metadata": {},
   "source": [
    "# 자동차 클래스와 객체\n",
    "* 3가지 속성과 3가지 기능이 있는 자동차 객체를 찍어내기 위한 틀을 만든다.\n",
    "* 속성 : brand, model, color     \n",
    "* 기능 : turn_on, turn_off, drive"
   ]
  },
  {
   "cell_type": "markdown",
   "id": "100afe06",
   "metadata": {},
   "source": [
    "1) 쿠키틀 : 클래스(class)\n",
    "\n",
    "2) 쿠키틀로 만든 쿠키: 객체(object)\n",
    "\n",
    "객체는 독립적임\n",
    "객체는 속성과 메소드로 구성\n",
    "\n",
    "클래스: 자동차\n",
    "객체\n",
    "속성 : 브랜드(기아) 모델명(K8), 색상(BLACK)\n",
    "메소드(기능): 시동걸기, 시동끄기, 주행하기"
   ]
  },
  {
   "cell_type": "markdown",
   "id": "be6ddb48",
   "metadata": {},
   "source": [
    "## 자동차클래스 만들기\n",
    "class 클래스명:\n",
    "\n",
    "def __init__(self, 매개변수1, 매개변수2):  # 생성자 \n",
    "속성 초기화 \n",
    "def 메소드1(self, 매개변수1, 매개변수2):\n",
    "  메소드1 내용\n",
    "def 메소드1(self, 매개변수1, 매개변수2):\n",
    "  메소드1 내용\n",
    "\n",
    "\n",
    "self : 메소드를 호출한 객체를 받는다\n",
    "객체의 속성은 객체 안의 변수에 저장된다\n",
    "객체의 이름 다음에 점(.)을 찍고 변수 이름을 적는다 예) car.brand = \"현대자동차\"\n",
    "\n",
    "객체의 메소드(기능) 객체 안에 정의된 함수\n",
    "\n",
    "객체의 메소드는 객체 이름 다음에 점(.)을 찍어 호출 예) car.turn_on()"
   ]
  },
  {
   "cell_type": "code",
   "execution_count": 4,
   "id": "458ba65c",
   "metadata": {},
   "outputs": [],
   "source": [
    "class Car:\n",
    "    def __init__(self, b,m,c):\n",
    "        self.brand = b\n",
    "        self.model = m\n",
    "        self.color = c\n",
    "        print(self.brand, self.model, self.color, '출고')\n",
    "    \n",
    "    def turn_on(self):\n",
    "        print(self.brand, '시동을 겁니다.')\n",
    "    def turn_off(self):\n",
    "        print(self.brand, '시동을 끕니다.')\n",
    "    def drive(self):\n",
    "        print(self.brand, '주행 중 입니다.')"
   ]
  },
  {
   "cell_type": "markdown",
   "id": "72d2f724",
   "metadata": {},
   "source": [
    "## 객체 생성하기\n",
    "* 객체명 = 클래스명(매개변수1,매개변수2,...)"
   ]
  },
  {
   "cell_type": "code",
   "execution_count": 5,
   "id": "5ea7c98d",
   "metadata": {},
   "outputs": [
    {
     "name": "stdout",
     "output_type": "stream",
     "text": [
      "테슬라 S 화이트 출고\n",
      "현대 제네시스 G90 블랙 출고\n"
     ]
    }
   ],
   "source": [
    "car1 = Car('테슬라', 'S', '화이트')\n",
    "car2 = Car('현대', '제네시스 G90', '블랙')"
   ]
  },
  {
   "cell_type": "markdown",
   "id": "df6a6b9a",
   "metadata": {},
   "source": [
    "## 메소드 호출하기\n",
    "* 객체명.메소드명(매개변수1,매개변수2,...)"
   ]
  },
  {
   "cell_type": "code",
   "execution_count": 6,
   "id": "5e6e1943",
   "metadata": {},
   "outputs": [
    {
     "name": "stdout",
     "output_type": "stream",
     "text": [
      "테슬라 시동을 겁니다.\n",
      "테슬라 주행 중 입니다.\n",
      "테슬라 시동을 끕니다.\n",
      "현대 시동을 겁니다.\n",
      "현대 주행 중 입니다.\n",
      "현대 시동을 끕니다.\n"
     ]
    }
   ],
   "source": [
    "car1.turn_on()\n",
    "car1.drive()\n",
    "car1.turn_off()\n",
    "\n",
    "car2.turn_on()\n",
    "car2.drive()\n",
    "car2.turn_off()"
   ]
  },
  {
   "cell_type": "markdown",
   "id": "5e5523ec",
   "metadata": {},
   "source": [
    "# 객체의 메소드 목록 조회\n",
    "* dir(객체)"
   ]
  },
  {
   "cell_type": "code",
   "execution_count": 7,
   "id": "f844e27e",
   "metadata": {},
   "outputs": [
    {
     "data": {
      "text/plain": [
       "['__add__',\n",
       " '__class__',\n",
       " '__contains__',\n",
       " '__delattr__',\n",
       " '__delitem__',\n",
       " '__dir__',\n",
       " '__doc__',\n",
       " '__eq__',\n",
       " '__format__',\n",
       " '__ge__',\n",
       " '__getattribute__',\n",
       " '__getitem__',\n",
       " '__gt__',\n",
       " '__hash__',\n",
       " '__iadd__',\n",
       " '__imul__',\n",
       " '__init__',\n",
       " '__init_subclass__',\n",
       " '__iter__',\n",
       " '__le__',\n",
       " '__len__',\n",
       " '__lt__',\n",
       " '__mul__',\n",
       " '__ne__',\n",
       " '__new__',\n",
       " '__reduce__',\n",
       " '__reduce_ex__',\n",
       " '__repr__',\n",
       " '__reversed__',\n",
       " '__rmul__',\n",
       " '__setattr__',\n",
       " '__setitem__',\n",
       " '__sizeof__',\n",
       " '__str__',\n",
       " '__subclasshook__',\n",
       " 'append',\n",
       " 'clear',\n",
       " 'copy',\n",
       " 'count',\n",
       " 'extend',\n",
       " 'index',\n",
       " 'insert',\n",
       " 'pop',\n",
       " 'remove',\n",
       " 'reverse',\n",
       " 'sort']"
      ]
     },
     "execution_count": 7,
     "metadata": {},
     "output_type": "execute_result"
    }
   ],
   "source": [
    "dir(list)"
   ]
  },
  {
   "cell_type": "markdown",
   "id": "ddfe1c17",
   "metadata": {},
   "source": [
    "# 함수, 메소드 사용법\n",
    "* help(함수명)"
   ]
  },
  {
   "cell_type": "code",
   "execution_count": 8,
   "id": "6e61638a",
   "metadata": {},
   "outputs": [
    {
     "name": "stdout",
     "output_type": "stream",
     "text": [
      "[1, 2, 3, 4]\n",
      "Help on built-in function append:\n",
      "\n",
      "append(object, /) method of builtins.list instance\n",
      "    Append object to the end of the list.\n",
      "\n"
     ]
    }
   ],
   "source": [
    "a = [1,2,3]\n",
    "a.append(4)\n",
    "print(a)\n",
    "\n",
    "help(a.append)"
   ]
  },
  {
   "cell_type": "code",
   "execution_count": null,
   "id": "b84972f2",
   "metadata": {
    "scrolled": true
   },
   "outputs": [],
   "source": []
  }
 ],
 "metadata": {
  "kernelspec": {
   "display_name": "Python 3 (ipykernel)",
   "language": "python",
   "name": "python3"
  },
  "language_info": {
   "codemirror_mode": {
    "name": "ipython",
    "version": 3
   },
   "file_extension": ".py",
   "mimetype": "text/x-python",
   "name": "python",
   "nbconvert_exporter": "python",
   "pygments_lexer": "ipython3",
   "version": "3.8.12"
  },
  "toc": {
   "base_numbering": 1,
   "nav_menu": {},
   "number_sections": true,
   "sideBar": true,
   "skip_h1_title": false,
   "title_cell": "Table of Contents",
   "title_sidebar": "Contents",
   "toc_cell": false,
   "toc_position": {
    "height": "calc(100% - 180px)",
    "left": "10px",
    "top": "150px",
    "width": "245.76px"
   },
   "toc_section_display": true,
   "toc_window_display": true
  }
 },
 "nbformat": 4,
 "nbformat_minor": 5
}
