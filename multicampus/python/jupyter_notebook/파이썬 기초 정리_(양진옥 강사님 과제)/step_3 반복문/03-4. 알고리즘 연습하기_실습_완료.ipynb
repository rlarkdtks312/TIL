{
 "cells": [
  {
   "cell_type": "markdown",
   "id": "47f9ddc7",
   "metadata": {},
   "source": [
    "# up&down 숫자맞추기 게임"
   ]
  },
  {
   "cell_type": "markdown",
   "id": "cfd44e63",
   "metadata": {},
   "source": [
    "* 1~100 사이의 정답 숫자를 랜덤으로 하나 정하고, 정답 숫자를 맞출 때까지 숫자를 입력하는 게임이다.     \n",
    "내가 입력한 숫자가 정답보다 작으면 'DOWN', 정답보다 크면 'UP'을 출력하고 숫자를 다시 입력받는다.     \n",
    "정답을 맞추면 '정답!'이라고 출력하고 게임을 끝낸다."
   ]
  },
  {
   "cell_type": "code",
   "execution_count": 25,
   "id": "25459597",
   "metadata": {},
   "outputs": [
    {
     "name": "stdout",
     "output_type": "stream",
     "text": [
      "27\n"
     ]
    }
   ],
   "source": [
    "import random\n",
    "num = random.randrange(1,101,1)\n",
    "print(num)"
   ]
  },
  {
   "cell_type": "code",
   "execution_count": 29,
   "id": "b84e26f3",
   "metadata": {},
   "outputs": [
    {
     "name": "stdout",
     "output_type": "stream",
     "text": [
      "숫자를 입력하세요71\n",
      "down\n",
      "숫자를 입력하세요50\n",
      "down\n",
      "숫자를 입력하세요40\n",
      "down\n",
      "숫자를 입력하세요20\n",
      "up\n",
      "숫자를 입력하세요30\n",
      "down\n",
      "숫자를 입력하세요25\n",
      "up\n",
      "숫자를 입력하세요29\n",
      "down\n",
      "숫자를 입력하세요28\n",
      "down\n",
      "숫자를 입력하세요27\n",
      "down\n",
      "숫자를 입력하세요26\n",
      "정답입니다.\n"
     ]
    }
   ],
   "source": [
    "import random as rd\n",
    "bingo = rd.randint(1,100)\n",
    "while True:\n",
    "    num = int(input('숫자를 입력하세요'))\n",
    "    if num == bingo:\n",
    "        print('정답입니다.')\n",
    "        break\n",
    "    if num >= bingo:\n",
    "        print(\"down\")\n",
    "    if num <= bingo:\n",
    "        print(\"up\")"
   ]
  },
  {
   "cell_type": "markdown",
   "id": "a0e19b86",
   "metadata": {},
   "source": [
    "* 확장     \n",
    "기회는 5번까지만 주어집니다.     \n",
    "5회가 넘으면 '횟수초과' 메시지와 함께 정답을 알려줍니다.    \n",
    "정답을 맞추면 몇번째에 맞추었는지 출력합니다."
   ]
  },
  {
   "cell_type": "code",
   "execution_count": 31,
   "id": "6333ba44",
   "metadata": {
    "scrolled": false
   },
   "outputs": [
    {
     "name": "stdout",
     "output_type": "stream",
     "text": [
      "숫자를 입력하세요50\n",
      "up\n",
      "숫자를 입력하세요75\n",
      "down\n",
      "숫자를 입력하세요60\n",
      "2번만에 정답입니다.\n"
     ]
    }
   ],
   "source": [
    "import random as rd\n",
    "\n",
    "bingo = rd.randint(1,100)\n",
    "cnt = 0\n",
    "while True:\n",
    "    if cnt>=5:\n",
    "        print('횟수 초과입니다.')\n",
    "        break\n",
    "    num = int(input('숫자를 입력하세요'))\n",
    "    if num == bingo:\n",
    "        print('{}번만에 정답입니다.'.format(cnt+1))\n",
    "        break\n",
    "    if num >= bingo:\n",
    "        print(\"down\")\n",
    "    if num <= bingo:\n",
    "        print(\"up\")\n",
    "    cnt += 1"
   ]
  },
  {
   "cell_type": "markdown",
   "id": "5e6ba755",
   "metadata": {},
   "source": [
    "# 사칙연산 프로그램"
   ]
  },
  {
   "cell_type": "markdown",
   "id": "ceb11370",
   "metadata": {},
   "source": [
    "* 두 수와 사칙연산기호(+,-,*,/)을 입력받아 연산 기호에 따라 연산 결과를 출력하는 프로그램을 작성하세요.\n",
    "* 사칙연산기호(+,-,*,/)가 아닌 경우 '잘못입력하셨습니다' 출력"
   ]
  },
  {
   "cell_type": "code",
   "execution_count": 32,
   "id": "bab34477",
   "metadata": {
    "scrolled": true
   },
   "outputs": [
    {
     "name": "stdout",
     "output_type": "stream",
     "text": [
      "숫자1:5\n",
      "숫자2:7\n",
      "연산기호:*\n",
      "5*7=35\n"
     ]
    }
   ],
   "source": [
    "num1 = int(input('숫자1:'))\n",
    "num2 = int(input('숫자2:'))\n",
    "op = input('연산기호:')\n",
    "\n",
    "\n",
    "if op=='+':\n",
    "    print(f'{num1}+{num2}={num1+num2}')\n",
    "elif op=='-':\n",
    "    print(f'{num1}-{num2}={num1-num2}')\n",
    "elif op=='*':\n",
    "    print(f'{num1}*{num2}={num1*num2}')\n",
    "elif op=='/':\n",
    "    print(f'{num1}/{num2}={num1/num2}')\n",
    "else:\n",
    "    print('잘못 입력하셨습니다.')"
   ]
  },
  {
   "cell_type": "markdown",
   "id": "015e484c",
   "metadata": {},
   "source": [
    "# 할인된 금액 계산"
   ]
  },
  {
   "cell_type": "markdown",
   "id": "b1584bb7",
   "metadata": {},
   "source": [
    "* 물건 구매가를 입력받고, 금액에 따른 할인율을 계산하여 구매가, 할인율, 할인금액, 지불금액을 출력하세요.\n",
    "|금액|할인율|\n",
    "|----|------|\n",
    "|1만원이상 5만원미만|5%|\n",
    "|5만원이상 10만원미만|7%|\n",
    "|10만원이상|10%|\n"
   ]
  },
  {
   "cell_type": "code",
   "execution_count": 34,
   "id": "6457c190",
   "metadata": {},
   "outputs": [
    {
     "name": "stdout",
     "output_type": "stream",
     "text": [
      "물건구매가:20000\n",
      "구매가:20000 할인율:5 할인금액:1000.0 지불금액:19000.0\n"
     ]
    }
   ],
   "source": [
    "price = int(input('물건구매가:'))\n",
    "\n",
    "if price>=100000:\n",
    "    dc = 10\n",
    "elif price>=50000:\n",
    "    dc = 7\n",
    "elif price>=10000:\n",
    "    dc=5\n",
    "else:\n",
    "    dc=0\n",
    "    \n",
    "# f-string이라는 표현 방법이다 복잡한 문자열을 표현할때 가독성을 높여주니 매우 좋은 것 같다.\n",
    "print(f'구매가:{price} 할인율:{dc} 할인금액:{price*(dc/100)} 지불금액:{price-price*(dc/100)}')"
   ]
  },
  {
   "cell_type": "code",
   "execution_count": null,
   "id": "2d3d5fe9",
   "metadata": {},
   "outputs": [],
   "source": []
  }
 ],
 "metadata": {
  "kernelspec": {
   "display_name": "Python 3 (ipykernel)",
   "language": "python",
   "name": "python3"
  },
  "language_info": {
   "codemirror_mode": {
    "name": "ipython",
    "version": 3
   },
   "file_extension": ".py",
   "mimetype": "text/x-python",
   "name": "python",
   "nbconvert_exporter": "python",
   "pygments_lexer": "ipython3",
   "version": "3.8.12"
  },
  "toc": {
   "base_numbering": 1,
   "nav_menu": {},
   "number_sections": true,
   "sideBar": true,
   "skip_h1_title": false,
   "title_cell": "Table of Contents",
   "title_sidebar": "Contents",
   "toc_cell": false,
   "toc_position": {},
   "toc_section_display": true,
   "toc_window_display": true
  }
 },
 "nbformat": 4,
 "nbformat_minor": 5
}
