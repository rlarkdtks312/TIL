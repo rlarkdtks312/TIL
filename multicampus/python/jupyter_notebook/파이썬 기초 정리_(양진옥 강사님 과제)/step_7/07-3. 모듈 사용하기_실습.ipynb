{
 "cells": [
  {
   "cell_type": "markdown",
   "id": "7f6193e9",
   "metadata": {},
   "source": [
    "# 파이썬 내장 모듈"
   ]
  },
  {
   "cell_type": "markdown",
   "id": "ab386472",
   "metadata": {},
   "source": [
    "## math\n",
    "* 수학적 연산과 관련된 함수들을 모아놓은 모듈\n",
    "* ceil : 올림하여 정수로 만들기\n",
    "* floor : 내림하여 정수로 만들기\n",
    "* sqrt : 제곱근\n",
    "* factorial : 팩토리얼\n",
    "* pi : 원주율"
   ]
  },
  {
   "cell_type": "code",
   "execution_count": 6,
   "id": "66779992",
   "metadata": {},
   "outputs": [
    {
     "name": "stdout",
     "output_type": "stream",
     "text": [
      "2\n",
      "1\n",
      "2.0\n",
      "6\n",
      "3.141592653589793\n"
     ]
    }
   ],
   "source": [
    "import math as ma\n",
    "\n",
    "print(ma.ceil(1.4))\n",
    "print(ma.floor(1.7))\n",
    "print(ma.sqrt(4))\n",
    "print(ma.factorial(3))\n",
    "print(ma.pi)"
   ]
  },
  {
   "cell_type": "markdown",
   "id": "76854182",
   "metadata": {},
   "source": [
    "## random\n",
    "* 임의의 수를 발생시키거나 리스트의 요소 중 임의의 수를 선택하는 데 사용되는 모듈"
   ]
  },
  {
   "cell_type": "code",
   "execution_count": 8,
   "id": "4e2356c6",
   "metadata": {},
   "outputs": [],
   "source": [
    "import random"
   ]
  },
  {
   "cell_type": "markdown",
   "id": "142a7424",
   "metadata": {},
   "source": [
    "### 랜덤 정수 구하기\n",
    "* random.randint(시작값, 끝값) : 시작값~끝값 사이의 랜덤 정수 구하기 (끝값 포함)\n",
    "* random.randrange(시작값, 끝값) : 시작값~끝값 사이의 랜덤 정수 구하기 (끝값 미포함)\n",
    "* random.randrange(끝값) : 0~끝값 사이의 랜덤 정수 구하기 (끝값 미포함)"
   ]
  },
  {
   "cell_type": "code",
   "execution_count": 36,
   "id": "8ad4356c",
   "metadata": {
    "scrolled": true
   },
   "outputs": [
    {
     "name": "stdout",
     "output_type": "stream",
     "text": [
      "1\n",
      "1\n",
      "6\n"
     ]
    }
   ],
   "source": [
    "# 1~10 사이의 랜덤 정수 구하기(10포함)\n",
    "print(random.randint(1,10))\n",
    "# 1~9 사이의 랜덤 정수 구하기(10미포함)\n",
    "print(random.randrange(1,10))\n",
    "# 0~9 사이의 랜덤 정수 구하기(0포함,10미포함)\n",
    "print(random.randrange(10))"
   ]
  },
  {
   "cell_type": "markdown",
   "id": "b037bb72",
   "metadata": {},
   "source": [
    "### 랜덤 실수 구하기\n",
    "* random.random() : 0~1 사이의 랜덤 실수 구하기\n",
    "* random.uniform(시작값,끝값) : 시작값 ~ 끝값 사이의 랜덤 실수 반환(끝값 미포함)"
   ]
  },
  {
   "cell_type": "code",
   "execution_count": 13,
   "id": "99d806a5",
   "metadata": {},
   "outputs": [
    {
     "name": "stdout",
     "output_type": "stream",
     "text": [
      "0.6908010631715609\n",
      "8.355623263663475\n"
     ]
    }
   ],
   "source": [
    "# 0~1 사이의 랜덤 실수 구하기\n",
    "print(random.random())\n",
    "# 1~10 사이의 랜덤 실수 구하기\n",
    "print(random.uniform(1,10))"
   ]
  },
  {
   "cell_type": "markdown",
   "id": "a747c4e9",
   "metadata": {},
   "source": [
    "### 시퀀스 데이터에서 무작위 요소 추출\n",
    "* random.choice(시퀀스)"
   ]
  },
  {
   "cell_type": "code",
   "execution_count": 38,
   "id": "50f0f056",
   "metadata": {},
   "outputs": [
    {
     "name": "stdout",
     "output_type": "stream",
     "text": [
      "2\n",
      "산\n",
      "32\n"
     ]
    }
   ],
   "source": [
    "print(random.choice([1,2,3]))\n",
    "print(random.choice('김강산'))\n",
    "print(random.choice(range(1,101)))"
   ]
  },
  {
   "cell_type": "markdown",
   "id": "38778213",
   "metadata": {},
   "source": [
    "### 시퀀스 데이터에서 무작위로 n개 요소 추출\n",
    "* random.sample(시퀀스,n)"
   ]
  },
  {
   "cell_type": "code",
   "execution_count": 48,
   "id": "9b950ce4",
   "metadata": {},
   "outputs": [
    {
     "name": "stdout",
     "output_type": "stream",
     "text": [
      "[3, 2]\n",
      "['지원', '순둥이']\n",
      "[24, 9]\n"
     ]
    }
   ],
   "source": [
    "print(random.sample([1,2,3],2))\n",
    "print(random.sample(['강산','지원','순둥이'],2))\n",
    "print(random.sample(range(1,31),2))"
   ]
  },
  {
   "cell_type": "markdown",
   "id": "b33baa0a",
   "metadata": {},
   "source": [
    "### 시퀀스 데이터를 무작위로 랜덤하게 섞기\n",
    "* random.shuffle(시퀀스) : 원본을 섞는다. 리턴값이 없다."
   ]
  },
  {
   "cell_type": "code",
   "execution_count": 50,
   "id": "1ddd4e4b",
   "metadata": {},
   "outputs": [
    {
     "data": {
      "text/plain": [
       "[4, 2, 1, 3, 5]"
      ]
     },
     "execution_count": 50,
     "metadata": {},
     "output_type": "execute_result"
    }
   ],
   "source": [
    "# 원본을 바로 섞음\n",
    "a = [1,2,3,4,5]\n",
    "random.shuffle(a)\n",
    "a"
   ]
  },
  {
   "cell_type": "markdown",
   "id": "4eefda33",
   "metadata": {},
   "source": [
    "## datetime\n",
    "* 날짜, 시간과 관련된 모듈.\n",
    "* 날짜 형식을 만들 때 주로 사용된다."
   ]
  },
  {
   "cell_type": "code",
   "execution_count": 61,
   "id": "a8174170",
   "metadata": {
    "scrolled": true
   },
   "outputs": [],
   "source": [
    "import datetime"
   ]
  },
  {
   "cell_type": "markdown",
   "id": "9eb99155",
   "metadata": {},
   "source": [
    "### 현재 날짜와 시각 가져오기\n",
    "* datetime.datetime.now()"
   ]
  },
  {
   "cell_type": "code",
   "execution_count": 62,
   "id": "4d81c876",
   "metadata": {},
   "outputs": [],
   "source": [
    "now = datetime.datetime.now()"
   ]
  },
  {
   "cell_type": "markdown",
   "id": "0a9057e5",
   "metadata": {},
   "source": [
    "### 현재 날짜와 시각 출력하기"
   ]
  },
  {
   "cell_type": "code",
   "execution_count": 63,
   "id": "8d7cba27",
   "metadata": {},
   "outputs": [
    {
     "name": "stdout",
     "output_type": "stream",
     "text": [
      "2022 년\n",
      "1 월\n",
      "11 일\n",
      "15 시\n",
      "30 분\n",
      "47 초\n"
     ]
    }
   ],
   "source": [
    "print(now.year, '년')\n",
    "print(now.month, '월')\n",
    "print(now.day, '일')\n",
    "print(now.hour,'시')\n",
    "print(now.minute,'분')\n",
    "print(now.second,'초')"
   ]
  },
  {
   "cell_type": "markdown",
   "id": "a3ca5ecd",
   "metadata": {},
   "source": [
    "### 시간을 포멧에 맞게 출력하기\n",
    "* datetime.datetime.now().strftime(포멧)"
   ]
  },
  {
   "cell_type": "code",
   "execution_count": 65,
   "id": "d84f2de2",
   "metadata": {},
   "outputs": [
    {
     "data": {
      "text/plain": [
       "'2022.01.11 15:30:47'"
      ]
     },
     "execution_count": 65,
     "metadata": {},
     "output_type": "execute_result"
    }
   ],
   "source": [
    "now.strftime('%Y.%m.%d %H:%M:%S')"
   ]
  },
  {
   "cell_type": "markdown",
   "id": "43bef0e3",
   "metadata": {},
   "source": [
    "### 특정 시간 이후의 날짜와 시간 구하기\n",
    "* datetime.datetime.now()+datetime.timedelta(더할시간) : 특정 일, 시간, 분, 초 이후의 날짜와 시간 구하기\n",
    "* timedelta에는 year로 계산하는 기능은 없음"
   ]
  },
  {
   "cell_type": "code",
   "execution_count": 66,
   "id": "8714248e",
   "metadata": {},
   "outputs": [
    {
     "data": {
      "text/plain": [
       "datetime.datetime(2022, 1, 19, 16, 31, 48, 815765)"
      ]
     },
     "execution_count": 66,
     "metadata": {},
     "output_type": "execute_result"
    }
   ],
   "source": [
    "now + datetime.timedelta(weeks=1, days=1, hours=1, minutes=1, seconds=1)"
   ]
  },
  {
   "cell_type": "code",
   "execution_count": 67,
   "id": "e9a48af8",
   "metadata": {},
   "outputs": [
    {
     "data": {
      "text/plain": [
       "datetime.datetime(2022, 4, 21, 15, 30, 47, 815765)"
      ]
     },
     "execution_count": 67,
     "metadata": {},
     "output_type": "execute_result"
    }
   ],
   "source": [
    "# 현재로부터 100일 이후의 날짜와 시간 구하기\n",
    "now + datetime.timedelta(days = 100)\n"
   ]
  },
  {
   "cell_type": "code",
   "execution_count": 68,
   "id": "93ca7767",
   "metadata": {
    "scrolled": true
   },
   "outputs": [
    {
     "data": {
      "text/plain": [
       "datetime.datetime(2021, 10, 3, 15, 30, 47, 815765)"
      ]
     },
     "execution_count": 68,
     "metadata": {},
     "output_type": "execute_result"
    }
   ],
   "source": [
    "# 현재로부터 100일 전의 날짜와 시간 구하기\n",
    "now + datetime.timedelta(days = -100)"
   ]
  },
  {
   "cell_type": "markdown",
   "id": "e3273e47",
   "metadata": {},
   "source": [
    "## time\n",
    "* 시간 데이터를 다루기 위한 모듈"
   ]
  },
  {
   "cell_type": "code",
   "execution_count": 70,
   "id": "ac39aa54",
   "metadata": {},
   "outputs": [],
   "source": [
    "import time"
   ]
  },
  {
   "cell_type": "markdown",
   "id": "dffd2dfb",
   "metadata": {},
   "source": [
    "### 현재 날짜와 시간 가져오기\n",
    "* time.localtime()\n",
    "* time.ctime()"
   ]
  },
  {
   "cell_type": "code",
   "execution_count": 71,
   "id": "354617ef",
   "metadata": {
    "scrolled": true
   },
   "outputs": [
    {
     "data": {
      "text/plain": [
       "time.struct_time(tm_year=2022, tm_mon=1, tm_mday=11, tm_hour=15, tm_min=45, tm_sec=50, tm_wday=1, tm_yday=11, tm_isdst=0)"
      ]
     },
     "execution_count": 71,
     "metadata": {},
     "output_type": "execute_result"
    }
   ],
   "source": [
    "time.localtime()"
   ]
  },
  {
   "cell_type": "code",
   "execution_count": 73,
   "id": "57a6925a",
   "metadata": {},
   "outputs": [
    {
     "name": "stdout",
     "output_type": "stream",
     "text": [
      "2022\n",
      "1\n",
      "11\n",
      "15\n"
     ]
    }
   ],
   "source": [
    "tm = time.localtime()\n",
    "\n",
    "print(time.localtime().tm_year)\n",
    "print(time.localtime().tm_mon)\n",
    "print(time.localtime().tm_mday)\n",
    "print(time.localtime().tm_hour)"
   ]
  },
  {
   "cell_type": "code",
   "execution_count": 74,
   "id": "d76f46ec",
   "metadata": {
    "scrolled": true
   },
   "outputs": [
    {
     "data": {
      "text/plain": [
       "'Tue Jan 11 15:47:09 2022'"
      ]
     },
     "execution_count": 74,
     "metadata": {},
     "output_type": "execute_result"
    }
   ],
   "source": [
    "time.ctime()"
   ]
  },
  {
   "cell_type": "markdown",
   "id": "cd14e80f",
   "metadata": {},
   "source": [
    "### 일시정지\n",
    "* time.sleep(초)"
   ]
  },
  {
   "cell_type": "code",
   "execution_count": 76,
   "id": "db8d7f4a",
   "metadata": {},
   "outputs": [
    {
     "name": "stdout",
     "output_type": "stream",
     "text": [
      "3\n",
      "2\n",
      "1\n",
      "lets go \n"
     ]
    }
   ],
   "source": [
    "# 카운트다운\n",
    "print(3)\n",
    "time.sleep(1)\n",
    "print(2)\n",
    "time.sleep(1)\n",
    "print(1)\n",
    "time.sleep(1)\n",
    "print('lets go ')"
   ]
  },
  {
   "cell_type": "markdown",
   "id": "0bc71fa5",
   "metadata": {},
   "source": [
    "# 모듈 살펴보기"
   ]
  },
  {
   "cell_type": "markdown",
   "id": "1ae5ac6e",
   "metadata": {},
   "source": [
    "## 모듈 내 함수 확인\n",
    "* dir(모듈명)"
   ]
  },
  {
   "cell_type": "code",
   "execution_count": null,
   "id": "7a35e767",
   "metadata": {},
   "outputs": [],
   "source": [
    "# 파이썬 내장함수 확인\n",
    "dir(__builtins__)"
   ]
  },
  {
   "cell_type": "code",
   "execution_count": null,
   "id": "b0ea86e6",
   "metadata": {
    "scrolled": false
   },
   "outputs": [],
   "source": [
    "dir(datetime)"
   ]
  },
  {
   "cell_type": "markdown",
   "id": "b7bb6d41",
   "metadata": {},
   "source": [
    "## 모듈 내 함수 사용법 확인\n",
    "* import 모듈명    \n",
    "help(모듈명.함수명)"
   ]
  },
  {
   "cell_type": "code",
   "execution_count": 77,
   "id": "58c95bed",
   "metadata": {
    "scrolled": true
   },
   "outputs": [
    {
     "name": "stdout",
     "output_type": "stream",
     "text": [
      "Help on method randint in module random:\n",
      "\n",
      "randint(a, b) method of random.Random instance\n",
      "    Return random integer in range [a, b], including both end points.\n",
      "\n"
     ]
    }
   ],
   "source": [
    "import random\n",
    "help(random.randint)"
   ]
  },
  {
   "cell_type": "markdown",
   "id": "65c3dfc0",
   "metadata": {},
   "source": [
    "# 외부모듈"
   ]
  },
  {
   "cell_type": "markdown",
   "id": "66e5bbe6",
   "metadata": {},
   "source": [
    "* 외부모듈 설치하기 : pip install 모듈명\n",
    "* 설치된 외부모듈 확인하기 : pip list"
   ]
  },
  {
   "cell_type": "code",
   "execution_count": 78,
   "id": "adde806b",
   "metadata": {
    "scrolled": false
   },
   "outputs": [
    {
     "name": "stdout",
     "output_type": "stream",
     "text": [
      "Package                            Version\n",
      "---------------------------------- --------------------\n",
      "alabaster                          0.7.12\n",
      "anaconda-client                    1.9.0\n",
      "anaconda-navigator                 2.1.1\n",
      "anaconda-project                   0.10.2\n",
      "anyio                              2.2.0\n",
      "appdirs                            1.4.4\n",
      "argh                               0.26.2\n",
      "argon2-cffi                        20.1.0\n",
      "arrow                              0.13.1\n",
      "asn1crypto                         1.4.0\n",
      "astroid                            2.6.6\n",
      "astropy                            5.0\n",
      "Note: you may need to restart the kernel to use updated packages.\n",
      "async-generator                    1.10\n",
      "atomicwrites                       1.4.0\n",
      "attrs                              21.2.0\n",
      "autopep8                           1.6.0\n"
     ]
    },
    {
     "name": "stderr",
     "output_type": "stream",
     "text": [
      "WARNING: Ignoring invalid distribution -pype1 (c:\\users\\rkdtk\\anaconda3\\lib\\site-packages)\n",
      "WARNING: Ignoring invalid distribution -pype1 (c:\\users\\rkdtk\\anaconda3\\lib\\site-packages)\n",
      "WARNING: Ignoring invalid distribution -pype1 (c:\\users\\rkdtk\\anaconda3\\lib\\site-packages)\n"
     ]
    },
    {
     "name": "stdout",
     "output_type": "stream",
     "text": [
      "Babel                              2.9.1\n",
      "backcall                           0.2.0\n",
      "backports.functools-lru-cache      1.6.4\n",
      "backports.shutil-get-terminal-size 1.0.0\n",
      "backports.tempfile                 1.0\n",
      "backports.weakref                  1.0.post1\n",
      "bcrypt                             3.2.0\n",
      "beautifulsoup4                     4.10.0\n",
      "binaryornot                        0.4.4\n",
      "bitarray                           2.3.0\n",
      "bkcharts                           0.2\n",
      "black                              19.10b0\n",
      "bleach                             4.0.0\n",
      "bokeh                              2.4.2\n",
      "boto                               2.49.0\n",
      "Bottleneck                         1.3.2\n",
      "branca                             0.4.2\n",
      "brotlipy                           0.7.0\n",
      "bs4                                0.0.1\n",
      "certifi                            2021.10.8\n",
      "cffi                               1.15.0\n",
      "chardet                            4.0.0\n",
      "charset-normalizer                 2.0.4\n",
      "click                              8.0.3\n",
      "cloudpickle                        2.0.0\n",
      "clyent                             1.2.2\n",
      "colorama                           0.4.4\n",
      "comtypes                           1.1.10\n",
      "conda                              4.11.0\n",
      "conda-build                        3.21.7\n",
      "conda-content-trust                0+unknown\n",
      "conda-pack                         0.6.0\n",
      "conda-package-handling             1.7.3\n",
      "conda-repo-cli                     1.0.4\n",
      "conda-token                        0.3.0\n",
      "conda-verify                       3.4.2\n",
      "contextlib2                        0.6.0.post1\n",
      "cookiecutter                       1.7.2\n",
      "cryptography                       3.4.8\n",
      "cycler                             0.11.0\n",
      "Cython                             0.29.25\n",
      "cytoolz                            0.11.0\n",
      "daal4py                            2021.4.0\n",
      "dask                               2021.10.0\n",
      "debugpy                            1.5.1\n",
      "decorator                          5.1.0\n",
      "defusedxml                         0.7.1\n",
      "diff-match-patch                   20200713\n",
      "distributed                        2021.10.0\n",
      "docutils                           0.17.1\n",
      "entrypoints                        0.3\n",
      "et-xmlfile                         1.1.0\n",
      "fastcache                          1.1.0\n",
      "filelock                           3.4.0\n",
      "flake8                             3.9.2\n",
      "Flask                              1.1.2\n",
      "folium                             0.12.1.post1\n",
      "fonttools                          4.25.0\n",
      "fsspec                             2021.10.1\n",
      "future                             0.18.2\n",
      "gevent                             21.8.0\n",
      "glob2                              0.7\n",
      "greenlet                           1.1.1\n",
      "h5py                               2.10.0\n",
      "HeapDict                           1.0.1\n",
      "html5lib                           1.1\n",
      "idna                               3.3\n",
      "imagecodecs                        2021.8.26\n",
      "imageio                            2.9.0\n",
      "imagesize                          1.3.0\n",
      "importlib-metadata                 4.8.2\n",
      "inflection                         0.5.1\n",
      "iniconfig                          1.1.1\n",
      "intervaltree                       3.1.0\n",
      "ipykernel                          6.4.1\n",
      "ipython                            7.29.0\n",
      "ipython-genutils                   0.2.0\n",
      "ipywidgets                         7.6.5\n",
      "isort                              5.9.3\n",
      "itsdangerous                       2.0.1\n",
      "jdcal                              1.4.1\n",
      "jedi                               0.18.0\n",
      "Jinja2                             2.11.3\n",
      "jinja2-time                        0.2.0\n",
      "joblib                             1.1.0\n",
      "JPype1                             1.2.1\n",
      "json5                              0.9.6\n",
      "jsonschema                         3.2.0\n",
      "jupyter                            1.0.0\n",
      "jupyter-client                     6.1.12\n",
      "jupyter-console                    6.4.0\n",
      "jupyter-core                       4.9.1\n",
      "jupyter-server                     1.4.1\n",
      "jupyterlab                         3.2.1\n",
      "jupyterlab-pygments                0.1.2\n",
      "jupyterlab-server                  2.8.2\n",
      "jupyterlab-widgets                 1.0.0\n",
      "keyring                            23.4.0\n",
      "kiwisolver                         1.3.1\n",
      "konlpy                             0.5.2\n",
      "lazy-object-proxy                  1.6.0\n",
      "libarchive-c                       2.9\n",
      "lightgbm                           3.2.1\n",
      "llvmlite                           0.37.0\n",
      "locket                             0.2.1\n",
      "lxml                               4.7.1\n",
      "MarkupSafe                         1.1.1\n",
      "matplotlib                         3.5.0\n",
      "matplotlib-inline                  0.1.2\n",
      "mccabe                             0.6.1\n",
      "menuinst                           1.4.18\n",
      "mglearn                            0.1.9\n",
      "mistune                            0.8.4\n",
      "mkl-fft                            1.3.1\n",
      "mkl-random                         1.2.2\n",
      "mkl-service                        2.4.0\n",
      "mock                               4.0.3\n",
      "more-itertools                     8.12.0\n",
      "mpmath                             1.2.1\n",
      "msgpack                            1.0.2\n",
      "multipledispatch                   0.6.0\n",
      "munkres                            1.1.4\n",
      "mypy-extensions                    0.4.3\n",
      "navigator-updater                  0.2.1\n",
      "nbclassic                          0.2.6\n",
      "nbclient                           0.5.3\n",
      "nbconvert                          6.1.0\n",
      "nbformat                           5.1.3\n",
      "nest-asyncio                       1.5.1\n",
      "networkx                           2.6.3\n",
      "nltk                               3.6.5\n",
      "nose                               1.3.7\n",
      "notebook                           6.4.6\n",
      "numba                              0.54.1\n",
      "numexpr                            2.7.3\n",
      "numpy                              1.20.3\n",
      "numpydoc                           1.1.0\n",
      "oauthlib                           3.1.1\n",
      "olefile                            0.46\n",
      "openpyxl                           3.0.9\n",
      "packaging                          21.3\n",
      "pandas                             1.3.4\n",
      "pandocfilters                      1.4.3\n",
      "paramiko                           2.8.1\n",
      "parso                              0.8.2\n",
      "partd                              1.2.0\n",
      "path                               16.0.0\n",
      "pathlib2                           2.3.6\n",
      "pathspec                           0.7.0\n",
      "patsy                              0.5.2\n",
      "pep8                               1.7.1\n",
      "pexpect                            4.8.0\n",
      "pickleshare                        0.7.5\n",
      "Pillow                             8.4.0\n",
      "pip                                21.3.1\n",
      "pkginfo                            1.7.1\n",
      "pluggy                             0.13.1\n",
      "ply                                3.11\n",
      "poyo                               0.5.0\n",
      "prometheus-client                  0.12.0\n",
      "prompt-toolkit                     3.0.20\n",
      "psutil                             5.8.0\n",
      "ptyprocess                         0.7.0\n",
      "py                                 1.10.0\n",
      "pycodestyle                        2.7.0\n",
      "pycosat                            0.6.3\n",
      "pycparser                          2.21\n",
      "pycurl                             7.44.1\n",
      "pydocstyle                         6.1.1\n",
      "pyerfa                             2.0.0\n",
      "pyflakes                           2.3.1\n",
      "Pygments                           2.10.0\n",
      "PyJWT                              2.1.0\n",
      "pylint                             2.9.6\n",
      "pyls-spyder                        0.4.0\n",
      "PyNaCl                             1.4.0\n",
      "pyodbc                             4.0.0-unsupported\n",
      "pyOpenSSL                          21.0.0\n",
      "pyparsing                          3.0.4\n",
      "pyreadline                         2.1\n",
      "pyrsistent                         0.18.0\n",
      "PySocks                            1.7.1\n",
      "pytest                             6.2.4\n",
      "python-dateutil                    2.8.2\n",
      "python-lsp-black                   1.0.0\n",
      "python-lsp-jsonrpc                 1.0.0\n",
      "python-lsp-server                  1.2.4\n",
      "python-slugify                     5.0.2\n",
      "pytz                               2021.3\n",
      "PyWavelets                         1.1.1\n",
      "pywin32                            302\n",
      "pywin32-ctypes                     0.2.0\n",
      "pywinpty                           0.5.7\n",
      "PyYAML                             6.0\n",
      "pyzmq                              22.3.0\n",
      "QDarkStyle                         3.0.2\n",
      "qstylizer                          0.1.10\n",
      "QtAwesome                          1.0.3\n",
      "qtconsole                          5.1.1\n",
      "QtPy                               1.10.0\n",
      "regex                              2021.8.3\n",
      "requests                           2.26.0\n",
      "requests-oauthlib                  1.3.0\n",
      "rope                               0.21.1\n",
      "Rtree                              0.9.7\n",
      "ruamel-yaml-conda                  0.15.100\n",
      "scikit-image                       0.18.3\n",
      "scikit-learn                       1.0.1\n",
      "scikit-learn-intelex               2021.20211201.114757\n",
      "scipy                              1.7.1\n",
      "seaborn                            0.11.2\n",
      "selenium                           3.141.0\n",
      "Send2Trash                         1.8.0\n",
      "setuptools                         58.0.4\n",
      "simplegeneric                      0.8.1\n",
      "singledispatch                     3.7.0\n",
      "sip                                4.19.13\n",
      "six                                1.16.0\n",
      "sniffio                            1.2.0\n",
      "snowballstemmer                    2.2.0\n",
      "sortedcollections                  2.1.0\n",
      "sortedcontainers                   2.4.0\n",
      "soupsieve                          2.3.1\n",
      "Sphinx                             4.2.0\n",
      "sphinxcontrib-applehelp            1.0.2\n",
      "sphinxcontrib-devhelp              1.0.2\n",
      "sphinxcontrib-htmlhelp             2.0.0\n",
      "sphinxcontrib-jsmath               1.0.1\n",
      "sphinxcontrib-qthelp               1.0.3\n",
      "sphinxcontrib-serializinghtml      1.1.5\n",
      "sphinxcontrib-websupport           1.2.4\n",
      "spyder                             5.1.5\n",
      "spyder-kernels                     2.1.3\n",
      "SQLAlchemy                         1.4.27\n",
      "statsmodels                        0.12.2\n",
      "sympy                              1.9\n",
      "tables                             3.6.1\n",
      "TBB                                0.2\n",
      "tblib                              1.7.0\n",
      "terminado                          0.9.4\n",
      "testpath                           0.5.0\n",
      "text-unidecode                     1.3\n",
      "textdistance                       4.2.1\n",
      "threadpoolctl                      2.2.0\n",
      "three-merge                        0.1.1\n",
      "tifffile                           2021.7.2\n",
      "tinycss                            0.4\n",
      "toml                               0.10.2\n",
      "toolz                              0.11.2\n",
      "tornado                            6.1\n",
      "tqdm                               4.62.3\n",
      "traitlets                          5.1.1\n",
      "tweepy                             3.10.0\n",
      "typed-ast                          1.4.3\n",
      "typing-extensions                  3.10.0.2\n",
      "ujson                              4.0.2\n",
      "unicodecsv                         0.14.1\n",
      "Unidecode                          1.2.0\n",
      "urllib3                            1.26.7\n",
      "watchdog                           2.1.6\n",
      "wcwidth                            0.2.5\n",
      "webencodings                       0.5.1\n",
      "Werkzeug                           2.0.2\n",
      "wheel                              0.37.0\n",
      "whichcraft                         0.6.1\n",
      "widgetsnbextension                 3.5.1\n",
      "win-inet-pton                      1.1.0\n",
      "win-unicode-console                0.5\n",
      "wincertstore                       0.2\n",
      "workbook                           1.1\n",
      "wrapt                              1.12.1\n",
      "xlrd                               2.0.1\n",
      "XlsxWriter                         3.0.2\n",
      "xlutils                            2.0.0\n",
      "xlwings                            0.24.9\n",
      "xlwt                               1.3.0\n",
      "xmltodict                          0.12.0\n",
      "yapf                               0.31.0\n",
      "zict                               2.0.0\n",
      "zipp                               3.6.0\n",
      "zope.event                         4.5.0\n",
      "zope.interface                     5.4.0\n"
     ]
    }
   ],
   "source": [
    "pip list"
   ]
  },
  {
   "cell_type": "code",
   "execution_count": null,
   "id": "f01f7321",
   "metadata": {},
   "outputs": [],
   "source": []
  }
 ],
 "metadata": {
  "kernelspec": {
   "display_name": "Python 3 (ipykernel)",
   "language": "python",
   "name": "python3"
  },
  "language_info": {
   "codemirror_mode": {
    "name": "ipython",
    "version": 3
   },
   "file_extension": ".py",
   "mimetype": "text/x-python",
   "name": "python",
   "nbconvert_exporter": "python",
   "pygments_lexer": "ipython3",
   "version": "3.8.12"
  },
  "toc": {
   "base_numbering": 1,
   "nav_menu": {},
   "number_sections": true,
   "sideBar": true,
   "skip_h1_title": false,
   "title_cell": "Table of Contents",
   "title_sidebar": "Contents",
   "toc_cell": false,
   "toc_position": {
    "height": "calc(100% - 180px)",
    "left": "10px",
    "top": "150px",
    "width": "245.76px"
   },
   "toc_section_display": true,
   "toc_window_display": true
  }
 },
 "nbformat": 4,
 "nbformat_minor": 5
}
