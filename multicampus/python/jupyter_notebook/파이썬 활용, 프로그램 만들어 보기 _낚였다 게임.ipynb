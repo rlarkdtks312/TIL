{
 "cells": [
  {
   "cell_type": "code",
   "execution_count": 1,
   "id": "21657b5c",
   "metadata": {},
   "outputs": [],
   "source": [
    "import time\n",
    "import random\n",
    "import numpy as np\n",
    "import pandas as pd"
   ]
  },
  {
   "cell_type": "code",
   "execution_count": 17,
   "id": "0d60796f",
   "metadata": {},
   "outputs": [
    {
     "name": "stdout",
     "output_type": "stream",
     "text": [
      "<class 'pandas.core.frame.DataFrame'>\n",
      "RangeIndex: 78 entries, 0 to 77\n",
      "Data columns (total 6 columns):\n",
      " #   Column  Non-Null Count  Dtype \n",
      "---  ------  --------------  ----- \n",
      " 0   ID      78 non-null     object\n",
      " 1   PW      78 non-null     int64 \n",
      " 2   물고기     78 non-null     object\n",
      " 3   수량      78 non-null     int64 \n",
      " 4   가격      78 non-null     int64 \n",
      " 5   현황      78 non-null     object\n",
      "dtypes: int64(3), object(3)\n",
      "memory usage: 3.8+ KB\n"
     ]
    }
   ],
   "source": [
    "# 데이터 확인\n",
    "df=pd.read_excel(\"./data/텍스트게임.xlsx\")\n",
    "df.info()"
   ]
  },
  {
   "cell_type": "code",
   "execution_count": 18,
   "id": "008455b8",
   "metadata": {},
   "outputs": [
    {
     "data": {
      "text/html": [
       "<div>\n",
       "<style scoped>\n",
       "    .dataframe tbody tr th:only-of-type {\n",
       "        vertical-align: middle;\n",
       "    }\n",
       "\n",
       "    .dataframe tbody tr th {\n",
       "        vertical-align: top;\n",
       "    }\n",
       "\n",
       "    .dataframe thead th {\n",
       "        text-align: right;\n",
       "    }\n",
       "</style>\n",
       "<table border=\"1\" class=\"dataframe\">\n",
       "  <thead>\n",
       "    <tr style=\"text-align: right;\">\n",
       "      <th></th>\n",
       "      <th>PW</th>\n",
       "      <th>수량</th>\n",
       "      <th>가격</th>\n",
       "    </tr>\n",
       "  </thead>\n",
       "  <tbody>\n",
       "    <tr>\n",
       "      <th>count</th>\n",
       "      <td>78.000000</td>\n",
       "      <td>78.000000</td>\n",
       "      <td>78.000000</td>\n",
       "    </tr>\n",
       "    <tr>\n",
       "      <th>mean</th>\n",
       "      <td>7311.871795</td>\n",
       "      <td>1.012821</td>\n",
       "      <td>5165.282051</td>\n",
       "    </tr>\n",
       "    <tr>\n",
       "      <th>std</th>\n",
       "      <td>5619.695972</td>\n",
       "      <td>0.113228</td>\n",
       "      <td>2884.613264</td>\n",
       "    </tr>\n",
       "    <tr>\n",
       "      <th>min</th>\n",
       "      <td>1.000000</td>\n",
       "      <td>1.000000</td>\n",
       "      <td>1000.000000</td>\n",
       "    </tr>\n",
       "    <tr>\n",
       "      <th>25%</th>\n",
       "      <td>1234.000000</td>\n",
       "      <td>1.000000</td>\n",
       "      <td>2489.250000</td>\n",
       "    </tr>\n",
       "    <tr>\n",
       "      <th>50%</th>\n",
       "      <td>12345.000000</td>\n",
       "      <td>1.000000</td>\n",
       "      <td>5040.000000</td>\n",
       "    </tr>\n",
       "    <tr>\n",
       "      <th>75%</th>\n",
       "      <td>12345.000000</td>\n",
       "      <td>1.000000</td>\n",
       "      <td>7323.000000</td>\n",
       "    </tr>\n",
       "    <tr>\n",
       "      <th>max</th>\n",
       "      <td>12345.000000</td>\n",
       "      <td>2.000000</td>\n",
       "      <td>14000.000000</td>\n",
       "    </tr>\n",
       "  </tbody>\n",
       "</table>\n",
       "</div>"
      ],
      "text/plain": [
       "                 PW         수량            가격\n",
       "count     78.000000  78.000000     78.000000\n",
       "mean    7311.871795   1.012821   5165.282051\n",
       "std     5619.695972   0.113228   2884.613264\n",
       "min        1.000000   1.000000   1000.000000\n",
       "25%     1234.000000   1.000000   2489.250000\n",
       "50%    12345.000000   1.000000   5040.000000\n",
       "75%    12345.000000   1.000000   7323.000000\n",
       "max    12345.000000   2.000000  14000.000000"
      ]
     },
     "execution_count": 18,
     "metadata": {},
     "output_type": "execute_result"
    }
   ],
   "source": [
    "df.describe()"
   ]
  },
  {
   "cell_type": "code",
   "execution_count": 19,
   "id": "c31eb0a2",
   "metadata": {},
   "outputs": [
    {
     "name": "stdout",
     "output_type": "stream",
     "text": [
      "자자자~~~ 신중하게 낚시를 시작합시다. 월척 낚으세요~\n",
      "     No1  No2     물고기      가격\n",
      "0    2.0  6.0  가는꼬리쥐치  1631.0\n",
      "1    1.0  4.0    가다랑어  2917.0\n",
      "2    3.0  5.0     가라지  1203.0\n",
      "3    3.0  4.0   가면놀래기  1751.0\n",
      "4    1.0  4.0     가숭어  4483.0\n",
      "..   ...  ...     ...     ...\n",
      "746  2.0  4.0  흰배환도상어  2116.0\n",
      "747  2.0  4.0    흰붕장어  7953.0\n",
      "748  1.0  3.0   흰점꺼끌복  6207.0\n",
      "749  2.0  4.0    히메성대  9362.0\n",
      "750  3.0  6.0     히메치  1074.0\n",
      "\n",
      "[751 rows x 4 columns]\n"
     ]
    }
   ],
   "source": [
    "# 낚시터 구현하기\n",
    "\n",
    "def game_fishing_center():\n",
    "    print(\"자자자~~~ 신중하게 낚시를 시작합시다. 월척 낚으세요~\")\n",
    "    fishing = pd.read_excel(\"./data/물고기표.xlsx\")\n",
    "    return fishing\n",
    "\n",
    "print(game_fishing_center())"
   ]
  },
  {
   "cell_type": "code",
   "execution_count": 20,
   "id": "32d4b672",
   "metadata": {},
   "outputs": [
    {
     "name": "stdout",
     "output_type": "stream",
     "text": [
      "자자자~~~ 신중하게 낚시를 시작합시다. 월척 낚으세요~\n",
      "[[2.0 6.0 '가는꼬리쥐치' 1631.0]\n",
      " [1.0 4.0 '가다랑어' 2917.0]\n",
      " [3.0 5.0 '가라지' 1203.0]\n",
      " ...\n",
      " [1.0 3.0 '흰점꺼끌복' 6207.0]\n",
      " [2.0 4.0 '히메성대' 9362.0]\n",
      " [3.0 6.0 '히메치' 1074.0]]\n"
     ]
    }
   ],
   "source": [
    "def game_fishing_center():\n",
    "    print(\"자자자~~~ 신중하게 낚시를 시작합시다. 월척 낚으세요~\")\n",
    "    fishing = pd.read_excel(\"./data/물고기표.xlsx\")\n",
    "    \n",
    "    choose_fish = np.array(fishing).reshape(-1,4)\n",
    "    return choose_fish\n",
    "\n",
    "print(game_fishing_center())"
   ]
  },
  {
   "cell_type": "code",
   "execution_count": 21,
   "id": "184284b1",
   "metadata": {},
   "outputs": [
    {
     "name": "stdout",
     "output_type": "stream",
     "text": [
      "자자자~~~ 신중하게 낚시를 시작합시다. 월척 낚으세요~\n",
      "4\n"
     ]
    }
   ],
   "source": [
    "def game_fishing_center():\n",
    "    print(\"자자자~~~ 신중하게 낚시를 시작합시다. 월척 낚으세요~\")\n",
    "    fishing = pd.read_excel(\"./data/물고기표.xlsx\")\n",
    "    \n",
    "    choose_fish = np.array(fishing).reshape(-1,4)\n",
    "    choose_fish_num = random.randint(0, len(fishing))     # 0부터 전체 행까지 반복하려구\n",
    "    choose_fish_wait_num = random.randint(choose_fish[choose_fish_num][0], choose_fish[choose_fish_num][1])\n",
    "    return choose_fish_wait_num\n",
    "\n",
    "print(game_fishing_center())"
   ]
  },
  {
   "cell_type": "code",
   "execution_count": 22,
   "id": "931314d2",
   "metadata": {},
   "outputs": [
    {
     "ename": "TypeError",
     "evalue": "game_fishing_center() missing 3 required positional arguments: 'df', 'id', and 'pw'",
     "output_type": "error",
     "traceback": [
      "\u001b[1;31m---------------------------------------------------------------------------\u001b[0m",
      "\u001b[1;31mTypeError\u001b[0m                                 Traceback (most recent call last)",
      "\u001b[1;32m~\\AppData\\Local\\Temp/ipykernel_18584/710309848.py\u001b[0m in \u001b[0;36m<module>\u001b[1;34m\u001b[0m\n\u001b[0;32m     15\u001b[0m     \u001b[0mdf\u001b[0m\u001b[1;33m.\u001b[0m\u001b[0mto_execel\u001b[0m\u001b[1;33m(\u001b[0m\u001b[1;34m\"./data/text_game.xlsx\"\u001b[0m\u001b[1;33m,\u001b[0m \u001b[0msheet_name\u001b[0m\u001b[1;33m=\u001b[0m\u001b[1;34m\"낚았다 게임\"\u001b[0m\u001b[1;33m,\u001b[0m \u001b[0mindex\u001b[0m \u001b[1;33m=\u001b[0m \u001b[1;32mNone\u001b[0m\u001b[1;33m)\u001b[0m\u001b[1;33m\u001b[0m\u001b[1;33m\u001b[0m\u001b[0m\n\u001b[0;32m     16\u001b[0m \u001b[1;33m\u001b[0m\u001b[0m\n\u001b[1;32m---> 17\u001b[1;33m \u001b[0mprint\u001b[0m\u001b[1;33m(\u001b[0m\u001b[0mgame_fishing_center\u001b[0m\u001b[1;33m(\u001b[0m\u001b[1;33m)\u001b[0m\u001b[1;33m)\u001b[0m\u001b[1;33m\u001b[0m\u001b[1;33m\u001b[0m\u001b[0m\n\u001b[0m",
      "\u001b[1;31mTypeError\u001b[0m: game_fishing_center() missing 3 required positional arguments: 'df', 'id', and 'pw'"
     ]
    }
   ],
   "source": [
    "def game_fishing_center(df, id, pw):\n",
    "    print(\"자자자~~~ 신중하게 낚시를 시작합시다. 월척 낚으세요~\")\n",
    "    fishing = pd.read_excel(\"./data/물고기표.xlsx\")\n",
    "    \n",
    "    choose_fish = np.array(fishing).reshape(-1,4)\n",
    "    choose_fish_num = random.randint(0, len(fishing))     # 0부터 전체 행까지 반복하려구\n",
    "    choose_fish_wait_num = random.randint(choose_fish[choose_fish_num][0], choose_fish[choose_fish_num][1])\n",
    "    \n",
    "    time.sleep(choose_fish_wait_num) # 대기시간 추가\n",
    "    print(\"아! 낚았네요! 척이길 바래요~\")\n",
    "    print(\"{} 님이 낚은 물고기는 {} 입니다.\".format(\"김강산\",choose_fish[choose_fish_num][2]))\n",
    "    \n",
    "    # 08 저장 / 엑셀\n",
    "    df.loc[len(df)] = [id, pw, choose_fish[choose_fish_num][2], 1, choose_fish[choose_fish_num][-1], \"미판매\"]\n",
    "    df.to_execel(\"./data/text_game.xlsx\", sheet_name=\"낚았다 게임\", index = None)\n",
    "\n",
    "print(game_fishing_center())"
   ]
  },
  {
   "cell_type": "code",
   "execution_count": 28,
   "id": "3ae8ea6c",
   "metadata": {},
   "outputs": [
    {
     "name": "stdout",
     "output_type": "stream",
     "text": [
      "현재 판매하지 않은 물고기는 0개 입니다.\n",
      "다 팔았네요, GOOD JOB\n"
     ]
    }
   ],
   "source": [
    "# 상점 구현\n",
    "id = 'kim'\n",
    "pw = '1234'\n",
    "def game_store (df, id, pw): \n",
    "    print(\"현재 판매하지 않은 물고기는 {}개 입니다.\".format(len(df[(df['ID']==id)&(df['현황']=='미판')])))\n",
    "    미판_index = df[(df['ID']==id)&(df['현황']=='미판')].index\n",
    "    \n",
    "    if len(미판_index) != 0:  # 판매 안 된게 있으면, \n",
    "        for i in range( len(미판_index)): \n",
    "            print(\"{} 물고기를 판매했어요.\".format(df[(df['ID']==id)&(df['현황']=='미판')]['물고기'][미판_index[i]]))\n",
    "            \n",
    "        # DB 저장 / 엑셀 저장 \n",
    "            df.loc[미판_index[i]]= [ id, pw, \n",
    "                                    df[(df['ID']==id)&(df['현황']=='미판')['물고기'][미판_index[i]]],\n",
    "                                    df[(df['ID']==id)&(df['현황']=='미판')['수량'] [미판_index[i]]],\n",
    "                                    df[(df['ID']==id)&(df['현황']=='미판')['가격'] [미판_index[i]]],\n",
    "                                    \"판매\"]\n",
    "    else:  # 빈 경우 \n",
    "        print(\"다 팔았네요, GOOD JOB\")\n",
    " \n",
    "    df.to_excel(\"./data/텍스트게임.xlsx\", sheet_name=\"낚시게임\", index=None)\n",
    "game_store(df,id, pw)"
   ]
  },
  {
   "cell_type": "code",
   "execution_count": 27,
   "id": "175dfdb5",
   "metadata": {},
   "outputs": [
    {
     "name": "stdout",
     "output_type": "stream",
     "text": [
      "자자자~~~ 신중하게 낚시를 시작합니다. 월척하세요~\n",
      "야~ 낚았네요! 월척이길 바래요\n",
      "[축하(이모티콘 추가)]닥터윌 님이 낚은 물고기는 거룻배가자미 입니다.\n",
      "None\n"
     ]
    }
   ],
   "source": [
    "# 낚시터 구현하기 \n",
    "\n",
    "def game_fishing_center(): \n",
    "    print(\"자자자~~~ 신중하게 낚시를 시작합니다. 월척하세요~\")\n",
    "    \n",
    "    fishing = pd.read_excel(\"./data/물고기표.xlsx\")\n",
    "    \n",
    "    choose_fish=np.array(fishing).reshape(-1, 4)\n",
    "    \n",
    "    choose_fish_num = random.randint( 0, len(fishing)) # 0부터 전체 행까지 반복\n",
    "    choose_fish_waiting_num = random.randint(choose_fish[choose_fish_num][0], choose_fish[choose_fish_num][1])\n",
    "    \n",
    "    time.sleep(choose_fish_waiting_num) # 대기시간 추가 \n",
    "    \n",
    "    print(\"야~ 낚았네요! 월척이길 바래요\")\n",
    "    print(\"[축하(이모티콘 추가)]{} 님이 낚은 물고기는 {} 입니다.\".format(\"닥터윌\", choose_fish[choose_fish_num][2]))\n",
    "    \n",
    "\n",
    "print(game_fishing_center())\n"
   ]
  },
  {
   "cell_type": "code",
   "execution_count": null,
   "id": "bf134842",
   "metadata": {},
   "outputs": [],
   "source": [
    "# 낚시터 구현하기 \n",
    "\n",
    "def game_fishing_center(df, id, pw): \n",
    "    print(\"자자자~~~ 신중하게 낚시를 시작합니다. 월척하세요~\")\n",
    "    \n",
    "    fishing = pd.read_excel(\"./data/물고기표.xlsx\")\n",
    "    \n",
    "    choose_fish=np.array(fishing).reshape(-1, 4)\n",
    "    \n",
    "    choose_fish_num = random.randint( 0, len(fishing)) # 0부터 전체 행까지 반복\n",
    "    choose_fish_waiting_num = random.randint(choose_fish[choose_fish_num][0], choose_fish[choose_fish_num][1])\n",
    "    \n",
    "    time.sleep(choose_fish_waiting_num) # 대기시간 추가 \n",
    "    \n",
    "    print(\"야~ 낚았네요! 월척이길 바래요\")\n",
    "    print(\"[축]{} 님이 낚은 물고기는 {} 입니다.\".format(\"닥터윌\", choose_fish[choose_fish_num][2]))\n",
    "    \n",
    " \n",
    "    df.loc[ len(df) ] = [id, pw, choose_fish[choose_fish_num][2], 1, choose_fish[choose_fish_num][-1], \"미판\" ]\n",
    "    df.to_excel( \"./data/text_game.xlsx\", sheet_name=\"낚시게임\", index=None )\n",
    "game_fishing_center(df,'kim','1234')"
   ]
  },
  {
   "cell_type": "code",
   "execution_count": 30,
   "id": "a4703f69",
   "metadata": {},
   "outputs": [
    {
     "name": "stdout",
     "output_type": "stream",
     "text": [
      "로그인(1)/회원가입(2)2\n",
      "ID 입력kim\n",
      "패스워드 입력:1234\n",
      "[축하합니다] 회원가입 완료\n",
      "게임의 세계로 오실까요?\n"
     ]
    },
    {
     "ename": "NameError",
     "evalue": "name 'game_play' is not defined",
     "output_type": "error",
     "traceback": [
      "\u001b[1;31m---------------------------------------------------------------------------\u001b[0m",
      "\u001b[1;31mNameError\u001b[0m                                 Traceback (most recent call last)",
      "\u001b[1;32m~\\AppData\\Local\\Temp/ipykernel_18584/693154397.py\u001b[0m in \u001b[0;36m<module>\u001b[1;34m\u001b[0m\n\u001b[0;32m     24\u001b[0m     \u001b[0mprint\u001b[0m\u001b[1;33m(\u001b[0m\u001b[1;34m\"[축하합니다] 회원가입 완료\"\u001b[0m\u001b[1;33m)\u001b[0m\u001b[1;33m\u001b[0m\u001b[1;33m\u001b[0m\u001b[0m\n\u001b[0;32m     25\u001b[0m     \u001b[0mprint\u001b[0m\u001b[1;33m(\u001b[0m\u001b[1;34m\"게임의 세계로 오실까요?\"\u001b[0m\u001b[1;33m)\u001b[0m\u001b[1;33m\u001b[0m\u001b[1;33m\u001b[0m\u001b[0m\n\u001b[1;32m---> 26\u001b[1;33m     \u001b[0mgame_play\u001b[0m\u001b[1;33m(\u001b[0m\u001b[0m계정정보\u001b[0m\u001b[1;33m[\u001b[0m\u001b[1;36m0\u001b[0m\u001b[1;33m]\u001b[0m\u001b[1;33m,\u001b[0m \u001b[0m계정정보\u001b[0m\u001b[1;33m[\u001b[0m\u001b[1;36m1\u001b[0m\u001b[1;33m]\u001b[0m\u001b[1;33m)\u001b[0m\u001b[1;33m\u001b[0m\u001b[1;33m\u001b[0m\u001b[0m\n\u001b[0m",
      "\u001b[1;31mNameError\u001b[0m: name 'game_play' is not defined"
     ]
    }
   ],
   "source": [
    "# 계정정보 \n",
    "\n",
    "계정정보 = [ ]\n",
    "\n",
    "df = pd.read_excel(\"./data/텍스트게임.xlsx\")\n",
    "\n",
    "계정 = int(input(\"로그인(1)/회원가입(2)\"))\n",
    "\n",
    "if 계정 == 1: # 로그인 \n",
    "    계정정보.append(input(\"ID 입력:\"))\n",
    "    계정정보.append(int(input(\"패스워드 입력:\")))\n",
    "    \n",
    "    if 계정정보[0] in df['ID'].unique() and 계정정보[1] in df['PW'].unique():   # unique() :중복제거\n",
    "        print(\"게임을 시작합니다.\")\n",
    "        game_play(계정정보[0], 계정정보[1])\n",
    "    else:\n",
    "        print(\"ID 또는 패스워드가 없어요\")\n",
    "        pass\n",
    "\n",
    "elif 계정 == 2:   # 회원 가입 \n",
    "    계정정보.append( input(\"ID 입력\"))\n",
    "    계정정보.append(int(input(\"패스워드 입력:\")))\n",
    "    \n",
    "    print(\"[축하합니다] 회원가입 완료\")\n",
    "    print(\"게임의 세계로 오실까요?\")\n",
    "    game_play(계정정보[0], 계정정보[1])\n"
   ]
  },
  {
   "cell_type": "code",
   "execution_count": null,
   "id": "1796437f",
   "metadata": {},
   "outputs": [],
   "source": []
  }
 ],
 "metadata": {
  "kernelspec": {
   "display_name": "Python 3 (ipykernel)",
   "language": "python",
   "name": "python3"
  },
  "language_info": {
   "codemirror_mode": {
    "name": "ipython",
    "version": 3
   },
   "file_extension": ".py",
   "mimetype": "text/x-python",
   "name": "python",
   "nbconvert_exporter": "python",
   "pygments_lexer": "ipython3",
   "version": "3.8.12"
  }
 },
 "nbformat": 4,
 "nbformat_minor": 5
}
