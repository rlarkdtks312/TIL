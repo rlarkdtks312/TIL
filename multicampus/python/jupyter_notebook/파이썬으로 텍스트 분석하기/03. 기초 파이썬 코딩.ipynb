{
 "cells": [
  {
   "cell_type": "markdown",
   "metadata": {},
   "source": [
    "## 화면 출력 (print)"
   ]
  },
  {
   "cell_type": "code",
   "execution_count": 1,
   "metadata": {},
   "outputs": [
    {
     "name": "stdout",
     "output_type": "stream",
     "text": [
      "Hello World\n"
     ]
    }
   ],
   "source": [
    "print(\"Hello World\")"
   ]
  },
  {
   "cell_type": "code",
   "execution_count": 2,
   "metadata": {},
   "outputs": [
    {
     "name": "stdout",
     "output_type": "stream",
     "text": [
      "Python을 시작합니다\n",
      "안녕하세요?\n"
     ]
    }
   ],
   "source": [
    "print(\"Python을 시작합니다\\n안녕하세요?\")"
   ]
  },
  {
   "cell_type": "code",
   "execution_count": 3,
   "metadata": {},
   "outputs": [
    {
     "name": "stdout",
     "output_type": "stream",
     "text": [
      "3.1415926535\n"
     ]
    }
   ],
   "source": [
    "pi=3.1415926535\n",
    "print(pi)"
   ]
  },
  {
   "cell_type": "code",
   "execution_count": 4,
   "metadata": {},
   "outputs": [
    {
     "name": "stdout",
     "output_type": "stream",
     "text": [
      "안녕하세요\n"
     ]
    }
   ],
   "source": [
    "hello=\"안녕하세요\"\n",
    "print(hello)"
   ]
  },
  {
   "cell_type": "code",
   "execution_count": 6,
   "metadata": {},
   "outputs": [
    {
     "name": "stdout",
     "output_type": "stream",
     "text": [
      "학교이름은 경상대학교입니다.\n"
     ]
    }
   ],
   "source": [
    "name=\"경상대학교\"\n",
    "print(\"학교이름은 {}입니다.\".format(name))"
   ]
  },
  {
   "cell_type": "markdown",
   "metadata": {},
   "source": [
    "# 숫자(numerics)"
   ]
  },
  {
   "cell_type": "code",
   "execution_count": 7,
   "metadata": {},
   "outputs": [],
   "source": [
    "# 데이터 형태\n",
    "# d: 정수 (int)\n",
    "# s: 문자 (str)\n",
    "# f: 실수 (float)"
   ]
  },
  {
   "cell_type": "code",
   "execution_count": 8,
   "metadata": {},
   "outputs": [
    {
     "data": {
      "text/plain": [
       "int"
      ]
     },
     "execution_count": 8,
     "metadata": {},
     "output_type": "execute_result"
    }
   ],
   "source": [
    "type(10)"
   ]
  },
  {
   "cell_type": "code",
   "execution_count": 9,
   "metadata": {},
   "outputs": [
    {
     "data": {
      "text/plain": [
       "float"
      ]
     },
     "execution_count": 9,
     "metadata": {},
     "output_type": "execute_result"
    }
   ],
   "source": [
    "type(3.14)"
   ]
  },
  {
   "cell_type": "code",
   "execution_count": 10,
   "metadata": {},
   "outputs": [
    {
     "data": {
      "text/plain": [
       "complex"
      ]
     },
     "execution_count": 10,
     "metadata": {},
     "output_type": "execute_result"
    }
   ],
   "source": [
    "type(7+5j)"
   ]
  },
  {
   "cell_type": "code",
   "execution_count": 11,
   "metadata": {},
   "outputs": [
    {
     "data": {
      "text/plain": [
       "14"
      ]
     },
     "execution_count": 11,
     "metadata": {},
     "output_type": "execute_result"
    }
   ],
   "source": [
    "10+4"
   ]
  },
  {
   "cell_type": "code",
   "execution_count": 12,
   "metadata": {},
   "outputs": [
    {
     "data": {
      "text/plain": [
       "6"
      ]
     },
     "execution_count": 12,
     "metadata": {},
     "output_type": "execute_result"
    }
   ],
   "source": [
    "10-4"
   ]
  },
  {
   "cell_type": "code",
   "execution_count": 13,
   "metadata": {},
   "outputs": [
    {
     "data": {
      "text/plain": [
       "40"
      ]
     },
     "execution_count": 13,
     "metadata": {},
     "output_type": "execute_result"
    }
   ],
   "source": [
    "10*4"
   ]
  },
  {
   "cell_type": "code",
   "execution_count": 14,
   "metadata": {},
   "outputs": [
    {
     "data": {
      "text/plain": [
       "100"
      ]
     },
     "execution_count": 14,
     "metadata": {},
     "output_type": "execute_result"
    }
   ],
   "source": [
    "10**2"
   ]
  },
  {
   "cell_type": "code",
   "execution_count": 15,
   "metadata": {},
   "outputs": [
    {
     "data": {
      "text/plain": [
       "2.5"
      ]
     },
     "execution_count": 15,
     "metadata": {},
     "output_type": "execute_result"
    }
   ],
   "source": [
    "10/4"
   ]
  },
  {
   "cell_type": "code",
   "execution_count": 16,
   "metadata": {},
   "outputs": [
    {
     "data": {
      "text/plain": [
       "2"
      ]
     },
     "execution_count": 16,
     "metadata": {},
     "output_type": "execute_result"
    }
   ],
   "source": [
    "10//4"
   ]
  },
  {
   "cell_type": "code",
   "execution_count": 17,
   "metadata": {},
   "outputs": [
    {
     "data": {
      "text/plain": [
       "2"
      ]
     },
     "execution_count": 17,
     "metadata": {},
     "output_type": "execute_result"
    }
   ],
   "source": [
    "10%4"
   ]
  },
  {
   "cell_type": "code",
   "execution_count": 18,
   "metadata": {},
   "outputs": [
    {
     "data": {
      "text/plain": [
       "True"
      ]
     },
     "execution_count": 18,
     "metadata": {},
     "output_type": "execute_result"
    }
   ],
   "source": [
    "10>4"
   ]
  },
  {
   "cell_type": "code",
   "execution_count": 19,
   "metadata": {},
   "outputs": [
    {
     "data": {
      "text/plain": [
       "False"
      ]
     },
     "execution_count": 19,
     "metadata": {},
     "output_type": "execute_result"
    }
   ],
   "source": [
    "10<4"
   ]
  },
  {
   "cell_type": "code",
   "execution_count": 20,
   "metadata": {},
   "outputs": [
    {
     "data": {
      "text/plain": [
       "False"
      ]
     },
     "execution_count": 20,
     "metadata": {},
     "output_type": "execute_result"
    }
   ],
   "source": [
    "10==4"
   ]
  },
  {
   "cell_type": "code",
   "execution_count": 21,
   "metadata": {},
   "outputs": [
    {
     "data": {
      "text/plain": [
       "True"
      ]
     },
     "execution_count": 21,
     "metadata": {},
     "output_type": "execute_result"
    }
   ],
   "source": [
    "10!=4"
   ]
  },
  {
   "cell_type": "code",
   "execution_count": 22,
   "metadata": {},
   "outputs": [
    {
     "data": {
      "text/plain": [
       "True"
      ]
     },
     "execution_count": 22,
     "metadata": {},
     "output_type": "execute_result"
    }
   ],
   "source": [
    "10>=4"
   ]
  },
  {
   "cell_type": "code",
   "execution_count": 23,
   "metadata": {},
   "outputs": [
    {
     "data": {
      "text/plain": [
       "False"
      ]
     },
     "execution_count": 23,
     "metadata": {},
     "output_type": "execute_result"
    }
   ],
   "source": [
    "10<=4"
   ]
  },
  {
   "cell_type": "code",
   "execution_count": 26,
   "metadata": {},
   "outputs": [],
   "source": [
    "a=10\n",
    "b=4\n",
    "c=2"
   ]
  },
  {
   "cell_type": "code",
   "execution_count": 27,
   "metadata": {},
   "outputs": [
    {
     "data": {
      "text/plain": [
       "14"
      ]
     },
     "execution_count": 27,
     "metadata": {},
     "output_type": "execute_result"
    }
   ],
   "source": [
    "a+b"
   ]
  },
  {
   "cell_type": "code",
   "execution_count": 28,
   "metadata": {},
   "outputs": [
    {
     "data": {
      "text/plain": [
       "True"
      ]
     },
     "execution_count": 28,
     "metadata": {},
     "output_type": "execute_result"
    }
   ],
   "source": [
    "a>=b"
   ]
  },
  {
   "cell_type": "code",
   "execution_count": 29,
   "metadata": {},
   "outputs": [
    {
     "data": {
      "text/plain": [
       "False"
      ]
     },
     "execution_count": 29,
     "metadata": {},
     "output_type": "execute_result"
    }
   ],
   "source": [
    "a=True\n",
    "b=False\n",
    "(a and b)"
   ]
  },
  {
   "cell_type": "code",
   "execution_count": 30,
   "metadata": {},
   "outputs": [
    {
     "data": {
      "text/plain": [
       "True"
      ]
     },
     "execution_count": 30,
     "metadata": {},
     "output_type": "execute_result"
    }
   ],
   "source": [
    "a=True\n",
    "b=False\n",
    "(a or b)"
   ]
  },
  {
   "cell_type": "code",
   "execution_count": 31,
   "metadata": {},
   "outputs": [
    {
     "data": {
      "text/plain": [
       "True"
      ]
     },
     "execution_count": 31,
     "metadata": {},
     "output_type": "execute_result"
    }
   ],
   "source": [
    "a=True\n",
    "b=False\n",
    "not b"
   ]
  },
  {
   "cell_type": "code",
   "execution_count": 32,
   "metadata": {},
   "outputs": [
    {
     "data": {
      "text/plain": [
       "True"
      ]
     },
     "execution_count": 32,
     "metadata": {},
     "output_type": "execute_result"
    }
   ],
   "source": [
    "a=True\n",
    "b=False\n",
    "not(a and b)"
   ]
  },
  {
   "cell_type": "code",
   "execution_count": 33,
   "metadata": {},
   "outputs": [
    {
     "data": {
      "text/plain": [
       "False"
      ]
     },
     "execution_count": 33,
     "metadata": {},
     "output_type": "execute_result"
    }
   ],
   "source": [
    "a=True\n",
    "b=False\n",
    "not(a or b)"
   ]
  },
  {
   "cell_type": "markdown",
   "metadata": {},
   "source": [
    "## 문자열 자료형 (String)"
   ]
  },
  {
   "cell_type": "code",
   "execution_count": 34,
   "metadata": {},
   "outputs": [
    {
     "name": "stdout",
     "output_type": "stream",
     "text": [
      "Lifeistooshort\n",
      "Life is too short\n"
     ]
    }
   ],
   "source": [
    "# 문자열 붙이기 (concatenation)\n",
    "C3 = \"Life\"\n",
    "C4 = \"is\"\n",
    "C5 = \"too\"\n",
    "C6 = \"short\"\n",
    "C7 = C3 + C4 + C5 + C6\n",
    "C8 = C3 + \" \" + C4 + \" \" + C5 + \" \" + C6\n",
    "print(C7)\n",
    "print(C8)"
   ]
  },
  {
   "cell_type": "code",
   "execution_count": 35,
   "metadata": {},
   "outputs": [
    {
     "name": "stdout",
     "output_type": "stream",
     "text": [
      "H\n",
      "O\n",
      "하\n",
      "봅\n"
     ]
    }
   ],
   "source": [
    "# 문자열 인덱싱 (indexing)\n",
    "C1 = \"HELLO PYTHON\"  \n",
    "C2 = \"안녕하세요 파이썬씨?우리 잘 해봅시다\"\n",
    "print(C1[0]) #C1의 0번째 문자\n",
    "print(C1[-2]) #C1의 끝에서 2번째 문자\n",
    "print(C2[2]) #C2 2번째 문자\n",
    "print(C2[-3]) #C2 끝에서 3번째 문자"
   ]
  },
  {
   "cell_type": "code",
   "execution_count": 38,
   "metadata": {},
   "outputs": [
    {
     "name": "stdout",
     "output_type": "stream",
     "text": [
      "은\n",
      "파이썬\n",
      "어서와 파이\n",
      "도 처음이야\n"
     ]
    }
   ],
   "source": [
    "# 문자열 슬라이싱 (slicing)\n",
    "C2 = \"어서와 파이썬은 처음이지?\\n나도 처음이야\"\n",
    "print(C2[7])   # 7번째 문자 추출\n",
    "print(C2[4:7]) #4번째 문자부터 6번째까지\n",
    "print(C2[:6]) #처음부터 5번째까지\n",
    "print(C2[-6:])#끝에서 6번째부터 끝까지"
   ]
  },
  {
   "cell_type": "code",
   "execution_count": 39,
   "metadata": {},
   "outputs": [
    {
     "name": "stdout",
     "output_type": "stream",
     "text": [
      "어서와 파이썬은 처음이지?\n",
      "나도 처음이야\n"
     ]
    }
   ],
   "source": [
    "print(\"어서와 파이썬은 처음이지?\\n나도 처음이야\")"
   ]
  },
  {
   "cell_type": "code",
   "execution_count": 40,
   "metadata": {},
   "outputs": [
    {
     "name": "stdout",
     "output_type": "stream",
     "text": [
      "2\n",
      "4\n"
     ]
    }
   ],
   "source": [
    "# 문자열 찾기 (finding)\n",
    "C2 = \"어서와 파이썬은 처음이지?\\n나도 처음이야\"\n",
    "print(C2.index('와')) # C2문장에서 '와'의 위치 2번째 (0부터 계산)\n",
    "print(C2.find('파')) #C2문장에서 '파'의 위치는 4번째 (공백도 계산)"
   ]
  },
  {
   "cell_type": "code",
   "execution_count": 45,
   "metadata": {},
   "outputs": [
    {
     "name": "stdout",
     "output_type": "stream",
     "text": [
      "4\n",
      "4\n"
     ]
    }
   ],
   "source": [
    "#my 문자열 찾기 (finding)\n",
    "c2 = '어서와 메이플은 처음이지?\\n나는 고인물이야'\n",
    "print(c2.index('메'))\n",
    "print(c2.find('메'))"
   ]
  },
  {
   "cell_type": "code",
   "execution_count": 41,
   "metadata": {},
   "outputs": [
    {
     "name": "stdout",
     "output_type": "stream",
     "text": [
      "hello python\n",
      "SHORT\n"
     ]
    }
   ],
   "source": [
    "# 대/소문자 바꾸기 (convert to uppercase/lowercase)\n",
    "C1 = \"HELLO PYTHON\"\n",
    "C6 = \"short\"\n",
    "print(C1.lower())\n",
    "print(C6.upper())"
   ]
  },
  {
   "cell_type": "code",
   "execution_count": 46,
   "metadata": {},
   "outputs": [
    {
     "name": "stdout",
     "output_type": "stream",
     "text": [
      "MAPLE story\n"
     ]
    }
   ],
   "source": [
    "# my 대/소문자 바꾸기 (convert to uppercase/lowercase)\n",
    "c1 = 'maple'\n",
    "c2 = 'STORY'\n",
    "print(c1.upper(), c2.lower())"
   ]
  },
  {
   "cell_type": "code",
   "execution_count": 42,
   "metadata": {},
   "outputs": [
    {
     "name": "stdout",
     "output_type": "stream",
     "text": [
      "HELLO \n",
      " HELLO\n",
      "HELLO\n"
     ]
    }
   ],
   "source": [
    "# 공백 지우기 (strip, remove spaces)\n",
    "C9 = \" HELLO \"\n",
    "print(C9.lstrip()) #왼쪽 공백 제거\n",
    "print(C9.rstrip()) # 오른쪽 공백 제거\n",
    "print(C9.strip()) #양쪽 공백제거"
   ]
  },
  {
   "cell_type": "code",
   "execution_count": 47,
   "metadata": {},
   "outputs": [
    {
     "name": "stdout",
     "output_type": "stream",
     "text": [
      "maple\n",
      " maple\n",
      "maple \n"
     ]
    }
   ],
   "source": [
    "# my 공백 지우기 (strip, remove spaces)\n",
    "c9 = \" maple \"\n",
    "print(c9.strip())\n",
    "print(c9.rstrip())\n",
    "print(c9.lstrip())"
   ]
  },
  {
   "cell_type": "code",
   "execution_count": 43,
   "metadata": {},
   "outputs": [
    {
     "name": "stdout",
     "output_type": "stream",
     "text": [
      "Korea대학교\n"
     ]
    }
   ],
   "source": [
    "# 문자열 찾아 바꾸기 (replace)\n",
    "C10 = \"한국대학교\"\n",
    "print(C10.replace(\"한국\", \"Korea\"))"
   ]
  },
  {
   "cell_type": "code",
   "execution_count": 49,
   "metadata": {},
   "outputs": [
    {
     "name": "stdout",
     "output_type": "stream",
     "text": [
      "maple story\n"
     ]
    }
   ],
   "source": [
    "# my 문자열 찾아 바꾸기 (replace)\n",
    "c10 = 'maple story2'\n",
    "print(c10.replace('2',''))"
   ]
  },
  {
   "cell_type": "code",
   "execution_count": 44,
   "metadata": {},
   "outputs": [
    {
     "name": "stdout",
     "output_type": "stream",
     "text": [
      "['A', 'B', 'C', 'D']\n"
     ]
    }
   ],
   "source": [
    "# 문자열 나누기 (split)\n",
    "C11 = \"A:B:C:D\"\n",
    "print(C11.split(':')) #':'를 기준으로 문자열 나누기"
   ]
  },
  {
   "cell_type": "code",
   "execution_count": 50,
   "metadata": {},
   "outputs": [
    {
     "name": "stdout",
     "output_type": "stream",
     "text": [
      "['M', 'A', 'P', 'L', 'E']\n"
     ]
    }
   ],
   "source": [
    "# my 문자열 나누기 (split)\n",
    "c11 = 'M:A:P:L:E'\n",
    "print(c11.split(':'))"
   ]
  },
  {
   "cell_type": "markdown",
   "metadata": {},
   "source": [
    "## 목록(List)과 튜플(tuple)"
   ]
  },
  {
   "cell_type": "code",
   "execution_count": 51,
   "metadata": {},
   "outputs": [],
   "source": [
    "L1 = [1, 2, 3, 4]\n",
    "L2 = ['Life', 'is', 'too', 'short']\n",
    "L3 = [1, 2, 'Python']\n",
    "L4 = [1, 2, ['Life', 'Python']]"
   ]
  },
  {
   "cell_type": "code",
   "execution_count": 52,
   "metadata": {},
   "outputs": [
    {
     "name": "stdout",
     "output_type": "stream",
     "text": [
      "1\n",
      "6\n",
      "['Life', 'Python']\n",
      "Life\n"
     ]
    }
   ],
   "source": [
    "# 리스트 슬라이싱 (list slicing)\n",
    "L1 = [1, 2, 3, 4]\n",
    "L4 = [1, 2, ['Life', 'Python']]\n",
    "\n",
    "print(L1[0])#L1의 첫번째 요소 추출\n",
    "print(L1[1]+L1[3]) #L1 두번째 요소(2)+L1의 네번째 요소(4) \n",
    "print(L4[-1]) #L4 끝에서 첫번째 요소 추출\n",
    "print(L4[-1][0]) #L4 끝에서 첫번째 요소(['Life', 'Python']) 중 첫번째 "
   ]
  },
  {
   "cell_type": "code",
   "execution_count": null,
   "metadata": {},
   "outputs": [],
   "source": [
    "# my 리스트 슬라이싱 (list slicing)\n",
    "l1 = [1,2,3,4]\n",
    "l4 = [1,2,['Life', 'Python']]\n",
    "\n",
    "print(l1[0])\n",
    "print(l1[1]+l1[3])\n",
    "print(l3[-1])\n",
    "print(l1[0])"
   ]
  },
  {
   "cell_type": "code",
   "execution_count": 53,
   "metadata": {},
   "outputs": [
    {
     "name": "stdout",
     "output_type": "stream",
     "text": [
      "[1, 2, 3, 4, 4, 5, 6, 7]\n",
      "[1, 2, 3, 4, 1, 2, 3, 4, 1, 2, 3, 4]\n"
     ]
    }
   ],
   "source": [
    "# 리스트 연산자 (더하기, 반복하기)\n",
    "L1 = [1, 2, 3, 4]\n",
    "L5 = [4, 5, 6, 7]\n",
    "print(L1+L5) #L1과 L5 더하기\n",
    "print(L1*3)#L1 3번 반복"
   ]
  },
  {
   "cell_type": "code",
   "execution_count": 54,
   "metadata": {},
   "outputs": [
    {
     "name": "stdout",
     "output_type": "stream",
     "text": [
      "['a', 'b', 'c', 'd', 'e', 'f', 'g']\n"
     ]
    }
   ],
   "source": [
    "# 리스트에 요소 삽입\n",
    "L7 = ['a', 'b', 'c', 'd', 'e', 'f']\n",
    "L7.append('g')\n",
    "print(L7)"
   ]
  },
  {
   "cell_type": "code",
   "execution_count": null,
   "metadata": {},
   "outputs": [],
   "source": []
  },
  {
   "cell_type": "code",
   "execution_count": 55,
   "metadata": {},
   "outputs": [
    {
     "name": "stdout",
     "output_type": "stream",
     "text": [
      "[1, 3, 9, 2, 4, 5, 7, 8, 10, 6]\n"
     ]
    }
   ],
   "source": [
    "# 리스트에 요소 삽입\n",
    "L8 = [1, 3, 2, 4, 5, 7, 8, 10, 6]\n",
    "L8.insert(2, 9)#L8의 세번째 요소 9삽입\n",
    "print(L8)"
   ]
  },
  {
   "cell_type": "code",
   "execution_count": null,
   "metadata": {},
   "outputs": [],
   "source": []
  },
  {
   "cell_type": "code",
   "execution_count": 58,
   "metadata": {},
   "outputs": [
    {
     "name": "stdout",
     "output_type": "stream",
     "text": [
      "[1, 2, 3, 4, 5, 6, 7, 8, 9, 10, 6, 7, 8, 9, 10]\n"
     ]
    }
   ],
   "source": [
    "# 리스트간 합치기\n",
    "L10 = [1, 2, 3, 4, 5]\n",
    "L11 = [6, 7, 8, 9, 10]\n",
    "L10.extend(L11)\n",
    "L10+=L11\n",
    "print(L10)"
   ]
  },
  {
   "cell_type": "code",
   "execution_count": 59,
   "metadata": {},
   "outputs": [
    {
     "name": "stdout",
     "output_type": "stream",
     "text": [
      "[1, 2, 3, 4, 5, 6, 7, 8, 9, 10]\n"
     ]
    }
   ],
   "source": [
    "# 리스트간 합치기\n",
    "L10 = [1, 2, 3, 4, 5]\n",
    "L11 = [6, 7, 8, 9, 10]\n",
    "L10+=L11\n",
    "print(L10)"
   ]
  },
  {
   "cell_type": "code",
   "execution_count": 60,
   "metadata": {},
   "outputs": [
    {
     "name": "stdout",
     "output_type": "stream",
     "text": [
      "[1, 2, 4, 3, 5, 6, 7, 8]\n"
     ]
    }
   ],
   "source": [
    "# 리스트 하나의 값 수정하기\n",
    "L6 = [1, 2, 4, 3, 5, 7, 7, 8]\n",
    "L6[5]=6 #6번째 요소의 값을 6으로 수정\n",
    "print(L6)"
   ]
  },
  {
   "cell_type": "code",
   "execution_count": 61,
   "metadata": {},
   "outputs": [
    {
     "name": "stdout",
     "output_type": "stream",
     "text": [
      "[1, 2, 3, 4, 5, 7, 7, 8]\n"
     ]
    }
   ],
   "source": [
    "# 리스트에 여러 값 수정하기 (범위)\n",
    "L6 = [1, 2, 4, 3, 5, 7, 7, 8]\n",
    "L6[2:4] = [3, 4]#3번째에서 4번째 사이의 요소 값을 3, 4로 수정\n",
    "print(L6)"
   ]
  },
  {
   "cell_type": "code",
   "execution_count": 62,
   "metadata": {},
   "outputs": [
    {
     "name": "stdout",
     "output_type": "stream",
     "text": [
      "[1, 2, 4, 3, 5, 7, 7]\n"
     ]
    }
   ],
   "source": [
    "# 리스트에서 요소 삭제\n",
    "L6 = [1, 2, 4, 3, 5, 7, 7, 8]\n",
    "del L6[7] #8번째 요소 삭제\n",
    "print(L6)"
   ]
  },
  {
   "cell_type": "code",
   "execution_count": 63,
   "metadata": {},
   "outputs": [
    {
     "name": "stdout",
     "output_type": "stream",
     "text": [
      "[1, 2, 4, 3, 5, 7, 7]\n"
     ]
    }
   ],
   "source": [
    "# 리스트에서 요소 삭제\n",
    "L6 = [1, 2, 4, 3, 5, 7, 7, 8]\n",
    "L6.pop(7) #8번째 요소 삭제\n",
    "print(L6)"
   ]
  },
  {
   "cell_type": "code",
   "execution_count": null,
   "metadata": {},
   "outputs": [],
   "source": []
  },
  {
   "cell_type": "code",
   "execution_count": 64,
   "metadata": {},
   "outputs": [
    {
     "name": "stdout",
     "output_type": "stream",
     "text": [
      "2\n",
      "3\n"
     ]
    }
   ],
   "source": [
    "# 리스트에서 요소의 개수 확인\n",
    "L9 = [1, 1, 2, 2, 2, 3, 3, 3, 3, 4, 4, 4, 4, 4]\n",
    "print(L9.count(1)) #L9에서 1이 몇 개인가 계산\n",
    "print(L9.count(2))#L9에서 2가 몇 개인가 계산"
   ]
  },
  {
   "cell_type": "code",
   "execution_count": 65,
   "metadata": {},
   "outputs": [
    {
     "name": "stdout",
     "output_type": "stream",
     "text": [
      "[1, 2, 3, 4, 5, 6, 7, 8, 10]\n",
      "[10, 8, 7, 6, 5, 4, 3, 2, 1]\n"
     ]
    }
   ],
   "source": [
    "# 리스트 정렬\n",
    "L8 = [1, 3, 2, 4, 5, 7, 8, 10, 6]\n",
    "L8.sort() #오름차순으로 정렬\n",
    "print(L8)\n",
    "\n",
    "L8 = [1, 3, 2, 4, 5, 7, 8, 10, 6]\n",
    "L8.sort(reverse=True) #내림차순으로 정렬\n",
    "print(L8)"
   ]
  },
  {
   "cell_type": "code",
   "execution_count": null,
   "metadata": {},
   "outputs": [],
   "source": []
  },
  {
   "cell_type": "code",
   "execution_count": 66,
   "metadata": {},
   "outputs": [
    {
     "name": "stdout",
     "output_type": "stream",
     "text": [
      "[6, 10, 8, 7, 5, 4, 2, 3, 1]\n"
     ]
    }
   ],
   "source": [
    "# 리스트를 역순으로 정렬\n",
    "L8 = [1, 3, 2, 4, 5, 7, 8, 10, 6]\n",
    "L8.reverse()\n",
    "print(L8)"
   ]
  },
  {
   "cell_type": "code",
   "execution_count": null,
   "metadata": {},
   "outputs": [],
   "source": []
  },
  {
   "cell_type": "code",
   "execution_count": 67,
   "metadata": {},
   "outputs": [
    {
     "data": {
      "text/plain": [
       "(6, 10, 8, 7, 5, 4, 2, 3, 1)"
      ]
     },
     "execution_count": 67,
     "metadata": {},
     "output_type": "execute_result"
    }
   ],
   "source": [
    "#리스트를 튜플로 변환\n",
    "L9=tuple(L8)\n",
    "L9"
   ]
  },
  {
   "cell_type": "code",
   "execution_count": 68,
   "metadata": {},
   "outputs": [
    {
     "data": {
      "text/plain": [
       "list"
      ]
     },
     "execution_count": 68,
     "metadata": {},
     "output_type": "execute_result"
    }
   ],
   "source": [
    "type(L8)"
   ]
  },
  {
   "cell_type": "code",
   "execution_count": 69,
   "metadata": {},
   "outputs": [
    {
     "data": {
      "text/plain": [
       "tuple"
      ]
     },
     "execution_count": 69,
     "metadata": {},
     "output_type": "execute_result"
    }
   ],
   "source": [
    "type(L9)"
   ]
  },
  {
   "cell_type": "code",
   "execution_count": 76,
   "metadata": {},
   "outputs": [
    {
     "name": "stdout",
     "output_type": "stream",
     "text": [
      "<class 'tuple'>\n",
      "<class 'tuple'>\n",
      "<class 'list'>\n"
     ]
    }
   ],
   "source": [
    "# 튜플(tuple)\n",
    "T1 = (1, 2, 3, 4, 5)\n",
    "T2 = ('a', 'b', 'c', 'd', 'e')\n",
    "L1 = ['a', 'b', 'c', 'd', 'e']\n",
    "print(type(T1)) #T1의 자료유형 표기\n",
    "print(type(T2))#T2의 자료유형 표기\n",
    "print(type(L1))#L1의 자료유형 표기"
   ]
  },
  {
   "cell_type": "markdown",
   "metadata": {},
   "source": [
    "## 사전 (Dictionary)"
   ]
  },
  {
   "cell_type": "code",
   "execution_count": 70,
   "metadata": {
    "scrolled": true
   },
   "outputs": [
    {
     "name": "stdout",
     "output_type": "stream",
     "text": [
      "KIM\n"
     ]
    }
   ],
   "source": [
    "# 딕셔너리(dictionary)\n",
    "D1 = {'name': 'KIM', 'birth': '2003', 'height': '175'}\n",
    "print(D1['name'])"
   ]
  },
  {
   "cell_type": "code",
   "execution_count": 80,
   "metadata": {},
   "outputs": [
    {
     "name": "stdout",
     "output_type": "stream",
     "text": [
      "KIM\n"
     ]
    }
   ],
   "source": [
    "d1 = {'name':'KIM', 'birth': '1997', 'height':'181'}\n",
    "print(d1['name'])"
   ]
  },
  {
   "cell_type": "code",
   "execution_count": 71,
   "metadata": {},
   "outputs": [
    {
     "name": "stdout",
     "output_type": "stream",
     "text": [
      "{'name': 'KIM', 'birth': '2003', 'height': '175', 'weight': '60'}\n"
     ]
    }
   ],
   "source": [
    "D1['weight']='60'#D1에 key 'weight'와 value'60'추가\n",
    "print(D1)"
   ]
  },
  {
   "cell_type": "code",
   "execution_count": 82,
   "metadata": {},
   "outputs": [
    {
     "name": "stdout",
     "output_type": "stream",
     "text": [
      "{'name': 'KIM', 'birth': '1997', 'height': '181', 'weight': '85'}\n"
     ]
    }
   ],
   "source": [
    "d1['weight'] = '85'\n",
    "print(d1)"
   ]
  },
  {
   "cell_type": "code",
   "execution_count": 72,
   "metadata": {},
   "outputs": [
    {
     "name": "stdout",
     "output_type": "stream",
     "text": [
      "{'name': 'KIM', 'birth': '2003', 'height': '180', 'weight': '60'}\n"
     ]
    }
   ],
   "source": [
    "D1['height']='180'#'height'의 값을 '180'으로 수정\n",
    "print(D1)"
   ]
  },
  {
   "cell_type": "code",
   "execution_count": 83,
   "metadata": {},
   "outputs": [
    {
     "name": "stdout",
     "output_type": "stream",
     "text": [
      "{'name': 'KIM', 'birth': '1997', 'height': '185', 'weight': '85'}\n"
     ]
    }
   ],
   "source": [
    "d1['height'] = '185'\n",
    "print(d1)"
   ]
  },
  {
   "cell_type": "code",
   "execution_count": 73,
   "metadata": {},
   "outputs": [
    {
     "name": "stdout",
     "output_type": "stream",
     "text": [
      "{'birth': '2003', 'height': '180', 'weight': '60'}\n"
     ]
    }
   ],
   "source": [
    "del D1['name'] #D1에서 'name' 삭제\n",
    "print(D1)"
   ]
  },
  {
   "cell_type": "code",
   "execution_count": 85,
   "metadata": {},
   "outputs": [
    {
     "name": "stdout",
     "output_type": "stream",
     "text": [
      "{'birth': '1997', 'height': '185', 'weight': '85'}\n"
     ]
    }
   ],
   "source": [
    "del d1['name']\n",
    "print(d1)"
   ]
  },
  {
   "cell_type": "code",
   "execution_count": 75,
   "metadata": {},
   "outputs": [
    {
     "data": {
      "text/plain": [
       "dict_values(['2003', '180', '60'])"
      ]
     },
     "execution_count": 75,
     "metadata": {},
     "output_type": "execute_result"
    }
   ],
   "source": [
    "D1.keys()\n",
    "D1.values()"
   ]
  },
  {
   "cell_type": "code",
   "execution_count": 76,
   "metadata": {},
   "outputs": [
    {
     "name": "stdout",
     "output_type": "stream",
     "text": [
      "['birth', 'height', 'weight']\n"
     ]
    }
   ],
   "source": [
    "D1key=list(D1.keys()) #D1의 key이름 목록 만들기\n",
    "print(D1key)"
   ]
  },
  {
   "cell_type": "code",
   "execution_count": 86,
   "metadata": {},
   "outputs": [
    {
     "name": "stdout",
     "output_type": "stream",
     "text": [
      "['birth', 'height', 'weight']\n"
     ]
    }
   ],
   "source": [
    "d1key=list(d1.keys()) #D1의 key이름 목록 만들기\n",
    "print(d1key)"
   ]
  },
  {
   "cell_type": "code",
   "execution_count": 77,
   "metadata": {},
   "outputs": [
    {
     "name": "stdout",
     "output_type": "stream",
     "text": [
      "['2003', '180', '60']\n"
     ]
    }
   ],
   "source": [
    "D1value=list(D1.values())#D1의 value값 목록 만들기\n",
    "print(D1value)"
   ]
  },
  {
   "cell_type": "code",
   "execution_count": 87,
   "metadata": {},
   "outputs": [
    {
     "name": "stdout",
     "output_type": "stream",
     "text": [
      "['1997', '185', '85']\n"
     ]
    }
   ],
   "source": [
    "d1val = list(d1.values())\n",
    "print(d1val)"
   ]
  },
  {
   "cell_type": "code",
   "execution_count": 78,
   "metadata": {},
   "outputs": [
    {
     "name": "stdout",
     "output_type": "stream",
     "text": [
      "False\n",
      "True\n"
     ]
    }
   ],
   "source": [
    "# Key 존재 여부 확인\n",
    "print('nember' in D1) #D1에 'number'라는 key가 있는지 여부 확인\n",
    "print('weight' in D1) #D1에 'weight'라는 key가 있는지 여부 확인"
   ]
  },
  {
   "cell_type": "code",
   "execution_count": 88,
   "metadata": {},
   "outputs": [
    {
     "name": "stdout",
     "output_type": "stream",
     "text": [
      "False\n",
      "True\n"
     ]
    }
   ],
   "source": [
    "print('asd' in d1)\n",
    "print('weight' in d1)"
   ]
  },
  {
   "cell_type": "markdown",
   "metadata": {},
   "source": [
    "## 다차원 배열 (ndarray)"
   ]
  },
  {
   "cell_type": "code",
   "execution_count": 89,
   "metadata": {},
   "outputs": [
    {
     "name": "stdout",
     "output_type": "stream",
     "text": [
      "[1 2 3 4]\n"
     ]
    }
   ],
   "source": [
    "# 배열 만들기\n",
    "import numpy as np\n",
    "V1=np.array([1, 2, 3, 4])\n",
    "print(V1)"
   ]
  },
  {
   "cell_type": "code",
   "execution_count": 90,
   "metadata": {},
   "outputs": [
    {
     "name": "stdout",
     "output_type": "stream",
     "text": [
      "[0 1 2 3 4]\n"
     ]
    }
   ],
   "source": [
    "V1 = np.arange(5) #처움(0)부터 5번째 숫자(4)까지의 숫자 배열\n",
    "print(V1)"
   ]
  },
  {
   "cell_type": "code",
   "execution_count": 93,
   "metadata": {},
   "outputs": [
    {
     "name": "stdout",
     "output_type": "stream",
     "text": [
      "[1 3 5 7 9]\n"
     ]
    }
   ],
   "source": [
    "V4 = np.arange(1, 10, 2)\n",
    "print(V4)"
   ]
  },
  {
   "cell_type": "code",
   "execution_count": 94,
   "metadata": {},
   "outputs": [
    {
     "name": "stdout",
     "output_type": "stream",
     "text": [
      "[ 1  9 25 49 81]\n"
     ]
    }
   ],
   "source": [
    "V4 = np.arange(1, 10, 2) ** 2 #1부터10까지 2 간격 수(1, 3, 5, 7, 9)의 제곱\n",
    "print(V4)"
   ]
  },
  {
   "cell_type": "code",
   "execution_count": 95,
   "metadata": {},
   "outputs": [
    {
     "name": "stdout",
     "output_type": "stream",
     "text": [
      "[  1  27 125 343 729]\n"
     ]
    }
   ],
   "source": [
    "V5 = np.arange(1, 10, 2) ** 3 #1부터10까지 2 간격 수(1, 3, 5, 7, 9)의 세제곱\n",
    "print(V5)"
   ]
  },
  {
   "cell_type": "code",
   "execution_count": 96,
   "metadata": {},
   "outputs": [
    {
     "name": "stdout",
     "output_type": "stream",
     "text": [
      "[3 5 7 9]\n"
     ]
    }
   ],
   "source": [
    "# 배열 만들기 (연속되거나 일정한 규칙을 가진 숫자, 데이터 형태 지정)\n",
    "V2 = np.arange(3, 10, 2, dtype=int) #3부터 10사이 2간격의 정수\n",
    "print(V2)"
   ]
  },
  {
   "cell_type": "code",
   "execution_count": 97,
   "metadata": {},
   "outputs": [
    {
     "name": "stdout",
     "output_type": "stream",
     "text": [
      "[3.5 5.5 7.5 9.5]\n"
     ]
    }
   ],
   "source": [
    "# 배열 만들기 (연속되거나 일정한 규칙을 가진 숫자, 데이터 형태 지정)\n",
    "V3 = np.arange(3.5, 10.5, 2, dtype=float) # 3.5부터 10.5사이 2간격의 실수\n",
    "print(V3)"
   ]
  },
  {
   "cell_type": "code",
   "execution_count": 98,
   "metadata": {},
   "outputs": [
    {
     "name": "stdout",
     "output_type": "stream",
     "text": [
      "[  2  36 150 392 810]\n"
     ]
    }
   ],
   "source": [
    "# 배열 합치기\n",
    "V6 = V4+V5\n",
    "print(V6)"
   ]
  },
  {
   "cell_type": "code",
   "execution_count": 99,
   "metadata": {
    "scrolled": true
   },
   "outputs": [
    {
     "name": "stdout",
     "output_type": "stream",
     "text": [
      "[ 0  1  2  3  4  5  6  7  8  9 10 11]\n",
      "[[ 0  1  2  3  4  5]\n",
      " [ 6  7  8  9 10 11]]\n",
      "[[ 0  2  4  6  8 10]\n",
      " [ 1  3  5  7  9 11]]\n"
     ]
    }
   ],
   "source": [
    "# 행렬 만들기\n",
    "V1=np.arange(12)#0부터 12번째\n",
    "print(V1)\n",
    "V2=V1.reshape(2, 6)#V1 2행 6열, 행부터 채워넣음\n",
    "print(V2)\n",
    "V3=V1.reshape(2, 6, order='F') #2행 6열, 열부터 채워넣음\n",
    "print(V3)"
   ]
  },
  {
   "cell_type": "code",
   "execution_count": 100,
   "metadata": {},
   "outputs": [
    {
     "data": {
      "text/plain": [
       "array([[ 0,  1,  2,  3,  4,  5],\n",
       "       [ 6,  7,  8,  9, 10, 11]])"
      ]
     },
     "execution_count": 100,
     "metadata": {},
     "output_type": "execute_result"
    }
   ],
   "source": [
    "# -1의 의미는 알아서 맞춰달라는 이야기다.\n",
    "V1.reshape(-1,6)"
   ]
  },
  {
   "cell_type": "code",
   "execution_count": 101,
   "metadata": {},
   "outputs": [
    {
     "name": "stdout",
     "output_type": "stream",
     "text": [
      "[[1 2]\n",
      " [3 4]]\n"
     ]
    }
   ],
   "source": [
    "# 행렬의 곱\n",
    "V1=np.arange(1,5).reshape(2,2) #1부터 4번째 2행2열, 행부터 채움\n",
    "print(V1)"
   ]
  },
  {
   "cell_type": "code",
   "execution_count": 102,
   "metadata": {},
   "outputs": [
    {
     "name": "stdout",
     "output_type": "stream",
     "text": [
      "[[ 1  4]\n",
      " [ 9 16]]\n"
     ]
    }
   ],
   "source": [
    "# 요소끼리 곱해진다.\n",
    "print(V1*V1)#V1과 V1의 요소끼리 단순하게 곱한다"
   ]
  },
  {
   "cell_type": "code",
   "execution_count": 103,
   "metadata": {},
   "outputs": [
    {
     "name": "stdout",
     "output_type": "stream",
     "text": [
      "[[ 7 10]\n",
      " [15 22]]\n"
     ]
    }
   ],
   "source": [
    "print(np.dot(V1, V1)) #V1과 V1의 행렬의 곱셈방식을 적용하여 계산"
   ]
  },
  {
   "cell_type": "code",
   "execution_count": 104,
   "metadata": {},
   "outputs": [
    {
     "name": "stdout",
     "output_type": "stream",
     "text": [
      "[3.5 5.5 7.5 9.5]\n",
      "[[1 2]\n",
      " [3 4]]\n",
      "9.5\n",
      "1\n",
      "float64\n",
      "(2, 2)\n"
     ]
    }
   ],
   "source": [
    "V3 = np.arange(3.5, 10.5, 2, dtype=float)\n",
    "print(V3)\n",
    "V6 = np.arange(1,5).reshape(2,2)\n",
    "print(V6)\n",
    "print(np.amax(V3)) # 최대값 반환\n",
    "print(np.amin(V6)) # 최소값 반환\n",
    "print(V3.dtype) # V3의 데이터 타입\n",
    "print(V6.shape) # V6의 행, 열, 차원 확인"
   ]
  },
  {
   "cell_type": "code",
   "execution_count": 105,
   "metadata": {},
   "outputs": [
    {
     "name": "stdout",
     "output_type": "stream",
     "text": [
      "[[1 2]\n",
      " [3 4]]\n",
      "[[ 7 10]\n",
      " [15 22]]\n"
     ]
    }
   ],
   "source": [
    "# np.matrix에서 행렬 만드는 법\n",
    "M1=np.matrix([[1, 2], [3, 4]])\n",
    "print(M1)\n",
    "\n",
    "# np.matrix에서 만든 행렬의 곱\n",
    "print(M1*M1)"
   ]
  },
  {
   "cell_type": "markdown",
   "metadata": {},
   "source": [
    "## 조건문 (if)"
   ]
  },
  {
   "cell_type": "code",
   "execution_count": 106,
   "metadata": {},
   "outputs": [
    {
     "name": "stdout",
     "output_type": "stream",
     "text": [
      "짜장면\n"
     ]
    }
   ],
   "source": [
    "금액 = 5000\n",
    "if 금액==5000:\n",
    "    print(\"짜장면\")"
   ]
  },
  {
   "cell_type": "code",
   "execution_count": 107,
   "metadata": {},
   "outputs": [
    {
     "name": "stdout",
     "output_type": "stream",
     "text": [
      "짬뽕\n"
     ]
    }
   ],
   "source": [
    "금액 = 6000\n",
    "if 금액 == 5000:\n",
    "    print(\"짜장면\")\n",
    "if 10000 > 금액 > 5000:\n",
    "    print(\"짬뽕\")"
   ]
  },
  {
   "cell_type": "code",
   "execution_count": 108,
   "metadata": {},
   "outputs": [
    {
     "name": "stdout",
     "output_type": "stream",
     "text": [
      "짬뽕\n"
     ]
    }
   ],
   "source": [
    "금액 = 6000\n",
    "if 금액 == 5000:\n",
    "    print(\"짜장면\")\n",
    "elif 10000 > 금액 > 5000:\n",
    "    print(\"짬뽕\")"
   ]
  },
  {
   "cell_type": "code",
   "execution_count": 109,
   "metadata": {},
   "outputs": [
    {
     "name": "stdout",
     "output_type": "stream",
     "text": [
      "죄송해요\n"
     ]
    }
   ],
   "source": [
    "금액 = 4000\n",
    "if 금액 == 5000:\n",
    "    print(\"짜장면\")\n",
    "elif 10000 > 금액 > 5000:\n",
    "    print(\"짬뽕\")\n",
    "else:\n",
    "    print (\"죄송해요\")"
   ]
  },
  {
   "cell_type": "code",
   "execution_count": 110,
   "metadata": {},
   "outputs": [
    {
     "name": "stdout",
     "output_type": "stream",
     "text": [
      "sorry\n"
     ]
    }
   ],
   "source": [
    "금액 = 4000\n",
    "if 금액 == 5000:\n",
    "    print('짜장면')\n",
    "elif 10000 > 금액> 5000:\n",
    "    print('짬뽕')\n",
    "else:\n",
    "    print(\"sorry\")"
   ]
  },
  {
   "cell_type": "code",
   "execution_count": 111,
   "metadata": {},
   "outputs": [
    {
     "name": "stdout",
     "output_type": "stream",
     "text": [
      "짜장면이요.\n",
      "짬뽕드세요.\n"
     ]
    }
   ],
   "source": [
    "음식메뉴 = ['짜장면', '짬뽕']\n",
    "if '짜장면' in 음식메뉴:\n",
    "    print(\"짜장면이요.\")\n",
    "if '짬뽕' in 음식메뉴:\n",
    "    print(\"짬뽕드세요.\")\n",
    "else:\n",
    "    print(\"오늘 굶으세요\")"
   ]
  },
  {
   "cell_type": "code",
   "execution_count": 112,
   "metadata": {},
   "outputs": [
    {
     "name": "stdout",
     "output_type": "stream",
     "text": [
      "짜장면이요.\n"
     ]
    }
   ],
   "source": [
    "음식메뉴 = ['짜장면', '짬뽕']\n",
    "if '짜장면' in 음식메뉴:\n",
    "    print(\"짜장면이요.\")\n",
    "elif '짬뽕' in 음식메뉴:\n",
    "    print(\"짬뽕드세요.\")\n",
    "else:\n",
    "    print(\"오늘 굶으세요\")"
   ]
  },
  {
   "cell_type": "code",
   "execution_count": 113,
   "metadata": {},
   "outputs": [
    {
     "name": "stdout",
     "output_type": "stream",
     "text": [
      "짜장면이요\n"
     ]
    }
   ],
   "source": [
    "메뉴 = ['짜장면', '짬뽕']\n",
    "\n",
    "if '짜장면' in 메뉴:\n",
    "    print(\"짜장면이요\")\n",
    "elif '짬뽕' in 메뉴:\n",
    "    print('짬뽕드세요')\n",
    "else:\n",
    "    print('오늘 굶으세요')"
   ]
  },
  {
   "cell_type": "code",
   "execution_count": 114,
   "metadata": {},
   "outputs": [
    {
     "name": "stdout",
     "output_type": "stream",
     "text": [
      "짬뽕드세요.\n"
     ]
    }
   ],
   "source": [
    "음식메뉴 = ['짬뽕']\n",
    "if '짜장면' in 음식메뉴:\n",
    "    print(\"짜장면이요.\")\n",
    "elif '짬뽕' in 음식메뉴:\n",
    "    print(\"짬뽕드세요.\")\n",
    "else:\n",
    "    print(\"오늘 굶으세요\")"
   ]
  },
  {
   "cell_type": "code",
   "execution_count": 115,
   "metadata": {},
   "outputs": [
    {
     "name": "stdout",
     "output_type": "stream",
     "text": [
      "오늘 굶으세요\n"
     ]
    }
   ],
   "source": [
    "음식메뉴 = []\n",
    "if '짜장면' in 음식메뉴:\n",
    "    print(\"짜장면이요.\")\n",
    "elif '짬뽕' in 음식메뉴:\n",
    "    print(\"짬뽕드세요.\")\n",
    "else:\n",
    "    print(\"오늘 굶으세요\")"
   ]
  },
  {
   "cell_type": "code",
   "execution_count": 116,
   "metadata": {},
   "outputs": [
    {
     "name": "stdout",
     "output_type": "stream",
     "text": [
      "오늘 굶으세요\n"
     ]
    }
   ],
   "source": [
    "음식메뉴 = ['군만두']\n",
    "if '짜장면' in 음식메뉴:\n",
    "    print(\"짜장면이요.\")\n",
    "elif '짬뽕' in 음식메뉴:\n",
    "    print(\"짬뽕드세요.\")\n",
    "else:\n",
    "    print(\"오늘 굶으세요\")"
   ]
  },
  {
   "cell_type": "code",
   "execution_count": 117,
   "metadata": {},
   "outputs": [
    {
     "name": "stdout",
     "output_type": "stream",
     "text": [
      "짜장면\n",
      "짬뽕\n",
      "군만두\n"
     ]
    }
   ],
   "source": [
    "음식메뉴 = ['짜장면', '짬뽕','군만두']\n",
    "if '짜장면' in 음식메뉴:\n",
    "    print(\"짜장면\")\n",
    "if '짬뽕' in 음식메뉴:\n",
    "    print(\"짬뽕\")\n",
    "if '군만두' in 음식메뉴:\n",
    "    print(\"군만두\")"
   ]
  },
  {
   "cell_type": "code",
   "execution_count": 118,
   "metadata": {},
   "outputs": [
    {
     "name": "stdout",
     "output_type": "stream",
     "text": [
      "짜장면\n",
      "짬뽕\n",
      "군만두\n"
     ]
    }
   ],
   "source": [
    "음식메뉴 = ['짜장면', '짬뽕','군만두']\n",
    "for i in 음식메뉴:\n",
    "    print(i)"
   ]
  },
  {
   "cell_type": "code",
   "execution_count": 119,
   "metadata": {},
   "outputs": [
    {
     "name": "stdout",
     "output_type": "stream",
     "text": [
      "짜장면\n",
      "짬뽕\n",
      "군만두\n"
     ]
    }
   ],
   "source": [
    "for i in ['짜장면', '짬뽕','군만두']:\n",
    "    print(i)"
   ]
  },
  {
   "cell_type": "code",
   "execution_count": 120,
   "metadata": {},
   "outputs": [
    {
     "name": "stdout",
     "output_type": "stream",
     "text": [
      "짬뽕\n",
      "군만두\n",
      "탕수육\n",
      "팔보채\n"
     ]
    }
   ],
   "source": [
    "중국음식=['짜장면','짬뽕','군만두','탕수육','팔보채']\n",
    "for 메뉴 in 중국음식:\n",
    "    if \"짜장면\" in 메뉴:\n",
    "        continue       # 짜장면 건너뛰고 차례로 출력\n",
    "    print(메뉴)"
   ]
  },
  {
   "cell_type": "code",
   "execution_count": 121,
   "metadata": {},
   "outputs": [
    {
     "name": "stdout",
     "output_type": "stream",
     "text": [
      "짬뽕\n",
      "군만두\n",
      "탕수육\n",
      "팔보채\n"
     ]
    }
   ],
   "source": [
    "중국음식 = ['짜장면','짬뽕','군만두','탕수육','팔보채']\n",
    "for menu in 중국음식:\n",
    "    if \"짜장면\" in menu:\n",
    "        continue\n",
    "    print(menu)"
   ]
  },
  {
   "cell_type": "code",
   "execution_count": 122,
   "metadata": {},
   "outputs": [
    {
     "name": "stdout",
     "output_type": "stream",
     "text": [
      "짜장면\n",
      "짬뽕\n",
      "군만두\n",
      "탕수육\n",
      "팔보채\n"
     ]
    }
   ],
   "source": [
    "중국음식=['짜장면','짬뽕','군만두','탕수육','팔보채']\n",
    "for 메뉴 in 중국음식:\n",
    "    if \"짜장면\" in 메뉴:\n",
    "        pass       # 짜장면부터 차례로 출력\n",
    "    print(메뉴)"
   ]
  },
  {
   "cell_type": "code",
   "execution_count": 123,
   "metadata": {},
   "outputs": [
    {
     "name": "stdout",
     "output_type": "stream",
     "text": [
      "0\n",
      "1\n",
      "2\n",
      "3\n",
      "4\n",
      "5\n",
      "6\n",
      "7\n",
      "8\n",
      "9\n"
     ]
    }
   ],
   "source": [
    "for i in range(10):\n",
    "    print(i)"
   ]
  },
  {
   "cell_type": "code",
   "execution_count": 124,
   "metadata": {},
   "outputs": [
    {
     "name": "stdout",
     "output_type": "stream",
     "text": [
      "0 1 2 3 4 5 6 7 8 9 10 11 12 13 14 15 16 17 18 19 "
     ]
    }
   ],
   "source": [
    "for i in range(20):\n",
    "    print(i, end=\" \")"
   ]
  },
  {
   "cell_type": "code",
   "execution_count": 127,
   "metadata": {},
   "outputs": [
    {
     "name": "stdout",
     "output_type": "stream",
     "text": [
      "0 1 2 3 4 5 6 7 8 9 10 11 12 13 14 15 16 17 18 19 "
     ]
    }
   ],
   "source": [
    "for i in range(20):\n",
    "    print(i, end =' ')"
   ]
  },
  {
   "cell_type": "code",
   "execution_count": 128,
   "metadata": {},
   "outputs": [
    {
     "name": "stdout",
     "output_type": "stream",
     "text": [
      "10 11 12 13 14 15 16 17 18 19 "
     ]
    }
   ],
   "source": [
    "for i in range(10,20):\n",
    "    print(i, end=\" \")"
   ]
  },
  {
   "cell_type": "code",
   "execution_count": 129,
   "metadata": {},
   "outputs": [
    {
     "name": "stdout",
     "output_type": "stream",
     "text": [
      "10 12 14 16 18 "
     ]
    }
   ],
   "source": [
    "for i in range(10,20,2):\n",
    "    print(i, end=\" \")"
   ]
  },
  {
   "cell_type": "code",
   "execution_count": 130,
   "metadata": {},
   "outputs": [
    {
     "name": "stdout",
     "output_type": "stream",
     "text": [
      "30 36 42 48 54 "
     ]
    }
   ],
   "source": [
    "for i in range(10,20,2):\n",
    "    print(i*3, end=\" \")"
   ]
  },
  {
   "cell_type": "code",
   "execution_count": 131,
   "metadata": {},
   "outputs": [
    {
     "name": "stdout",
     "output_type": "stream",
     "text": [
      "3 4 5 6 \n",
      "4 5 6 7 \n",
      "5 6 7 8 \n",
      "6 7 8 9 \n"
     ]
    }
   ],
   "source": [
    "for i in range(2, 6):\n",
    "    for j in range(1, 5):\n",
    "        print(i+j, end=\" \")\n",
    "    print(\"\")"
   ]
  },
  {
   "cell_type": "code",
   "execution_count": 136,
   "metadata": {},
   "outputs": [
    {
     "name": "stdout",
     "output_type": "stream",
     "text": [
      "3 4 5 6 \n",
      "4 5 6 7 \n",
      "5 6 7 8 \n",
      "6 7 8 9 \n"
     ]
    }
   ],
   "source": [
    "for i in range(2,6):\n",
    "    for j in range(1,5):\n",
    "        print(i+j, end=' ')\n",
    "    print('')"
   ]
  },
  {
   "cell_type": "code",
   "execution_count": 137,
   "metadata": {},
   "outputs": [
    {
     "name": "stdout",
     "output_type": "stream",
     "text": [
      "2+1=3 2+2=4 2+3=5 2+4=6 \n",
      "\n",
      "3+1=4 3+2=5 3+3=6 3+4=7 \n",
      "\n",
      "4+1=5 4+2=6 4+3=7 4+4=8 \n",
      "\n",
      "5+1=6 5+2=7 5+3=8 5+4=9 \n",
      "\n"
     ]
    }
   ],
   "source": [
    "for i in range(2, 6):\n",
    "    for j in range(1, 5):\n",
    "        print(\"{}+{}={}\". format(i,j,i+j), end=\" \")\n",
    "    print(\"\\n\")"
   ]
  },
  {
   "cell_type": "code",
   "execution_count": 138,
   "metadata": {},
   "outputs": [
    {
     "name": "stdout",
     "output_type": "stream",
     "text": [
      "2+1=2 2+2=4 2+3=6 2+4=8 \n",
      "\n",
      "3+1=3 3+2=6 3+3=9 3+4=12 \n",
      "\n",
      "4+1=4 4+2=8 4+3=12 4+4=16 \n",
      "\n",
      "5+1=5 5+2=10 5+3=15 5+4=20 \n",
      "\n"
     ]
    }
   ],
   "source": [
    "for i in range(2, 6):\n",
    "    for j in range(1, 5):\n",
    "        print(\"{}+{}={}\". format(i,j,i*j), end=\" \")\n",
    "    print(\"\\n\")"
   ]
  },
  {
   "cell_type": "code",
   "execution_count": null,
   "metadata": {},
   "outputs": [],
   "source": []
  }
 ],
 "metadata": {
  "kernelspec": {
   "display_name": "Python 3 (ipykernel)",
   "language": "python",
   "name": "python3"
  },
  "language_info": {
   "codemirror_mode": {
    "name": "ipython",
    "version": 3
   },
   "file_extension": ".py",
   "mimetype": "text/x-python",
   "name": "python",
   "nbconvert_exporter": "python",
   "pygments_lexer": "ipython3",
   "version": "3.8.12"
  }
 },
 "nbformat": 4,
 "nbformat_minor": 2
}
