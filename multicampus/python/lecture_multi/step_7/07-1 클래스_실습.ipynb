{
 "cells": [
  {
   "cell_type": "markdown",
   "id": "9c9b9802",
   "metadata": {},
   "source": [
    "# 자동차 클래스와 객체\n",
    "* 3가지 속성과 3가지 기능이 있는 자동차 객체를 찍어내기 위한 틀을 만든다.\n",
    "* 속성 : brand, model, color     \n",
    "* 기능 : turn_on, turn_off, drive"
   ]
  },
  {
   "cell_type": "markdown",
   "id": "be6ddb48",
   "metadata": {},
   "source": [
    "## 자동차클래스 만들기"
   ]
  },
  {
   "cell_type": "code",
   "execution_count": null,
   "id": "458ba65c",
   "metadata": {},
   "outputs": [],
   "source": []
  },
  {
   "cell_type": "markdown",
   "id": "72d2f724",
   "metadata": {},
   "source": [
    "## 객체 생성하기\n",
    "* 객체명 = 클래스명(매개변수1,매개변수2,...)"
   ]
  },
  {
   "cell_type": "code",
   "execution_count": null,
   "id": "5ea7c98d",
   "metadata": {},
   "outputs": [],
   "source": []
  },
  {
   "cell_type": "markdown",
   "id": "df6a6b9a",
   "metadata": {},
   "source": [
    "## 메소드 호출하기\n",
    "* 객체명.메소드명(매개변수1,매개변수2,...)"
   ]
  },
  {
   "cell_type": "code",
   "execution_count": null,
   "id": "5e6e1943",
   "metadata": {},
   "outputs": [],
   "source": []
  },
  {
   "cell_type": "markdown",
   "id": "5e5523ec",
   "metadata": {},
   "source": [
    "# 객체의 메소드 목록 조회\n",
    "* dir(객체)"
   ]
  },
  {
   "cell_type": "code",
   "execution_count": null,
   "id": "f844e27e",
   "metadata": {},
   "outputs": [],
   "source": []
  },
  {
   "cell_type": "markdown",
   "id": "ddfe1c17",
   "metadata": {},
   "source": [
    "# 함수, 메소드 사용법\n",
    "* help(함수명)"
   ]
  },
  {
   "cell_type": "code",
   "execution_count": null,
   "id": "6e61638a",
   "metadata": {},
   "outputs": [],
   "source": []
  },
  {
   "cell_type": "code",
   "execution_count": null,
   "id": "b84972f2",
   "metadata": {
    "scrolled": true
   },
   "outputs": [],
   "source": []
  }
 ],
 "metadata": {
  "kernelspec": {
   "display_name": "Python 3",
   "language": "python",
   "name": "python3"
  },
  "language_info": {
   "codemirror_mode": {
    "name": "ipython",
    "version": 3
   },
   "file_extension": ".py",
   "mimetype": "text/x-python",
   "name": "python",
   "nbconvert_exporter": "python",
   "pygments_lexer": "ipython3",
   "version": "3.8.8"
  },
  "toc": {
   "base_numbering": 1,
   "nav_menu": {},
   "number_sections": true,
   "sideBar": true,
   "skip_h1_title": false,
   "title_cell": "Table of Contents",
   "title_sidebar": "Contents",
   "toc_cell": false,
   "toc_position": {
    "height": "calc(100% - 180px)",
    "left": "10px",
    "top": "150px",
    "width": "245.76px"
   },
   "toc_section_display": true,
   "toc_window_display": true
  }
 },
 "nbformat": 4,
 "nbformat_minor": 5
}
