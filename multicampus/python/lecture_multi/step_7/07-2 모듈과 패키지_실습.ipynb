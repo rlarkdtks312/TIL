{
 "cells": [
  {
   "cell_type": "markdown",
   "id": "a41b5569",
   "metadata": {},
   "source": [
    "# 모듈 사용하기\n",
    "* import 모듈명\n",
    "* 모듈명.함수명( )"
   ]
  },
  {
   "cell_type": "code",
   "execution_count": null,
   "id": "b75a290c",
   "metadata": {},
   "outputs": [],
   "source": []
  },
  {
   "cell_type": "markdown",
   "id": "fb0481b8",
   "metadata": {},
   "source": [
    "# 모듈 별칭 사용하기\n",
    "* import 모듈명 as 별칭\n",
    "* 별칭.함수명()"
   ]
  },
  {
   "cell_type": "code",
   "execution_count": null,
   "id": "44ad1724",
   "metadata": {},
   "outputs": [],
   "source": []
  },
  {
   "cell_type": "markdown",
   "id": "99bb6ea0",
   "metadata": {},
   "source": [
    "# 모듈 이름 붙이지 않고 함수 사용하기\n",
    "* from 모듈명 import 함수명1, 함수명2,..."
   ]
  },
  {
   "cell_type": "code",
   "execution_count": null,
   "id": "64e88c75",
   "metadata": {
    "scrolled": true
   },
   "outputs": [],
   "source": []
  },
  {
   "cell_type": "code",
   "execution_count": null,
   "id": "845e1c80",
   "metadata": {},
   "outputs": [],
   "source": []
  }
 ],
 "metadata": {
  "kernelspec": {
   "display_name": "Python 3",
   "language": "python",
   "name": "python3"
  },
  "language_info": {
   "codemirror_mode": {
    "name": "ipython",
    "version": 3
   },
   "file_extension": ".py",
   "mimetype": "text/x-python",
   "name": "python",
   "nbconvert_exporter": "python",
   "pygments_lexer": "ipython3",
   "version": "3.8.8"
  },
  "toc": {
   "base_numbering": 1,
   "nav_menu": {},
   "number_sections": true,
   "sideBar": true,
   "skip_h1_title": false,
   "title_cell": "Table of Contents",
   "title_sidebar": "Contents",
   "toc_cell": false,
   "toc_position": {},
   "toc_section_display": true,
   "toc_window_display": true
  }
 },
 "nbformat": 4,
 "nbformat_minor": 5
}
