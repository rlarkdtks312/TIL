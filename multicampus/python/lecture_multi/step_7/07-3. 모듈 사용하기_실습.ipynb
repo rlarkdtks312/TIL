{
 "cells": [
  {
   "cell_type": "markdown",
   "id": "7f6193e9",
   "metadata": {},
   "source": [
    "# 파이썬 내장 모듈"
   ]
  },
  {
   "cell_type": "markdown",
   "id": "ab386472",
   "metadata": {},
   "source": [
    "## math\n",
    "* 수학적 연산과 관련된 함수들을 모아놓은 모듈\n",
    "* ceil : 올림하여 정수로 만들기\n",
    "* floor : 내림하여 정수로 만들기\n",
    "* sqrt : 제곱근\n",
    "* factorial : 팩토리얼\n",
    "* pi : 원주율"
   ]
  },
  {
   "cell_type": "code",
   "execution_count": null,
   "id": "66779992",
   "metadata": {},
   "outputs": [],
   "source": []
  },
  {
   "cell_type": "markdown",
   "id": "76854182",
   "metadata": {},
   "source": [
    "## random\n",
    "* 임의의 수를 발생시키거나 리스트의 요소 중 임의의 수를 선택하는 데 사용되는 모듈"
   ]
  },
  {
   "cell_type": "code",
   "execution_count": null,
   "id": "4e2356c6",
   "metadata": {},
   "outputs": [],
   "source": [
    "import random"
   ]
  },
  {
   "cell_type": "markdown",
   "id": "142a7424",
   "metadata": {},
   "source": [
    "### 랜덤 정수 구하기\n",
    "* random.randint(시작값, 끝값) : 시작값~끝값 사이의 랜덤 정수 구하기 (끝값 포함)\n",
    "* random.randrange(시작값, 끝값) : 시작값~끝값 사이의 랜덤 정수 구하기 (끝값 미포함)\n",
    "* random.randrange(끝값) : 0~끝값 사이의 랜덤 정수 구하기 (끝값 미포함)"
   ]
  },
  {
   "cell_type": "code",
   "execution_count": null,
   "id": "8ad4356c",
   "metadata": {
    "scrolled": true
   },
   "outputs": [],
   "source": [
    "# 1~10 사이의 랜덤 정수 구하기(10포함)\n",
    "\n",
    "# 1~9 사이의 랜덤 정수 구하기\n",
    "    \n",
    "# 0~9 사이의 랜덤 정수 구하기"
   ]
  },
  {
   "cell_type": "markdown",
   "id": "b037bb72",
   "metadata": {},
   "source": [
    "### 랜덤 실수 구하기\n",
    "* random.random() : 0~1 사이의 랜덤 실수 구하기\n",
    "* random.uniform(시작값,끝값) : 시작값 ~ 끝값 사이의 랜덤 실수 반환(끝값 미포함)"
   ]
  },
  {
   "cell_type": "code",
   "execution_count": null,
   "id": "99d806a5",
   "metadata": {},
   "outputs": [],
   "source": [
    "# 0~1 사이의 랜덤 실수 구하기\n",
    "\n",
    "# 1~10 사이의 랜덤 실수 구하기"
   ]
  },
  {
   "cell_type": "markdown",
   "id": "a747c4e9",
   "metadata": {},
   "source": [
    "### 시퀀스 데이터에서 무작위 요소 추출\n",
    "* random.choice(시퀀스)"
   ]
  },
  {
   "cell_type": "code",
   "execution_count": null,
   "id": "50f0f056",
   "metadata": {},
   "outputs": [],
   "source": []
  },
  {
   "cell_type": "markdown",
   "id": "38778213",
   "metadata": {},
   "source": [
    "### 시퀀스 데이터에서 무작위로 n개 요소 추출\n",
    "* random.sample(시퀀스,n)"
   ]
  },
  {
   "cell_type": "code",
   "execution_count": null,
   "id": "9b950ce4",
   "metadata": {},
   "outputs": [],
   "source": []
  },
  {
   "cell_type": "markdown",
   "id": "b33baa0a",
   "metadata": {},
   "source": [
    "### 시퀀스 데이터를 무작위로 랜덤하게 섞기\n",
    "* random.shuffle(시퀀스) : 원본을 섞는다. 리턴값이 없다."
   ]
  },
  {
   "cell_type": "code",
   "execution_count": null,
   "id": "1ddd4e4b",
   "metadata": {},
   "outputs": [],
   "source": []
  },
  {
   "cell_type": "markdown",
   "id": "4eefda33",
   "metadata": {},
   "source": [
    "## datetime\n",
    "* 날짜, 시간과 관련된 모듈.\n",
    "* 날짜 형식을 만들 때 주로 사용된다."
   ]
  },
  {
   "cell_type": "code",
   "execution_count": null,
   "id": "a8174170",
   "metadata": {
    "scrolled": true
   },
   "outputs": [],
   "source": [
    "import datetime"
   ]
  },
  {
   "cell_type": "markdown",
   "id": "9eb99155",
   "metadata": {},
   "source": [
    "### 현재 날짜와 시각 가져오기\n",
    "* datetime.datetime.now()"
   ]
  },
  {
   "cell_type": "code",
   "execution_count": null,
   "id": "4d81c876",
   "metadata": {},
   "outputs": [],
   "source": []
  },
  {
   "cell_type": "markdown",
   "id": "0a9057e5",
   "metadata": {},
   "source": [
    "### 현재 날짜와 시각 출력하기"
   ]
  },
  {
   "cell_type": "code",
   "execution_count": null,
   "id": "8d7cba27",
   "metadata": {},
   "outputs": [],
   "source": []
  },
  {
   "cell_type": "markdown",
   "id": "a3ca5ecd",
   "metadata": {},
   "source": [
    "### 시간을 포멧에 맞게 출력하기\n",
    "* datetime.datetime.now().strftime(포멧)"
   ]
  },
  {
   "cell_type": "code",
   "execution_count": null,
   "id": "d84f2de2",
   "metadata": {},
   "outputs": [],
   "source": []
  },
  {
   "cell_type": "markdown",
   "id": "43bef0e3",
   "metadata": {},
   "source": [
    "### 특정 시간 이후의 날짜와 시간 구하기\n",
    "* datetime.datetime.now()+datetime.timedelta(더할시간) : 특정 일, 시간, 분, 초 이후의 날짜와 시간 구하기\n",
    "* timedelta에는 year로 계산하는 기능은 없음"
   ]
  },
  {
   "cell_type": "code",
   "execution_count": null,
   "id": "8714248e",
   "metadata": {},
   "outputs": [],
   "source": []
  },
  {
   "cell_type": "code",
   "execution_count": null,
   "id": "e9a48af8",
   "metadata": {},
   "outputs": [],
   "source": [
    "# 현재로부터 100일 이후의 날짜와 시간 구하기"
   ]
  },
  {
   "cell_type": "code",
   "execution_count": null,
   "id": "93ca7767",
   "metadata": {
    "scrolled": true
   },
   "outputs": [],
   "source": [
    "# 현재로부터 100일 전의 날짜와 시간 구하기"
   ]
  },
  {
   "cell_type": "markdown",
   "id": "e3273e47",
   "metadata": {},
   "source": [
    "## time\n",
    "* 시간 데이터를 다루기 위한 모듈"
   ]
  },
  {
   "cell_type": "code",
   "execution_count": null,
   "id": "ac39aa54",
   "metadata": {},
   "outputs": [],
   "source": [
    "import time"
   ]
  },
  {
   "cell_type": "markdown",
   "id": "dffd2dfb",
   "metadata": {},
   "source": [
    "### 현재 날짜와 시간 가져오기\n",
    "* time.localtime()\n",
    "* time.ctime()"
   ]
  },
  {
   "cell_type": "code",
   "execution_count": null,
   "id": "354617ef",
   "metadata": {
    "scrolled": true
   },
   "outputs": [],
   "source": []
  },
  {
   "cell_type": "code",
   "execution_count": null,
   "id": "57a6925a",
   "metadata": {},
   "outputs": [],
   "source": []
  },
  {
   "cell_type": "code",
   "execution_count": null,
   "id": "d76f46ec",
   "metadata": {
    "scrolled": true
   },
   "outputs": [],
   "source": []
  },
  {
   "cell_type": "markdown",
   "id": "cd14e80f",
   "metadata": {},
   "source": [
    "### 일시정지\n",
    "* time.sleep(초)"
   ]
  },
  {
   "cell_type": "code",
   "execution_count": null,
   "id": "db8d7f4a",
   "metadata": {},
   "outputs": [],
   "source": [
    "# 카운트다운"
   ]
  },
  {
   "cell_type": "markdown",
   "id": "0bc71fa5",
   "metadata": {},
   "source": [
    "# 모듈 살펴보기"
   ]
  },
  {
   "cell_type": "markdown",
   "id": "1ae5ac6e",
   "metadata": {},
   "source": [
    "## 모듈 내 함수 확인\n",
    "* dir(모듈명)"
   ]
  },
  {
   "cell_type": "code",
   "execution_count": null,
   "id": "7a35e767",
   "metadata": {},
   "outputs": [],
   "source": [
    "# 파이썬 내장함수 확인\n",
    "dir(__builtins__)"
   ]
  },
  {
   "cell_type": "code",
   "execution_count": null,
   "id": "b0ea86e6",
   "metadata": {
    "scrolled": false
   },
   "outputs": [],
   "source": [
    "dir(datetime)"
   ]
  },
  {
   "cell_type": "markdown",
   "id": "b7bb6d41",
   "metadata": {},
   "source": [
    "## 모듈 내 함수 사용법 확인\n",
    "* import 모듈명    \n",
    "help(모듈명.함수명)"
   ]
  },
  {
   "cell_type": "code",
   "execution_count": null,
   "id": "58c95bed",
   "metadata": {
    "scrolled": true
   },
   "outputs": [],
   "source": [
    "import random\n",
    "help(random.randint)"
   ]
  },
  {
   "cell_type": "markdown",
   "id": "65c3dfc0",
   "metadata": {},
   "source": [
    "# 외부모듈"
   ]
  },
  {
   "cell_type": "markdown",
   "id": "66e5bbe6",
   "metadata": {},
   "source": [
    "* 외부모듈 설치하기 : pip install 모듈명\n",
    "* 설치된 외부모듈 확인하기 : pip list"
   ]
  },
  {
   "cell_type": "code",
   "execution_count": null,
   "id": "adde806b",
   "metadata": {
    "scrolled": false
   },
   "outputs": [],
   "source": [
    "pip list"
   ]
  }
 ],
 "metadata": {
  "kernelspec": {
   "display_name": "Python 3 (ipykernel)",
   "language": "python",
   "name": "python3"
  },
  "language_info": {
   "codemirror_mode": {
    "name": "ipython",
    "version": 3
   },
   "file_extension": ".py",
   "mimetype": "text/x-python",
   "name": "python",
   "nbconvert_exporter": "python",
   "pygments_lexer": "ipython3",
   "version": "3.9.7"
  },
  "toc": {
   "base_numbering": 1,
   "nav_menu": {},
   "number_sections": true,
   "sideBar": true,
   "skip_h1_title": false,
   "title_cell": "Table of Contents",
   "title_sidebar": "Contents",
   "toc_cell": false,
   "toc_position": {
    "height": "calc(100% - 180px)",
    "left": "10px",
    "top": "150px",
    "width": "245.76px"
   },
   "toc_section_display": true,
   "toc_window_display": true
  }
 },
 "nbformat": 4,
 "nbformat_minor": 5
}
